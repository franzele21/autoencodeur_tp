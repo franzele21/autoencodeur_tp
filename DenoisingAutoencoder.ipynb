{
  "cells": [
    {
      "cell_type": "code",
      "execution_count": 36,
      "metadata": {
        "colab": {
          "base_uri": "https://localhost:8080/",
          "height": 35
        },
        "colab_type": "code",
        "id": "QbygB5YNKEMJ",
        "outputId": "cfca99ba-bbe3-48ed-9ed1-a5c189ad9469"
      },
      "outputs": [],
      "source": [
        "import numpy as np\n",
        "from keras.datasets import mnist\n",
        "import matplotlib.pyplot as plt\n",
        "from tqdm import tqdm\n",
        "from torchvision import transforms\n",
        "import torch.nn as nn\n",
        "from torch.utils.data import DataLoader,Dataset\n",
        "import torch\n",
        "import torch.optim as optim\n",
        "from torch.autograd import Variable\n",
        "\n",
        "import json\n",
        "import random\n",
        "from typing import Callable\n",
        "from sklearn.preprocessing import minmax_scale\n",
        "from sklearn.metrics import mean_squared_error\n",
        "from sklearn.model_selection import ParameterGrid"
      ]
    },
    {
      "cell_type": "markdown",
      "metadata": {},
      "source": [
        ">Justification des choix des données :\n",
        "\n",
        "Dans le dessein de mieux appréhender le fonctionnement des autoencodeurs et d'illustrer leur capacité générative, nous avons pris la décision de construire un ensemble de données exclusivement composé d'images représentant les chiffres 1 et 7 (MNIST Digits). Les chiffres 1 et 7 présentent des similitudes marquées dans leur écriture. En introduisant divers types de bruits (dont nous discuterons ultérieurement), il devient possible de constituer un ensemble de données très varié et d'entraîner un modèle robuste. Par souci de performance et de faisabilité logistique, nous avons restreint notre choix à deux chiffres (1 et 7). Cependant, une exploration ultérieure sera proposée, où nous inclurons quatre chiffres (8, 5, 3 et 9) présentant des similitudes significatives.\n",
        "\n",
        ">Justification des choix des bruits :\n",
        "\n",
        "Deux types de bruits sont déjà implémentés, à savoir le \"speckle\" et le \"gaussian\".\n",
        "- Le bruit speckle, également appelé bruit de chatoiement, fait référence à toute fluctuation parasite ou toute dégradation subie par une image depuis le moment de son acquisition jusqu'à son enregistrement. Ce bruit illustre un cas concret où l'image est capturée par un appareil numérique puis transmise au modèle, la présence de bruit étant inévitable. Ce type de bruit se distingue par sa capacité à séparer le premier plan de l'arrière-plan, ce qui met en valeur le chiffre tout en le dégradant.\n",
        "- Le bruit gaussien, en traitement du signal, est un bruit caractérisé par une densité de probabilité qui suit une distribution gaussienne (loi normale). Les principales sources de bruit gaussien dans les images numériques surviennent pendant l'acquisition, par exemple le bruit du capteur causé par un mauvais éclairage et/ou une température élevée. Ce bruit uniforme permet au modèle d'être plus résilient dans sa classification car il n'accentue pas le chiffre mais uniformise la dégradation de l'image.\n",
        "- Le bruit \"salt and pepper\", ou bruit sel ou poivre, correspond à une altération aléatoire subie par une image numérique, entraînant la modification de l'intensité de certains pixels (répartis de manière aléatoire dans l'image) jusqu'à atteindre la valeur minimale ou maximale de la plage dynamique du pixel, respectivement 0 et 255 dans le cas d'une image numérique codée en 8 bits. Ce type de bruit permet au modèle de traiter des valeurs extrêmes (0 ou 255).\n",
        "\n",
        "Chacun des bruits sera scalé avec un paramètre `scale` qui permet de modifier l'intensité de la présence du bruit dans l'image. En jouant sur les valeurs de ce paramètre nous pourront créer des données plus ou moins bruitées et donc tester les limites de robustesse de nos modèles ainsi que de leur capacité à apprendre même avec beaucoup de bruit.\n",
        "\n"
      ]
    },
    {
      "cell_type": "code",
      "execution_count": 2,
      "metadata": {
        "colab": {},
        "colab_type": "code",
        "id": "fbKtjNSyKclx"
      },
      "outputs": [],
      "source": [
        "\"\"\"\n",
        "Here we load the dataset, add gaussian,poisson,speckle\n",
        "\n",
        "    'gauss'     Gaussian-distributed additive noise.\n",
        "    'speckle'   Multiplicative noise using out = image + n*image,where\n",
        "                n is uniform noise with specified mean & variance.\n",
        "    'salt_and_pepper' Randomly chosen pixels that are converted in black or white based on a probability.\n",
        "    'scale' : the scale at which the noise is present in the image. It allows to create images with little to no noise and images with a lot of noise (for model robustness).\n",
        "                \n",
        "We define a function that adds each noise when called from main function\n",
        "Input & Output: np array\n",
        "\"\"\"\n",
        "\n",
        "def add_noise(img, noise_type=\"gaussian\", scale=0.5):\n",
        "  row, col = 28, 28\n",
        "  img = img.astype(np.float32)\n",
        "\n",
        "  match noise_type:\n",
        "    case \"gaussian\":\n",
        "      mean  = 0\n",
        "      var   = 0.01\n",
        "      sigma = var**.5\n",
        "      noise = np.random.normal(mean, sigma, img.shape)\n",
        "      noise = noise.reshape(row, col)\n",
        "      img   = img + (noise*scale)\n",
        "      return img\n",
        "     \n",
        "    case \"speckle\" :\n",
        "      noise = np.random.randn(row, col)\n",
        "      noise = noise.reshape(row, col)\n",
        "      img   = img + (img*noise*scale)\n",
        "      return img\n",
        "     \n",
        "    case \"salt_pepper\" :\n",
        "      prob = 0.4*scale # 1/4 is the base probability of a pixel being transformed. It is scaled down or up with the scale parameter\n",
        "      output = img.copy()\n",
        "      if len(img.shape) == 2:\n",
        "          black = 0\n",
        "          white = 1\n",
        "        \n",
        "      probs = np.random.random(output.shape[:2])\n",
        "      output[probs < (prob/2)] = black\n",
        "      output[probs > 1-(prob/2)] = white\n",
        "      return output     \n",
        "    case _:\n",
        "      return img\n"
      ]
    },
    {
      "cell_type": "code",
      "execution_count": 3,
      "metadata": {},
      "outputs": [],
      "source": [
        "mnist_ = mnist.load_data()\n",
        "\n",
        "train_mask = (mnist_[0][1] == 1) | (mnist_[0][1] == 7)\n",
        "test_mask = (mnist_[1][1] == 1) | (mnist_[1][1] == 7)\n",
        "\n",
        "(xtrain, ytrain) = mnist_[0][0][train_mask], mnist_[0][1][train_mask]\n",
        "(xtest, ytest) = mnist_[1][0][test_mask], mnist_[1][1][test_mask]"
      ]
    },
    {
      "cell_type": "code",
      "execution_count": 4,
      "metadata": {},
      "outputs": [],
      "source": [
        "xtrain = np.array([minmax_scale(x) for x in xtrain])\n",
        "xtest = np.array([minmax_scale(x) for x in xtest])"
      ]
    },
    {
      "cell_type": "code",
      "execution_count": 5,
      "metadata": {},
      "outputs": [
        {
          "data": {
            "text/plain": [
              "<matplotlib.image.AxesImage at 0x741a535788b0>"
            ]
          },
          "execution_count": 5,
          "metadata": {},
          "output_type": "execute_result"
        },
        {
          "data": {
            "image/png": "[encoded data removed]",
            "text/plain": [
              "<Figure size 432x288 with 1 Axes>"
            ]
          },
          "metadata": {
            "needs_background": "light"
          },
          "output_type": "display_data"
        }
      ],
      "source": [
        "plt.imshow(xtrain[6].reshape((28, 28)))"
      ]
    },
    {
      "cell_type": "code",
      "execution_count": 6,
      "metadata": {
        "colab": {
          "base_uri": "https://localhost:8080/",
          "height": 87
        },
        "colab_type": "code",
        "id": "crPgb8VXOceY",
        "outputId": "ada9c8c1-4bbc-4880-ca46-cfa504885fe9"
      },
      "outputs": [
        {
          "name": "stdout",
          "output_type": "stream",
          "text": [
            "No of training datapoints:13007\n",
            "No of Test datapoints:2163\n"
          ]
        }
      ],
      "source": [
        "print(\"No of training datapoints:{}\\nNo of Test datapoints:{}\".format(len(xtrain), len(xtest)))"
      ]
    },
    {
      "cell_type": "code",
      "execution_count": 7,
      "metadata": {
        "colab": {
          "base_uri": "https://localhost:8080/",
          "height": 191
        },
        "colab_type": "code",
        "id": "7kq9PiLARTic",
        "outputId": "480e62e7-4ed2-4278-c47c-f7770accaad2"
      },
      "outputs": [
        {
          "name": "stderr",
          "output_type": "stream",
          "text": [
            "100%|██████████| 13007/13007 [00:00<00:00, 34073.94it/s]\n"
          ]
        },
        {
          "name": "stdout",
          "output_type": "stream",
          "text": [
            "\n",
            "gaussian noise addition completed to images\n",
            "\n",
            "speckle noise addition completed to images\n",
            "\n",
            "salt_pepper noise addition completed to images\n"
          ]
        },
        {
          "name": "stderr",
          "output_type": "stream",
          "text": [
            "100%|██████████| 2163/2163 [00:00<00:00, 39369.55it/s]"
          ]
        },
        {
          "name": "stdout",
          "output_type": "stream",
          "text": [
            "\n",
            "gaussian noise addition completed to images\n",
            "\n",
            "speckle noise addition completed to images\n",
            "\n",
            "salt_pepper noise addition completed to images\n"
          ]
        },
        {
          "name": "stderr",
          "output_type": "stream",
          "text": [
            "\n"
          ]
        }
      ],
      "source": [
        "\"\"\"\n",
        "From here onwards,we split the 60k training datapoints into 3 sets each given one type of each noise.\n",
        "We shuffle them for better generalization.\n",
        "\"\"\"\n",
        "noises = [\"gaussian\", \"speckle\", \"salt_pepper\"]\n",
        "noise_ct = 0\n",
        "noise_id = 0\n",
        "traindata = np.zeros((len(xtrain), 28, 28))\n",
        "\n",
        "\n",
        "for idx in tqdm(range(len(xtrain))):\n",
        "  if noise_ct < len(xtrain)/3:\n",
        "    noise_ct += 1\n",
        "    traindata[idx] = add_noise(xtrain[idx], noise_type=noises[noise_id], scale=1)\n",
        "  else:\n",
        "    print(\"\\n{} noise addition completed to images\".format(noises[noise_id]))\n",
        "    noise_id += 1\n",
        "    noise_ct = 0\n",
        "\n",
        "\n",
        "print(\"\\n{} noise addition completed to images\".format(noises[noise_id])) \n",
        "\n",
        "\n",
        "noise_ct = 0\n",
        "noise_id = 0\n",
        "testdata = np.zeros((10000, 28, 28))\n",
        "\n",
        "for idx in tqdm(range(len(xtest))):\n",
        "  if noise_ct < len(xtest)/3:\n",
        "    noise_ct += 1\n",
        "    x = add_noise(xtest[idx], noise_type=noises[noise_id])\n",
        "    testdata[idx] = x\n",
        "    \n",
        "  else:\n",
        "    print(\"\\n{} noise addition completed to images\".format(noises[noise_id]))\n",
        "    noise_id += 1\n",
        "    noise_ct = 0\n",
        "\n",
        "print(\"\\n{} noise addition completed to images\".format(noises[noise_id]))    \n",
        "  "
      ]
    },
    {
      "cell_type": "code",
      "execution_count": 8,
      "metadata": {
        "colab": {},
        "colab_type": "code",
        "id": "D5WxFXykKB0z"
      },
      "outputs": [
        {
          "data": {
            "text/plain": [
              "<matplotlib.image.AxesImage at 0x741a4f672650>"
            ]
          },
          "execution_count": 8,
          "metadata": {},
          "output_type": "execute_result"
        },
        {
          "data": {
            "image/png": "[encoded data removed]",
            "text/plain": [
              "<Figure size 432x288 with 1 Axes>"
            ]
          },
          "metadata": {
            "needs_background": "light"
          },
          "output_type": "display_data"
        }
      ],
      "source": [
        "plt.imshow(traindata[5000], cmap=\"gray\")"
      ]
    },
    {
      "cell_type": "code",
      "execution_count": 9,
      "metadata": {
        "colab": {
          "base_uri": "https://localhost:8080/",
          "height": 299
        },
        "colab_type": "code",
        "id": "r1PruBRYUmYZ",
        "outputId": "78712c1a-755a-433a-cc34-4b501a2fad5a"
      },
      "outputs": [
        {
          "data": {
            "image/png": "[encoded data removed]",
            "text/plain": [
              "<Figure size 432x288 with 6 Axes>"
            ]
          },
          "metadata": {
            "needs_background": "light"
          },
          "output_type": "display_data"
        }
      ],
      "source": [
        "\"\"\"\n",
        "Here we Try to visualize, each type of noise that was introduced in the images\n",
        "Along with their original versions\n",
        "\n",
        "\"\"\"\n",
        "\n",
        "f, axes=plt.subplots(2,3)\n",
        "\n",
        "#showing images with gaussian noise\n",
        "axes[0,0].imshow(xtrain[0], cmap=\"gray\")\n",
        "axes[0,0].set_title(\"Original Image\")\n",
        "axes[1,0].imshow(traindata[0], cmap='gray')\n",
        "axes[1,0].set_title(\"Gaussian Noised Image\")\n",
        "\n",
        "#showing images with salt and pepper noise\n",
        "axes[0,1].imshow(xtrain[13000], cmap='gray')\n",
        "axes[0,1].set_title(\"Original Image\")\n",
        "axes[1,1].imshow(traindata[13000], cmap=\"gray\")\n",
        "axes[1,1].set_title(\"S&P Noised Image\")\n",
        "\n",
        "#showing imags with the speckle noise\n",
        "axes[0,2].imshow(xtrain[5000], cmap='gray')\n",
        "axes[0,2].set_title(\"Original Image\")\n",
        "axes[1,2].imshow(traindata[5000], cmap=\"gray\")\n",
        "axes[1,2].set_title(\"Speckle Noised Image\")\n",
        "\n",
        "plt.tight_layout()"
      ]
    },
    {
      "cell_type": "code",
      "execution_count": 10,
      "metadata": {
        "colab": {},
        "colab_type": "code",
        "id": "Vfchnr-E_kka"
      },
      "outputs": [],
      "source": [
        "class noisedDataset(Dataset):\n",
        "  def __init__(self, \n",
        "               datasetnoised: np.ndarray, \n",
        "               datasetclean: np.ndarray, \n",
        "               labels: np.ndarray,\n",
        "               transform: Callable):\n",
        "    self.noise = datasetnoised\n",
        "    self.clean = datasetclean\n",
        "    self.labels = labels\n",
        "    self.transform = transform\n",
        "  \n",
        "  def __len__(self):\n",
        "    return len(self.noise)\n",
        "  \n",
        "  def __getitem__(self, idx):\n",
        "    xNoise = self.noise[idx]\n",
        "    xClean = self.clean[idx]\n",
        "    y = self.labels[idx]\n",
        "    \n",
        "    if self.transform != None:\n",
        "      xNoise = self.transform(xNoise)\n",
        "      xClean = self.transform(xClean)\n",
        "\n",
        "    return (xNoise, xClean, y)\n",
        "    "
      ]
    },
    {
      "cell_type": "code",
      "execution_count": 11,
      "metadata": {
        "colab": {},
        "colab_type": "code",
        "id": "HyzkdVVUC6ps"
      },
      "outputs": [],
      "source": [
        "tsfms = transforms.Compose([\n",
        "    transforms.ToTensor()\n",
        "])\n",
        "\n",
        "trainset = noisedDataset(traindata, xtrain, ytrain, tsfms)\n",
        "testset = noisedDataset(testdata, xtest, ytest, tsfms)"
      ]
    },
    {
      "cell_type": "code",
      "execution_count": 13,
      "metadata": {
        "colab": {},
        "colab_type": "code",
        "id": "vTQ_iF1fXxC8"
      },
      "outputs": [],
      "source": [
        "\"\"\"\n",
        "Here , we create the trainloaders and testloaders.\n",
        "Also, we transform the images using standard lib functions\n",
        "\"\"\"\n",
        "\n",
        "trainloader = DataLoader(trainset, batch_size=32, shuffle=True)\n",
        "testloader  = DataLoader(testset, batch_size=1, shuffle=True)"
      ]
    },
    {
      "cell_type": "code",
      "execution_count": 45,
      "metadata": {
        "colab": {},
        "colab_type": "code",
        "id": "1P60Cuv7pQO6"
      },
      "outputs": [],
      "source": [
        "\"\"\"\n",
        "Here, we define the autoencoder model.\n",
        "\"\"\"\n",
        "\n",
        "class denoising_model(nn.Module):\n",
        "  \"\"\"\n",
        "  Autoencodeur, capable d'être personnalisé au niveau du nombre de neurones dans la / les couche(s) cachée(s) et au nombre de couches cachées.\n",
        "\n",
        "  Paramètres :\n",
        "  ------------\n",
        "  `hidden_layer_nb`: int (default=1)  \n",
        "    Nombre de couche cachées\n",
        "  `hidden_size`: int (default=256)\n",
        "    Nombre de neurones dans chaque couche de la couche cachée\n",
        "  `latent_size`: int (default=64)  \n",
        "    Nombre de neurone dans la zone latente\n",
        "  \"\"\"\n",
        "  def __init__(self, hidden_layer_nb=1, hidden_size = 256, latent_size=64, img_size=28*28):\n",
        "    super(denoising_model,self).__init__()\n",
        "\n",
        "    self.latent_size = latent_size\n",
        "\n",
        "    encode_sequence_input = [nn.Linear(img_size, hidden_size), nn.ReLU()]\n",
        "    encode_sequence_output = [nn.Linear(hidden_size, latent_size), nn.ReLU()]\n",
        "    encode_sequence_hidden = []\n",
        "    for i in range(hidden_layer_nb):\n",
        "      encode_sequence_hidden.append(nn.Linear(hidden_size, hidden_size))\n",
        "      encode_sequence_hidden.append(nn.ReLU())\n",
        "\n",
        "    encode_sequence = encode_sequence_input + encode_sequence_hidden + encode_sequence_output\n",
        "        \n",
        "    self.encoder = nn.Sequential(\n",
        "      *encode_sequence\n",
        "    )\n",
        "\n",
        "    decode_sequence_input = [nn.Linear(latent_size, hidden_size), nn.ReLU()]\n",
        "    decode_sequence_output = [nn.Linear(hidden_size, img_size), nn.Sigmoid()]\n",
        "    decode_sequence_hidden = []\n",
        "    for i in range(hidden_layer_nb):\n",
        "      decode_sequence_hidden.append(nn.Linear(hidden_size, hidden_size))\n",
        "      decode_sequence_hidden.append(nn.ReLU())\n",
        "\n",
        "    decode_sequence = decode_sequence_input + decode_sequence_hidden + decode_sequence_output\n",
        "\n",
        "    self.decoder = nn.Sequential(\n",
        "      *decode_sequence\n",
        "    )\n",
        "\n",
        "  def get_latent_size(self):\n",
        "    return self.latent_size\n",
        "\n",
        "  def encode(self, x):\n",
        "    return self.encoder(x)\n",
        " \n",
        "  def forward(self, x):\n",
        "    x = self.encoder(x)\n",
        "    x = self.decoder(x)\n",
        "    \n",
        "    return x"
      ]
    },
    {
      "cell_type": "code",
      "execution_count": 15,
      "metadata": {},
      "outputs": [],
      "source": [
        "#We check whether cuda is available and choose device accordingly\n",
        "if torch.cuda.is_available() == True:\n",
        "  device = \"cuda:0\"\n",
        "else:\n",
        "  device = \"cpu\""
      ]
    },
    {
      "cell_type": "code",
      "execution_count": 16,
      "metadata": {},
      "outputs": [],
      "source": [
        "model = denoising_model(hidden_layer_nb=2).to(device)\n",
        "criterion = nn.MSELoss()\n",
        "optimizer = optim.Adam(model.parameters(), lr=0.01, weight_decay=1e-5)"
      ]
    },
    {
      "cell_type": "code",
      "execution_count": 17,
      "metadata": {},
      "outputs": [
        {
          "name": "stdout",
          "output_type": "stream",
          "text": [
            "denoising_model(\n",
            "  (encoder): Sequential(\n",
            "    (0): Linear(in_features=784, out_features=256, bias=True)\n",
            "    (1): ReLU()\n",
            "    (2): Linear(in_features=256, out_features=256, bias=True)\n",
            "    (3): ReLU()\n",
            "    (4): Linear(in_features=256, out_features=256, bias=True)\n",
            "    (5): ReLU()\n",
            "    (6): Linear(in_features=256, out_features=64, bias=True)\n",
            "    (7): ReLU()\n",
            "  )\n",
            "  (decoder): Sequential(\n",
            "    (0): Linear(in_features=64, out_features=256, bias=True)\n",
            "    (1): ReLU()\n",
            "    (2): Linear(in_features=256, out_features=256, bias=True)\n",
            "    (3): ReLU()\n",
            "    (4): Linear(in_features=256, out_features=256, bias=True)\n",
            "    (5): ReLU()\n",
            "    (6): Linear(in_features=256, out_features=784, bias=True)\n",
            "    (7): Sigmoid()\n",
            "  )\n",
            ")\n"
          ]
        }
      ],
      "source": [
        "print(model)"
      ]
    },
    {
      "cell_type": "code",
      "execution_count": 53,
      "metadata": {},
      "outputs": [],
      "source": [
        "def train_test(\n",
        "        model: torch.nn.Module, \n",
        "        optimizer: torch.optim.Optimizer, \n",
        "        criterion: torch.nn.Module, \n",
        "        epochs: int,\n",
        "        device: str,\n",
        "        trainloader: torch.utils.data.DataLoader, \n",
        "        testset: torch.utils.data.Dataset):\n",
        "    \"\"\"\n",
        "    Fonction pour entraîner / tester un modèle.\n",
        "\n",
        "    Parameters:\n",
        "    -----------\n",
        "    model : torch.nn.Module\n",
        "        Le modèle à entraîner.\n",
        "    optimizer : torch.optim.Optimizer\n",
        "        L'optimiseur utilisé pour la mise à jour des poids du modèle.\n",
        "    criterion : torch.nn.Module\n",
        "        La fonction de perte utilisée pour évaluer la différence entre les prédictions et les vraies étiquettes.\n",
        "    epochs : int\n",
        "        Le nombre d'époques d'entraînement.\n",
        "    device : str\n",
        "        L'appareil sur lequel exécuter l'entraînement, par exemple 'cuda' pour GPU ou 'cpu' pour CPU.\n",
        "    trainloader : torch.utils.data.DataLoader\n",
        "        Le DataLoader contenant les données d'entraînement.\n",
        "    testset : torch.utils.data.Dataset\n",
        "        Le jeu de données de test utilisé pour évaluer le modèle après chaque époque.\n",
        "\n",
        "    Returns:\n",
        "    --------\n",
        "    true_error : float\n",
        "        L'erreur moyenne quadratique sur le jeu de données de test.\n",
        "    losslist : list\n",
        "        Liste des valeurs de la fonction de perte moyenne sur les données d'entraînement pour chaque époque.\n",
        "    \"\"\"\n",
        "    model.train()\n",
        "    losslist = []\n",
        "    for epoch in tqdm(range(epochs)):\n",
        "        running_loss = 0\n",
        "        for dirty, clean, label in trainloader:  \n",
        "            \n",
        "            dirty = dirty.view(dirty.size(0), -1).type(torch.FloatTensor)\n",
        "            clean = clean.view(clean.size(0), -1).type(torch.FloatTensor)\n",
        "            dirty, clean = dirty.to(device), clean.to(device)\n",
        "\n",
        "            optimizer.zero_grad()\n",
        "\n",
        "            # Forward pass\n",
        "            output = model.forward(dirty)\n",
        "            loss = criterion(output, clean)\n",
        "\n",
        "            # Rétropropagation\n",
        "            loss.backward()\n",
        "            optimizer.step()\n",
        "            \n",
        "            running_loss += loss.item()\n",
        "\n",
        "        # Calcul de la perte moyenne pour cette époque\n",
        "        losslist.append(running_loss/len(trainloader))\n",
        "\n",
        "    # Calcul de l'erreur moyenne quadratique sur le jeu de données de test\n",
        "    true_error = 0\n",
        "    for test in testset:\n",
        "        true_error += mean_squared_error(test.flatten(), model(torch.tensor(test.flatten()).type(torch.FloatTensor)).detach())\n",
        "    true_error /= len(testset)\n",
        "\n",
        "    return true_error, losslist"
      ]
    },
    {
      "cell_type": "code",
      "execution_count": 46,
      "metadata": {},
      "outputs": [
        {
          "name": "stderr",
          "output_type": "stream",
          "text": [
            " 14%|█▍        | 17/120 [02:54<17:36, 10.26s/it]\n"
          ]
        },
        {
          "ename": "KeyboardInterrupt",
          "evalue": "",
          "output_type": "error",
          "traceback": [
            "\u001b[0;31m---------------------------------------------------------------------------\u001b[0m",
            "\u001b[0;31mKeyboardInterrupt\u001b[0m                         Traceback (most recent call last)",
            "Cell \u001b[0;32mIn[46], line 1\u001b[0m\n\u001b[0;32m----> 1\u001b[0m \u001b[43mtrain_test\u001b[49m\u001b[43m(\u001b[49m\u001b[43mmodel\u001b[49m\u001b[43m,\u001b[49m\u001b[43m \u001b[49m\u001b[43moptimizer\u001b[49m\u001b[43m,\u001b[49m\u001b[43m \u001b[49m\u001b[43mcriterion\u001b[49m\u001b[43m,\u001b[49m\u001b[43m \u001b[49m\u001b[38;5;241;43m120\u001b[39;49m\u001b[43m,\u001b[49m\u001b[43m \u001b[49m\u001b[43mdevice\u001b[49m\u001b[43m,\u001b[49m\u001b[43m \u001b[49m\u001b[43mtrainloader\u001b[49m\u001b[43m,\u001b[49m\u001b[43m \u001b[49m\u001b[43mtestdata\u001b[49m\u001b[43m)\u001b[49m\n",
            "Cell \u001b[0;32mIn[45], line 53\u001b[0m, in \u001b[0;36mtrain_test\u001b[0;34m(model, optimizer, criterion, epochs, device, trainloader, testset)\u001b[0m\n\u001b[1;32m     51\u001b[0m     \u001b[38;5;66;03m# Rétropropagation\u001b[39;00m\n\u001b[1;32m     52\u001b[0m     loss\u001b[38;5;241m.\u001b[39mbackward()\n\u001b[0;32m---> 53\u001b[0m     \u001b[43moptimizer\u001b[49m\u001b[38;5;241;43m.\u001b[39;49m\u001b[43mstep\u001b[49m\u001b[43m(\u001b[49m\u001b[43m)\u001b[49m\n\u001b[1;32m     55\u001b[0m     running_loss \u001b[38;5;241m+\u001b[39m\u001b[38;5;241m=\u001b[39m loss\u001b[38;5;241m.\u001b[39mitem()\n\u001b[1;32m     57\u001b[0m \u001b[38;5;66;03m# Calcul de la perte moyenne pour cette époque\u001b[39;00m\n",
            "File \u001b[0;32m~/.local/lib/python3.10/site-packages/torch/optim/optimizer.py:385\u001b[0m, in \u001b[0;36mOptimizer.profile_hook_step.<locals>.wrapper\u001b[0;34m(*args, **kwargs)\u001b[0m\n\u001b[1;32m    380\u001b[0m         \u001b[38;5;28;01melse\u001b[39;00m:\n\u001b[1;32m    381\u001b[0m             \u001b[38;5;28;01mraise\u001b[39;00m \u001b[38;5;167;01mRuntimeError\u001b[39;00m(\n\u001b[1;32m    382\u001b[0m                 \u001b[38;5;124mf\u001b[39m\u001b[38;5;124m\"\u001b[39m\u001b[38;5;132;01m{\u001b[39;00mfunc\u001b[38;5;132;01m}\u001b[39;00m\u001b[38;5;124m must return None or a tuple of (new_args, new_kwargs), but got \u001b[39m\u001b[38;5;132;01m{\u001b[39;00mresult\u001b[38;5;132;01m}\u001b[39;00m\u001b[38;5;124m.\u001b[39m\u001b[38;5;124m\"\u001b[39m\n\u001b[1;32m    383\u001b[0m             )\n\u001b[0;32m--> 385\u001b[0m out \u001b[38;5;241m=\u001b[39m \u001b[43mfunc\u001b[49m\u001b[43m(\u001b[49m\u001b[38;5;241;43m*\u001b[39;49m\u001b[43margs\u001b[49m\u001b[43m,\u001b[49m\u001b[43m \u001b[49m\u001b[38;5;241;43m*\u001b[39;49m\u001b[38;5;241;43m*\u001b[39;49m\u001b[43mkwargs\u001b[49m\u001b[43m)\u001b[49m\n\u001b[1;32m    386\u001b[0m \u001b[38;5;28mself\u001b[39m\u001b[38;5;241m.\u001b[39m_optimizer_step_code()\n\u001b[1;32m    388\u001b[0m \u001b[38;5;66;03m# call optimizer step post hooks\u001b[39;00m\n",
            "File \u001b[0;32m~/.local/lib/python3.10/site-packages/torch/optim/optimizer.py:76\u001b[0m, in \u001b[0;36m_use_grad_for_differentiable.<locals>._use_grad\u001b[0;34m(self, *args, **kwargs)\u001b[0m\n\u001b[1;32m     74\u001b[0m     torch\u001b[38;5;241m.\u001b[39mset_grad_enabled(\u001b[38;5;28mself\u001b[39m\u001b[38;5;241m.\u001b[39mdefaults[\u001b[38;5;124m'\u001b[39m\u001b[38;5;124mdifferentiable\u001b[39m\u001b[38;5;124m'\u001b[39m])\n\u001b[1;32m     75\u001b[0m     torch\u001b[38;5;241m.\u001b[39m_dynamo\u001b[38;5;241m.\u001b[39mgraph_break()\n\u001b[0;32m---> 76\u001b[0m     ret \u001b[38;5;241m=\u001b[39m \u001b[43mfunc\u001b[49m\u001b[43m(\u001b[49m\u001b[38;5;28;43mself\u001b[39;49m\u001b[43m,\u001b[49m\u001b[43m \u001b[49m\u001b[38;5;241;43m*\u001b[39;49m\u001b[43margs\u001b[49m\u001b[43m,\u001b[49m\u001b[43m \u001b[49m\u001b[38;5;241;43m*\u001b[39;49m\u001b[38;5;241;43m*\u001b[39;49m\u001b[43mkwargs\u001b[49m\u001b[43m)\u001b[49m\n\u001b[1;32m     77\u001b[0m \u001b[38;5;28;01mfinally\u001b[39;00m:\n\u001b[1;32m     78\u001b[0m     torch\u001b[38;5;241m.\u001b[39m_dynamo\u001b[38;5;241m.\u001b[39mgraph_break()\n",
            "File \u001b[0;32m~/.local/lib/python3.10/site-packages/torch/optim/adam.py:166\u001b[0m, in \u001b[0;36mAdam.step\u001b[0;34m(self, closure)\u001b[0m\n\u001b[1;32m    155\u001b[0m     beta1, beta2 \u001b[38;5;241m=\u001b[39m group[\u001b[38;5;124m'\u001b[39m\u001b[38;5;124mbetas\u001b[39m\u001b[38;5;124m'\u001b[39m]\n\u001b[1;32m    157\u001b[0m     has_complex \u001b[38;5;241m=\u001b[39m \u001b[38;5;28mself\u001b[39m\u001b[38;5;241m.\u001b[39m_init_group(\n\u001b[1;32m    158\u001b[0m         group,\n\u001b[1;32m    159\u001b[0m         params_with_grad,\n\u001b[0;32m   (...)\u001b[0m\n\u001b[1;32m    163\u001b[0m         max_exp_avg_sqs,\n\u001b[1;32m    164\u001b[0m         state_steps)\n\u001b[0;32m--> 166\u001b[0m     \u001b[43madam\u001b[49m\u001b[43m(\u001b[49m\n\u001b[1;32m    167\u001b[0m \u001b[43m        \u001b[49m\u001b[43mparams_with_grad\u001b[49m\u001b[43m,\u001b[49m\n\u001b[1;32m    168\u001b[0m \u001b[43m        \u001b[49m\u001b[43mgrads\u001b[49m\u001b[43m,\u001b[49m\n\u001b[1;32m    169\u001b[0m \u001b[43m        \u001b[49m\u001b[43mexp_avgs\u001b[49m\u001b[43m,\u001b[49m\n\u001b[1;32m    170\u001b[0m \u001b[43m        \u001b[49m\u001b[43mexp_avg_sqs\u001b[49m\u001b[43m,\u001b[49m\n\u001b[1;32m    171\u001b[0m \u001b[43m        \u001b[49m\u001b[43mmax_exp_avg_sqs\u001b[49m\u001b[43m,\u001b[49m\n\u001b[1;32m    172\u001b[0m \u001b[43m        \u001b[49m\u001b[43mstate_steps\u001b[49m\u001b[43m,\u001b[49m\n\u001b[1;32m    173\u001b[0m \u001b[43m        \u001b[49m\u001b[43mamsgrad\u001b[49m\u001b[38;5;241;43m=\u001b[39;49m\u001b[43mgroup\u001b[49m\u001b[43m[\u001b[49m\u001b[38;5;124;43m'\u001b[39;49m\u001b[38;5;124;43mamsgrad\u001b[39;49m\u001b[38;5;124;43m'\u001b[39;49m\u001b[43m]\u001b[49m\u001b[43m,\u001b[49m\n\u001b[1;32m    174\u001b[0m \u001b[43m        \u001b[49m\u001b[43mhas_complex\u001b[49m\u001b[38;5;241;43m=\u001b[39;49m\u001b[43mhas_complex\u001b[49m\u001b[43m,\u001b[49m\n\u001b[1;32m    175\u001b[0m \u001b[43m        \u001b[49m\u001b[43mbeta1\u001b[49m\u001b[38;5;241;43m=\u001b[39;49m\u001b[43mbeta1\u001b[49m\u001b[43m,\u001b[49m\n\u001b[1;32m    176\u001b[0m \u001b[43m        \u001b[49m\u001b[43mbeta2\u001b[49m\u001b[38;5;241;43m=\u001b[39;49m\u001b[43mbeta2\u001b[49m\u001b[43m,\u001b[49m\n\u001b[1;32m    177\u001b[0m \u001b[43m        \u001b[49m\u001b[43mlr\u001b[49m\u001b[38;5;241;43m=\u001b[39;49m\u001b[43mgroup\u001b[49m\u001b[43m[\u001b[49m\u001b[38;5;124;43m'\u001b[39;49m\u001b[38;5;124;43mlr\u001b[39;49m\u001b[38;5;124;43m'\u001b[39;49m\u001b[43m]\u001b[49m\u001b[43m,\u001b[49m\n\u001b[1;32m    178\u001b[0m \u001b[43m        \u001b[49m\u001b[43mweight_decay\u001b[49m\u001b[38;5;241;43m=\u001b[39;49m\u001b[43mgroup\u001b[49m\u001b[43m[\u001b[49m\u001b[38;5;124;43m'\u001b[39;49m\u001b[38;5;124;43mweight_decay\u001b[39;49m\u001b[38;5;124;43m'\u001b[39;49m\u001b[43m]\u001b[49m\u001b[43m,\u001b[49m\n\u001b[1;32m    179\u001b[0m \u001b[43m        \u001b[49m\u001b[43meps\u001b[49m\u001b[38;5;241;43m=\u001b[39;49m\u001b[43mgroup\u001b[49m\u001b[43m[\u001b[49m\u001b[38;5;124;43m'\u001b[39;49m\u001b[38;5;124;43meps\u001b[39;49m\u001b[38;5;124;43m'\u001b[39;49m\u001b[43m]\u001b[49m\u001b[43m,\u001b[49m\n\u001b[1;32m    180\u001b[0m \u001b[43m        \u001b[49m\u001b[43mmaximize\u001b[49m\u001b[38;5;241;43m=\u001b[39;49m\u001b[43mgroup\u001b[49m\u001b[43m[\u001b[49m\u001b[38;5;124;43m'\u001b[39;49m\u001b[38;5;124;43mmaximize\u001b[39;49m\u001b[38;5;124;43m'\u001b[39;49m\u001b[43m]\u001b[49m\u001b[43m,\u001b[49m\n\u001b[1;32m    181\u001b[0m \u001b[43m        \u001b[49m\u001b[43mforeach\u001b[49m\u001b[38;5;241;43m=\u001b[39;49m\u001b[43mgroup\u001b[49m\u001b[43m[\u001b[49m\u001b[38;5;124;43m'\u001b[39;49m\u001b[38;5;124;43mforeach\u001b[39;49m\u001b[38;5;124;43m'\u001b[39;49m\u001b[43m]\u001b[49m\u001b[43m,\u001b[49m\n\u001b[1;32m    182\u001b[0m \u001b[43m        \u001b[49m\u001b[43mcapturable\u001b[49m\u001b[38;5;241;43m=\u001b[39;49m\u001b[43mgroup\u001b[49m\u001b[43m[\u001b[49m\u001b[38;5;124;43m'\u001b[39;49m\u001b[38;5;124;43mcapturable\u001b[39;49m\u001b[38;5;124;43m'\u001b[39;49m\u001b[43m]\u001b[49m\u001b[43m,\u001b[49m\n\u001b[1;32m    183\u001b[0m \u001b[43m        \u001b[49m\u001b[43mdifferentiable\u001b[49m\u001b[38;5;241;43m=\u001b[39;49m\u001b[43mgroup\u001b[49m\u001b[43m[\u001b[49m\u001b[38;5;124;43m'\u001b[39;49m\u001b[38;5;124;43mdifferentiable\u001b[39;49m\u001b[38;5;124;43m'\u001b[39;49m\u001b[43m]\u001b[49m\u001b[43m,\u001b[49m\n\u001b[1;32m    184\u001b[0m \u001b[43m        \u001b[49m\u001b[43mfused\u001b[49m\u001b[38;5;241;43m=\u001b[39;49m\u001b[43mgroup\u001b[49m\u001b[43m[\u001b[49m\u001b[38;5;124;43m'\u001b[39;49m\u001b[38;5;124;43mfused\u001b[39;49m\u001b[38;5;124;43m'\u001b[39;49m\u001b[43m]\u001b[49m\u001b[43m,\u001b[49m\n\u001b[1;32m    185\u001b[0m \u001b[43m        \u001b[49m\u001b[43mgrad_scale\u001b[49m\u001b[38;5;241;43m=\u001b[39;49m\u001b[38;5;28;43mgetattr\u001b[39;49m\u001b[43m(\u001b[49m\u001b[38;5;28;43mself\u001b[39;49m\u001b[43m,\u001b[49m\u001b[43m \u001b[49m\u001b[38;5;124;43m\"\u001b[39;49m\u001b[38;5;124;43mgrad_scale\u001b[39;49m\u001b[38;5;124;43m\"\u001b[39;49m\u001b[43m,\u001b[49m\u001b[43m \u001b[49m\u001b[38;5;28;43;01mNone\u001b[39;49;00m\u001b[43m)\u001b[49m\u001b[43m,\u001b[49m\n\u001b[1;32m    186\u001b[0m \u001b[43m        \u001b[49m\u001b[43mfound_inf\u001b[49m\u001b[38;5;241;43m=\u001b[39;49m\u001b[38;5;28;43mgetattr\u001b[39;49m\u001b[43m(\u001b[49m\u001b[38;5;28;43mself\u001b[39;49m\u001b[43m,\u001b[49m\u001b[43m \u001b[49m\u001b[38;5;124;43m\"\u001b[39;49m\u001b[38;5;124;43mfound_inf\u001b[39;49m\u001b[38;5;124;43m\"\u001b[39;49m\u001b[43m,\u001b[49m\u001b[43m \u001b[49m\u001b[38;5;28;43;01mNone\u001b[39;49;00m\u001b[43m)\u001b[49m\u001b[43m,\u001b[49m\n\u001b[1;32m    187\u001b[0m \u001b[43m    \u001b[49m\u001b[43m)\u001b[49m\n\u001b[1;32m    189\u001b[0m \u001b[38;5;28;01mreturn\u001b[39;00m loss\n",
            "File \u001b[0;32m~/.local/lib/python3.10/site-packages/torch/optim/adam.py:316\u001b[0m, in \u001b[0;36madam\u001b[0;34m(params, grads, exp_avgs, exp_avg_sqs, max_exp_avg_sqs, state_steps, foreach, capturable, differentiable, fused, grad_scale, found_inf, has_complex, amsgrad, beta1, beta2, lr, weight_decay, eps, maximize)\u001b[0m\n\u001b[1;32m    313\u001b[0m \u001b[38;5;28;01melse\u001b[39;00m:\n\u001b[1;32m    314\u001b[0m     func \u001b[38;5;241m=\u001b[39m _single_tensor_adam\n\u001b[0;32m--> 316\u001b[0m \u001b[43mfunc\u001b[49m\u001b[43m(\u001b[49m\u001b[43mparams\u001b[49m\u001b[43m,\u001b[49m\n\u001b[1;32m    317\u001b[0m \u001b[43m     \u001b[49m\u001b[43mgrads\u001b[49m\u001b[43m,\u001b[49m\n\u001b[1;32m    318\u001b[0m \u001b[43m     \u001b[49m\u001b[43mexp_avgs\u001b[49m\u001b[43m,\u001b[49m\n\u001b[1;32m    319\u001b[0m \u001b[43m     \u001b[49m\u001b[43mexp_avg_sqs\u001b[49m\u001b[43m,\u001b[49m\n\u001b[1;32m    320\u001b[0m \u001b[43m     \u001b[49m\u001b[43mmax_exp_avg_sqs\u001b[49m\u001b[43m,\u001b[49m\n\u001b[1;32m    321\u001b[0m \u001b[43m     \u001b[49m\u001b[43mstate_steps\u001b[49m\u001b[43m,\u001b[49m\n\u001b[1;32m    322\u001b[0m \u001b[43m     \u001b[49m\u001b[43mamsgrad\u001b[49m\u001b[38;5;241;43m=\u001b[39;49m\u001b[43mamsgrad\u001b[49m\u001b[43m,\u001b[49m\n\u001b[1;32m    323\u001b[0m \u001b[43m     \u001b[49m\u001b[43mhas_complex\u001b[49m\u001b[38;5;241;43m=\u001b[39;49m\u001b[43mhas_complex\u001b[49m\u001b[43m,\u001b[49m\n\u001b[1;32m    324\u001b[0m \u001b[43m     \u001b[49m\u001b[43mbeta1\u001b[49m\u001b[38;5;241;43m=\u001b[39;49m\u001b[43mbeta1\u001b[49m\u001b[43m,\u001b[49m\n\u001b[1;32m    325\u001b[0m \u001b[43m     \u001b[49m\u001b[43mbeta2\u001b[49m\u001b[38;5;241;43m=\u001b[39;49m\u001b[43mbeta2\u001b[49m\u001b[43m,\u001b[49m\n\u001b[1;32m    326\u001b[0m \u001b[43m     \u001b[49m\u001b[43mlr\u001b[49m\u001b[38;5;241;43m=\u001b[39;49m\u001b[43mlr\u001b[49m\u001b[43m,\u001b[49m\n\u001b[1;32m    327\u001b[0m \u001b[43m     \u001b[49m\u001b[43mweight_decay\u001b[49m\u001b[38;5;241;43m=\u001b[39;49m\u001b[43mweight_decay\u001b[49m\u001b[43m,\u001b[49m\n\u001b[1;32m    328\u001b[0m \u001b[43m     \u001b[49m\u001b[43meps\u001b[49m\u001b[38;5;241;43m=\u001b[39;49m\u001b[43meps\u001b[49m\u001b[43m,\u001b[49m\n\u001b[1;32m    329\u001b[0m \u001b[43m     \u001b[49m\u001b[43mmaximize\u001b[49m\u001b[38;5;241;43m=\u001b[39;49m\u001b[43mmaximize\u001b[49m\u001b[43m,\u001b[49m\n\u001b[1;32m    330\u001b[0m \u001b[43m     \u001b[49m\u001b[43mcapturable\u001b[49m\u001b[38;5;241;43m=\u001b[39;49m\u001b[43mcapturable\u001b[49m\u001b[43m,\u001b[49m\n\u001b[1;32m    331\u001b[0m \u001b[43m     \u001b[49m\u001b[43mdifferentiable\u001b[49m\u001b[38;5;241;43m=\u001b[39;49m\u001b[43mdifferentiable\u001b[49m\u001b[43m,\u001b[49m\n\u001b[1;32m    332\u001b[0m \u001b[43m     \u001b[49m\u001b[43mgrad_scale\u001b[49m\u001b[38;5;241;43m=\u001b[39;49m\u001b[43mgrad_scale\u001b[49m\u001b[43m,\u001b[49m\n\u001b[1;32m    333\u001b[0m \u001b[43m     \u001b[49m\u001b[43mfound_inf\u001b[49m\u001b[38;5;241;43m=\u001b[39;49m\u001b[43mfound_inf\u001b[49m\u001b[43m)\u001b[49m\n",
            "File \u001b[0;32m~/.local/lib/python3.10/site-packages/torch/optim/adam.py:392\u001b[0m, in \u001b[0;36m_single_tensor_adam\u001b[0;34m(params, grads, exp_avgs, exp_avg_sqs, max_exp_avg_sqs, state_steps, grad_scale, found_inf, amsgrad, has_complex, beta1, beta2, lr, weight_decay, eps, maximize, capturable, differentiable)\u001b[0m\n\u001b[1;32m    390\u001b[0m \u001b[38;5;66;03m# Decay the first and second moment running average coefficient\u001b[39;00m\n\u001b[1;32m    391\u001b[0m exp_avg\u001b[38;5;241m.\u001b[39mlerp_(grad, \u001b[38;5;241m1\u001b[39m \u001b[38;5;241m-\u001b[39m beta1)\n\u001b[0;32m--> 392\u001b[0m \u001b[43mexp_avg_sq\u001b[49m\u001b[38;5;241;43m.\u001b[39;49m\u001b[43mmul_\u001b[49m\u001b[43m(\u001b[49m\u001b[43mbeta2\u001b[49m\u001b[43m)\u001b[49m\u001b[38;5;241m.\u001b[39maddcmul_(grad, grad\u001b[38;5;241m.\u001b[39mconj(), value\u001b[38;5;241m=\u001b[39m\u001b[38;5;241m1\u001b[39m \u001b[38;5;241m-\u001b[39m beta2)\n\u001b[1;32m    394\u001b[0m \u001b[38;5;28;01mif\u001b[39;00m capturable \u001b[38;5;129;01mor\u001b[39;00m differentiable:\n\u001b[1;32m    395\u001b[0m     step \u001b[38;5;241m=\u001b[39m step_t\n",
            "\u001b[0;31mKeyboardInterrupt\u001b[0m: "
          ]
        }
      ],
      "source": [
        "train_test(model, optimizer, criterion, 120, device, trainloader, testdata)"
      ]
    },
    {
      "cell_type": "code",
      "execution_count": 19,
      "metadata": {},
      "outputs": [],
      "source": [
        "def gridsearch(model_obj: nn.Module, \n",
        "               parameters: dict,\n",
        "               optimizer: optim.Optimizer,\n",
        "               criterion,\n",
        "               learning_rate :int,\n",
        "               epoch: int,\n",
        "               device: str,\n",
        "               trainloader: DataLoader,\n",
        "               testdata: Dataset):\n",
        "    \"\"\"\n",
        "    Effectue une recherche sur grille pour trouver les meilleurs hyperparamètres pour un modèle donné.\n",
        "\n",
        "    Parameters:\n",
        "    -----------\n",
        "    model_obj : nn.Module\n",
        "        Classe du modèle à utiliser pour la recherche sur grille.\n",
        "    parameters : dict\n",
        "        Dictionnaire contenant les hyperparamètres à tester.\n",
        "    optimizer : torch.optim.Optimizer\n",
        "        L'optimiseur à utiliser pour la mise à jour des poids du modèle.\n",
        "    learning_rate : int\n",
        "        Taux d'apprentissage à utiliser avec l'optimiseur.\n",
        "    epoch : int\n",
        "        Nombre d'époques d'entraînement pour chaque configuration de paramètres.\n",
        "    device : str\n",
        "        L'appareil sur lequel exécuter l'entraînement, par exemple 'cuda' pour GPU ou 'cpu' pour CPU.\n",
        "    trainloader : torch.utils.data.DataLoader\n",
        "        DataLoader contenant les données d'entraînement.\n",
        "    testdata : torch.utils.data.Dataset\n",
        "        Jeu de données de test utilisé pour évaluer le modèle après chaque configuration de paramètres.\n",
        "\n",
        "    Returns:\n",
        "    --------\n",
        "    results : dict\n",
        "        Dictionnaire contenant les résultats de la recherche sur grille.\n",
        "        Chaque clé correspond à l'indice de la configuration de paramètres.\n",
        "        Chaque valeur est un dictionnaire contenant les paramètres testés, l'erreur réelle (sur les données de test)\n",
        "        et l'erreur d'entraînement (sur les données d'entraînement) pour cette configuration.\n",
        "    \"\"\"\n",
        "    parameters = ParameterGrid(parameters)\n",
        "    results = {}\n",
        "    loss = criterion()\n",
        "\n",
        "    for i, params in enumerate(parameters):\n",
        "        tmp_model = model_obj(**params)\n",
        "        tmp_optim = optimizer(tmp_model.parameters(), lr=learning_rate)\n",
        "        tmp_result = train_test(tmp_model, tmp_optim, loss, epoch, device, trainloader, testdata)\n",
        "        print(f\"\\tParams {i}/{len(parameters)} -> true error: {tmp_result[0]}\")\n",
        "        results[i] = {\n",
        "            \"params\": params,\n",
        "            \"true_error\": tmp_result[0],\n",
        "            \"training_error\": tmp_result[1]\n",
        "        }\n",
        "\n",
        "    return results"
      ]
    },
    {
      "cell_type": "code",
      "execution_count": 23,
      "metadata": {},
      "outputs": [],
      "source": [
        "parameters = {\"hidden_layer_nb\": range(1, 6, 2),\n",
        "              \"hidden_size\": range(300, 501, 100),\n",
        "              \"latent_size\": [7*7, 8*8, 9*9]}"
      ]
    },
    {
      "cell_type": "code",
      "execution_count": 24,
      "metadata": {},
      "outputs": [
        {
          "name": "stderr",
          "output_type": "stream",
          "text": [
            "100%|██████████| 30/30 [01:09<00:00,  2.32s/it]\n"
          ]
        },
        {
          "name": "stdout",
          "output_type": "stream",
          "text": [
            "\tParams 0/27 -> true error: 0.011881780145232002\n"
          ]
        },
        {
          "name": "stderr",
          "output_type": "stream",
          "text": [
            "100%|██████████| 30/30 [01:07<00:00,  2.25s/it]\n"
          ]
        },
        {
          "name": "stdout",
          "output_type": "stream",
          "text": [
            "\tParams 1/27 -> true error: 0.011288729841732197\n"
          ]
        },
        {
          "name": "stderr",
          "output_type": "stream",
          "text": [
            "100%|██████████| 30/30 [01:20<00:00,  2.68s/it]\n"
          ]
        },
        {
          "name": "stdout",
          "output_type": "stream",
          "text": [
            "\tParams 2/27 -> true error: 0.011510055140792745\n"
          ]
        },
        {
          "name": "stderr",
          "output_type": "stream",
          "text": [
            "100%|██████████| 30/30 [01:34<00:00,  3.14s/it]\n"
          ]
        },
        {
          "name": "stdout",
          "output_type": "stream",
          "text": [
            "\tParams 3/27 -> true error: 0.011562722579716921\n"
          ]
        },
        {
          "name": "stderr",
          "output_type": "stream",
          "text": [
            "100%|██████████| 30/30 [01:29<00:00,  3.00s/it]\n"
          ]
        },
        {
          "name": "stdout",
          "output_type": "stream",
          "text": [
            "\tParams 4/27 -> true error: 0.011097829312837554\n"
          ]
        },
        {
          "name": "stderr",
          "output_type": "stream",
          "text": [
            "100%|██████████| 30/30 [01:31<00:00,  3.06s/it]\n"
          ]
        },
        {
          "name": "stdout",
          "output_type": "stream",
          "text": [
            "\tParams 5/27 -> true error: 0.011264166247885073\n"
          ]
        },
        {
          "name": "stderr",
          "output_type": "stream",
          "text": [
            "100%|██████████| 30/30 [01:55<00:00,  3.85s/it]\n"
          ]
        },
        {
          "name": "stdout",
          "output_type": "stream",
          "text": [
            "\tParams 6/27 -> true error: 0.011009170921927155\n"
          ]
        },
        {
          "name": "stderr",
          "output_type": "stream",
          "text": [
            "100%|██████████| 30/30 [01:58<00:00,  3.96s/it]\n"
          ]
        },
        {
          "name": "stdout",
          "output_type": "stream",
          "text": [
            "\tParams 7/27 -> true error: 0.01141563673675096\n"
          ]
        },
        {
          "name": "stderr",
          "output_type": "stream",
          "text": [
            "100%|██████████| 30/30 [01:55<00:00,  3.84s/it]\n"
          ]
        },
        {
          "name": "stdout",
          "output_type": "stream",
          "text": [
            "\tParams 8/27 -> true error: 0.01072317801917084\n"
          ]
        },
        {
          "name": "stderr",
          "output_type": "stream",
          "text": [
            "100%|██████████| 30/30 [01:59<00:00,  3.98s/it]\n"
          ]
        },
        {
          "name": "stdout",
          "output_type": "stream",
          "text": [
            "\tParams 9/27 -> true error: 0.021407291958263717\n"
          ]
        },
        {
          "name": "stderr",
          "output_type": "stream",
          "text": [
            "100%|██████████| 30/30 [01:54<00:00,  3.82s/it]\n"
          ]
        },
        {
          "name": "stdout",
          "output_type": "stream",
          "text": [
            "\tParams 10/27 -> true error: 0.024100378818276574\n"
          ]
        },
        {
          "name": "stderr",
          "output_type": "stream",
          "text": [
            "100%|██████████| 30/30 [01:52<00:00,  3.76s/it]\n"
          ]
        },
        {
          "name": "stdout",
          "output_type": "stream",
          "text": [
            "\tParams 11/27 -> true error: 0.024331968381479593\n"
          ]
        },
        {
          "name": "stderr",
          "output_type": "stream",
          "text": [
            "100%|██████████| 30/30 [02:30<00:00,  5.01s/it]\n"
          ]
        },
        {
          "name": "stdout",
          "output_type": "stream",
          "text": [
            "\tParams 12/27 -> true error: 0.023662433182066213\n"
          ]
        },
        {
          "name": "stderr",
          "output_type": "stream",
          "text": [
            "100%|██████████| 30/30 [02:25<00:00,  4.85s/it]\n"
          ]
        },
        {
          "name": "stdout",
          "output_type": "stream",
          "text": [
            "\tParams 13/27 -> true error: 0.025865170371984943\n"
          ]
        },
        {
          "name": "stderr",
          "output_type": "stream",
          "text": [
            "100%|██████████| 30/30 [02:29<00:00,  4.99s/it]\n"
          ]
        },
        {
          "name": "stdout",
          "output_type": "stream",
          "text": [
            "\tParams 14/27 -> true error: 0.025264976453062603\n"
          ]
        },
        {
          "name": "stderr",
          "output_type": "stream",
          "text": [
            "100%|██████████| 30/30 [03:12<00:00,  6.42s/it]\n"
          ]
        },
        {
          "name": "stdout",
          "output_type": "stream",
          "text": [
            "\tParams 15/27 -> true error: 0.01926802894245065\n"
          ]
        },
        {
          "name": "stderr",
          "output_type": "stream",
          "text": [
            "100%|██████████| 30/30 [03:28<00:00,  6.96s/it]\n"
          ]
        },
        {
          "name": "stdout",
          "output_type": "stream",
          "text": [
            "\tParams 16/27 -> true error: 0.01584932679923342\n"
          ]
        },
        {
          "name": "stderr",
          "output_type": "stream",
          "text": [
            "100%|██████████| 30/30 [03:20<00:00,  6.70s/it]\n"
          ]
        },
        {
          "name": "stdout",
          "output_type": "stream",
          "text": [
            "\tParams 17/27 -> true error: 0.023536660335181467\n"
          ]
        },
        {
          "name": "stderr",
          "output_type": "stream",
          "text": [
            "100%|██████████| 30/30 [02:54<00:00,  5.80s/it]\n"
          ]
        },
        {
          "name": "stdout",
          "output_type": "stream",
          "text": [
            "\tParams 18/27 -> true error: 0.0320955717144477\n"
          ]
        },
        {
          "name": "stderr",
          "output_type": "stream",
          "text": [
            "100%|██████████| 30/30 [02:38<00:00,  5.29s/it]\n"
          ]
        },
        {
          "name": "stdout",
          "output_type": "stream",
          "text": [
            "\tParams 19/27 -> true error: 0.03230712895389883\n"
          ]
        },
        {
          "name": "stderr",
          "output_type": "stream",
          "text": [
            "100%|██████████| 30/30 [02:28<00:00,  4.95s/it]\n"
          ]
        },
        {
          "name": "stdout",
          "output_type": "stream",
          "text": [
            "\tParams 20/27 -> true error: 0.03330544888436917\n"
          ]
        },
        {
          "name": "stderr",
          "output_type": "stream",
          "text": [
            "100%|██████████| 30/30 [03:32<00:00,  7.10s/it]\n"
          ]
        },
        {
          "name": "stdout",
          "output_type": "stream",
          "text": [
            "\tParams 21/27 -> true error: 0.027997997845091577\n"
          ]
        },
        {
          "name": "stderr",
          "output_type": "stream",
          "text": [
            "100%|██████████| 30/30 [03:31<00:00,  7.05s/it]\n"
          ]
        },
        {
          "name": "stdout",
          "output_type": "stream",
          "text": [
            "\tParams 22/27 -> true error: 0.02729492385343327\n"
          ]
        },
        {
          "name": "stderr",
          "output_type": "stream",
          "text": [
            "100%|██████████| 30/30 [03:32<00:00,  7.09s/it]\n"
          ]
        },
        {
          "name": "stdout",
          "output_type": "stream",
          "text": [
            "\tParams 23/27 -> true error: 0.0327762859186976\n"
          ]
        },
        {
          "name": "stderr",
          "output_type": "stream",
          "text": [
            "100%|██████████| 30/30 [04:35<00:00,  9.17s/it]\n"
          ]
        },
        {
          "name": "stdout",
          "output_type": "stream",
          "text": [
            "\tParams 24/27 -> true error: 0.030061102885772812\n"
          ]
        },
        {
          "name": "stderr",
          "output_type": "stream",
          "text": [
            "100%|██████████| 30/30 [04:50<00:00,  9.67s/it]\n"
          ]
        },
        {
          "name": "stdout",
          "output_type": "stream",
          "text": [
            "\tParams 25/27 -> true error: 0.024351827521360475\n"
          ]
        },
        {
          "name": "stderr",
          "output_type": "stream",
          "text": [
            "100%|██████████| 30/30 [04:48<00:00,  9.62s/it]\n"
          ]
        },
        {
          "name": "stdout",
          "output_type": "stream",
          "text": [
            "\tParams 26/27 -> true error: 0.03108227827410672\n"
          ]
        }
      ],
      "source": [
        "# results = gridsearch(denoising_model, parameters, optim.Adam, nn.MSELoss, 1e-4, 30, device, trainloader, testdata)"
      ]
    },
    {
      "cell_type": "code",
      "execution_count": 54,
      "metadata": {},
      "outputs": [],
      "source": [
        "# # on enregistre les résultats pour ne pas devoir refaire la gridsearch\n",
        "# with open(\"output_gridsearch.json\", \"w+\") as file:\n",
        "#     file.write(json.dumps(results, indent=1))\n",
        "\n",
        "# on lit les résultats de l'ancienne gridsearch\n",
        "with open(\"output_gridsearch.json\") as file:\n",
        "    results = json.loads(file.read())"
      ]
    },
    {
      "cell_type": "code",
      "execution_count": 41,
      "metadata": {},
      "outputs": [
        {
          "data": {
            "text/plain": [
              "{'hidden_layer_nb': 1, 'hidden_size': 500, 'latent_size': 81}"
            ]
          },
          "execution_count": 41,
          "metadata": {},
          "output_type": "execute_result"
        }
      ],
      "source": [
        "[results[str(i)][\"params\"] for i in range(27) if results[str(i)][\"true_error\"] == min([results[str(j)][\"true_error\"] for j in range(27)])][0]"
      ]
    },
    {
      "cell_type": "markdown",
      "metadata": {},
      "source": [
        "Afin de trouver le meilleur modèle pour cette tâche, nous avons réalisé un grid search sur plusieurs paramètres :\n",
        "- Le nombre de couches de la couche cachée (par le paramètres `hidden_layer_nb`)\n",
        "- Le nombre de neurones de la couche cachées (par le paramètres `hidden_size`)\n",
        "- Le nombre de neurones de la zone latente (par le paramètres `latent_size`)  \n",
        "\n",
        "On a pris des carré de nombre pour l'espace latent, pour pouvoir les affichers plus tard dans le même format que les images d'origines (qui sont carrés). Ceci sera aussi utile lors de la classification, car nous pouvons faire un un réseau de convolution tout en respectant la forme de base de l'image.\n",
        "\n",
        "Nous n'avons fait que 30 itérations par test dans le grid search, par faute de temps (le programme a tourné pendant plus d'une heure rien qu'avec 30 itérations). Nous utilisions le même optimiseur et pas d'apprentissage que dans notre premier test.  \n",
        "\n",
        "Le meilleur modèle possède donc cette forme :\n",
        "```\n",
        "denoising_model(\n",
        "  (encoder): Sequential(\n",
        "    (0): Linear(in_features=784, out_features=500, bias=True)\n",
        "    (1): ReLU()\n",
        "    (2): Linear(in_features=500, out_features=500, bias=True)\n",
        "    (3): ReLU()\n",
        "    (4): Linear(in_features=500, out_features=81, bias=True)\n",
        "    (5): ReLU()\n",
        "  )\n",
        "  (decoder): Sequential(\n",
        "    (0): Linear(in_features=81, out_features=500, bias=True)\n",
        "    (1): ReLU()\n",
        "    (2): Linear(in_features=500, out_features=500, bias=True)\n",
        "    (3): ReLU()\n",
        "    (4): Linear(in_features=500, out_features=784, bias=True)\n",
        "    (5): Sigmoid()\n",
        "  )\n",
        ")\n",
        "```\n",
        "C'est à dire, par rapport aux paramètres donnés :\n",
        "- Le paramètre `hidden_layer_nb` vaut 1\n",
        "- Le paramètre `hidden_size` vaut 500\n",
        "- Le paramètre `latent_size` vaut 81 (donc $9 \\times 9$)"
      ]
    },
    {
      "cell_type": "code",
      "execution_count": 57,
      "metadata": {},
      "outputs": [
        {
          "name": "stdout",
          "output_type": "stream",
          "text": [
            "denoising_model(\n",
            "  (encoder): Sequential(\n",
            "    (0): Linear(in_features=784, out_features=500, bias=True)\n",
            "    (1): ReLU()\n",
            "    (2): Linear(in_features=500, out_features=500, bias=True)\n",
            "    (3): ReLU()\n",
            "    (4): Linear(in_features=500, out_features=81, bias=True)\n",
            "    (5): ReLU()\n",
            "  )\n",
            "  (decoder): Sequential(\n",
            "    (0): Linear(in_features=81, out_features=500, bias=True)\n",
            "    (1): ReLU()\n",
            "    (2): Linear(in_features=500, out_features=500, bias=True)\n",
            "    (3): ReLU()\n",
            "    (4): Linear(in_features=500, out_features=784, bias=True)\n",
            "    (5): Sigmoid()\n",
            "  )\n",
            ")\n"
          ]
        }
      ],
      "source": [
        "best_model = denoising_model(**[results[str(i)][\"params\"] for i in range(27) if results[str(i)][\"true_error\"] == min([results[str(j)][\"true_error\"] for j in range(27)])][0])\n",
        "best_model_optim = optim.Adam(best_model.parameters(), lr=1e-3)\n",
        "best_model_criterion = nn.MSELoss()\n",
        "print(best_model)"
      ]
    },
    {
      "cell_type": "code",
      "execution_count": 61,
      "metadata": {},
      "outputs": [
        {
          "name": "stderr",
          "output_type": "stream",
          "text": [
            "100%|██████████| 100/100 [07:25<00:00,  4.45s/it]\n"
          ]
        }
      ],
      "source": [
        "true_error, losslist = train_test(best_model, best_model_optim, best_model_criterion, 100, device, trainloader, testdata)\n",
        "# best_model.load_state_dict(torch.load(\"model\", map_location=device))"
      ]
    },
    {
      "cell_type": "code",
      "execution_count": 62,
      "metadata": {
        "colab": {
          "base_uri": "https://localhost:8080/",
          "height": 287
        },
        "colab_type": "code",
        "id": "rT6HTaPB5IAL",
        "outputId": "1dbaa140-6874-4ebc-99a3-8bdfd14e7ae3"
      },
      "outputs": [
        {
          "data": {
            "text/plain": [
              "([<matplotlib.lines.Line2D at 0x741a338cf7c0>], 0.04957110400720716)"
            ]
          },
          "execution_count": 62,
          "metadata": {},
          "output_type": "execute_result"
        },
        {
          "data": {
            "image/png": "[encoded data removed]",
            "text/plain": [
              "<Figure size 432x288 with 1 Axes>"
            ]
          },
          "metadata": {
            "needs_background": "light"
          },
          "output_type": "display_data"
        }
      ],
      "source": [
        "plt.plot(range(len(losslist)), losslist), true_error"
      ]
    },
    {
      "cell_type": "markdown",
      "metadata": {},
      "source": [
        "On teste le modèle avec des données bruitées, mais de la même intensité que dans l'entraînement :"
      ]
    },
    {
      "cell_type": "code",
      "execution_count": 68,
      "metadata": {},
      "outputs": [
        {
          "data": {
            "image/png": "[encoded data removed]",
            "text/plain": [
              "<Figure size 576x576 with 12 Axes>"
            ]
          },
          "metadata": {
            "needs_background": "light"
          },
          "output_type": "display_data"
        }
      ],
      "source": [
        "f,axes= plt.subplots(4,3,figsize=(8, 8))\n",
        "axes[0,0].set_title(\"Original Image\")\n",
        "axes[0,1].set_title(\"Dirty Image\")\n",
        "axes[0,2].set_title(\"Cleaned Image\")\n",
        "for i, noise in enumerate([\"gaussian\", \"speckle\", \"salt_pepper\", \"\"]):\n",
        "    dirty = add_noise(np.array(xtest[3]), noise)\n",
        "    predicted = best_model(torch.tensor(dirty.flatten()).type(torch.FloatTensor))\n",
        "\n",
        "    axes[i, 0].imshow(xtest[3])\n",
        "    axes[i, 1].imshow(dirty.reshape((28, 28)))\n",
        "    axes[i, 2].imshow(predicted.detach().numpy().reshape((28, 28)))"
      ]
    },
    {
      "cell_type": "markdown",
      "metadata": {},
      "source": [
        "On remarque que le modèle arrive à bien refaire les formes du chiffre, tout en enlevant le bruit."
      ]
    },
    {
      "cell_type": "markdown",
      "metadata": {},
      "source": [
        "On peut maintenant tester la robustesse du modèle, en augmentant le bruit. Le modèle va maintenant avoir des images beaucoup plus floutée que celles sur laquelle il s'est entraîné."
      ]
    },
    {
      "cell_type": "code",
      "execution_count": 69,
      "metadata": {},
      "outputs": [
        {
          "data": {
            "image/png": "[encoded data removed]",
            "text/plain": [
              "<Figure size 576x576 with 12 Axes>"
            ]
          },
          "metadata": {
            "needs_background": "light"
          },
          "output_type": "display_data"
        }
      ],
      "source": [
        "f,axes= plt.subplots(4,3,figsize=(8, 8))\n",
        "axes[0,0].set_title(\"Original Image\")\n",
        "axes[0,1].set_title(\"Dirty Image\")\n",
        "axes[0,2].set_title(\"Cleaned Image\")\n",
        "for i, noise in enumerate([\"gaussian\", \"speckle\", \"salt_pepper\", \"\"]):\n",
        "    dirty = add_noise(np.array(xtest[0]), noise, 0.8)\n",
        "    predicted = best_model(torch.tensor(dirty.flatten()).type(torch.FloatTensor))\n",
        "\n",
        "    axes[i, 0].imshow(xtest[0])\n",
        "    axes[i, 1].imshow(dirty.reshape((28, 28)))\n",
        "    axes[i, 2].imshow(predicted.detach().numpy().reshape((28, 28)))"
      ]
    },
    {
      "cell_type": "code",
      "execution_count": 70,
      "metadata": {},
      "outputs": [
        {
          "data": {
            "image/png": "[encoded data removed]",
            "text/plain": [
              "<Figure size 576x576 with 12 Axes>"
            ]
          },
          "metadata": {
            "needs_background": "light"
          },
          "output_type": "display_data"
        }
      ],
      "source": [
        "f,axes= plt.subplots(4,3,figsize=(8, 8))\n",
        "axes[0,0].set_title(\"Original Image\")\n",
        "axes[0,1].set_title(\"Dirty Image\")\n",
        "axes[0,2].set_title(\"Cleaned Image\")\n",
        "for i, noise in enumerate([\"gaussian\", \"speckle\", \"salt_pepper\", \"\"]):\n",
        "    dirty = add_noise(np.array(xtest[1]), noise, 1)\n",
        "    predicted = best_model(torch.tensor(dirty.flatten()).type(torch.FloatTensor))\n",
        "\n",
        "    axes[i, 0].imshow(xtest[1])\n",
        "    axes[i, 1].imshow(dirty.reshape((28, 28)))\n",
        "    axes[i, 2].imshow(predicted.detach().numpy().reshape((28, 28)))"
      ]
    },
    {
      "cell_type": "markdown",
      "metadata": {},
      "source": [
        "On voit que malgré le bruit étant bien plus puissant, le modèle proposé arrive à bien refaire l'image de base tout en enlevant le bruit."
      ]
    },
    {
      "cell_type": "code",
      "execution_count": null,
      "metadata": {},
      "outputs": [],
      "source": [
        "\"\"\"Here we define our own metrics based on the difference between two images.\n",
        "These metrics will allow us to evaluate the quality of our models\n",
        "\n",
        "    - img_ori : original image\n",
        "    - img_cleaned : output of our model, denoised image\n",
        "    - thresh : the threshold at which we consider a pixel to be one or zero.\n",
        "\"\"\"\n",
        "\n",
        "def metrics(img_ori, img_cleaned, thresh=0.7):\n",
        "    \n",
        "    img_ori_cp = img_ori.copy()\n",
        "    img_cleaned_cp = img_cleaned.copy()\n",
        "    for i in range(len(img_ori_cp[0])):\n",
        "        \n",
        "        #setting a threshold for continuous values in the cleaned images\n",
        "        for j in range(i):\n",
        "            if img_ori_cp[i][j]<thresh or img_cleaned_cp[i][j]<thresh:\n",
        "                img_ori_cp[i][j] = 0\n",
        "                img_cleaned_cp[i][j] = 0\n",
        "            else:\n",
        "                img_ori_cp[i][j] = 1\n",
        "                img_cleaned_cp[i][j] = 1\n",
        "\n",
        "    difference = [img_ori_cp == img_cleaned_cp]\n",
        "    nbt = 0\n",
        "    nbf = 0\n",
        "    for i in difference[0]:\n",
        "        for j in i:\n",
        "            if j == True:\n",
        "                nbt+=1\n",
        "            elif j == False:\n",
        "                nbf+=1\n",
        "    ret = (nbt*100 / (nbf+nbt))\n",
        "\n",
        "    plt.subplot(1, 2, 1)\n",
        "    plt.imshow(img_ori)\n",
        "    plt.subplot(1, 2, 2)\n",
        "    plt.imshow(img_cleaned)\n",
        "    plt.title(f\"Identical Pixels rate with threshold {thresh} -> {np.floor(ret)}%\")\n",
        "    plt.tight_layout()\n",
        "\n",
        "    return ret\n"
      ]
    },
    {
      "cell_type": "markdown",
      "metadata": {},
      "source": [
        "Test export / import"
      ]
    },
    {
      "cell_type": "code",
      "execution_count": 71,
      "metadata": {
        "colab": {},
        "colab_type": "code",
        "id": "PhP1vseSPcZc"
      },
      "outputs": [],
      "source": [
        "PATH = \"model\"\n",
        "torch.save(best_model.state_dict(), PATH)  # We save the model state dict at PATH   "
      ]
    },
    {
      "cell_type": "markdown",
      "metadata": {},
      "source": [
        "On va tenter si le modèle est efficace pour tous les chiffres possibles. Pour cela, il faudra le re-entrainer, mais sur tous les chiffres."
      ]
    },
    {
      "cell_type": "markdown",
      "metadata": {},
      "source": [
        "On va faire les mêmes procédures pour les données."
      ]
    },
    {
      "cell_type": "code",
      "execution_count": 73,
      "metadata": {},
      "outputs": [],
      "source": [
        "(xtrain_all, ytrain_all) = mnist_[0][0], mnist_[0][1]\n",
        "(xtest_all, ytest_all) = mnist_[1][0], mnist_[1][1]\n",
        "\n",
        "xtrain_all = np.array([minmax_scale(x) for x in xtrain_all])\n",
        "xtest_all = np.array([minmax_scale(x) for x in xtest_all])"
      ]
    },
    {
      "cell_type": "code",
      "execution_count": 74,
      "metadata": {},
      "outputs": [
        {
          "name": "stderr",
          "output_type": "stream",
          "text": [
            " 40%|███▉      | 23889/60000 [00:00<00:01, 29930.17it/s]"
          ]
        },
        {
          "name": "stdout",
          "output_type": "stream",
          "text": [
            "\n",
            "gaussian noise addition completed to images\n"
          ]
        },
        {
          "name": "stderr",
          "output_type": "stream",
          "text": [
            " 84%|████████▍ | 50404/60000 [00:01<00:00, 45796.63it/s]"
          ]
        },
        {
          "name": "stdout",
          "output_type": "stream",
          "text": [
            "\n",
            "speckle noise addition completed to images\n"
          ]
        },
        {
          "name": "stderr",
          "output_type": "stream",
          "text": [
            "100%|██████████| 60000/60000 [00:01<00:00, 37420.09it/s]\n"
          ]
        },
        {
          "name": "stdout",
          "output_type": "stream",
          "text": [
            "\n",
            "salt_pepper noise addition completed to images\n"
          ]
        },
        {
          "name": "stderr",
          "output_type": "stream",
          "text": [
            "100%|██████████| 10000/10000 [00:00<00:00, 44716.06it/s]"
          ]
        },
        {
          "name": "stdout",
          "output_type": "stream",
          "text": [
            "\n",
            "gaussian noise addition completed to images\n"
          ]
        },
        {
          "name": "stderr",
          "output_type": "stream",
          "text": [
            "\n"
          ]
        }
      ],
      "source": [
        "\"\"\"\n",
        "From here onwards,we split the 60k training datapoints into 3 sets each given one type of each noise.\n",
        "We shuffle them for better generalization.\n",
        "\"\"\"\n",
        "noises = [\"gaussian\", \"speckle\", \"salt_pepper\"]\n",
        "noise_ct = 0\n",
        "noise_id = 0\n",
        "traindata_all = np.zeros((len(xtrain_all), 28, 28))\n",
        "\n",
        "\n",
        "for idx in tqdm(range(len(xtrain_all))):\n",
        "  if noise_ct < len(xtrain_all)/3:\n",
        "    noise_ct += 1\n",
        "    traindata_all[idx] = add_noise(xtrain_all[idx], noise_type=noises[noise_id], scale=1)\n",
        "  else:\n",
        "    print(\"\\n{} noise addition completed to images\".format(noises[noise_id]))\n",
        "    noise_id += 1\n",
        "    noise_ct = 0\n",
        "\n",
        "\n",
        "print(\"\\n{} noise addition completed to images\".format(noises[noise_id])) \n",
        "\n",
        "\n",
        "noise_ct = 0\n",
        "noise_id = 0\n",
        "testdata_all = np.zeros((10000, 28, 28))\n",
        "\n",
        "for idx in tqdm(range(len(xtest_all))):\n",
        "  if noise_ct < len(xtest)/3:\n",
        "    x = add_noise(xtest_all[idx], noise_type=noises[noise_id])\n",
        "    testdata_all[idx] = x\n",
        "    \n",
        "  else:\n",
        "    print(\"\\n{} noise addition completed to images\".format(noises[noise_id]))\n",
        "    noise_id += 1\n",
        "    noise_ct = 0\n",
        "\n",
        "print(\"\\n{} noise addition completed to images\".format(noises[noise_id]))    \n",
        "  "
      ]
    },
    {
      "cell_type": "code",
      "execution_count": 105,
      "metadata": {},
      "outputs": [],
      "source": [
        "trainset_all = noisedDataset(traindata_all, xtrain_all, ytrain_all, tsfms)\n",
        "testset_all= noisedDataset(testdata_all, xtest_all, ytest_all, tsfms)"
      ]
    },
    {
      "cell_type": "code",
      "execution_count": 97,
      "metadata": {},
      "outputs": [],
      "source": [
        "trainloader_all = DataLoader(trainset_all, batch_size=500, shuffle=True)\n",
        "testloader_all  = DataLoader(testset_all, batch_size=1, shuffle=True)"
      ]
    },
    {
      "cell_type": "markdown",
      "metadata": {},
      "source": [
        "On reprends la même architecture de modèle trouvée avant."
      ]
    },
    {
      "cell_type": "code",
      "execution_count": 78,
      "metadata": {},
      "outputs": [
        {
          "data": {
            "text/plain": [
              "denoising_model(\n",
              "  (encoder): Sequential(\n",
              "    (0): Linear(in_features=784, out_features=500, bias=True)\n",
              "    (1): ReLU()\n",
              "    (2): Linear(in_features=500, out_features=500, bias=True)\n",
              "    (3): ReLU()\n",
              "    (4): Linear(in_features=500, out_features=81, bias=True)\n",
              "    (5): ReLU()\n",
              "  )\n",
              "  (decoder): Sequential(\n",
              "    (0): Linear(in_features=81, out_features=500, bias=True)\n",
              "    (1): ReLU()\n",
              "    (2): Linear(in_features=500, out_features=500, bias=True)\n",
              "    (3): ReLU()\n",
              "    (4): Linear(in_features=500, out_features=784, bias=True)\n",
              "    (5): Sigmoid()\n",
              "  )\n",
              ")"
            ]
          },
          "execution_count": 78,
          "metadata": {},
          "output_type": "execute_result"
        }
      ],
      "source": [
        "best_model_all = denoising_model(**[results[str(j)][\"params\"] for j in range(27) if results[str(j)][\"true_error\"] == min([results[str(i)][\"true_error\"] for i in range(27)])][0])\n",
        "best_model_criterion_all = nn.MSELoss()\n",
        "best_model_optim_all = optim.Adam(best_model_all.parameters(), lr=4e-3)\n",
        "best_model_all"
      ]
    },
    {
      "cell_type": "code",
      "execution_count": 106,
      "metadata": {},
      "outputs": [],
      "source": [
        "testset_all = np.array([testset_all[i][0].numpy() for i in range(len(testset_all))])"
      ]
    },
    {
      "cell_type": "code",
      "execution_count": 110,
      "metadata": {},
      "outputs": [
        {
          "name": "stderr",
          "output_type": "stream",
          "text": [
            "100%|██████████| 100/100 [09:10<00:00,  5.50s/it]\n"
          ]
        }
      ],
      "source": [
        "true_error_all, losslist_all = train_test(best_model_all, best_model_optim_all, best_model_criterion_all, 100, device, trainloader_all, testset_all)\n",
        "# best_model_all.load_state_dict(torch.load(\"model_all\", map_location=device))"
      ]
    },
    {
      "cell_type": "code",
      "execution_count": 111,
      "metadata": {},
      "outputs": [
        {
          "data": {
            "text/plain": [
              "0.015251673503177087"
            ]
          },
          "execution_count": 111,
          "metadata": {},
          "output_type": "execute_result"
        }
      ],
      "source": [
        "true_error_all"
      ]
    },
    {
      "cell_type": "code",
      "execution_count": 112,
      "metadata": {},
      "outputs": [
        {
          "data": {
            "text/plain": [
              "[<matplotlib.lines.Line2D at 0x741a4f74cf40>]"
            ]
          },
          "execution_count": 112,
          "metadata": {},
          "output_type": "execute_result"
        },
        {
          "data": {
            "image/png": "[encoded data removed]",
            "text/plain": [
              "<Figure size 432x288 with 1 Axes>"
            ]
          },
          "metadata": {
            "needs_background": "light"
          },
          "output_type": "display_data"
        }
      ],
      "source": [
        "plt.plot(losslist_all)"
      ]
    },
    {
      "cell_type": "code",
      "execution_count": 113,
      "metadata": {},
      "outputs": [],
      "source": [
        "torch.save(best_model.state_dict(), \"model_all\")  # We save the model state dict at PATH   "
      ]
    },
    {
      "cell_type": "code",
      "execution_count": 114,
      "metadata": {},
      "outputs": [
        {
          "data": {
            "image/png": "[encoded data removed]",
            "text/plain": [
              "<Figure size 360x360 with 12 Axes>"
            ]
          },
          "metadata": {
            "needs_background": "light"
          },
          "output_type": "display_data"
        }
      ],
      "source": [
        "f,axes= plt.subplots(4,3,figsize=(5,5))\n",
        "axes[0,0].set_title(\"Original Image\")\n",
        "axes[0,1].set_title(\"Dirty Image\")\n",
        "axes[0,2].set_title(\"Cleaned Image\")\n",
        "for i, noise in enumerate([\"gaussian\", \"speckle\", \"salt_pepper\", \"\"]):\n",
        "    clean = xtest_all[50]\n",
        "    dirty = add_noise(np.array(clean), noise, 0.8)\n",
        "    predicted = best_model_all(torch.tensor(dirty.flatten()).type(torch.FloatTensor))\n",
        "\n",
        "    axes[i, 0].imshow(clean)\n",
        "    axes[i, 1].imshow(dirty.reshape((28, 28)))\n",
        "    axes[i, 2].imshow(predicted.detach().numpy().reshape((28, 28)))"
      ]
    },
    {
      "cell_type": "code",
      "execution_count": 115,
      "metadata": {},
      "outputs": [
        {
          "data": {
            "image/png": "[encoded data removed]",
            "text/plain": [
              "<Figure size 360x360 with 12 Axes>"
            ]
          },
          "metadata": {
            "needs_background": "light"
          },
          "output_type": "display_data"
        }
      ],
      "source": [
        "f,axes= plt.subplots(4,3,figsize=(5,5))\n",
        "axes[0,0].set_title(\"Original Image\")\n",
        "axes[0,1].set_title(\"Dirty Image\")\n",
        "axes[0,2].set_title(\"Cleaned Image\")\n",
        "for i, noise in enumerate([\"gaussian\", \"speckle\", \"salt_pepper\", \"\"]):\n",
        "    clean = xtest_all[51]\n",
        "    dirty = add_noise(np.array(clean), noise, 0.8)\n",
        "    predicted = best_model_all(torch.tensor(dirty.flatten()).type(torch.FloatTensor))\n",
        "\n",
        "    axes[i, 0].imshow(clean)\n",
        "    axes[i, 1].imshow(dirty.reshape((28, 28)))\n",
        "    axes[i, 2].imshow(predicted.detach().numpy().reshape((28, 28)))"
      ]
    },
    {
      "cell_type": "code",
      "execution_count": 119,
      "metadata": {},
      "outputs": [
        {
          "data": {
            "text/plain": [
              "<matplotlib.image.AxesImage at 0x741a32d553c0>"
            ]
          },
          "execution_count": 119,
          "metadata": {},
          "output_type": "execute_result"
        },
        {
          "data": {
            "image/png": "[encoded data removed]",
            "text/plain": [
              "<Figure size 432x288 with 1 Axes>"
            ]
          },
          "metadata": {
            "needs_background": "light"
          },
          "output_type": "display_data"
        }
      ],
      "source": [
        "plt.imshow(best_model_all.encode(torch.tensor(dirty.flatten()).type(torch.FloatTensor)).detach().numpy().reshape((9, 9)))"
      ]
    },
    {
      "cell_type": "markdown",
      "metadata": {},
      "source": [
        "# <span style=\"color:red\">LA SUITE LE CODE N'EST PAS FINIT"
      ]
    },
    {
      "cell_type": "code",
      "execution_count": 317,
      "metadata": {},
      "outputs": [],
      "source": [
        "class small_classifier(nn.Module):\n",
        "    def __init__(self, hidden_size, hidden_number, input_size=50, output_size=10) -> None:\n",
        "        super().__init__()\n",
        "        classifier_sequence_input = [nn.Linear(input_size, hidden_size), nn.ReLU()]\n",
        "        classifier_sequence_output = [nn.Linear(hidden_size, output_size), nn.Softmax(dim=1)]\n",
        "        classifier_sequence_hidden = []\n",
        "        for i in range(hidden_number):\n",
        "            classifier_sequence_hidden.append(nn.Linear(hidden_size, hidden_size))\n",
        "            classifier_sequence_hidden.append(nn.ReLU())\n",
        "\n",
        "        encode_sequence = classifier_sequence_input + classifier_sequence_hidden + classifier_sequence_output\n",
        "            \n",
        "        self.classifier = nn.Sequential(\n",
        "            *encode_sequence\n",
        "        )\n",
        "    \n",
        "    def forward(self, x):\n",
        "        return self.classifier(x)"
      ]
    },
    {
      "cell_type": "code",
      "execution_count": 331,
      "metadata": {},
      "outputs": [],
      "source": [
        "def train_test_classifier(\n",
        "        model: torch.nn.Module, \n",
        "        autoencoder: torch.nn.Module,\n",
        "        optimizer: torch.optim.Optimizer, \n",
        "        criterion: torch.nn.Module, \n",
        "        epochs: int,\n",
        "        device: str,\n",
        "        trainloader: torch.utils.data.DataLoader, \n",
        "        testset: torch.utils.data.Dataset):\n",
        "    \"\"\"\n",
        "    Fonction pour entraîner / tester un modèle.\n",
        "\n",
        "    Parameters:\n",
        "    -----------\n",
        "    model : torch.nn.Module\n",
        "        Le modèle à entraîner.\n",
        "    optimizer : torch.optim.Optimizer\n",
        "        L'optimiseur utilisé pour la mise à jour des poids du modèle.\n",
        "    criterion : torch.nn.Module\n",
        "        La fonction de perte utilisée pour évaluer la différence entre les prédictions et les vraies étiquettes.\n",
        "    epochs : int\n",
        "        Le nombre d'époques d'entraînement.\n",
        "    device : str\n",
        "        L'appareil sur lequel exécuter l'entraînement, par exemple 'cuda' pour GPU ou 'cpu' pour CPU.\n",
        "    trainloader : torch.utils.data.DataLoader\n",
        "        Le DataLoader contenant les données d'entraînement.\n",
        "    testset : torch.utils.data.Dataset\n",
        "        Le jeu de données de test utilisé pour évaluer le modèle après chaque époque.\n",
        "\n",
        "    Returns:\n",
        "    --------\n",
        "    true_error : float\n",
        "        L'erreur moyenne quadratique sur le jeu de données de test.\n",
        "    losslist : list\n",
        "        Liste des valeurs de la fonction de perte moyenne sur les données d'entraînement pour chaque époque.\n",
        "    \"\"\"\n",
        "    model.train()\n",
        "    losslist = []\n",
        "    for epoch in tqdm(range(epochs)):\n",
        "        running_loss = 0\n",
        "        for dirty, clean, label in trainloader:  \n",
        "            \n",
        "            dirty = dirty.view(dirty.size(0), -1).type(torch.FloatTensor)\n",
        "            classifier_input = autoencoder.encode(dirty).detach()\n",
        "            optimizer.zero_grad()\n",
        "\n",
        "            # Forward pass\n",
        "            output = model(classifier_input)\n",
        "            loss = criterion(output, label)\n",
        "\n",
        "            # Rétropropagation\n",
        "            loss.backward()\n",
        "            optimizer.step()\n",
        "            \n",
        "            running_loss += loss.item()\n",
        "\n",
        "        # Calcul de la perte moyenne pour cette époque\n",
        "        losslist.append(running_loss/len(trainloader))\n",
        "\n",
        "    # Calcul de l'erreur moyenne quadratique sur le jeu de données de test\n",
        "    true_error = 0\n",
        "    for test in testset:\n",
        "        true_error += 1 if test[2] == torch.argmax(model(autoencoder.encode(test[0].view(test[0].size(0), -1).type(torch.FloatTensor)).detach())).item() else 0\n",
        "    true_error /= len(testset)\n",
        "\n",
        "    return true_error, losslist"
      ]
    },
    {
      "cell_type": "code",
      "execution_count": 357,
      "metadata": {},
      "outputs": [],
      "source": [
        "classifier = small_classifier(hidden_size=25, hidden_number=2)\n",
        "classif_optim = optim.Adam(classifier.parameters(), 1e-3)\n",
        "classif_crite = nn.CrossEntropyLoss()"
      ]
    },
    {
      "cell_type": "code",
      "execution_count": 358,
      "metadata": {},
      "outputs": [
        {
          "name": "stderr",
          "output_type": "stream",
          "text": [
            "100%|██████████| 100/100 [03:31<00:00,  2.12s/it]\n"
          ]
        },
        {
          "data": {
            "text/plain": [
              "(0.4382,\n",
              " [2.263839962085088,\n",
              "  2.1766432881355287,\n",
              "  2.1558401505152385,\n",
              "  2.151380028327306,\n",
              "  2.1450282454490663,\n",
              "  2.1286065856615703,\n",
              "  2.1206479489803316,\n",
              "  2.1151970088481904,\n",
              "  2.1109767854213715,\n",
              "  2.109115034341812,\n",
              "  2.1070095539093017,\n",
              "  2.1042496184508006,\n",
              "  2.1058080891768136,\n",
              "  2.102555040518443,\n",
              "  2.1078161120414736,\n",
              "  2.102584147453308,\n",
              "  2.102790206670761,\n",
              "  2.1036089022954303,\n",
              "  2.1005363941192625,\n",
              "  2.1002460102240246,\n",
              "  2.099074681599935,\n",
              "  2.0993248999118803,\n",
              "  2.1003621578216554,\n",
              "  2.095743848880132,\n",
              "  2.0973689178625743,\n",
              "  2.098983955383301,\n",
              "  2.095850880940755,\n",
              "  2.0958453079064685,\n",
              "  2.097158606847127,\n",
              "  2.094243218501409,\n",
              "  2.0959286371866863,\n",
              "  2.0947337687015533,\n",
              "  2.0940600375334424,\n",
              "  2.094219007094701,\n",
              "  2.0931772808233897,\n",
              "  2.093232887983322,\n",
              "  2.0961020092169442,\n",
              "  2.093612289428711,\n",
              "  2.096105209986369,\n",
              "  2.092008298635483,\n",
              "  2.093387269973755,\n",
              "  2.0960076888402304,\n",
              "  2.093712117274602,\n",
              "  2.092293135325114,\n",
              "  2.0947480758031207,\n",
              "  2.092670875787735,\n",
              "  2.0917406539122263,\n",
              "  2.093026254574458,\n",
              "  2.0918306410312653,\n",
              "  2.0926792403062184,\n",
              "  2.0915959695974986,\n",
              "  2.0900262176990507,\n",
              "  2.094397195180257,\n",
              "  2.092489260435104,\n",
              "  2.092315689722697,\n",
              "  2.089484892288844,\n",
              "  2.0899432440598806,\n",
              "  2.0968157152334848,\n",
              "  2.0914340635140736,\n",
              "  2.089398900667826,\n",
              "  2.0893263816833496,\n",
              "  2.0891487061977387,\n",
              "  2.0898940126101175,\n",
              "  2.0924506704012553,\n",
              "  2.090051503976186,\n",
              "  2.0894070327281953,\n",
              "  2.0901527523994448,\n",
              "  2.090296514829,\n",
              "  2.0902907808621722,\n",
              "  2.0899886667728422,\n",
              "  2.090931965907415,\n",
              "  2.090718799829483,\n",
              "  2.089856823285421,\n",
              "  2.0886150976022084,\n",
              "  2.0903693616390226,\n",
              "  2.0890965541203816,\n",
              "  2.0896362602710723,\n",
              "  2.087839988867442,\n",
              "  2.0897182703018187,\n",
              "  2.0947499652703603,\n",
              "  2.0891558031241098,\n",
              "  2.08877707918485,\n",
              "  2.0882461031277972,\n",
              "  2.087954584757487,\n",
              "  2.089272226889928,\n",
              "  2.089217406511307,\n",
              "  2.0889597872893018,\n",
              "  2.091733008623123,\n",
              "  2.090591581662496,\n",
              "  2.089269785086314,\n",
              "  2.087108325958252,\n",
              "  2.0876610736052195,\n",
              "  2.0885496020317076,\n",
              "  2.0893284499645235,\n",
              "  2.0880069216092427,\n",
              "  2.087370983759562,\n",
              "  2.087280887365341,\n",
              "  2.08829473455747,\n",
              "  2.0898620426654815,\n",
              "  2.0876374304294587])"
            ]
          },
          "execution_count": 358,
          "metadata": {},
          "output_type": "execute_result"
        }
      ],
      "source": [
        "train_test_classifier(classifier, best_model_all, classif_optim, classif_crite, 100, device, trainloader_all, testset_all)"
      ]
    },
    {
      "cell_type": "code",
      "execution_count": 345,
      "metadata": {},
      "outputs": [
        {
          "data": {
            "text/plain": [
              "6"
            ]
          },
          "execution_count": 345,
          "metadata": {},
          "output_type": "execute_result"
        }
      ],
      "source": [
        "torch.argmax(classifier(best_model_all.encode(testset_all[4][1].view(testset_all[1][1].size(0), -1).type(torch.FloatTensor)).detach())).item()"
      ]
    },
    {
      "cell_type": "code",
      "execution_count": 346,
      "metadata": {},
      "outputs": [
        {
          "data": {
            "text/plain": [
              "<matplotlib.image.AxesImage at 0x7cbb82b9a590>"
            ]
          },
          "execution_count": 346,
          "metadata": {},
          "output_type": "execute_result"
        },
        {
          "data": {
            "image/png": "[encoded data removed]",
            "text/plain": [
              "<Figure size 432x288 with 1 Axes>"
            ]
          },
          "metadata": {
            "needs_background": "light"
          },
          "output_type": "display_data"
        }
      ],
      "source": [
        "plt.imshow(testset_all[4][1].reshape((28,28)))"
      ]
    },
    {
      "cell_type": "code",
      "execution_count": 57,
      "metadata": {},
      "outputs": [],
      "source": [
        "mnist_ = mnist.load_data()\n",
        "\n",
        "train_mask = (mnist_[0][1] == 3) | (mnist_[0][1] == 8) | (mnist_[0][1] == 5) | (mnist_[0][1] == 9)\n",
        "test_mask = (mnist_[1][1] == 3) | (mnist_[1][1] == 8) | (mnist_[1][1] == 5) | (mnist_[1][1] == 9)\n",
        "\n",
        "(xtrain, ytrain) = mnist_[0][0][train_mask], mnist_[0][1][train_mask]\n",
        "(xtest, ytest) = mnist_[1][0][test_mask], mnist_[1][1][test_mask]"
      ]
    },
    {
      "cell_type": "code",
      "execution_count": 58,
      "metadata": {},
      "outputs": [],
      "source": [
        "xtrain = np.array([minmax_scale(x) for x in xtrain])\n",
        "xtest = np.array([minmax_scale(x) for x in xtest])"
      ]
    },
    {
      "cell_type": "code",
      "execution_count": 59,
      "metadata": {},
      "outputs": [
        {
          "data": {
            "text/plain": [
              "(23352, 28, 28)"
            ]
          },
          "execution_count": 59,
          "metadata": {},
          "output_type": "execute_result"
        }
      ],
      "source": [
        "xtrain.shape"
      ]
    },
    {
      "cell_type": "code",
      "execution_count": 60,
      "metadata": {},
      "outputs": [
        {
          "name": "stderr",
          "output_type": "stream",
          "text": [
            " 49%|████▉     | 11428/23352 [00:00<00:00, 29172.83it/s]"
          ]
        },
        {
          "name": "stdout",
          "output_type": "stream",
          "text": [
            "\n",
            "gaussian noise addition completed to images\n"
          ]
        },
        {
          "name": "stderr",
          "output_type": "stream",
          "text": [
            " 91%|█████████ | 21299/23352 [00:00<00:00, 32518.65it/s]"
          ]
        },
        {
          "name": "stdout",
          "output_type": "stream",
          "text": [
            "\n",
            "speckle noise addition completed to images\n"
          ]
        },
        {
          "name": "stderr",
          "output_type": "stream",
          "text": [
            "100%|██████████| 23352/23352 [00:00<00:00, 30785.53it/s]\n"
          ]
        },
        {
          "name": "stdout",
          "output_type": "stream",
          "text": [
            "\n",
            "salt_pepper noise addition completed to images\n"
          ]
        },
        {
          "name": "stderr",
          "output_type": "stream",
          "text": [
            "100%|██████████| 3885/3885 [00:00<00:00, 28577.87it/s]"
          ]
        },
        {
          "name": "stdout",
          "output_type": "stream",
          "text": [
            "\n",
            "gaussian noise addition completed to images\n",
            "\n",
            "speckle noise addition completed to images\n",
            "\n",
            "salt_pepper noise addition completed to images\n"
          ]
        },
        {
          "name": "stderr",
          "output_type": "stream",
          "text": [
            "\n"
          ]
        }
      ],
      "source": [
        "\"\"\"\n",
        "From here onwards,we split the 60k training datapoints into 3 sets each given one type of each noise.\n",
        "We shuffle them for better generalization.\n",
        "\"\"\"\n",
        "noises = [\"gaussian\", \"speckle\", \"salt_pepper\"]\n",
        "noise_ct = 0\n",
        "noise_id = 0\n",
        "traindata = np.zeros((len(xtrain), 28, 28))\n",
        "\n",
        "\n",
        "for idx in tqdm(range(len(xtrain))):\n",
        "  if noise_ct < len(xtrain)/3:\n",
        "    noise_ct += 1\n",
        "    traindata[idx] = add_noise(xtrain[idx], noise_type=noises[noise_id], scale=1)\n",
        "  else:\n",
        "    print(\"\\n{} noise addition completed to images\".format(noises[noise_id]))\n",
        "    noise_id += 1\n",
        "    noise_ct = 0\n",
        "\n",
        "\n",
        "print(\"\\n{} noise addition completed to images\".format(noises[noise_id])) \n",
        "\n",
        "\n",
        "noise_ct = 0\n",
        "noise_id = 0\n",
        "testdata = np.zeros((17000, 28, 28))\n",
        "\n",
        "for idx in tqdm(range(len(xtest))):\n",
        "  if noise_ct < len(xtest)/3:\n",
        "    noise_ct += 1\n",
        "    x = add_noise(xtest[idx], noise_type=noises[noise_id])\n",
        "    testdata[idx] = x\n",
        "    \n",
        "  else:\n",
        "    print(\"\\n{} noise addition completed to images\".format(noises[noise_id]))\n",
        "    noise_id += 1\n",
        "    noise_ct = 0\n",
        "\n",
        "print(\"\\n{} noise addition completed to images\".format(noises[noise_id]))    \n",
        "  "
      ]
    },
    {
      "cell_type": "code",
      "execution_count": 61,
      "metadata": {},
      "outputs": [
        {
          "data": {
            "image/png": "[encoded data removed]",
            "text/plain": [
              "<Figure size 640x480 with 6 Axes>"
            ]
          },
          "metadata": {},
          "output_type": "display_data"
        }
      ],
      "source": [
        "\"\"\"\n",
        "Here we Try to visualize, each type of noise that was introduced in the images\n",
        "Along with their original versions\n",
        "\n",
        "\"\"\"\n",
        "\n",
        "f, axes=plt.subplots(2,3)\n",
        "\n",
        "#showing images with gaussian noise\n",
        "axes[0,0].imshow(xtrain[0], cmap=\"gray\")\n",
        "axes[0,0].set_title(\"Original Image\")\n",
        "axes[1,0].imshow(traindata[0], cmap='gray')\n",
        "axes[1,0].set_title(\"Gaussian Noised Image\")\n",
        "\n",
        "#showing images with salt and pepper noise\n",
        "axes[0,1].imshow(xtrain[18000], cmap='gray')\n",
        "axes[0,1].set_title(\"Original Image\")\n",
        "axes[1,1].imshow(traindata[18000], cmap=\"gray\")\n",
        "axes[1,1].set_title(\"S&P Noised Image\")\n",
        "\n",
        "#showing imags with the speckle noise\n",
        "axes[0,2].imshow(xtrain[9000], cmap='gray')\n",
        "axes[0,2].set_title(\"Original Image\")\n",
        "axes[1,2].imshow(traindata[9000], cmap=\"gray\")\n",
        "axes[1,2].set_title(\"Speckle Noised Image\")\n",
        "\n",
        "plt.tight_layout()"
      ]
    },
    {
      "cell_type": "code",
      "execution_count": 62,
      "metadata": {},
      "outputs": [],
      "source": [
        "tsfms = transforms.Compose([\n",
        "    transforms.ToTensor()\n",
        "])\n",
        "\n",
        "trainset = noisedDataset(traindata, xtrain, ytrain, tsfms)\n",
        "testset = noisedDataset(testdata, xtest, ytest, tsfms)"
      ]
    },
    {
      "cell_type": "code",
      "execution_count": 63,
      "metadata": {},
      "outputs": [
        {
          "data": {
            "text/plain": [
              "array([[0.        , 0.        , 0.        , 0.        , 0.        ,\n",
              "        0.        , 0.        , 0.        , 0.        , 0.        ,\n",
              "        0.        , 0.        , 0.        , 0.        , 0.        ,\n",
              "        0.        , 0.        , 0.        , 0.        , 0.        ,\n",
              "        0.        , 0.        , 0.        , 0.        , 0.        ,\n",
              "        0.        , 0.        , 0.        ],\n",
              "       [0.        , 0.        , 0.        , 0.        , 0.        ,\n",
              "        0.        , 0.        , 0.        , 0.        , 0.        ,\n",
              "        0.        , 0.        , 0.        , 0.        , 0.        ,\n",
              "        0.        , 0.        , 0.        , 0.        , 0.        ,\n",
              "        0.        , 0.        , 0.        , 0.        , 0.        ,\n",
              "        0.        , 0.        , 0.        ],\n",
              "       [0.        , 0.        , 0.        , 0.        , 0.        ,\n",
              "        0.        , 0.        , 0.        , 0.        , 0.        ,\n",
              "        0.        , 0.        , 0.        , 0.        , 0.        ,\n",
              "        0.        , 0.        , 0.        , 0.        , 0.        ,\n",
              "        0.        , 0.        , 0.        , 0.        , 0.        ,\n",
              "        0.        , 0.        , 0.        ],\n",
              "       [0.        , 0.        , 0.        , 0.        , 0.        ,\n",
              "        0.        , 0.        , 0.        , 0.        , 0.        ,\n",
              "        0.        , 0.        , 0.        , 0.        , 0.        ,\n",
              "        0.        , 0.        , 0.        , 0.        , 0.        ,\n",
              "        0.        , 0.        , 0.        , 0.        , 0.        ,\n",
              "        0.        , 0.        , 0.        ],\n",
              "       [0.        , 0.        , 0.        , 0.        , 0.        ,\n",
              "        0.        , 0.        , 0.        , 0.        , 0.        ,\n",
              "        0.        , 0.        , 0.        , 0.        , 0.        ,\n",
              "        0.        , 0.        , 0.        , 0.        , 0.        ,\n",
              "        0.        , 0.        , 0.        , 0.        , 0.        ,\n",
              "        0.        , 0.        , 0.        ],\n",
              "       [0.        , 0.        , 0.        , 0.        , 0.        ,\n",
              "        0.        , 0.        , 0.        , 0.        , 0.        ,\n",
              "        0.        , 0.        , 0.01185771, 0.07114625, 0.07114625,\n",
              "        0.07114625, 0.49802372, 0.53754941, 0.6916996 , 0.10441767,\n",
              "        0.65612648, 1.        , 1.        , 1.        , 0.        ,\n",
              "        0.        , 0.        , 0.        ],\n",
              "       [0.        , 0.        , 0.        , 0.        , 0.        ,\n",
              "        0.        , 0.        , 0.        , 0.11857708, 0.14229249,\n",
              "        0.3715415 , 0.60869565, 0.67193676, 1.        , 1.        ,\n",
              "        1.        , 1.        , 1.        , 0.88932806, 0.69076305,\n",
              "        1.        , 0.94901961, 0.78947368, 0.50393701, 0.        ,\n",
              "        0.        , 0.        , 0.        ],\n",
              "       [0.        , 0.        , 0.        , 0.        , 0.        ,\n",
              "        0.        , 0.        , 0.19367589, 0.94071146, 1.        ,\n",
              "        1.        , 1.        , 1.        , 1.        , 1.        ,\n",
              "        1.        , 1.        , 0.99209486, 0.36758893, 0.32931727,\n",
              "        0.32411067, 0.21960784, 0.15789474, 0.        , 0.        ,\n",
              "        0.        , 0.        , 0.        ],\n",
              "       [0.        , 0.        , 0.        , 0.        , 0.        ,\n",
              "        0.        , 0.        , 0.07114625, 0.86561265, 1.        ,\n",
              "        1.        , 1.        , 1.        , 1.        , 0.7826087 ,\n",
              "        0.71936759, 0.97628458, 0.95256917, 0.        , 0.        ,\n",
              "        0.        , 0.        , 0.        , 0.        , 0.        ,\n",
              "        0.        , 0.        , 0.        ],\n",
              "       [0.        , 0.        , 0.        , 0.        , 0.        ,\n",
              "        0.        , 0.        , 0.        , 0.31620553, 0.61660079,\n",
              "        0.4229249 , 1.        , 1.        , 0.81027668, 0.04347826,\n",
              "        0.        , 0.16996047, 0.60869565, 0.        , 0.        ,\n",
              "        0.        , 0.        , 0.        , 0.        , 0.        ,\n",
              "        0.        , 0.        , 0.        ],\n",
              "       [0.        , 0.        , 0.        , 0.        , 0.        ,\n",
              "        0.        , 0.        , 0.        , 0.        , 0.05533597,\n",
              "        0.00395257, 0.60869565, 1.        , 0.35573123, 0.        ,\n",
              "        0.        , 0.        , 0.        , 0.        , 0.        ,\n",
              "        0.        , 0.        , 0.        , 0.        , 0.        ,\n",
              "        0.        , 0.        , 0.        ],\n",
              "       [0.        , 0.        , 0.        , 0.        , 0.        ,\n",
              "        0.        , 0.        , 0.        , 0.        , 0.        ,\n",
              "        0.        , 0.54940711, 1.        , 0.75098814, 0.00790514,\n",
              "        0.        , 0.        , 0.        , 0.        , 0.        ,\n",
              "        0.        , 0.        , 0.        , 0.        , 0.        ,\n",
              "        0.        , 0.        , 0.        ],\n",
              "       [0.        , 0.        , 0.        , 0.        , 0.        ,\n",
              "        0.        , 0.        , 0.        , 0.        , 0.        ,\n",
              "        0.        , 0.04347826, 0.75098814, 1.        , 0.27667984,\n",
              "        0.        , 0.        , 0.        , 0.        , 0.        ,\n",
              "        0.        , 0.        , 0.        , 0.        , 0.        ,\n",
              "        0.        , 0.        , 0.        ],\n",
              "       [0.        , 0.        , 0.        , 0.        , 0.        ,\n",
              "        0.        , 0.        , 0.        , 0.        , 0.        ,\n",
              "        0.        , 0.        , 0.13833992, 0.95256917, 0.88932806,\n",
              "        0.63241107, 0.42687747, 0.00395257, 0.        , 0.        ,\n",
              "        0.        , 0.        , 0.        , 0.        , 0.        ,\n",
              "        0.        , 0.        , 0.        ],\n",
              "       [0.        , 0.        , 0.        , 0.        , 0.        ,\n",
              "        0.        , 0.        , 0.        , 0.        , 0.        ,\n",
              "        0.        , 0.        , 0.        , 0.3201581 , 0.9486166 ,\n",
              "        1.        , 1.        , 0.47035573, 0.09881423, 0.        ,\n",
              "        0.        , 0.        , 0.        , 0.        , 0.        ,\n",
              "        0.        , 0.        , 0.        ],\n",
              "       [0.        , 0.        , 0.        , 0.        , 0.        ,\n",
              "        0.        , 0.        , 0.        , 0.        , 0.        ,\n",
              "        0.        , 0.        , 0.        , 0.        , 0.17786561,\n",
              "        0.73517787, 1.        , 1.        , 0.59288538, 0.10843373,\n",
              "        0.        , 0.        , 0.        , 0.        , 0.        ,\n",
              "        0.        , 0.        , 0.        ],\n",
              "       [0.        , 0.        , 0.        , 0.        , 0.        ,\n",
              "        0.        , 0.        , 0.        , 0.        , 0.        ,\n",
              "        0.        , 0.        , 0.        , 0.        , 0.        ,\n",
              "        0.06324111, 0.36758893, 0.99604743, 1.        , 0.75100402,\n",
              "        0.        , 0.        , 0.        , 0.        , 0.        ,\n",
              "        0.        , 0.        , 0.        ],\n",
              "       [0.        , 0.        , 0.        , 0.        , 0.        ,\n",
              "        0.        , 0.        , 0.        , 0.        , 0.        ,\n",
              "        0.        , 0.        , 0.        , 0.        , 0.        ,\n",
              "        0.        , 0.        , 0.98418972, 1.        , 1.        ,\n",
              "        0.25296443, 0.        , 0.        , 0.        , 0.        ,\n",
              "        0.        , 0.        , 0.        ],\n",
              "       [0.        , 0.        , 0.        , 0.        , 0.        ,\n",
              "        0.        , 0.        , 0.        , 0.        , 0.        ,\n",
              "        0.        , 0.        , 0.        , 0.        , 0.18181818,\n",
              "        0.51383399, 0.72332016, 1.        , 1.        , 0.8313253 ,\n",
              "        0.00790514, 0.        , 0.        , 0.        , 0.        ,\n",
              "        0.        , 0.        , 0.        ],\n",
              "       [0.        , 0.        , 0.        , 0.        , 0.        ,\n",
              "        0.        , 0.        , 0.        , 0.        , 0.        ,\n",
              "        0.        , 0.        , 0.1541502 , 0.58498024, 0.90513834,\n",
              "        1.        , 1.        , 1.        , 0.98814229, 0.73092369,\n",
              "        0.        , 0.        , 0.        , 0.        , 0.        ,\n",
              "        0.        , 0.        , 0.        ],\n",
              "       [0.        , 0.        , 0.        , 0.        , 0.        ,\n",
              "        0.        , 0.        , 0.        , 0.        , 0.        ,\n",
              "        0.09486166, 0.45059289, 0.87351779, 1.        , 1.        ,\n",
              "        1.        , 1.        , 0.7944664 , 0.3083004 , 0.        ,\n",
              "        0.        , 0.        , 0.        , 0.        , 0.        ,\n",
              "        0.        , 0.        , 0.        ],\n",
              "       [0.        , 0.        , 0.        , 0.        , 0.        ,\n",
              "        0.        , 0.        , 0.        , 0.09090909, 0.26086957,\n",
              "        0.84189723, 1.        , 1.        , 1.        , 1.        ,\n",
              "        0.7826087 , 0.3201581 , 0.00790514, 0.        , 0.        ,\n",
              "        0.        , 0.        , 0.        , 0.        , 0.        ,\n",
              "        0.        , 0.        , 0.        ],\n",
              "       [0.        , 0.        , 0.        , 0.        , 0.        ,\n",
              "        0.        , 0.07114625, 0.67588933, 0.86561265, 1.        ,\n",
              "        1.        , 1.        , 1.        , 0.77075099, 0.31620553,\n",
              "        0.03557312, 0.        , 0.        , 0.        , 0.        ,\n",
              "        0.        , 0.        , 0.        , 0.        , 0.        ,\n",
              "        0.        , 0.        , 0.        ],\n",
              "       [0.        , 0.        , 0.        , 0.        , 0.40441176,\n",
              "        0.6798419 , 0.89328063, 1.        , 1.        , 1.        ,\n",
              "        1.        , 0.96442688, 0.5256917 , 0.04347826, 0.        ,\n",
              "        0.        , 0.        , 0.        , 0.        , 0.        ,\n",
              "        0.        , 0.        , 0.        , 0.        , 0.        ,\n",
              "        0.        , 0.        , 0.        ],\n",
              "       [0.        , 0.        , 0.        , 0.        , 1.        ,\n",
              "        1.        , 1.        , 1.        , 0.83794466, 0.53359684,\n",
              "        0.52173913, 0.06324111, 0.        , 0.        , 0.        ,\n",
              "        0.        , 0.        , 0.        , 0.        , 0.        ,\n",
              "        0.        , 0.        , 0.        , 0.        , 0.        ,\n",
              "        0.        , 0.        , 0.        ],\n",
              "       [0.        , 0.        , 0.        , 0.        , 0.        ,\n",
              "        0.        , 0.        , 0.        , 0.        , 0.        ,\n",
              "        0.        , 0.        , 0.        , 0.        , 0.        ,\n",
              "        0.        , 0.        , 0.        , 0.        , 0.        ,\n",
              "        0.        , 0.        , 0.        , 0.        , 0.        ,\n",
              "        0.        , 0.        , 0.        ],\n",
              "       [0.        , 0.        , 0.        , 0.        , 0.        ,\n",
              "        0.        , 0.        , 0.        , 0.        , 0.        ,\n",
              "        0.        , 0.        , 0.        , 0.        , 0.        ,\n",
              "        0.        , 0.        , 0.        , 0.        , 0.        ,\n",
              "        0.        , 0.        , 0.        , 0.        , 0.        ,\n",
              "        0.        , 0.        , 0.        ],\n",
              "       [0.        , 0.        , 0.        , 0.        , 0.        ,\n",
              "        0.        , 0.        , 0.        , 0.        , 0.        ,\n",
              "        0.        , 0.        , 0.        , 0.        , 0.        ,\n",
              "        0.        , 0.        , 0.        , 0.        , 0.        ,\n",
              "        0.        , 0.        , 0.        , 0.        , 0.        ,\n",
              "        0.        , 0.        , 0.        ]])"
            ]
          },
          "execution_count": 63,
          "metadata": {},
          "output_type": "execute_result"
        }
      ],
      "source": [
        "trainset.clean[0]"
      ]
    },
    {
      "cell_type": "code",
      "execution_count": 64,
      "metadata": {},
      "outputs": [],
      "source": [
        "\"\"\"\n",
        "Here , we create the trainloaders and testloaders.\n",
        "Also, we transform the images using standard lib functions\n",
        "\"\"\"\n",
        "\n",
        "batch_size = 32\n",
        "\n",
        "trainloader = DataLoader(trainset, batch_size=32, shuffle=True)\n",
        "testloader  = DataLoader(testset, batch_size=1, shuffle=True)"
      ]
    },
    {
      "cell_type": "code",
      "execution_count": 66,
      "metadata": {},
      "outputs": [
        {
          "data": {
            "image/png": "[encoded data removed]",
            "text/plain": [
              "<Figure size 2000x2000 with 18 Axes>"
            ]
          },
          "metadata": {},
          "output_type": "display_data"
        }
      ],
      "source": [
        "\"\"\"\n",
        "Here, we try to visualize some of the results.\n",
        "We randomly generate 6 numbers in between 1 and 10k , run them through the model,\n",
        "and show the results with comparisons\n",
        "\"\"\"\n",
        "f,axes= plt.subplots(6,3,figsize=(20,20))\n",
        "axes[0,0].set_title(\"Original Image\")\n",
        "axes[0,1].set_title(\"Dirty Image\")\n",
        "axes[0,2].set_title(\"Cleaned Image\")\n",
        "\n",
        "test_imgs=np.random.randint(0,len(xtest),size=6)\n",
        "for idx in range((6)):\n",
        "  dirty=testset[test_imgs[idx]][0]\n",
        "  clean=testset[test_imgs[idx]][1]\n",
        "  label=testset[test_imgs[idx]][2]\n",
        "  dirty=dirty.view(dirty.size(0),-1).type(torch.FloatTensor)\n",
        "  dirty=dirty.to(device)\n",
        "  output=test_model(dirty)\n",
        "  \n",
        "  output=output.view(1,28,28)\n",
        "  output=output.permute(1,2,0).squeeze(2)\n",
        "  output=output.detach().cpu().numpy()\n",
        "  \n",
        "  dirty=dirty.view(1,28,28)\n",
        "  dirty=dirty.permute(1,2,0).squeeze(2)\n",
        "  dirty=dirty.detach().cpu().numpy()\n",
        "  \n",
        "  clean=clean.permute(1,2,0).squeeze(2)\n",
        "  clean=clean.detach().cpu().numpy()\n",
        "  \n",
        "  axes[idx,0].imshow(clean,cmap=\"gray\")\n",
        "  axes[idx,1].imshow(dirty,cmap=\"gray\")\n",
        "  axes[idx,2].imshow(output,cmap=\"gray\")\n"
      ]
    },
    {
      "cell_type": "markdown",
      "metadata": {},
      "source": [
        "Les résultats montrent que notre modèle n'est pas capable de se généraliser à des images qu'il n'a jamais traité lors de son entraînement. L'apprentissage de représentation est très important pour le débruitage des données et dans notre cas, le modèle est capable de deviner quelques formes mais pas de restituer l'image de base. Sur les images débruitées, on retrouve des formes de 1 ou de 7, montrant que les connaissances de représentation du modèle sont basée sur des images de 1 et de 7. "
      ]
    },
    {
      "cell_type": "markdown",
      "metadata": {},
      "source": [
        "Nous allons à présent entraîner un modèle avec tous les chiffres du dataset MNIST afin qu'il soit le plus généralisable possible."
      ]
    }
  ],
  "metadata": {
    "accelerator": "GPU",
    "colab": {
      "collapsed_sections": [],
      "name": "DenoisingAutoencoder.ipynb",
      "provenance": [],
      "version": "0.3.2"
    },
    "kernelspec": {
      "display_name": "Python 3",
      "name": "python3"
    },
    "language_info": {
      "codemirror_mode": {
        "name": "ipython",
        "version": 3
      },
      "file_extension": ".py",
      "mimetype": "text/x-python",
      "name": "python",
      "nbconvert_exporter": "python",
      "pygments_lexer": "ipython3",
      "version": "3.10.12"
    }
  },
  "nbformat": 4,
  "nbformat_minor": 0
}
