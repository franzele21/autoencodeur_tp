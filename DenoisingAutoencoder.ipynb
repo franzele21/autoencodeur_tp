{
  "cells": [
    {
      "cell_type": "code",
      "execution_count": 1,
      "metadata": {
        "colab": {
          "base_uri": "https://localhost:8080/",
          "height": 35
        },
        "colab_type": "code",
        "id": "QbygB5YNKEMJ",
        "outputId": "cfca99ba-bbe3-48ed-9ed1-a5c189ad9469"
      },
      "outputs": [
        {
          "name": "stderr",
          "output_type": "stream",
          "text": [
            "2024-03-28 12:56:45.692888: I tensorflow/core/util/port.cc:113] oneDNN custom operations are on. You may see slightly different numerical results due to floating-point round-off errors from different computation orders. To turn them off, set the environment variable `TF_ENABLE_ONEDNN_OPTS=0`.\n",
            "2024-03-28 12:56:45.725394: E external/local_xla/xla/stream_executor/cuda/cuda_dnn.cc:9261] Unable to register cuDNN factory: Attempting to register factory for plugin cuDNN when one has already been registered\n",
            "2024-03-28 12:56:45.725428: E external/local_xla/xla/stream_executor/cuda/cuda_fft.cc:607] Unable to register cuFFT factory: Attempting to register factory for plugin cuFFT when one has already been registered\n",
            "2024-03-28 12:56:45.726337: E external/local_xla/xla/stream_executor/cuda/cuda_blas.cc:1515] Unable to register cuBLAS factory: Attempting to register factory for plugin cuBLAS when one has already been registered\n",
            "2024-03-28 12:56:45.732306: I tensorflow/core/platform/cpu_feature_guard.cc:182] This TensorFlow binary is optimized to use available CPU instructions in performance-critical operations.\n",
            "To enable the following instructions: AVX2 AVX512F AVX512_VNNI FMA, in other operations, rebuild TensorFlow with the appropriate compiler flags.\n",
            "2024-03-28 12:56:46.389782: W tensorflow/compiler/tf2tensorrt/utils/py_utils.cc:38] TF-TRT Warning: Could not find TensorRT\n"
          ]
        }
      ],
      "source": [
        "import numpy as np\n",
        "from keras.datasets import mnist\n",
        "import matplotlib.pyplot as plt\n",
        "from tqdm import tqdm\n",
        "from torchvision import transforms\n",
        "import torch.nn as nn\n",
        "from torch.utils.data import DataLoader,Dataset\n",
        "import torch\n",
        "import torch.optim as optim\n",
        "from torch.autograd import Variable\n",
        "\n",
        "from typing import Callable"
      ]
    },
    {
      "cell_type": "code",
      "execution_count": 2,
      "metadata": {
        "colab": {},
        "colab_type": "code",
        "id": "fbKtjNSyKclx"
      },
      "outputs": [],
      "source": [
        "\"\"\"\n",
        "Here we load the dataset, add gaussian,poisson,speckle\n",
        "\n",
        "    'gauss'     Gaussian-distributed additive noise.\n",
        "    'speckle'   Multiplicative noise using out = image + n*image,where\n",
        "                n is uniform noise with specified mean & variance.\n",
        "                \n",
        "We define a function that adds each noise when called from main function\n",
        "Input & Output: np array\n",
        "                \n",
        "\"\"\"\n",
        "\n",
        "\n",
        "def add_noise(img, noise_type=\"gaussian\"):\n",
        "  \n",
        "  row, col = 28, 28\n",
        "  img = img.astype(np.float32)\n",
        "  \n",
        "  if noise_type == \"gaussian\":\n",
        "    mean  = 0\n",
        "    var   = 10\n",
        "    sigma = var**.5\n",
        "    noise = np.random.normal(-5.9, 5.9, img.shape)\n",
        "    noise = noise.reshape(row, col)\n",
        "    img   = img + noise\n",
        "    return img\n",
        "\n",
        "  if noise_type == \"speckle\":\n",
        "    noise = np.random.randn(row, col)\n",
        "    noise = noise.reshape(row, col)\n",
        "    img   = img + img*noise\n",
        "    return img"
      ]
    },
    {
      "cell_type": "code",
      "execution_count": 3,
      "metadata": {},
      "outputs": [],
      "source": [
        "mnist_ = mnist.load_data()\n",
        "\n",
        "train_mask = (mnist_[0][1] == 1) | (mnist_[0][1] == 7)\n",
        "test_mask = (mnist_[1][1] == 1) | (mnist_[1][1] == 7)\n",
        "\n",
        "(xtrain, ytrain) = mnist_[0][0][train_mask], mnist_[0][1][train_mask]\n",
        "(xtest, ytest) = mnist_[1][0][test_mask], mnist_[1][1][test_mask]"
      ]
    },
    {
      "cell_type": "code",
      "execution_count": 4,
      "metadata": {
        "colab": {
          "base_uri": "https://localhost:8080/",
          "height": 87
        },
        "colab_type": "code",
        "id": "crPgb8VXOceY",
        "outputId": "ada9c8c1-4bbc-4880-ca46-cfa504885fe9"
      },
      "outputs": [
        {
          "name": "stdout",
          "output_type": "stream",
          "text": [
            "No of training datapoints:13007\n",
            "No of Test datapoints:2163\n"
          ]
        }
      ],
      "source": [
        "print(\"No of training datapoints:{}\\nNo of Test datapoints:{}\".format(len(xtrain), len(xtest)))"
      ]
    },
    {
      "cell_type": "code",
      "execution_count": 5,
      "metadata": {
        "colab": {
          "base_uri": "https://localhost:8080/",
          "height": 191
        },
        "colab_type": "code",
        "id": "7kq9PiLARTic",
        "outputId": "480e62e7-4ed2-4278-c47c-f7770accaad2"
      },
      "outputs": [
        {
          "name": "stderr",
          "output_type": "stream",
          "text": [
            " 24%|██▍       | 3136/13007 [00:00<00:00, 31352.93it/s]"
          ]
        },
        {
          "name": "stdout",
          "output_type": "stream",
          "text": [
            "\n",
            "gaussian noise addition completed to images\n"
          ]
        },
        {
          "name": "stderr",
          "output_type": "stream",
          "text": [
            "100%|██████████| 13007/13007 [00:00<00:00, 38111.36it/s]\n"
          ]
        },
        {
          "name": "stdout",
          "output_type": "stream",
          "text": [
            "\n",
            "speckle noise addition completed to images\n"
          ]
        },
        {
          "name": "stderr",
          "output_type": "stream",
          "text": [
            "  0%|          | 0/2163 [00:00<?, ?it/s]"
          ]
        },
        {
          "name": "stdout",
          "output_type": "stream",
          "text": [
            "\n",
            "gaussian noise addition completed to images\n"
          ]
        },
        {
          "name": "stderr",
          "output_type": "stream",
          "text": [
            "100%|██████████| 2163/2163 [00:00<00:00, 42249.12it/s]"
          ]
        },
        {
          "name": "stdout",
          "output_type": "stream",
          "text": [
            "\n",
            "speckle noise addition completed to images\n"
          ]
        },
        {
          "name": "stderr",
          "output_type": "stream",
          "text": [
            "\n"
          ]
        }
      ],
      "source": [
        "\"\"\"\n",
        "From here onwards,we split the 60k training datapoints into 3 sets each given one type of each noise.\n",
        "We shuffle them for better generalization.\n",
        "\"\"\"\n",
        "noises = [\"gaussian\", \"speckle\"]\n",
        "noise_ct = 0\n",
        "noise_id = 0\n",
        "traindata = np.zeros((len(xtrain), 28, 28))\n",
        "\n",
        "\n",
        "\n",
        "for idx in tqdm(range(len(xtrain))):\n",
        "  if noise_ct < len(xtrain)/2:\n",
        "    noise_ct += 1\n",
        "    traindata[idx] = add_noise(xtrain[idx], noise_type=noises[noise_id])\n",
        "  else:\n",
        "    print(\"\\n{} noise addition completed to images\".format(noises[noise_id]))\n",
        "    noise_id += 1\n",
        "    noise_ct = 0\n",
        "\n",
        "\n",
        "print(\"\\n{} noise addition completed to images\".format(noises[noise_id])) \n",
        "\n",
        "\n",
        "noise_ct = 0\n",
        "noise_id = 0\n",
        "testdata = np.zeros((10000, 28, 28))\n",
        "\n",
        "for idx in tqdm(range(len(xtest))):\n",
        "  if noise_ct < len(xtest)/2:\n",
        "    noise_ct += 1\n",
        "    x = add_noise(xtest[idx], noise_type=noises[noise_id])\n",
        "    testdata[idx] = x\n",
        "    \n",
        "  else:\n",
        "    print(\"\\n{} noise addition completed to images\".format(noises[noise_id]))\n",
        "    noise_id += 1\n",
        "    noise_ct = 0\n",
        "\n",
        "print(\"\\n{} noise addition completed to images\".format(noises[noise_id]))    \n",
        "  "
      ]
    },
    {
      "cell_type": "code",
      "execution_count": 6,
      "metadata": {
        "colab": {},
        "colab_type": "code",
        "id": "D5WxFXykKB0z"
      },
      "outputs": [
        {
          "data": {
            "text/plain": [
              "<matplotlib.image.AxesImage at 0x7fbcd76d6650>"
            ]
          },
          "execution_count": 6,
          "metadata": {},
          "output_type": "execute_result"
        },
        {
          "data": {
            "image/png": "[encoded data removed]",
            "text/plain": [
              "<Figure size 432x288 with 1 Axes>"
            ]
          },
          "metadata": {
            "needs_background": "light"
          },
          "output_type": "display_data"
        }
      ],
      "source": [
        "plt.imshow(traindata[0], cmap=\"gray\")"
      ]
    },
    {
      "cell_type": "code",
      "execution_count": 7,
      "metadata": {
        "colab": {
          "base_uri": "https://localhost:8080/",
          "height": 299
        },
        "colab_type": "code",
        "id": "r1PruBRYUmYZ",
        "outputId": "78712c1a-755a-433a-cc34-4b501a2fad5a"
      },
      "outputs": [
        {
          "data": {
            "text/plain": [
              "Text(0.5, 1.0, 'Noised Image')"
            ]
          },
          "execution_count": 7,
          "metadata": {},
          "output_type": "execute_result"
        },
        {
          "data": {
            "image/png": "[encoded data removed]",
            "text/plain": [
              "<Figure size 432x288 with 4 Axes>"
            ]
          },
          "metadata": {
            "needs_background": "light"
          },
          "output_type": "display_data"
        }
      ],
      "source": [
        "\"\"\"\n",
        "Here we Try to visualize, each type of noise that was introduced in the images\n",
        "Along with their original versions\n",
        "\n",
        "\"\"\"\n",
        "\n",
        "f, axes=plt.subplots(2,2)\n",
        "\n",
        "#showing images with gaussian noise\n",
        "axes[0,0].imshow(xtrain[0], cmap=\"gray\")\n",
        "axes[0,0].set_title(\"Original Image\")\n",
        "axes[1,0].imshow(traindata[0], cmap='gray')\n",
        "axes[1,0].set_title(\"Noised Image\")\n",
        "\n",
        "#showing images with speckle noise\n",
        "axes[0,1].imshow(xtrain[13000], cmap='gray')\n",
        "axes[0,1].set_title(\"Original Image\")\n",
        "axes[1,1].imshow(traindata[13000], cmap=\"gray\")\n",
        "axes[1,1].set_title(\"Noised Image\")"
      ]
    },
    {
      "cell_type": "code",
      "execution_count": 8,
      "metadata": {
        "colab": {},
        "colab_type": "code",
        "id": "Vfchnr-E_kka"
      },
      "outputs": [],
      "source": [
        "class noisedDataset(Dataset):\n",
        "  def __init__(self, \n",
        "               datasetnoised: np.ndarray, \n",
        "               datasetclean: np.ndarray, \n",
        "               labels: np.ndarray,\n",
        "               transform: Callable):\n",
        "    self.noise = datasetnoised\n",
        "    self.clean = datasetclean\n",
        "    self.labels = labels\n",
        "    self.transform = transform\n",
        "  \n",
        "  def __len__(self):\n",
        "    return len(self.noise)\n",
        "  \n",
        "  def __getitem__(self, idx):\n",
        "    xNoise = self.noise[idx]\n",
        "    xClean = self.clean[idx]\n",
        "    y = self.labels[idx]\n",
        "    \n",
        "    if self.transform != None:\n",
        "      xNoise = self.transform(xNoise)\n",
        "      xClean = self.transform(xClean)\n",
        "\n",
        "    return (xNoise, xClean, y)\n",
        "    "
      ]
    },
    {
      "cell_type": "code",
      "execution_count": 9,
      "metadata": {
        "colab": {},
        "colab_type": "code",
        "id": "HyzkdVVUC6ps"
      },
      "outputs": [],
      "source": [
        "tsfms = transforms.Compose([\n",
        "    transforms.ToTensor()\n",
        "])\n",
        "\n",
        "trainset = noisedDataset(traindata, xtrain, ytrain, tsfms)\n",
        "testset = noisedDataset(testdata, xtest, ytest, tsfms)"
      ]
    },
    {
      "cell_type": "code",
      "execution_count": 10,
      "metadata": {},
      "outputs": [
        {
          "data": {
            "text/plain": [
              "array([[  0,   0,   0,   0,   0,   0,   0,   0,   0,   0,   0,   0,   0,\n",
              "          0,   0,   0,   0,   0,   0,   0,   0,   0,   0,   0,   0,   0,\n",
              "          0,   0],\n",
              "       [  0,   0,   0,   0,   0,   0,   0,   0,   0,   0,   0,   0,   0,\n",
              "          0,   0,   0,   0,   0,   0,   0,   0,   0,   0,   0,   0,   0,\n",
              "          0,   0],\n",
              "       [  0,   0,   0,   0,   0,   0,   0,   0,   0,   0,   0,   0,   0,\n",
              "          0,   0,   0,   0,   0,   0,   0,   0,   0,   0,   0,   0,   0,\n",
              "          0,   0],\n",
              "       [  0,   0,   0,   0,   0,   0,   0,   0,   0,   0,   0,   0,   0,\n",
              "          0,   0,   0,   0,   0,   0,   0,   0,   0,   0,   0,   0,   0,\n",
              "          0,   0],\n",
              "       [  0,   0,   0,   0,   0,   0,   0,   0,   0,   0,   0,   0,   0,\n",
              "          0,   0,   0,   0,   0,   0,   0,   0,   0,   0,   0,   0,   0,\n",
              "          0,   0],\n",
              "       [  0,   0,   0,   0,   0,   0,   0,   0,   0,   0,   0,   0,   0,\n",
              "          0,   0,   0,   0,   0, 124, 253, 255,  63,   0,   0,   0,   0,\n",
              "          0,   0],\n",
              "       [  0,   0,   0,   0,   0,   0,   0,   0,   0,   0,   0,   0,   0,\n",
              "          0,   0,   0,   0,  96, 244, 251, 253,  62,   0,   0,   0,   0,\n",
              "          0,   0],\n",
              "       [  0,   0,   0,   0,   0,   0,   0,   0,   0,   0,   0,   0,   0,\n",
              "          0,   0,   0,   0, 127, 251, 251, 253,  62,   0,   0,   0,   0,\n",
              "          0,   0],\n",
              "       [  0,   0,   0,   0,   0,   0,   0,   0,   0,   0,   0,   0,   0,\n",
              "          0,   0,   0,  68, 236, 251, 211,  31,   8,   0,   0,   0,   0,\n",
              "          0,   0],\n",
              "       [  0,   0,   0,   0,   0,   0,   0,   0,   0,   0,   0,   0,   0,\n",
              "          0,   0,  60, 228, 251, 251,  94,   0,   0,   0,   0,   0,   0,\n",
              "          0,   0],\n",
              "       [  0,   0,   0,   0,   0,   0,   0,   0,   0,   0,   0,   0,   0,\n",
              "          0,   0, 155, 253, 253, 189,   0,   0,   0,   0,   0,   0,   0,\n",
              "          0,   0],\n",
              "       [  0,   0,   0,   0,   0,   0,   0,   0,   0,   0,   0,   0,   0,\n",
              "          0,  20, 253, 251, 235,  66,   0,   0,   0,   0,   0,   0,   0,\n",
              "          0,   0],\n",
              "       [  0,   0,   0,   0,   0,   0,   0,   0,   0,   0,   0,   0,   0,\n",
              "         32, 205, 253, 251, 126,   0,   0,   0,   0,   0,   0,   0,   0,\n",
              "          0,   0],\n",
              "       [  0,   0,   0,   0,   0,   0,   0,   0,   0,   0,   0,   0,   0,\n",
              "        104, 251, 253, 184,  15,   0,   0,   0,   0,   0,   0,   0,   0,\n",
              "          0,   0],\n",
              "       [  0,   0,   0,   0,   0,   0,   0,   0,   0,   0,   0,   0,  80,\n",
              "        240, 251, 193,  23,   0,   0,   0,   0,   0,   0,   0,   0,   0,\n",
              "          0,   0],\n",
              "       [  0,   0,   0,   0,   0,   0,   0,   0,   0,   0,   0,  32, 253,\n",
              "        253, 253, 159,   0,   0,   0,   0,   0,   0,   0,   0,   0,   0,\n",
              "          0,   0],\n",
              "       [  0,   0,   0,   0,   0,   0,   0,   0,   0,   0,   0, 151, 251,\n",
              "        251, 251,  39,   0,   0,   0,   0,   0,   0,   0,   0,   0,   0,\n",
              "          0,   0],\n",
              "       [  0,   0,   0,   0,   0,   0,   0,   0,   0,   0,  48, 221, 251,\n",
              "        251, 172,   0,   0,   0,   0,   0,   0,   0,   0,   0,   0,   0,\n",
              "          0,   0],\n",
              "       [  0,   0,   0,   0,   0,   0,   0,   0,   0,   0, 234, 251, 251,\n",
              "        196,  12,   0,   0,   0,   0,   0,   0,   0,   0,   0,   0,   0,\n",
              "          0,   0],\n",
              "       [  0,   0,   0,   0,   0,   0,   0,   0,   0,   0, 253, 251, 251,\n",
              "         89,   0,   0,   0,   0,   0,   0,   0,   0,   0,   0,   0,   0,\n",
              "          0,   0],\n",
              "       [  0,   0,   0,   0,   0,   0,   0,   0,   0, 159, 255, 253, 253,\n",
              "         31,   0,   0,   0,   0,   0,   0,   0,   0,   0,   0,   0,   0,\n",
              "          0,   0],\n",
              "       [  0,   0,   0,   0,   0,   0,   0,   0,  48, 228, 253, 247, 140,\n",
              "          8,   0,   0,   0,   0,   0,   0,   0,   0,   0,   0,   0,   0,\n",
              "          0,   0],\n",
              "       [  0,   0,   0,   0,   0,   0,   0,   0,  64, 251, 253, 220,   0,\n",
              "          0,   0,   0,   0,   0,   0,   0,   0,   0,   0,   0,   0,   0,\n",
              "          0,   0],\n",
              "       [  0,   0,   0,   0,   0,   0,   0,   0,  64, 251, 253, 220,   0,\n",
              "          0,   0,   0,   0,   0,   0,   0,   0,   0,   0,   0,   0,   0,\n",
              "          0,   0],\n",
              "       [  0,   0,   0,   0,   0,   0,   0,   0,  24, 193, 253, 220,   0,\n",
              "          0,   0,   0,   0,   0,   0,   0,   0,   0,   0,   0,   0,   0,\n",
              "          0,   0],\n",
              "       [  0,   0,   0,   0,   0,   0,   0,   0,   0,   0,   0,   0,   0,\n",
              "          0,   0,   0,   0,   0,   0,   0,   0,   0,   0,   0,   0,   0,\n",
              "          0,   0],\n",
              "       [  0,   0,   0,   0,   0,   0,   0,   0,   0,   0,   0,   0,   0,\n",
              "          0,   0,   0,   0,   0,   0,   0,   0,   0,   0,   0,   0,   0,\n",
              "          0,   0],\n",
              "       [  0,   0,   0,   0,   0,   0,   0,   0,   0,   0,   0,   0,   0,\n",
              "          0,   0,   0,   0,   0,   0,   0,   0,   0,   0,   0,   0,   0,\n",
              "          0,   0]], dtype=uint8)"
            ]
          },
          "execution_count": 10,
          "metadata": {},
          "output_type": "execute_result"
        }
      ],
      "source": [
        "trainset.clean[0]"
      ]
    },
    {
      "cell_type": "code",
      "execution_count": 11,
      "metadata": {
        "colab": {},
        "colab_type": "code",
        "id": "vTQ_iF1fXxC8"
      },
      "outputs": [],
      "source": [
        "\"\"\"\n",
        "Here , we create the trainloaders and testloaders.\n",
        "Also, we transform the images using standard lib functions\n",
        "\"\"\"\n",
        "\n",
        "batch_size = 32\n",
        "\n",
        "trainloader = DataLoader(trainset, batch_size=32, shuffle=True)\n",
        "testloader  = DataLoader(testset, batch_size=1, shuffle=True)"
      ]
    },
    {
      "cell_type": "code",
      "execution_count": 12,
      "metadata": {
        "colab": {},
        "colab_type": "code",
        "id": "1P60Cuv7pQO6"
      },
      "outputs": [],
      "source": [
        "\"\"\"\n",
        "Here, we define the autoencoder model.\n",
        "\"\"\"\n",
        "\n",
        "class denoising_model(nn.Module):\n",
        "  def __init__(self, latent_size=64, img_size=28*28):\n",
        "    super(denoising_model,self).__init__()\n",
        "    self.encoder = nn.Sequential(\n",
        "      nn.Linear(img_size, 256),\n",
        "      nn.ReLU(True),\n",
        "      nn.Linear(256, 128),\n",
        "      nn.ReLU(True),\n",
        "      nn.Linear(128, latent_size),\n",
        "      nn.ReLU(True)\n",
        "    )\n",
        "    \n",
        "    self.decoder = nn.Sequential(\n",
        "      nn.Linear(latent_size, 128),\n",
        "      nn.ReLU(True),\n",
        "      nn.Linear(128, 256),\n",
        "      nn.ReLU(True),\n",
        "      nn.Linear(256, img_size),\n",
        "      nn.Sigmoid()\n",
        "    )\n",
        " \n",
        "  def forward(self,x):\n",
        "    x = self.encoder(x)\n",
        "    x = self.decoder(x)\n",
        "    \n",
        "    return x"
      ]
    },
    {
      "cell_type": "code",
      "execution_count": 13,
      "metadata": {},
      "outputs": [],
      "source": [
        "#We check whether cuda is available and choose device accordingly\n",
        "if torch.cuda.is_available() == True:\n",
        "  device = \"cuda:0\"\n",
        "else:\n",
        "  device = \"cpu\""
      ]
    },
    {
      "cell_type": "code",
      "execution_count": 14,
      "metadata": {},
      "outputs": [],
      "source": [
        "model = denoising_model().to(device)\n",
        "criterion = nn.MSELoss()\n",
        "optimizer = optim.SGD(model.parameters(), lr=0.01, weight_decay=1e-5)"
      ]
    },
    {
      "cell_type": "code",
      "execution_count": 15,
      "metadata": {
        "colab": {
          "base_uri": "https://localhost:8080/",
          "height": 6257
        },
        "colab_type": "code",
        "id": "S_AYl41OsNtt",
        "outputId": "e000921e-4fc4-4597-b5c5-023405347075"
      },
      "outputs": [
        {
          "name": "stdout",
          "output_type": "stream",
          "text": [
            "Entering Epoch:  0\n"
          ]
        },
        {
          "name": "stderr",
          "output_type": "stream",
          "text": [
            "100%|██████████| 407/407 [00:01<00:00, 274.21it/s]\n"
          ]
        },
        {
          "name": "stdout",
          "output_type": "stream",
          "text": [
            "======> epoch: 0/120, Loss:0.20993363857269287\n",
            "Entering Epoch:  1\n"
          ]
        },
        {
          "name": "stderr",
          "output_type": "stream",
          "text": [
            "100%|██████████| 407/407 [00:01<00:00, 298.24it/s]\n"
          ]
        },
        {
          "name": "stdout",
          "output_type": "stream",
          "text": [
            "======> epoch: 1/120, Loss:0.06897849589586258\n",
            "Entering Epoch:  2\n"
          ]
        },
        {
          "name": "stderr",
          "output_type": "stream",
          "text": [
            "100%|██████████| 407/407 [00:01<00:00, 334.51it/s]\n"
          ]
        },
        {
          "name": "stdout",
          "output_type": "stream",
          "text": [
            "======> epoch: 2/120, Loss:0.05960853397846222\n",
            "Entering Epoch:  3\n"
          ]
        },
        {
          "name": "stderr",
          "output_type": "stream",
          "text": [
            "100%|██████████| 407/407 [00:01<00:00, 292.53it/s]\n"
          ]
        },
        {
          "name": "stdout",
          "output_type": "stream",
          "text": [
            "======> epoch: 3/120, Loss:0.05839918926358223\n",
            "Entering Epoch:  4\n"
          ]
        },
        {
          "name": "stderr",
          "output_type": "stream",
          "text": [
            "100%|██████████| 407/407 [00:01<00:00, 353.01it/s]\n"
          ]
        },
        {
          "name": "stdout",
          "output_type": "stream",
          "text": [
            "======> epoch: 4/120, Loss:0.050664421170949936\n",
            "Entering Epoch:  5\n"
          ]
        },
        {
          "name": "stderr",
          "output_type": "stream",
          "text": [
            "100%|██████████| 407/407 [00:01<00:00, 301.93it/s]\n"
          ]
        },
        {
          "name": "stdout",
          "output_type": "stream",
          "text": [
            "======> epoch: 5/120, Loss:0.05293458327651024\n",
            "Entering Epoch:  6\n"
          ]
        },
        {
          "name": "stderr",
          "output_type": "stream",
          "text": [
            "100%|██████████| 407/407 [00:01<00:00, 295.17it/s]\n"
          ]
        },
        {
          "name": "stdout",
          "output_type": "stream",
          "text": [
            "======> epoch: 6/120, Loss:0.04146331548690796\n",
            "Entering Epoch:  7\n"
          ]
        },
        {
          "name": "stderr",
          "output_type": "stream",
          "text": [
            "100%|██████████| 407/407 [00:01<00:00, 334.47it/s]\n"
          ]
        },
        {
          "name": "stdout",
          "output_type": "stream",
          "text": [
            "======> epoch: 7/120, Loss:0.044664643704891205\n",
            "Entering Epoch:  8\n"
          ]
        },
        {
          "name": "stderr",
          "output_type": "stream",
          "text": [
            "100%|██████████| 407/407 [00:01<00:00, 298.26it/s]\n"
          ]
        },
        {
          "name": "stdout",
          "output_type": "stream",
          "text": [
            "======> epoch: 8/120, Loss:0.039750415831804276\n",
            "Entering Epoch:  9\n"
          ]
        },
        {
          "name": "stderr",
          "output_type": "stream",
          "text": [
            "100%|██████████| 407/407 [00:01<00:00, 297.42it/s]\n"
          ]
        },
        {
          "name": "stdout",
          "output_type": "stream",
          "text": [
            "======> epoch: 9/120, Loss:0.04541091248393059\n",
            "Entering Epoch:  10\n"
          ]
        },
        {
          "name": "stderr",
          "output_type": "stream",
          "text": [
            "100%|██████████| 407/407 [00:01<00:00, 304.13it/s]\n"
          ]
        },
        {
          "name": "stdout",
          "output_type": "stream",
          "text": [
            "======> epoch: 10/120, Loss:0.0423651821911335\n",
            "Entering Epoch:  11\n"
          ]
        },
        {
          "name": "stderr",
          "output_type": "stream",
          "text": [
            "100%|██████████| 407/407 [00:01<00:00, 311.36it/s]\n"
          ]
        },
        {
          "name": "stdout",
          "output_type": "stream",
          "text": [
            "======> epoch: 11/120, Loss:0.036977000534534454\n",
            "Entering Epoch:  12\n"
          ]
        },
        {
          "name": "stderr",
          "output_type": "stream",
          "text": [
            "100%|██████████| 407/407 [00:01<00:00, 334.61it/s]\n"
          ]
        },
        {
          "name": "stdout",
          "output_type": "stream",
          "text": [
            "======> epoch: 12/120, Loss:0.03881702572107315\n",
            "Entering Epoch:  13\n"
          ]
        },
        {
          "name": "stderr",
          "output_type": "stream",
          "text": [
            "100%|██████████| 407/407 [00:01<00:00, 254.92it/s]\n"
          ]
        },
        {
          "name": "stdout",
          "output_type": "stream",
          "text": [
            "======> epoch: 13/120, Loss:0.03513846546411514\n",
            "Entering Epoch:  14\n"
          ]
        },
        {
          "name": "stderr",
          "output_type": "stream",
          "text": [
            "100%|██████████| 407/407 [00:01<00:00, 276.55it/s]\n"
          ]
        },
        {
          "name": "stdout",
          "output_type": "stream",
          "text": [
            "======> epoch: 14/120, Loss:0.03329654037952423\n",
            "Entering Epoch:  15\n"
          ]
        },
        {
          "name": "stderr",
          "output_type": "stream",
          "text": [
            "100%|██████████| 407/407 [00:01<00:00, 281.65it/s]\n"
          ]
        },
        {
          "name": "stdout",
          "output_type": "stream",
          "text": [
            "======> epoch: 15/120, Loss:0.03777202591300011\n",
            "Entering Epoch:  16\n"
          ]
        },
        {
          "name": "stderr",
          "output_type": "stream",
          "text": [
            "100%|██████████| 407/407 [00:01<00:00, 249.31it/s]\n"
          ]
        },
        {
          "name": "stdout",
          "output_type": "stream",
          "text": [
            "======> epoch: 16/120, Loss:0.026845142245292664\n",
            "Entering Epoch:  17\n"
          ]
        },
        {
          "name": "stderr",
          "output_type": "stream",
          "text": [
            "100%|██████████| 407/407 [00:01<00:00, 278.81it/s]\n"
          ]
        },
        {
          "name": "stdout",
          "output_type": "stream",
          "text": [
            "======> epoch: 17/120, Loss:0.03043084219098091\n",
            "Entering Epoch:  18\n"
          ]
        },
        {
          "name": "stderr",
          "output_type": "stream",
          "text": [
            "100%|██████████| 407/407 [00:01<00:00, 269.02it/s]\n"
          ]
        },
        {
          "name": "stdout",
          "output_type": "stream",
          "text": [
            "======> epoch: 18/120, Loss:0.033978551626205444\n",
            "Entering Epoch:  19\n"
          ]
        },
        {
          "name": "stderr",
          "output_type": "stream",
          "text": [
            "100%|██████████| 407/407 [00:01<00:00, 248.34it/s]\n"
          ]
        },
        {
          "name": "stdout",
          "output_type": "stream",
          "text": [
            "======> epoch: 19/120, Loss:0.03314061462879181\n",
            "Entering Epoch:  20\n"
          ]
        },
        {
          "name": "stderr",
          "output_type": "stream",
          "text": [
            "100%|██████████| 407/407 [00:01<00:00, 253.81it/s]\n"
          ]
        },
        {
          "name": "stdout",
          "output_type": "stream",
          "text": [
            "======> epoch: 20/120, Loss:0.032742030918598175\n",
            "Entering Epoch:  21\n"
          ]
        },
        {
          "name": "stderr",
          "output_type": "stream",
          "text": [
            "100%|██████████| 407/407 [00:01<00:00, 248.79it/s]\n"
          ]
        },
        {
          "name": "stdout",
          "output_type": "stream",
          "text": [
            "======> epoch: 21/120, Loss:0.03543565049767494\n",
            "Entering Epoch:  22\n"
          ]
        },
        {
          "name": "stderr",
          "output_type": "stream",
          "text": [
            "100%|██████████| 407/407 [00:01<00:00, 260.66it/s]\n"
          ]
        },
        {
          "name": "stdout",
          "output_type": "stream",
          "text": [
            "======> epoch: 22/120, Loss:0.032208334654569626\n",
            "Entering Epoch:  23\n"
          ]
        },
        {
          "name": "stderr",
          "output_type": "stream",
          "text": [
            "100%|██████████| 407/407 [00:01<00:00, 267.64it/s]\n"
          ]
        },
        {
          "name": "stdout",
          "output_type": "stream",
          "text": [
            "======> epoch: 23/120, Loss:0.032716765999794006\n",
            "Entering Epoch:  24\n"
          ]
        },
        {
          "name": "stderr",
          "output_type": "stream",
          "text": [
            "100%|██████████| 407/407 [00:01<00:00, 244.54it/s]\n"
          ]
        },
        {
          "name": "stdout",
          "output_type": "stream",
          "text": [
            "======> epoch: 24/120, Loss:0.035901907831430435\n",
            "Entering Epoch:  25\n"
          ]
        },
        {
          "name": "stderr",
          "output_type": "stream",
          "text": [
            "100%|██████████| 407/407 [00:01<00:00, 243.85it/s]\n"
          ]
        },
        {
          "name": "stdout",
          "output_type": "stream",
          "text": [
            "======> epoch: 25/120, Loss:0.03522283211350441\n",
            "Entering Epoch:  26\n"
          ]
        },
        {
          "name": "stderr",
          "output_type": "stream",
          "text": [
            "100%|██████████| 407/407 [00:01<00:00, 213.50it/s]\n"
          ]
        },
        {
          "name": "stdout",
          "output_type": "stream",
          "text": [
            "======> epoch: 26/120, Loss:0.028285186737775803\n",
            "Entering Epoch:  27\n"
          ]
        },
        {
          "name": "stderr",
          "output_type": "stream",
          "text": [
            "100%|██████████| 407/407 [00:02<00:00, 155.41it/s]\n"
          ]
        },
        {
          "name": "stdout",
          "output_type": "stream",
          "text": [
            "======> epoch: 27/120, Loss:0.02737642079591751\n",
            "Entering Epoch:  28\n"
          ]
        },
        {
          "name": "stderr",
          "output_type": "stream",
          "text": [
            "100%|██████████| 407/407 [00:02<00:00, 200.01it/s]\n"
          ]
        },
        {
          "name": "stdout",
          "output_type": "stream",
          "text": [
            "======> epoch: 28/120, Loss:0.025044459849596024\n",
            "Entering Epoch:  29\n"
          ]
        },
        {
          "name": "stderr",
          "output_type": "stream",
          "text": [
            "100%|██████████| 407/407 [00:01<00:00, 246.92it/s]\n"
          ]
        },
        {
          "name": "stdout",
          "output_type": "stream",
          "text": [
            "======> epoch: 29/120, Loss:0.02984771691262722\n",
            "Entering Epoch:  30\n"
          ]
        },
        {
          "name": "stderr",
          "output_type": "stream",
          "text": [
            "100%|██████████| 407/407 [00:01<00:00, 231.11it/s]\n"
          ]
        },
        {
          "name": "stdout",
          "output_type": "stream",
          "text": [
            "======> epoch: 30/120, Loss:0.03736429661512375\n",
            "Entering Epoch:  31\n"
          ]
        },
        {
          "name": "stderr",
          "output_type": "stream",
          "text": [
            "100%|██████████| 407/407 [00:01<00:00, 254.99it/s]\n"
          ]
        },
        {
          "name": "stdout",
          "output_type": "stream",
          "text": [
            "======> epoch: 31/120, Loss:0.03417259082198143\n",
            "Entering Epoch:  32\n"
          ]
        },
        {
          "name": "stderr",
          "output_type": "stream",
          "text": [
            "100%|██████████| 407/407 [00:01<00:00, 218.90it/s]\n"
          ]
        },
        {
          "name": "stdout",
          "output_type": "stream",
          "text": [
            "======> epoch: 32/120, Loss:0.028401656076312065\n",
            "Entering Epoch:  33\n"
          ]
        },
        {
          "name": "stderr",
          "output_type": "stream",
          "text": [
            "100%|██████████| 407/407 [00:01<00:00, 234.37it/s]\n"
          ]
        },
        {
          "name": "stdout",
          "output_type": "stream",
          "text": [
            "======> epoch: 33/120, Loss:0.027264168485999107\n",
            "Entering Epoch:  34\n"
          ]
        },
        {
          "name": "stderr",
          "output_type": "stream",
          "text": [
            "100%|██████████| 407/407 [00:01<00:00, 245.52it/s]\n"
          ]
        },
        {
          "name": "stdout",
          "output_type": "stream",
          "text": [
            "======> epoch: 34/120, Loss:0.034679289907217026\n",
            "Entering Epoch:  35\n"
          ]
        },
        {
          "name": "stderr",
          "output_type": "stream",
          "text": [
            "100%|██████████| 407/407 [00:01<00:00, 216.52it/s]\n"
          ]
        },
        {
          "name": "stdout",
          "output_type": "stream",
          "text": [
            "======> epoch: 35/120, Loss:0.03341257944703102\n",
            "Entering Epoch:  36\n"
          ]
        },
        {
          "name": "stderr",
          "output_type": "stream",
          "text": [
            "100%|██████████| 407/407 [00:01<00:00, 231.30it/s]\n"
          ]
        },
        {
          "name": "stdout",
          "output_type": "stream",
          "text": [
            "======> epoch: 36/120, Loss:0.038631752133369446\n",
            "Entering Epoch:  37\n"
          ]
        },
        {
          "name": "stderr",
          "output_type": "stream",
          "text": [
            "100%|██████████| 407/407 [00:01<00:00, 247.78it/s]\n"
          ]
        },
        {
          "name": "stdout",
          "output_type": "stream",
          "text": [
            "======> epoch: 37/120, Loss:0.03096666745841503\n",
            "Entering Epoch:  38\n"
          ]
        },
        {
          "name": "stderr",
          "output_type": "stream",
          "text": [
            "100%|██████████| 407/407 [00:01<00:00, 247.87it/s]\n"
          ]
        },
        {
          "name": "stdout",
          "output_type": "stream",
          "text": [
            "======> epoch: 38/120, Loss:0.03671441227197647\n",
            "Entering Epoch:  39\n"
          ]
        },
        {
          "name": "stderr",
          "output_type": "stream",
          "text": [
            "100%|██████████| 407/407 [00:01<00:00, 233.33it/s]\n"
          ]
        },
        {
          "name": "stdout",
          "output_type": "stream",
          "text": [
            "======> epoch: 39/120, Loss:0.0264167208224535\n",
            "Entering Epoch:  40\n"
          ]
        },
        {
          "name": "stderr",
          "output_type": "stream",
          "text": [
            "100%|██████████| 407/407 [00:01<00:00, 229.12it/s]\n"
          ]
        },
        {
          "name": "stdout",
          "output_type": "stream",
          "text": [
            "======> epoch: 40/120, Loss:0.028618592768907547\n",
            "Entering Epoch:  41\n"
          ]
        },
        {
          "name": "stderr",
          "output_type": "stream",
          "text": [
            "100%|██████████| 407/407 [00:01<00:00, 251.60it/s]\n"
          ]
        },
        {
          "name": "stdout",
          "output_type": "stream",
          "text": [
            "======> epoch: 41/120, Loss:0.03879966959357262\n",
            "Entering Epoch:  42\n"
          ]
        },
        {
          "name": "stderr",
          "output_type": "stream",
          "text": [
            "100%|██████████| 407/407 [00:01<00:00, 243.32it/s]\n"
          ]
        },
        {
          "name": "stdout",
          "output_type": "stream",
          "text": [
            "======> epoch: 42/120, Loss:0.0339028537273407\n",
            "Entering Epoch:  43\n"
          ]
        },
        {
          "name": "stderr",
          "output_type": "stream",
          "text": [
            "100%|██████████| 407/407 [00:01<00:00, 246.74it/s]\n"
          ]
        },
        {
          "name": "stdout",
          "output_type": "stream",
          "text": [
            "======> epoch: 43/120, Loss:0.029089275747537613\n",
            "Entering Epoch:  44\n"
          ]
        },
        {
          "name": "stderr",
          "output_type": "stream",
          "text": [
            "100%|██████████| 407/407 [00:01<00:00, 247.58it/s]\n"
          ]
        },
        {
          "name": "stdout",
          "output_type": "stream",
          "text": [
            "======> epoch: 44/120, Loss:0.030182762071490288\n",
            "Entering Epoch:  45\n"
          ]
        },
        {
          "name": "stderr",
          "output_type": "stream",
          "text": [
            "100%|██████████| 407/407 [00:01<00:00, 250.61it/s]\n"
          ]
        },
        {
          "name": "stdout",
          "output_type": "stream",
          "text": [
            "======> epoch: 45/120, Loss:0.04990694671869278\n",
            "Entering Epoch:  46\n"
          ]
        },
        {
          "name": "stderr",
          "output_type": "stream",
          "text": [
            "100%|██████████| 407/407 [00:01<00:00, 245.95it/s]\n"
          ]
        },
        {
          "name": "stdout",
          "output_type": "stream",
          "text": [
            "======> epoch: 46/120, Loss:0.031174203380942345\n",
            "Entering Epoch:  47\n"
          ]
        },
        {
          "name": "stderr",
          "output_type": "stream",
          "text": [
            "100%|██████████| 407/407 [00:01<00:00, 248.91it/s]\n"
          ]
        },
        {
          "name": "stdout",
          "output_type": "stream",
          "text": [
            "======> epoch: 47/120, Loss:0.03389958664774895\n",
            "Entering Epoch:  48\n"
          ]
        },
        {
          "name": "stderr",
          "output_type": "stream",
          "text": [
            "100%|██████████| 407/407 [00:01<00:00, 241.59it/s]\n"
          ]
        },
        {
          "name": "stdout",
          "output_type": "stream",
          "text": [
            "======> epoch: 48/120, Loss:0.03246009722352028\n",
            "Entering Epoch:  49\n"
          ]
        },
        {
          "name": "stderr",
          "output_type": "stream",
          "text": [
            "100%|██████████| 407/407 [00:01<00:00, 232.30it/s]\n"
          ]
        },
        {
          "name": "stdout",
          "output_type": "stream",
          "text": [
            "======> epoch: 49/120, Loss:0.028547253459692\n",
            "Entering Epoch:  50\n"
          ]
        },
        {
          "name": "stderr",
          "output_type": "stream",
          "text": [
            "100%|██████████| 407/407 [00:01<00:00, 235.01it/s]\n"
          ]
        },
        {
          "name": "stdout",
          "output_type": "stream",
          "text": [
            "======> epoch: 50/120, Loss:0.0369926355779171\n",
            "Entering Epoch:  51\n"
          ]
        },
        {
          "name": "stderr",
          "output_type": "stream",
          "text": [
            "100%|██████████| 407/407 [00:01<00:00, 227.46it/s]\n"
          ]
        },
        {
          "name": "stdout",
          "output_type": "stream",
          "text": [
            "======> epoch: 51/120, Loss:0.02680124342441559\n",
            "Entering Epoch:  52\n"
          ]
        },
        {
          "name": "stderr",
          "output_type": "stream",
          "text": [
            "100%|██████████| 407/407 [00:01<00:00, 242.64it/s]\n"
          ]
        },
        {
          "name": "stdout",
          "output_type": "stream",
          "text": [
            "======> epoch: 52/120, Loss:0.03791887313127518\n",
            "Entering Epoch:  53\n"
          ]
        },
        {
          "name": "stderr",
          "output_type": "stream",
          "text": [
            "100%|██████████| 407/407 [00:01<00:00, 250.56it/s]\n"
          ]
        },
        {
          "name": "stdout",
          "output_type": "stream",
          "text": [
            "======> epoch: 53/120, Loss:0.02690281718969345\n",
            "Entering Epoch:  54\n"
          ]
        },
        {
          "name": "stderr",
          "output_type": "stream",
          "text": [
            "100%|██████████| 407/407 [00:01<00:00, 239.03it/s]\n"
          ]
        },
        {
          "name": "stdout",
          "output_type": "stream",
          "text": [
            "======> epoch: 54/120, Loss:0.027417168021202087\n",
            "Entering Epoch:  55\n"
          ]
        },
        {
          "name": "stderr",
          "output_type": "stream",
          "text": [
            "100%|██████████| 407/407 [00:01<00:00, 230.52it/s]\n"
          ]
        },
        {
          "name": "stdout",
          "output_type": "stream",
          "text": [
            "======> epoch: 55/120, Loss:0.030495377257466316\n",
            "Entering Epoch:  56\n"
          ]
        },
        {
          "name": "stderr",
          "output_type": "stream",
          "text": [
            "100%|██████████| 407/407 [00:01<00:00, 249.97it/s]\n"
          ]
        },
        {
          "name": "stdout",
          "output_type": "stream",
          "text": [
            "======> epoch: 56/120, Loss:0.03223402053117752\n",
            "Entering Epoch:  57\n"
          ]
        },
        {
          "name": "stderr",
          "output_type": "stream",
          "text": [
            "100%|██████████| 407/407 [00:01<00:00, 249.38it/s]\n"
          ]
        },
        {
          "name": "stdout",
          "output_type": "stream",
          "text": [
            "======> epoch: 57/120, Loss:0.026564856991171837\n",
            "Entering Epoch:  58\n"
          ]
        },
        {
          "name": "stderr",
          "output_type": "stream",
          "text": [
            "100%|██████████| 407/407 [00:01<00:00, 235.97it/s]\n"
          ]
        },
        {
          "name": "stdout",
          "output_type": "stream",
          "text": [
            "======> epoch: 58/120, Loss:0.03590485081076622\n",
            "Entering Epoch:  59\n"
          ]
        },
        {
          "name": "stderr",
          "output_type": "stream",
          "text": [
            "100%|██████████| 407/407 [00:01<00:00, 227.88it/s]\n"
          ]
        },
        {
          "name": "stdout",
          "output_type": "stream",
          "text": [
            "======> epoch: 59/120, Loss:0.029173122718930244\n",
            "Entering Epoch:  60\n"
          ]
        },
        {
          "name": "stderr",
          "output_type": "stream",
          "text": [
            "100%|██████████| 407/407 [00:01<00:00, 240.48it/s]\n"
          ]
        },
        {
          "name": "stdout",
          "output_type": "stream",
          "text": [
            "======> epoch: 60/120, Loss:0.024891093373298645\n",
            "Entering Epoch:  61\n"
          ]
        },
        {
          "name": "stderr",
          "output_type": "stream",
          "text": [
            "100%|██████████| 407/407 [00:01<00:00, 236.83it/s]\n"
          ]
        },
        {
          "name": "stdout",
          "output_type": "stream",
          "text": [
            "======> epoch: 61/120, Loss:0.025793258100748062\n",
            "Entering Epoch:  62\n"
          ]
        },
        {
          "name": "stderr",
          "output_type": "stream",
          "text": [
            "100%|██████████| 407/407 [00:01<00:00, 238.81it/s]\n"
          ]
        },
        {
          "name": "stdout",
          "output_type": "stream",
          "text": [
            "======> epoch: 62/120, Loss:0.023951202630996704\n",
            "Entering Epoch:  63\n"
          ]
        },
        {
          "name": "stderr",
          "output_type": "stream",
          "text": [
            "100%|██████████| 407/407 [00:01<00:00, 245.16it/s]\n"
          ]
        },
        {
          "name": "stdout",
          "output_type": "stream",
          "text": [
            "======> epoch: 63/120, Loss:0.0367775484919548\n",
            "Entering Epoch:  64\n"
          ]
        },
        {
          "name": "stderr",
          "output_type": "stream",
          "text": [
            "100%|██████████| 407/407 [00:01<00:00, 234.59it/s]\n"
          ]
        },
        {
          "name": "stdout",
          "output_type": "stream",
          "text": [
            "======> epoch: 64/120, Loss:0.03178754448890686\n",
            "Entering Epoch:  65\n"
          ]
        },
        {
          "name": "stderr",
          "output_type": "stream",
          "text": [
            "100%|██████████| 407/407 [00:01<00:00, 230.63it/s]\n"
          ]
        },
        {
          "name": "stdout",
          "output_type": "stream",
          "text": [
            "======> epoch: 65/120, Loss:0.032329708337783813\n",
            "Entering Epoch:  66\n"
          ]
        },
        {
          "name": "stderr",
          "output_type": "stream",
          "text": [
            "100%|██████████| 407/407 [00:01<00:00, 236.60it/s]\n"
          ]
        },
        {
          "name": "stdout",
          "output_type": "stream",
          "text": [
            "======> epoch: 66/120, Loss:0.025774914771318436\n",
            "Entering Epoch:  67\n"
          ]
        },
        {
          "name": "stderr",
          "output_type": "stream",
          "text": [
            "100%|██████████| 407/407 [00:01<00:00, 226.36it/s]\n"
          ]
        },
        {
          "name": "stdout",
          "output_type": "stream",
          "text": [
            "======> epoch: 67/120, Loss:0.026386208832263947\n",
            "Entering Epoch:  68\n"
          ]
        },
        {
          "name": "stderr",
          "output_type": "stream",
          "text": [
            "100%|██████████| 407/407 [00:01<00:00, 250.67it/s]\n"
          ]
        },
        {
          "name": "stdout",
          "output_type": "stream",
          "text": [
            "======> epoch: 68/120, Loss:0.02790784277021885\n",
            "Entering Epoch:  69\n"
          ]
        },
        {
          "name": "stderr",
          "output_type": "stream",
          "text": [
            "100%|██████████| 407/407 [00:01<00:00, 235.10it/s]\n"
          ]
        },
        {
          "name": "stdout",
          "output_type": "stream",
          "text": [
            "======> epoch: 69/120, Loss:0.03712892159819603\n",
            "Entering Epoch:  70\n"
          ]
        },
        {
          "name": "stderr",
          "output_type": "stream",
          "text": [
            "100%|██████████| 407/407 [00:01<00:00, 228.14it/s]\n"
          ]
        },
        {
          "name": "stdout",
          "output_type": "stream",
          "text": [
            "======> epoch: 70/120, Loss:0.025939850136637688\n",
            "Entering Epoch:  71\n"
          ]
        },
        {
          "name": "stderr",
          "output_type": "stream",
          "text": [
            "100%|██████████| 407/407 [00:01<00:00, 257.45it/s]\n"
          ]
        },
        {
          "name": "stdout",
          "output_type": "stream",
          "text": [
            "======> epoch: 71/120, Loss:0.034650854766368866\n",
            "Entering Epoch:  72\n"
          ]
        },
        {
          "name": "stderr",
          "output_type": "stream",
          "text": [
            "100%|██████████| 407/407 [00:01<00:00, 233.13it/s]\n"
          ]
        },
        {
          "name": "stdout",
          "output_type": "stream",
          "text": [
            "======> epoch: 72/120, Loss:0.024258611723780632\n",
            "Entering Epoch:  73\n"
          ]
        },
        {
          "name": "stderr",
          "output_type": "stream",
          "text": [
            "100%|██████████| 407/407 [00:01<00:00, 238.53it/s]\n"
          ]
        },
        {
          "name": "stdout",
          "output_type": "stream",
          "text": [
            "======> epoch: 73/120, Loss:0.023010479286313057\n",
            "Entering Epoch:  74\n"
          ]
        },
        {
          "name": "stderr",
          "output_type": "stream",
          "text": [
            "100%|██████████| 407/407 [00:01<00:00, 239.01it/s]\n"
          ]
        },
        {
          "name": "stdout",
          "output_type": "stream",
          "text": [
            "======> epoch: 74/120, Loss:0.02111784741282463\n",
            "Entering Epoch:  75\n"
          ]
        },
        {
          "name": "stderr",
          "output_type": "stream",
          "text": [
            "100%|██████████| 407/407 [00:01<00:00, 233.84it/s]\n"
          ]
        },
        {
          "name": "stdout",
          "output_type": "stream",
          "text": [
            "======> epoch: 75/120, Loss:0.023661093786358833\n",
            "Entering Epoch:  76\n"
          ]
        },
        {
          "name": "stderr",
          "output_type": "stream",
          "text": [
            "100%|██████████| 407/407 [00:01<00:00, 229.54it/s]\n"
          ]
        },
        {
          "name": "stdout",
          "output_type": "stream",
          "text": [
            "======> epoch: 76/120, Loss:0.025254499167203903\n",
            "Entering Epoch:  77\n"
          ]
        },
        {
          "name": "stderr",
          "output_type": "stream",
          "text": [
            "100%|██████████| 407/407 [00:01<00:00, 238.27it/s]\n"
          ]
        },
        {
          "name": "stdout",
          "output_type": "stream",
          "text": [
            "======> epoch: 77/120, Loss:0.026348425075411797\n",
            "Entering Epoch:  78\n"
          ]
        },
        {
          "name": "stderr",
          "output_type": "stream",
          "text": [
            "100%|██████████| 407/407 [00:01<00:00, 242.50it/s]\n"
          ]
        },
        {
          "name": "stdout",
          "output_type": "stream",
          "text": [
            "======> epoch: 78/120, Loss:0.03175109252333641\n",
            "Entering Epoch:  79\n"
          ]
        },
        {
          "name": "stderr",
          "output_type": "stream",
          "text": [
            "100%|██████████| 407/407 [00:01<00:00, 237.22it/s]\n"
          ]
        },
        {
          "name": "stdout",
          "output_type": "stream",
          "text": [
            "======> epoch: 79/120, Loss:0.036574043333530426\n",
            "Entering Epoch:  80\n"
          ]
        },
        {
          "name": "stderr",
          "output_type": "stream",
          "text": [
            "100%|██████████| 407/407 [00:01<00:00, 238.43it/s]\n"
          ]
        },
        {
          "name": "stdout",
          "output_type": "stream",
          "text": [
            "======> epoch: 80/120, Loss:0.03090130351483822\n",
            "Entering Epoch:  81\n"
          ]
        },
        {
          "name": "stderr",
          "output_type": "stream",
          "text": [
            "100%|██████████| 407/407 [00:01<00:00, 228.76it/s]\n"
          ]
        },
        {
          "name": "stdout",
          "output_type": "stream",
          "text": [
            "======> epoch: 81/120, Loss:0.02839715965092182\n",
            "Entering Epoch:  82\n"
          ]
        },
        {
          "name": "stderr",
          "output_type": "stream",
          "text": [
            "100%|██████████| 407/407 [00:01<00:00, 233.77it/s]\n"
          ]
        },
        {
          "name": "stdout",
          "output_type": "stream",
          "text": [
            "======> epoch: 82/120, Loss:0.026722686365246773\n",
            "Entering Epoch:  83\n"
          ]
        },
        {
          "name": "stderr",
          "output_type": "stream",
          "text": [
            "100%|██████████| 407/407 [00:01<00:00, 228.89it/s]\n"
          ]
        },
        {
          "name": "stdout",
          "output_type": "stream",
          "text": [
            "======> epoch: 83/120, Loss:0.028743471950292587\n",
            "Entering Epoch:  84\n"
          ]
        },
        {
          "name": "stderr",
          "output_type": "stream",
          "text": [
            "100%|██████████| 407/407 [00:01<00:00, 235.90it/s]\n"
          ]
        },
        {
          "name": "stdout",
          "output_type": "stream",
          "text": [
            "======> epoch: 84/120, Loss:0.02137073501944542\n",
            "Entering Epoch:  85\n"
          ]
        },
        {
          "name": "stderr",
          "output_type": "stream",
          "text": [
            "100%|██████████| 407/407 [00:01<00:00, 240.81it/s]\n"
          ]
        },
        {
          "name": "stdout",
          "output_type": "stream",
          "text": [
            "======> epoch: 85/120, Loss:0.02549172192811966\n",
            "Entering Epoch:  86\n"
          ]
        },
        {
          "name": "stderr",
          "output_type": "stream",
          "text": [
            "100%|██████████| 407/407 [00:01<00:00, 229.56it/s]\n"
          ]
        },
        {
          "name": "stdout",
          "output_type": "stream",
          "text": [
            "======> epoch: 86/120, Loss:0.023506369441747665\n",
            "Entering Epoch:  87\n"
          ]
        },
        {
          "name": "stderr",
          "output_type": "stream",
          "text": [
            "100%|██████████| 407/407 [00:01<00:00, 240.21it/s]\n"
          ]
        },
        {
          "name": "stdout",
          "output_type": "stream",
          "text": [
            "======> epoch: 87/120, Loss:0.02179926447570324\n",
            "Entering Epoch:  88\n"
          ]
        },
        {
          "name": "stderr",
          "output_type": "stream",
          "text": [
            "100%|██████████| 407/407 [00:01<00:00, 223.29it/s]\n"
          ]
        },
        {
          "name": "stdout",
          "output_type": "stream",
          "text": [
            "======> epoch: 88/120, Loss:0.02631712332367897\n",
            "Entering Epoch:  89\n"
          ]
        },
        {
          "name": "stderr",
          "output_type": "stream",
          "text": [
            "100%|██████████| 407/407 [00:01<00:00, 223.51it/s]\n"
          ]
        },
        {
          "name": "stdout",
          "output_type": "stream",
          "text": [
            "======> epoch: 89/120, Loss:0.024820618331432343\n",
            "Entering Epoch:  90\n"
          ]
        },
        {
          "name": "stderr",
          "output_type": "stream",
          "text": [
            "100%|██████████| 407/407 [00:01<00:00, 243.68it/s]\n"
          ]
        },
        {
          "name": "stdout",
          "output_type": "stream",
          "text": [
            "======> epoch: 90/120, Loss:0.026512885466217995\n",
            "Entering Epoch:  91\n"
          ]
        },
        {
          "name": "stderr",
          "output_type": "stream",
          "text": [
            "100%|██████████| 407/407 [00:01<00:00, 225.66it/s]\n"
          ]
        },
        {
          "name": "stdout",
          "output_type": "stream",
          "text": [
            "======> epoch: 91/120, Loss:0.01776980236172676\n",
            "Entering Epoch:  92\n"
          ]
        },
        {
          "name": "stderr",
          "output_type": "stream",
          "text": [
            "100%|██████████| 407/407 [00:02<00:00, 177.31it/s]\n"
          ]
        },
        {
          "name": "stdout",
          "output_type": "stream",
          "text": [
            "======> epoch: 92/120, Loss:0.026356883347034454\n",
            "Entering Epoch:  93\n"
          ]
        },
        {
          "name": "stderr",
          "output_type": "stream",
          "text": [
            "100%|██████████| 407/407 [00:01<00:00, 205.44it/s]\n"
          ]
        },
        {
          "name": "stdout",
          "output_type": "stream",
          "text": [
            "======> epoch: 93/120, Loss:0.025875329971313477\n",
            "Entering Epoch:  94\n"
          ]
        },
        {
          "name": "stderr",
          "output_type": "stream",
          "text": [
            "100%|██████████| 407/407 [00:01<00:00, 234.31it/s]\n"
          ]
        },
        {
          "name": "stdout",
          "output_type": "stream",
          "text": [
            "======> epoch: 94/120, Loss:0.030035123229026794\n",
            "Entering Epoch:  95\n"
          ]
        },
        {
          "name": "stderr",
          "output_type": "stream",
          "text": [
            "100%|██████████| 407/407 [00:01<00:00, 250.98it/s]\n"
          ]
        },
        {
          "name": "stdout",
          "output_type": "stream",
          "text": [
            "======> epoch: 95/120, Loss:0.024647068232297897\n",
            "Entering Epoch:  96\n"
          ]
        },
        {
          "name": "stderr",
          "output_type": "stream",
          "text": [
            "100%|██████████| 407/407 [00:01<00:00, 228.12it/s]\n"
          ]
        },
        {
          "name": "stdout",
          "output_type": "stream",
          "text": [
            "======> epoch: 96/120, Loss:0.03457965329289436\n",
            "Entering Epoch:  97\n"
          ]
        },
        {
          "name": "stderr",
          "output_type": "stream",
          "text": [
            "100%|██████████| 407/407 [00:01<00:00, 245.22it/s]\n"
          ]
        },
        {
          "name": "stdout",
          "output_type": "stream",
          "text": [
            "======> epoch: 97/120, Loss:0.01745973341166973\n",
            "Entering Epoch:  98\n"
          ]
        },
        {
          "name": "stderr",
          "output_type": "stream",
          "text": [
            "100%|██████████| 407/407 [00:01<00:00, 239.13it/s]\n"
          ]
        },
        {
          "name": "stdout",
          "output_type": "stream",
          "text": [
            "======> epoch: 98/120, Loss:0.03256642445921898\n",
            "Entering Epoch:  99\n"
          ]
        },
        {
          "name": "stderr",
          "output_type": "stream",
          "text": [
            "100%|██████████| 407/407 [00:01<00:00, 235.86it/s]\n"
          ]
        },
        {
          "name": "stdout",
          "output_type": "stream",
          "text": [
            "======> epoch: 99/120, Loss:0.02056143432855606\n",
            "Entering Epoch:  100\n"
          ]
        },
        {
          "name": "stderr",
          "output_type": "stream",
          "text": [
            "100%|██████████| 407/407 [00:01<00:00, 242.17it/s]\n"
          ]
        },
        {
          "name": "stdout",
          "output_type": "stream",
          "text": [
            "======> epoch: 100/120, Loss:0.024621540680527687\n",
            "Entering Epoch:  101\n"
          ]
        },
        {
          "name": "stderr",
          "output_type": "stream",
          "text": [
            "100%|██████████| 407/407 [00:01<00:00, 232.74it/s]\n"
          ]
        },
        {
          "name": "stdout",
          "output_type": "stream",
          "text": [
            "======> epoch: 101/120, Loss:0.029382850974798203\n",
            "Entering Epoch:  102\n"
          ]
        },
        {
          "name": "stderr",
          "output_type": "stream",
          "text": [
            "100%|██████████| 407/407 [00:01<00:00, 234.54it/s]\n"
          ]
        },
        {
          "name": "stdout",
          "output_type": "stream",
          "text": [
            "======> epoch: 102/120, Loss:0.02255948632955551\n",
            "Entering Epoch:  103\n"
          ]
        },
        {
          "name": "stderr",
          "output_type": "stream",
          "text": [
            "100%|██████████| 407/407 [00:01<00:00, 241.40it/s]\n"
          ]
        },
        {
          "name": "stdout",
          "output_type": "stream",
          "text": [
            "======> epoch: 103/120, Loss:0.02000744827091694\n",
            "Entering Epoch:  104\n"
          ]
        },
        {
          "name": "stderr",
          "output_type": "stream",
          "text": [
            "100%|██████████| 407/407 [00:01<00:00, 235.53it/s]\n"
          ]
        },
        {
          "name": "stdout",
          "output_type": "stream",
          "text": [
            "======> epoch: 104/120, Loss:0.023371810093522072\n",
            "Entering Epoch:  105\n"
          ]
        },
        {
          "name": "stderr",
          "output_type": "stream",
          "text": [
            "100%|██████████| 407/407 [00:01<00:00, 245.08it/s]\n"
          ]
        },
        {
          "name": "stdout",
          "output_type": "stream",
          "text": [
            "======> epoch: 105/120, Loss:0.026846930384635925\n",
            "Entering Epoch:  106\n"
          ]
        },
        {
          "name": "stderr",
          "output_type": "stream",
          "text": [
            "100%|██████████| 407/407 [00:01<00:00, 250.72it/s]\n"
          ]
        },
        {
          "name": "stdout",
          "output_type": "stream",
          "text": [
            "======> epoch: 106/120, Loss:0.022013038396835327\n",
            "Entering Epoch:  107\n"
          ]
        },
        {
          "name": "stderr",
          "output_type": "stream",
          "text": [
            "100%|██████████| 407/407 [00:01<00:00, 225.41it/s]\n"
          ]
        },
        {
          "name": "stdout",
          "output_type": "stream",
          "text": [
            "======> epoch: 107/120, Loss:0.023497385904192924\n",
            "Entering Epoch:  108\n"
          ]
        },
        {
          "name": "stderr",
          "output_type": "stream",
          "text": [
            "100%|██████████| 407/407 [00:01<00:00, 254.88it/s]\n"
          ]
        },
        {
          "name": "stdout",
          "output_type": "stream",
          "text": [
            "======> epoch: 108/120, Loss:0.031726524233818054\n",
            "Entering Epoch:  109\n"
          ]
        },
        {
          "name": "stderr",
          "output_type": "stream",
          "text": [
            "100%|██████████| 407/407 [00:01<00:00, 228.11it/s]\n"
          ]
        },
        {
          "name": "stdout",
          "output_type": "stream",
          "text": [
            "======> epoch: 109/120, Loss:0.030348090454936028\n",
            "Entering Epoch:  110\n"
          ]
        },
        {
          "name": "stderr",
          "output_type": "stream",
          "text": [
            "100%|██████████| 407/407 [00:02<00:00, 199.46it/s]\n"
          ]
        },
        {
          "name": "stdout",
          "output_type": "stream",
          "text": [
            "======> epoch: 110/120, Loss:0.025615746155381203\n",
            "Entering Epoch:  111\n"
          ]
        },
        {
          "name": "stderr",
          "output_type": "stream",
          "text": [
            "100%|██████████| 407/407 [00:01<00:00, 245.77it/s]\n"
          ]
        },
        {
          "name": "stdout",
          "output_type": "stream",
          "text": [
            "======> epoch: 111/120, Loss:0.019609548151493073\n",
            "Entering Epoch:  112\n"
          ]
        },
        {
          "name": "stderr",
          "output_type": "stream",
          "text": [
            "100%|██████████| 407/407 [00:01<00:00, 242.26it/s]\n"
          ]
        },
        {
          "name": "stdout",
          "output_type": "stream",
          "text": [
            "======> epoch: 112/120, Loss:0.021238641813397408\n",
            "Entering Epoch:  113\n"
          ]
        },
        {
          "name": "stderr",
          "output_type": "stream",
          "text": [
            "100%|██████████| 407/407 [00:01<00:00, 231.56it/s]\n"
          ]
        },
        {
          "name": "stdout",
          "output_type": "stream",
          "text": [
            "======> epoch: 113/120, Loss:0.02578524872660637\n",
            "Entering Epoch:  114\n"
          ]
        },
        {
          "name": "stderr",
          "output_type": "stream",
          "text": [
            "100%|██████████| 407/407 [00:02<00:00, 190.82it/s]\n"
          ]
        },
        {
          "name": "stdout",
          "output_type": "stream",
          "text": [
            "======> epoch: 114/120, Loss:0.023781977593898773\n",
            "Entering Epoch:  115\n"
          ]
        },
        {
          "name": "stderr",
          "output_type": "stream",
          "text": [
            "100%|██████████| 407/407 [00:01<00:00, 236.49it/s]\n"
          ]
        },
        {
          "name": "stdout",
          "output_type": "stream",
          "text": [
            "======> epoch: 115/120, Loss:0.026331990957260132\n",
            "Entering Epoch:  116\n"
          ]
        },
        {
          "name": "stderr",
          "output_type": "stream",
          "text": [
            "100%|██████████| 407/407 [00:01<00:00, 227.08it/s]\n"
          ]
        },
        {
          "name": "stdout",
          "output_type": "stream",
          "text": [
            "======> epoch: 116/120, Loss:0.0298768263310194\n",
            "Entering Epoch:  117\n"
          ]
        },
        {
          "name": "stderr",
          "output_type": "stream",
          "text": [
            "100%|██████████| 407/407 [00:01<00:00, 242.07it/s]\n"
          ]
        },
        {
          "name": "stdout",
          "output_type": "stream",
          "text": [
            "======> epoch: 117/120, Loss:0.021871419623494148\n",
            "Entering Epoch:  118\n"
          ]
        },
        {
          "name": "stderr",
          "output_type": "stream",
          "text": [
            "100%|██████████| 407/407 [00:01<00:00, 210.70it/s]\n"
          ]
        },
        {
          "name": "stdout",
          "output_type": "stream",
          "text": [
            "======> epoch: 118/120, Loss:0.02609056793153286\n",
            "Entering Epoch:  119\n"
          ]
        },
        {
          "name": "stderr",
          "output_type": "stream",
          "text": [
            "100%|██████████| 407/407 [00:01<00:00, 232.70it/s]"
          ]
        },
        {
          "name": "stdout",
          "output_type": "stream",
          "text": [
            "======> epoch: 119/120, Loss:0.023405563086271286\n"
          ]
        },
        {
          "name": "stderr",
          "output_type": "stream",
          "text": [
            "\n"
          ]
        }
      ],
      "source": [
        "epochs = 120\n",
        "l = len(trainloader)\n",
        "losslist = list()\n",
        "epochloss = 0\n",
        "running_loss = 0\n",
        "for epoch in range(epochs):\n",
        "  print(\"Entering Epoch: \", epoch)\n",
        "  for dirty, clean, label in tqdm((trainloader)):\n",
        "    \n",
        "    \n",
        "    dirty = dirty.view(dirty.size(0), -1).type(torch.FloatTensor)\n",
        "    clean = clean.view(clean.size(0), -1).type(torch.FloatTensor)\n",
        "    dirty, clean = dirty.to(device), clean.to(device)\n",
        "    \n",
        "    #-----------------Forward Pass----------------------\n",
        "    output = model(dirty)\n",
        "    loss = criterion(output, clean)\n",
        "\n",
        "    #-----------------Backward Pass---------------------\n",
        "    optimizer.zero_grad()\n",
        "    loss.backward()\n",
        "    optimizer.step()\n",
        "    \n",
        "    running_loss += loss.item()\n",
        "    epochloss += loss.item()\n",
        "  #-----------------Log-------------------------------\n",
        "  losslist.append(running_loss/l)\n",
        "  running_loss = 0\n",
        "  print(\"======> epoch: {}/{}, Loss:{}\".format(epoch, epochs, loss.item()))\n",
        " "
      ]
    },
    {
      "cell_type": "code",
      "execution_count": 16,
      "metadata": {
        "colab": {
          "base_uri": "https://localhost:8080/",
          "height": 287
        },
        "colab_type": "code",
        "id": "rT6HTaPB5IAL",
        "outputId": "1dbaa140-6874-4ebc-99a3-8bdfd14e7ae3"
      },
      "outputs": [
        {
          "data": {
            "text/plain": [
              "[<matplotlib.lines.Line2D at 0x7fbcc43c9b70>]"
            ]
          },
          "execution_count": 16,
          "metadata": {},
          "output_type": "execute_result"
        },
        {
          "data": {
            "image/png": "[encoded data removed]",
            "text/plain": [
              "<Figure size 432x288 with 1 Axes>"
            ]
          },
          "metadata": {
            "needs_background": "light"
          },
          "output_type": "display_data"
        }
      ],
      "source": [
        "plt.plot(range(len(losslist)),losslist)"
      ]
    },
    {
      "cell_type": "code",
      "execution_count": 18,
      "metadata": {
        "colab": {
          "base_uri": "https://localhost:8080/",
          "height": 1151
        },
        "colab_type": "code",
        "id": "D2TAOjeZMBfp",
        "outputId": "0771669b-3b4d-4311-e233-a3b432960362"
      },
      "outputs": [
        {
          "data": {
            "image/png": "[encoded data removed]",
            "text/plain": [
              "<Figure size 1440x1440 with 18 Axes>"
            ]
          },
          "metadata": {
            "needs_background": "light"
          },
          "output_type": "display_data"
        }
      ],
      "source": [
        "\"\"\"Here, we try to visualize some of the results.\n",
        "  We randomly generate 6 numbers in between 1 and 10k , run them through the model,\n",
        "  and show the results with comparisons\n",
        " \"\"\"\n",
        "f,axes= plt.subplots(6,3,figsize=(20,20))\n",
        "axes[0,0].set_title(\"Original Image\")\n",
        "axes[0,1].set_title(\"Dirty Image\")\n",
        "axes[0,2].set_title(\"Cleaned Image\")\n",
        "\n",
        "test_imgs=np.random.randint(0,len(xtest),size=6)\n",
        "for idx in range((6)):\n",
        "  dirty=testset[test_imgs[idx]][0]\n",
        "  clean=testset[test_imgs[idx]][1]\n",
        "  label=testset[test_imgs[idx]][2]\n",
        "  dirty=dirty.view(dirty.size(0),-1).type(torch.FloatTensor)\n",
        "  dirty=dirty.to(device)\n",
        "  output=model(dirty)\n",
        "  \n",
        "  output=output.view(1,28,28)\n",
        "  output=output.permute(1,2,0).squeeze(2)\n",
        "  output=output.detach().cpu().numpy()\n",
        "  \n",
        "  dirty=dirty.view(1,28,28)\n",
        "  dirty=dirty.permute(1,2,0).squeeze(2)\n",
        "  dirty=dirty.detach().cpu().numpy()\n",
        "  \n",
        "  clean=clean.permute(1,2,0).squeeze(2)\n",
        "  clean=clean.detach().cpu().numpy()\n",
        "  \n",
        "  axes[idx,0].imshow(clean,cmap=\"gray\")\n",
        "  axes[idx,1].imshow(dirty,cmap=\"gray\")\n",
        "  axes[idx,2].imshow(output,cmap=\"gray\")"
      ]
    },
    {
      "cell_type": "code",
      "execution_count": 19,
      "metadata": {
        "colab": {},
        "colab_type": "code",
        "id": "PhP1vseSPcZc"
      },
      "outputs": [],
      "source": [
        "PATH = \"model\"\n",
        "torch.save(model.state_dict(), PATH)  # We save the model state dict at PATH   "
      ]
    },
    {
      "cell_type": "code",
      "execution_count": null,
      "metadata": {},
      "outputs": [],
      "source": []
    }
  ],
  "metadata": {
    "accelerator": "GPU",
    "colab": {
      "collapsed_sections": [],
      "name": "DenoisingAutoencoder.ipynb",
      "provenance": [],
      "version": "0.3.2"
    },
    "kernelspec": {
      "display_name": "Python 3",
      "name": "python3"
    },
    "language_info": {
      "codemirror_mode": {
        "name": "ipython",
        "version": 3
      },
      "file_extension": ".py",
      "mimetype": "text/x-python",
      "name": "python",
      "nbconvert_exporter": "python",
      "pygments_lexer": "ipython3",
      "version": "3.10.12"
    }
  },
  "nbformat": 4,
  "nbformat_minor": 0
}
