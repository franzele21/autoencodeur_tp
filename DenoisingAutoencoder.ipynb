{
  "cells": [
    {
      "cell_type": "markdown",
      "metadata": {},
      "source": [
        ">**Etudiants : François MULLER et Pierre LAGUE**"
      ]
    },
    {
      "cell_type": "markdown",
      "metadata": {},
      "source": [
        "# Sommaire\n",
        "* [Etude Autoencodeur](#etude-ae)\n",
        "    * [Exploration et création des bruits](#exploration-et-création-des-bruits)\n",
        "    * [Création du jeu de données bruitées](#création-dun-dataset-bruité)\n",
        "    * [Création dataloaders](#création-des-dataloaders-à-partir-des-datasets)\n",
        "    * [Définition de l'Autoencodeur de débruitage (classes 1 et 7)](#definition-de-lautoencodeur-de-débruitage)\n",
        "        * [Définition de l'optimisateur et loss](#definition-de-loptimisateur-de-la-loss-et-du-modèle)\n",
        "        * [Méthode d'entraînement](#definition-de-la-methode-dentraînement-du-modèle)\n",
        "        * [Premiers résultats du modèle](#résultats-de-lentraînement-du-modèle)\n",
        "        * [Optimisation de l'architecture du modèle](#optimisation-de-larchitecture-du-modèle)\n",
        "        * [Visualisation des prédictions](#visualisation-des-prédictions-du-modèle-sur-des-images-bruitées)\n",
        "\n",
        "    * [Extension du modèle sur toutes les classes MNIST](#modèle-sur-lensemble-des-données-mnist)\n",
        "    * [Implémentation d'architectures dérivées](#implémentation-de-nouvelles-architectures-dérivées)\n",
        "        * [Définition du classifieur benchmark CNN](#définition-du-classifier-benchmark-cnn)\n",
        "            * [Résultats Benchmark CNN](#résultat-benchmark-cnn)\n",
        "        * [Définition du classifieur Encoder-MLP](#definition-du-classifier-encoder-mlp)\n",
        "            * [Création du trainset avec les zones latentes](#création-du-jeu-dentraînement-avec-les-zones-latentes)\n",
        "            * [Résultats du classifieur Encoder-MLP](#résultats-du-classifieur-encoder-mlp)\n",
        "            * [GridSearch modèle Encodeur-MLP](#gridsearch-modèle-encodeur-mlp)\n",
        "    * [Discussion sur les résultats obtenus](#discussion-sur-les-performances-de-modèles-encodeur-cnn-et-encodeur-mlp)\n",
        "\n",
        "\n",
        "\n"
      ]
    },
    {
      "cell_type": "markdown",
      "metadata": {},
      "source": [
        "# Etude Autoencodeur <a class=\"anchor\" id=\"etude-ae\"></a>\n",
        "\n",
        "Un autoencodeur est un réseau de neurones utilisé pour la réduction de dimension ; c'est-à-dire pour la sélection et l'extraction des caractéristiques. Les autoencodeurs avec plus de couches cachées que d'entrées courent le risque d'apprendre la fonction identité - où la sortie est simplement égale à l'entrée - devenant ainsi inutiles.\n",
        "Les autoencodeurs de débruitage sont une extension de l'autoencodeur de base, et représentent une version stochastique de celui-ci. Les autoencodeurs de débruitage tentent de résoudre le risque de la fonction identité en corrompant aléatoirement l'entrée (c'est-à-dire en introduisant du bruit) que l'autoencodeur doit ensuite reconstruire, ou débruiter.\n",
        "\n",
        "Une première partie de l'étude se concentre sur ces autoendcodeur de débruitage, l'optimisation de leur architecture et hyperparamètres ainsi que leur capacité à être robuste quand ils sont exposés à de nouvelles données.  Cette première partie se concentre égalmement sur l'importance de l'apprentissage de représentation et les caractéristiques de la zone latente."
      ]
    },
    {
      "cell_type": "code",
      "execution_count": 1,
      "metadata": {
        "colab": {
          "base_uri": "https://localhost:8080/",
          "height": 35
        },
        "colab_type": "code",
        "id": "QbygB5YNKEMJ",
        "outputId": "cfca99ba-bbe3-48ed-9ed1-a5c189ad9469"
      },
      "outputs": [
        {
          "name": "stderr",
          "output_type": "stream",
          "text": [
            "2024-04-10 22:35:15.217183: I tensorflow/core/util/port.cc:113] oneDNN custom operations are on. You may see slightly different numerical results due to floating-point round-off errors from different computation orders. To turn them off, set the environment variable `TF_ENABLE_ONEDNN_OPTS=0`.\n",
            "2024-04-10 22:35:15.273322: E external/local_xla/xla/stream_executor/cuda/cuda_dnn.cc:9261] Unable to register cuDNN factory: Attempting to register factory for plugin cuDNN when one has already been registered\n",
            "2024-04-10 22:35:15.273371: E external/local_xla/xla/stream_executor/cuda/cuda_fft.cc:607] Unable to register cuFFT factory: Attempting to register factory for plugin cuFFT when one has already been registered\n",
            "2024-04-10 22:35:15.274775: E external/local_xla/xla/stream_executor/cuda/cuda_blas.cc:1515] Unable to register cuBLAS factory: Attempting to register factory for plugin cuBLAS when one has already been registered\n",
            "2024-04-10 22:35:15.280757: I tensorflow/core/platform/cpu_feature_guard.cc:182] This TensorFlow binary is optimized to use available CPU instructions in performance-critical operations.\n",
            "To enable the following instructions: AVX2 AVX512F AVX512_VNNI FMA, in other operations, rebuild TensorFlow with the appropriate compiler flags.\n",
            "2024-04-10 22:35:16.149510: W tensorflow/compiler/tf2tensorrt/utils/py_utils.cc:38] TF-TRT Warning: Could not find TensorRT\n"
          ]
        }
      ],
      "source": [
        "import json\n",
        "import torch\n",
        "import numpy as np\n",
        "from tqdm import tqdm\n",
        "import torch.nn as nn\n",
        "from typing import Callable\n",
        "import torch.optim as optim\n",
        "import matplotlib.pyplot as plt\n",
        "import torch.nn.functional as F\n",
        "from keras.datasets import mnist\n",
        "from torchvision import transforms\n",
        "from sklearn.preprocessing import minmax_scale\n",
        "from sklearn.metrics import mean_squared_error\n",
        "from torch.utils.data import DataLoader,Dataset\n",
        "from sklearn.model_selection import ParameterGrid"
      ]
    },
    {
      "cell_type": "code",
      "execution_count": 2,
      "metadata": {},
      "outputs": [],
      "source": [
        "#We check whether cuda is available and choose device accordingly\n",
        "if torch.cuda.is_available() == True:\n",
        "  device = \"cuda:0\"\n",
        "else:\n",
        "  device = \"cpu\""
      ]
    },
    {
      "cell_type": "markdown",
      "metadata": {},
      "source": [
        "### Exploration et création des bruits"
      ]
    },
    {
      "cell_type": "markdown",
      "metadata": {},
      "source": [
        ">Justification des choix des données :\n",
        "\n",
        "Dans le but de mieux appréhender le fonctionnement des autoencodeurs et d'illustrer leur capacité générative, nous avons pris la décision de construire un ensemble de données exclusivement composé d'images représentant les chiffres 1 et 7 (MNIST Digits). Les chiffres 1 et 7 présentent des similitudes marquées dans leur écriture. En introduisant divers types de bruits (dont nous discuterons ultérieurement), il devient possible de constituer un ensemble de données très varié et d'entraîner un modèle robuste. Par souci de performance et de faisabilité logistique, nous avons restreint notre choix à deux chiffres (1 et 7). Cependant, une exploration ultérieure sera proposée, où nous inclurons tous les chiffres du dataset MNIST.\n",
        "\n",
        ">Justification des choix des bruits :\n",
        "\n",
        "Deux types de bruits sont déjà implémentés, à savoir le \"speckle\" et le \"gaussian\".\n",
        "- Le bruit speckle, également appelé bruit de chatoiement, fait référence à toute fluctuation parasite ou toute dégradation subie par une image depuis le moment de son acquisition jusqu'à son enregistrement. Ce bruit illustre un cas concret où l'image est capturée par un appareil numérique puis transmise au modèle, la présence de bruit étant inévitable. Ce type de bruit se distingue par sa capacité à séparer le premier plan de l'arrière-plan, ce qui met en valeur le chiffre tout en le dégradant.\n",
        "- Le bruit gaussien, en traitement du signal, est un bruit caractérisé par une densité de probabilité qui suit une distribution gaussienne (loi normale). Les principales sources de bruit gaussien dans les images numériques surviennent pendant l'acquisition, par exemple le bruit du capteur causé par un mauvais éclairage et/ou une température élevée. Ce bruit uniforme permet au modèle d'être plus résilient dans sa classification car il n'accentue pas le chiffre mais uniformise la dégradation de l'image.\n",
        "- Le bruit \"salt and pepper\", ou bruit sel ou poivre, correspond à une altération aléatoire subie par une image numérique, entraînant la modification de l'intensité de certains pixels (répartis de manière aléatoire dans l'image) jusqu'à atteindre la valeur minimale ou maximale de la plage dynamique du pixel, respectivement 0 et 255 dans le cas d'une image numérique codée en 8 bits. Ce type de bruit permet au modèle de traiter des valeurs extrêmes (0 ou 255).\n",
        "\n",
        "Chacun des bruits sera scalé avec un paramètre `scale` qui permet de modifier l'intensité de la présence du bruit dans l'image. En jouant sur les valeurs de ce paramètre nous pourront créer des données plus ou moins bruitées et donc tester les limites de robustesse de nos modèles ainsi que de leur capacité à apprendre même avec beaucoup de bruit.\n",
        "\n"
      ]
    },
    {
      "cell_type": "code",
      "execution_count": 3,
      "metadata": {
        "colab": {},
        "colab_type": "code",
        "id": "fbKtjNSyKclx"
      },
      "outputs": [],
      "source": [
        "\"\"\"\n",
        "Here we load the dataset, add gaussian,poisson,speckle\n",
        "\n",
        "    'gauss'     Gaussian-distributed additive noise.\n",
        "    'speckle'   Multiplicative noise using out = image + n*image,where\n",
        "                n is uniform noise with specified mean & variance.\n",
        "    'salt_and_pepper' Randomly chosen pixels that are converted in black or white based on a probability.\n",
        "    'scale' : the scale at which the noise is present in the image. It allows to create images with little to no noise and images with a lot of noise (for model robustness).\n",
        "                \n",
        "We define a function that adds each noise when called from main function\n",
        "Input & Output: np array\n",
        "\"\"\"\n",
        "\n",
        "def add_noise(img, noise_type=\"gaussian\", scale=0.5):\n",
        "  row, col = 28, 28\n",
        "  img = img.astype(np.float32)\n",
        "\n",
        "  match noise_type:\n",
        "    case \"gaussian\":\n",
        "      mean  = 0\n",
        "      var   = 0.01\n",
        "      sigma = var**.5\n",
        "      noise = np.random.normal(mean, sigma, img.shape)\n",
        "      noise = noise.reshape(row, col)\n",
        "      img   = img + (noise*scale)\n",
        "      return img\n",
        "     \n",
        "    case \"speckle\" :\n",
        "      noise = np.random.randn(row, col)\n",
        "      noise = noise.reshape(row, col)\n",
        "      img   = img + (img*noise*scale)\n",
        "      return img\n",
        "     \n",
        "    case \"salt_pepper\" :\n",
        "      prob = 0.4*scale # 1/4 is the base probability of a pixel being transformed. It is scaled down or up with the scale parameter\n",
        "      output = img.copy()\n",
        "      if len(img.shape) == 2:\n",
        "          black = 0\n",
        "          white = 1\n",
        "        \n",
        "      probs = np.random.random(output.shape[:2])\n",
        "      output[probs < (prob/2)] = black\n",
        "      output[probs > 1-(prob/2)] = white\n",
        "      return output     \n",
        "    case _:\n",
        "      return img\n"
      ]
    },
    {
      "cell_type": "code",
      "execution_count": 4,
      "metadata": {},
      "outputs": [],
      "source": [
        "mnist_ = mnist.load_data()\n",
        "\n",
        "# selection des chiffres 1 et 7 pour constituer nos jeux de données\n",
        "train_mask = (mnist_[0][1] == 1) | (mnist_[0][1] == 7)\n",
        "test_mask = (mnist_[1][1] == 1) | (mnist_[1][1] == 7)\n",
        "\n",
        "(xtrain, ytrain) = mnist_[0][0][train_mask], mnist_[0][1][train_mask]\n",
        "(xtest, ytest) = mnist_[1][0][test_mask], mnist_[1][1][test_mask]"
      ]
    },
    {
      "cell_type": "code",
      "execution_count": 5,
      "metadata": {},
      "outputs": [],
      "source": [
        "xtrain = np.array([minmax_scale(x) for x in xtrain])\n",
        "xtest = np.array([minmax_scale(x) for x in xtest])"
      ]
    },
    {
      "cell_type": "code",
      "execution_count": 6,
      "metadata": {
        "colab": {
          "base_uri": "https://localhost:8080/",
          "height": 87
        },
        "colab_type": "code",
        "id": "crPgb8VXOceY",
        "outputId": "ada9c8c1-4bbc-4880-ca46-cfa504885fe9"
      },
      "outputs": [
        {
          "name": "stdout",
          "output_type": "stream",
          "text": [
            "No of training datapoints:13007\n",
            "No of Test datapoints:2163\n"
          ]
        }
      ],
      "source": [
        "print(\"No of training datapoints:{}\\nNo of Test datapoints:{}\".format(len(xtrain), len(xtest)))"
      ]
    },
    {
      "cell_type": "code",
      "execution_count": 7,
      "metadata": {
        "colab": {
          "base_uri": "https://localhost:8080/",
          "height": 191
        },
        "colab_type": "code",
        "id": "7kq9PiLARTic",
        "outputId": "480e62e7-4ed2-4278-c47c-f7770accaad2"
      },
      "outputs": [
        {
          "name": "stderr",
          "output_type": "stream",
          "text": [
            " 24%|██▍       | 3111/13007 [00:00<00:00, 31104.39it/s]"
          ]
        },
        {
          "name": "stdout",
          "output_type": "stream",
          "text": [
            "\n",
            "gaussian noise addition completed to images\n"
          ]
        },
        {
          "name": "stderr",
          "output_type": "stream",
          "text": [
            " 78%|███████▊  | 10145/13007 [00:00<00:00, 15374.61it/s]"
          ]
        },
        {
          "name": "stdout",
          "output_type": "stream",
          "text": [
            "\n",
            "speckle noise addition completed to images\n"
          ]
        },
        {
          "name": "stderr",
          "output_type": "stream",
          "text": [
            "100%|██████████| 13007/13007 [00:01<00:00, 12024.46it/s]\n"
          ]
        },
        {
          "name": "stdout",
          "output_type": "stream",
          "text": [
            "\n",
            "salt_pepper noise addition completed to images\n"
          ]
        },
        {
          "name": "stderr",
          "output_type": "stream",
          "text": [
            "100%|██████████| 2163/2163 [00:00<00:00, 12682.08it/s]"
          ]
        },
        {
          "name": "stdout",
          "output_type": "stream",
          "text": [
            "\n",
            "gaussian noise addition completed to images\n",
            "\n",
            "speckle noise addition completed to images\n",
            "\n",
            "salt_pepper noise addition completed to images\n"
          ]
        },
        {
          "name": "stderr",
          "output_type": "stream",
          "text": [
            "\n"
          ]
        }
      ],
      "source": [
        "\"\"\"\n",
        "From here onwards,we split the 60k training datapoints into 3 sets each given one type of each noise.\n",
        "We shuffle them for better generalization.\n",
        "\"\"\"\n",
        "noises = [\"gaussian\", \"speckle\", \"salt_pepper\"]\n",
        "noise_ct = 0\n",
        "noise_id = 0\n",
        "traindata = np.zeros((len(xtrain), 28, 28))\n",
        "\n",
        "\n",
        "for idx in tqdm(range(len(xtrain))):\n",
        "  if noise_ct < len(xtrain)/3:\n",
        "    noise_ct += 1\n",
        "    traindata[idx] = add_noise(xtrain[idx], noise_type=noises[noise_id], scale=1)\n",
        "  else:\n",
        "    print(\"\\n{} noise addition completed to images\".format(noises[noise_id]))\n",
        "    noise_id += 1\n",
        "    noise_ct = 0\n",
        "\n",
        "\n",
        "print(\"\\n{} noise addition completed to images\".format(noises[noise_id])) \n",
        "\n",
        "\n",
        "noise_ct = 0\n",
        "noise_id = 0\n",
        "testdata = np.zeros((10000, 28, 28))\n",
        "\n",
        "for idx in tqdm(range(len(xtest))):\n",
        "  if noise_ct < len(xtest)/3:\n",
        "    noise_ct += 1\n",
        "    x = add_noise(xtest[idx], noise_type=noises[noise_id])\n",
        "    testdata[idx] = x\n",
        "    \n",
        "  else:\n",
        "    print(\"\\n{} noise addition completed to images\".format(noises[noise_id]))\n",
        "    noise_id += 1\n",
        "    noise_ct = 0\n",
        "\n",
        "print(\"\\n{} noise addition completed to images\".format(noises[noise_id]))    \n",
        "  "
      ]
    },
    {
      "cell_type": "code",
      "execution_count": 8,
      "metadata": {
        "colab": {
          "base_uri": "https://localhost:8080/",
          "height": 299
        },
        "colab_type": "code",
        "id": "r1PruBRYUmYZ",
        "outputId": "78712c1a-755a-433a-cc34-4b501a2fad5a"
      },
      "outputs": [
        {
          "data": {
            "image/png": "[encoded data removed]",
            "text/plain": [
              "<Figure size 432x288 with 6 Axes>"
            ]
          },
          "metadata": {
            "needs_background": "light"
          },
          "output_type": "display_data"
        }
      ],
      "source": [
        "\"\"\"\n",
        "Here we Try to visualize, each type of noise that was introduced in the images\n",
        "Along with their original versions\n",
        "\n",
        "\"\"\"\n",
        "\n",
        "f, axes=plt.subplots(2,3)\n",
        "\n",
        "#showing images with gaussian noise\n",
        "axes[0,0].imshow(xtrain[0], cmap=\"gray\")\n",
        "axes[0,0].set_title(\"Original Image\")\n",
        "axes[1,0].imshow(traindata[0], cmap='gray')\n",
        "axes[1,0].set_title(\"Gaussian Noised Image\")\n",
        "\n",
        "#showing images with salt and pepper noise\n",
        "axes[0,1].imshow(xtrain[13000], cmap='gray')\n",
        "axes[0,1].set_title(\"Original Image\")\n",
        "axes[1,1].imshow(traindata[13000], cmap=\"gray\")\n",
        "axes[1,1].set_title(\"S&P Noised Image\")\n",
        "\n",
        "#showing imags with the speckle noise\n",
        "axes[0,2].imshow(xtrain[5000], cmap='gray')\n",
        "axes[0,2].set_title(\"Original Image\")\n",
        "axes[1,2].imshow(traindata[5000], cmap=\"gray\")\n",
        "axes[1,2].set_title(\"Speckle Noised Image\")\n",
        "\n",
        "plt.tight_layout()"
      ]
    },
    {
      "cell_type": "markdown",
      "metadata": {},
      "source": [
        "### Création d'un dataset bruité\n",
        "\n",
        "La classe NoisedDataset, comme son nom l'indique est un dataset composé d'images bruitées. Le dataset est composé de tuples ayant la structure suivante :\n",
        "\n",
        "$x = (image\\_bruitée, image\\_originale, label)$\n",
        "\n",
        "Les types de bruits sont répartis uniformément dans le dataset de sorte à ce qu'il n'y ait pas de biais/déséquilibre.\n",
        "Les fonctions de classe __len__ et __getitem__ vont nous permettre d'utiliser cette classe pour créer des dataloader rendant ainsi plus rapide le passage d'images en batch pendant l'entraînement."
      ]
    },
    {
      "cell_type": "code",
      "execution_count": 9,
      "metadata": {
        "colab": {},
        "colab_type": "code",
        "id": "Vfchnr-E_kka"
      },
      "outputs": [],
      "source": [
        "class noisedDataset(Dataset):\n",
        "  def __init__(self, \n",
        "               datasetnoised: np.ndarray, \n",
        "               datasetclean: np.ndarray, \n",
        "               labels: np.ndarray,\n",
        "               transform: Callable):\n",
        "    self.noise = datasetnoised\n",
        "    self.clean = datasetclean\n",
        "    self.labels = labels\n",
        "    self.transform = transform\n",
        "  \n",
        "  def __len__(self):\n",
        "    return len(self.noise)\n",
        "  \n",
        "  def __getitem__(self, idx):\n",
        "    xNoise = self.noise[idx]\n",
        "    xClean = self.clean[idx]\n",
        "    y = self.labels[idx]\n",
        "    \n",
        "    if self.transform != None:\n",
        "      xNoise = self.transform(xNoise)\n",
        "      xClean = self.transform(xClean)\n",
        "\n",
        "    return (xNoise, xClean, y)\n",
        "    "
      ]
    },
    {
      "cell_type": "code",
      "execution_count": 10,
      "metadata": {
        "colab": {},
        "colab_type": "code",
        "id": "HyzkdVVUC6ps"
      },
      "outputs": [],
      "source": [
        "tsfms = transforms.Compose([\n",
        "    transforms.ToTensor()\n",
        "])\n",
        "\n",
        "trainset = noisedDataset(traindata, xtrain, ytrain, tsfms)\n",
        "testset = noisedDataset(testdata, xtest, ytest, tsfms)"
      ]
    },
    {
      "cell_type": "markdown",
      "metadata": {},
      "source": [
        "#### Création des dataloaders à partir des datasets"
      ]
    },
    {
      "cell_type": "code",
      "execution_count": 11,
      "metadata": {
        "colab": {},
        "colab_type": "code",
        "id": "vTQ_iF1fXxC8"
      },
      "outputs": [],
      "source": [
        "\"\"\"\n",
        "Here , we create the trainloaders and testloaders.\n",
        "Also, we transform the images using standard lib functions\n",
        "\"\"\"\n",
        "\n",
        "trainloader = DataLoader(trainset, batch_size=32, shuffle=True)\n",
        "testloader  = DataLoader(testset, batch_size=1, shuffle=True)"
      ]
    },
    {
      "cell_type": "markdown",
      "metadata": {},
      "source": [
        "### Definition de l'Autoencodeur de débruitage\n",
        "\n",
        "Cet autoencodeur de débruitage est capable de prendre en entrée des images (ou des vecteurs) et de les encoder dans un espace de dimension réduite appelé \"zone latente\". Il les décode ensuite à partir de cet espace latent pour reconstruire l'entrée initiale sans le bruit.\n",
        "\n",
        "Voici une explication des principaux éléments :\n",
        "\n",
        "- La classe *denoising_model* est une sous-classe de nn.Module, ce qui signifie qu'elle hérite des fonctionnalités de base de PyTorch pour les modèles de réseaux de neurones.\n",
        "\n",
        "- L'initialisateur __init__ de la classe permet de définir la structure de l'autoencodeur en spécifiant le nombre de couches cachées (hidden_layer_nb), le nombre de neurones dans chaque couche cachée (hidden_size), le nombre de neurones dans la zone latente (latent_size) et la taille de l'image en entrée (img_size).\n",
        "\n",
        "- L'encodeur est une séquence de couches linéaires (fully connected) suivies de fonctions d'activation ReLU. Ces couches transforment l'entrée en une représentation de dimension réduite dans l'espace latent.\n",
        "\n",
        "- Le décodeur est également une séquence de couches linéaires suivies de fonctions d'activation ReLU, mais cette fois-ci il restaure l'entrée originale à partir de la représentation de l'espace latent.\n",
        "\n",
        "- La fonction forward est une méthode requise par PyTorch pour définir comment les données traversent le réseau. Dans ce cas, elle encode d'abord les données avec l'encodeur puis les décode avec le décodeur.\n",
        "\n",
        "- La méthode get_latent_size retourne la taille de la zone latente.\n",
        "\n"
      ]
    },
    {
      "cell_type": "code",
      "execution_count": 12,
      "metadata": {
        "colab": {},
        "colab_type": "code",
        "id": "1P60Cuv7pQO6"
      },
      "outputs": [],
      "source": [
        "\"\"\"\n",
        "Here, we define the autoencoder model.\n",
        "\"\"\"\n",
        "\n",
        "class denoising_model(nn.Module):\n",
        "  \"\"\"\n",
        "  Autoencodeur, capable d'être personnalisé au niveau du nombre de neurones dans la / les couche(s) cachée(s) et au nombre de couches cachées.\n",
        "\n",
        "  Paramètres :\n",
        "  ------------\n",
        "  `hidden_layer_nb`: int (default=1)  \n",
        "    Nombre de couche cachées\n",
        "  `hidden_size`: int (default=256)\n",
        "    Nombre de neurones dans chaque couche de la couche cachée\n",
        "  `latent_size`: int (default=64)  \n",
        "    Nombre de neurone dans la zone latente\n",
        "  \"\"\"\n",
        "  def __init__(self, hidden_layer_nb=1, hidden_size = 256, latent_size=64, img_size=28*28):\n",
        "    super(denoising_model,self).__init__()\n",
        "\n",
        "    self.latent_size = latent_size\n",
        "\n",
        "    encode_sequence_input = [nn.Linear(img_size, hidden_size), nn.ReLU()]\n",
        "    encode_sequence_output = [nn.Linear(hidden_size, latent_size), nn.ReLU()]\n",
        "    encode_sequence_hidden = []\n",
        "    for i in range(hidden_layer_nb):\n",
        "      encode_sequence_hidden.append(nn.Linear(hidden_size, hidden_size))\n",
        "      encode_sequence_hidden.append(nn.ReLU())\n",
        "\n",
        "    encode_sequence = encode_sequence_input + encode_sequence_hidden + encode_sequence_output\n",
        "        \n",
        "    self.encoder = nn.Sequential(\n",
        "      *encode_sequence\n",
        "    )\n",
        "\n",
        "    decode_sequence_input = [nn.Linear(latent_size, hidden_size), nn.ReLU()]\n",
        "    decode_sequence_output = [nn.Linear(hidden_size, img_size), nn.Sigmoid()]\n",
        "    decode_sequence_hidden = []\n",
        "    for i in range(hidden_layer_nb):\n",
        "      decode_sequence_hidden.append(nn.Linear(hidden_size, hidden_size))\n",
        "      decode_sequence_hidden.append(nn.ReLU())\n",
        "\n",
        "    decode_sequence = decode_sequence_input + decode_sequence_hidden + decode_sequence_output\n",
        "\n",
        "    self.decoder = nn.Sequential(\n",
        "      *decode_sequence\n",
        "    )\n",
        "\n",
        "  def get_latent_size(self):\n",
        "    return self.latent_size\n",
        "\n",
        "  def encode(self, x):\n",
        "    return self.encoder(x)\n",
        " \n",
        "  def forward(self, x):\n",
        "    x = self.encoder(x)\n",
        "    x = self.decoder(x)\n",
        "    \n",
        "    return x"
      ]
    },
    {
      "cell_type": "markdown",
      "metadata": {},
      "source": [
        "#### Definition de l'optimisateur, de la loss et du modèle\n",
        "\n",
        "Le choix d'une loss adaptées est très importante dans le process d'entraînement d'un modèle. La perte de Mean Squared Error (MSE) est appropriée pour les autoencodeurs en raison de sa compatibilité avec les espaces de sortie continus, de sa sensibilité aux erreurs importantes et de sa facilité de normalisation avec le calcul de la moyenne. Elle pénalise plus lourdement les erreurs importantes."
      ]
    },
    {
      "cell_type": "code",
      "execution_count": 13,
      "metadata": {},
      "outputs": [],
      "source": [
        "model = denoising_model(hidden_layer_nb=2).to(device) \n",
        "criterion = nn.MSELoss()\n",
        "optimizer = optim.Adam(model.parameters(), lr=0.01, weight_decay=1e-5)"
      ]
    },
    {
      "cell_type": "code",
      "execution_count": 14,
      "metadata": {},
      "outputs": [
        {
          "name": "stdout",
          "output_type": "stream",
          "text": [
            "denoising_model(\n",
            "  (encoder): Sequential(\n",
            "    (0): Linear(in_features=784, out_features=256, bias=True)\n",
            "    (1): ReLU()\n",
            "    (2): Linear(in_features=256, out_features=256, bias=True)\n",
            "    (3): ReLU()\n",
            "    (4): Linear(in_features=256, out_features=256, bias=True)\n",
            "    (5): ReLU()\n",
            "    (6): Linear(in_features=256, out_features=64, bias=True)\n",
            "    (7): ReLU()\n",
            "  )\n",
            "  (decoder): Sequential(\n",
            "    (0): Linear(in_features=64, out_features=256, bias=True)\n",
            "    (1): ReLU()\n",
            "    (2): Linear(in_features=256, out_features=256, bias=True)\n",
            "    (3): ReLU()\n",
            "    (4): Linear(in_features=256, out_features=256, bias=True)\n",
            "    (5): ReLU()\n",
            "    (6): Linear(in_features=256, out_features=784, bias=True)\n",
            "    (7): Sigmoid()\n",
            "  )\n",
            ")\n"
          ]
        }
      ],
      "source": [
        "print(model)"
      ]
    },
    {
      "cell_type": "markdown",
      "metadata": {},
      "source": [
        "### Definition de la methode d'entraînement du modèle\n",
        "\n",
        "La méthode train_test permet de réaliser l'entraînement et l'évaluation d'un modèle (`model`) passé en paramètre.\n",
        "\n",
        "Cette méthode permet de spécifier l'optimisateur utilisé ainsi que la loss, le nombre d'epochs, le device (pour la gpu acceleration), le trainloader et le testloader.\n",
        "Il nous semblait important de pouvoir spécifier tous ces paramètres afin de rendre la méthode la plus réutillisable possible.\n",
        "\n",
        "Pendant la phase d'entraînement, nous calculons la perte moyenne de l'epoch afin de garder une trace de la performance du modèle.\n",
        "\n",
        "\n",
        "Cette fonction permet d'entraînet le modèle mais aussi de l'évaluer. En effet, après la phase d'entraînement sur le trainloader, nous calculons la loss totale (MSE) sur le testloader.\n",
        "Ce calcul est fait manuellement : \n",
        "\n",
        "- nous comparons la valeur du label à la valeur prédite par le modèle. En fonction de la nature du testloader, il est important de modifier le type des données de test afin qu'elles soient compatibles en entrée avec le modèle (d'où les transtypages en tenseurs).\n",
        "- la true_error est incrémentée de 1 si le label et la prédiction correspondent, 0 sinon\n",
        "\n",
        "Au final nous retournons l'ensemble des loss au fil des epochs et la true_error.\n",
        "\n"
      ]
    },
    {
      "cell_type": "code",
      "execution_count": 15,
      "metadata": {},
      "outputs": [],
      "source": [
        "def train_test(\n",
        "        model: torch.nn.Module, \n",
        "        optimizer: torch.optim.Optimizer, \n",
        "        criterion: torch.nn.Module, \n",
        "        epochs: int,\n",
        "        device: str,\n",
        "        trainloader: torch.utils.data.DataLoader, \n",
        "        testset: torch.utils.data.Dataset):\n",
        "    \"\"\"\n",
        "    Fonction pour entraîner / tester un modèle.\n",
        "\n",
        "    Parameters:\n",
        "    -----------\n",
        "    model : torch.nn.Module\n",
        "        Le modèle à entraîner.\n",
        "    optimizer : torch.optim.Optimizer\n",
        "        L'optimiseur utilisé pour la mise à jour des poids du modèle.\n",
        "    criterion : torch.nn.Module\n",
        "        La fonction de perte utilisée pour évaluer la différence entre les prédictions et les vraies étiquettes.\n",
        "    epochs : int\n",
        "        Le nombre d'époques d'entraînement.\n",
        "    device : str\n",
        "        L'appareil sur lequel exécuter l'entraînement, par exemple 'cuda' pour GPU ou 'cpu' pour CPU.\n",
        "    trainloader : torch.utils.data.DataLoader\n",
        "        Le DataLoader contenant les données d'entraînement.\n",
        "    testset : torch.utils.data.Dataset\n",
        "        Le jeu de données de test utilisé pour évaluer le modèle après chaque époque.\n",
        "\n",
        "    Returns:\n",
        "    --------\n",
        "    true_error : float\n",
        "        L'erreur moyenne quadratique sur le jeu de données de test.\n",
        "    losslist : list\n",
        "        Liste des valeurs de la fonction de perte moyenne sur les données d'entraînement pour chaque époque.\n",
        "    \"\"\"\n",
        "    model.train()\n",
        "    losslist = []\n",
        "    for epoch in tqdm(range(epochs)):\n",
        "        running_loss = 0\n",
        "        for dirty, clean, label in trainloader:  \n",
        "            \n",
        "            dirty = dirty.view(dirty.size(0), -1).type(torch.FloatTensor)\n",
        "            clean = clean.view(clean.size(0), -1).type(torch.FloatTensor)\n",
        "            dirty, clean = dirty.to(device), clean.to(device)\n",
        "\n",
        "            optimizer.zero_grad()\n",
        "\n",
        "            # Forward pass\n",
        "            output = model.forward(dirty)\n",
        "            loss = criterion(output, clean)\n",
        "\n",
        "            # Rétropropagation\n",
        "            loss.backward()\n",
        "            optimizer.step()\n",
        "            \n",
        "            running_loss += loss.item()\n",
        "\n",
        "        # Calcul de la perte moyenne pour cette époque\n",
        "        losslist.append(running_loss/len(trainloader))\n",
        "\n",
        "    # Calcul de l'erreur moyenne quadratique sur le jeu de données de test\n",
        "    true_error = 0\n",
        "    for test in testset:\n",
        "        true_error += mean_squared_error(test.flatten(), model(torch.tensor(test.flatten()).type(torch.FloatTensor)).detach())\n",
        "    true_error /= len(testset)\n",
        "\n",
        "    return true_error, losslist"
      ]
    },
    {
      "cell_type": "markdown",
      "metadata": {},
      "source": [
        "Nous entraînons un modèle type autoencodeur de béruitage qui nous servira de baseline pour comparer les autres modèles."
      ]
    },
    {
      "cell_type": "code",
      "execution_count": 16,
      "metadata": {},
      "outputs": [
        {
          "name": "stderr",
          "output_type": "stream",
          "text": [
            "100%|██████████| 120/120 [16:04<00:00,  8.04s/it]\n"
          ]
        },
        {
          "data": {
            "text/plain": [
              "(0.015559103894430694,\n",
              " [0.034819886134136516,\n",
              "  0.024979666241556772,\n",
              "  0.023845272157020887,\n",
              "  0.022975859799735817,\n",
              "  0.022100311044960554,\n",
              "  0.021234249812836874,\n",
              "  0.020614106876258476,\n",
              "  0.02008196713828484,\n",
              "  0.0196032400519864,\n",
              "  0.019169708418703343,\n",
              "  0.018955685333314487,\n",
              "  0.01868421603817978,\n",
              "  0.01862100592107313,\n",
              "  0.018523550901278232,\n",
              "  0.018433818026132313,\n",
              "  0.018349159508943558,\n",
              "  0.018279949949106946,\n",
              "  0.018271389939073995,\n",
              "  0.018167106112057952,\n",
              "  0.018147058233490592,\n",
              "  0.01811539842598415,\n",
              "  0.01797543959669238,\n",
              "  0.017992873772228232,\n",
              "  0.017803503767900738,\n",
              "  0.017739181361030743,\n",
              "  0.017833380550329164,\n",
              "  0.01766419951879495,\n",
              "  0.01756411146244414,\n",
              "  0.017592352922520708,\n",
              "  0.01753280642247903,\n",
              "  0.01749974768837635,\n",
              "  0.017424805426205846,\n",
              "  0.01738349280574105,\n",
              "  0.017455092171339788,\n",
              "  0.017348828560761944,\n",
              "  0.017385777404087914,\n",
              "  0.017372134475710205,\n",
              "  0.01730158140411468,\n",
              "  0.017226266338322905,\n",
              "  0.017296255298453116,\n",
              "  0.01728715069582846,\n",
              "  0.01724407938823873,\n",
              "  0.01717364105466909,\n",
              "  0.017263048598474162,\n",
              "  0.01720709612716621,\n",
              "  0.01716090883391495,\n",
              "  0.017161356184530904,\n",
              "  0.017155016355985358,\n",
              "  0.017089871238889654,\n",
              "  0.017122209651043285,\n",
              "  0.017101485062509556,\n",
              "  0.017116970805959267,\n",
              "  0.017091682036601795,\n",
              "  0.01703084868902949,\n",
              "  0.01699650922163186,\n",
              "  0.0170505687832393,\n",
              "  0.01720542854261047,\n",
              "  0.017001645264263822,\n",
              "  0.017025763457252,\n",
              "  0.01700982764930778,\n",
              "  0.0170497467800865,\n",
              "  0.01708849807125711,\n",
              "  0.016960374477802242,\n",
              "  0.016985056784544005,\n",
              "  0.017088488082994114,\n",
              "  0.016958377697031388,\n",
              "  0.017023149973893634,\n",
              "  0.016880914818321605,\n",
              "  0.0168962078901232,\n",
              "  0.016919504734401476,\n",
              "  0.017012949971166376,\n",
              "  0.01691674004498805,\n",
              "  0.01702244849349269,\n",
              "  0.016916739436310398,\n",
              "  0.016919720048400637,\n",
              "  0.016904766508892947,\n",
              "  0.01687388925948146,\n",
              "  0.016861425868306464,\n",
              "  0.0168665394951253,\n",
              "  0.016899878912003532,\n",
              "  0.016922214894534916,\n",
              "  0.01686621682960952,\n",
              "  0.0168544080849801,\n",
              "  0.016901331754625576,\n",
              "  0.01683927337691664,\n",
              "  0.016912014777394565,\n",
              "  0.01688001638722288,\n",
              "  0.01674047822512558,\n",
              "  0.01679077652266995,\n",
              "  0.016854993740430774,\n",
              "  0.01680289324217405,\n",
              "  0.01682738166220065,\n",
              "  0.016749277081642602,\n",
              "  0.01681068459530281,\n",
              "  0.016732484484388875,\n",
              "  0.01691679819658655,\n",
              "  0.016794985869592764,\n",
              "  0.016889887580451273,\n",
              "  0.01674643951566565,\n",
              "  0.016858507323030757,\n",
              "  0.01686174060957145,\n",
              "  0.016852299353286294,\n",
              "  0.016777474506408048,\n",
              "  0.01691276130909489,\n",
              "  0.016876400512453232,\n",
              "  0.01687801170279558,\n",
              "  0.01683099274763824,\n",
              "  0.016844860673939272,\n",
              "  0.016788949988581037,\n",
              "  0.016760969500192405,\n",
              "  0.016935396754166856,\n",
              "  0.016761681046657245,\n",
              "  0.01688442739179811,\n",
              "  0.016776750646806175,\n",
              "  0.016829987802526727,\n",
              "  0.01695235424356979,\n",
              "  0.01673055064683684,\n",
              "  0.016788244405326593,\n",
              "  0.01684269113626322,\n",
              "  0.01680849959812967])"
            ]
          },
          "execution_count": 16,
          "metadata": {},
          "output_type": "execute_result"
        }
      ],
      "source": [
        "train_test(model, optimizer, criterion, 120, device, trainloader, testdata)"
      ]
    },
    {
      "cell_type": "markdown",
      "metadata": {},
      "source": [
        "#### Résultats de l'entraînement du modèle\n",
        "\n",
        "Au terme de l'entraînement qui à duré 16 minutes environ, on observe une loss qui décroit de 2% à 1%, ce qui montre une performance relativement bonne du modèle pendant son entraînement. Ce score est en accord avec son erreur de generalisation d'environ 1% montrant sa capacité à débruiter des données non présentes lors de l'entraînement. A présent, tentons d'optimiser le modèle afin de gagner en performance."
      ]
    },
    {
      "cell_type": "markdown",
      "metadata": {},
      "source": [
        "### Optimisation de l'architecture du modèle\n"
      ]
    },
    {
      "cell_type": "code",
      "execution_count": 17,
      "metadata": {},
      "outputs": [],
      "source": [
        "def gridsearch(model_obj: nn.Module, \n",
        "               parameters: dict,\n",
        "               optimizer: optim.Optimizer,\n",
        "               criterion,\n",
        "               learning_rate :int,\n",
        "               epoch: int,\n",
        "               device: str,\n",
        "               trainloader: DataLoader,\n",
        "               testdata: Dataset):\n",
        "    \"\"\"\n",
        "    Effectue une recherche sur grille pour trouver les meilleurs hyperparamètres pour un modèle donné.\n",
        "\n",
        "    Parameters:\n",
        "    -----------\n",
        "    model_obj : nn.Module\n",
        "        Classe du modèle à utiliser pour la recherche sur grille.\n",
        "    parameters : dict\n",
        "        Dictionnaire contenant les hyperparamètres à tester.\n",
        "    optimizer : torch.optim.Optimizer\n",
        "        L'optimiseur à utiliser pour la mise à jour des poids du modèle.\n",
        "    learning_rate : int\n",
        "        Taux d'apprentissage à utiliser avec l'optimiseur.\n",
        "    epoch : int\n",
        "        Nombre d'époques d'entraînement pour chaque configuration de paramètres.\n",
        "    device : str\n",
        "        L'appareil sur lequel exécuter l'entraînement, par exemple 'cuda' pour GPU ou 'cpu' pour CPU.\n",
        "    trainloader : torch.utils.data.DataLoader\n",
        "        DataLoader contenant les données d'entraînement.\n",
        "    testdata : torch.utils.data.Dataset\n",
        "        Jeu de données de test utilisé pour évaluer le modèle après chaque configuration de paramètres.\n",
        "\n",
        "    Returns:\n",
        "    --------\n",
        "    results : dict\n",
        "        Dictionnaire contenant les résultats de la recherche sur grille.\n",
        "        Chaque clé correspond à l'indice de la configuration de paramètres.\n",
        "        Chaque valeur est un dictionnaire contenant les paramètres testés, l'erreur réelle (sur les données de test)\n",
        "        et l'erreur d'entraînement (sur les données d'entraînement) pour cette configuration.\n",
        "    \"\"\"\n",
        "    parameters = ParameterGrid(parameters)\n",
        "    results = {}\n",
        "    loss = criterion()\n",
        "\n",
        "    for i, params in enumerate(parameters):\n",
        "        tmp_model = model_obj(**params)\n",
        "        tmp_optim = optimizer(tmp_model.parameters(), lr=learning_rate)\n",
        "        tmp_result = train_test(tmp_model, tmp_optim, loss, epoch, device, trainloader, testdata)\n",
        "        print(f\"\\tParams {i}/{len(parameters)} -> true error: {tmp_result[0]}\")\n",
        "        results[i] = {\n",
        "            \"params\": params,\n",
        "            \"true_error\": tmp_result[0],\n",
        "            \"training_error\": tmp_result[1]\n",
        "        }\n",
        "\n",
        "    return results"
      ]
    },
    {
      "cell_type": "code",
      "execution_count": 18,
      "metadata": {},
      "outputs": [],
      "source": [
        "parameters = {\"hidden_layer_nb\": range(1, 6, 2),\n",
        "              \"hidden_size\": range(300, 501, 100),\n",
        "              \"latent_size\": [7*7, 8*8, 9*9]}"
      ]
    },
    {
      "cell_type": "code",
      "execution_count": 19,
      "metadata": {},
      "outputs": [
        {
          "name": "stderr",
          "output_type": "stream",
          "text": [
            "100%|██████████| 30/30 [01:15<00:00,  2.53s/it]\n"
          ]
        },
        {
          "name": "stdout",
          "output_type": "stream",
          "text": [
            "\tParams 0/27 -> true error: 0.011610495447013659\n"
          ]
        },
        {
          "name": "stderr",
          "output_type": "stream",
          "text": [
            "100%|██████████| 30/30 [01:19<00:00,  2.64s/it]\n"
          ]
        },
        {
          "name": "stdout",
          "output_type": "stream",
          "text": [
            "\tParams 1/27 -> true error: 0.011604238712075948\n"
          ]
        },
        {
          "name": "stderr",
          "output_type": "stream",
          "text": [
            "100%|██████████| 30/30 [01:21<00:00,  2.71s/it]\n"
          ]
        },
        {
          "name": "stdout",
          "output_type": "stream",
          "text": [
            "\tParams 2/27 -> true error: 0.012100017227890576\n"
          ]
        },
        {
          "name": "stderr",
          "output_type": "stream",
          "text": [
            "100%|██████████| 30/30 [01:42<00:00,  3.42s/it]\n"
          ]
        },
        {
          "name": "stdout",
          "output_type": "stream",
          "text": [
            "\tParams 3/27 -> true error: 0.011341067950738663\n"
          ]
        },
        {
          "name": "stderr",
          "output_type": "stream",
          "text": [
            "100%|██████████| 30/30 [01:34<00:00,  3.13s/it]\n"
          ]
        },
        {
          "name": "stdout",
          "output_type": "stream",
          "text": [
            "\tParams 4/27 -> true error: 0.012203814334264748\n"
          ]
        },
        {
          "name": "stderr",
          "output_type": "stream",
          "text": [
            "100%|██████████| 30/30 [01:42<00:00,  3.41s/it]\n"
          ]
        },
        {
          "name": "stdout",
          "output_type": "stream",
          "text": [
            "\tParams 5/27 -> true error: 0.011429345076944101\n"
          ]
        },
        {
          "name": "stderr",
          "output_type": "stream",
          "text": [
            "100%|██████████| 30/30 [02:09<00:00,  4.30s/it]\n"
          ]
        },
        {
          "name": "stdout",
          "output_type": "stream",
          "text": [
            "\tParams 6/27 -> true error: 0.01102463743060008\n"
          ]
        },
        {
          "name": "stderr",
          "output_type": "stream",
          "text": [
            "100%|██████████| 30/30 [02:12<00:00,  4.42s/it]\n"
          ]
        },
        {
          "name": "stdout",
          "output_type": "stream",
          "text": [
            "\tParams 7/27 -> true error: 0.01093688843767824\n"
          ]
        },
        {
          "name": "stderr",
          "output_type": "stream",
          "text": [
            "100%|██████████| 30/30 [02:10<00:00,  4.35s/it]\n"
          ]
        },
        {
          "name": "stdout",
          "output_type": "stream",
          "text": [
            "\tParams 8/27 -> true error: 0.01133331167077896\n"
          ]
        },
        {
          "name": "stderr",
          "output_type": "stream",
          "text": [
            "100%|██████████| 30/30 [02:03<00:00,  4.12s/it]\n"
          ]
        },
        {
          "name": "stdout",
          "output_type": "stream",
          "text": [
            "\tParams 9/27 -> true error: 0.023175082362316725\n"
          ]
        },
        {
          "name": "stderr",
          "output_type": "stream",
          "text": [
            "100%|██████████| 30/30 [01:59<00:00,  3.97s/it]\n"
          ]
        },
        {
          "name": "stdout",
          "output_type": "stream",
          "text": [
            "\tParams 10/27 -> true error: 0.02336531763943763\n"
          ]
        },
        {
          "name": "stderr",
          "output_type": "stream",
          "text": [
            "100%|██████████| 30/30 [01:53<00:00,  3.78s/it]\n"
          ]
        },
        {
          "name": "stdout",
          "output_type": "stream",
          "text": [
            "\tParams 11/27 -> true error: 0.02528539040027918\n"
          ]
        },
        {
          "name": "stderr",
          "output_type": "stream",
          "text": [
            "100%|██████████| 30/30 [02:21<00:00,  4.72s/it]\n"
          ]
        },
        {
          "name": "stdout",
          "output_type": "stream",
          "text": [
            "\tParams 12/27 -> true error: 0.018921343922841297\n"
          ]
        },
        {
          "name": "stderr",
          "output_type": "stream",
          "text": [
            "100%|██████████| 30/30 [02:31<00:00,  5.04s/it]\n"
          ]
        },
        {
          "name": "stdout",
          "output_type": "stream",
          "text": [
            "\tParams 13/27 -> true error: 0.023120474372961115\n"
          ]
        },
        {
          "name": "stderr",
          "output_type": "stream",
          "text": [
            "100%|██████████| 30/30 [02:35<00:00,  5.20s/it]\n"
          ]
        },
        {
          "name": "stdout",
          "output_type": "stream",
          "text": [
            "\tParams 14/27 -> true error: 0.022402909466689595\n"
          ]
        },
        {
          "name": "stderr",
          "output_type": "stream",
          "text": [
            "100%|██████████| 30/30 [03:00<00:00,  6.02s/it]\n"
          ]
        },
        {
          "name": "stdout",
          "output_type": "stream",
          "text": [
            "\tParams 15/27 -> true error: 0.023136744308596358\n"
          ]
        },
        {
          "name": "stderr",
          "output_type": "stream",
          "text": [
            "100%|██████████| 30/30 [03:35<00:00,  7.19s/it]\n"
          ]
        },
        {
          "name": "stdout",
          "output_type": "stream",
          "text": [
            "\tParams 16/27 -> true error: 0.017518676950472205\n"
          ]
        },
        {
          "name": "stderr",
          "output_type": "stream",
          "text": [
            "100%|██████████| 30/30 [03:25<00:00,  6.86s/it]\n"
          ]
        },
        {
          "name": "stdout",
          "output_type": "stream",
          "text": [
            "\tParams 17/27 -> true error: 0.02221039675797116\n"
          ]
        },
        {
          "name": "stderr",
          "output_type": "stream",
          "text": [
            "100%|██████████| 30/30 [02:39<00:00,  5.32s/it]\n"
          ]
        },
        {
          "name": "stdout",
          "output_type": "stream",
          "text": [
            "\tParams 18/27 -> true error: 0.03291889349792379\n"
          ]
        },
        {
          "name": "stderr",
          "output_type": "stream",
          "text": [
            "100%|██████████| 30/30 [02:46<00:00,  5.54s/it]\n"
          ]
        },
        {
          "name": "stdout",
          "output_type": "stream",
          "text": [
            "\tParams 19/27 -> true error: 0.029836618698641355\n"
          ]
        },
        {
          "name": "stderr",
          "output_type": "stream",
          "text": [
            "100%|██████████| 30/30 [02:43<00:00,  5.45s/it]\n"
          ]
        },
        {
          "name": "stdout",
          "output_type": "stream",
          "text": [
            "\tParams 20/27 -> true error: 0.032885634758703694\n"
          ]
        },
        {
          "name": "stderr",
          "output_type": "stream",
          "text": [
            "100%|██████████| 30/30 [03:36<00:00,  7.21s/it]\n"
          ]
        },
        {
          "name": "stdout",
          "output_type": "stream",
          "text": [
            "\tParams 21/27 -> true error: 0.03572675071837763\n"
          ]
        },
        {
          "name": "stderr",
          "output_type": "stream",
          "text": [
            "100%|██████████| 30/30 [03:55<00:00,  7.84s/it]\n"
          ]
        },
        {
          "name": "stdout",
          "output_type": "stream",
          "text": [
            "\tParams 22/27 -> true error: 0.02453191977050692\n"
          ]
        },
        {
          "name": "stderr",
          "output_type": "stream",
          "text": [
            "100%|██████████| 30/30 [04:03<00:00,  8.11s/it]\n"
          ]
        },
        {
          "name": "stdout",
          "output_type": "stream",
          "text": [
            "\tParams 23/27 -> true error: 0.034908066636488745\n"
          ]
        },
        {
          "name": "stderr",
          "output_type": "stream",
          "text": [
            "100%|██████████| 30/30 [05:35<00:00, 11.18s/it]\n"
          ]
        },
        {
          "name": "stdout",
          "output_type": "stream",
          "text": [
            "\tParams 24/27 -> true error: 0.02574615945052277\n"
          ]
        },
        {
          "name": "stderr",
          "output_type": "stream",
          "text": [
            "100%|██████████| 30/30 [05:58<00:00, 11.97s/it]\n"
          ]
        },
        {
          "name": "stdout",
          "output_type": "stream",
          "text": [
            "\tParams 25/27 -> true error: 0.02335401143256641\n"
          ]
        },
        {
          "name": "stderr",
          "output_type": "stream",
          "text": [
            "100%|██████████| 30/30 [05:45<00:00, 11.52s/it]\n"
          ]
        },
        {
          "name": "stdout",
          "output_type": "stream",
          "text": [
            "\tParams 26/27 -> true error: 0.02607099017858946\n"
          ]
        }
      ],
      "source": [
        "results = gridsearch(denoising_model, parameters, optim.Adam, nn.MSELoss, 1e-4, 30, device, trainloader, testdata)"
      ]
    },
    {
      "cell_type": "code",
      "execution_count": 20,
      "metadata": {},
      "outputs": [],
      "source": [
        "# # on enregistre les résultats pour ne pas devoir refaire la gridsearch\n",
        "# with open(\"output_gridsearch.json\", \"w+\") as file:\n",
        "#     file.write(json.dumps(results, indent=1))\n",
        "\n",
        "# on lit les résultats de l'ancienne gridsearch\n",
        "with open(\"output_gridsearch.json\") as file:\n",
        "    results = json.loads(file.read())"
      ]
    },
    {
      "cell_type": "code",
      "execution_count": 21,
      "metadata": {},
      "outputs": [
        {
          "data": {
            "text/plain": [
              "{'hidden_layer_nb': 1, 'hidden_size': 500, 'latent_size': 81}"
            ]
          },
          "execution_count": 21,
          "metadata": {},
          "output_type": "execute_result"
        }
      ],
      "source": [
        "[results[str(i)][\"params\"] for i in range(27) if results[str(i)][\"true_error\"] == min([results[str(j)][\"true_error\"] for j in range(27)])][0]"
      ]
    },
    {
      "cell_type": "markdown",
      "metadata": {},
      "source": [
        "Afin de trouver le meilleur modèle pour cette tâche, nous avons réalisé un grid search sur plusieurs paramètres :\n",
        "- Le nombre de couches de la couche cachée (par le paramètres `hidden_layer_nb`)\n",
        "- Le nombre de neurones de la couche cachées (par le paramètres `hidden_size`)\n",
        "- Le nombre de neurones de la zone latente (par le paramètres `latent_size`)  \n",
        "\n",
        "Nous avons opté pour des espaces latents sous forme de carrés afin de pouvoir les afficher ultérieurement dans le même format que les images d'origine, qui sont également carrées. Cette approche sera également avantageuse pour la classification, car elle permettra l'utilisation de réseaux de convolution tout en préservant les dimensions de base des images.\n",
        "\n",
        "En raison de contraintes de temps, nous avons limité à seulement 30 itérations par test lors de la recherche par grille. Le programme a pris plus d'une heure pour s'exécuter avec seulement ces 30 itérations. Nous avons utilisé le même optimiseur et le même taux d'apprentissage que lors de notre premier test.\n",
        "\n",
        "Le meilleur modèle possède donc cette forme :\n",
        "```\n",
        "denoising_model(\n",
        "  (encoder): Sequential(\n",
        "    (0): Linear(in_features=784, out_features=500, bias=True)\n",
        "    (1): ReLU()\n",
        "    (2): Linear(in_features=500, out_features=500, bias=True)\n",
        "    (3): ReLU()\n",
        "    (4): Linear(in_features=500, out_features=81, bias=True)\n",
        "    (5): ReLU()\n",
        "  )\n",
        "  (decoder): Sequential(\n",
        "    (0): Linear(in_features=81, out_features=500, bias=True)\n",
        "    (1): ReLU()\n",
        "    (2): Linear(in_features=500, out_features=500, bias=True)\n",
        "    (3): ReLU()\n",
        "    (4): Linear(in_features=500, out_features=784, bias=True)\n",
        "    (5): Sigmoid()\n",
        "  )\n",
        ")\n",
        "```\n",
        "C'est à dire, par rapport aux paramètres donnés :\n",
        "- Le paramètre `hidden_layer_nb` vaut 1\n",
        "- Le paramètre `hidden_size` vaut 500\n",
        "- Le paramètre `latent_size` vaut 81 (donc $9 \\times 9$)"
      ]
    },
    {
      "cell_type": "code",
      "execution_count": 22,
      "metadata": {},
      "outputs": [
        {
          "name": "stdout",
          "output_type": "stream",
          "text": [
            "denoising_model(\n",
            "  (encoder): Sequential(\n",
            "    (0): Linear(in_features=784, out_features=500, bias=True)\n",
            "    (1): ReLU()\n",
            "    (2): Linear(in_features=500, out_features=500, bias=True)\n",
            "    (3): ReLU()\n",
            "    (4): Linear(in_features=500, out_features=81, bias=True)\n",
            "    (5): ReLU()\n",
            "  )\n",
            "  (decoder): Sequential(\n",
            "    (0): Linear(in_features=81, out_features=500, bias=True)\n",
            "    (1): ReLU()\n",
            "    (2): Linear(in_features=500, out_features=500, bias=True)\n",
            "    (3): ReLU()\n",
            "    (4): Linear(in_features=500, out_features=784, bias=True)\n",
            "    (5): Sigmoid()\n",
            "  )\n",
            ")\n"
          ]
        }
      ],
      "source": [
        "best_model = denoising_model(**[results[str(i)][\"params\"] for i in range(27) if results[str(i)][\"true_error\"] == min([results[str(j)][\"true_error\"] for j in range(27)])][0])\n",
        "best_model_optim = optim.Adam(best_model.parameters(), lr=1e-3)\n",
        "best_model_criterion = nn.MSELoss()\n",
        "print(best_model)"
      ]
    },
    {
      "cell_type": "code",
      "execution_count": 23,
      "metadata": {},
      "outputs": [
        {
          "name": "stderr",
          "output_type": "stream",
          "text": [
            "100%|██████████| 100/100 [08:13<00:00,  4.94s/it]\n"
          ]
        }
      ],
      "source": [
        "true_error, losslist = train_test(best_model, best_model_optim, best_model_criterion, 100, device, trainloader, testdata)\n",
        "# best_model.load_state_dict(torch.load(\"model\", map_location=device))"
      ]
    },
    {
      "cell_type": "code",
      "execution_count": 24,
      "metadata": {
        "colab": {
          "base_uri": "https://localhost:8080/",
          "height": 287
        },
        "colab_type": "code",
        "id": "rT6HTaPB5IAL",
        "outputId": "1dbaa140-6874-4ebc-99a3-8bdfd14e7ae3"
      },
      "outputs": [
        {
          "data": {
            "text/plain": [
              "([<matplotlib.lines.Line2D at 0x734bdfca6b00>], 0.05422814199700569)"
            ]
          },
          "execution_count": 24,
          "metadata": {},
          "output_type": "execute_result"
        },
        {
          "data": {
            "image/png": "[encoded data removed]",
            "text/plain": [
              "<Figure size 432x288 with 1 Axes>"
            ]
          },
          "metadata": {
            "needs_background": "light"
          },
          "output_type": "display_data"
        }
      ],
      "source": [
        "plt.plot(range(len(losslist)), losslist), true_error"
      ]
    },
    {
      "cell_type": "markdown",
      "metadata": {},
      "source": [
        "### Visualisation des prédictions du modèle sur des images bruitées"
      ]
    },
    {
      "cell_type": "markdown",
      "metadata": {},
      "source": [
        "On teste le modèle avec des données bruitées. L'intensité du bruit est similaire à celle présente lors de l'entraînement."
      ]
    },
    {
      "cell_type": "code",
      "execution_count": 25,
      "metadata": {},
      "outputs": [
        {
          "data": {
            "image/png": "[encoded data removed]",
            "text/plain": [
              "<Figure size 576x576 with 12 Axes>"
            ]
          },
          "metadata": {
            "needs_background": "light"
          },
          "output_type": "display_data"
        }
      ],
      "source": [
        "f,axes= plt.subplots(4,3,figsize=(8, 8))\n",
        "axes[0,0].set_title(\"Original Image\")\n",
        "axes[0,1].set_title(\"Dirty Image\")\n",
        "axes[0,2].set_title(\"Cleaned Image\")\n",
        "for i, noise in enumerate([\"gaussian\", \"speckle\", \"salt_pepper\", \"\"]):\n",
        "    dirty = add_noise(np.array(xtest[3]), noise)\n",
        "    predicted = best_model(torch.tensor(dirty.flatten()).type(torch.FloatTensor))\n",
        "\n",
        "    axes[i, 0].imshow(xtest[3])\n",
        "    axes[i, 1].imshow(dirty.reshape((28, 28)))\n",
        "    axes[i, 2].imshow(predicted.detach().numpy().reshape((28, 28)))"
      ]
    },
    {
      "cell_type": "markdown",
      "metadata": {},
      "source": [
        "L'affichage de ces images montre que notre modèle `best_model` est capable de reconstituer l'image originale malgrès la présence de bruit. On remarque même que l'image reconstituée à des contours plus précis que l'image originale."
      ]
    },
    {
      "cell_type": "markdown",
      "metadata": {},
      "source": [
        "Après avois établi cette baseline, nous pouvons nous intéresser à la robustesse de notre modèles. Ceci peut se faire en augmentant le bruit (paramètre `scale`). Le modèle va maintenant avoir des images beaucoup plus bruitées que celles sur lesquelles il s'est entraîné."
      ]
    },
    {
      "cell_type": "code",
      "execution_count": 26,
      "metadata": {},
      "outputs": [
        {
          "data": {
            "image/png": "[encoded data removed]",
            "text/plain": [
              "<Figure size 576x576 with 12 Axes>"
            ]
          },
          "metadata": {
            "needs_background": "light"
          },
          "output_type": "display_data"
        }
      ],
      "source": [
        "f,axes= plt.subplots(4,3,figsize=(8, 8))\n",
        "axes[0,0].set_title(\"Original Image\")\n",
        "axes[0,1].set_title(\"Dirty Image\")\n",
        "axes[0,2].set_title(\"Cleaned Image\")\n",
        "for i, noise in enumerate([\"gaussian\", \"speckle\", \"salt_pepper\", \"\"]):\n",
        "    dirty = add_noise(np.array(xtest[0]), noise, 0.8)\n",
        "    predicted = best_model(torch.tensor(dirty.flatten()).type(torch.FloatTensor))\n",
        "\n",
        "    axes[i, 0].imshow(xtest[0])\n",
        "    axes[i, 1].imshow(dirty.reshape((28, 28)))\n",
        "    axes[i, 2].imshow(predicted.detach().numpy().reshape((28, 28)))"
      ]
    },
    {
      "cell_type": "code",
      "execution_count": 27,
      "metadata": {},
      "outputs": [
        {
          "data": {
            "image/png": "[encoded data removed]",
            "text/plain": [
              "<Figure size 576x576 with 12 Axes>"
            ]
          },
          "metadata": {
            "needs_background": "light"
          },
          "output_type": "display_data"
        }
      ],
      "source": [
        "f,axes= plt.subplots(4,3,figsize=(8, 8))\n",
        "axes[0,0].set_title(\"Original Image\")\n",
        "axes[0,1].set_title(\"Dirty Image\")\n",
        "axes[0,2].set_title(\"Cleaned Image\")\n",
        "for i, noise in enumerate([\"gaussian\", \"speckle\", \"salt_pepper\", \"\"]):\n",
        "    dirty = add_noise(np.array(xtest[1]), noise, 1)\n",
        "    predicted = best_model(torch.tensor(dirty.flatten()).type(torch.FloatTensor))\n",
        "\n",
        "    axes[i, 0].imshow(xtest[1])\n",
        "    axes[i, 1].imshow(dirty.reshape((28, 28)))\n",
        "    axes[i, 2].imshow(predicted.detach().numpy().reshape((28, 28)))"
      ]
    },
    {
      "cell_type": "markdown",
      "metadata": {},
      "source": [
        "Pour le 1 comme pour le 7, ces images montrent que notre modèle est capable de reconstituer des images même si le degré de bruit est élevé. \n",
        "Il est généralisable à des données qui n'ont pas le même degré de bruit dans les images utilisées pour entraîner notre modèle."
      ]
    },
    {
      "cell_type": "code",
      "execution_count": 28,
      "metadata": {
        "colab": {},
        "colab_type": "code",
        "id": "PhP1vseSPcZc"
      },
      "outputs": [],
      "source": [
        "# PATH = \"model\"\n",
        "# torch.save(best_model.state_dict(), PATH)  # We save the model state dict at PATH   "
      ]
    },
    {
      "cell_type": "markdown",
      "metadata": {},
      "source": [
        "### Modèle sur l'ensemble des données MNIST\n",
        "\n",
        "A présent, nous allons déployer un modèle sur l'ensemble des données MNIST afin de tester la capacité qu'à notre modèle à classifier plusieurs classes."
      ]
    },
    {
      "cell_type": "code",
      "execution_count": 29,
      "metadata": {},
      "outputs": [],
      "source": [
        "(xtrain_all, ytrain_all) = mnist_[0][0], mnist_[0][1]\n",
        "(xtest_all, ytest_all) = mnist_[1][0], mnist_[1][1]\n",
        "\n",
        "xtrain_all = np.array([minmax_scale(x) for x in xtrain_all])\n",
        "xtest_all = np.array([minmax_scale(x) for x in xtest_all])"
      ]
    },
    {
      "cell_type": "code",
      "execution_count": 30,
      "metadata": {},
      "outputs": [
        {
          "name": "stderr",
          "output_type": "stream",
          "text": [
            " 45%|████▌     | 27189/60000 [00:00<00:00, 35864.75it/s]"
          ]
        },
        {
          "name": "stdout",
          "output_type": "stream",
          "text": [
            "\n",
            "gaussian noise addition completed to images\n"
          ]
        },
        {
          "name": "stderr",
          "output_type": "stream",
          "text": [
            " 79%|███████▉  | 47623/60000 [00:01<00:00, 42422.04it/s]"
          ]
        },
        {
          "name": "stdout",
          "output_type": "stream",
          "text": [
            "\n",
            "speckle noise addition completed to images\n"
          ]
        },
        {
          "name": "stderr",
          "output_type": "stream",
          "text": [
            "100%|██████████| 60000/60000 [00:01<00:00, 38322.87it/s]\n"
          ]
        },
        {
          "name": "stdout",
          "output_type": "stream",
          "text": [
            "\n",
            "salt_pepper noise addition completed to images\n"
          ]
        },
        {
          "name": "stderr",
          "output_type": "stream",
          "text": [
            "100%|██████████| 10000/10000 [00:00<00:00, 40644.92it/s]"
          ]
        },
        {
          "name": "stdout",
          "output_type": "stream",
          "text": [
            "\n",
            "gaussian noise addition completed to images\n"
          ]
        },
        {
          "name": "stderr",
          "output_type": "stream",
          "text": [
            "\n"
          ]
        }
      ],
      "source": [
        "\"\"\"\n",
        "From here onwards,we split the 60k training datapoints into 3 sets each given one type of each noise.\n",
        "We shuffle them for better generalization.\n",
        "\"\"\"\n",
        "noises = [\"gaussian\", \"speckle\", \"salt_pepper\"]\n",
        "noise_ct = 0\n",
        "noise_id = 0\n",
        "traindata_all = np.zeros((len(xtrain_all), 28, 28))\n",
        "\n",
        "\n",
        "for idx in tqdm(range(len(xtrain_all))):\n",
        "  if noise_ct < len(xtrain_all)/3:\n",
        "    noise_ct += 1\n",
        "    traindata_all[idx] = add_noise(xtrain_all[idx], noise_type=noises[noise_id], scale=1)\n",
        "  else:\n",
        "    print(\"\\n{} noise addition completed to images\".format(noises[noise_id]))\n",
        "    noise_id += 1\n",
        "    noise_ct = 0\n",
        "\n",
        "\n",
        "print(\"\\n{} noise addition completed to images\".format(noises[noise_id])) \n",
        "\n",
        "\n",
        "noise_ct = 0\n",
        "noise_id = 0\n",
        "testdata_all = np.zeros((10000, 28, 28))\n",
        "\n",
        "for idx in tqdm(range(len(xtest_all))):\n",
        "  if noise_ct < len(xtest)/3:\n",
        "    x = add_noise(xtest_all[idx], noise_type=noises[noise_id])\n",
        "    testdata_all[idx] = x\n",
        "    \n",
        "  else:\n",
        "    print(\"\\n{} noise addition completed to images\".format(noises[noise_id]))\n",
        "    noise_id += 1\n",
        "    noise_ct = 0\n",
        "\n",
        "print(\"\\n{} noise addition completed to images\".format(noises[noise_id]))    \n",
        "  "
      ]
    },
    {
      "cell_type": "code",
      "execution_count": 31,
      "metadata": {},
      "outputs": [],
      "source": [
        "trainset_all = noisedDataset(traindata_all, xtrain_all, ytrain_all, tsfms)\n",
        "testset_all= noisedDataset(testdata_all, xtest_all, ytest_all, tsfms)"
      ]
    },
    {
      "cell_type": "code",
      "execution_count": 32,
      "metadata": {},
      "outputs": [],
      "source": [
        "trainloader_all = DataLoader(trainset_all, batch_size=500, shuffle=True)\n",
        "testloader_all  = DataLoader(testset_all, batch_size=1, shuffle=True)"
      ]
    },
    {
      "cell_type": "markdown",
      "metadata": {},
      "source": [
        "Nous reprenons la même architecture que nous avons trouvé précédemment afin d'observer sa capacité de généralisation."
      ]
    },
    {
      "cell_type": "code",
      "execution_count": 33,
      "metadata": {},
      "outputs": [
        {
          "data": {
            "text/plain": [
              "denoising_model(\n",
              "  (encoder): Sequential(\n",
              "    (0): Linear(in_features=784, out_features=500, bias=True)\n",
              "    (1): ReLU()\n",
              "    (2): Linear(in_features=500, out_features=500, bias=True)\n",
              "    (3): ReLU()\n",
              "    (4): Linear(in_features=500, out_features=81, bias=True)\n",
              "    (5): ReLU()\n",
              "  )\n",
              "  (decoder): Sequential(\n",
              "    (0): Linear(in_features=81, out_features=500, bias=True)\n",
              "    (1): ReLU()\n",
              "    (2): Linear(in_features=500, out_features=500, bias=True)\n",
              "    (3): ReLU()\n",
              "    (4): Linear(in_features=500, out_features=784, bias=True)\n",
              "    (5): Sigmoid()\n",
              "  )\n",
              ")"
            ]
          },
          "execution_count": 33,
          "metadata": {},
          "output_type": "execute_result"
        }
      ],
      "source": [
        "best_model_all = denoising_model(**[results[str(j)][\"params\"] for j in range(27) if results[str(j)][\"true_error\"] == min([results[str(i)][\"true_error\"] for i in range(27)])][0])\n",
        "best_model_criterion_all = nn.MSELoss()\n",
        "best_model_optim_all = optim.Adam(best_model_all.parameters(), lr=4e-3)\n",
        "best_model_all"
      ]
    },
    {
      "cell_type": "code",
      "execution_count": 34,
      "metadata": {},
      "outputs": [],
      "source": [
        "testset_all = np.array([testset_all[i][0].numpy() for i in range(len(testset_all))])"
      ]
    },
    {
      "cell_type": "code",
      "execution_count": 35,
      "metadata": {},
      "outputs": [
        {
          "name": "stderr",
          "output_type": "stream",
          "text": [
            "100%|██████████| 100/100 [08:15<00:00,  4.95s/it]\n"
          ]
        }
      ],
      "source": [
        "true_error_all, losslist_all = train_test(best_model_all, best_model_optim_all, best_model_criterion_all, 100, device, trainloader_all, testset_all)\n",
        "# best_model_all = denoising_model(**[results[str(j)][\"params\"] for j in range(27) if results[str(j)][\"true_error\"] == min([results[str(i)][\"true_error\"] for i in range(27)])][0])\n",
        "# best_model_all.load_state_dict(torch.load(\"model_all\", map_location=device))\n",
        "# best_model_all.eval()"
      ]
    },
    {
      "cell_type": "code",
      "execution_count": 36,
      "metadata": {},
      "outputs": [
        {
          "data": {
            "text/plain": [
              "0.014089820474208327"
            ]
          },
          "execution_count": 36,
          "metadata": {},
          "output_type": "execute_result"
        }
      ],
      "source": [
        "true_error_all"
      ]
    },
    {
      "cell_type": "code",
      "execution_count": 37,
      "metadata": {},
      "outputs": [
        {
          "data": {
            "text/plain": [
              "[<matplotlib.lines.Line2D at 0x734b9feea470>]"
            ]
          },
          "execution_count": 37,
          "metadata": {},
          "output_type": "execute_result"
        },
        {
          "data": {
            "image/png": "[encoded data removed]",
            "text/plain": [
              "<Figure size 432x288 with 1 Axes>"
            ]
          },
          "metadata": {
            "needs_background": "light"
          },
          "output_type": "display_data"
        }
      ],
      "source": [
        "plt.plot(losslist_all)"
      ]
    },
    {
      "cell_type": "markdown",
      "metadata": {},
      "source": [
        "On observe que la loss de notre modèle décroit au fil des epochs en se rapprochant de 0. \n",
        "Après 100 epochs, on peut voir qu'on peut potentiellement atteindre une loss plus basse en augmentant le nombre d'épochs. Cependant, c'est un modèle très lourd (toutes les classes sont comprises) et l'entraînement peut prendre plusieurs 10aines de minutes."
      ]
    },
    {
      "cell_type": "code",
      "execution_count": 38,
      "metadata": {},
      "outputs": [],
      "source": [
        "torch.save(best_model_all.state_dict(), \"model_all\")  # We save the model state dict at PATH   "
      ]
    },
    {
      "cell_type": "code",
      "execution_count": 39,
      "metadata": {},
      "outputs": [
        {
          "data": {
            "image/png": "[encoded data removed]",
            "text/plain": [
              "<Figure size 360x360 with 16 Axes>"
            ]
          },
          "metadata": {
            "needs_background": "light"
          },
          "output_type": "display_data"
        }
      ],
      "source": [
        "f,axes= plt.subplots(4,4,figsize=(5,5))\n",
        "axes[0,0].set_title(\"Original Image\")\n",
        "axes[0,1].set_title(\"Dirty Image\")\n",
        "axes[0,2].set_title(\"Latent Space\")\n",
        "axes[0,3].set_title(\"Cleaned Image\")\n",
        "for i, noise in enumerate([\"gaussian\", \"speckle\", \"salt_pepper\", \"\"]):\n",
        "    clean = xtest_all[50]\n",
        "    dirty = add_noise(np.array(clean), noise, 0.8)\n",
        "    predicted = best_model_all(torch.tensor(dirty.flatten()).type(torch.FloatTensor))\n",
        "\n",
        "    axes[i, 0].imshow(clean)\n",
        "    axes[i, 1].imshow(dirty.reshape((28, 28)))\n",
        "    axes[i, 2].imshow(best_model_all.encode(torch.tensor(dirty.flatten()).type(torch.FloatTensor)).detach().numpy().reshape((9, 9)))\n",
        "    axes[i, 3].imshow(predicted.detach().numpy().reshape((28, 28)))"
      ]
    },
    {
      "cell_type": "code",
      "execution_count": 40,
      "metadata": {},
      "outputs": [
        {
          "data": {
            "image/png": "[encoded data removed]",
            "text/plain": [
              "<Figure size 360x360 with 16 Axes>"
            ]
          },
          "metadata": {
            "needs_background": "light"
          },
          "output_type": "display_data"
        }
      ],
      "source": [
        "f,axes= plt.subplots(4,4,figsize=(5,5))\n",
        "axes[0,0].set_title(\"Original Image\")\n",
        "axes[0,1].set_title(\"Dirty Image\")\n",
        "axes[0,2].set_title(\"Latent Space\")\n",
        "axes[0,3].set_title(\"Cleaned Image\")\n",
        "for i, noise in enumerate([\"gaussian\", \"speckle\", \"salt_pepper\", \"\"]):\n",
        "    clean = xtest_all[51]\n",
        "    dirty = add_noise(np.array(clean), noise, 0.8)\n",
        "    predicted = best_model_all(torch.tensor(dirty.flatten()).type(torch.FloatTensor))\n",
        "\n",
        "    axes[i, 0].imshow(clean)\n",
        "    axes[i, 1].imshow(dirty.reshape((28, 28)))\n",
        "    axes[i, 2].imshow(best_model_all.encode(torch.tensor(dirty.flatten()).type(torch.FloatTensor)).detach().numpy().reshape((9, 9)))\n",
        "    axes[i, 3].imshow(predicted.detach().numpy().reshape((28, 28)))"
      ]
    },
    {
      "cell_type": "markdown",
      "metadata": {},
      "source": [
        "Nous observons que le modèle possédant toutes les classes est capable de reconstituer les images malgré un bruit important. \n",
        "Le précédent modèle n'ayant pas eu d'images autre que 1 et 7 n'était pas capable de reconstituer des images d'autres chiffres. Ici, on observe bien le principe d'apprentissage de représentation via la zone latente, où multiples classes sont apprises par l'encodeur et ainsi reconstituées par le décodeur."
      ]
    },
    {
      "cell_type": "code",
      "execution_count": 41,
      "metadata": {},
      "outputs": [
        {
          "data": {
            "text/plain": [
              "<matplotlib.image.AxesImage at 0x734b9fd3fd30>"
            ]
          },
          "execution_count": 41,
          "metadata": {},
          "output_type": "execute_result"
        },
        {
          "data": {
            "image/png": "[encoded data removed]",
            "text/plain": [
              "<Figure size 432x288 with 1 Axes>"
            ]
          },
          "metadata": {
            "needs_background": "light"
          },
          "output_type": "display_data"
        }
      ],
      "source": [
        "plt.imshow(best_model_all.encode(torch.tensor(dirty.flatten()).type(torch.FloatTensor)).detach().numpy().reshape((9, 9)))"
      ]
    },
    {
      "cell_type": "markdown",
      "metadata": {},
      "source": [
        "Il est possible d'extraire la zone latente entre l'encodeur et le decodeur. Cette zone latente est la version la plus réduite de l'image (9x9 pixels contre 28x28 à l'origine). C'est ce type de données qui va permettre au modèle de réaliser l'apprentissage de représentation. Ce type de données sera utilisé plus tard dans l'étude pour faire un Encodeur-MLP : \n",
        "\n",
        "- un classifieur ayant comme architecture encodeur -> zone latente -> input pour MLP -> multi-classification."
      ]
    },
    {
      "cell_type": "markdown",
      "metadata": {},
      "source": [
        "---\n"
      ]
    },
    {
      "cell_type": "markdown",
      "metadata": {},
      "source": [
        "# Implémentation de nouvelles architectures dérivées"
      ]
    },
    {
      "cell_type": "code",
      "execution_count": 42,
      "metadata": {},
      "outputs": [
        {
          "data": {
            "text/plain": [
              "<All keys matched successfully>"
            ]
          },
          "execution_count": 42,
          "metadata": {},
          "output_type": "execute_result"
        }
      ],
      "source": [
        "best_model_all.load_state_dict(torch.load(\"model_all\", map_location=device))"
      ]
    },
    {
      "cell_type": "markdown",
      "metadata": {},
      "source": [
        "De manière équivalente à `train_test`, la fonction `train_classifier` permet d'entraîner un modèle en spécifiant un grand nombre de paramètres. Cependant, la partie test se fait en dehors pour des raisons de simplicité.\n",
        "\n",
        "La fonction commence par mettre le modèle en mode d'entraînement (`model.train()`). Ensuite, elle itère sur le nombre spécifié d'époques, effectuant une passe avant et une passe arrière (rétropropagation) à chaque itération sur les données d'entraînement.\n",
        "\n",
        "Pour chaque lot de données dans `trainloader`, la fonction effectue les étapes suivantes :\n",
        "1. Remise à zéro des gradients (`optimizer.zero_grad()`).\n",
        "2. Passage avant pour obtenir les sorties prédites par le modèle.\n",
        "3. Calcul de la perte entre les sorties prédites et les vraies étiquettes à l'aide de la fonction de perte spécifiée (`criterion`).\n",
        "4. Rétropropagation de la perte pour calculer les gradients des paramètres du modèle (`loss.backward()`).\n",
        "5. Mise à jour des poids du modèle en utilisant l'optimiseur (`optimizer.step()`).\n",
        "6. Calcul de la perte cumulée pour cette époque.\n",
        "\n",
        "À la fin de chaque époque, la perte moyenne sur les données d'entraînement est calculée en divisant la somme des pertes cumulées par le nombre total de lots (`len(trainloader)`), puis ajoutée à la liste `losslist`.\n",
        "\n",
        "Enfin, la fonction retourne la liste `losslist`, contenant les valeurs de la fonction de perte moyenne sur les données d'entraînement pour chaque époque."
      ]
    },
    {
      "cell_type": "code",
      "execution_count": 43,
      "metadata": {},
      "outputs": [],
      "source": [
        "def train_classifier(\n",
        "        model: torch.nn.Module, \n",
        "        optimizer: torch.optim.Optimizer, \n",
        "        criterion: torch.nn.Module, \n",
        "        epochs: int,\n",
        "        device: str,\n",
        "        trainloader: torch.utils.data.DataLoader):\n",
        "    \"\"\"\n",
        "    Fonction pour entraîner / tester un modèle.\n",
        "\n",
        "    Parameters:\n",
        "    -----------\n",
        "    model : torch.nn.Module\n",
        "        Le modèle à entraîner.\n",
        "    optimizer : torch.optim.Optimizer\n",
        "        L'optimiseur utilisé pour la mise à jour des poids du modèle.\n",
        "    criterion : torch.nn.Module\n",
        "        La fonction de perte utilisée pour évaluer la différence entre les prédictions et les vraies étiquettes.\n",
        "    epochs : int\n",
        "        Le nombre d'époques d'entraînement.\n",
        "    device : str\n",
        "        L'appareil sur lequel exécuter l'entraînement, par exemple 'cuda' pour GPU ou 'cpu' pour CPU.\n",
        "    trainloader : torch.utils.data.DataLoader\n",
        "        Le DataLoader contenant les données d'entraînement.\n",
        "\n",
        "    Returns:\n",
        "    --------\n",
        "    losslist : list\n",
        "        Liste des valeurs de la fonction de perte moyenne sur les données d'entraînement pour chaque époque.\n",
        "    \"\"\"\n",
        "    model.train()\n",
        "    losslist = []\n",
        "    for epoch in tqdm(range(epochs)):\n",
        "        running_loss = 0\n",
        "        for output, label in trainloader:  \n",
        "            optimizer.zero_grad()\n",
        "\n",
        "            # Forward pass\n",
        "            output = model(output)\n",
        "            label = label.clone().detach()\n",
        "            loss = criterion(output, label)\n",
        "\n",
        "            # Rétropropagation\n",
        "            loss.backward()\n",
        "            optimizer.step()\n",
        "            \n",
        "            running_loss += loss.item()\n",
        "\n",
        "        # Calcul de la perte moyenne pour cette époque\n",
        "        losslist.append(running_loss/len(trainloader))\n",
        "\n",
        "    # Calcul de l'erreur moyenne quadratique sur le jeu de données de test\n",
        "\n",
        "    return losslist"
      ]
    },
    {
      "cell_type": "markdown",
      "metadata": {},
      "source": [
        "### Définition du classifier Benchmark CNN\n",
        "\n",
        "**L'objectif est de comparer ce classifier benchmark a une architecture Encoder-MLP**.\n",
        "\n",
        "Ce modèle CNN (Convolutional Neural Network) comprend deux couches de convolution suivies chacune d'une fonction d'activation ReLU et d'une opération de max pooling. De plus, il y a une couche entièrement connectée à la fin. Ce modèle est conçu pour traiter des images en niveaux de gris de taille 28x28 pixels."
      ]
    },
    {
      "cell_type": "code",
      "execution_count": 44,
      "metadata": {},
      "outputs": [],
      "source": [
        "class CNN(nn.Module):\n",
        "    def __init__(self):\n",
        "        super(CNN, self).__init__()\n",
        "        self.conv1 = nn.Conv2d(1, 1, kernel_size=5, stride=1, padding=2)\n",
        "        self.conv2 = nn.Conv2d(1, 1, kernel_size=2, stride=1)\n",
        "        self.fc = nn.Linear(1 * 6 * 6, 10)\n",
        "\n",
        "    def forward(self, x):\n",
        "        x = x.view(-1, 1, 28, 28)\n",
        "        x = torch.nn.functional.relu(self.conv1(x))\n",
        "        x = torch.nn.functional.max_pool2d(x, kernel_size=2, stride=2)\n",
        "        x = torch.nn.functional.relu(self.conv2(x))\n",
        "        x = torch.nn.functional.max_pool2d(x, kernel_size=2, stride=2)\n",
        "        x = x.view(-1, 1 * 6 * 6)\n",
        "        x = self.fc(x)\n",
        "        x = torch.nn.functional.softmax(x, dim=1)\n",
        "        return x"
      ]
    },
    {
      "cell_type": "markdown",
      "metadata": {},
      "source": [
        "Plus tôt dans l'étude, nous avons décrit notre fonction `train_classifier` mais selon la méthodologie, il est important de pouvoir tester notre modèle sur des données incoonues pour évaluer sa généralisation.\n",
        "\n",
        "La `true_error_func`, est conçue pour calculer le taux d'erreur sur un ensemble de données de test pour un modèle donné, ainsi nous donnant un indicateur de la qualité de sa généralisation.\n",
        "\n",
        "- **Description** :\n",
        "  1. L'assertion `assert len(xtest) == len(ytest), \"Pas la meme taille entre le x et y\"` vérifie que les données de test `xtest` et les étiquettes `ytest` ont la même longueur. Si elles ne sont pas de la même taille, un message d'erreur est affiché.\n",
        "  2. La variable `true_error` est initialisée à 0 pour stocker le nombre d'erreurs de classification.\n",
        "  3. La fonction parcourt les données de test et leurs étiquettes correspondantes à l'aide d'une boucle `for i in range(len(xtest))`.\n",
        "  4. Pour chaque exemple de test, la fonction compare la prédiction du modèle avec l'étiquette réelle :\n",
        "     - Si la prédiction du modèle n'est pas égale à l'index de l'étiquette réelle (obtenu en utilisant `torch.argmax`), cela signifie qu'une erreur de classification s'est produite. Dans ce cas, 1 est ajouté à la variable `true_error`.\n",
        "     - Sinon, aucune erreur n'est ajoutée à `true_error`.\n",
        "  5. Après avoir parcouru toutes les données de test, la fonction divise le nombre total d'erreurs (`true_error`) par le nombre total d'exemples de test pour obtenir le taux d'erreur moyen.\n",
        "  6. Le taux d'erreur moyen est renvoyé comme sortie de la fonction."
      ]
    },
    {
      "cell_type": "code",
      "execution_count": 45,
      "metadata": {},
      "outputs": [],
      "source": [
        "def true_error_func(model: torch.nn.Module, \n",
        "                    xtest: torch.Tensor, \n",
        "                    ytest: torch.Tensor) -> float:\n",
        "    \"\"\"\n",
        "    Calcule le taux d'erreur sur un ensemble de données de test pour un modèle donné.\n",
        "\n",
        "    Parameters:\n",
        "    -----------\n",
        "    model : torch.nn.Module\n",
        "        Le modèle de réseau de neurones à évaluer.\n",
        "    xtest : torch.Tensor\n",
        "        Les données de test en entrée.\n",
        "    ytest : torch.Tensor\n",
        "        Les étiquettes correspondantes des données de test.\n",
        "\n",
        "    Returns:\n",
        "    --------\n",
        "    float\n",
        "        Le taux d'erreur moyen sur l'ensemble de données de test.\n",
        "    \"\"\"\n",
        "    assert len(xtest) == len(ytest), \"Pas la meme taille entre le x et y\"\n",
        "    true_error = 0\n",
        "    for i in range(len(xtest)):\n",
        "        true_error += 1 if ytest[i] != torch.argmax(model(xtest[i])) else 0\n",
        "    true_error /= len(xtest)\n",
        "    return true_error\n"
      ]
    },
    {
      "cell_type": "code",
      "execution_count": 46,
      "metadata": {},
      "outputs": [
        {
          "name": "stderr",
          "output_type": "stream",
          "text": [
            "100%|██████████| 60000/60000 [00:00<00:00, 79623.46it/s]\n"
          ]
        }
      ],
      "source": [
        "cnn_benchmark = CNN()\n",
        "bench_optim = optim.Adam(cnn_benchmark.parameters(), 1e-4)\n",
        "bench_crite = nn.CrossEntropyLoss()\n",
        "batch_size=128\n",
        "bench_data = []\n",
        "\n",
        "for img in tqdm(traindata_all):\n",
        "    bench_data.append(torch.tensor(img).type(torch.float32))\n",
        "bench_training_data = DataLoader(list(zip(bench_data, ytrain_all)), batch_size=batch_size, shuffle=False)"
      ]
    },
    {
      "cell_type": "code",
      "execution_count": 47,
      "metadata": {},
      "outputs": [
        {
          "name": "stderr",
          "output_type": "stream",
          "text": [
            "100%|██████████| 150/150 [06:53<00:00,  2.76s/it]\n"
          ]
        }
      ],
      "source": [
        "losslist_classif_benchmark = train_classifier(cnn_benchmark, bench_optim, bench_crite, 150, device, bench_training_data)"
      ]
    },
    {
      "cell_type": "code",
      "execution_count": 48,
      "metadata": {},
      "outputs": [
        {
          "data": {
            "text/plain": [
              "[<matplotlib.lines.Line2D at 0x734b9da8a050>]"
            ]
          },
          "execution_count": 48,
          "metadata": {},
          "output_type": "execute_result"
        },
        {
          "data": {
            "image/png": "[encoded data removed]",
            "text/plain": [
              "<Figure size 432x288 with 1 Axes>"
            ]
          },
          "metadata": {
            "needs_background": "light"
          },
          "output_type": "display_data"
        }
      ],
      "source": [
        "plt.plot(losslist_classif_benchmark)"
      ]
    },
    {
      "cell_type": "code",
      "execution_count": 49,
      "metadata": {},
      "outputs": [
        {
          "data": {
            "text/plain": [
              "0.8706"
            ]
          },
          "execution_count": 49,
          "metadata": {},
          "output_type": "execute_result"
        }
      ],
      "source": [
        "precision = 0\n",
        "for i in range(len(xtest_all)):\n",
        "    precision += 1 if ytest_all[i] == torch.argmax(cnn_benchmark(torch.tensor(xtest_all[i]).type(torch.float32))) else 0\n",
        "precision /= len(xtest_all)\n",
        "precision"
      ]
    },
    {
      "cell_type": "markdown",
      "metadata": {},
      "source": [
        "#### Résultat Benchmark CNN\n",
        "\n",
        "Les résultats précédents nous montrent que notre modèle CNN n'est pas de très grande qualité. Pendant son entraînement, la loss n'atteint pas de valeur en dessous de 1, ce qui laisse à désirer la qualité de la classification. Puis, en calculant sont accuracy sur le jeu de test, on trouve 87% et 12% d'erreur. Ce modèle créé une bonne baseline sur laquelle comparer le modèle suivant."
      ]
    },
    {
      "cell_type": "markdown",
      "metadata": {},
      "source": [
        "### Definition du classifier (Encoder-MLP)\n",
        "\n",
        "**Ce modèle entre en compétition avec notre claassifier CNN**\n",
        "\n",
        "\n",
        "Ce classifieur va prendre en entrée la zone latente (sortie de l'encodeur) et va nous servir de baseline en termes d'architecture Encodeur-Classifier.\n",
        "\n",
        "Il s'agit d'un classificateur de type MLP :  `small_classifier`.\n",
        "\n",
        "- **Initialisation** : La méthode `__init__` initialise les paramètres du réseau. Elle prend en argument `hidden_size` (la taille des couches cachées), `hidden_nb` (le nombre de couches cachées), `input_size` (la taille de l'entrée) et `output_size` (la taille de la sortie). À l'intérieur de la méthode `__init__` :\n",
        "  - Une liste appelée `sequence_input` est créée, contenant une couche linéaire (`nn.Linear`) suivie d'une fonction d'activation ReLU (`nn.ReLU()`). Cela représente la couche d'entrée.\n",
        "  - Une autre liste appelée `sequence_output` est créée, contenant une couche linéaire suivie d'une fonction d'activation softmax (`nn.Softmax(dim=1)`), représentant la couche de sortie.\n",
        "  - Une liste vide appelée `sequence_hidden` est créée pour contenir les couches cachées.\n",
        "  - Une boucle itère `hidden_nb` fois, ajoutant des paires de couches linéaires suivies de fonctions d'activation ReLU à `sequence_hidden`.\n",
        "  - Toutes ces séquences de couches sont combinées dans une liste appelée `classif_sequence`, représentant la séquence de couches dans le classificateur.\n",
        "\n",
        "- **Modèle séquentiel** : Les couches définies dans `classif_sequence` sont ensuite passées à `nn.Sequential()`, qui crée un modèle de réseau de neurones composé de ces couches en séquence. Ce modèle séquentiel est stocké dans l'attribut `self.classifier`.\n",
        "\n",
        "- **Propagation avant** : La méthode `forward` définit comment les données d'entrée `x` circulent à travers le réseau lors de la propagation avant. Elle passe simplement l'entrée `x` à travers le modèle séquentiel (`self.classifier`) et renvoie la sortie.\n",
        "\n",
        "En résumé, cette classe définit un classificateur de réseau de neurones simple avec un nombre personnalisable de couches cachées, chacune avec une taille spécifiée et une fonction d'activation ReLU. Les couches d'entrée et de sortie sont également personnalisables, la couche de sortie utilisant une activation softmax pour les tâches de classification multiclasses."
      ]
    },
    {
      "cell_type": "code",
      "execution_count": 50,
      "metadata": {},
      "outputs": [],
      "source": [
        "class Encoder_MLP_classifier(nn.Module):\n",
        "    def __init__(self, hidden_size, hidden_nb, input_size=81, output_size=10) -> None:\n",
        "        super().__init__()\n",
        "\n",
        "        sequence_input = [nn.Linear(input_size, hidden_size), nn.ReLU()]\n",
        "        sequence_output = [nn.Linear(hidden_size, output_size), nn.Softmax(dim=1)]\n",
        "        sequence_hidden = []\n",
        "        for i in range(hidden_nb):\n",
        "            sequence_hidden.append(nn.Linear(hidden_size, hidden_size))\n",
        "            sequence_hidden.append(nn.ReLU())\n",
        "\n",
        "        classif_sequence = sequence_input + sequence_hidden + sequence_output\n",
        "            \n",
        "        self.classifier = nn.Sequential(\n",
        "            *classif_sequence\n",
        "        )\n",
        "    \n",
        "    def forward(self, x):\n",
        "        return self.classifier(x)"
      ]
    },
    {
      "cell_type": "markdown",
      "metadata": {},
      "source": [
        "### Création du jeu d'entraînement avec les zones latentes\n",
        "\n",
        "La case suivante initialise le jeu `training_data` constitué de toutes les zones latentes après le passage des images du jeu `traindata_all` dans l'encodeur que nous avons implémenté plus haut. Cette manière d'initialiser le jeu de données nous évite beaucoup de difficultés sur la résolution des dimensions si cette opération était faite dans la boucle d'entraînement. De cette manière, nous avons un dataloader qui peut être parcouru par notre modèle `small_classifier`de type MLP."
      ]
    },
    {
      "cell_type": "code",
      "execution_count": 68,
      "metadata": {},
      "outputs": [
        {
          "name": "stderr",
          "output_type": "stream",
          "text": [
            "100%|██████████| 60000/60000 [00:07<00:00, 7617.43it/s]\n"
          ]
        }
      ],
      "source": [
        "encoder_output = []\n",
        "for img in tqdm(traindata_all):\n",
        "    encoder_output.append(best_model_all.encode(torch.tensor(img.flatten()).type(torch.float32)).clone().detach())\n",
        "training_data = DataLoader(list(zip(encoder_output, ytrain_all)), batch_size=batch_size, shuffle=False)"
      ]
    },
    {
      "cell_type": "code",
      "execution_count": 69,
      "metadata": {},
      "outputs": [],
      "source": [
        "# # on enregistre les résultats pour ne pas devoir refaire la gridsearch\n",
        "# with open(\"output_gridsearch_classif.json\", \"w+\") as file:\n",
        "#     file.write(json.dumps(results, indent=1))\n",
        "\n",
        "# on lit les résultats de l'ancienne gridsearch\n",
        "with open(\"output_gridsearch_classif.json\") as file:\n",
        "    results = json.loads(file.read())"
      ]
    },
    {
      "cell_type": "code",
      "execution_count": 70,
      "metadata": {},
      "outputs": [
        {
          "name": "stdout",
          "output_type": "stream",
          "text": [
            "Encoder_MLP_classifier(\n",
            "  (classifier): Sequential(\n",
            "    (0): Linear(in_features=81, out_features=20, bias=True)\n",
            "    (1): ReLU()\n",
            "    (2): Linear(in_features=20, out_features=20, bias=True)\n",
            "    (3): ReLU()\n",
            "    (4): Linear(in_features=20, out_features=20, bias=True)\n",
            "    (5): ReLU()\n",
            "    (6): Linear(in_features=20, out_features=20, bias=True)\n",
            "    (7): ReLU()\n",
            "    (8): Linear(in_features=20, out_features=20, bias=True)\n",
            "    (9): ReLU()\n",
            "    (10): Linear(in_features=20, out_features=20, bias=True)\n",
            "    (11): ReLU()\n",
            "    (12): Linear(in_features=20, out_features=10, bias=True)\n",
            "    (13): Softmax(dim=1)\n",
            "  )\n",
            ")\n"
          ]
        }
      ],
      "source": [
        "classifier_encoder_mlp = Encoder_MLP_classifier(**[results[str(j)][\"params\"] for j in range(21) if results[str(j)][\"true_error\"] == min([results[str(i)][\"true_error\"] for i in range(21)])][0])\n",
        "classif_optim = optim.Adam(classifier_encoder_mlp.parameters(), 5e-5)\n",
        "classif_crite = nn.CrossEntropyLoss()\n",
        "batch_size=16\n",
        "print(classifier_encoder_mlp)"
      ]
    },
    {
      "cell_type": "code",
      "execution_count": 71,
      "metadata": {},
      "outputs": [
        {
          "name": "stderr",
          "output_type": "stream",
          "text": [
            "100%|██████████| 120/120 [11:39<00:00,  5.83s/it]\n"
          ]
        }
      ],
      "source": [
        "losslist_classif = train_classifier(classifier_encoder_mlp, classif_optim, classif_crite, 120, device, training_data)"
      ]
    },
    {
      "cell_type": "code",
      "execution_count": 72,
      "metadata": {},
      "outputs": [
        {
          "data": {
            "text/plain": [
              "[<matplotlib.lines.Line2D at 0x734b5b6253f0>]"
            ]
          },
          "execution_count": 72,
          "metadata": {},
          "output_type": "execute_result"
        },
        {
          "data": {
            "image/png": "[encoded data removed]",
            "text/plain": [
              "<Figure size 432x288 with 1 Axes>"
            ]
          },
          "metadata": {
            "needs_background": "light"
          },
          "output_type": "display_data"
        }
      ],
      "source": [
        "plt.plot(losslist_classif)"
      ]
    },
    {
      "cell_type": "code",
      "execution_count": 73,
      "metadata": {},
      "outputs": [
        {
          "name": "stderr",
          "output_type": "stream",
          "text": [
            "100%|██████████| 10000/10000 [00:01<00:00, 5737.65it/s]\n"
          ]
        }
      ],
      "source": [
        "encode_xtest_all = []\n",
        "for img in tqdm(xtest_all):\n",
        "    encode_xtest_all.append(best_model_all.encode(torch.tensor(img.flatten()).type(torch.float32)).view(-1, 9, 9).clone().detach())"
      ]
    },
    {
      "cell_type": "code",
      "execution_count": 74,
      "metadata": {},
      "outputs": [
        {
          "data": {
            "text/plain": [
              "0.0872"
            ]
          },
          "execution_count": 74,
          "metadata": {},
          "output_type": "execute_result"
        }
      ],
      "source": [
        "true_error_func(classifier_encoder_mlp, [encode_xtest_all[i].view(1, -1).type(torch.float32) for i in range(len(encode_xtest_all))], ytest_all)"
      ]
    },
    {
      "cell_type": "markdown",
      "metadata": {},
      "source": [
        "### Résultats du classifieur Encoder-MLP\n",
        "\n",
        "Le calcul de l'erreur réelle avec la fonction `true_error_func` nous retourne une erreure réelle de 8% et accuracy 92%, ce qui est un meilleur score que le modèle CNN. Toutefois, la loss au cours de l'entraînement ne descends pas en dessous de 1, ce qui remet en jeu la qualité de la classification. L'erreur réellé indique que notre modèle est capable de se généraliser a des données inconnues. Mais nous ne pouvons pas assurer sa fiabilité avec la loss de son entraînement. De manière générale, le modèle Encodeur-MLP est meilleur que le modèle CNN."
      ]
    },
    {
      "cell_type": "markdown",
      "metadata": {},
      "source": [
        "--- \n"
      ]
    },
    {
      "cell_type": "markdown",
      "metadata": {},
      "source": [
        "### Gridsearch modèle Encodeur-MLP\n",
        "\n",
        "\n",
        "Voici la gridsearch utilisée pour optimiser les paramètres du modèle Encoder_MLP_classifier."
      ]
    },
    {
      "cell_type": "code",
      "execution_count": 61,
      "metadata": {},
      "outputs": [
        {
          "name": "stderr",
          "output_type": "stream",
          "text": [
            "100%|██████████| 60000/60000 [00:09<00:00, 6043.92it/s]\n"
          ]
        }
      ],
      "source": [
        "encoder_output = []\n",
        "for img in tqdm(traindata_all):\n",
        "    encoder_output.append(best_model_all.encode(torch.tensor(img.flatten()).type(torch.float32)).clone().detach())\n",
        "training_data = DataLoader(list(zip(encoder_output, torch.tensor(ytrain_all.reshape((-1, 1))).type(torch.float32))), batch_size=batch_size, shuffle=False)"
      ]
    },
    {
      "cell_type": "code",
      "execution_count": 62,
      "metadata": {},
      "outputs": [
        {
          "name": "stderr",
          "output_type": "stream",
          "text": [
            "  0%|          | 0/25 [00:00<?, ?it/s]/home/franzele/.local/lib/python3.10/site-packages/torch/nn/modules/loss.py:535: UserWarning: Using a target size (torch.Size([16, 1])) that is different to the input size (torch.Size([16, 10])). This will likely lead to incorrect results due to broadcasting. Please ensure they have the same size.\n",
            "  return F.mse_loss(input, target, reduction=self.reduction)\n"
          ]
        },
        {
          "name": "stderr",
          "output_type": "stream",
          "text": [
            "100%|██████████| 25/25 [01:12<00:00,  2.88s/it]\n"
          ]
        },
        {
          "name": "stdout",
          "output_type": "stream",
          "text": [
            "\tParams N°1/21 -> true error: 0.9014 / params={'hidden_nb': 1, 'hidden_size': 20}\n"
          ]
        },
        {
          "name": "stderr",
          "output_type": "stream",
          "text": [
            "100%|██████████| 25/25 [01:29<00:00,  3.58s/it]\n"
          ]
        },
        {
          "name": "stdout",
          "output_type": "stream",
          "text": [
            "\tParams N°2/21 -> true error: 0.8855 / params={'hidden_nb': 1, 'hidden_size': 30}\n"
          ]
        },
        {
          "name": "stderr",
          "output_type": "stream",
          "text": [
            "100%|██████████| 25/25 [01:19<00:00,  3.18s/it]\n"
          ]
        },
        {
          "name": "stdout",
          "output_type": "stream",
          "text": [
            "\tParams N°3/21 -> true error: 0.8917 / params={'hidden_nb': 1, 'hidden_size': 40}\n"
          ]
        },
        {
          "name": "stderr",
          "output_type": "stream",
          "text": [
            "100%|██████████| 25/25 [01:21<00:00,  3.27s/it]\n"
          ]
        },
        {
          "name": "stdout",
          "output_type": "stream",
          "text": [
            "\tParams N°4/21 -> true error: 0.8929 / params={'hidden_nb': 1, 'hidden_size': 50}\n"
          ]
        },
        {
          "name": "stderr",
          "output_type": "stream",
          "text": [
            "100%|██████████| 25/25 [01:29<00:00,  3.58s/it]\n"
          ]
        },
        {
          "name": "stdout",
          "output_type": "stream",
          "text": [
            "\tParams N°5/21 -> true error: 0.8945 / params={'hidden_nb': 1, 'hidden_size': 60}\n"
          ]
        },
        {
          "name": "stderr",
          "output_type": "stream",
          "text": [
            "100%|██████████| 25/25 [01:30<00:00,  3.62s/it]\n"
          ]
        },
        {
          "name": "stdout",
          "output_type": "stream",
          "text": [
            "\tParams N°6/21 -> true error: 0.8866 / params={'hidden_nb': 1, 'hidden_size': 70}\n"
          ]
        },
        {
          "name": "stderr",
          "output_type": "stream",
          "text": [
            "100%|██████████| 25/25 [01:40<00:00,  4.02s/it]\n"
          ]
        },
        {
          "name": "stdout",
          "output_type": "stream",
          "text": [
            "\tParams N°7/21 -> true error: 0.9278 / params={'hidden_nb': 1, 'hidden_size': 80}\n"
          ]
        },
        {
          "name": "stderr",
          "output_type": "stream",
          "text": [
            "100%|██████████| 25/25 [01:27<00:00,  3.51s/it]\n"
          ]
        },
        {
          "name": "stdout",
          "output_type": "stream",
          "text": [
            "\tParams N°8/21 -> true error: 0.8865 / params={'hidden_nb': 3, 'hidden_size': 20}\n"
          ]
        },
        {
          "name": "stderr",
          "output_type": "stream",
          "text": [
            "100%|██████████| 25/25 [01:53<00:00,  4.52s/it]\n"
          ]
        },
        {
          "name": "stdout",
          "output_type": "stream",
          "text": [
            "\tParams N°9/21 -> true error: 0.9149 / params={'hidden_nb': 3, 'hidden_size': 30}\n"
          ]
        },
        {
          "name": "stderr",
          "output_type": "stream",
          "text": [
            "100%|██████████| 25/25 [01:57<00:00,  4.69s/it]\n"
          ]
        },
        {
          "name": "stdout",
          "output_type": "stream",
          "text": [
            "\tParams N°10/21 -> true error: 0.8972 / params={'hidden_nb': 3, 'hidden_size': 40}\n"
          ]
        },
        {
          "name": "stderr",
          "output_type": "stream",
          "text": [
            "100%|██████████| 25/25 [02:03<00:00,  4.94s/it]\n"
          ]
        },
        {
          "name": "stdout",
          "output_type": "stream",
          "text": [
            "\tParams N°11/21 -> true error: 0.8628 / params={'hidden_nb': 3, 'hidden_size': 50}\n"
          ]
        },
        {
          "name": "stderr",
          "output_type": "stream",
          "text": [
            "100%|██████████| 25/25 [02:07<00:00,  5.09s/it]\n"
          ]
        },
        {
          "name": "stdout",
          "output_type": "stream",
          "text": [
            "\tParams N°12/21 -> true error: 0.968 / params={'hidden_nb': 3, 'hidden_size': 60}\n"
          ]
        },
        {
          "name": "stderr",
          "output_type": "stream",
          "text": [
            "100%|██████████| 25/25 [02:10<00:00,  5.22s/it]\n"
          ]
        },
        {
          "name": "stdout",
          "output_type": "stream",
          "text": [
            "\tParams N°13/21 -> true error: 0.9042 / params={'hidden_nb': 3, 'hidden_size': 70}\n"
          ]
        },
        {
          "name": "stderr",
          "output_type": "stream",
          "text": [
            "100%|██████████| 25/25 [02:27<00:00,  5.90s/it]\n"
          ]
        },
        {
          "name": "stdout",
          "output_type": "stream",
          "text": [
            "\tParams N°14/21 -> true error: 0.8712 / params={'hidden_nb': 3, 'hidden_size': 80}\n"
          ]
        },
        {
          "name": "stderr",
          "output_type": "stream",
          "text": [
            "100%|██████████| 25/25 [02:09<00:00,  5.18s/it]\n"
          ]
        },
        {
          "name": "stdout",
          "output_type": "stream",
          "text": [
            "\tParams N°15/21 -> true error: 0.8586 / params={'hidden_nb': 5, 'hidden_size': 20}\n"
          ]
        },
        {
          "name": "stderr",
          "output_type": "stream",
          "text": [
            "100%|██████████| 25/25 [02:27<00:00,  5.89s/it]\n"
          ]
        },
        {
          "name": "stdout",
          "output_type": "stream",
          "text": [
            "\tParams N°16/21 -> true error: 0.8779 / params={'hidden_nb': 5, 'hidden_size': 30}\n"
          ]
        },
        {
          "name": "stderr",
          "output_type": "stream",
          "text": [
            "100%|██████████| 25/25 [02:31<00:00,  6.04s/it]\n"
          ]
        },
        {
          "name": "stdout",
          "output_type": "stream",
          "text": [
            "\tParams N°17/21 -> true error: 0.8916 / params={'hidden_nb': 5, 'hidden_size': 40}\n"
          ]
        },
        {
          "name": "stderr",
          "output_type": "stream",
          "text": [
            "100%|██████████| 25/25 [02:38<00:00,  6.33s/it]\n"
          ]
        },
        {
          "name": "stdout",
          "output_type": "stream",
          "text": [
            "\tParams N°18/21 -> true error: 0.9053 / params={'hidden_nb': 5, 'hidden_size': 50}\n"
          ]
        },
        {
          "name": "stderr",
          "output_type": "stream",
          "text": [
            "100%|██████████| 25/25 [02:45<00:00,  6.62s/it]\n"
          ]
        },
        {
          "name": "stdout",
          "output_type": "stream",
          "text": [
            "\tParams N°19/21 -> true error: 0.9054 / params={'hidden_nb': 5, 'hidden_size': 60}\n"
          ]
        },
        {
          "name": "stderr",
          "output_type": "stream",
          "text": [
            "100%|██████████| 25/25 [02:54<00:00,  6.99s/it]\n"
          ]
        },
        {
          "name": "stdout",
          "output_type": "stream",
          "text": [
            "\tParams N°20/21 -> true error: 0.8887 / params={'hidden_nb': 5, 'hidden_size': 70}\n"
          ]
        },
        {
          "name": "stderr",
          "output_type": "stream",
          "text": [
            "100%|██████████| 25/25 [03:02<00:00,  7.29s/it]\n"
          ]
        },
        {
          "name": "stdout",
          "output_type": "stream",
          "text": [
            "\tParams N°21/21 -> true error: 0.9167 / params={'hidden_nb': 5, 'hidden_size': 80}\n"
          ]
        }
      ],
      "source": [
        "def gridsearch_classif(model_obj: nn.Module, \n",
        "               parameters: dict,\n",
        "               optimizer: optim.Optimizer,\n",
        "               criterion,\n",
        "               learning_rate :int,\n",
        "               epoch: int,\n",
        "               device: str,\n",
        "               trainloader: DataLoader,\n",
        "               xtestdata: Dataset,\n",
        "               ytestdata):\n",
        "    parameters = ParameterGrid(parameters)\n",
        "    results = {}\n",
        "    loss = criterion()\n",
        "\n",
        "    for i, params in enumerate(parameters):\n",
        "        tmp_model = model_obj(**params)\n",
        "        tmp_optim = optimizer(tmp_model.parameters(), lr=learning_rate)\n",
        "        tmp_result = train_classifier(tmp_model, tmp_optim, loss, epoch, device, trainloader)\n",
        "        error_result = true_error_func(tmp_model, xtestdata, ytestdata)\n",
        "        print(f\"\\tParams N°{i+1}/{len(parameters)} -> true error: {error_result} / {params=}\")\n",
        "        results[i] = {\n",
        "            \"params\": params,\n",
        "            \"true_error\": error_result,\n",
        "            \"training_error\": tmp_result\n",
        "        }\n",
        "\n",
        "    return results\n",
        "\n",
        "parameters = {\n",
        "    \"hidden_nb\": range(1, 6, 2),\n",
        "    \"hidden_size\": range(20, 81, 10),\n",
        "}\n",
        "\n",
        "results = gridsearch_classif(Encoder_MLP_classifier, parameters, optim.Adam, nn.MSELoss, 1e-4, 25, device, training_data, [encode_xtest_all[i].view(1, -1).type(torch.float32) for i in range(len(encode_xtest_all))], ytest_all)"
      ]
    },
    {
      "cell_type": "code",
      "execution_count": 66,
      "metadata": {},
      "outputs": [
        {
          "data": {
            "text/plain": [
              "{'hidden_nb': 5, 'hidden_size': 20}"
            ]
          },
          "execution_count": 66,
          "metadata": {},
          "output_type": "execute_result"
        }
      ],
      "source": [
        "[results[j][\"params\"] for j in range(21) if results[j][\"true_error\"] == min([results[i][\"true_error\"] for i in range(21)])][0]"
      ]
    },
    {
      "cell_type": "code",
      "execution_count": 67,
      "metadata": {},
      "outputs": [],
      "source": [
        "with open(\"output_gridsearch_classif.json\", \"w+\") as file:\n",
        "    file.write(json.dumps(results, indent=1))"
      ]
    },
    {
      "cell_type": "markdown",
      "metadata": {},
      "source": [
        "## Discussion sur les performances de modèles Encodeur-CNN et Encodeur-MLP\n",
        "\n",
        "Après avoir testé notre Autoencodeur de débruitage, nous avons développé des architectures dérivées qui utilisent l'apprentissage de représentation de notre encodeur (nottament la zone latente) afin d'évaluer comment cette zone latente pouvait être utilisée à des fins de classification multiclasse.\n",
        "\n",
        "La première architecture que nous avons considéré est la suivante :\n",
        "\n",
        "```\n",
        " ____________________________________________________________________________________________\n",
        "|                   Classification CNN model (simplified version)                            |\n",
        "|____________________________________________________________________________________________|                 \n",
        "|                                                                                            |\n",
        "|                   CNN (Input: image_noisy)                                                 |\n",
        "|   Input (latent zone) --> Conv2D Hidden Layers (MaxPooling2D) ... --> Output (Softmax)     |\n",
        "|                                                                                            |\n",
        "|____________________________________________________________________________________________|\n",
        "```\n",
        "\n",
        "Le but est que le CNN puisse établir une baseline en terme de classification multiclasse. De même que pour l'autoencoder, le CNN utilise des informations très basse dimensions similaires à la zone latente. Il représente alors un bon concurrent pour le modèle Encodeur-MLP.\n",
        "Les résultats montrent que cette architecture atteint 87% d'accuracy avec 12% d'erreur. Ces performances différents des standards de la littérature sur les données MNIST, mais il faut prendre en compte que les données sont bruitées, avec 3 variation de bruit différentes. Ceci enlève les informations contextuelle de l'image qui ne permet pas au CNN d'extraire des informations nécessaire à la reconnaissance du chiffre. En observant des images issues du jeu d'entraînement, on voit bien que l'image manque de patterns et d'informations. En effet, les CNN sont conçus pour apprendre des représentations hiérarchiques des caractéristiques spatiales, en commençant par des bords et des textures simples jusqu'à des formes complexes et des parties d'objets. Si les données ne présentent pas cette structure hiérarchique, les couches supplémentaires dans les CNN pourraient ne pas apporter d'avantages significatifs. Une architecture trop complexe comme les CNN serait alors inneficace pour ce genre de classification sur des images dont les informations contextuelles sont bruitées.\n",
        "\n",
        "\n",
        "La seconde architecture que nous avons considéré est la suivante :\n",
        "\n",
        "```\n",
        " ____________________________________________________________________________________________\n",
        "|                   Classification Encoder-MLP model (simplified version)                    |\n",
        "|____________________________________________________________________________________________|\n",
        "|                                                                                            |\n",
        "|                   Encoder (Input: img_size)                                                |\n",
        "|   Input --> Hidden Layers (ReLU) ... --> Output (latent zone)                              |\n",
        "|                                                                                            |\n",
        "|                   MLP (Input: latent_size)                                                 |\n",
        "|   Input (latent zone) --> Linear Layers (ReLU) ... --> Output (Softmax)                    |\n",
        "|                                                                                            |\n",
        "|____________________________________________________________________________________________|\n",
        "```\n",
        "\n",
        "Le but est que le MLP puisse utiliser la zone latente pour extraire des informations de cette dernière et effectuer une classification. Contrairement à l'étude précédente, les résultats sont très bons (8% d'erreur, 92% d'accuracy). Les MLP sont des réseaux entièrement connectés et peuvent apprendre des relations non linéaires complexes entre les caractéristiques d'entrée. Ils ne sont pas contraints par les relations spatiales dans les données, contrairement aux CNN qui supposent des corrélations spatiales locales dans l'entrée. Dans un espace de petite dimension comme la zone latente, les caractéristiques pertinentes pour la classification ne sont pas facilement discernables au niveau des pixels mais émergent plutôt d'une combinaison de valeurs de pixels, les MLP, grace à leur couches cachées peuvent avoir une meilleure compréhension de l'information, sans avoir a chercher des informations contextuelles. Dans ce cas, l'architecture simpliste des MLP correspond à la nature très simple des données de la zone latente.\n",
        "\n",
        "\n",
        "**Nous pouvons conclure l'étude en affirmant que le modèle Encodeur-MLP est plus performant que le modèle standard CNN pour classifier des données bruitées.**\n",
        "\n",
        "\n"
      ]
    },
    {
      "cell_type": "code",
      "execution_count": 75,
      "metadata": {},
      "outputs": [],
      "source": [
        "torch.save(classifier_encoder_mlp.state_dict(), \"classifieur\")  # We save the model state dict at PATH\n",
        "torch.save(cnn_benchmark.state_dict(), \"benchmark\")   "
      ]
    }
  ],
  "metadata": {
    "accelerator": "GPU",
    "colab": {
      "collapsed_sections": [],
      "name": "DenoisingAutoencoder.ipynb",
      "provenance": [],
      "version": "0.3.2"
    },
    "kernelspec": {
      "display_name": "Python 3",
      "name": "python3"
    },
    "language_info": {
      "codemirror_mode": {
        "name": "ipython",
        "version": 3
      },
      "file_extension": ".py",
      "mimetype": "text/x-python",
      "name": "python",
      "nbconvert_exporter": "python",
      "pygments_lexer": "ipython3",
      "version": "3.10.12"
    }
  },
  "nbformat": 4,
  "nbformat_minor": 0
}
