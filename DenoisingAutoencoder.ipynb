{
  "cells": [
    {
      "cell_type": "code",
      "execution_count": 1,
      "metadata": {
        "colab": {
          "base_uri": "https://localhost:8080/",
          "height": 35
        },
        "colab_type": "code",
        "id": "QbygB5YNKEMJ",
        "outputId": "cfca99ba-bbe3-48ed-9ed1-a5c189ad9469"
      },
      "outputs": [
        {
          "name": "stderr",
          "output_type": "stream",
          "text": [
            "2024-04-04 13:14:04.669185: I tensorflow/core/util/port.cc:113] oneDNN custom operations are on. You may see slightly different numerical results due to floating-point round-off errors from different computation orders. To turn them off, set the environment variable `TF_ENABLE_ONEDNN_OPTS=0`.\n",
            "2024-04-04 13:14:04.710180: E external/local_xla/xla/stream_executor/cuda/cuda_dnn.cc:9261] Unable to register cuDNN factory: Attempting to register factory for plugin cuDNN when one has already been registered\n",
            "2024-04-04 13:14:04.710224: E external/local_xla/xla/stream_executor/cuda/cuda_fft.cc:607] Unable to register cuFFT factory: Attempting to register factory for plugin cuFFT when one has already been registered\n",
            "2024-04-04 13:14:04.711222: E external/local_xla/xla/stream_executor/cuda/cuda_blas.cc:1515] Unable to register cuBLAS factory: Attempting to register factory for plugin cuBLAS when one has already been registered\n",
            "2024-04-04 13:14:04.717254: I tensorflow/core/platform/cpu_feature_guard.cc:182] This TensorFlow binary is optimized to use available CPU instructions in performance-critical operations.\n",
            "To enable the following instructions: AVX2 AVX512F AVX512_VNNI FMA, in other operations, rebuild TensorFlow with the appropriate compiler flags.\n",
            "2024-04-04 13:14:05.334570: W tensorflow/compiler/tf2tensorrt/utils/py_utils.cc:38] TF-TRT Warning: Could not find TensorRT\n"
          ]
        }
      ],
      "source": [
        "import numpy as np\n",
        "from keras.datasets import mnist\n",
        "import matplotlib.pyplot as plt\n",
        "from tqdm import tqdm\n",
        "from torchvision import transforms\n",
        "import torch.nn as nn\n",
        "from torch.utils.data import DataLoader,Dataset\n",
        "import torch\n",
        "import torch.optim as optim\n",
        "from torch.autograd import Variable\n",
        "\n",
        "import random\n",
        "from typing import Callable\n",
        "from sklearn.preprocessing import minmax_scale\n",
        "from sklearn.metrics import mean_squared_error\n",
        "from sklearn.model_selection import ParameterGrid"
      ]
    },
    {
      "cell_type": "markdown",
      "metadata": {},
      "source": [
        ">Justification des choix des données :\n",
        "\n",
        "Dans le dessein de mieux appréhender le fonctionnement des autoencodeurs et d'illustrer leur capacité générative, nous avons pris la décision de construire un ensemble de données exclusivement composé d'images représentant les chiffres 1 et 7 (MNIST Digits). Les chiffres 1 et 7 présentent des similitudes marquées dans leur écriture. En introduisant divers types de bruits (dont nous discuterons ultérieurement), il devient possible de constituer un ensemble de données très varié et d'entraîner un modèle robuste. Par souci de performance et de faisabilité logistique, nous avons restreint notre choix à deux chiffres (1 et 7). Cependant, une exploration ultérieure sera proposée, où nous inclurons quatre chiffres (8, 5, 3 et 9) présentant des similitudes significatives.\n",
        "\n",
        ">Justification des choix des bruits :\n",
        "\n",
        "Deux types de bruits sont déjà implémentés, à savoir le \"speckle\" et le \"gaussian\".\n",
        "- Le bruit speckle, également appelé bruit de chatoiement, fait référence à toute fluctuation parasite ou toute dégradation subie par une image depuis le moment de son acquisition jusqu'à son enregistrement. Ce bruit illustre un cas concret où l'image est capturée par un appareil numérique puis transmise au modèle, la présence de bruit étant inévitable. Ce type de bruit se distingue par sa capacité à séparer le premier plan de l'arrière-plan, ce qui met en valeur le chiffre tout en le dégradant.\n",
        "- Le bruit gaussien, en traitement du signal, est un bruit caractérisé par une densité de probabilité qui suit une distribution gaussienne (loi normale). Les principales sources de bruit gaussien dans les images numériques surviennent pendant l'acquisition, par exemple le bruit du capteur causé par un mauvais éclairage et/ou une température élevée. Ce bruit uniforme permet au modèle d'être plus résilient dans sa classification car il n'accentue pas le chiffre mais uniformise la dégradation de l'image.\n",
        "- Le bruit \"salt and pepper\", ou bruit sel ou poivre, correspond à une altération aléatoire subie par une image numérique, entraînant la modification de l'intensité de certains pixels (répartis de manière aléatoire dans l'image) jusqu'à atteindre la valeur minimale ou maximale de la plage dynamique du pixel, respectivement 0 et 255 dans le cas d'une image numérique codée en 8 bits. Ce type de bruit permet au modèle de traiter des valeurs extrêmes (0 ou 255).\n",
        "\n",
        "Chacun des bruits sera scalé avec un paramètre `scale` qui permet de modifier l'intensité de la présence du bruit dans l'image. En jouant sur les valeurs de ce paramètre nous pourront créer des données plus ou moins bruitées et donc tester les limites de robustesse de nos modèles ainsi que de leur capacité à apprendre même avec beaucoup de bruit.\n",
        "\n"
      ]
    },
    {
      "cell_type": "code",
      "execution_count": 2,
      "metadata": {
        "colab": {},
        "colab_type": "code",
        "id": "fbKtjNSyKclx"
      },
      "outputs": [],
      "source": [
        "\"\"\"\n",
        "Here we load the dataset, add gaussian,poisson,speckle\n",
        "\n",
        "    'gauss'     Gaussian-distributed additive noise.\n",
        "    'speckle'   Multiplicative noise using out = image + n*image,where\n",
        "                n is uniform noise with specified mean & variance.\n",
        "    'salt_and_pepper' Randomly chosen pixels that are converted in black or white based on a probability.\n",
        "    'scale' : the scale at which the noise is present in the image. It allows to create images with little to no noise and images with a lot of noise (for model robustness).\n",
        "                \n",
        "We define a function that adds each noise when called from main function\n",
        "Input & Output: np array\n",
        "\n",
        "\n",
        "                \n",
        "\"\"\"\n",
        "\n",
        "def add_noise(img, noise_type=\"gaussian\", scale=0.5):\n",
        "  row, col = 28, 28\n",
        "  img = img.astype(np.float32)\n",
        "\n",
        "  match noise_type:\n",
        "    case \"gaussian\":\n",
        "      mean  = 0\n",
        "      var   = 0.01\n",
        "      sigma = var**.5\n",
        "      noise = np.random.normal(mean, sigma, img.shape)\n",
        "      noise = noise.reshape(row, col)\n",
        "      img   = img + (noise*scale)\n",
        "      return img\n",
        "     \n",
        "    case \"speckle\" :\n",
        "      noise = np.random.randn(row, col)\n",
        "      noise = noise.reshape(row, col)\n",
        "      img   = img + (img*noise*scale)\n",
        "      return img\n",
        "     \n",
        "    case \"salt_pepper\" :\n",
        "      prob = 0.4*scale # 1/4 is the base probability of a pixel being transformed. It is scaled down or up with the scale parameter\n",
        "      output = img.copy()\n",
        "      if len(img.shape) == 2:\n",
        "          black = 0\n",
        "          white = 1\n",
        "        \n",
        "      probs = np.random.random(output.shape[:2])\n",
        "      output[probs < (prob/2)] = black\n",
        "      output[probs > 1-(prob/2)] = white\n",
        "      return output     \n",
        "    case _:\n",
        "      return img\n"
      ]
    },
    {
      "cell_type": "code",
      "execution_count": 3,
      "metadata": {},
      "outputs": [],
      "source": [
        "mnist_ = mnist.load_data()\n",
        "\n",
        "train_mask = (mnist_[0][1] == 1) | (mnist_[0][1] == 7)\n",
        "test_mask = (mnist_[1][1] == 1) | (mnist_[1][1] == 7)\n",
        "\n",
        "(xtrain, ytrain) = mnist_[0][0][train_mask], mnist_[0][1][train_mask]\n",
        "(xtest, ytest) = mnist_[1][0][test_mask], mnist_[1][1][test_mask]"
      ]
    },
    {
      "cell_type": "code",
      "execution_count": 4,
      "metadata": {},
      "outputs": [],
      "source": [
        "xtrain = np.array([minmax_scale(x) for x in xtrain])\n",
        "xtest = np.array([minmax_scale(x) for x in xtest])"
      ]
    },
    {
      "cell_type": "code",
      "execution_count": 5,
      "metadata": {},
      "outputs": [
        {
          "data": {
            "text/plain": [
              "<matplotlib.image.AxesImage at 0x7cbbabd84910>"
            ]
          },
          "execution_count": 5,
          "metadata": {},
          "output_type": "execute_result"
        },
        {
          "data": {
            "image/png": "[encoded data removed]",
            "text/plain": [
              "<Figure size 432x288 with 1 Axes>"
            ]
          },
          "metadata": {
            "needs_background": "light"
          },
          "output_type": "display_data"
        }
      ],
      "source": [
        "plt.imshow(xtrain[6].reshape((28, 28)))"
      ]
    },
    {
      "cell_type": "code",
      "execution_count": 6,
      "metadata": {
        "colab": {
          "base_uri": "https://localhost:8080/",
          "height": 87
        },
        "colab_type": "code",
        "id": "crPgb8VXOceY",
        "outputId": "ada9c8c1-4bbc-4880-ca46-cfa504885fe9"
      },
      "outputs": [
        {
          "name": "stdout",
          "output_type": "stream",
          "text": [
            "No of training datapoints:13007\n",
            "No of Test datapoints:2163\n"
          ]
        }
      ],
      "source": [
        "print(\"No of training datapoints:{}\\nNo of Test datapoints:{}\".format(len(xtrain), len(xtest)))"
      ]
    },
    {
      "cell_type": "code",
      "execution_count": 7,
      "metadata": {
        "colab": {
          "base_uri": "https://localhost:8080/",
          "height": 191
        },
        "colab_type": "code",
        "id": "7kq9PiLARTic",
        "outputId": "480e62e7-4ed2-4278-c47c-f7770accaad2"
      },
      "outputs": [
        {
          "name": "stderr",
          "output_type": "stream",
          "text": [
            " 58%|█████▊    | 7536/13007 [00:00<00:00, 24668.63it/s]"
          ]
        },
        {
          "name": "stdout",
          "output_type": "stream",
          "text": [
            "\n",
            "gaussian noise addition completed to images\n",
            "\n",
            "speckle noise addition completed to images\n"
          ]
        },
        {
          "name": "stderr",
          "output_type": "stream",
          "text": [
            "100%|██████████| 13007/13007 [00:00<00:00, 26667.62it/s]\n"
          ]
        },
        {
          "name": "stdout",
          "output_type": "stream",
          "text": [
            "\n",
            "salt_pepper noise addition completed to images\n"
          ]
        },
        {
          "name": "stderr",
          "output_type": "stream",
          "text": [
            "100%|██████████| 2163/2163 [00:00<00:00, 32294.89it/s]"
          ]
        },
        {
          "name": "stdout",
          "output_type": "stream",
          "text": [
            "\n",
            "gaussian noise addition completed to images\n",
            "\n",
            "speckle noise addition completed to images\n",
            "\n",
            "salt_pepper noise addition completed to images\n"
          ]
        },
        {
          "name": "stderr",
          "output_type": "stream",
          "text": [
            "\n"
          ]
        }
      ],
      "source": [
        "\"\"\"\n",
        "From here onwards,we split the 60k training datapoints into 3 sets each given one type of each noise.\n",
        "We shuffle them for better generalization.\n",
        "\"\"\"\n",
        "noises = [\"gaussian\", \"speckle\", \"salt_pepper\"]\n",
        "noise_ct = 0\n",
        "noise_id = 0\n",
        "traindata = np.zeros((len(xtrain), 28, 28))\n",
        "\n",
        "\n",
        "for idx in tqdm(range(len(xtrain))):\n",
        "  if noise_ct < len(xtrain)/3:\n",
        "    noise_ct += 1\n",
        "    traindata[idx] = add_noise(xtrain[idx], noise_type=noises[noise_id], scale=1)\n",
        "  else:\n",
        "    print(\"\\n{} noise addition completed to images\".format(noises[noise_id]))\n",
        "    noise_id += 1\n",
        "    noise_ct = 0\n",
        "\n",
        "\n",
        "print(\"\\n{} noise addition completed to images\".format(noises[noise_id])) \n",
        "\n",
        "\n",
        "noise_ct = 0\n",
        "noise_id = 0\n",
        "testdata = np.zeros((10000, 28, 28))\n",
        "\n",
        "for idx in tqdm(range(len(xtest))):\n",
        "  if noise_ct < len(xtest)/3:\n",
        "    noise_ct += 1\n",
        "    x = add_noise(xtest[idx], noise_type=noises[noise_id])\n",
        "    testdata[idx] = x\n",
        "    \n",
        "  else:\n",
        "    print(\"\\n{} noise addition completed to images\".format(noises[noise_id]))\n",
        "    noise_id += 1\n",
        "    noise_ct = 0\n",
        "\n",
        "print(\"\\n{} noise addition completed to images\".format(noises[noise_id]))    \n",
        "  "
      ]
    },
    {
      "cell_type": "code",
      "execution_count": 8,
      "metadata": {
        "colab": {},
        "colab_type": "code",
        "id": "D5WxFXykKB0z"
      },
      "outputs": [
        {
          "data": {
            "text/plain": [
              "<matplotlib.image.AxesImage at 0x7cbba7e6b640>"
            ]
          },
          "execution_count": 8,
          "metadata": {},
          "output_type": "execute_result"
        },
        {
          "data": {
            "image/png": "[encoded data removed]",
            "text/plain": [
              "<Figure size 432x288 with 1 Axes>"
            ]
          },
          "metadata": {
            "needs_background": "light"
          },
          "output_type": "display_data"
        }
      ],
      "source": [
        "plt.imshow(traindata[5000], cmap=\"gray\")"
      ]
    },
    {
      "cell_type": "code",
      "execution_count": 9,
      "metadata": {
        "colab": {
          "base_uri": "https://localhost:8080/",
          "height": 299
        },
        "colab_type": "code",
        "id": "r1PruBRYUmYZ",
        "outputId": "78712c1a-755a-433a-cc34-4b501a2fad5a"
      },
      "outputs": [
        {
          "data": {
            "image/png": "[encoded data removed]",
            "text/plain": [
              "<Figure size 432x288 with 6 Axes>"
            ]
          },
          "metadata": {
            "needs_background": "light"
          },
          "output_type": "display_data"
        }
      ],
      "source": [
        "\"\"\"\n",
        "Here we Try to visualize, each type of noise that was introduced in the images\n",
        "Along with their original versions\n",
        "\n",
        "\"\"\"\n",
        "\n",
        "f, axes=plt.subplots(2,3)\n",
        "\n",
        "#showing images with gaussian noise\n",
        "axes[0,0].imshow(xtrain[0], cmap=\"gray\")\n",
        "axes[0,0].set_title(\"Original Image\")\n",
        "axes[1,0].imshow(traindata[0], cmap='gray')\n",
        "axes[1,0].set_title(\"Gaussian Noised Image\")\n",
        "\n",
        "#showing images with salt and pepper noise\n",
        "axes[0,1].imshow(xtrain[13000], cmap='gray')\n",
        "axes[0,1].set_title(\"Original Image\")\n",
        "axes[1,1].imshow(traindata[13000], cmap=\"gray\")\n",
        "axes[1,1].set_title(\"S&P Noised Image\")\n",
        "\n",
        "#showing imags with the speckle noise\n",
        "axes[0,2].imshow(xtrain[5000], cmap='gray')\n",
        "axes[0,2].set_title(\"Original Image\")\n",
        "axes[1,2].imshow(traindata[5000], cmap=\"gray\")\n",
        "axes[1,2].set_title(\"Speckle Noised Image\")\n",
        "\n",
        "plt.tight_layout()"
      ]
    },
    {
      "cell_type": "code",
      "execution_count": 10,
      "metadata": {
        "colab": {},
        "colab_type": "code",
        "id": "Vfchnr-E_kka"
      },
      "outputs": [],
      "source": [
        "class noisedDataset(Dataset):\n",
        "  def __init__(self, \n",
        "               datasetnoised: np.ndarray, \n",
        "               datasetclean: np.ndarray, \n",
        "               labels: np.ndarray,\n",
        "               transform: Callable):\n",
        "    self.noise = datasetnoised\n",
        "    self.clean = datasetclean\n",
        "    self.labels = labels\n",
        "    self.transform = transform\n",
        "  \n",
        "  def __len__(self):\n",
        "    return len(self.noise)\n",
        "  \n",
        "  def __getitem__(self, idx):\n",
        "    xNoise = self.noise[idx]\n",
        "    xClean = self.clean[idx]\n",
        "    y = self.labels[idx]\n",
        "    \n",
        "    if self.transform != None:\n",
        "      xNoise = self.transform(xNoise)\n",
        "      xClean = self.transform(xClean)\n",
        "\n",
        "    return (xNoise, xClean, y)\n",
        "    "
      ]
    },
    {
      "cell_type": "code",
      "execution_count": 11,
      "metadata": {
        "colab": {},
        "colab_type": "code",
        "id": "HyzkdVVUC6ps"
      },
      "outputs": [],
      "source": [
        "tsfms = transforms.Compose([\n",
        "    transforms.ToTensor()\n",
        "])\n",
        "\n",
        "trainset = noisedDataset(traindata, xtrain, ytrain, tsfms)\n",
        "testset = noisedDataset(testdata, xtest, ytest, tsfms)"
      ]
    },
    {
      "cell_type": "code",
      "execution_count": 12,
      "metadata": {},
      "outputs": [
        {
          "data": {
            "text/plain": [
              "array([[0.        , 0.        , 0.        , 0.        , 0.        ,\n",
              "        0.        , 0.        , 0.        , 0.        , 0.        ,\n",
              "        0.        , 0.        , 0.        , 0.        , 0.        ,\n",
              "        0.        , 0.        , 0.        , 0.        , 0.        ,\n",
              "        0.        , 0.        , 0.        , 0.        , 0.        ,\n",
              "        0.        , 0.        , 0.        ],\n",
              "       [0.        , 0.        , 0.        , 0.        , 0.        ,\n",
              "        0.        , 0.        , 0.        , 0.        , 0.        ,\n",
              "        0.        , 0.        , 0.        , 0.        , 0.        ,\n",
              "        0.        , 0.        , 0.        , 0.        , 0.        ,\n",
              "        0.        , 0.        , 0.        , 0.        , 0.        ,\n",
              "        0.        , 0.        , 0.        ],\n",
              "       [0.        , 0.        , 0.        , 0.        , 0.        ,\n",
              "        0.        , 0.        , 0.        , 0.        , 0.        ,\n",
              "        0.        , 0.        , 0.        , 0.        , 0.        ,\n",
              "        0.        , 0.        , 0.        , 0.        , 0.        ,\n",
              "        0.        , 0.        , 0.        , 0.        , 0.        ,\n",
              "        0.        , 0.        , 0.        ],\n",
              "       [0.        , 0.        , 0.        , 0.        , 0.        ,\n",
              "        0.        , 0.        , 0.        , 0.        , 0.        ,\n",
              "        0.        , 0.        , 0.        , 0.        , 0.        ,\n",
              "        0.        , 0.        , 0.        , 0.        , 0.        ,\n",
              "        0.        , 0.        , 0.        , 0.        , 0.        ,\n",
              "        0.        , 0.        , 0.        ],\n",
              "       [0.        , 0.        , 0.        , 0.        , 0.        ,\n",
              "        0.        , 0.        , 0.        , 0.        , 0.        ,\n",
              "        0.        , 0.        , 0.        , 0.        , 0.        ,\n",
              "        0.        , 0.        , 0.        , 0.        , 0.        ,\n",
              "        0.        , 0.        , 0.        , 0.        , 0.        ,\n",
              "        0.        , 0.        , 0.        ],\n",
              "       [0.        , 0.        , 0.        , 0.        , 0.        ,\n",
              "        0.        , 0.        , 0.        , 0.        , 0.        ,\n",
              "        0.        , 0.        , 0.        , 0.        , 0.        ,\n",
              "        0.        , 0.        , 0.        , 0.4940239 , 1.        ,\n",
              "        1.        , 1.        , 0.        , 0.        , 0.        ,\n",
              "        0.        , 0.        , 0.        ],\n",
              "       [0.        , 0.        , 0.        , 0.        , 0.        ,\n",
              "        0.        , 0.        , 0.        , 0.        , 0.        ,\n",
              "        0.        , 0.        , 0.        , 0.        , 0.        ,\n",
              "        0.        , 0.        , 0.37944664, 0.97211155, 0.99209486,\n",
              "        0.99215686, 0.98412698, 0.        , 0.        , 0.        ,\n",
              "        0.        , 0.        , 0.        ],\n",
              "       [0.        , 0.        , 0.        , 0.        , 0.        ,\n",
              "        0.        , 0.        , 0.        , 0.        , 0.        ,\n",
              "        0.        , 0.        , 0.        , 0.        , 0.        ,\n",
              "        0.        , 0.        , 0.50197628, 1.        , 0.99209486,\n",
              "        0.99215686, 0.98412698, 0.        , 0.        , 0.        ,\n",
              "        0.        , 0.        , 0.        ],\n",
              "       [0.        , 0.        , 0.        , 0.        , 0.        ,\n",
              "        0.        , 0.        , 0.        , 0.        , 0.        ,\n",
              "        0.        , 0.        , 0.        , 0.        , 0.        ,\n",
              "        0.        , 0.2687747 , 0.93280632, 1.        , 0.83399209,\n",
              "        0.12156863, 0.12698413, 0.        , 0.        , 0.        ,\n",
              "        0.        , 0.        , 0.        ],\n",
              "       [0.        , 0.        , 0.        , 0.        , 0.        ,\n",
              "        0.        , 0.        , 0.        , 0.        , 0.        ,\n",
              "        0.        , 0.        , 0.        , 0.        , 0.        ,\n",
              "        0.23715415, 0.90118577, 0.99209486, 1.        , 0.3715415 ,\n",
              "        0.        , 0.        , 0.        , 0.        , 0.        ,\n",
              "        0.        , 0.        , 0.        ],\n",
              "       [0.        , 0.        , 0.        , 0.        , 0.        ,\n",
              "        0.        , 0.        , 0.        , 0.        , 0.        ,\n",
              "        0.        , 0.        , 0.        , 0.        , 0.        ,\n",
              "        0.61264822, 1.        , 1.        , 0.75298805, 0.        ,\n",
              "        0.        , 0.        , 0.        , 0.        , 0.        ,\n",
              "        0.        , 0.        , 0.        ],\n",
              "       [0.        , 0.        , 0.        , 0.        , 0.        ,\n",
              "        0.        , 0.        , 0.        , 0.        , 0.        ,\n",
              "        0.        , 0.        , 0.        , 0.        , 0.07905138,\n",
              "        1.        , 0.99209486, 0.92885375, 0.26294821, 0.        ,\n",
              "        0.        , 0.        , 0.        , 0.        , 0.        ,\n",
              "        0.        , 0.        , 0.        ],\n",
              "       [0.        , 0.        , 0.        , 0.        , 0.        ,\n",
              "        0.        , 0.        , 0.        , 0.        , 0.        ,\n",
              "        0.        , 0.        , 0.        , 0.12648221, 0.81027668,\n",
              "        1.        , 0.99209486, 0.49802372, 0.        , 0.        ,\n",
              "        0.        , 0.        , 0.        , 0.        , 0.        ,\n",
              "        0.        , 0.        , 0.        ],\n",
              "       [0.        , 0.        , 0.        , 0.        , 0.        ,\n",
              "        0.        , 0.        , 0.        , 0.        , 0.        ,\n",
              "        0.        , 0.        , 0.        , 0.41106719, 0.99209486,\n",
              "        1.        , 0.72727273, 0.05928854, 0.        , 0.        ,\n",
              "        0.        , 0.        , 0.        , 0.        , 0.        ,\n",
              "        0.        , 0.        , 0.        ],\n",
              "       [0.        , 0.        , 0.        , 0.        , 0.        ,\n",
              "        0.        , 0.        , 0.        , 0.        , 0.        ,\n",
              "        0.        , 0.        , 0.31620553, 0.9486166 , 0.99209486,\n",
              "        0.76284585, 0.09090909, 0.        , 0.        , 0.        ,\n",
              "        0.        , 0.        , 0.        , 0.        , 0.        ,\n",
              "        0.        , 0.        , 0.        ],\n",
              "       [0.        , 0.        , 0.        , 0.        , 0.        ,\n",
              "        0.        , 0.        , 0.        , 0.        , 0.        ,\n",
              "        0.        , 0.12648221, 1.        , 1.        , 1.        ,\n",
              "        0.6284585 , 0.        , 0.        , 0.        , 0.        ,\n",
              "        0.        , 0.        , 0.        , 0.        , 0.        ,\n",
              "        0.        , 0.        , 0.        ],\n",
              "       [0.        , 0.        , 0.        , 0.        , 0.        ,\n",
              "        0.        , 0.        , 0.        , 0.        , 0.        ,\n",
              "        0.        , 0.59683794, 0.99209486, 0.99209486, 0.99209486,\n",
              "        0.1541502 , 0.        , 0.        , 0.        , 0.        ,\n",
              "        0.        , 0.        , 0.        , 0.        , 0.        ,\n",
              "        0.        , 0.        , 0.        ],\n",
              "       [0.        , 0.        , 0.        , 0.        , 0.        ,\n",
              "        0.        , 0.        , 0.        , 0.        , 0.        ,\n",
              "        0.18823529, 0.87351779, 0.99209486, 0.99209486, 0.6798419 ,\n",
              "        0.        , 0.        , 0.        , 0.        , 0.        ,\n",
              "        0.        , 0.        , 0.        , 0.        , 0.        ,\n",
              "        0.        , 0.        , 0.        ],\n",
              "       [0.        , 0.        , 0.        , 0.        , 0.        ,\n",
              "        0.        , 0.        , 0.        , 0.        , 0.        ,\n",
              "        0.91764706, 0.99209486, 0.99209486, 0.77470356, 0.04743083,\n",
              "        0.        , 0.        , 0.        , 0.        , 0.        ,\n",
              "        0.        , 0.        , 0.        , 0.        , 0.        ,\n",
              "        0.        , 0.        , 0.        ],\n",
              "       [0.        , 0.        , 0.        , 0.        , 0.        ,\n",
              "        0.        , 0.        , 0.        , 0.        , 0.        ,\n",
              "        0.99215686, 0.99209486, 0.99209486, 0.35177866, 0.        ,\n",
              "        0.        , 0.        , 0.        , 0.        , 0.        ,\n",
              "        0.        , 0.        , 0.        , 0.        , 0.        ,\n",
              "        0.        , 0.        , 0.        ],\n",
              "       [0.        , 0.        , 0.        , 0.        , 0.        ,\n",
              "        0.        , 0.        , 0.        , 0.        , 0.63346614,\n",
              "        1.        , 1.        , 1.        , 0.12252964, 0.        ,\n",
              "        0.        , 0.        , 0.        , 0.        , 0.        ,\n",
              "        0.        , 0.        , 0.        , 0.        , 0.        ,\n",
              "        0.        , 0.        , 0.        ],\n",
              "       [0.        , 0.        , 0.        , 0.        , 0.        ,\n",
              "        0.        , 0.        , 0.        , 0.75      , 0.90836653,\n",
              "        0.99215686, 0.97628458, 0.55335968, 0.03162055, 0.        ,\n",
              "        0.        , 0.        , 0.        , 0.        , 0.        ,\n",
              "        0.        , 0.        , 0.        , 0.        , 0.        ,\n",
              "        0.        , 0.        , 0.        ],\n",
              "       [0.        , 0.        , 0.        , 0.        , 0.        ,\n",
              "        0.        , 0.        , 0.        , 1.        , 1.        ,\n",
              "        0.99215686, 0.86956522, 0.        , 0.        , 0.        ,\n",
              "        0.        , 0.        , 0.        , 0.        , 0.        ,\n",
              "        0.        , 0.        , 0.        , 0.        , 0.        ,\n",
              "        0.        , 0.        , 0.        ],\n",
              "       [0.        , 0.        , 0.        , 0.        , 0.        ,\n",
              "        0.        , 0.        , 0.        , 1.        , 1.        ,\n",
              "        0.99215686, 0.86956522, 0.        , 0.        , 0.        ,\n",
              "        0.        , 0.        , 0.        , 0.        , 0.        ,\n",
              "        0.        , 0.        , 0.        , 0.        , 0.        ,\n",
              "        0.        , 0.        , 0.        ],\n",
              "       [0.        , 0.        , 0.        , 0.        , 0.        ,\n",
              "        0.        , 0.        , 0.        , 0.375     , 0.7689243 ,\n",
              "        0.99215686, 0.86956522, 0.        , 0.        , 0.        ,\n",
              "        0.        , 0.        , 0.        , 0.        , 0.        ,\n",
              "        0.        , 0.        , 0.        , 0.        , 0.        ,\n",
              "        0.        , 0.        , 0.        ],\n",
              "       [0.        , 0.        , 0.        , 0.        , 0.        ,\n",
              "        0.        , 0.        , 0.        , 0.        , 0.        ,\n",
              "        0.        , 0.        , 0.        , 0.        , 0.        ,\n",
              "        0.        , 0.        , 0.        , 0.        , 0.        ,\n",
              "        0.        , 0.        , 0.        , 0.        , 0.        ,\n",
              "        0.        , 0.        , 0.        ],\n",
              "       [0.        , 0.        , 0.        , 0.        , 0.        ,\n",
              "        0.        , 0.        , 0.        , 0.        , 0.        ,\n",
              "        0.        , 0.        , 0.        , 0.        , 0.        ,\n",
              "        0.        , 0.        , 0.        , 0.        , 0.        ,\n",
              "        0.        , 0.        , 0.        , 0.        , 0.        ,\n",
              "        0.        , 0.        , 0.        ],\n",
              "       [0.        , 0.        , 0.        , 0.        , 0.        ,\n",
              "        0.        , 0.        , 0.        , 0.        , 0.        ,\n",
              "        0.        , 0.        , 0.        , 0.        , 0.        ,\n",
              "        0.        , 0.        , 0.        , 0.        , 0.        ,\n",
              "        0.        , 0.        , 0.        , 0.        , 0.        ,\n",
              "        0.        , 0.        , 0.        ]])"
            ]
          },
          "execution_count": 12,
          "metadata": {},
          "output_type": "execute_result"
        }
      ],
      "source": [
        "trainset.clean[0]"
      ]
    },
    {
      "cell_type": "code",
      "execution_count": 13,
      "metadata": {
        "colab": {},
        "colab_type": "code",
        "id": "vTQ_iF1fXxC8"
      },
      "outputs": [],
      "source": [
        "\"\"\"\n",
        "Here , we create the trainloaders and testloaders.\n",
        "Also, we transform the images using standard lib functions\n",
        "\"\"\"\n",
        "\n",
        "batch_size = 32\n",
        "\n",
        "trainloader = DataLoader(trainset, batch_size=32, shuffle=True)\n",
        "testloader  = DataLoader(testset, batch_size=1, shuffle=True)"
      ]
    },
    {
      "cell_type": "code",
      "execution_count": 52,
      "metadata": {
        "colab": {},
        "colab_type": "code",
        "id": "1P60Cuv7pQO6"
      },
      "outputs": [],
      "source": [
        "\"\"\"\n",
        "Here, we define the autoencoder model.\n",
        "\"\"\"\n",
        "\n",
        "class denoising_model(nn.Module):\n",
        "  \"\"\"\n",
        "  Autoencodeur, capable d'être personnalisé au niveau du nombre de neurones dans la / les couche(s) cachée(s) et au nombre de couches cachées.\n",
        "\n",
        "  Paramètres :\n",
        "  ------------\n",
        "  `hidden_layer_nb`: int (default=1)  \n",
        "    Nombre de couche cachées\n",
        "  `hidden_size`: int (default=256)\n",
        "    Nombre de neurones dans chaque couche de la couche cachée\n",
        "  `latent_size`: int (default=64)  \n",
        "    Nombre de neurone dans la zone latente\n",
        "  \"\"\"\n",
        "  def __init__(self, hidden_layer_nb=1, hidden_size = 256, latent_size=64, img_size=28*28):\n",
        "    super(denoising_model,self).__init__()\n",
        "\n",
        "    encode_sequence_input = [nn.Linear(img_size, hidden_size), nn.ReLU()]\n",
        "    encode_sequence_output = [nn.Linear(hidden_size, latent_size), nn.ReLU()]\n",
        "    encode_sequence_hidden = []\n",
        "    for i in range(hidden_layer_nb):\n",
        "      encode_sequence_hidden.append(nn.Linear(hidden_size, hidden_size))\n",
        "      encode_sequence_hidden.append(nn.ReLU())\n",
        "\n",
        "    encode_sequence = encode_sequence_input + encode_sequence_hidden + encode_sequence_output\n",
        "        \n",
        "    self.encoder = nn.Sequential(\n",
        "      *encode_sequence\n",
        "    )\n",
        "\n",
        "    decode_sequence_input = [nn.Linear(latent_size, hidden_size), nn.ReLU()]\n",
        "    decode_sequence_output = [nn.Linear(hidden_size, img_size), nn.Sigmoid()]\n",
        "    decode_sequence_hidden = []\n",
        "    for i in range(hidden_layer_nb):\n",
        "      decode_sequence_hidden.append(nn.Linear(hidden_size, hidden_size))\n",
        "      decode_sequence_hidden.append(nn.ReLU())\n",
        "\n",
        "    decode_sequence = decode_sequence_input + decode_sequence_hidden + decode_sequence_output\n",
        "\n",
        "    self.decoder = nn.Sequential(\n",
        "      *decode_sequence\n",
        "    )\n",
        " \n",
        "  def forward(self, x):\n",
        "    x = self.encoder(x)\n",
        "    x = self.decoder(x)\n",
        "    \n",
        "    return x"
      ]
    },
    {
      "cell_type": "code",
      "execution_count": 15,
      "metadata": {},
      "outputs": [],
      "source": [
        "#We check whether cuda is available and choose device accordingly\n",
        "if torch.cuda.is_available() == True:\n",
        "  device = \"cuda:0\"\n",
        "else:\n",
        "  device = \"cpu\""
      ]
    },
    {
      "cell_type": "code",
      "execution_count": 16,
      "metadata": {},
      "outputs": [],
      "source": [
        "model = denoising_model(hidden_layer_nb=2).to(device)\n",
        "criterion = nn.MSELoss()\n",
        "optimizer = optim.Adam(model.parameters(), lr=0.01, weight_decay=1e-5)"
      ]
    },
    {
      "cell_type": "code",
      "execution_count": 17,
      "metadata": {},
      "outputs": [
        {
          "name": "stdout",
          "output_type": "stream",
          "text": [
            "denoising_model(\n",
            "  (encoder): Sequential(\n",
            "    (0): Linear(in_features=784, out_features=256, bias=True)\n",
            "    (1): ReLU()\n",
            "    (2): Linear(in_features=256, out_features=256, bias=True)\n",
            "    (3): ReLU()\n",
            "    (4): Linear(in_features=256, out_features=256, bias=True)\n",
            "    (5): ReLU()\n",
            "    (6): Linear(in_features=256, out_features=64, bias=True)\n",
            "    (7): ReLU()\n",
            "  )\n",
            "  (decoder): Sequential(\n",
            "    (0): Linear(in_features=64, out_features=256, bias=True)\n",
            "    (1): ReLU()\n",
            "    (2): Linear(in_features=256, out_features=256, bias=True)\n",
            "    (3): ReLU()\n",
            "    (4): Linear(in_features=256, out_features=256, bias=True)\n",
            "    (5): ReLU()\n",
            "    (6): Linear(in_features=256, out_features=784, bias=True)\n",
            "    (7): Sigmoid()\n",
            "  )\n",
            ")\n"
          ]
        }
      ],
      "source": [
        "print(model)"
      ]
    },
    {
      "cell_type": "code",
      "execution_count": 18,
      "metadata": {
        "colab": {
          "base_uri": "https://localhost:8080/",
          "height": 6257
        },
        "colab_type": "code",
        "id": "S_AYl41OsNtt",
        "outputId": "e000921e-4fc4-4597-b5c5-023405347075"
      },
      "outputs": [],
      "source": [
        "epochs = 120\n",
        "l = len(trainloader)\n",
        "losslist = list()\n",
        "epochloss = 0\n",
        "running_loss = 0\n",
        "for epoch in range(epochs):\n",
        "  break\n",
        "  print(\"Entering Epoch: \", epoch)\n",
        "  for dirty, clean, label in tqdm((trainloader)):\n",
        "    \n",
        "    \n",
        "    dirty = dirty.view(dirty.size(0), -1).type(torch.FloatTensor)\n",
        "    clean = clean.view(clean.size(0), -1).type(torch.FloatTensor)\n",
        "    dirty, clean = dirty.to(device), clean.to(device)\n",
        "\n",
        "    optimizer.zero_grad()\n",
        "\n",
        "    #-----------------Forward Pass----------------------\n",
        "    output = model(dirty)\n",
        "    loss = criterion(output, clean)\n",
        "\n",
        "    #-----------------Backward Pass---------------------\n",
        "    loss.backward()\n",
        "    optimizer.step()\n",
        "    \n",
        "    running_loss += loss.item()\n",
        "    epochloss += loss.item()\n",
        "  #-----------------Log-------------------------------\n",
        "  losslist.append(running_loss/l)\n",
        "  running_loss = 0\n",
        "  print(\"======> epoch: {}/{}, Loss:{}\".format(epoch, epochs, loss.item()))\n",
        " "
      ]
    },
    {
      "cell_type": "code",
      "execution_count": 32,
      "metadata": {},
      "outputs": [],
      "source": [
        "def train_test(\n",
        "        model: torch.nn.Module, \n",
        "        optimizer: torch.optim.Optimizer, \n",
        "        criterion: torch.nn.Module, \n",
        "        epochs: int,\n",
        "        device: str,\n",
        "        trainloader: torch.utils.data.DataLoader, \n",
        "        testset: torch.utils.data.Dataset):\n",
        "    \"\"\"\n",
        "    Fonction pour entraîner / tester un modèle.\n",
        "\n",
        "    Parameters:\n",
        "    -----------\n",
        "    model : torch.nn.Module\n",
        "        Le modèle à entraîner.\n",
        "    optimizer : torch.optim.Optimizer\n",
        "        L'optimiseur utilisé pour la mise à jour des poids du modèle.\n",
        "    criterion : torch.nn.Module\n",
        "        La fonction de perte utilisée pour évaluer la différence entre les prédictions et les vraies étiquettes.\n",
        "    epochs : int\n",
        "        Le nombre d'époques d'entraînement.\n",
        "    device : str\n",
        "        L'appareil sur lequel exécuter l'entraînement, par exemple 'cuda' pour GPU ou 'cpu' pour CPU.\n",
        "    trainloader : torch.utils.data.DataLoader\n",
        "        Le DataLoader contenant les données d'entraînement.\n",
        "    testset : torch.utils.data.Dataset\n",
        "        Le jeu de données de test utilisé pour évaluer le modèle après chaque époque.\n",
        "\n",
        "    Returns:\n",
        "    --------\n",
        "    true_error : float\n",
        "        L'erreur moyenne quadratique sur le jeu de données de test.\n",
        "    losslist : list\n",
        "        Liste des valeurs de la fonction de perte moyenne sur les données d'entraînement pour chaque époque.\n",
        "    \"\"\"\n",
        "    model.train()\n",
        "    for epoch in tqdm(range(epochs)):\n",
        "        running_loss = 0\n",
        "        for dirty, clean, label in trainloader:  \n",
        "            \n",
        "            dirty = dirty.view(dirty.size(0), -1).type(torch.FloatTensor)\n",
        "            clean = clean.view(clean.size(0), -1).type(torch.FloatTensor)\n",
        "            dirty, clean = dirty.to(device), clean.to(device)\n",
        "\n",
        "            optimizer.zero_grad()\n",
        "\n",
        "            # Forward pass\n",
        "            output = model(dirty)\n",
        "            loss = criterion(output, clean)\n",
        "\n",
        "            # Rétropropagation\n",
        "            loss.backward()\n",
        "            optimizer.step()\n",
        "            \n",
        "            running_loss += loss.item()\n",
        "\n",
        "        # Calcul de la perte moyenne pour cette époque\n",
        "        losslist.append(running_loss/l)\n",
        "\n",
        "    # Calcul de l'erreur moyenne quadratique sur le jeu de données de test\n",
        "    true_error = 0\n",
        "    for test in testset:\n",
        "        true_error += mean_squared_error(test[0][0].flatten(), model(test[0].view(test[0].size(0), -1).type(torch.FloatTensor)).detach()[0])\n",
        "    true_error /= len(testset)\n",
        "\n",
        "    return true_error, losslist"
      ]
    },
    {
      "cell_type": "code",
      "execution_count": 20,
      "metadata": {},
      "outputs": [
        {
          "name": "stderr",
          "output_type": "stream",
          "text": [
            "  3%|▎         | 4/120 [00:21<10:30,  5.44s/it]\n"
          ]
        },
        {
          "ename": "KeyboardInterrupt",
          "evalue": "",
          "output_type": "error",
          "traceback": [
            "\u001b[0;31m---------------------------------------------------------------------------\u001b[0m",
            "\u001b[0;31mKeyboardInterrupt\u001b[0m                         Traceback (most recent call last)",
            "Input \u001b[0;32mIn [20]\u001b[0m, in \u001b[0;36m<cell line: 1>\u001b[0;34m()\u001b[0m\n\u001b[0;32m----> 1\u001b[0m \u001b[43mtrain\u001b[49m\u001b[43m(\u001b[49m\u001b[43mmodel\u001b[49m\u001b[43m,\u001b[49m\u001b[43m \u001b[49m\u001b[43moptimizer\u001b[49m\u001b[43m,\u001b[49m\u001b[43m \u001b[49m\u001b[38;5;241;43m120\u001b[39;49m\u001b[43m,\u001b[49m\u001b[43m \u001b[49m\u001b[43mdevice\u001b[49m\u001b[43m,\u001b[49m\u001b[43m \u001b[49m\u001b[43mtrainloader\u001b[49m\u001b[43m,\u001b[49m\u001b[43m \u001b[49m\u001b[43mtestdata\u001b[49m\u001b[43m)\u001b[49m\n",
            "Input \u001b[0;32mIn [19]\u001b[0m, in \u001b[0;36mtrain\u001b[0;34m(model, optimizer, epochs, device, trainloader, testloader)\u001b[0m\n\u001b[1;32m     15\u001b[0m loss \u001b[38;5;241m=\u001b[39m criterion(output, clean)\n\u001b[1;32m     17\u001b[0m \u001b[38;5;66;03m#-----------------Backward Pass---------------------\u001b[39;00m\n\u001b[0;32m---> 18\u001b[0m \u001b[43mloss\u001b[49m\u001b[38;5;241;43m.\u001b[39;49m\u001b[43mbackward\u001b[49m\u001b[43m(\u001b[49m\u001b[43m)\u001b[49m\n\u001b[1;32m     19\u001b[0m optimizer\u001b[38;5;241m.\u001b[39mstep()\n\u001b[1;32m     21\u001b[0m running_loss \u001b[38;5;241m+\u001b[39m\u001b[38;5;241m=\u001b[39m loss\u001b[38;5;241m.\u001b[39mitem()\n",
            "File \u001b[0;32m~/.local/lib/python3.10/site-packages/torch/_tensor.py:522\u001b[0m, in \u001b[0;36mTensor.backward\u001b[0;34m(self, gradient, retain_graph, create_graph, inputs)\u001b[0m\n\u001b[1;32m    512\u001b[0m \u001b[38;5;28;01mif\u001b[39;00m has_torch_function_unary(\u001b[38;5;28mself\u001b[39m):\n\u001b[1;32m    513\u001b[0m     \u001b[38;5;28;01mreturn\u001b[39;00m handle_torch_function(\n\u001b[1;32m    514\u001b[0m         Tensor\u001b[38;5;241m.\u001b[39mbackward,\n\u001b[1;32m    515\u001b[0m         (\u001b[38;5;28mself\u001b[39m,),\n\u001b[0;32m   (...)\u001b[0m\n\u001b[1;32m    520\u001b[0m         inputs\u001b[38;5;241m=\u001b[39minputs,\n\u001b[1;32m    521\u001b[0m     )\n\u001b[0;32m--> 522\u001b[0m \u001b[43mtorch\u001b[49m\u001b[38;5;241;43m.\u001b[39;49m\u001b[43mautograd\u001b[49m\u001b[38;5;241;43m.\u001b[39;49m\u001b[43mbackward\u001b[49m\u001b[43m(\u001b[49m\n\u001b[1;32m    523\u001b[0m \u001b[43m    \u001b[49m\u001b[38;5;28;43mself\u001b[39;49m\u001b[43m,\u001b[49m\u001b[43m \u001b[49m\u001b[43mgradient\u001b[49m\u001b[43m,\u001b[49m\u001b[43m \u001b[49m\u001b[43mretain_graph\u001b[49m\u001b[43m,\u001b[49m\u001b[43m \u001b[49m\u001b[43mcreate_graph\u001b[49m\u001b[43m,\u001b[49m\u001b[43m \u001b[49m\u001b[43minputs\u001b[49m\u001b[38;5;241;43m=\u001b[39;49m\u001b[43minputs\u001b[49m\n\u001b[1;32m    524\u001b[0m \u001b[43m\u001b[49m\u001b[43m)\u001b[49m\n",
            "File \u001b[0;32m~/.local/lib/python3.10/site-packages/torch/autograd/__init__.py:266\u001b[0m, in \u001b[0;36mbackward\u001b[0;34m(tensors, grad_tensors, retain_graph, create_graph, grad_variables, inputs)\u001b[0m\n\u001b[1;32m    261\u001b[0m     retain_graph \u001b[38;5;241m=\u001b[39m create_graph\n\u001b[1;32m    263\u001b[0m \u001b[38;5;66;03m# The reason we repeat the same comment below is that\u001b[39;00m\n\u001b[1;32m    264\u001b[0m \u001b[38;5;66;03m# some Python versions print out the first line of a multi-line function\u001b[39;00m\n\u001b[1;32m    265\u001b[0m \u001b[38;5;66;03m# calls in the traceback and some print out the last line\u001b[39;00m\n\u001b[0;32m--> 266\u001b[0m \u001b[43mVariable\u001b[49m\u001b[38;5;241;43m.\u001b[39;49m\u001b[43m_execution_engine\u001b[49m\u001b[38;5;241;43m.\u001b[39;49m\u001b[43mrun_backward\u001b[49m\u001b[43m(\u001b[49m\u001b[43m  \u001b[49m\u001b[38;5;66;43;03m# Calls into the C++ engine to run the backward pass\u001b[39;49;00m\n\u001b[1;32m    267\u001b[0m \u001b[43m    \u001b[49m\u001b[43mtensors\u001b[49m\u001b[43m,\u001b[49m\n\u001b[1;32m    268\u001b[0m \u001b[43m    \u001b[49m\u001b[43mgrad_tensors_\u001b[49m\u001b[43m,\u001b[49m\n\u001b[1;32m    269\u001b[0m \u001b[43m    \u001b[49m\u001b[43mretain_graph\u001b[49m\u001b[43m,\u001b[49m\n\u001b[1;32m    270\u001b[0m \u001b[43m    \u001b[49m\u001b[43mcreate_graph\u001b[49m\u001b[43m,\u001b[49m\n\u001b[1;32m    271\u001b[0m \u001b[43m    \u001b[49m\u001b[43minputs\u001b[49m\u001b[43m,\u001b[49m\n\u001b[1;32m    272\u001b[0m \u001b[43m    \u001b[49m\u001b[43mallow_unreachable\u001b[49m\u001b[38;5;241;43m=\u001b[39;49m\u001b[38;5;28;43;01mTrue\u001b[39;49;00m\u001b[43m,\u001b[49m\n\u001b[1;32m    273\u001b[0m \u001b[43m    \u001b[49m\u001b[43maccumulate_grad\u001b[49m\u001b[38;5;241;43m=\u001b[39;49m\u001b[38;5;28;43;01mTrue\u001b[39;49;00m\u001b[43m,\u001b[49m\n\u001b[1;32m    274\u001b[0m \u001b[43m\u001b[49m\u001b[43m)\u001b[49m\n",
            "\u001b[0;31mKeyboardInterrupt\u001b[0m: "
          ]
        }
      ],
      "source": [
        "train_test(model, optimizer, criterion, 120, device, trainloader, testdata)"
      ]
    },
    {
      "cell_type": "code",
      "execution_count": 21,
      "metadata": {},
      "outputs": [],
      "source": [
        "def gridsearch(model_obj: nn.Module, \n",
        "               parameters: dict,\n",
        "               optimizer: optim.Optimizer,\n",
        "               learning_rate :int,\n",
        "               epoch: int,\n",
        "               device: str,\n",
        "               trainloader: DataLoader,\n",
        "               testdata: Dataset):\n",
        "    \"\"\"\n",
        "    Effectue une recherche sur grille pour trouver les meilleurs hyperparamètres pour un modèle donné.\n",
        "\n",
        "    Parameters:\n",
        "    -----------\n",
        "    model_obj : nn.Module\n",
        "        Classe du modèle à utiliser pour la recherche sur grille.\n",
        "    parameters : dict\n",
        "        Dictionnaire contenant les hyperparamètres à tester.\n",
        "    optimizer : torch.optim.Optimizer\n",
        "        L'optimiseur à utiliser pour la mise à jour des poids du modèle.\n",
        "    learning_rate : int\n",
        "        Taux d'apprentissage à utiliser avec l'optimiseur.\n",
        "    epoch : int\n",
        "        Nombre d'époques d'entraînement pour chaque configuration de paramètres.\n",
        "    device : str\n",
        "        L'appareil sur lequel exécuter l'entraînement, par exemple 'cuda' pour GPU ou 'cpu' pour CPU.\n",
        "    trainloader : torch.utils.data.DataLoader\n",
        "        DataLoader contenant les données d'entraînement.\n",
        "    testdata : torch.utils.data.Dataset\n",
        "        Jeu de données de test utilisé pour évaluer le modèle après chaque configuration de paramètres.\n",
        "\n",
        "    Returns:\n",
        "    --------\n",
        "    results : dict\n",
        "        Dictionnaire contenant les résultats de la recherche sur grille.\n",
        "        Chaque clé correspond à l'indice de la configuration de paramètres.\n",
        "        Chaque valeur est un dictionnaire contenant les paramètres testés, l'erreur réelle (sur les données de test)\n",
        "        et l'erreur d'entraînement (sur les données d'entraînement) pour cette configuration.\n",
        "    \"\"\"\n",
        "    parameters = ParameterGrid(parameters)\n",
        "    results = {}\n",
        "\n",
        "    for i, params in enumerate(parameters):\n",
        "        tmp_model = model_obj(**params)\n",
        "        tmp_optim = optimizer(tmp_model.parameters(), lr=learning_rate)\n",
        "        tmp_result = train_test(tmp_model, tmp_optim, epoch, device, trainloader, testdata)\n",
        "        print(f\"\\tParams {i}/{len(parameters)} -> true error: {tmp_result[0]}\")\n",
        "        results[i] = {\n",
        "            \"params\": params,\n",
        "            \"true_error\": tmp_result[0],\n",
        "            \"training_error\": tmp_result[1]\n",
        "        }\n",
        "\n",
        "    return results"
      ]
    },
    {
      "cell_type": "code",
      "execution_count": 22,
      "metadata": {},
      "outputs": [],
      "source": [
        "parameters = {\"hidden_layer_nb\": range(1, 7, 2),\n",
        "              \"hidden_size\": range(200, 501, 100),\n",
        "              \"latent_size\": range(50, 201, 50)}"
      ]
    },
    {
      "cell_type": "code",
      "execution_count": 23,
      "metadata": {},
      "outputs": [],
      "source": [
        "# results = gridsearch(denoising_model, parameters, optim.Adam, 1e-4, 50, device, trainloader, testdata)"
      ]
    },
    {
      "cell_type": "markdown",
      "metadata": {},
      "source": [
        "Afin de trouver le meilleur modèle pour cette tâche, nous avons réalisé un grid search sur plusieurs paramètres :\n",
        "- Le nombre de couches de la couche cachée (par le paramètres `hidden_layer_nb`)\n",
        "- Le nombre de neurones de la couche cachées (par le paramètres `hidden_size`)\n",
        "- Le nombre de neurones de la zone latente (par le paramètres `latent_size`)  \n",
        "\n",
        "Nous n'avons fait que 50 itérations par test dans le grid search, par faute de temps (le programme a tourné pendant plus de 3 heures rien qu'avec 50 itérations). Nous utilisions le même optimiseur et pas d'apprentissage que dans notre premier test.  \n",
        "\n",
        "Le meilleur modèle possède donc cette forme :\n",
        "```\n",
        "denoising_model(\n",
        "  (encoder): Sequential(\n",
        "    (0): Linear(in_features=784, out_features=500, bias=True)\n",
        "    (1): ReLU()\n",
        "    (2): Linear(in_features=500, out_features=500, bias=True)\n",
        "    (3): ReLU()\n",
        "    (4): Linear(in_features=500, out_features=50, bias=True)\n",
        "    (5): ReLU()\n",
        "  )\n",
        "  (decoder): Sequential(\n",
        "    (0): Linear(in_features=50, out_features=500, bias=True)\n",
        "    (1): ReLU()\n",
        "    (2): Linear(in_features=500, out_features=500, bias=True)\n",
        "    (3): ReLU()\n",
        "    (4): Linear(in_features=500, out_features=784, bias=True)\n",
        "    (5): Sigmoid()\n",
        "  )\n",
        ")\n",
        "```\n",
        "C'est à dire, par rapport aux paramètres donnés :\n",
        "- Le paramètre `hidden_layer_nb` vaut 1\n",
        "- Le paramètre `hidden_size` vaut 500\n",
        "- Le paramètre `latent_size` vaut 50"
      ]
    },
    {
      "cell_type": "code",
      "execution_count": 24,
      "metadata": {},
      "outputs": [],
      "source": [
        "with open(\"output_gridsearch.txt\") as file:\n",
        "    results = eval(file.read())"
      ]
    },
    {
      "cell_type": "code",
      "execution_count": 25,
      "metadata": {},
      "outputs": [
        {
          "data": {
            "text/plain": [
              "dict"
            ]
          },
          "execution_count": 25,
          "metadata": {},
          "output_type": "execute_result"
        }
      ],
      "source": [
        "type(results)"
      ]
    },
    {
      "cell_type": "code",
      "execution_count": 26,
      "metadata": {},
      "outputs": [
        {
          "name": "stdout",
          "output_type": "stream",
          "text": [
            "denoising_model(\n",
            "  (encoder): Sequential(\n",
            "    (0): Linear(in_features=784, out_features=500, bias=True)\n",
            "    (1): ReLU()\n",
            "    (2): Linear(in_features=500, out_features=500, bias=True)\n",
            "    (3): ReLU()\n",
            "    (4): Linear(in_features=500, out_features=50, bias=True)\n",
            "    (5): ReLU()\n",
            "  )\n",
            "  (decoder): Sequential(\n",
            "    (0): Linear(in_features=50, out_features=500, bias=True)\n",
            "    (1): ReLU()\n",
            "    (2): Linear(in_features=500, out_features=500, bias=True)\n",
            "    (3): ReLU()\n",
            "    (4): Linear(in_features=500, out_features=784, bias=True)\n",
            "    (5): Sigmoid()\n",
            "  )\n",
            ")\n"
          ]
        }
      ],
      "source": [
        "best_model = denoising_model(**[results[j][\"params\"] for j in range(48) if results[j][\"true_error\"] == min([results[i][\"true_error\"] for i in range(48)])][0])\n",
        "print(best_model)"
      ]
    },
    {
      "cell_type": "code",
      "execution_count": 34,
      "metadata": {},
      "outputs": [],
      "source": [
        "best_model_optim = optim.Adam(best_model.parameters(), lr=5e-3)\n",
        "best_model_criterion = nn.MSELoss()"
      ]
    },
    {
      "cell_type": "code",
      "execution_count": 35,
      "metadata": {},
      "outputs": [
        {
          "name": "stderr",
          "output_type": "stream",
          "text": [
            "100%|██████████| 120/120 [09:51<00:00,  4.93s/it]\n"
          ]
        }
      ],
      "source": [
        "true_error, losslist = train_test(best_model, best_model_optim, best_model_criterion, 120, device, trainloader, testdata)"
      ]
    },
    {
      "cell_type": "code",
      "execution_count": 36,
      "metadata": {
        "colab": {
          "base_uri": "https://localhost:8080/",
          "height": 287
        },
        "colab_type": "code",
        "id": "rT6HTaPB5IAL",
        "outputId": "1dbaa140-6874-4ebc-99a3-8bdfd14e7ae3"
      },
      "outputs": [
        {
          "data": {
            "text/plain": [
              "[<matplotlib.lines.Line2D at 0x7cbb91789e70>]"
            ]
          },
          "execution_count": 36,
          "metadata": {},
          "output_type": "execute_result"
        },
        {
          "data": {
            "image/png": "[encoded data removed]",
            "text/plain": [
              "<Figure size 432x288 with 1 Axes>"
            ]
          },
          "metadata": {
            "needs_background": "light"
          },
          "output_type": "display_data"
        }
      ],
      "source": [
        "plt.plot(range(len(losslist)), losslist)"
      ]
    },
    {
      "cell_type": "code",
      "execution_count": 37,
      "metadata": {},
      "outputs": [
        {
          "data": {
            "text/plain": [
              "0.010816367424779762"
            ]
          },
          "execution_count": 37,
          "metadata": {},
          "output_type": "execute_result"
        }
      ],
      "source": [
        "true_error"
      ]
    },
    {
      "cell_type": "code",
      "execution_count": 51,
      "metadata": {
        "colab": {
          "base_uri": "https://localhost:8080/",
          "height": 1151
        },
        "colab_type": "code",
        "id": "D2TAOjeZMBfp",
        "outputId": "0771669b-3b4d-4311-e233-a3b432960362"
      },
      "outputs": [
        {
          "data": {
            "image/png": "[encoded data removed]",
            "text/plain": [
              "<Figure size 1440x1440 with 18 Axes>"
            ]
          },
          "metadata": {
            "needs_background": "light"
          },
          "output_type": "display_data"
        }
      ],
      "source": [
        "\"\"\"\n",
        "Here, we try to visualize some of the results.\n",
        "We randomly generate 6 numbers in between 1 and 10k , run them through the model,\n",
        "and show the results with comparisons\n",
        "\"\"\"\n",
        "f,axes= plt.subplots(6,3,figsize=(20,20))\n",
        "axes[0,0].set_title(\"Original Image\")\n",
        "axes[0,1].set_title(\"Dirty Image\")\n",
        "axes[0,2].set_title(\"Cleaned Image\")\n",
        "\n",
        "test_imgs=np.random.randint(0,len(xtest),size=6)\n",
        "for idx in range((6)):\n",
        "  dirty=testset[test_imgs[idx]][0]\n",
        "  clean=testset[test_imgs[idx]][1]\n",
        "  label=testset[test_imgs[idx]][2]\n",
        "  dirty=dirty.view(dirty.size(0),-1).type(torch.FloatTensor)\n",
        "  dirty=dirty.to(device)\n",
        "  output=best_model(dirty)\n",
        "  \n",
        "  output=output.view(1,28,28)\n",
        "  output=output.permute(1,2,0).squeeze(2)\n",
        "  output=output.detach().cpu().numpy()\n",
        "  \n",
        "  dirty=dirty.view(1,28,28)\n",
        "  dirty=dirty.permute(1,2,0).squeeze(2)\n",
        "  dirty=dirty.detach().cpu().numpy()\n",
        "  \n",
        "  clean=clean.permute(1,2,0).squeeze(2)\n",
        "  clean=clean.detach().cpu().numpy()\n",
        "  \n",
        "  axes[idx,0].imshow(clean,cmap=\"gray\")\n",
        "  axes[idx,1].imshow(dirty,cmap=\"gray\")\n",
        "  axes[idx,2].imshow(output,cmap=\"gray\")"
      ]
    },
    {
      "cell_type": "code",
      "execution_count": 53,
      "metadata": {
        "colab": {},
        "colab_type": "code",
        "id": "PhP1vseSPcZc"
      },
      "outputs": [],
      "source": [
        "PATH = \"model\"\n",
        "torch.save(best_model.state_dict(), PATH)  # We save the model state dict at PATH   "
      ]
    },
    {
      "cell_type": "code",
      "execution_count": null,
      "metadata": {},
      "outputs": [],
      "source": []
    }
  ],
  "metadata": {
    "accelerator": "GPU",
    "colab": {
      "collapsed_sections": [],
      "name": "DenoisingAutoencoder.ipynb",
      "provenance": [],
      "version": "0.3.2"
    },
    "kernelspec": {
      "display_name": "Python 3",
      "name": "python3"
    },
    "language_info": {
      "codemirror_mode": {
        "name": "ipython",
        "version": 3
      },
      "file_extension": ".py",
      "mimetype": "text/x-python",
      "name": "python",
      "nbconvert_exporter": "python",
      "pygments_lexer": "ipython3",
      "version": "3.10.12"
    }
  },
  "nbformat": 4,
  "nbformat_minor": 0
}
