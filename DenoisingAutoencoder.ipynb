{
  "cells": [
    {
      "cell_type": "markdown",
      "metadata": {},
      "source": [
        ">**Students : François MULLER et Pierre LAGUE**"
      ]
    },
    {
      "cell_type": "markdown",
      "metadata": {},
      "source": [
        "# Etude Autoencodeur\n",
        "\n",
        "Un autoencodeur est un réseau de neurones utilisé pour la réduction de dimension ; c'est-à-dire pour la sélection et l'extraction des caractéristiques. Les autoencodeurs avec plus de couches cachées que d'entrées courent le risque d'apprendre la fonction identité - où la sortie est simplement égale à l'entrée - devenant ainsi inutiles.\n",
        "Les autoencodeurs de débruitage sont une extension de l'autoencodeur de base, et représentent une version stochastique de celui-ci. Les autoencodeurs de débruitage tentent de résoudre le risque de la fonction identité en corrompant aléatoirement l'entrée (c'est-à-dire en introduisant du bruit) que l'autoencodeur doit ensuite reconstruire, ou débruiter.\n",
        "\n",
        "Une première partie de l'étude se concentre sur ces autoendcodeur de débruitage, l'optimisation de leur architecture et hyperparamètres ainsi que leur capacité à être robuste quand ils sont exposés à de nouvelles données.  Cette première partie se concentre égalmement sur l'importance de l'apprentissage de représentation et les caractéristiques de la zone latente."
      ]
    },
    {
      "cell_type": "code",
      "execution_count": 3,
      "metadata": {
        "colab": {
          "base_uri": "https://localhost:8080/",
          "height": 35
        },
        "colab_type": "code",
        "id": "QbygB5YNKEMJ",
        "outputId": "cfca99ba-bbe3-48ed-9ed1-a5c189ad9469"
      },
      "outputs": [],
      "source": [
        "import numpy as np\n",
        "from keras.datasets import mnist\n",
        "import matplotlib.pyplot as plt\n",
        "from tqdm import tqdm\n",
        "from torchvision import transforms\n",
        "import torch.nn as nn\n",
        "from torch.utils.data import DataLoader,Dataset\n",
        "import torch\n",
        "import torch.optim as optim\n",
        "from torch.autograd import Variable\n",
        "\n",
        "import json\n",
        "import random\n",
        "from typing import Callable\n",
        "from sklearn.preprocessing import minmax_scale\n",
        "from sklearn.metrics import mean_squared_error\n",
        "from sklearn.model_selection import ParameterGrid\n",
        "import torch.nn.functional as F"
      ]
    },
    {
      "cell_type": "markdown",
      "metadata": {},
      "source": [
        ">Justification des choix des données :\n",
        "\n",
        "Dans le but de mieux appréhender le fonctionnement des autoencodeurs et d'illustrer leur capacité générative, nous avons pris la décision de construire un ensemble de données exclusivement composé d'images représentant les chiffres 1 et 7 (MNIST Digits). Les chiffres 1 et 7 présentent des similitudes marquées dans leur écriture. En introduisant divers types de bruits (dont nous discuterons ultérieurement), il devient possible de constituer un ensemble de données très varié et d'entraîner un modèle robuste. Par souci de performance et de faisabilité logistique, nous avons restreint notre choix à deux chiffres (1 et 7). Cependant, une exploration ultérieure sera proposée, où nous inclurons tous les chiffres du dataset MNIST.\n",
        "\n",
        ">Justification des choix des bruits :\n",
        "\n",
        "Deux types de bruits sont déjà implémentés, à savoir le \"speckle\" et le \"gaussian\".\n",
        "- Le bruit speckle, également appelé bruit de chatoiement, fait référence à toute fluctuation parasite ou toute dégradation subie par une image depuis le moment de son acquisition jusqu'à son enregistrement. Ce bruit illustre un cas concret où l'image est capturée par un appareil numérique puis transmise au modèle, la présence de bruit étant inévitable. Ce type de bruit se distingue par sa capacité à séparer le premier plan de l'arrière-plan, ce qui met en valeur le chiffre tout en le dégradant.\n",
        "- Le bruit gaussien, en traitement du signal, est un bruit caractérisé par une densité de probabilité qui suit une distribution gaussienne (loi normale). Les principales sources de bruit gaussien dans les images numériques surviennent pendant l'acquisition, par exemple le bruit du capteur causé par un mauvais éclairage et/ou une température élevée. Ce bruit uniforme permet au modèle d'être plus résilient dans sa classification car il n'accentue pas le chiffre mais uniformise la dégradation de l'image.\n",
        "- Le bruit \"salt and pepper\", ou bruit sel ou poivre, correspond à une altération aléatoire subie par une image numérique, entraînant la modification de l'intensité de certains pixels (répartis de manière aléatoire dans l'image) jusqu'à atteindre la valeur minimale ou maximale de la plage dynamique du pixel, respectivement 0 et 255 dans le cas d'une image numérique codée en 8 bits. Ce type de bruit permet au modèle de traiter des valeurs extrêmes (0 ou 255).\n",
        "\n",
        "Chacun des bruits sera scalé avec un paramètre `scale` qui permet de modifier l'intensité de la présence du bruit dans l'image. En jouant sur les valeurs de ce paramètre nous pourront créer des données plus ou moins bruitées et donc tester les limites de robustesse de nos modèles ainsi que de leur capacité à apprendre même avec beaucoup de bruit.\n",
        "\n"
      ]
    },
    {
      "cell_type": "code",
      "execution_count": 4,
      "metadata": {
        "colab": {},
        "colab_type": "code",
        "id": "fbKtjNSyKclx"
      },
      "outputs": [],
      "source": [
        "\"\"\"\n",
        "Here we load the dataset, add gaussian,poisson,speckle\n",
        "\n",
        "    'gauss'     Gaussian-distributed additive noise.\n",
        "    'speckle'   Multiplicative noise using out = image + n*image,where\n",
        "                n is uniform noise with specified mean & variance.\n",
        "    'salt_and_pepper' Randomly chosen pixels that are converted in black or white based on a probability.\n",
        "    'scale' : the scale at which the noise is present in the image. It allows to create images with little to no noise and images with a lot of noise (for model robustness).\n",
        "                \n",
        "We define a function that adds each noise when called from main function\n",
        "Input & Output: np array\n",
        "\"\"\"\n",
        "\n",
        "def add_noise(img, noise_type=\"gaussian\", scale=0.5):\n",
        "  row, col = 28, 28\n",
        "  img = img.astype(np.float32)\n",
        "\n",
        "  match noise_type:\n",
        "    case \"gaussian\":\n",
        "      mean  = 0\n",
        "      var   = 0.01\n",
        "      sigma = var**.5\n",
        "      noise = np.random.normal(mean, sigma, img.shape)\n",
        "      noise = noise.reshape(row, col)\n",
        "      img   = img + (noise*scale)\n",
        "      return img\n",
        "     \n",
        "    case \"speckle\" :\n",
        "      noise = np.random.randn(row, col)\n",
        "      noise = noise.reshape(row, col)\n",
        "      img   = img + (img*noise*scale)\n",
        "      return img\n",
        "     \n",
        "    case \"salt_pepper\" :\n",
        "      prob = 0.4*scale # 1/4 is the base probability of a pixel being transformed. It is scaled down or up with the scale parameter\n",
        "      output = img.copy()\n",
        "      if len(img.shape) == 2:\n",
        "          black = 0\n",
        "          white = 1\n",
        "        \n",
        "      probs = np.random.random(output.shape[:2])\n",
        "      output[probs < (prob/2)] = black\n",
        "      output[probs > 1-(prob/2)] = white\n",
        "      return output     \n",
        "    case _:\n",
        "      return img\n"
      ]
    },
    {
      "cell_type": "code",
      "execution_count": 5,
      "metadata": {},
      "outputs": [],
      "source": [
        "mnist_ = mnist.load_data()\n",
        "\n",
        "# selection des chiffres 1 et 7 pour constituer nos jeux de données\n",
        "train_mask = (mnist_[0][1] == 1) | (mnist_[0][1] == 7)\n",
        "test_mask = (mnist_[1][1] == 1) | (mnist_[1][1] == 7)\n",
        "\n",
        "(xtrain, ytrain) = mnist_[0][0][train_mask], mnist_[0][1][train_mask]\n",
        "(xtest, ytest) = mnist_[1][0][test_mask], mnist_[1][1][test_mask]"
      ]
    },
    {
      "cell_type": "code",
      "execution_count": 6,
      "metadata": {},
      "outputs": [],
      "source": [
        "xtrain = np.array([minmax_scale(x) for x in xtrain])\n",
        "xtest = np.array([minmax_scale(x) for x in xtest])"
      ]
    },
    {
      "cell_type": "code",
      "execution_count": 7,
      "metadata": {},
      "outputs": [
        {
          "data": {
            "text/plain": [
              "<matplotlib.image.AxesImage at 0x11f94af67e0>"
            ]
          },
          "execution_count": 7,
          "metadata": {},
          "output_type": "execute_result"
        },
        {
          "data": {
            "image/png": "[encoded data removed]",
            "text/plain": [
              "<Figure size 640x480 with 1 Axes>"
            ]
          },
          "metadata": {},
          "output_type": "display_data"
        }
      ],
      "source": [
        "plt.imshow(xtrain[6].reshape((28, 28)))"
      ]
    },
    {
      "cell_type": "code",
      "execution_count": 8,
      "metadata": {
        "colab": {
          "base_uri": "https://localhost:8080/",
          "height": 87
        },
        "colab_type": "code",
        "id": "crPgb8VXOceY",
        "outputId": "ada9c8c1-4bbc-4880-ca46-cfa504885fe9"
      },
      "outputs": [
        {
          "name": "stdout",
          "output_type": "stream",
          "text": [
            "No of training datapoints:13007\n",
            "No of Test datapoints:2163\n"
          ]
        }
      ],
      "source": [
        "print(\"No of training datapoints:{}\\nNo of Test datapoints:{}\".format(len(xtrain), len(xtest)))"
      ]
    },
    {
      "cell_type": "code",
      "execution_count": 9,
      "metadata": {
        "colab": {
          "base_uri": "https://localhost:8080/",
          "height": 191
        },
        "colab_type": "code",
        "id": "7kq9PiLARTic",
        "outputId": "480e62e7-4ed2-4278-c47c-f7770accaad2"
      },
      "outputs": [
        {
          "name": "stderr",
          "output_type": "stream",
          "text": [
            " 26%|██▌       | 3340/13007 [00:00<00:00, 33140.00it/s]"
          ]
        },
        {
          "name": "stdout",
          "output_type": "stream",
          "text": [
            "\n",
            "gaussian noise addition completed to images\n"
          ]
        },
        {
          "name": "stderr",
          "output_type": "stream",
          "text": [
            " 91%|█████████ | 11859/13007 [00:00<00:00, 40873.25it/s]"
          ]
        },
        {
          "name": "stdout",
          "output_type": "stream",
          "text": [
            "\n",
            "speckle noise addition completed to images\n"
          ]
        },
        {
          "name": "stderr",
          "output_type": "stream",
          "text": [
            "100%|██████████| 13007/13007 [00:00<00:00, 39938.21it/s]\n"
          ]
        },
        {
          "name": "stdout",
          "output_type": "stream",
          "text": [
            "\n",
            "salt_pepper noise addition completed to images\n"
          ]
        },
        {
          "name": "stderr",
          "output_type": "stream",
          "text": [
            "100%|██████████| 2163/2163 [00:00<00:00, 43738.27it/s]"
          ]
        },
        {
          "name": "stdout",
          "output_type": "stream",
          "text": [
            "\n",
            "gaussian noise addition completed to images\n",
            "\n",
            "speckle noise addition completed to images\n",
            "\n",
            "salt_pepper noise addition completed to images\n"
          ]
        },
        {
          "name": "stderr",
          "output_type": "stream",
          "text": [
            "\n"
          ]
        }
      ],
      "source": [
        "\"\"\"\n",
        "From here onwards,we split the 60k training datapoints into 3 sets each given one type of each noise.\n",
        "We shuffle them for better generalization.\n",
        "\"\"\"\n",
        "noises = [\"gaussian\", \"speckle\", \"salt_pepper\"]\n",
        "noise_ct = 0\n",
        "noise_id = 0\n",
        "traindata = np.zeros((len(xtrain), 28, 28))\n",
        "\n",
        "\n",
        "for idx in tqdm(range(len(xtrain))):\n",
        "  if noise_ct < len(xtrain)/3:\n",
        "    noise_ct += 1\n",
        "    traindata[idx] = add_noise(xtrain[idx], noise_type=noises[noise_id], scale=1)\n",
        "  else:\n",
        "    print(\"\\n{} noise addition completed to images\".format(noises[noise_id]))\n",
        "    noise_id += 1\n",
        "    noise_ct = 0\n",
        "\n",
        "\n",
        "print(\"\\n{} noise addition completed to images\".format(noises[noise_id])) \n",
        "\n",
        "\n",
        "noise_ct = 0\n",
        "noise_id = 0\n",
        "testdata = np.zeros((10000, 28, 28))\n",
        "\n",
        "for idx in tqdm(range(len(xtest))):\n",
        "  if noise_ct < len(xtest)/3:\n",
        "    noise_ct += 1\n",
        "    x = add_noise(xtest[idx], noise_type=noises[noise_id])\n",
        "    testdata[idx] = x\n",
        "    \n",
        "  else:\n",
        "    print(\"\\n{} noise addition completed to images\".format(noises[noise_id]))\n",
        "    noise_id += 1\n",
        "    noise_ct = 0\n",
        "\n",
        "print(\"\\n{} noise addition completed to images\".format(noises[noise_id]))    \n",
        "  "
      ]
    },
    {
      "cell_type": "code",
      "execution_count": 10,
      "metadata": {
        "colab": {
          "base_uri": "https://localhost:8080/",
          "height": 299
        },
        "colab_type": "code",
        "id": "r1PruBRYUmYZ",
        "outputId": "78712c1a-755a-433a-cc34-4b501a2fad5a"
      },
      "outputs": [
        {
          "data": {
            "image/png": "[encoded data removed]",
            "text/plain": [
              "<Figure size 640x480 with 6 Axes>"
            ]
          },
          "metadata": {},
          "output_type": "display_data"
        }
      ],
      "source": [
        "\"\"\"\n",
        "Here we Try to visualize, each type of noise that was introduced in the images\n",
        "Along with their original versions\n",
        "\n",
        "\"\"\"\n",
        "\n",
        "f, axes=plt.subplots(2,3)\n",
        "\n",
        "#showing images with gaussian noise\n",
        "axes[0,0].imshow(xtrain[0], cmap=\"gray\")\n",
        "axes[0,0].set_title(\"Original Image\")\n",
        "axes[1,0].imshow(traindata[0], cmap='gray')\n",
        "axes[1,0].set_title(\"Gaussian Noised Image\")\n",
        "\n",
        "#showing images with salt and pepper noise\n",
        "axes[0,1].imshow(xtrain[13000], cmap='gray')\n",
        "axes[0,1].set_title(\"Original Image\")\n",
        "axes[1,1].imshow(traindata[13000], cmap=\"gray\")\n",
        "axes[1,1].set_title(\"S&P Noised Image\")\n",
        "\n",
        "#showing imags with the speckle noise\n",
        "axes[0,2].imshow(xtrain[5000], cmap='gray')\n",
        "axes[0,2].set_title(\"Original Image\")\n",
        "axes[1,2].imshow(traindata[5000], cmap=\"gray\")\n",
        "axes[1,2].set_title(\"Speckle Noised Image\")\n",
        "\n",
        "plt.tight_layout()"
      ]
    },
    {
      "cell_type": "markdown",
      "metadata": {},
      "source": [
        "### Création d'un dataset bruité\n",
        "\n",
        "La classe NoisedDataset, comme son nom l'indique est un dataset composé d'images bruitées. Le dataset est composé de tuples ayant la structure suivante :\n",
        "\n",
        "$x = (image\\_bruitée, image\\_originale, label)$\n",
        "\n",
        "Les types de bruits sont répartis uniformément dans le dataset de sorte à ce qu'il n'y ait pas de biais/déséquilibre.\n",
        "Les fonctions de classe __len__ et __getitem__ vont nous permettre d'utiliser cette classe pour créer des dataloader rendant ainsi plus rapide le passage d'images en batch pendant l'entraînement."
      ]
    },
    {
      "cell_type": "code",
      "execution_count": 11,
      "metadata": {
        "colab": {},
        "colab_type": "code",
        "id": "Vfchnr-E_kka"
      },
      "outputs": [],
      "source": [
        "class noisedDataset(Dataset):\n",
        "  def __init__(self, \n",
        "               datasetnoised: np.ndarray, \n",
        "               datasetclean: np.ndarray, \n",
        "               labels: np.ndarray,\n",
        "               transform: Callable):\n",
        "    self.noise = datasetnoised\n",
        "    self.clean = datasetclean\n",
        "    self.labels = labels\n",
        "    self.transform = transform\n",
        "  \n",
        "  def __len__(self):\n",
        "    return len(self.noise)\n",
        "  \n",
        "  def __getitem__(self, idx):\n",
        "    xNoise = self.noise[idx]\n",
        "    xClean = self.clean[idx]\n",
        "    y = self.labels[idx]\n",
        "    \n",
        "    if self.transform != None:\n",
        "      xNoise = self.transform(xNoise)\n",
        "      xClean = self.transform(xClean)\n",
        "\n",
        "    return (xNoise, xClean, y)\n",
        "    "
      ]
    },
    {
      "cell_type": "code",
      "execution_count": 12,
      "metadata": {
        "colab": {},
        "colab_type": "code",
        "id": "HyzkdVVUC6ps"
      },
      "outputs": [],
      "source": [
        "tsfms = transforms.Compose([\n",
        "    transforms.ToTensor()\n",
        "])\n",
        "\n",
        "trainset = noisedDataset(traindata, xtrain, ytrain, tsfms)\n",
        "testset = noisedDataset(testdata, xtest, ytest, tsfms)"
      ]
    },
    {
      "cell_type": "code",
      "execution_count": 13,
      "metadata": {
        "colab": {},
        "colab_type": "code",
        "id": "vTQ_iF1fXxC8"
      },
      "outputs": [],
      "source": [
        "\"\"\"\n",
        "Here , we create the trainloaders and testloaders.\n",
        "Also, we transform the images using standard lib functions\n",
        "\"\"\"\n",
        "\n",
        "trainloader = DataLoader(trainset, batch_size=32, shuffle=True)\n",
        "testloader  = DataLoader(testset, batch_size=1, shuffle=True)"
      ]
    },
    {
      "cell_type": "markdown",
      "metadata": {},
      "source": [
        "### Definition de l'Autoencodeur de débruitage\n",
        "\n",
        "Cet autoencodeur de débruitage est capable de prendre en entrée des images (ou des vecteurs) et de les encoder dans un espace de dimension réduite appelé \"zone latente\". Il les décode ensuite à partir de cet espace latent pour reconstruire l'entrée initiale sans le bruit.\n",
        "\n",
        "Voici une explication des principaux éléments :\n",
        "\n",
        "- La classe *denoising_model* est une sous-classe de nn.Module, ce qui signifie qu'elle hérite des fonctionnalités de base de PyTorch pour les modèles de réseaux de neurones.\n",
        "\n",
        "- L'initialisateur __init__ de la classe permet de définir la structure de l'autoencodeur en spécifiant le nombre de couches cachées (hidden_layer_nb), le nombre de neurones dans chaque couche cachée (hidden_size), le nombre de neurones dans la zone latente (latent_size) et la taille de l'image en entrée (img_size).\n",
        "\n",
        "- L'encodeur est une séquence de couches linéaires (fully connected) suivies de fonctions d'activation ReLU. Ces couches transforment l'entrée en une représentation de dimension réduite dans l'espace latent.\n",
        "\n",
        "- Le décodeur est également une séquence de couches linéaires suivies de fonctions d'activation ReLU, mais cette fois-ci il restaure l'entrée originale à partir de la représentation de l'espace latent.\n",
        "\n",
        "- La fonction forward est une méthode requise par PyTorch pour définir comment les données traversent le réseau. Dans ce cas, elle encode d'abord les données avec l'encodeur puis les décode avec le décodeur.\n",
        "\n",
        "- La méthode get_latent_size retourne la taille de la zone latente.\n",
        "\n"
      ]
    },
    {
      "cell_type": "code",
      "execution_count": 14,
      "metadata": {
        "colab": {},
        "colab_type": "code",
        "id": "1P60Cuv7pQO6"
      },
      "outputs": [],
      "source": [
        "\"\"\"\n",
        "Here, we define the autoencoder model.\n",
        "\"\"\"\n",
        "\n",
        "class denoising_model(nn.Module):\n",
        "  \"\"\"\n",
        "  Autoencodeur, capable d'être personnalisé au niveau du nombre de neurones dans la / les couche(s) cachée(s) et au nombre de couches cachées.\n",
        "\n",
        "  Paramètres :\n",
        "  ------------\n",
        "  `hidden_layer_nb`: int (default=1)  \n",
        "    Nombre de couche cachées\n",
        "  `hidden_size`: int (default=256)\n",
        "    Nombre de neurones dans chaque couche de la couche cachée\n",
        "  `latent_size`: int (default=64)  \n",
        "    Nombre de neurone dans la zone latente\n",
        "  \"\"\"\n",
        "  def __init__(self, hidden_layer_nb=1, hidden_size = 256, latent_size=64, img_size=28*28):\n",
        "    super(denoising_model,self).__init__()\n",
        "\n",
        "    self.latent_size = latent_size\n",
        "\n",
        "    encode_sequence_input = [nn.Linear(img_size, hidden_size), nn.ReLU()]\n",
        "    encode_sequence_output = [nn.Linear(hidden_size, latent_size), nn.ReLU()]\n",
        "    encode_sequence_hidden = []\n",
        "    for i in range(hidden_layer_nb):\n",
        "      encode_sequence_hidden.append(nn.Linear(hidden_size, hidden_size))\n",
        "      encode_sequence_hidden.append(nn.ReLU())\n",
        "\n",
        "    encode_sequence = encode_sequence_input + encode_sequence_hidden + encode_sequence_output\n",
        "        \n",
        "    self.encoder = nn.Sequential(\n",
        "      *encode_sequence\n",
        "    )\n",
        "\n",
        "    decode_sequence_input = [nn.Linear(latent_size, hidden_size), nn.ReLU()]\n",
        "    decode_sequence_output = [nn.Linear(hidden_size, img_size), nn.Sigmoid()]\n",
        "    decode_sequence_hidden = []\n",
        "    for i in range(hidden_layer_nb):\n",
        "      decode_sequence_hidden.append(nn.Linear(hidden_size, hidden_size))\n",
        "      decode_sequence_hidden.append(nn.ReLU())\n",
        "\n",
        "    decode_sequence = decode_sequence_input + decode_sequence_hidden + decode_sequence_output\n",
        "\n",
        "    self.decoder = nn.Sequential(\n",
        "      *decode_sequence\n",
        "    )\n",
        "\n",
        "  def get_latent_size(self):\n",
        "    return self.latent_size\n",
        "\n",
        "  def encode(self, x):\n",
        "    return self.encoder(x)\n",
        " \n",
        "  def forward(self, x):\n",
        "    x = self.encoder(x)\n",
        "    x = self.decoder(x)\n",
        "    \n",
        "    return x"
      ]
    },
    {
      "cell_type": "code",
      "execution_count": 17,
      "metadata": {},
      "outputs": [],
      "source": [
        "#We check whether cuda is available and choose device accordingly\n",
        "if torch.cuda.is_available() == True:\n",
        "  device = \"cuda:0\"\n",
        "else:\n",
        "  device = \"cpu\""
      ]
    },
    {
      "cell_type": "code",
      "execution_count": 18,
      "metadata": {},
      "outputs": [],
      "source": [
        "model = denoising_model(hidden_layer_nb=2).to(device)\n",
        "criterion = nn.MSELoss()\n",
        "optimizer = optim.Adam(model.parameters(), lr=0.01, weight_decay=1e-5)"
      ]
    },
    {
      "cell_type": "code",
      "execution_count": 19,
      "metadata": {},
      "outputs": [
        {
          "name": "stdout",
          "output_type": "stream",
          "text": [
            "denoising_model(\n",
            "  (encoder): Sequential(\n",
            "    (0): Linear(in_features=784, out_features=256, bias=True)\n",
            "    (1): ReLU()\n",
            "    (2): Linear(in_features=256, out_features=256, bias=True)\n",
            "    (3): ReLU()\n",
            "    (4): Linear(in_features=256, out_features=256, bias=True)\n",
            "    (5): ReLU()\n",
            "    (6): Linear(in_features=256, out_features=64, bias=True)\n",
            "    (7): ReLU()\n",
            "  )\n",
            "  (decoder): Sequential(\n",
            "    (0): Linear(in_features=64, out_features=256, bias=True)\n",
            "    (1): ReLU()\n",
            "    (2): Linear(in_features=256, out_features=256, bias=True)\n",
            "    (3): ReLU()\n",
            "    (4): Linear(in_features=256, out_features=256, bias=True)\n",
            "    (5): ReLU()\n",
            "    (6): Linear(in_features=256, out_features=784, bias=True)\n",
            "    (7): Sigmoid()\n",
            "  )\n",
            ")\n"
          ]
        }
      ],
      "source": [
        "print(model)"
      ]
    },
    {
      "cell_type": "markdown",
      "metadata": {},
      "source": [
        "### Definition de la methode d'entraînement du modèle\n",
        "\n",
        "La méthode train_test permet de réaliser l'entraînement et l'évaluation d'un modèle (`model`) passé en paramètre.\n",
        "\n",
        "Cette méthode permet de spécifier l'optimisateur utilisé ainsi que la loss, le nombre d'epochs, le device (pour la gpu acceleration), le trainloader et le testloader.\n",
        "Il nous semblait important de pouvoir spécifier tous ces paramètres afin de rendre la méthode la plus réutillisable possible.\n",
        "\n",
        "Pendant la phase d'entraînement, nous calculons la perte moyenne de l'epoch afin de garder une trace de la performance du modèle.\n",
        "\n",
        "\n",
        "Cette fonction permet d'entraînet le modèle mais aussi de l'évaluer. En effet, après la phase d'entraînement sur le trainloader, nous calculons la loss totale (MSE) sur le testloader.\n",
        "Ce calcul est fait manuellement : \n",
        "\n",
        "- nous comparons la valeur du label à la valeur prédite par le modèle. En fonction de la nature du testloader, il est important de modifier le type des données de test afin qu'elles soient compatibles en entrée avec le modèle (d'où les transtypages en tenseurs).\n",
        "- la true_error est incrémentée de 1 si le label et la prédiction correspondent, 0 sinon\n",
        "\n",
        "Au final nous retournons l'ensemble des loss au fil des epochs et la true_error.\n",
        "\n"
      ]
    },
    {
      "cell_type": "code",
      "execution_count": 20,
      "metadata": {},
      "outputs": [],
      "source": [
        "def train_test(\n",
        "        model: torch.nn.Module, \n",
        "        optimizer: torch.optim.Optimizer, \n",
        "        criterion: torch.nn.Module, \n",
        "        epochs: int,\n",
        "        device: str,\n",
        "        trainloader: torch.utils.data.DataLoader, \n",
        "        testset: torch.utils.data.Dataset):\n",
        "    \"\"\"\n",
        "    Fonction pour entraîner / tester un modèle.\n",
        "\n",
        "    Parameters:\n",
        "    -----------\n",
        "    model : torch.nn.Module\n",
        "        Le modèle à entraîner.\n",
        "    optimizer : torch.optim.Optimizer\n",
        "        L'optimiseur utilisé pour la mise à jour des poids du modèle.\n",
        "    criterion : torch.nn.Module\n",
        "        La fonction de perte utilisée pour évaluer la différence entre les prédictions et les vraies étiquettes.\n",
        "    epochs : int\n",
        "        Le nombre d'époques d'entraînement.\n",
        "    device : str\n",
        "        L'appareil sur lequel exécuter l'entraînement, par exemple 'cuda' pour GPU ou 'cpu' pour CPU.\n",
        "    trainloader : torch.utils.data.DataLoader\n",
        "        Le DataLoader contenant les données d'entraînement.\n",
        "    testset : torch.utils.data.Dataset\n",
        "        Le jeu de données de test utilisé pour évaluer le modèle après chaque époque.\n",
        "\n",
        "    Returns:\n",
        "    --------\n",
        "    true_error : float\n",
        "        L'erreur moyenne quadratique sur le jeu de données de test.\n",
        "    losslist : list\n",
        "        Liste des valeurs de la fonction de perte moyenne sur les données d'entraînement pour chaque époque.\n",
        "    \"\"\"\n",
        "    model.train()\n",
        "    losslist = []\n",
        "    for epoch in tqdm(range(epochs)):\n",
        "        running_loss = 0\n",
        "        for dirty, clean, label in trainloader:  \n",
        "            \n",
        "            dirty = dirty.view(dirty.size(0), -1).type(torch.FloatTensor)\n",
        "            clean = clean.view(clean.size(0), -1).type(torch.FloatTensor)\n",
        "            dirty, clean = dirty.to(device), clean.to(device)\n",
        "\n",
        "            optimizer.zero_grad()\n",
        "\n",
        "            # Forward pass\n",
        "            output = model.forward(dirty)\n",
        "            loss = criterion(output, clean)\n",
        "\n",
        "            # Rétropropagation\n",
        "            loss.backward()\n",
        "            optimizer.step()\n",
        "            \n",
        "            running_loss += loss.item()\n",
        "\n",
        "        # Calcul de la perte moyenne pour cette époque\n",
        "        losslist.append(running_loss/len(trainloader))\n",
        "\n",
        "    # Calcul de l'erreur moyenne quadratique sur le jeu de données de test\n",
        "    true_error = 0\n",
        "    for test in testset:\n",
        "        true_error += mean_squared_error(test.flatten(), model(torch.tensor(test.flatten()).type(torch.FloatTensor)).detach())\n",
        "    true_error /= len(testset)\n",
        "\n",
        "    return true_error, losslist"
      ]
    },
    {
      "cell_type": "markdown",
      "metadata": {},
      "source": [
        "Nous entraînons un modèle type autoencodeur de béruitage qui nous servira de baseline pour comparer les autres modèles."
      ]
    },
    {
      "cell_type": "code",
      "execution_count": 21,
      "metadata": {},
      "outputs": [],
      "source": [
        "# train_test(model, optimizer, criterion, 120, device, trainloader, testdata)"
      ]
    },
    {
      "cell_type": "markdown",
      "metadata": {},
      "source": [
        "### Optimisation de l'architecture du modèle\n",
        "Cette phase d'optimisation est importante pour trouver le meilleur modèle dans l'espoir qu'il puisse avoir une bonne capacité de généralisation."
      ]
    },
    {
      "cell_type": "code",
      "execution_count": 22,
      "metadata": {},
      "outputs": [],
      "source": [
        "\n",
        "\n",
        "def gridsearch(model_obj: nn.Module, \n",
        "               parameters: dict,\n",
        "               optimizer: optim.Optimizer,\n",
        "               criterion,\n",
        "               learning_rate :int,\n",
        "               epoch: int,\n",
        "               device: str,\n",
        "               trainloader: DataLoader,\n",
        "               testdata: Dataset):\n",
        "    \"\"\"\n",
        "    Effectue une recherche sur grille pour trouver les meilleurs hyperparamètres pour un modèle donné.\n",
        "\n",
        "    Parameters:\n",
        "    -----------\n",
        "    model_obj : nn.Module\n",
        "        Classe du modèle à utiliser pour la recherche sur grille.\n",
        "    parameters : dict\n",
        "        Dictionnaire contenant les hyperparamètres à tester.\n",
        "    optimizer : torch.optim.Optimizer\n",
        "        L'optimiseur à utiliser pour la mise à jour des poids du modèle.\n",
        "    learning_rate : int\n",
        "        Taux d'apprentissage à utiliser avec l'optimiseur.\n",
        "    epoch : int\n",
        "        Nombre d'époques d'entraînement pour chaque configuration de paramètres.\n",
        "    device : str\n",
        "        L'appareil sur lequel exécuter l'entraînement, par exemple 'cuda' pour GPU ou 'cpu' pour CPU.\n",
        "    trainloader : torch.utils.data.DataLoader\n",
        "        DataLoader contenant les données d'entraînement.\n",
        "    testdata : torch.utils.data.Dataset\n",
        "        Jeu de données de test utilisé pour évaluer le modèle après chaque configuration de paramètres.\n",
        "\n",
        "    Returns:\n",
        "    --------\n",
        "    results : dict\n",
        "        Dictionnaire contenant les résultats de la recherche sur grille.\n",
        "        Chaque clé correspond à l'indice de la configuration de paramètres.\n",
        "        Chaque valeur est un dictionnaire contenant les paramètres testés, l'erreur réelle (sur les données de test)\n",
        "        et l'erreur d'entraînement (sur les données d'entraînement) pour cette configuration.\n",
        "    \"\"\"\n",
        "    parameters = ParameterGrid(parameters)\n",
        "    results = {}\n",
        "    loss = criterion()\n",
        "\n",
        "    for i, params in enumerate(parameters):\n",
        "        tmp_model = model_obj(**params)\n",
        "        tmp_optim = optimizer(tmp_model.parameters(), lr=learning_rate)\n",
        "        tmp_result = train_test(tmp_model, tmp_optim, loss, epoch, device, trainloader, testdata)\n",
        "        print(f\"\\tParams {i}/{len(parameters)} -> true error: {tmp_result[0]}\")\n",
        "        results[i] = {\n",
        "            \"params\": params,\n",
        "            \"true_error\": tmp_result[0],\n",
        "            \"training_error\": tmp_result[1]\n",
        "        }\n",
        "\n",
        "    return results"
      ]
    },
    {
      "cell_type": "code",
      "execution_count": 23,
      "metadata": {},
      "outputs": [],
      "source": [
        "parameters = {\"hidden_layer_nb\": range(1, 6, 2),\n",
        "              \"hidden_size\": range(300, 501, 100),\n",
        "              \"latent_size\": [7*7, 8*8, 9*9]}\n",
        "\n"
      ]
    },
    {
      "cell_type": "code",
      "execution_count": 24,
      "metadata": {},
      "outputs": [],
      "source": [
        "# results = gridsearch(denoising_model, parameters, optim.Adam, nn.MSELoss, 1e-4, 30, device, trainloader, testdata)"
      ]
    },
    {
      "cell_type": "code",
      "execution_count": 25,
      "metadata": {},
      "outputs": [],
      "source": [
        "# # on enregistre les résultats pour ne pas devoir refaire la gridsearch\n",
        "# with open(\"output_gridsearch.json\", \"w+\") as file:\n",
        "#     file.write(json.dumps(results, indent=1))\n",
        "\n",
        "# on lit les résultats de l'ancienne gridsearch\n",
        "with open(\"output_gridsearch.json\") as file:\n",
        "    results = json.loads(file.read())"
      ]
    },
    {
      "cell_type": "code",
      "execution_count": 26,
      "metadata": {},
      "outputs": [
        {
          "data": {
            "text/plain": [
              "{'hidden_layer_nb': 1, 'hidden_size': 500, 'latent_size': 81}"
            ]
          },
          "execution_count": 26,
          "metadata": {},
          "output_type": "execute_result"
        }
      ],
      "source": [
        "[results[str(i)][\"params\"] for i in range(27) if results[str(i)][\"true_error\"] == min([results[str(j)][\"true_error\"] for j in range(27)])][0]"
      ]
    },
    {
      "cell_type": "markdown",
      "metadata": {},
      "source": [
        "Afin de trouver le meilleur modèle pour cette tâche, nous avons réalisé un grid search sur plusieurs paramètres :\n",
        "- Le nombre de couches de la couche cachée (par le paramètres `hidden_layer_nb`)\n",
        "- Le nombre de neurones de la couche cachées (par le paramètres `hidden_size`)\n",
        "- Le nombre de neurones de la zone latente (par le paramètres `latent_size`)  \n",
        "\n",
        "On a pris des carré de nombre pour l'espace latent, pour pouvoir les affichers plus tard dans le même format que les images d'origines (qui sont carrés). Ceci sera aussi utile lors de la classification, car nous pouvons faire un un réseau de convolution tout en respectant la forme de base de l'image.\n",
        "\n",
        "Nous n'avons fait que 30 itérations par test dans le grid search, par faute de temps (le programme a tourné pendant plus d'une heure rien qu'avec 30 itérations). Nous utilisions le même optimiseur et pas d'apprentissage que dans notre premier test.  \n",
        "\n",
        "Le meilleur modèle possède donc cette forme :\n",
        "```\n",
        "denoising_model(\n",
        "  (encoder): Sequential(\n",
        "    (0): Linear(in_features=784, out_features=500, bias=True)\n",
        "    (1): ReLU()\n",
        "    (2): Linear(in_features=500, out_features=500, bias=True)\n",
        "    (3): ReLU()\n",
        "    (4): Linear(in_features=500, out_features=81, bias=True)\n",
        "    (5): ReLU()\n",
        "  )\n",
        "  (decoder): Sequential(\n",
        "    (0): Linear(in_features=81, out_features=500, bias=True)\n",
        "    (1): ReLU()\n",
        "    (2): Linear(in_features=500, out_features=500, bias=True)\n",
        "    (3): ReLU()\n",
        "    (4): Linear(in_features=500, out_features=784, bias=True)\n",
        "    (5): Sigmoid()\n",
        "  )\n",
        ")\n",
        "```\n",
        "C'est à dire, par rapport aux paramètres donnés :\n",
        "- Le paramètre `hidden_layer_nb` vaut 1\n",
        "- Le paramètre `hidden_size` vaut 500\n",
        "- Le paramètre `latent_size` vaut 81 (donc $9 \\times 9$)"
      ]
    },
    {
      "cell_type": "code",
      "execution_count": 27,
      "metadata": {},
      "outputs": [
        {
          "name": "stdout",
          "output_type": "stream",
          "text": [
            "denoising_model(\n",
            "  (encoder): Sequential(\n",
            "    (0): Linear(in_features=784, out_features=500, bias=True)\n",
            "    (1): ReLU()\n",
            "    (2): Linear(in_features=500, out_features=500, bias=True)\n",
            "    (3): ReLU()\n",
            "    (4): Linear(in_features=500, out_features=81, bias=True)\n",
            "    (5): ReLU()\n",
            "  )\n",
            "  (decoder): Sequential(\n",
            "    (0): Linear(in_features=81, out_features=500, bias=True)\n",
            "    (1): ReLU()\n",
            "    (2): Linear(in_features=500, out_features=500, bias=True)\n",
            "    (3): ReLU()\n",
            "    (4): Linear(in_features=500, out_features=784, bias=True)\n",
            "    (5): Sigmoid()\n",
            "  )\n",
            ")\n"
          ]
        }
      ],
      "source": [
        "best_model = denoising_model(**[results[str(i)][\"params\"] for i in range(27) if results[str(i)][\"true_error\"] == min([results[str(j)][\"true_error\"] for j in range(27)])][0])\n",
        "best_model_optim = optim.Adam(best_model.parameters(), lr=1e-3)\n",
        "best_model_criterion = nn.MSELoss()\n",
        "print(best_model)"
      ]
    },
    {
      "cell_type": "code",
      "execution_count": 28,
      "metadata": {},
      "outputs": [
        {
          "data": {
            "text/plain": [
              "<All keys matched successfully>"
            ]
          },
          "execution_count": 28,
          "metadata": {},
          "output_type": "execute_result"
        }
      ],
      "source": [
        "# true_error, losslist = train_test(best_model, best_model_optim, best_model_criterion, 100, device, trainloader, testdata)\n",
        "best_model.load_state_dict(torch.load(\"model\", map_location=device))"
      ]
    },
    {
      "cell_type": "code",
      "execution_count": 29,
      "metadata": {
        "colab": {
          "base_uri": "https://localhost:8080/",
          "height": 287
        },
        "colab_type": "code",
        "id": "rT6HTaPB5IAL",
        "outputId": "1dbaa140-6874-4ebc-99a3-8bdfd14e7ae3"
      },
      "outputs": [],
      "source": [
        "# plt.plot(range(len(losslist)), losslist), true_error"
      ]
    },
    {
      "cell_type": "markdown",
      "metadata": {},
      "source": [
        "On teste le modèle avec des données bruitées, mais de la même intensité que dans l'entraînement :"
      ]
    },
    {
      "cell_type": "code",
      "execution_count": 30,
      "metadata": {},
      "outputs": [
        {
          "data": {
            "image/png": "[encoded data removed]",
            "text/plain": [
              "<Figure size 576x576 with 12 Axes>"
            ]
          },
          "metadata": {
            "needs_background": "light"
          },
          "output_type": "display_data"
        }
      ],
      "source": [
        "f,axes= plt.subplots(4,3,figsize=(8, 8))\n",
        "axes[0,0].set_title(\"Original Image\")\n",
        "axes[0,1].set_title(\"Dirty Image\")\n",
        "axes[0,2].set_title(\"Cleaned Image\")\n",
        "for i, noise in enumerate([\"gaussian\", \"speckle\", \"salt_pepper\", \"\"]):\n",
        "    dirty = add_noise(np.array(xtest[3]), noise)\n",
        "    predicted = best_model(torch.tensor(dirty.flatten()).type(torch.FloatTensor))\n",
        "\n",
        "    axes[i, 0].imshow(xtest[3])\n",
        "    axes[i, 1].imshow(dirty.reshape((28, 28)))\n",
        "    axes[i, 2].imshow(predicted.detach().numpy().reshape((28, 28)))"
      ]
    },
    {
      "cell_type": "markdown",
      "metadata": {},
      "source": [
        "L'affichage de ces images montre que notre modèle `best_model` est capable de reconstituer l'image originale malgrès la présence de bruit. On remarque même que l'image reconstituée à des contours plus précis que l'image originale."
      ]
    },
    {
      "cell_type": "markdown",
      "metadata": {},
      "source": [
        "Après avois établi cette baseline, nous pouvons nous intéresser à la robustesse de nos modèles. Ceci peut se faire en augmentant le bruit (paramètre `scale`). Le modèle va maintenant avoir des images beaucoup plus bruitées que celles sur lesquelles il s'est entraîné."
      ]
    },
    {
      "cell_type": "code",
      "execution_count": 31,
      "metadata": {},
      "outputs": [
        {
          "data": {
            "image/png": "[encoded data removed]",
            "text/plain": [
              "<Figure size 576x576 with 12 Axes>"
            ]
          },
          "metadata": {
            "needs_background": "light"
          },
          "output_type": "display_data"
        }
      ],
      "source": [
        "f,axes= plt.subplots(4,3,figsize=(8, 8))\n",
        "axes[0,0].set_title(\"Original Image\")\n",
        "axes[0,1].set_title(\"Dirty Image\")\n",
        "axes[0,2].set_title(\"Cleaned Image\")\n",
        "for i, noise in enumerate([\"gaussian\", \"speckle\", \"salt_pepper\", \"\"]):\n",
        "    dirty = add_noise(np.array(xtest[0]), noise, 0.8)\n",
        "    predicted = best_model(torch.tensor(dirty.flatten()).type(torch.FloatTensor))\n",
        "\n",
        "    axes[i, 0].imshow(xtest[0])\n",
        "    axes[i, 1].imshow(dirty.reshape((28, 28)))\n",
        "    axes[i, 2].imshow(predicted.detach().numpy().reshape((28, 28)))"
      ]
    },
    {
      "cell_type": "code",
      "execution_count": 32,
      "metadata": {},
      "outputs": [
        {
          "data": {
            "image/png": "[encoded data removed]",
            "text/plain": [
              "<Figure size 576x576 with 12 Axes>"
            ]
          },
          "metadata": {
            "needs_background": "light"
          },
          "output_type": "display_data"
        }
      ],
      "source": [
        "f,axes= plt.subplots(4,3,figsize=(8, 8))\n",
        "axes[0,0].set_title(\"Original Image\")\n",
        "axes[0,1].set_title(\"Dirty Image\")\n",
        "axes[0,2].set_title(\"Cleaned Image\")\n",
        "for i, noise in enumerate([\"gaussian\", \"speckle\", \"salt_pepper\", \"\"]):\n",
        "    dirty = add_noise(np.array(xtest[1]), noise, 1)\n",
        "    predicted = best_model(torch.tensor(dirty.flatten()).type(torch.FloatTensor))\n",
        "\n",
        "    axes[i, 0].imshow(xtest[1])\n",
        "    axes[i, 1].imshow(dirty.reshape((28, 28)))\n",
        "    axes[i, 2].imshow(predicted.detach().numpy().reshape((28, 28)))"
      ]
    },
    {
      "cell_type": "markdown",
      "metadata": {},
      "source": [
        "De la même manière, ces images montrent que notre modèle est capable de reconstituer des images même si le degré de bruit est élevé. "
      ]
    },
    {
      "cell_type": "code",
      "execution_count": 34,
      "metadata": {
        "colab": {},
        "colab_type": "code",
        "id": "PhP1vseSPcZc"
      },
      "outputs": [],
      "source": [
        "# PATH = \"model\"\n",
        "# torch.save(best_model.state_dict(), PATH)  # We save the model state dict at PATH   "
      ]
    },
    {
      "cell_type": "markdown",
      "metadata": {},
      "source": [
        "On va faire les mêmes procédures pour les données."
      ]
    },
    {
      "cell_type": "code",
      "execution_count": 35,
      "metadata": {},
      "outputs": [],
      "source": [
        "(xtrain_all, ytrain_all) = mnist_[0][0], mnist_[0][1]\n",
        "(xtest_all, ytest_all) = mnist_[1][0], mnist_[1][1]\n",
        "\n",
        "xtrain_all = np.array([minmax_scale(x) for x in xtrain_all])\n",
        "xtest_all = np.array([minmax_scale(x) for x in xtest_all])"
      ]
    },
    {
      "cell_type": "code",
      "execution_count": 36,
      "metadata": {},
      "outputs": [
        {
          "name": "stderr",
          "output_type": "stream",
          "text": [
            " 38%|███▊      | 23085/60000 [00:01<00:02, 15246.87it/s]"
          ]
        },
        {
          "name": "stdout",
          "output_type": "stream",
          "text": [
            "\n",
            "gaussian noise addition completed to images\n"
          ]
        },
        {
          "name": "stderr",
          "output_type": "stream",
          "text": [
            " 72%|███████▏  | 43452/60000 [00:02<00:00, 16750.92it/s]"
          ]
        },
        {
          "name": "stdout",
          "output_type": "stream",
          "text": [
            "\n",
            "speckle noise addition completed to images\n"
          ]
        },
        {
          "name": "stderr",
          "output_type": "stream",
          "text": [
            "100%|██████████| 60000/60000 [00:03<00:00, 15862.69it/s]\n"
          ]
        },
        {
          "name": "stdout",
          "output_type": "stream",
          "text": [
            "\n",
            "salt_pepper noise addition completed to images\n"
          ]
        },
        {
          "name": "stderr",
          "output_type": "stream",
          "text": [
            "100%|██████████| 10000/10000 [00:00<00:00, 15634.92it/s]"
          ]
        },
        {
          "name": "stdout",
          "output_type": "stream",
          "text": [
            "\n",
            "gaussian noise addition completed to images\n"
          ]
        },
        {
          "name": "stderr",
          "output_type": "stream",
          "text": [
            "\n"
          ]
        }
      ],
      "source": [
        "\"\"\"\n",
        "From here onwards,we split the 60k training datapoints into 3 sets each given one type of each noise.\n",
        "We shuffle them for better generalization.\n",
        "\"\"\"\n",
        "noises = [\"gaussian\", \"speckle\", \"salt_pepper\"]\n",
        "noise_ct = 0\n",
        "noise_id = 0\n",
        "traindata_all = np.zeros((len(xtrain_all), 28, 28))\n",
        "\n",
        "\n",
        "for idx in tqdm(range(len(xtrain_all))):\n",
        "  if noise_ct < len(xtrain_all)/3:\n",
        "    noise_ct += 1\n",
        "    traindata_all[idx] = add_noise(xtrain_all[idx], noise_type=noises[noise_id], scale=1)\n",
        "  else:\n",
        "    print(\"\\n{} noise addition completed to images\".format(noises[noise_id]))\n",
        "    noise_id += 1\n",
        "    noise_ct = 0\n",
        "\n",
        "\n",
        "print(\"\\n{} noise addition completed to images\".format(noises[noise_id])) \n",
        "\n",
        "\n",
        "noise_ct = 0\n",
        "noise_id = 0\n",
        "testdata_all = np.zeros((10000, 28, 28))\n",
        "\n",
        "for idx in tqdm(range(len(xtest_all))):\n",
        "  if noise_ct < len(xtest)/3:\n",
        "    x = add_noise(xtest_all[idx], noise_type=noises[noise_id])\n",
        "    testdata_all[idx] = x\n",
        "    \n",
        "  else:\n",
        "    print(\"\\n{} noise addition completed to images\".format(noises[noise_id]))\n",
        "    noise_id += 1\n",
        "    noise_ct = 0\n",
        "\n",
        "print(\"\\n{} noise addition completed to images\".format(noises[noise_id]))    \n",
        "  "
      ]
    },
    {
      "cell_type": "code",
      "execution_count": 37,
      "metadata": {},
      "outputs": [],
      "source": [
        "trainset_all = noisedDataset(traindata_all, xtrain_all, ytrain_all, tsfms)\n",
        "testset_all= noisedDataset(testdata_all, xtest_all, ytest_all, tsfms)"
      ]
    },
    {
      "cell_type": "code",
      "execution_count": 38,
      "metadata": {},
      "outputs": [],
      "source": [
        "trainloader_all = DataLoader(trainset_all, batch_size=500, shuffle=True)\n",
        "testloader_all  = DataLoader(testset_all, batch_size=1, shuffle=True)"
      ]
    },
    {
      "cell_type": "markdown",
      "metadata": {},
      "source": [
        "On reprends la même architecture de modèle trouvée avant."
      ]
    },
    {
      "cell_type": "code",
      "execution_count": 39,
      "metadata": {},
      "outputs": [
        {
          "data": {
            "text/plain": [
              "denoising_model(\n",
              "  (encoder): Sequential(\n",
              "    (0): Linear(in_features=784, out_features=500, bias=True)\n",
              "    (1): ReLU()\n",
              "    (2): Linear(in_features=500, out_features=500, bias=True)\n",
              "    (3): ReLU()\n",
              "    (4): Linear(in_features=500, out_features=81, bias=True)\n",
              "    (5): ReLU()\n",
              "  )\n",
              "  (decoder): Sequential(\n",
              "    (0): Linear(in_features=81, out_features=500, bias=True)\n",
              "    (1): ReLU()\n",
              "    (2): Linear(in_features=500, out_features=500, bias=True)\n",
              "    (3): ReLU()\n",
              "    (4): Linear(in_features=500, out_features=784, bias=True)\n",
              "    (5): Sigmoid()\n",
              "  )\n",
              ")"
            ]
          },
          "execution_count": 39,
          "metadata": {},
          "output_type": "execute_result"
        }
      ],
      "source": [
        "best_model_all = denoising_model(**[results[str(j)][\"params\"] for j in range(27) if results[str(j)][\"true_error\"] == min([results[str(i)][\"true_error\"] for i in range(27)])][0])\n",
        "best_model_criterion_all = nn.MSELoss()\n",
        "best_model_optim_all = optim.Adam(best_model_all.parameters(), lr=4e-3)\n",
        "best_model_all"
      ]
    },
    {
      "cell_type": "code",
      "execution_count": 40,
      "metadata": {},
      "outputs": [],
      "source": [
        "testset_all = np.array([testset_all[i][0].numpy() for i in range(len(testset_all))])"
      ]
    },
    {
      "cell_type": "code",
      "execution_count": 46,
      "metadata": {},
      "outputs": [
        {
          "name": "stderr",
          "output_type": "stream",
          "text": [
            "100%|██████████| 100/100 [08:20<00:00,  5.00s/it]\n"
          ]
        }
      ],
      "source": [
        "# true_error_all, losslist_all = train_test(best_model_all, best_model_optim_all, best_model_criterion_all, 100, device, trainloader_all, testset_all)\n",
        "best_model_all.load_state_dict(torch.load(\"model_all\", map_location=device))"
      ]
    },
    {
      "cell_type": "code",
      "execution_count": 47,
      "metadata": {},
      "outputs": [
        {
          "data": {
            "text/plain": [
              "0.014460555579532694"
            ]
          },
          "execution_count": 47,
          "metadata": {},
          "output_type": "execute_result"
        }
      ],
      "source": [
        "true_error_all"
      ]
    },
    {
      "cell_type": "code",
      "execution_count": 48,
      "metadata": {},
      "outputs": [
        {
          "data": {
            "text/plain": [
              "[<matplotlib.lines.Line2D at 0x740c638ab670>]"
            ]
          },
          "execution_count": 48,
          "metadata": {},
          "output_type": "execute_result"
        },
        {
          "data": {
            "image/png": "[encoded data removed]",
            "text/plain": [
              "<Figure size 432x288 with 1 Axes>"
            ]
          },
          "metadata": {
            "needs_background": "light"
          },
          "output_type": "display_data"
        }
      ],
      "source": [
        "plt.plot(losslist_all)"
      ]
    },
    {
      "cell_type": "markdown",
      "metadata": {},
      "source": [
        "On observe que la loss de notre modèle décroit au fil des epochs en se rapprochant de 0. \n",
        "Après 100 epochs, on peut voir qu'on peut potentiellement atteindre une loss plus basse en augmentant le nombre d'épochs. Cependant, c'est un modèle très lourd (toutes les classes sont comprises) et l'entraînement peut prendre plusieurs 10aines de minutes."
      ]
    },
    {
      "cell_type": "code",
      "execution_count": 49,
      "metadata": {},
      "outputs": [],
      "source": [
        "torch.save(best_model_all.state_dict(), \"model_all\")  # We save the model state dict at PATH   "
      ]
    },
    {
      "cell_type": "code",
      "execution_count": 50,
      "metadata": {},
      "outputs": [
        {
          "data": {
            "image/png": "[encoded data removed]",
            "text/plain": [
              "<Figure size 360x360 with 12 Axes>"
            ]
          },
          "metadata": {
            "needs_background": "light"
          },
          "output_type": "display_data"
        }
      ],
      "source": [
        "f,axes= plt.subplots(4,3,figsize=(5,5))\n",
        "axes[0,0].set_title(\"Original Image\")\n",
        "axes[0,1].set_title(\"Dirty Image\")\n",
        "axes[0,2].set_title(\"Cleaned Image\")\n",
        "for i, noise in enumerate([\"gaussian\", \"speckle\", \"salt_pepper\", \"\"]):\n",
        "    clean = xtest_all[50]\n",
        "    dirty = add_noise(np.array(clean), noise, 0.8)\n",
        "    predicted = best_model_all(torch.tensor(dirty.flatten()).type(torch.FloatTensor))\n",
        "\n",
        "    axes[i, 0].imshow(clean)\n",
        "    axes[i, 1].imshow(dirty.reshape((28, 28)))\n",
        "    axes[i, 2].imshow(predicted.detach().numpy().reshape((28, 28)))"
      ]
    },
    {
      "cell_type": "code",
      "execution_count": 51,
      "metadata": {},
      "outputs": [
        {
          "data": {
            "image/png": "[encoded data removed]",
            "text/plain": [
              "<Figure size 360x360 with 12 Axes>"
            ]
          },
          "metadata": {
            "needs_background": "light"
          },
          "output_type": "display_data"
        }
      ],
      "source": [
        "f,axes= plt.subplots(4,3,figsize=(5,5))\n",
        "axes[0,0].set_title(\"Original Image\")\n",
        "axes[0,1].set_title(\"Dirty Image\")\n",
        "axes[0,2].set_title(\"Cleaned Image\")\n",
        "for i, noise in enumerate([\"gaussian\", \"speckle\", \"salt_pepper\", \"\"]):\n",
        "    clean = xtest_all[51]\n",
        "    dirty = add_noise(np.array(clean), noise, 0.8)\n",
        "    predicted = best_model_all(torch.tensor(dirty.flatten()).type(torch.FloatTensor))\n",
        "\n",
        "    axes[i, 0].imshow(clean)\n",
        "    axes[i, 1].imshow(dirty.reshape((28, 28)))\n",
        "    axes[i, 2].imshow(predicted.detach().numpy().reshape((28, 28)))"
      ]
    },
    {
      "cell_type": "markdown",
      "metadata": {},
      "source": [
        "Nous observons que le modèle possédant toutes les classes est capable de reconstituer les images malgré un bruit important. \n",
        "Le précédent modèle n'ayant pas eu d'images autre que 1 et 7 n'était pas capable de reconstituer des images d'autres chiffres. Ici, on observe bien le principe d'apprentissage de représentation via la zone latente, où multiples classes sont apprises par l'encodeur et ainsi reconstituées par le décodeur."
      ]
    },
    {
      "cell_type": "code",
      "execution_count": 52,
      "metadata": {},
      "outputs": [
        {
          "data": {
            "text/plain": [
              "<matplotlib.image.AxesImage at 0x740c6396a5f0>"
            ]
          },
          "execution_count": 52,
          "metadata": {},
          "output_type": "execute_result"
        },
        {
          "data": {
            "image/png": "[encoded data removed]",
            "text/plain": [
              "<Figure size 432x288 with 1 Axes>"
            ]
          },
          "metadata": {
            "needs_background": "light"
          },
          "output_type": "display_data"
        }
      ],
      "source": [
        "plt.imshow(best_model_all.encode(torch.tensor(dirty.flatten()).type(torch.FloatTensor)).detach().numpy().reshape((9, 9)))"
      ]
    },
    {
      "cell_type": "markdown",
      "metadata": {},
      "source": [
        "Il est possible d'extraire la zone latente entre l'encodeur et le decodeur. Cette zone latente est la version la plus réduite de l'image (9x9 pixels contre 28x28 à l'origine). C'est ce type de données qui va permettre au modèle de réaliser l'apprentissage de représentation. Ce type de données sera utilisé plus tard dans l'étude pour faire un Encodeur-CNN : \n",
        "\n",
        "- un classifieur ayant comme architecture encodeur -> zone latente -> input pour CNN -> multi-classification."
      ]
    },
    {
      "cell_type": "markdown",
      "metadata": {},
      "source": [
        "# <span style=\"color:red\">LA SUITE LE CODE N'EST PAS FINIT"
      ]
    },
    {
      "cell_type": "code",
      "execution_count": 279,
      "metadata": {},
      "outputs": [],
      "source": [
        "def train_test_classifier(\n",
        "        model: torch.nn.Module, \n",
        "        autoencoder: torch.nn.Module,\n",
        "        optimizer: torch.optim.Optimizer, \n",
        "        criterion: torch.nn.Module, \n",
        "        epochs: int,\n",
        "        device: str,\n",
        "        trainloader: torch.utils.data.DataLoader, \n",
        "        labels: torch.utils.data.Dataset,\n",
        "        batch_size: int):\n",
        "    \"\"\"\n",
        "    Fonction pour entraîner / tester un modèle.\n",
        "\n",
        "    Parameters:\n",
        "    -----------\n",
        "    model : torch.nn.Module\n",
        "        Le modèle à entraîner.\n",
        "    optimizer : torch.optim.Optimizer\n",
        "        L'optimiseur utilisé pour la mise à jour des poids du modèle.\n",
        "    criterion : torch.nn.Module\n",
        "        La fonction de perte utilisée pour évaluer la différence entre les prédictions et les vraies étiquettes.\n",
        "    epochs : int\n",
        "        Le nombre d'époques d'entraînement.\n",
        "    device : str\n",
        "        L'appareil sur lequel exécuter l'entraînement, par exemple 'cuda' pour GPU ou 'cpu' pour CPU.\n",
        "    trainloader : torch.utils.data.DataLoader\n",
        "        Le DataLoader contenant les données d'entraînement.\n",
        "    testset : torch.utils.data.Dataset\n",
        "        Le jeu de données de test utilisé pour évaluer le modèle après chaque époque.\n",
        "\n",
        "    Returns:\n",
        "    --------\n",
        "    true_error : float\n",
        "        L'erreur moyenne quadratique sur le jeu de données de test.\n",
        "    losslist : list\n",
        "        Liste des valeurs de la fonction de perte moyenne sur les données d'entraînement pour chaque époque.\n",
        "    \"\"\"\n",
        "    model.train()\n",
        "    losslist = []\n",
        "    encoder_output = []\n",
        "    for img in tqdm(trainloader):\n",
        "        encoder_output.append(autoencoder.encode(torch.tensor(img.flatten()).type(torch.float32)).view(-1, 9, 9).clone().detach())\n",
        "    training_data = DataLoader(list(zip(encoder_output, labels)), batch_size=batch_size)\n",
        "    for epoch in tqdm(range(epochs)):\n",
        "        running_loss = 0\n",
        "        for output, label in training_data:  \n",
        "            optimizer.zero_grad()\n",
        "\n",
        "            # Forward pass\n",
        "            output = model(output)\n",
        "            loss = criterion(output, label.clone().detach())\n",
        "\n",
        "            # Rétropropagation\n",
        "            loss.backward()\n",
        "            optimizer.step()\n",
        "            \n",
        "            running_loss += loss.item()\n",
        "\n",
        "        # Calcul de la perte moyenne pour cette époque\n",
        "        losslist.append(running_loss/len(trainloader))\n",
        "\n",
        "    # Calcul de l'erreur moyenne quadratique sur le jeu de données de test\n",
        "\n",
        "    return losslist"
      ]
    },
    {
      "cell_type": "code",
      "execution_count": 288,
      "metadata": {},
      "outputs": [],
      "source": [
        "class CNN(nn.Module):\n",
        "    def __init__(self):\n",
        "        super(CNN, self).__init__()\n",
        "        self.conv1 = nn.Conv2d(1, 1, kernel_size=2, stride=1)\n",
        "        self.conv2 = nn.Conv2d(1, 1, kernel_size=3, stride=1)\n",
        "        self.fc = nn.Linear(1 * 1 * 1, 10)\n",
        "\n",
        "    def forward(self, x):\n",
        "        x = torch.nn.functional.relu(self.conv1(x))\n",
        "        x = torch.nn.functional.max_pool2d(x, kernel_size=2, stride=2)\n",
        "        x = torch.nn.functional.relu(self.conv2(x))\n",
        "        x = torch.nn.functional.max_pool2d(x, kernel_size=2, stride=2)\n",
        "        x = x.view(-1, 1 * 1 * 1)\n",
        "        x = self.fc(x)\n",
        "        return x"
      ]
    },
    {
      "cell_type": "code",
      "execution_count": 289,
      "metadata": {},
      "outputs": [],
      "source": [
        "classifier = CNN()\n",
        "classif_optim = optim.Adam(classifier.parameters(), 1e-3)\n",
        "classif_crite = nn.CrossEntropyLoss()"
      ]
    },
    {
      "cell_type": "code",
      "execution_count": 290,
      "metadata": {},
      "outputs": [
        {
          "name": "stderr",
          "output_type": "stream",
          "text": [
            "100%|██████████| 60000/60000 [00:08<00:00, 7405.07it/s]\n",
            "100%|██████████| 10/10 [00:27<00:00,  2.74s/it]\n"
          ]
        }
      ],
      "source": [
        "losslist_classif = train_test_classifier(classifier, best_model_all, classif_optim, classif_crite, 10, device, traindata_all, ytrain_all, 32)"
      ]
    },
    {
      "cell_type": "code",
      "execution_count": 291,
      "metadata": {},
      "outputs": [
        {
          "data": {
            "text/plain": [
              "[<matplotlib.lines.Line2D at 0x740c51c10b50>]"
            ]
          },
          "execution_count": 291,
          "metadata": {},
          "output_type": "execute_result"
        },
        {
          "data": {
            "image/png": "[encoded data removed]",
            "text/plain": [
              "<Figure size 432x288 with 1 Axes>"
            ]
          },
          "metadata": {
            "needs_background": "light"
          },
          "output_type": "display_data"
        }
      ],
      "source": [
        "plt.plot(losslist_classif)"
      ]
    },
    {
      "cell_type": "code",
      "execution_count": 292,
      "metadata": {},
      "outputs": [
        {
          "name": "stderr",
          "output_type": "stream",
          "text": [
            "  0%|          | 0/10000 [00:00<?, ?it/s]"
          ]
        },
        {
          "name": "stderr",
          "output_type": "stream",
          "text": [
            "100%|██████████| 10000/10000 [00:01<00:00, 6680.35it/s]\n"
          ]
        }
      ],
      "source": [
        "encode_xtest_all = []\n",
        "for img in tqdm(xtest_all):\n",
        "    encode_xtest_all.append(best_model_all.encode(torch.tensor(img.flatten()).type(torch.float32)).view(-1, 9, 9).clone().detach())"
      ]
    },
    {
      "cell_type": "code",
      "execution_count": 293,
      "metadata": {},
      "outputs": [
        {
          "data": {
            "text/plain": [
              "torch.Size([1, 9, 9])"
            ]
          },
          "execution_count": 293,
          "metadata": {},
          "output_type": "execute_result"
        }
      ],
      "source": [
        "encode_xtest_all[i].shape"
      ]
    },
    {
      "cell_type": "code",
      "execution_count": 294,
      "metadata": {},
      "outputs": [],
      "source": [
        "true_error = 0\n",
        "for i in range(len(encode_xtest_all)):\n",
        "    true_error += 1 if ytest_all[i] == torch.argmax(classifier(encode_xtest_all[i].type(torch.float32))) else 0\n",
        "true_error /= len(encode_xtest_all)"
      ]
    },
    {
      "cell_type": "code",
      "execution_count": 295,
      "metadata": {},
      "outputs": [
        {
          "data": {
            "text/plain": [
              "0.1135"
            ]
          },
          "execution_count": 295,
          "metadata": {},
          "output_type": "execute_result"
        }
      ],
      "source": [
        "true_error"
      ]
    },
    {
      "cell_type": "code",
      "execution_count": null,
      "metadata": {},
      "outputs": [],
      "source": []
    },
    {
      "cell_type": "markdown",
      "metadata": {},
      "source": [
        "## Discussion sur les performances de modèles Encodeur-CNN et Encodeur-MLP\n",
        "\n",
        "Après avoir testé notre Autoencodeur de débruitage, nous avons développé des architectures dérivées qui utilisent l'apprentissage de représentation de notre encodeur (nottament la zone latente) afin d'évaluer comment cette zone latente pouvait être utilisée à des fins de classification multiclasse.\n",
        "\n",
        "La première architecture que nous avons considéré est la suivante :\n",
        "\n",
        "```\n",
        " ____________________________________________________________________________________________\n",
        "|                   Classification Encoder-CNN model (simplified version)                    |\n",
        "|____________________________________________________________________________________________|\n",
        "|                                                                                            |\n",
        "|                   Encoder (Input: img_size)                                                |\n",
        "|   Input --> Hidden Layers (ReLU) ... --> Output (latent zone)                              |\n",
        "|                                                                                            |\n",
        "|                   CNN (Input: latent_size)                                                 |\n",
        "|   Input (latent zone) --> Conv2D Hidden Layers (MaxPooling2D) ... --> Output (Softmax)     |\n",
        "|                                                                                            |\n",
        "|____________________________________________________________________________________________|\n",
        "```\n",
        "\n",
        "Le but est que le decodeur CNN puisse utiliser la zone latente pour extraire des informations de cette dernière et effectuer une classification.\n",
        "Les résultats montrent que cette architecture ne permet pas de bien classifier les chiffres dans leur représentation de zone latente. Nous pouvons penser que c'est à cause du manque d'information contextuelle de l'image qui ne permet pas au CNN d'extraire des informations nécessaire à la reconnaissance du chiffre. En observant l'image de la zone latente on voit bien que l'image manque de patterns et d'informations. En effet, les CNN sont conçus pour apprendre des représentations hiérarchiques des caractéristiques spatiales, en commençant par des bords et des textures simples jusqu'à des formes complexes et des parties d'objets. Si les données ne présentent pas cette structure hiérarchique, les couches supplémentaires dans les CNN pourraient ne pas apporter d'avantages significatifs. Une architecture trop complexe comme les CNN serait alors inutile pour ce genre de classification.\n",
        "\n",
        "\n",
        "La seconde architecture que nous avons considéré est la suivante :\n",
        "\n",
        "```\n",
        " ____________________________________________________________________________________________\n",
        "|                   Classification Encoder-MLP model (simplified version)                    |\n",
        "|____________________________________________________________________________________________|\n",
        "|                                                                                            |\n",
        "|                   Encoder (Input: img_size)                                                |\n",
        "|   Input --> Hidden Layers (ReLU) ... --> Output (latent zone)                              |\n",
        "|                                                                                            |\n",
        "|                   MLP (Input: latent_size)                                                 |\n",
        "|   Input (latent zone) --> Linear Layers (ReLU) ... --> Output (Softmax)                    |\n",
        "|                                                                                            |\n",
        "|____________________________________________________________________________________________|\n",
        "```\n",
        "\n",
        "De même que pour l'architecture précédente le but est que le decodeur MLP puisse utiliser la zone latente pour extraire des informations de cette dernière et effectuer une classification. Contrairement à l'étude précédente, les résultats sont très bons. Les MLP sont des réseaux entièrement connectés et peuvent apprendre des relations non linéaires complexes entre les caractéristiques d'entrée. Ils ne sont pas contraints par les relations spatiales dans les données, contrairement aux CNN qui supposent des corrélations spatiales locales dans l'entrée. Dans un espace de petite dimension comme la zone latente, les caractéristiques pertinentes pour la classification ne sont pas facilement discernables au niveau des pixels mais émergent plutôt d'une combinaison de valeurs de pixels, les MLP, grace à leur couches cachées peuvent avoir une meilleure compréhension de l'information, sans avoir a chercher des informations contextuelles. Dans ce cas, l'architecture simpliste des MLP correspond à la nature très simple des données de la zone latente.\n",
        "\n",
        "\n"
      ]
    }
  ],
  "metadata": {
    "accelerator": "GPU",
    "colab": {
      "collapsed_sections": [],
      "name": "DenoisingAutoencoder.ipynb",
      "provenance": [],
      "version": "0.3.2"
    },
    "kernelspec": {
      "display_name": "Python 3",
      "name": "python3"
    },
    "language_info": {
      "codemirror_mode": {
        "name": "ipython",
        "version": 3
      },
      "file_extension": ".py",
      "mimetype": "text/x-python",
      "name": "python",
      "nbconvert_exporter": "python",
      "pygments_lexer": "ipython3",
      "version": "3.12.0"
    }
  },
  "nbformat": 4,
  "nbformat_minor": 0
}
