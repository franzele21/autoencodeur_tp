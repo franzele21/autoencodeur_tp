{
  "cells": [
    {
      "cell_type": "markdown",
      "metadata": {},
      "source": [
        ">**Students : François MULLER et Pierre LAGUE**"
      ]
    },
    {
      "cell_type": "markdown",
      "metadata": {},
      "source": [
        "# Etude Autoencodeur\n",
        "\n",
        "Un autoencodeur est un réseau de neurones utilisé pour la réduction de dimension ; c'est-à-dire pour la sélection et l'extraction des caractéristiques. Les autoencodeurs avec plus de couches cachées que d'entrées courent le risque d'apprendre la fonction identité - où la sortie est simplement égale à l'entrée - devenant ainsi inutiles.\n",
        "Les autoencodeurs de débruitage sont une extension de l'autoencodeur de base, et représentent une version stochastique de celui-ci. Les autoencodeurs de débruitage tentent de résoudre le risque de la fonction identité en corrompant aléatoirement l'entrée (c'est-à-dire en introduisant du bruit) que l'autoencodeur doit ensuite reconstruire, ou débruiter.\n",
        "\n",
        "Une première partie de l'étude se concentre sur ces autoendcodeur de débruitage, l'optimisation de leur architecture et hyperparamètres ainsi que leur capacité à être robuste quand ils sont exposés à de nouvelles données.  Cette première partie se concentre égalmement sur l'importance de l'apprentissage de représentation et les caractéristiques de la zone latente."
      ]
    },
    {
      "cell_type": "code",
      "execution_count": 1,
      "metadata": {
        "colab": {
          "base_uri": "https://localhost:8080/",
          "height": 35
        },
        "colab_type": "code",
        "id": "QbygB5YNKEMJ",
        "outputId": "cfca99ba-bbe3-48ed-9ed1-a5c189ad9469"
      },
      "outputs": [
        {
          "name": "stderr",
          "output_type": "stream",
          "text": [
            "2024-04-09 23:18:25.783438: I tensorflow/core/util/port.cc:113] oneDNN custom operations are on. You may see slightly different numerical results due to floating-point round-off errors from different computation orders. To turn them off, set the environment variable `TF_ENABLE_ONEDNN_OPTS=0`.\n",
            "2024-04-09 23:18:26.042491: E external/local_xla/xla/stream_executor/cuda/cuda_dnn.cc:9261] Unable to register cuDNN factory: Attempting to register factory for plugin cuDNN when one has already been registered\n",
            "2024-04-09 23:18:26.042561: E external/local_xla/xla/stream_executor/cuda/cuda_fft.cc:607] Unable to register cuFFT factory: Attempting to register factory for plugin cuFFT when one has already been registered\n",
            "2024-04-09 23:18:26.108710: E external/local_xla/xla/stream_executor/cuda/cuda_blas.cc:1515] Unable to register cuBLAS factory: Attempting to register factory for plugin cuBLAS when one has already been registered\n",
            "2024-04-09 23:18:26.244828: I tensorflow/core/platform/cpu_feature_guard.cc:182] This TensorFlow binary is optimized to use available CPU instructions in performance-critical operations.\n",
            "To enable the following instructions: AVX2 AVX512F AVX512_VNNI FMA, in other operations, rebuild TensorFlow with the appropriate compiler flags.\n",
            "2024-04-09 23:18:27.286587: W tensorflow/compiler/tf2tensorrt/utils/py_utils.cc:38] TF-TRT Warning: Could not find TensorRT\n"
          ]
        }
      ],
      "source": [
        "import numpy as np\n",
        "from keras.datasets import mnist\n",
        "import matplotlib.pyplot as plt\n",
        "from tqdm import tqdm\n",
        "from torchvision import transforms\n",
        "import torch.nn as nn\n",
        "from torch.utils.data import DataLoader,Dataset\n",
        "import torch\n",
        "import torch.optim as optim\n",
        "from torch.autograd import Variable\n",
        "\n",
        "import json\n",
        "import random\n",
        "from typing import Callable\n",
        "from sklearn.preprocessing import minmax_scale\n",
        "from sklearn.metrics import mean_squared_error\n",
        "from sklearn.model_selection import ParameterGrid\n",
        "import torch.nn.functional as F"
      ]
    },
    {
      "cell_type": "markdown",
      "metadata": {},
      "source": [
        ">Justification des choix des données :\n",
        "\n",
        "Dans le but de mieux appréhender le fonctionnement des autoencodeurs et d'illustrer leur capacité générative, nous avons pris la décision de construire un ensemble de données exclusivement composé d'images représentant les chiffres 1 et 7 (MNIST Digits). Les chiffres 1 et 7 présentent des similitudes marquées dans leur écriture. En introduisant divers types de bruits (dont nous discuterons ultérieurement), il devient possible de constituer un ensemble de données très varié et d'entraîner un modèle robuste. Par souci de performance et de faisabilité logistique, nous avons restreint notre choix à deux chiffres (1 et 7). Cependant, une exploration ultérieure sera proposée, où nous inclurons tous les chiffres du dataset MNIST.\n",
        "\n",
        ">Justification des choix des bruits :\n",
        "\n",
        "Deux types de bruits sont déjà implémentés, à savoir le \"speckle\" et le \"gaussian\".\n",
        "- Le bruit speckle, également appelé bruit de chatoiement, fait référence à toute fluctuation parasite ou toute dégradation subie par une image depuis le moment de son acquisition jusqu'à son enregistrement. Ce bruit illustre un cas concret où l'image est capturée par un appareil numérique puis transmise au modèle, la présence de bruit étant inévitable. Ce type de bruit se distingue par sa capacité à séparer le premier plan de l'arrière-plan, ce qui met en valeur le chiffre tout en le dégradant.\n",
        "- Le bruit gaussien, en traitement du signal, est un bruit caractérisé par une densité de probabilité qui suit une distribution gaussienne (loi normale). Les principales sources de bruit gaussien dans les images numériques surviennent pendant l'acquisition, par exemple le bruit du capteur causé par un mauvais éclairage et/ou une température élevée. Ce bruit uniforme permet au modèle d'être plus résilient dans sa classification car il n'accentue pas le chiffre mais uniformise la dégradation de l'image.\n",
        "- Le bruit \"salt and pepper\", ou bruit sel ou poivre, correspond à une altération aléatoire subie par une image numérique, entraînant la modification de l'intensité de certains pixels (répartis de manière aléatoire dans l'image) jusqu'à atteindre la valeur minimale ou maximale de la plage dynamique du pixel, respectivement 0 et 255 dans le cas d'une image numérique codée en 8 bits. Ce type de bruit permet au modèle de traiter des valeurs extrêmes (0 ou 255).\n",
        "\n",
        "Chacun des bruits sera scalé avec un paramètre `scale` qui permet de modifier l'intensité de la présence du bruit dans l'image. En jouant sur les valeurs de ce paramètre nous pourront créer des données plus ou moins bruitées et donc tester les limites de robustesse de nos modèles ainsi que de leur capacité à apprendre même avec beaucoup de bruit.\n",
        "\n"
      ]
    },
    {
      "cell_type": "code",
      "execution_count": 2,
      "metadata": {
        "colab": {},
        "colab_type": "code",
        "id": "fbKtjNSyKclx"
      },
      "outputs": [],
      "source": [
        "\"\"\"\n",
        "Here we load the dataset, add gaussian,poisson,speckle\n",
        "\n",
        "    'gauss'     Gaussian-distributed additive noise.\n",
        "    'speckle'   Multiplicative noise using out = image + n*image,where\n",
        "                n is uniform noise with specified mean & variance.\n",
        "    'salt_and_pepper' Randomly chosen pixels that are converted in black or white based on a probability.\n",
        "    'scale' : the scale at which the noise is present in the image. It allows to create images with little to no noise and images with a lot of noise (for model robustness).\n",
        "                \n",
        "We define a function that adds each noise when called from main function\n",
        "Input & Output: np array\n",
        "\"\"\"\n",
        "\n",
        "def add_noise(img, noise_type=\"gaussian\", scale=0.5):\n",
        "  row, col = 28, 28\n",
        "  img = img.astype(np.float32)\n",
        "\n",
        "  match noise_type:\n",
        "    case \"gaussian\":\n",
        "      mean  = 0\n",
        "      var   = 0.01\n",
        "      sigma = var**.5\n",
        "      noise = np.random.normal(mean, sigma, img.shape)\n",
        "      noise = noise.reshape(row, col)\n",
        "      img   = img + (noise*scale)\n",
        "      return img\n",
        "     \n",
        "    case \"speckle\" :\n",
        "      noise = np.random.randn(row, col)\n",
        "      noise = noise.reshape(row, col)\n",
        "      img   = img + (img*noise*scale)\n",
        "      return img\n",
        "     \n",
        "    case \"salt_pepper\" :\n",
        "      prob = 0.4*scale # 1/4 is the base probability of a pixel being transformed. It is scaled down or up with the scale parameter\n",
        "      output = img.copy()\n",
        "      if len(img.shape) == 2:\n",
        "          black = 0\n",
        "          white = 1\n",
        "        \n",
        "      probs = np.random.random(output.shape[:2])\n",
        "      output[probs < (prob/2)] = black\n",
        "      output[probs > 1-(prob/2)] = white\n",
        "      return output     \n",
        "    case _:\n",
        "      return img\n"
      ]
    },
    {
      "cell_type": "code",
      "execution_count": 3,
      "metadata": {},
      "outputs": [],
      "source": [
        "mnist_ = mnist.load_data()\n",
        "\n",
        "# selection des chiffres 1 et 7 pour constituer nos jeux de données\n",
        "train_mask = (mnist_[0][1] == 1) | (mnist_[0][1] == 7)\n",
        "test_mask = (mnist_[1][1] == 1) | (mnist_[1][1] == 7)\n",
        "\n",
        "(xtrain, ytrain) = mnist_[0][0][train_mask], mnist_[0][1][train_mask]\n",
        "(xtest, ytest) = mnist_[1][0][test_mask], mnist_[1][1][test_mask]"
      ]
    },
    {
      "cell_type": "code",
      "execution_count": 4,
      "metadata": {},
      "outputs": [],
      "source": [
        "xtrain = np.array([minmax_scale(x) for x in xtrain])\n",
        "xtest = np.array([minmax_scale(x) for x in xtest])"
      ]
    },
    {
      "cell_type": "code",
      "execution_count": 5,
      "metadata": {},
      "outputs": [
        {
          "data": {
            "text/plain": [
              "<matplotlib.image.AxesImage at 0x7795a3294a30>"
            ]
          },
          "execution_count": 5,
          "metadata": {},
          "output_type": "execute_result"
        },
        {
          "data": {
            "image/png": "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",
            "text/plain": [
              "<Figure size 640x480 with 1 Axes>"
            ]
          },
          "metadata": {},
          "output_type": "display_data"
        }
      ],
      "source": [
        "plt.imshow(xtrain[6].reshape((28, 28)))"
      ]
    },
    {
      "cell_type": "code",
      "execution_count": 6,
      "metadata": {
        "colab": {
          "base_uri": "https://localhost:8080/",
          "height": 87
        },
        "colab_type": "code",
        "id": "crPgb8VXOceY",
        "outputId": "ada9c8c1-4bbc-4880-ca46-cfa504885fe9"
      },
      "outputs": [
        {
          "name": "stdout",
          "output_type": "stream",
          "text": [
            "No of training datapoints:13007\n",
            "No of Test datapoints:2163\n"
          ]
        }
      ],
      "source": [
        "print(\"No of training datapoints:{}\\nNo of Test datapoints:{}\".format(len(xtrain), len(xtest)))"
      ]
    },
    {
      "cell_type": "code",
      "execution_count": 7,
      "metadata": {
        "colab": {
          "base_uri": "https://localhost:8080/",
          "height": 191
        },
        "colab_type": "code",
        "id": "7kq9PiLARTic",
        "outputId": "480e62e7-4ed2-4278-c47c-f7770accaad2"
      },
      "outputs": [
        {
          "name": "stderr",
          "output_type": "stream",
          "text": [
            " 27%|██▋       | 3548/13007 [00:00<00:00, 35471.24it/s]"
          ]
        },
        {
          "name": "stdout",
          "output_type": "stream",
          "text": [
            "\n",
            "gaussian noise addition completed to images\n"
          ]
        },
        {
          "name": "stderr",
          "output_type": "stream",
          "text": [
            "100%|██████████| 13007/13007 [00:00<00:00, 41614.75it/s]\n"
          ]
        },
        {
          "name": "stdout",
          "output_type": "stream",
          "text": [
            "\n",
            "speckle noise addition completed to images\n",
            "\n",
            "salt_pepper noise addition completed to images\n"
          ]
        },
        {
          "name": "stderr",
          "output_type": "stream",
          "text": [
            "100%|██████████| 2163/2163 [00:00<00:00, 42832.56it/s]"
          ]
        },
        {
          "name": "stdout",
          "output_type": "stream",
          "text": [
            "\n",
            "gaussian noise addition completed to images\n",
            "\n",
            "speckle noise addition completed to images\n",
            "\n",
            "salt_pepper noise addition completed to images\n"
          ]
        },
        {
          "name": "stderr",
          "output_type": "stream",
          "text": [
            "\n"
          ]
        }
      ],
      "source": [
        "\"\"\"\n",
        "From here onwards,we split the 60k training datapoints into 3 sets each given one type of each noise.\n",
        "We shuffle them for better generalization.\n",
        "\"\"\"\n",
        "noises = [\"gaussian\", \"speckle\", \"salt_pepper\"]\n",
        "noise_ct = 0\n",
        "noise_id = 0\n",
        "traindata = np.zeros((len(xtrain), 28, 28))\n",
        "\n",
        "\n",
        "for idx in tqdm(range(len(xtrain))):\n",
        "  if noise_ct < len(xtrain)/3:\n",
        "    noise_ct += 1\n",
        "    traindata[idx] = add_noise(xtrain[idx], noise_type=noises[noise_id], scale=1)\n",
        "  else:\n",
        "    print(\"\\n{} noise addition completed to images\".format(noises[noise_id]))\n",
        "    noise_id += 1\n",
        "    noise_ct = 0\n",
        "\n",
        "\n",
        "print(\"\\n{} noise addition completed to images\".format(noises[noise_id])) \n",
        "\n",
        "\n",
        "noise_ct = 0\n",
        "noise_id = 0\n",
        "testdata = np.zeros((10000, 28, 28))\n",
        "\n",
        "for idx in tqdm(range(len(xtest))):\n",
        "  if noise_ct < len(xtest)/3:\n",
        "    noise_ct += 1\n",
        "    x = add_noise(xtest[idx], noise_type=noises[noise_id])\n",
        "    testdata[idx] = x\n",
        "    \n",
        "  else:\n",
        "    print(\"\\n{} noise addition completed to images\".format(noises[noise_id]))\n",
        "    noise_id += 1\n",
        "    noise_ct = 0\n",
        "\n",
        "print(\"\\n{} noise addition completed to images\".format(noises[noise_id]))    \n",
        "  "
      ]
    },
    {
      "cell_type": "code",
      "execution_count": 8,
      "metadata": {
        "colab": {},
        "colab_type": "code",
        "id": "D5WxFXykKB0z"
      },
      "outputs": [
        {
          "data": {
            "text/plain": [
              "<matplotlib.image.AxesImage at 0x7795a335a860>"
            ]
          },
          "execution_count": 8,
          "metadata": {},
          "output_type": "execute_result"
        },
        {
          "data": {
            "image/png": "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",
            "text/plain": [
              "<Figure size 432x288 with 1 Axes>"
            ]
          },
          "metadata": {
            "needs_background": "light"
          },
          "output_type": "display_data"
        }
      ],
      "source": [
        "plt.imshow(traindata[5000], cmap=\"gray\")"
      ]
    },
    {
      "cell_type": "code",
      "execution_count": 9,
      "metadata": {
        "colab": {
          "base_uri": "https://localhost:8080/",
          "height": 299
        },
        "colab_type": "code",
        "id": "r1PruBRYUmYZ",
        "outputId": "78712c1a-755a-433a-cc34-4b501a2fad5a"
      },
      "outputs": [
        {
          "data": {
            "image/png": "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",
            "image/png": "iVBORw0KGgoAAAANSUhEUgAAAbAAAAEZCAYAAAD2XXAMAAAAOXRFWHRTb2Z0d2FyZQBNYXRwbG90bGliIHZlcnNpb24zLjUuMiwgaHR0cHM6Ly9tYXRwbG90bGliLm9yZy8qNh9FAAAACXBIWXMAAAsTAAALEwEAmpwYAAA5lklEQVR4nO2debwcRdX3vyc7WchCQghJSDCEQEB2FRQRCMiieeBFUUAQJIjiAviiEsCH5RFFeBFB5ZEHN4ggGFkk+KhBkT0sJqyBEEIggcAlCxASEAIh9f5RPX2rK3fmzkzm3pme+/t+PvdzT09VV1V3n+7qOnX6lDnnEEIIIfJGt3o3QAghhKgGdWBCCCFyiTowIYQQuUQdmBBCiFyiDkwIIUQuUQcmhBAilzRFB2ZmZ5rZr2qdt4yynJltVYuyROchfRGVIp1pTKzRvgMzs+OA04BxwCrgZuAM59zKOjarTczMAeOdc8+2kXYncI1zriaKLNpG+iIqRTrTPDTUCMzMTgMuBL4DDAR2B8YAfzezXkX26dF5LRSNhPRFVIp0pslwzjXEH7Ax8Cbwuej3/sBy4Phk+1zgBuAa/NvTCclv1wT7fBFYDLwK/CewCNgv2P+aRB4LOOBY4AVgBXBWUM6HgfuBlUAL8HOgV5DugK2KHM+dwAmJvDewBPgusCwp61DgYOAZ4DXgzArq/SQwH3gD+G/grkJdSfrxwDzgdWAmMKbe11f6In2p9590pvl0ppFGYB8F+gA3hT86594E/gLsH/x8CF7BBgHXhvnNbCL+hH8BGIF/yxrZTt17AhOAScDZZrZt8vv7wLeAocAeSfrXKjuslM3wxzcSOBv4JXA0sCvwceA/zWzL9uo1s6H4Yz8D2ASvZB8tVGJmhwBnAocBw4B7gOuqbHMjI32RvlSKdKbJdKaROrChwArn3No20lqS9AL3O+f+5Jxb55x7O8r7WeBW59y9zrl38ReyvYm+85xzbzvnHgMeA3YEcM7Ncc494Jxb65xbBPwP8InKDw2A94AfOOfeA65Pjucy59xq59yTwFNl1nsw8KRz7qbkXP0UeCWo56vABc65eUn6D4GdzGxMle1uVKQv0pdKkc40mc40Uge2AhhaxN48Ikkv8GKJcjYP051z/8YP80sRXpx/400KmNnWZvZnM3vFzFbhL9TQtgoog1edc+8ncuGGWBqkv11mvfHxObzpoMAY4DIzW2lmK/GmA6P9N8S8IX2RvlSKdKbJdKaROrD7gTX4YWmKmfUHDgJuD34u9bbTAowK9t8IPwyuhl8AT+O9gDbGD5utyrJqVW98fBZu4xXvK865QcHfRs65WZ3Q7s5E+lJevdKXVqQz5dWbG51pmA7MOfcGcB7wMzM70Mx6mtlYYDq+9/9dmUXdAEw2s48mXkXnUr1CDMBP4r5pZtsAJ1VZTi3r/V/gg2Z2aPIm+XW87bvAFcAZZrYdgJkNNLPDO6ndnYb0pex6pS8J0pmy682NzjRMBwbgnLsI/yZwMf7kPojv7Sc559aUWcaTwDfxNuAWvNfRMvybV6V8GzgKWI2fEP1DFWVUQ9F6nXMrgMOBi/Bmi4nAbJLjc87djHcTvj4xDczFv102HdKX9uuVvmSRzrRfb550puE+ZK41iXlgJX6o/Hydm1NzzKwb/u3xC865O+rdnrwjfRGVIp2pHw01AqsVZjbZzPqaWT/8m9YT+O80mgIzO8DMBplZb1pt1w/UuVm5RfoiKkU60xg0ZQeG/4bj5eRvPHCEa66h5h7AQrzX1GTg0DZcfUX5SF9EpUhnGoCmNyEKIYRoTmo6Aks8e+ab2bNmNrWWZYvmQ/oiKkU6I0JqNgIzs+74mFv74yf8/gUc6Zx7qiYViKZC+iIqRTojYmoZZfnDwLPOuecAzOx6vJ24qHKZXypA1AnnXGd8MFkM6UvOqLO+QIU6I32pOyucc8M6soJamhBHkg2/soTmDEcjaoP0RVSKdCZfLO7oCjp9nRszOxE4sbPrFflE+iIqQfrStahlB/YSMDrYHpX8lsE5dyVwJWiI38WRvohKaVdnpC9di1qaEP8FjDezLZP4YEcAM2pYvmgupC+iUqQzIkPNRmDOubVm9g386pzdgd8kMcOEWA/pi6gU6YyIqeuHzBri15cG8CqrCOlLfZG+iAqZ45zbrSMraNZQUkIIIZocdWBCCCFyiTowIYQQuUQdmBBCiFyiDkwIIUQuUQcmhBAil3R6KCkhhOjKnHXWWam8225ZL/Njjjkmld98881Oa1Ne0QhMCCFELlEHJoQQIpcoEkcdOPvss1P5vPPOK2sfs9oHQVBkBVEJ0pfaED5z161bl0m7+uqrU/nkk09O5ZyaExWJQwghhGgLdWBCCCFyiTowIYQQuURzYJ3Al770pcz2L37xi1Tu2bNn0f1C+3ipfNWiOY3GZPvtt89sT548uWje0aNb13c86aSTUvmGG27I5Dv88MM3uF3Sl9pQag4s5Pjjj0/lcG4sR2gOTAghhGgLdWBCCCFyiSJxdAJjxozJbPfu3TuVS5kQRP7p1atXKp944olF851zzjmp3L9//0xanz59yqorNE199rOfLZrWEZ9kiPLZf//9U3nmzJlF802YMKEzmpNrNAITQgiRS9SBCSGEyCXyQuwg9ttvv1SePn16Jm3w4MGp/NRTT2XSDj744FQOTT2LFi2qcQvlVVaKLbbYIrO9zz77FM07bNiwVP7Wt76VSevWrfUdcfjw4akc33fhta7WxBeWGZf/la98JZV/9atfVVu+9KUGDBo0KJV/+9vfZtL+4z/+o819unfv3pFN6ijkhSiEEEK0hTowIYQQuUQdmBBCiFwiN/oaseeee2a2p02blsoDBw4sut9FF12U2V68eHFtGyZKMm7cuFS+/vrrU3mzzTbL5Bs1atQG1zV37txUfuaZZzJp4bzXww8/nEm77777UvkLX/hCJm3KlClt1nXPPfdktqud9xK1Z+TIkal86KGHlrVPPFcWR/fpqmgEJoQQIpdU3IGZ2W/MbJmZzQ1+G2JmfzezBcn/waXKEF0L6YyoBOmLKJdqTIhXAT8HpgW/TQVud879yMymJtunb3jz8sNxxx2X2R4xYkTRvHfddVcq5zRIZ6VcRYPqTLhQ4NixY1N56NChZZfx+OOPp/KyZcsyaTNmzEjlMMBuS0tL0fJi3QnN0wcccEBZ7bjgggtKtLjhuYoG1ZdaU24knnp+7tTIVDwCc87dDbwW/XwIUHgSXw0cumHNEs2EdEZUgvRFlEut5sCGO+cKr5SvAMNLZRYC6YyoDOmLWI+aeyE651ypL+DN7ESgeFRT0eUopTPSFxEjfREFatWBLTWzEc65FjMbASwrltE5dyVwJTRuqJdyCedJYnfm0La9cuXKTNr3v//9Dm1XTihLZzpaX5YuXZrKoUvzLrvsksn3xhtvpPJLL72USQvnnpYvX77BbQoXMgQ4//zzi+YN5/BOOeWUVA7nWZuEhtAX0VjUyoQ4Azg2kY8FbqlRuaJ5kc6ISpC+iPWoxo3+OuB+YIKZLTGzKcCPgP3NbAGwX7ItBCCdEZUhfRHlUrEJ0Tl3ZJGkSRvYllwQulrffPPNZe3z05/+NLN9++2317JJDU9edCaMeBHKnUG4eOHJJ59cNF9oMgT4y1/+ksrNYjbMi76I+qNIHEIIIXKJOjAhhBC5RB2YEEKIXKJo9BVy0EEHpfIOO+xQNF84z3XppZd2ZJNEDgkjkgPMnj07lfv37190v9tuuy2z/fnPf762DRMiR2gEJoQQIpeoAxNCCJFLZEJsh3jBuQsvvLDNfPfee29m+5hjjknlMIqD6FqEC1UOGDAglV944YWi+WJC1/kf/OAHNWydqAdPPvlkKsdRVs4+++w29ymlH10ZjcCEEELkEnVgQgghcolMiG1QTbSNhQsXZrbDILGi6xKaDcOgzpUsULjbbrul8vz582vSLtEYxHpQbIHLfv36Zbb79OmTyu+8807tG5YTNAITQgiRS9SBCSGEyCXqwIQQQuQSzYG1wdSpU1O5mE065oILLuio5ogcMXDgwMz2HXfckcqhK3Qpt+h4QUvNe4nPfOYzme3LL788lZtlFYJq0AhMCCFELlEHJoQQIpfIhAjstNNOme0DDjigrP1uuaV1VXOZebougwcPTuVQJwC23377VA5dpmP36TC477Jly2rdRCGaEo3AhBBC5BJ1YEIIIXKJOjAhhBC5RHNgrL9I4CabbFI074MPPpjKX/ziFzusTaJxiedMZ86cmcqbbrpp0f3+9re/pfKUKVMyaeG8V7mfboj886c//Smz/bWvfS2VSz2HhEcjMCGEELlEHZgQQohcIhMilQ3Vf/azn6VyuNCgaG523333VL7++uszaaXMhg899FAqn3rqqan88ssv165xIrc8+uijme233347lbt1Kz6+0AKXHo3AhBBC5JKKOzAzG21md5jZU2b2pJmdkvw+xMz+bmYLkv+D2ytLND/SF1Ep0hlRLtWMwNYCpznnJgK7A183s4nAVOB259x44PZkWwjpi6gU6Ywoi4rnwJxzLUBLIq82s3nASOAQYO8k29XAncDpNWllBzBt2rRULmVrjpk1a1ZHNKdpyau+7LPPPpntK664IpXHjBlTdL/ly5dntidPnpzKChFVHnnVmVoQfkJR6nOKyy67LJXDlb4B1q5dm8qTJk2qXeMakA2aAzOzscDOwIPA8ETxAF4Bhm9Y00SzIX0RlSKdEaWo2gvRzPoDNwKnOudWhV4xzjlnZq7IficCJ1Zbr8gn0hdRKdXojPSla1FVB2ZmPfGKda1z7qbk56VmNsI512JmI4A27SXOuSuBK5Ny2nxodQR33nlnZnubbbZJ5XioHg7Bf/7zn2fSli5dWvvGNTl50ZdddtkllS+88MJM2tZbb110vxdeeCGVjzrqqEyazIbVUa3O1Ov50tnssMMO9W5CQ1CNF6IBvwbmOecuCZJmAMcm8rHALfG+oushfRGVIp0R5VLNCOxjwDHAE2b2aPLbmcCPgOlmNgVYDHyuJi0UeUf6IipFOiPKwuKF9Tq18k4c4pc6ztiEuHjx4lT+wAc+0GFtqjfOuVx9zt8R+hJ6CR5//PGpvN9++2Xy9e/fP5WXLFmSSfvmN7+ZynFw1mZC+tLxfOYzn0nl6dOnF80Xek4vWrQok/bcc8+lcp29EOc453bryAoUiUMIIUQuUQcmhBAil6gDE0IIkUsUjV50KeK50IcffjiVQzf6mIULF6Zy7GI/Z86cGrVOdHXuu+++VA6j/nz0ox/N5FuxYkUqH3rooZm0xx57rGMa14BoBCaEECKXqAMTQgiRS7qMCfFLX/pSZnvKlCmpHA/PRdehlNkw5MYbb0zlv/71r5m02K1eiGp55ZVXUvnjH/94HVuSDzQCE0IIkUvUgQkhhMgl6sCEEELkki4TSkqsj0IDwc0335zKoTvyJZdcksl38cUXp3JLSwtdEemLqBCFkhJCCCHaQh2YEEKIXCITYhdGJiFRCdIXUSEyIQohhBBtoQ5MCCFELlEHJoQQIpeoAxNCCJFL1IEJIYTIJerAhBBC5JJ6R6NfAbyV/K83Q+la7RjTCXXUmhXAYrretWqPzmiH9GXD6Wrt6HCdqet3YABmNrujvxVQO5qLRjlHakc+aJTzo3bUHpkQhRBC5BJ1YEIIIXJJI3RgV9a7AQlqR35olHOkduSDRjk/akeNqfscmBBCCFENjTACE0IIISqmrh2YmR1oZvPN7Fkzm9qJ9f7GzJaZ2dzgtyFm9nczW5D8H9wJ7RhtZneY2VNm9qSZnVKvtuSBeulLUnfddUb6Ujl6xjS3ztStAzOz7sDlwEHAROBIM5vYSdVfBRwY/TYVuN05Nx64PdnuaNYCpznnJgK7A19PzkE92tLQ1FlfoDF0RvpSAXrGAM2uM865uvwBewAzg+0zgDM6sf6xwNxgez4wIpFHAPPrcE5uAfZvhLY02l+99aURdUb60tg602j60ow6U08T4kjgxWB7SfJbvRjunGtJ5FeA4Z1ZuZmNBXYGHqx3WxqURtMXqON1kr6URaPpjJ4xNUZOHG3g/GtJp7lnmll/4EbgVOfcqnq2RVRHZ14n6Uv+0TOmNtSzA3sJGB1sj0p+qxdLzWwEQPJ/WWdUamY98Yp1rXPupnq2pcFpNH2BOlwn6UtFNJrO6BlTY+rZgf0LGG9mW5pZL+AIYEYd2zMDODaRj8XbijsUMzPg18A859wl9WxLDmg0fYFOvk7Sl4ppNJ3RM6bW1HMCDjgYeAZYCJzVifVeB7QA7+Ht4lOATfDeOAuAfwBDOqEde+KH7o8DjyZ/B9ejLXn4q5e+NIrOSF/yozONoC9dQWcUiUMIIUQukROHEEKIXKIOTAghRC5RByaEECKXqAMTQgiRS9SBCSGEyCXqwIQQQuQSdWBCCCFyiTowIYQQuUQdmBBCiFyiDkwIIUQuUQcmhBAil6gDE0IIkUty2YGZ2V/N7Nj2c3YuZvZxM5vfAeUuMrP9al2u2HDM7Ekz27vGZZ5rZtfUskxRmlL3WL3uPzPbwszeNLPuNS73TjM7oZZl1ouyOjAzO8LMHjSzt8xsWSJ/LVlrptNxzh3knLu61uWa2XFm5szsu9HvS8p5SDnn7nHOTah1u0phZleZ2fmdWWdHYmZ7mtksM3vDzF4zs/vM7ENB+pZmdpeZrTazxWb2xTbKcImuvmlmL5nZJcUeAkneJ8ysW/Db+WZ2VTntdc5t55y7s/IjrQ4z29vMlnRWffWgPR3IC8m1cmb239Hv95rZce3t75x7wTnX3zn3foc1MiJvL0/tdmBmdhpwGfD/gM2A4cBXgY8BvTq0dfXhNeC7Zjag3g3papjZxsCfgZ8BQ4CRwHnAmiDbD4FFSfpHgKeKFLejc64/MAk4Cvhyiao3xy92KOpMmTqQJ94CjjGzsfVuSDNSsgMzs4HAfwFfc87d4Jxb7TyPOOe+4Jxbk+T7lJk9YmarzOxFMzs3KGO9N8ZwSG5mHzaz2cm+S83skuT3PmZ2jZm9amYrzexfZjY8SUuHwGY2zsz+meRbYWbXmtmgqK5vm9njyRvdH8ysT4nDngfcD/zfIuekt5ldamYvJ3+Xmlnvto7VzE5PRgCrzWy+mU1Kfu9mZlPNbGHS7ulmNiTY75hkdPGqmZ1V6hpFbRubvPF9KbkOr5vZV83sQ8nxrzSznwf52zt3uyTXdbWZ/TE5d+cH6Z82s0eTcmeZ2Q7ltrUIWwM4565zzr3vnHvbOXebc+7xIM97wBLn3HvOuVecc7NLFeicexq4B9i+RLaLgPPMrEdbiWb2H+ZNhSsT3ds2SGtXl5O03ZNztNLMHrNgRG/ZUeXfgaGljilq253mR4yzzI84bzWzTZJruSq5b8YG+S9LdGOVmc0xs48HaRuZ2dWJ3swzs+9G+ry5md1oZsvN7HkzO7ncdlZASR0wbyW5z8x+ntzPTxfuqyR9oJn92sxaknvvfAtG32b25eTYVpvZU2a2S9wAM9s2Ob4j20gree+2wUrgKuCcthKT8r6X3O/LzGya+edueD/3CI79uaTtz5vZF4Jyjk+O63Uzm2lmY4K0/ZPz9EZy/5dtOUvq/5qZLUjq/X7y3JiV6NB086tdY2aDzezPiX68nsijgrK2NLO7k3L+YWaXWzDaK3WPFKWd1TwPBNYCPdrJtzfwQXyHuAOwFDg0SFsS5V8E7JfI9wPHJHJ/YPdE/gpwK9AX6A7sCmycpN0JnJDIWwH7A72BYcDdwKVRXQ/h37KH4DuorxY5juOAe4GdgNdJVinFr6i6dyL/F/AAsGlS3yzg+/GxAhOAF4HNk+2xwLhEPiUpY1TS7v8BrkvSJgJvAnslaZck12C/Im2+Cjg/qMMBVwB9gE8C7wB/Sto7ElgGfKK9c4cfXS9O2toTOAx4N6hr56SsjyTX59jkXPeudnVVYGPgVeBq4CBgcBt5vol/Gz+wRDkO2Co4n68AU0rkHQ/MCXTqfOCqRN4a/xa9f3Ievgs8C/SqQJdHJsd1MP4e2T/ZHhbsd0lyHfYCVgPXlLjXlgTbdybtGQcMxI9InwH2A3oA04DfBvmPxq/G2wM4LTk3fZK0HwF3AYPxuvk4rfrcLTlHZye68QHgOeCAaq93NTqAv0fXAt9KrsfngTdovVdvxt9P/fA6/xDwlSTtcOAl4EP4h/hWwJjwOgK7AC8Any7yvCp67xa7VnjL1SpgQvL7vcBxiXx8cv0+kOjMTcDvovu5R3I8YRkjgO0S+ZCkjG2TvN8DZiVpQxN9+mxyvr6VnL8TirT5XALdS+q/Jbku2+HvvduT9hb07dgk7ybAZ/DP7AHAH4E/BWXdD1yc6M+eyfFcU849UlRf2lGmo4FXot9m4d8q3gb2KrLfpcBP2rrh2lCIu/EmgqFRnuOTunZoo/w7S1yAQ4FHorqODrYvAq4osu9xwL2JPB24MJHDDmwhcHCwzwHAovhY8TfHMvxN0TOqZx4wKdgegR9Z9MA/IK4P0vrhO45KOrCRQfqrwOeD7RuBU9s7d/gH6UvgV+0ObrxCXb8g6biD9PkknWO1f/ib8KrknK8FZgDDk7SPAc8Dn0jSDwzO9YpCW5NzsAr/ErIQ3yF1K1KfS/Y/GN9h9yLbgf0nMD3I3y05LwV9WET7unw6yUMp+G0mvtPfIjnOfkHa76msAzsr2P4x8NdgezLwaInz/Tre3ApRhwScQKs+fwR4Idr3DILOsVZ/7ejAccDLkV4+BByDn95YA2wUpB0J3BGc81OK1LkouXbpvR6lFa5x0Xu31LXCP3f+ENxHxyXy7XgLV2GfCbQ+C8aS7cBW4juIjaJ6/krwgpbo6L+BMcAXgQeCNEuOsZIO7GPB9hzg9EjfLi1S1k7A64lc0PO+Qfo1tHZgRe+RUrrS3hzYq8BQC0wrzrmPOucGJWndAMzsI2Z2RzJ0fAM/R1auGWQK/i336cTc8enk998lB3C9eVPdRWbWM97ZzIab2fWJuWBVclLiul8J5H/j33Ta42zgJEvMlgGb4x90BRYnv2Vwzj0LnIpXiGVJGwv5xgA3J0Pllfib4n38Dbg5fuRWKOct/LmuhKWB/HYb2/2h3XO3OfCSSzQp4cVAHgOcVjiG5DhG08a5qATn3Dzn3HHOuVF4s9/m+BcigG8AVzrn7gL+D/A7MzsQ37HdEbV1F+fcYOfcOOfc95xz69qp9y/4G/srUVLmeiflvIh/Y4wppstjgMOjc7Un/uG3Of4mfysoJ9SvcijregOYN6fPS8xJK/Fv0eE1D69xfL03j47hTLzO1pR2dADW18vCPTgGP8poCdr4P/iRGHj9XFii6q/iRy53lshT6t4txYXAAWa2Y/R7W8+THnF5iX58Pmlji5n9r5ltE7TpsqBNr+E7qpGs/zxxZK9rOZT7POlrZv+TmENX4V/oBiUm3M2B15xz/w72jfWr2D1SlPY6sPvxbzSHtJPv9/i3pNHOuYF4E1bBzvoWfkhJcpDd8eYqAJxzC5xzR+KV7ELgBjPr5/wcx3nOuYnAR4FP498mYn6If0v4oHNuY/yocYO9I52fO7kJiOegXsaf7AJbJL+1VcbvnXN7Jvkd/vjAX7iDnHODgr8+zrmXgBb8jQZ4pcAPzTuCUueuBRhplvE0HR3ILwI/iI6hr3Puulo1LrkGV9E6f9UD/4DCOfcv/A19Pf4l4f/VoMqz8A/lvsFvmeudnI/R+FFY3N42dRl/rn4Xnat+zrkf4c/z4CRfgS1qcCzrYX6+67vA5/CmuUF481t4zUcFu8TX+/noGAY45w7uiLYWaEMHYH29LNyDL+KfV0ODNm7snNsuOIZxJar7KrCFmf2kRJ5S926p43gV3wl/P0pq63mylmwnUShjpnNuf/xD/Wngl0GbvhK1aSPn3CzWf54Y2etaS07DjyA/kjxP9ipUm7RjSPI8KxDrV7F7pCglOzDn3Er8sPq/zeyzZjbA/KTjTvghbYEB+N71HTP7MN7rq8AzQB/zjh498fbZ3oVEMzvazIYlb7Yrk5/Xmdk+ZvbBpMNbhR9Wt/UWPQA/Z/SGmY0EvlPqmCrkPOBLwKDgt+uA75nZMDMbih+pred2amYTzGxf8w4e7+DfVArtvwL4gSUTrUlZhZeEG4BPm3cl7oWfc+uo7/VKnbv78W+W3zCzHkn7Phyk/xL4ajL6NjPrl1zjqr03zWwbMzvNkolfMxuNNwE9kGT5I3Cyme1l3u29BW/e2Qx/028QyZv3XLxpr8B04FNmNinR39PwD8lZbbS/TV3G68dkMzvAzLqbd1Da28xGOecWA7PxTiS9zGxPvNmvIxiAP0/LgR5mdjZ+biM81jPMT8aPxI94CzwErDbvmLRRchzbW43d28vQAfAvCCebWU8zOxxvcvyLc64FuA34sZltnDyrxpnZJ5L9fgV828x2TXR2KwucHfBzRQcCe5lZsQdnqXu3PS7Bv4xvG/x2HfAt8w4O/fEvlX9wzmX02by15JDkRWcN/r4NnydnmNl2Sd6ByXkB+F9gOzM7zLwl7WT8/dIRDMA/51aad2w5p5AQ6Pm5iZ7vQVbPi94jpSps98HonLsI75H3XfxbwVL8sPx0Wm/irwH/ZWar8Q/06cH+byTpv8K/tb6FN9UUOBB40szexLvrH+Gcext/km/Ad17z8JPLv2ujiefhJ17fwF+sm9o7pnJxzj2f1Bl21ufjL8TjwBPAw8lvMb3xk+Ir8CbMTfFzBuCPcwZwW3LOHsDPMeCcexL4On5U24Kfo+io736Knjvn3Lt4x40p+Ifx0Xj35jVJ+my8a/rPkzY+i5+f2BBW48/Dg2b2Fv68zMV3GjjnpgNTgSuTvDfjdfE7wJ/NrBYjl+/hnX1I6pyPP/af4a/lZGBycn5i2tRl59yLeCvGmfjO48WkzYX776jkuF/D3/TTanAcbTET+Bv+pXIx/sUqNOP8F17Xngf+gb//Ctf7fbwVZKckfQX+nh5Y4zaW1IGEB/GONyuAHwCfTUY44K00vfDOBa8nxzAiOYY/Jvl/n9TzJ4JrneRZiXcgOMjM4tESlLh328M5two/FxbW+Rv8M+Zu/Hl9B++oFNMN/xx+Ga8nnwBOSsq9GT/iv9686W4u3gEG59wKvPPKj/BTEeOB+8ppbxVcCmyEvy4P4HUt5AvAHkk7zgf+QKt+tXePtElh0luIdjGzB/EOML+td1tEx2NmJ+E74U+0m7mTMP8B8AmJaV7kGDP7A/C0c+6cdjMXIZehpETnYGafMLPNEhPisfhPJOK3KtEkmNkIM/tYYnqbgB/13FzvdonmwPz3qOMS/ToQP+L604aU2eaHm0IkTMCbg/vhXaw/m8wziOakF94kuyXebHw98N+ldhCiAjbDT1NsgjdVn+Sce2RDCqypCTHpVS/Df9j6q/Y8SETXRvoiKkU6I0Jq1oEl3oLP4CdAlwD/Ao50zhWLVSe6MNIXUSnSGRFTyzmwDwPPOueeSzy0rqf978dE10X6IipFOiMy1HIObCRZl9wltONe2qNHD9erlw9o361bti99991WL2WLVm0J83bvnl0lI8y7bt26Nn8HCEeecRlr1qwpmtazZ2swkLDMt99+m2IUjrHA+++3ro7w3nvvZdJ6904/kcu0MW5/KcIye/TIXuJC3e+99x7vv/9+XZbDSahYX8ys5i6zu+66ayrPmTOn1sXXhLCNMZ3ZZudcPfUFKtSZPn36uP79ywm6IzqCV199dYVzblj7Oaun0504zOxE4ETwncGECX75rL59+2byLVq0KJX79MkGjw+3N95440xa+MB+55132vwdYO3a1u8EBw8enElbsGBBKg8aNCiTtummm6byRhttlMqPPfZYJl/Y+YwZMyaTtmrVqlRuacn6RIwb1xooIOzE4/aX6tyWLVuWyvGxrVy5EoAlS/KxpFSoLx3B7NmtwewreUnoTMI2xjRqm+tFqC/9+vXjU5/6VJ1b1HWZNm1apSHRKqaWHdhLZEODjKLtcDtX4j9EZaONNnKFjiTsDADGjx+fysuXL8+kDR3aGurw5ZezUZzC0UfY+bz55puZfEOGtH5L+NZbb2XSRo5sDXO3dGk2ostLL7UeUtgxxR1wWP4bb7yRSQs7n7AuyI4an3322TZ/h2xHOnbs2ExaOGoMywDYZhsfPi0+rjpQsb6UGoFVO1oN85aaDy63zLiMYvuVm6/aupu0Y2tXZ0J9GTp0qD5ybXJqOQf2L2B8EhKlF36BwBk1LF80F9IXUSnSGZGhZiMw59xaM/sGPlxNd+A3SVgkIdZD+iIqRTojYmo6B+b8khR/qWWZonmRvohKkc6IkLpG4ujdu3c6jxTOLQG88krrEl477JBdqT503AgdIiDr4PHvf7cuPRPPc2255ZZFywgdPDbbLBu4OfRQLNYmgNWrV6dyPAcWekYNH55dRiic7wvntmJvxbDMF154IZMWnoNRo7LBnAtzgfGcWjNRyfxSsXxxGeXOL1VTVyXlV1KmEM2OYiEKIYTIJerAhBBC5JK6mhDffffd1HRY+B6sQOj2Hn7XBFlzY2jug+y3X/36tS7jtckm2UWN77///lSOTZRh+QMHZpc7Ct3eQzNnWBdkP1aOv2MLefHF7Ore4QfR4acF4QfUAJtvvnkqh6bSOG987grEJsm8U2vzWSkTXyUmylqYHruAe7wQVaERmBBCiFyiDkwIIUQuUQcmhBAil9R1Dsw5l85hxbH5wnmdeB4qnPcaMGBAJi2cbwrnguK5ptB9PY41t+eerauVx3NIYYzGMD5hHHMwjHEYp73++uupHLrzQ9b9PgwDte2222byhaGqYjf68FjjMFOFzwBWrFhBV6QWoZ4qWYKo2H61CndVzZxYLcoQ1RM+z+LPb8IQb2EsVNE2GoEJIYTIJerAhBBC5JK6mhDNLDXDvfrqq5m0ESNGZPKFhOa/eB2uwnIhkI2wEUawh6yJMqwLsia50FQHsMcee6RyuIRKHO0+XNcrdqP/5Cc/mcqnnXZaJi1sc+jO/+1vfzuTb9iw1mV2QrMjZD8liE2Fhcgn8fIsXYVy3dWrLaMj9itVRrE21yJaSFj+brvtVvY+ojRPPPFEKk+aNCmTts8++6Ty3/72t1SWmbdtNAITQgiRS9SBCSGEyCXqwIQQQuSSurvRF+ZrwtWTITt3E7uahsRR7MM5sXBuK56jCufKtt5660xaOKcUh4h65JFHUjluc0jY5tAtH+Cwww5L5dDdPiacR4tDZj3//PNF2zh6dOuitWG4K4DXXnutzfLyTi1WU26UeYb4WM4888xU/uEPf1jz8kPic9Ao56SZuPPOO1N5r732yqSF92X4CczixYs7ulm5RCMwIYQQuUQdmBBCiFxSVxNiz549U3PXrFmzMmnbbbddKscu32GEim222SaTFpoQQ9f8vn37ZvKFru1xpI+FCxemcmjGg+JR4ONoGBMnTixafhiJI25/GOkjjOARusZD9pzEC2aG0UPC6PnQaj5qNtNQucdTboSNStztS0XKCPXnxBNPLFrmOeeck8rxtS7XbFhtxPxiZVSynyif8JOYBQsWZNLCZ1bB3A/rr0YhPBqBCSGEyCXqwIQQQuSSui9oWfCuiQNX9urVK5Vjk0opk02xBRzDBSYh670YezmGC0nGXoJh2ltvvZXKm222WSZfaLoLzYmQ9S6KTQhTp05N5XXr1qVy6FkIWfNiaJIEePTRR1M5XqyzEMy3W7eu8+5STRDdLbbYIrMdRkiICU1CL7/8ciYt9B4LI8iUMtXF16YaD8tY36sNJKxIHLUn9IgOdQJg/PjxqRw+E0PvZ9FK13mKCSGEaCrUgQkhhMgl6sCEEELkkrq70W+66aYA9O/fP5MWuqjHLvCjRo1K5Xi+ICwnjEC/fPnyTL5w3iusK66vVMSK0H4dutcDHH300am83377ZdLCzwAuv/zyTFro3h/ayuO5uNA+Hs8fhvNeYcQRaJ3/qGRRxrxTTQT6UpEPyo0IHzN37txUfuaZZ4qWGZe37777pvI///nPsuq+6667Mtt77713We2V23zHEz5TjjzyyKL5fvKTn6Ty5MmTM2kzZ86sfcNySMUjMDP7jZktM7O5wW9DzOzvZrYg+T+4VBmiayGdEZUgfRHlUo0J8SrgwOi3qcDtzrnxwO3JthAFrkI6I8rnKqQvogwqNiE65+42s7HRz4cAeyfy1cCdwOntlWVmaaSC2NQVbocmQ4B58+al8pZbbplJ22STTVI5NNPErvKh+a/gWl4g/Oo9jgISml/CxSdjN+vQDTte0DJ0iY3d6MMyw8U0u3fvnskXutjH0UJKLeQZ7tdZ1FJnak34+UNo4ovPW0hsgnv88cdTOf6MY8aMGal8ww03pHKpIM5x+XfccUcqL1myJJMW3hvhAqsXXHBB0fJjSpkv62FSbGR9qQXh/XrFFVdk0o444ohUPuWUU1L52muv7fiG5ZBaOXEMd84V7shXgOGlMguBdEZUhvRFrEfNvRCdf4UrOktsZiea2Wwzm/3ee+/VunqRQ0rpTKgvndws0aCUqy9xAATRfNSqA1tqZiMAkv9th8MAnHNXOud2c87tpgCVXZqydCbUl05tnWg0KtaX2HQvmo9audHPAI4FfpT8v6Wcnd555x2efvppAIYNG5ZJC8MtxYsyhmGVwkUrAebMmZPKBRd9WN+2v3Tp0lSO5ztCV/wwMj1kF48M598OP/zwTL5wQc4HHnggk3bLLa2nJ3bhLxbiKQytBTBmzJhUDt3yIRuRP55bLLjwxqGG6kBVOlNrYt0qh/iziH/84x+pXK7Lfql8lbjph59ahHMm4aKJcZk5dZVvCH2pNVtttVVmO5yPD+c7w7B1opVq3OivA+4HJpjZEjObgleq/c1sAbBfsi0EIJ0RlSF9EeVSjRdisS/vJm1gW0STIp0RlSB9EeVS90gcBRPg888/n0kLF3qMXdlD091zzz2XSQvNhvPnz0/lcePGZfINGjQoleMFIcO00GQI2YgbJ5xwQirHpoDQRHnxxRdn0m677bZUDt3+AVavXp3KoZNLHBEkjEAfRtYH2HnnnVP5iSeeyKTtsssuwPpR0/NOtZFFOtOcVqquCRMmpPLdd99dNF9oMgQYMGBAxXWVcpXPqXkxV4Sfx4Ru8wCHHXZYKl944YWpvPXWW2fyhZ8SdWUUC1EIIUQuUQcmhBAil6gDE0IIkUvqOgfWrVu3dI5pu+22y6QtWrQolT/wgQ9k0sIwPHEoqdA9PJw7K7UCcbjKMmTnnj74wQ9m0sLQPaEtO3ZlD0NE3XPPPZm0MFp8qU8ESn2IGYaEiuffwpBIcZT/gmtuHME+75Q7d1PtXFkpF/hqot3H4dHC+dpwHjcuv9z2VxsSqhFCSTU74Txm/C3sySefnMoHHHBAKsfPEOHRCEwIIUQuUQcmhBAil9TVhLhmzZrUDX633bKRgkKTXxxBPYxeEX+hHpoNS0VsD7djc1oYzT2MeAFw3HHHtdnGMPIGwLRp01I5jCoCWdNjbLIJjy2MMhK7yod1x2nhfrH7fcHtOo5u30w0khms1nXvuuuume1ips1q65XJsON59dVXU/nWW2/NpP34xz9O5TDCy1FHHZXJ9+KLL3ZQ6/KFRmBCCCFyiTowIYQQuaSuJsQ+ffqkHnRx0NlCkF/IRuWArJkwjtLx2muvtVlX7O0Xev+Enn+QNS+efnp2zbzQxNK3b99Ujr2EwoUNY0+j0NwYtz8k9GQcP358Jm358uWpHEfzCKOAxMGOCybXBgjmWzG77rors2f7VVVKBbytVVpItUF6w7Ricnvlhzz88MNV7VcujWR+7QrE13PHHXdM5fC5MX369Ey+8LmRx3u5VmgEJoQQIpeoAxNCCJFL1IEJIYTIJXWPxFGIFBFHox84cGAqx3NI4XYYlQOyc0Ph3FaxqN2QjQAP8OUvfzmV44Ukw4gbYYT7cJFKyNqlQ7f5uM1bbLFFJu2RRx5J5diFPyR0o49t4OGcWLwqbWH+rdqIFPVkzpw56ZxMJXM1pSJZFEurZFHJkFBvIXs9w1UCqp1vqwXVLKYZf+YiasNmm22W2Q7ntsLn3AsvvJDJF66Y0ZXRCEwIIUQuUQcmhBAil9TVhPjuu++mX5THC1Nuu+22qfzoo49m0sIoEnGw3TAQ79tvv53K8ZA7dFGPoxuEdYeRMSA7xP/zn/+cyrEJNIyAEX55D9nPAuIoGqELfxjMN/7MIDRLxtFIQrNkeD6gNXBx6GqfF6p1ow+phakxZvDgwakcL466/fbbt1lmHFy6VFoYUaaz3dzlRt+xxEHMw89xCovPQulpiDVr1nRQ6xofjcCEEELkEnVgQgghcok6MCGEELmk7tHoC3NRsZtuOOcTzwmEC1yGc1mQnTcKXcjjuYmhQ4em8ne+851MWhgGKo7aHs53/PKXv0zljTfeOJMvnMtavHhxJi08nnhOI0wr5SobhqOKI86Haa+//nomrVBmHsPPVOtGX64LfLnzPTvttFNme+bMmakcL0ZZjM0337yquqsNaSUak9tuuy2z/Y1vfCOVw09z4pBz4TNw3rx5HdS6xkcjMCGEELlEHZgQQohcUlcTYt++fVMX9tjkES4yGUdbD9PiL9njyBwF4gUtw8gcccT20O09NvX8/ve/b7P8eIgftiM0V0I28kc8/J80aVKbZcausqG5KDY1Llq0qM180Hqe82hCDOnsBRt33333VL7//vs3uO5yI4KUKqNW5Vf7+YDYcOLFeu+4445UDk3Vw4YNy+T76U9/msrhqhhdjYpHYGY22szuMLOnzOxJMzsl+X2Imf3dzBYk/we3V5ZofqQvolKkM6JcqjEhrgVOc85NBHYHvm5mE4GpwO3OufHA7cm2ENIXUSnSGVEWFXdgzrkW59zDibwamAeMBA4Brk6yXQ0cWqM2ihwjfRGVIp0R5bJBc2BmNhbYGXgQGO6cK0z8vAIMb2//bt26pa7ucbiocI4qngMrhJ8CGDt2bNH93nzzzVQOXcsBTjnllFSOw0WFUeZj9/hwZeew7jjUU+ja/swzz2TSdthhh1QePjx7msJo93Fk85Bwbq5fv36ZtPBY43NXmN+rRzT6DdWXUqGk2qm30qay7777ZrYfeOCBsvYLV0OA9ecuirWp1i7wtQin1QhsqM7kjXB+PwxDduWVV2byhc+QOJRc+BlQ3ue626NqL0Qz6w/cCJzqnFsVpjl/N7b5hDSzE81stpnNDi+WaG5qoS9x5yCam2p0JtSX8JtQ0ZxU1YGZWU+8Yl3rnLsp+XmpmY1I0kcAy9ra1zl3pXNuN+fcbvFaW6I5qZW+FBvNiOajWp0J9SVeC080HxWbEM3bGH4NzHPOXRIkzQCOBX6U/L+ljd0zrF27NjW5xK7shYUuYf3F3MKOLx7FhS6loRv6eeedl8kXRrFfsmRJJi1sy7333ptJCxcoDN3hwwjzADvuuGMqx9How4XqYhf78NjCB3YctT40o8ZutOEnA3EEkkLeOLpJR1FLfSkViSOqs6q2htG/L7zwwkzahz70oaLlh5FW4gVKy10wszPd3Ktx4e/MBS1rqTN5I5waCM3WRx11VCbfa6+9lspPP/10Jm3u3LmpHE8hNBvVzIF9DDgGeMLMHk1+OxOvVNPNbAqwGPhcTVoo8o70RVSKdEaURcUdmHPuXqDYa9+kIr+LLor0RVSKdEaUS10jcaxbty71AIwXXgy9+OJIE6H5K/YuDD33Xn755VSOTZSh587IkSMzaaG57qSTTsqkhcFax48fn8rhkD4uPzQnwvqLX4asWtU6V/3YY4+l8s4775zJF9r34ygjYVtiE2XBsyn0pswjtfKWmzx5cirfeuutqRwuatoeodmwFt6FtfASLGUm7GgPTlE9oQfh5z7XOsB86KGHMvkOPvjgVI6dm8JAv/EUQrOhWIhCCCFyiTowIYQQuUQdmBBCiFxS1zkw51xqq4/noULbbRyRInR7j7/1CG324VxZ/FFjOCcWusND1pU1nkMKF7QMF7sMI4BANgpI7AIfusrHcwzhcYcR0OP2h9vxfEfY5vhbu4K9PF4EM29UG829WhYuXJjKX/7ylzNpset8sXZ1JpUs8Fnt/JioPc8991wqn3nmmakcr7oRzr/PmjUrkxbOozc7GoEJIYTIJerAhBBC5BKrR1DXAr1793YFU14YzQBgq622SuXYTBjmjSMEhC6loTtpbOLbc88925QhG5g3jsgQuu0vWLAglSdMmJDJFw7jQ3MiZIMHx8GCw+C+oSt+HDkjjL4Ru+WHxxoHOy4soNnS0sKaNWtyZS8ysw1W1lro++jRozPbcSSXcuru6GC+5bYjph3TY670ZejQoe5Tn/pUvZvRZZk2bdoc51yHhnDRCEwIIUQuUQcmhBAil6gDE0IIkUvq6kbfo0ePNOJ6GH0eshHb4wUbQzf3OIzKkCFDUjmMHL/llltm8l133XWpfO6552bSwtBP8fxGGP0+nAsJQ8BAdo4qDucStj9ecC4MqRXO/cULZhZz54fsuYxDRhXOa1d1l46P++abb07lQw89NJUvueSSTL6LL744lVtaWthQahFVvlq66rUXzYdGYEIIIXKJOjAhhBC5pK4mxLVr16aR09etW1c035NPPpnZDk1r4cKUkI1AH0Zpj6PFh6bGUaNGZdIWLVqUynG7QpNluF/BPb3A3nvvncqxq3wYRSMuPzRRhq748aKV4acE8YKZ4eKL4cKX0BrZPzxPzUYl5rnQbNjRprVaRAvpCNNjZ7rwC1FLNAITQgiRS9SBCSGEyCXqwIQQQuSSus6B9erVK51Hit3Vw9BJ48aNy6SFIZbiyMthWujmHoZvissPQ0IBTJw4MZXjlaJ79Gg9ZU888UQq77vvvpl8YZnxisnhnEM4Fxe3c8yYMakcH2c4Dxi2CWD+/PmpHEfyL8zhxe77zUQe5nGqDSVVbpR5rbosugIagQkhhMgl6sCEEELkkrpGozez5cBbwIr28nYCQ+la7RjjnBvWCfXUjERfFtP1rlV7dEY7pC8bTldrR4frTF07MAAzm93RIffVjuaiUc6R2pEPGuX8qB21RyZEIYQQuUQdmBBCiFzSCB3YlfVuQILakR8a5RypHfmgUc6P2lFj6j4HJoQQQlRDI4zAhBBCiIqpawdmZgea2Xwze9bMpnZivb8xs2VmNjf4bYiZ/d3MFiT/B5cqo0btGG1md5jZU2b2pJmdUq+25IF66UtSd911RvpSOXrGNLfO1K0DM7PuwOXAQcBE4Egzm1h6r5pxFXBg9NtU4Hbn3Hjg9mS7o1kLnOacmwjsDnw9OQf1aEtDU2d9gcbQGelLBegZAzS7zjjn6vIH7AHMDLbPAM7oxPrHAnOD7fnAiEQeAcyvwzm5Bdi/EdrSaH/11pdG1BnpS2PrTKPpSzPqTD1NiCOBcLXFJclv9WK4c64lkV8Bhndm5WY2FtgZeLDebWlQGk1foI7XSfpSFo2mM3rG1Bg5cbSB868lneaeaWb9gRuBU51zmbDznd0WUR2deZ2kL/lHz5jaUM8O7CVgdLA9KvmtXiw1sxEAyf9lnVGpmfXEK9a1zrmb6tmWBqfR9AXqcJ2kLxXRaDqjZ0yNqWcH9i9gvJltaWa9gCOAGXVszwzg2EQ+Fm8r7lDML8T0a2Cec+6SerYlBzSavkAnXyfpS8U0ms7oGVNr6jkBBxwMPAMsBM7qxHqvA1qA9/B28SnAJnhvnAXAP4AhndCOPfFD98eBR5O/g+vRljz81UtfGkVnpC/50ZlG0JeuoDOKxCGEECKXyIlDCCFELlEHJoQQIpeoAxNCCJFL1IEJIYTIJerAhBBC5BJ1YEIIIXKJOjAhhBC5RB2YEEKIXPL/AY6X2nasYjxGAAAAAElFTkSuQmCC",
            "text/plain": [
              "<Figure size 640x480 with 6 Axes>"
            ]
          },
          "metadata": {},
          "output_type": "display_data"
        }
      ],
      "source": [
        "\"\"\"\n",
        "Here we Try to visualize, each type of noise that was introduced in the images\n",
        "Along with their original versions\n",
        "\n",
        "\"\"\"\n",
        "\n",
        "f, axes=plt.subplots(2,3)\n",
        "\n",
        "#showing images with gaussian noise\n",
        "axes[0,0].imshow(xtrain[0], cmap=\"gray\")\n",
        "axes[0,0].set_title(\"Original Image\")\n",
        "axes[1,0].imshow(traindata[0], cmap='gray')\n",
        "axes[1,0].set_title(\"Gaussian Noised Image\")\n",
        "\n",
        "#showing images with salt and pepper noise\n",
        "axes[0,1].imshow(xtrain[13000], cmap='gray')\n",
        "axes[0,1].set_title(\"Original Image\")\n",
        "axes[1,1].imshow(traindata[13000], cmap=\"gray\")\n",
        "axes[1,1].set_title(\"S&P Noised Image\")\n",
        "\n",
        "#showing imags with the speckle noise\n",
        "axes[0,2].imshow(xtrain[5000], cmap='gray')\n",
        "axes[0,2].set_title(\"Original Image\")\n",
        "axes[1,2].imshow(traindata[5000], cmap=\"gray\")\n",
        "axes[1,2].set_title(\"Speckle Noised Image\")\n",
        "\n",
        "plt.tight_layout()"
      ]
    },
    {
      "cell_type": "markdown",
      "metadata": {},
      "source": [
        "### Création d'un dataset bruité\n",
        "\n",
        "La classe NoisedDataset, comme son nom l'indique est un dataset composé d'images bruitées. Le dataset est composé de tuples ayant la structure suivante :\n",
        "\n",
        "$x = (image\\_bruitée, image\\_originale, label)$\n",
        "\n",
        "Les types de bruits sont répartis uniformément dans le dataset de sorte à ce qu'il n'y ait pas de biais/déséquilibre.\n",
        "Les fonctions de classe __len__ et __getitem__ vont nous permettre d'utiliser cette classe pour créer des dataloader rendant ainsi plus rapide le passage d'images en batch pendant l'entraînement."
      ]
    },
    {
      "cell_type": "code",
      "execution_count": 10,
      "metadata": {
        "colab": {},
        "colab_type": "code",
        "id": "Vfchnr-E_kka"
      },
      "outputs": [],
      "source": [
        "class noisedDataset(Dataset):\n",
        "  def __init__(self, \n",
        "               datasetnoised: np.ndarray, \n",
        "               datasetclean: np.ndarray, \n",
        "               labels: np.ndarray,\n",
        "               transform: Callable):\n",
        "    self.noise = datasetnoised\n",
        "    self.clean = datasetclean\n",
        "    self.labels = labels\n",
        "    self.transform = transform\n",
        "  \n",
        "  def __len__(self):\n",
        "    return len(self.noise)\n",
        "  \n",
        "  def __getitem__(self, idx):\n",
        "    xNoise = self.noise[idx]\n",
        "    xClean = self.clean[idx]\n",
        "    y = self.labels[idx]\n",
        "    \n",
        "    if self.transform != None:\n",
        "      xNoise = self.transform(xNoise)\n",
        "      xClean = self.transform(xClean)\n",
        "\n",
        "    return (xNoise, xClean, y)\n",
        "    "
      ]
    },
    {
      "cell_type": "code",
      "execution_count": 11,
      "metadata": {
        "colab": {},
        "colab_type": "code",
        "id": "HyzkdVVUC6ps"
      },
      "outputs": [],
      "source": [
        "tsfms = transforms.Compose([\n",
        "    transforms.ToTensor()\n",
        "])\n",
        "\n",
        "trainset = noisedDataset(traindata, xtrain, ytrain, tsfms)\n",
        "testset = noisedDataset(testdata, xtest, ytest, tsfms)"
      ]
    },
    {
      "cell_type": "code",
      "execution_count": 12,
      "metadata": {
        "colab": {},
        "colab_type": "code",
        "id": "vTQ_iF1fXxC8"
      },
      "outputs": [],
      "source": [
        "\"\"\"\n",
        "Here , we create the trainloaders and testloaders.\n",
        "Also, we transform the images using standard lib functions\n",
        "\"\"\"\n",
        "\n",
        "trainloader = DataLoader(trainset, batch_size=32, shuffle=True)\n",
        "testloader  = DataLoader(testset, batch_size=1, shuffle=True)"
      ]
    },
    {
      "cell_type": "markdown",
      "metadata": {},
      "source": [
        "### Definition de l'Autoencodeur de débruitage\n",
        "\n",
        "Cet autoencodeur de débruitage est capable de prendre en entrée des images (ou des vecteurs) et de les encoder dans un espace de dimension réduite appelé \"zone latente\". Il les décode ensuite à partir de cet espace latent pour reconstruire l'entrée initiale sans le bruit.\n",
        "\n",
        "Voici une explication des principaux éléments :\n",
        "\n",
        "- La classe *denoising_model* est une sous-classe de nn.Module, ce qui signifie qu'elle hérite des fonctionnalités de base de PyTorch pour les modèles de réseaux de neurones.\n",
        "\n",
        "- L'initialisateur __init__ de la classe permet de définir la structure de l'autoencodeur en spécifiant le nombre de couches cachées (hidden_layer_nb), le nombre de neurones dans chaque couche cachée (hidden_size), le nombre de neurones dans la zone latente (latent_size) et la taille de l'image en entrée (img_size).\n",
        "\n",
        "- L'encodeur est une séquence de couches linéaires (fully connected) suivies de fonctions d'activation ReLU. Ces couches transforment l'entrée en une représentation de dimension réduite dans l'espace latent.\n",
        "\n",
        "- Le décodeur est également une séquence de couches linéaires suivies de fonctions d'activation ReLU, mais cette fois-ci il restaure l'entrée originale à partir de la représentation de l'espace latent.\n",
        "\n",
        "- La fonction forward est une méthode requise par PyTorch pour définir comment les données traversent le réseau. Dans ce cas, elle encode d'abord les données avec l'encodeur puis les décode avec le décodeur.\n",
        "\n",
        "- La méthode get_latent_size retourne la taille de la zone latente.\n",
        "\n"
      ]
    },
    {
      "cell_type": "code",
      "execution_count": 13,
      "metadata": {
        "colab": {},
        "colab_type": "code",
        "id": "1P60Cuv7pQO6"
      },
      "outputs": [],
      "source": [
        "\"\"\"\n",
        "Here, we define the autoencoder model.\n",
        "\"\"\"\n",
        "\n",
        "class denoising_model(nn.Module):\n",
        "  \"\"\"\n",
        "  Autoencodeur, capable d'être personnalisé au niveau du nombre de neurones dans la / les couche(s) cachée(s) et au nombre de couches cachées.\n",
        "\n",
        "  Paramètres :\n",
        "  ------------\n",
        "  `hidden_layer_nb`: int (default=1)  \n",
        "    Nombre de couche cachées\n",
        "  `hidden_size`: int (default=256)\n",
        "    Nombre de neurones dans chaque couche de la couche cachée\n",
        "  `latent_size`: int (default=64)  \n",
        "    Nombre de neurone dans la zone latente\n",
        "  \"\"\"\n",
        "  def __init__(self, hidden_layer_nb=1, hidden_size = 256, latent_size=64, img_size=28*28):\n",
        "    super(denoising_model,self).__init__()\n",
        "\n",
        "    self.latent_size = latent_size\n",
        "\n",
        "    encode_sequence_input = [nn.Linear(img_size, hidden_size), nn.ReLU()]\n",
        "    encode_sequence_output = [nn.Linear(hidden_size, latent_size), nn.ReLU()]\n",
        "    encode_sequence_hidden = []\n",
        "    for i in range(hidden_layer_nb):\n",
        "      encode_sequence_hidden.append(nn.Linear(hidden_size, hidden_size))\n",
        "      encode_sequence_hidden.append(nn.ReLU())\n",
        "\n",
        "    encode_sequence = encode_sequence_input + encode_sequence_hidden + encode_sequence_output\n",
        "        \n",
        "    self.encoder = nn.Sequential(\n",
        "      *encode_sequence\n",
        "    )\n",
        "\n",
        "    decode_sequence_input = [nn.Linear(latent_size, hidden_size), nn.ReLU()]\n",
        "    decode_sequence_output = [nn.Linear(hidden_size, img_size), nn.Sigmoid()]\n",
        "    decode_sequence_hidden = []\n",
        "    for i in range(hidden_layer_nb):\n",
        "      decode_sequence_hidden.append(nn.Linear(hidden_size, hidden_size))\n",
        "      decode_sequence_hidden.append(nn.ReLU())\n",
        "\n",
        "    decode_sequence = decode_sequence_input + decode_sequence_hidden + decode_sequence_output\n",
        "\n",
        "    self.decoder = nn.Sequential(\n",
        "      *decode_sequence\n",
        "    )\n",
        "\n",
        "  def get_latent_size(self):\n",
        "    return self.latent_size\n",
        "\n",
        "  def encode(self, x):\n",
        "    return self.encoder(x)\n",
        " \n",
        "  def forward(self, x):\n",
        "    x = self.encoder(x)\n",
        "    x = self.decoder(x)\n",
        "    \n",
        "    return x"
      ]
    },
    {
      "cell_type": "code",
      "execution_count": 14,
      "metadata": {},
      "outputs": [],
      "source": [
        "#We check whether cuda is available and choose device accordingly\n",
        "if torch.cuda.is_available() == True:\n",
        "  device = \"cuda:0\"\n",
        "else:\n",
        "  device = \"cpu\""
      ]
    },
    {
      "cell_type": "code",
      "execution_count": 15,
      "metadata": {},
      "outputs": [],
      "source": [
        "model = denoising_model(hidden_layer_nb=2).to(device)\n",
        "criterion = nn.MSELoss()\n",
        "optimizer = optim.Adam(model.parameters(), lr=0.01, weight_decay=1e-5)"
      ]
    },
    {
      "cell_type": "code",
      "execution_count": 16,
      "metadata": {},
      "outputs": [
        {
          "name": "stdout",
          "output_type": "stream",
          "text": [
            "denoising_model(\n",
            "  (encoder): Sequential(\n",
            "    (0): Linear(in_features=784, out_features=256, bias=True)\n",
            "    (1): ReLU()\n",
            "    (2): Linear(in_features=256, out_features=256, bias=True)\n",
            "    (3): ReLU()\n",
            "    (4): Linear(in_features=256, out_features=256, bias=True)\n",
            "    (5): ReLU()\n",
            "    (6): Linear(in_features=256, out_features=64, bias=True)\n",
            "    (7): ReLU()\n",
            "  )\n",
            "  (decoder): Sequential(\n",
            "    (0): Linear(in_features=64, out_features=256, bias=True)\n",
            "    (1): ReLU()\n",
            "    (2): Linear(in_features=256, out_features=256, bias=True)\n",
            "    (3): ReLU()\n",
            "    (4): Linear(in_features=256, out_features=256, bias=True)\n",
            "    (5): ReLU()\n",
            "    (6): Linear(in_features=256, out_features=784, bias=True)\n",
            "    (7): Sigmoid()\n",
            "  )\n",
            ")\n"
          ]
        }
      ],
      "source": [
        "print(model)"
      ]
    },
    {
      "cell_type": "markdown",
      "metadata": {},
      "source": [
        "### Definition de la methode d'entraînement du modèle\n",
        "\n",
        "La méthode train_test permet de réaliser l'entraînement et l'évaluation d'un modèle (`model`) passé en paramètre.\n",
        "\n",
        "Cette méthode permet de spécifier l'optimisateur utilisé ainsi que la loss, le nombre d'epochs, le device (pour la gpu acceleration), le trainloader et le testloader.\n",
        "Il nous semblait important de pouvoir spécifier tous ces paramètres afin de rendre la méthode la plus réutillisable possible.\n",
        "\n",
        "Pendant la phase d'entraînement, nous calculons la perte moyenne de l'epoch afin de garder une trace de la performance du modèle.\n",
        "\n",
        "\n",
        "Cette fonction permet d'entraînet le modèle mais aussi de l'évaluer. En effet, après la phase d'entraînement sur le trainloader, nous calculons la loss totale (MSE) sur le testloader.\n",
        "Ce calcul est fait manuellement : \n",
        "\n",
        "- nous comparons la valeur du label à la valeur prédite par le modèle. En fonction de la nature du testloader, il est important de modifier le type des données de test afin qu'elles soient compatibles en entrée avec le modèle (d'où les transtypages en tenseurs).\n",
        "- la true_error est incrémentée de 1 si le label et la prédiction correspondent, 0 sinon\n",
        "\n",
        "Au final nous retournons l'ensemble des loss au fil des epochs et la true_error.\n",
        "\n"
      ]
    },
    {
      "cell_type": "code",
      "execution_count": 17,
      "metadata": {},
      "outputs": [],
      "source": [
        "def train_test(\n",
        "        model: torch.nn.Module, \n",
        "        optimizer: torch.optim.Optimizer, \n",
        "        criterion: torch.nn.Module, \n",
        "        epochs: int,\n",
        "        device: str,\n",
        "        trainloader: torch.utils.data.DataLoader, \n",
        "        testset: torch.utils.data.Dataset):\n",
        "    \"\"\"\n",
        "    Fonction pour entraîner / tester un modèle.\n",
        "\n",
        "    Parameters:\n",
        "    -----------\n",
        "    model : torch.nn.Module\n",
        "        Le modèle à entraîner.\n",
        "    optimizer : torch.optim.Optimizer\n",
        "        L'optimiseur utilisé pour la mise à jour des poids du modèle.\n",
        "    criterion : torch.nn.Module\n",
        "        La fonction de perte utilisée pour évaluer la différence entre les prédictions et les vraies étiquettes.\n",
        "    epochs : int\n",
        "        Le nombre d'époques d'entraînement.\n",
        "    device : str\n",
        "        L'appareil sur lequel exécuter l'entraînement, par exemple 'cuda' pour GPU ou 'cpu' pour CPU.\n",
        "    trainloader : torch.utils.data.DataLoader\n",
        "        Le DataLoader contenant les données d'entraînement.\n",
        "    testset : torch.utils.data.Dataset\n",
        "        Le jeu de données de test utilisé pour évaluer le modèle après chaque époque.\n",
        "\n",
        "    Returns:\n",
        "    --------\n",
        "    true_error : float\n",
        "        L'erreur moyenne quadratique sur le jeu de données de test.\n",
        "    losslist : list\n",
        "        Liste des valeurs de la fonction de perte moyenne sur les données d'entraînement pour chaque époque.\n",
        "    \"\"\"\n",
        "    model.train()\n",
        "    losslist = []\n",
        "    for epoch in tqdm(range(epochs)):\n",
        "        running_loss = 0\n",
        "        for dirty, clean, label in trainloader:  \n",
        "            \n",
        "            dirty = dirty.view(dirty.size(0), -1).type(torch.FloatTensor)\n",
        "            clean = clean.view(clean.size(0), -1).type(torch.FloatTensor)\n",
        "            dirty, clean = dirty.to(device), clean.to(device)\n",
        "\n",
        "            optimizer.zero_grad()\n",
        "\n",
        "            # Forward pass\n",
        "            output = model.forward(dirty)\n",
        "            loss = criterion(output, clean)\n",
        "\n",
        "            # Rétropropagation\n",
        "            loss.backward()\n",
        "            optimizer.step()\n",
        "            \n",
        "            running_loss += loss.item()\n",
        "\n",
        "        # Calcul de la perte moyenne pour cette époque\n",
        "        losslist.append(running_loss/len(trainloader))\n",
        "\n",
        "    # Calcul de l'erreur moyenne quadratique sur le jeu de données de test\n",
        "    true_error = 0\n",
        "    for test in testset:\n",
        "        true_error += mean_squared_error(test.flatten(), model(torch.tensor(test.flatten()).type(torch.FloatTensor)).detach())\n",
        "    true_error /= len(testset)\n",
        "\n",
        "    return true_error, losslist"
      ]
    },
    {
      "cell_type": "markdown",
      "metadata": {},
      "source": [
        "Nous entraînons un modèle type autoencodeur de béruitage qui nous servira de baseline pour comparer les autres modèles."
      ]
    },
    {
      "cell_type": "code",
      "execution_count": 18,
      "metadata": {},
      "outputs": [],
      "source": [
        "# train_test(model, optimizer, criterion, 120, device, trainloader, testdata)"
      ]
    },
    {
      "cell_type": "markdown",
      "metadata": {},
      "source": [
        "### Optimisation de l'architecture du modèle\n",
        "Cette phase d'optimisation est importante pour trouver le meilleur modèle dans l'espoir qu'il puisse avoir une bonne capacité de généralisation."
      ]
    },
    {
      "cell_type": "code",
      "execution_count": 19,
      "metadata": {},
      "outputs": [],
      "source": [
        "\n",
        "\n",
        "def gridsearch(model_obj: nn.Module, \n",
        "               parameters: dict,\n",
        "               optimizer: optim.Optimizer,\n",
        "               criterion,\n",
        "               learning_rate :int,\n",
        "               epoch: int,\n",
        "               device: str,\n",
        "               trainloader: DataLoader,\n",
        "               testdata: Dataset):\n",
        "    \"\"\"\n",
        "    Effectue une recherche sur grille pour trouver les meilleurs hyperparamètres pour un modèle donné.\n",
        "\n",
        "    Parameters:\n",
        "    -----------\n",
        "    model_obj : nn.Module\n",
        "        Classe du modèle à utiliser pour la recherche sur grille.\n",
        "    parameters : dict\n",
        "        Dictionnaire contenant les hyperparamètres à tester.\n",
        "    optimizer : torch.optim.Optimizer\n",
        "        L'optimiseur à utiliser pour la mise à jour des poids du modèle.\n",
        "    learning_rate : int\n",
        "        Taux d'apprentissage à utiliser avec l'optimiseur.\n",
        "    epoch : int\n",
        "        Nombre d'époques d'entraînement pour chaque configuration de paramètres.\n",
        "    device : str\n",
        "        L'appareil sur lequel exécuter l'entraînement, par exemple 'cuda' pour GPU ou 'cpu' pour CPU.\n",
        "    trainloader : torch.utils.data.DataLoader\n",
        "        DataLoader contenant les données d'entraînement.\n",
        "    testdata : torch.utils.data.Dataset\n",
        "        Jeu de données de test utilisé pour évaluer le modèle après chaque configuration de paramètres.\n",
        "\n",
        "    Returns:\n",
        "    --------\n",
        "    results : dict\n",
        "        Dictionnaire contenant les résultats de la recherche sur grille.\n",
        "        Chaque clé correspond à l'indice de la configuration de paramètres.\n",
        "        Chaque valeur est un dictionnaire contenant les paramètres testés, l'erreur réelle (sur les données de test)\n",
        "        et l'erreur d'entraînement (sur les données d'entraînement) pour cette configuration.\n",
        "    \"\"\"\n",
        "    parameters = ParameterGrid(parameters)\n",
        "    results = {}\n",
        "    loss = criterion()\n",
        "\n",
        "    for i, params in enumerate(parameters):\n",
        "        tmp_model = model_obj(**params)\n",
        "        tmp_optim = optimizer(tmp_model.parameters(), lr=learning_rate)\n",
        "        tmp_result = train_test(tmp_model, tmp_optim, loss, epoch, device, trainloader, testdata)\n",
        "        print(f\"\\tParams {i}/{len(parameters)} -> true error: {tmp_result[0]}\")\n",
        "        results[i] = {\n",
        "            \"params\": params,\n",
        "            \"true_error\": tmp_result[0],\n",
        "            \"training_error\": tmp_result[1]\n",
        "        }\n",
        "\n",
        "    return results"
      ]
    },
    {
      "cell_type": "code",
      "execution_count": 20,
      "metadata": {},
      "outputs": [],
      "source": [
        "parameters = {\"hidden_layer_nb\": range(1, 6, 2),\n",
        "              \"hidden_size\": range(300, 501, 100),\n",
        "              \"latent_size\": [7*7, 8*8, 9*9]}\n",
        "\n"
      ]
    },
    {
      "cell_type": "code",
      "execution_count": 21,
      "metadata": {},
      "outputs": [],
      "source": [
        "# results = gridsearch(denoising_model, parameters, optim.Adam, nn.MSELoss, 1e-4, 30, device, trainloader, testdata)"
      ]
    },
    {
      "cell_type": "code",
      "execution_count": 22,
      "metadata": {},
      "outputs": [],
      "source": [
        "# # on enregistre les résultats pour ne pas devoir refaire la gridsearch\n",
        "# with open(\"output_gridsearch.json\", \"w+\") as file:\n",
        "#     file.write(json.dumps(results, indent=1))\n",
        "\n",
        "# on lit les résultats de l'ancienne gridsearch\n",
        "with open(\"output_gridsearch.json\") as file:\n",
        "    results = json.loads(file.read())"
      ]
    },
    {
      "cell_type": "code",
      "execution_count": 23,
      "metadata": {},
      "outputs": [
        {
          "data": {
            "text/plain": [
              "{'hidden_layer_nb': 1, 'hidden_size': 500, 'latent_size': 81}"
            ]
          },
          "execution_count": 23,
          "metadata": {},
          "output_type": "execute_result"
        }
      ],
      "source": [
        "[results[str(i)][\"params\"] for i in range(27) if results[str(i)][\"true_error\"] == min([results[str(j)][\"true_error\"] for j in range(27)])][0]"
      ]
    },
    {
      "cell_type": "markdown",
      "metadata": {},
      "source": [
        "Afin de trouver le meilleur modèle pour cette tâche, nous avons réalisé un grid search sur plusieurs paramètres :\n",
        "- Le nombre de couches de la couche cachée (par le paramètres `hidden_layer_nb`)\n",
        "- Le nombre de neurones de la couche cachées (par le paramètres `hidden_size`)\n",
        "- Le nombre de neurones de la zone latente (par le paramètres `latent_size`)  \n",
        "\n",
        "On a pris des carré de nombre pour l'espace latent, pour pouvoir les affichers plus tard dans le même format que les images d'origines (qui sont carrés). Ceci sera aussi utile lors de la classification, car nous pouvons faire un un réseau de convolution tout en respectant la forme de base de l'image.\n",
        "\n",
        "Nous n'avons fait que 30 itérations par test dans le grid search, par faute de temps (le programme a tourné pendant plus d'une heure rien qu'avec 30 itérations). Nous utilisions le même optimiseur et pas d'apprentissage que dans notre premier test.  \n",
        "\n",
        "Le meilleur modèle possède donc cette forme :\n",
        "```\n",
        "denoising_model(\n",
        "  (encoder): Sequential(\n",
        "    (0): Linear(in_features=784, out_features=500, bias=True)\n",
        "    (1): ReLU()\n",
        "    (2): Linear(in_features=500, out_features=500, bias=True)\n",
        "    (3): ReLU()\n",
        "    (4): Linear(in_features=500, out_features=81, bias=True)\n",
        "    (5): ReLU()\n",
        "  )\n",
        "  (decoder): Sequential(\n",
        "    (0): Linear(in_features=81, out_features=500, bias=True)\n",
        "    (1): ReLU()\n",
        "    (2): Linear(in_features=500, out_features=500, bias=True)\n",
        "    (3): ReLU()\n",
        "    (4): Linear(in_features=500, out_features=784, bias=True)\n",
        "    (5): Sigmoid()\n",
        "  )\n",
        ")\n",
        "```\n",
        "C'est à dire, par rapport aux paramètres donnés :\n",
        "- Le paramètre `hidden_layer_nb` vaut 1\n",
        "- Le paramètre `hidden_size` vaut 500\n",
        "- Le paramètre `latent_size` vaut 81 (donc $9 \\times 9$)"
      ]
    },
    {
      "cell_type": "code",
      "execution_count": 24,
      "metadata": {},
      "outputs": [
        {
          "name": "stdout",
          "output_type": "stream",
          "text": [
            "denoising_model(\n",
            "  (encoder): Sequential(\n",
            "    (0): Linear(in_features=784, out_features=500, bias=True)\n",
            "    (1): ReLU()\n",
            "    (2): Linear(in_features=500, out_features=500, bias=True)\n",
            "    (3): ReLU()\n",
            "    (4): Linear(in_features=500, out_features=81, bias=True)\n",
            "    (5): ReLU()\n",
            "  )\n",
            "  (decoder): Sequential(\n",
            "    (0): Linear(in_features=81, out_features=500, bias=True)\n",
            "    (1): ReLU()\n",
            "    (2): Linear(in_features=500, out_features=500, bias=True)\n",
            "    (3): ReLU()\n",
            "    (4): Linear(in_features=500, out_features=784, bias=True)\n",
            "    (5): Sigmoid()\n",
            "  )\n",
            ")\n"
          ]
        }
      ],
      "source": [
        "best_model = denoising_model(**[results[str(i)][\"params\"] for i in range(27) if results[str(i)][\"true_error\"] == min([results[str(j)][\"true_error\"] for j in range(27)])][0])\n",
        "best_model_optim = optim.Adam(best_model.parameters(), lr=1e-3)\n",
        "best_model_criterion = nn.MSELoss()\n",
        "print(best_model)"
      ]
    },
    {
      "cell_type": "code",
      "execution_count": 25,
      "metadata": {},
      "outputs": [
        {
          "data": {
            "text/plain": [
              "<All keys matched successfully>"
            ]
          },
          "execution_count": 25,
          "metadata": {},
          "output_type": "execute_result"
        }
      ],
      "source": [
        "# true_error, losslist = train_test(best_model, best_model_optim, best_model_criterion, 100, device, trainloader, testdata)\n",
        "best_model.load_state_dict(torch.load(\"model\", map_location=device))"
      ]
    },
    {
      "cell_type": "code",
      "execution_count": 26,
      "metadata": {
        "colab": {
          "base_uri": "https://localhost:8080/",
          "height": 287
        },
        "colab_type": "code",
        "id": "rT6HTaPB5IAL",
        "outputId": "1dbaa140-6874-4ebc-99a3-8bdfd14e7ae3"
      },
      "outputs": [],
      "source": [
        "# plt.plot(range(len(losslist)), losslist), true_error"
      ]
    },
    {
      "cell_type": "markdown",
      "metadata": {},
      "source": [
        "On teste le modèle avec des données bruitées, mais de la même intensité que dans l'entraînement :"
      ]
    },
    {
      "cell_type": "code",
      "execution_count": 27,
      "metadata": {},
      "outputs": [
        {
          "data": {
            "image/png": "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",
            "text/plain": [
              "<Figure size 576x576 with 12 Axes>"
            ]
          },
          "metadata": {
            "needs_background": "light"
          },
          "output_type": "display_data"
        }
      ],
      "source": [
        "f,axes= plt.subplots(4,3,figsize=(8, 8))\n",
        "axes[0,0].set_title(\"Original Image\")\n",
        "axes[0,1].set_title(\"Dirty Image\")\n",
        "axes[0,2].set_title(\"Cleaned Image\")\n",
        "for i, noise in enumerate([\"gaussian\", \"speckle\", \"salt_pepper\", \"\"]):\n",
        "    dirty = add_noise(np.array(xtest[3]), noise)\n",
        "    predicted = best_model(torch.tensor(dirty.flatten()).type(torch.FloatTensor))\n",
        "\n",
        "    axes[i, 0].imshow(xtest[3])\n",
        "    axes[i, 1].imshow(dirty.reshape((28, 28)))\n",
        "    axes[i, 2].imshow(predicted.detach().numpy().reshape((28, 28)))"
      ]
    },
    {
      "cell_type": "markdown",
      "metadata": {},
      "source": [
        "L'affichage de ces images montre que notre modèle `best_model` est capable de reconstituer l'image originale malgrès la présence de bruit. On remarque même que l'image reconstituée à des contours plus précis que l'image originale."
      ]
    },
    {
      "cell_type": "markdown",
      "metadata": {},
      "source": [
        "Après avois établi cette baseline, nous pouvons nous intéresser à la robustesse de nos modèles. Ceci peut se faire en augmentant le bruit (paramètre `scale`). Le modèle va maintenant avoir des images beaucoup plus bruitées que celles sur lesquelles il s'est entraîné."
      ]
    },
    {
      "cell_type": "code",
      "execution_count": 28,
      "metadata": {},
      "outputs": [
        {
          "data": {
            "image/png": "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",
            "text/plain": [
              "<Figure size 576x576 with 12 Axes>"
            ]
          },
          "metadata": {
            "needs_background": "light"
          },
          "output_type": "display_data"
        }
      ],
      "source": [
        "f,axes= plt.subplots(4,3,figsize=(8, 8))\n",
        "axes[0,0].set_title(\"Original Image\")\n",
        "axes[0,1].set_title(\"Dirty Image\")\n",
        "axes[0,2].set_title(\"Cleaned Image\")\n",
        "for i, noise in enumerate([\"gaussian\", \"speckle\", \"salt_pepper\", \"\"]):\n",
        "    dirty = add_noise(np.array(xtest[0]), noise, 0.8)\n",
        "    predicted = best_model(torch.tensor(dirty.flatten()).type(torch.FloatTensor))\n",
        "\n",
        "    axes[i, 0].imshow(xtest[0])\n",
        "    axes[i, 1].imshow(dirty.reshape((28, 28)))\n",
        "    axes[i, 2].imshow(predicted.detach().numpy().reshape((28, 28)))"
      ]
    },
    {
      "cell_type": "code",
      "execution_count": 29,
      "metadata": {},
      "outputs": [
        {
          "data": {
            "image/png": "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",
            "text/plain": [
              "<Figure size 576x576 with 12 Axes>"
            ]
          },
          "metadata": {
            "needs_background": "light"
          },
          "output_type": "display_data"
        }
      ],
      "source": [
        "f,axes= plt.subplots(4,3,figsize=(8, 8))\n",
        "axes[0,0].set_title(\"Original Image\")\n",
        "axes[0,1].set_title(\"Dirty Image\")\n",
        "axes[0,2].set_title(\"Cleaned Image\")\n",
        "for i, noise in enumerate([\"gaussian\", \"speckle\", \"salt_pepper\", \"\"]):\n",
        "    dirty = add_noise(np.array(xtest[1]), noise, 1)\n",
        "    predicted = best_model(torch.tensor(dirty.flatten()).type(torch.FloatTensor))\n",
        "\n",
        "    axes[i, 0].imshow(xtest[1])\n",
        "    axes[i, 1].imshow(dirty.reshape((28, 28)))\n",
        "    axes[i, 2].imshow(predicted.detach().numpy().reshape((28, 28)))"
      ]
    },
    {
      "cell_type": "markdown",
      "metadata": {},
      "source": [
        "De la même manière, ces images montrent que notre modèle est capable de reconstituer des images même si le degré de bruit est élevé. "
      ]
    },
    {
      "cell_type": "code",
      "execution_count": 31,
      "metadata": {
        "colab": {},
        "colab_type": "code",
        "id": "PhP1vseSPcZc"
      },
      "outputs": [],
      "source": [
        "# PATH = \"model\"\n",
        "# torch.save(best_model.state_dict(), PATH)  # We save the model state dict at PATH   "
      ]
    },
    {
      "cell_type": "markdown",
      "metadata": {},
      "source": [
        "On va faire les mêmes procédures pour les données."
      ]
    },
    {
      "cell_type": "code",
      "execution_count": 32,
      "metadata": {},
      "outputs": [],
      "source": [
        "(xtrain_all, ytrain_all) = mnist_[0][0], mnist_[0][1]\n",
        "(xtest_all, ytest_all) = mnist_[1][0], mnist_[1][1]\n",
        "\n",
        "xtrain_all = np.array([minmax_scale(x) for x in xtrain_all])\n",
        "xtest_all = np.array([minmax_scale(x) for x in xtest_all])"
      ]
    },
    {
      "cell_type": "code",
      "execution_count": 33,
      "metadata": {},
      "outputs": [
        {
          "name": "stderr",
          "output_type": "stream",
          "text": [
            " 40%|████      | 24245/60000 [00:00<00:01, 30431.05it/s]"
          ]
        },
        {
          "name": "stdout",
          "output_type": "stream",
          "text": [
            "\n",
            "gaussian noise addition completed to images\n"
          ]
        },
        {
          "name": "stderr",
          "output_type": "stream",
          "text": [
            " 75%|███████▍  | 44917/60000 [00:01<00:00, 35251.96it/s]"
          ]
        },
        {
          "name": "stdout",
          "output_type": "stream",
          "text": [
            "\n",
            "speckle noise addition completed to images\n"
          ]
        },
        {
          "name": "stderr",
          "output_type": "stream",
          "text": [
            "100%|██████████| 60000/60000 [00:01<00:00, 32620.59it/s]\n"
          ]
        },
        {
          "name": "stdout",
          "output_type": "stream",
          "text": [
            "\n",
            "salt_pepper noise addition completed to images\n"
          ]
        },
        {
          "name": "stderr",
          "output_type": "stream",
          "text": [
            "100%|██████████| 10000/10000 [00:00<00:00, 36924.62it/s]"
          ]
        },
        {
          "name": "stdout",
          "output_type": "stream",
          "text": [
            "\n",
            "gaussian noise addition completed to images\n"
          ]
        },
        {
          "name": "stderr",
          "output_type": "stream",
          "text": [
            "\n"
          ]
        }
      ],
      "source": [
        "\"\"\"\n",
        "From here onwards,we split the 60k training datapoints into 3 sets each given one type of each noise.\n",
        "We shuffle them for better generalization.\n",
        "\"\"\"\n",
        "noises = [\"gaussian\", \"speckle\", \"salt_pepper\"]\n",
        "noise_ct = 0\n",
        "noise_id = 0\n",
        "traindata_all = np.zeros((len(xtrain_all), 28, 28))\n",
        "\n",
        "\n",
        "for idx in tqdm(range(len(xtrain_all))):\n",
        "  if noise_ct < len(xtrain_all)/3:\n",
        "    noise_ct += 1\n",
        "    traindata_all[idx] = add_noise(xtrain_all[idx], noise_type=noises[noise_id], scale=1)\n",
        "  else:\n",
        "    print(\"\\n{} noise addition completed to images\".format(noises[noise_id]))\n",
        "    noise_id += 1\n",
        "    noise_ct = 0\n",
        "\n",
        "\n",
        "print(\"\\n{} noise addition completed to images\".format(noises[noise_id])) \n",
        "\n",
        "\n",
        "noise_ct = 0\n",
        "noise_id = 0\n",
        "testdata_all = np.zeros((10000, 28, 28))\n",
        "\n",
        "for idx in tqdm(range(len(xtest_all))):\n",
        "  if noise_ct < len(xtest)/3:\n",
        "    x = add_noise(xtest_all[idx], noise_type=noises[noise_id])\n",
        "    testdata_all[idx] = x\n",
        "    \n",
        "  else:\n",
        "    print(\"\\n{} noise addition completed to images\".format(noises[noise_id]))\n",
        "    noise_id += 1\n",
        "    noise_ct = 0\n",
        "\n",
        "print(\"\\n{} noise addition completed to images\".format(noises[noise_id]))    \n",
        "  "
      ]
    },
    {
      "cell_type": "code",
      "execution_count": 34,
      "metadata": {},
      "outputs": [],
      "source": [
        "trainset_all = noisedDataset(traindata_all, xtrain_all, ytrain_all, tsfms)\n",
        "testset_all= noisedDataset(testdata_all, xtest_all, ytest_all, tsfms)"
      ]
    },
    {
      "cell_type": "code",
      "execution_count": 35,
      "metadata": {},
      "outputs": [],
      "source": [
        "trainloader_all = DataLoader(trainset_all, batch_size=500, shuffle=True)\n",
        "testloader_all  = DataLoader(testset_all, batch_size=1, shuffle=True)"
      ]
    },
    {
      "cell_type": "markdown",
      "metadata": {},
      "source": [
        "On reprends la même architecture de modèle trouvée avant."
      ]
    },
    {
      "cell_type": "code",
      "execution_count": 56,
      "metadata": {},
      "outputs": [
        {
          "data": {
            "text/plain": [
              "denoising_model(\n",
              "  (encoder): Sequential(\n",
              "    (0): Linear(in_features=784, out_features=500, bias=True)\n",
              "    (1): ReLU()\n",
              "    (2): Linear(in_features=500, out_features=500, bias=True)\n",
              "    (3): ReLU()\n",
              "    (4): Linear(in_features=500, out_features=81, bias=True)\n",
              "    (5): ReLU()\n",
              "  )\n",
              "  (decoder): Sequential(\n",
              "    (0): Linear(in_features=81, out_features=500, bias=True)\n",
              "    (1): ReLU()\n",
              "    (2): Linear(in_features=500, out_features=500, bias=True)\n",
              "    (3): ReLU()\n",
              "    (4): Linear(in_features=500, out_features=784, bias=True)\n",
              "    (5): Sigmoid()\n",
              "  )\n",
              ")"
            ]
          },
          "execution_count": 56,
          "metadata": {},
          "output_type": "execute_result"
        }
      ],
      "source": [
        "best_model_all = denoising_model(**[results[str(j)][\"params\"] for j in range(27) if results[str(j)][\"true_error\"] == min([results[str(i)][\"true_error\"] for i in range(27)])][0])\n",
        "best_model_criterion_all = nn.MSELoss()\n",
        "best_model_optim_all = optim.Adam(best_model_all.parameters(), lr=4e-3)\n",
        "best_model_all"
      ]
    },
    {
      "cell_type": "code",
      "execution_count": 57,
      "metadata": {},
      "outputs": [
        {
          "ename": "AttributeError",
          "evalue": "'numpy.ndarray' object has no attribute 'numpy'",
          "output_type": "error",
          "traceback": [
            "\u001b[0;31m---------------------------------------------------------------------------\u001b[0m",
            "\u001b[0;31mAttributeError\u001b[0m                            Traceback (most recent call last)",
            "Input \u001b[0;32mIn [57]\u001b[0m, in \u001b[0;36m<cell line: 1>\u001b[0;34m()\u001b[0m\n\u001b[0;32m----> 1\u001b[0m testset_all \u001b[38;5;241m=\u001b[39m np\u001b[38;5;241m.\u001b[39marray([testset_all[i][\u001b[38;5;241m0\u001b[39m]\u001b[38;5;241m.\u001b[39mnumpy() \u001b[38;5;28;01mfor\u001b[39;00m i \u001b[38;5;129;01min\u001b[39;00m \u001b[38;5;28mrange\u001b[39m(\u001b[38;5;28mlen\u001b[39m(testset_all))])\n",
            "Input \u001b[0;32mIn [57]\u001b[0m, in \u001b[0;36m<listcomp>\u001b[0;34m(.0)\u001b[0m\n\u001b[0;32m----> 1\u001b[0m testset_all \u001b[38;5;241m=\u001b[39m np\u001b[38;5;241m.\u001b[39marray([\u001b[43mtestset_all\u001b[49m\u001b[43m[\u001b[49m\u001b[43mi\u001b[49m\u001b[43m]\u001b[49m\u001b[43m[\u001b[49m\u001b[38;5;241;43m0\u001b[39;49m\u001b[43m]\u001b[49m\u001b[38;5;241;43m.\u001b[39;49m\u001b[43mnumpy\u001b[49m() \u001b[38;5;28;01mfor\u001b[39;00m i \u001b[38;5;129;01min\u001b[39;00m \u001b[38;5;28mrange\u001b[39m(\u001b[38;5;28mlen\u001b[39m(testset_all))])\n",
            "\u001b[0;31mAttributeError\u001b[0m: 'numpy.ndarray' object has no attribute 'numpy'"
          ]
        }
      ],
      "source": [
        "testset_all = np.array([testset_all[i][0].numpy() for i in range(len(testset_all))])"
      ]
    },
    {
      "cell_type": "code",
      "execution_count": 64,
      "metadata": {},
      "outputs": [
        {
          "data": {
            "text/plain": [
              "denoising_model(\n",
              "  (encoder): Sequential(\n",
              "    (0): Linear(in_features=784, out_features=500, bias=True)\n",
              "    (1): ReLU()\n",
              "    (2): Linear(in_features=500, out_features=500, bias=True)\n",
              "    (3): ReLU()\n",
              "    (4): Linear(in_features=500, out_features=81, bias=True)\n",
              "    (5): ReLU()\n",
              "  )\n",
              "  (decoder): Sequential(\n",
              "    (0): Linear(in_features=81, out_features=500, bias=True)\n",
              "    (1): ReLU()\n",
              "    (2): Linear(in_features=500, out_features=500, bias=True)\n",
              "    (3): ReLU()\n",
              "    (4): Linear(in_features=500, out_features=784, bias=True)\n",
              "    (5): Sigmoid()\n",
              "  )\n",
              ")"
            ]
          },
          "execution_count": 64,
          "metadata": {},
          "output_type": "execute_result"
        }
      ],
      "source": [
        "# true_error_all, losslist_all = train_test(best_model_all, best_model_optim_all, best_model_criterion_all, 100, device, trainloader_all, testset_all)\n",
        "best_model_all = denoising_model(**[results[str(j)][\"params\"] for j in range(27) if results[str(j)][\"true_error\"] == min([results[str(i)][\"true_error\"] for i in range(27)])][0])\n",
        "best_model_all.load_state_dict(torch.load(\"model_all\", map_location=device))\n",
        "best_model_all.eval()"
      ]
    },
    {
      "cell_type": "code",
      "execution_count": 59,
      "metadata": {},
      "outputs": [
        {
          "data": {
            "text/plain": [
              "0.012889460793712818"
            ]
          },
          "execution_count": 59,
          "metadata": {},
          "output_type": "execute_result"
        }
      ],
      "source": [
        "true_error_all"
      ]
    },
    {
      "cell_type": "code",
      "execution_count": 60,
      "metadata": {},
      "outputs": [
        {
          "data": {
            "text/plain": [
              "[<matplotlib.lines.Line2D at 0x779595c2cd00>]"
            ]
          },
          "execution_count": 60,
          "metadata": {},
          "output_type": "execute_result"
        },
        {
          "data": {
            "image/png": "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",
            "text/plain": [
              "<Figure size 432x288 with 1 Axes>"
            ]
          },
          "metadata": {
            "needs_background": "light"
          },
          "output_type": "display_data"
        }
      ],
      "source": [
        "plt.plot(losslist_all)"
      ]
    },
    {
      "cell_type": "markdown",
      "metadata": {},
      "source": [
        "On observe que la loss de notre modèle décroit au fil des epochs en se rapprochant de 0. \n",
        "Après 100 epochs, on peut voir qu'on peut potentiellement atteindre une loss plus basse en augmentant le nombre d'épochs. Cependant, c'est un modèle très lourd (toutes les classes sont comprises) et l'entraînement peut prendre plusieurs 10aines de minutes."
      ]
    },
    {
      "cell_type": "code",
      "execution_count": 61,
      "metadata": {},
      "outputs": [],
      "source": [
        "torch.save(best_model_all.state_dict(), \"model_all\")  # We save the model state dict at PATH   "
      ]
    },
    {
      "cell_type": "code",
      "execution_count": 214,
      "metadata": {},
      "outputs": [
        {
          "data": {
            "image/png": "iVBORw0KGgoAAAANSUhEUgAAAUcAAAE/CAYAAADVOAHHAAAAOXRFWHRTb2Z0d2FyZQBNYXRwbG90bGliIHZlcnNpb24zLjUuMiwgaHR0cHM6Ly9tYXRwbG90bGliLm9yZy8qNh9FAAAACXBIWXMAAAsTAAALEwEAmpwYAAC1NElEQVR4nOy9d5glyVXm/TuR5vpb3ndXu+memR5vNEYaOUYekDBCgFgtdoU3HyDQAqvVfiwfgl2M2GUBCViQQIAAIQk0MsPIzEgzGm/b+66u6vLu+puZEd8fkVVd3VPVtqqrqvu+z1PdVZk3MyJPRrz3xIljxBhDAw000EADp0OtdgcaaKCBBtYiGuTYQAMNNLAIGuTYQAMNNLAIGuTYQAMNNLAIGuTYQAMNNLAIGuTYQAMNNLAILis5isivicifL/dnz+NeRkSuWY57XW6IyJ+KyH9Z7X40sLYgIh8Ukb9Z7X6cifU8187ERZOjiPyQiLwoImURGRaRPxGR5rNdY4z5/4wxP3Y+97+Qz14KROSrIrLi7SzR9lERqYhIQUSmReRREfkJEZl/L8aYnzDG/OZZ7vE6ETlxCX1YM5MslscbLuK6ZX2H55rgIuKLyO+JyAkRKcb9/sPlan9BO+8WkafiNk6KyOdF5L7lbudyYTXn2sXgoshRRH4J+B3gfUATcA+wCXhQRPwlrnEvtpNXOL7dGJPDyu9DwK8Cf3E+FzZkumr4z8CdwF1ADngd8MxyNiAivwj8IfD/AV1AP/B/gHcsZzsNnAXGmAv6AfJAEXjXGcezwBjwI/HfHwT+CfgbYBb4sfjY3yy45j8Cx4AJ4L8AR4E3LLj+b+LfNwMG+EHgODAO/PqC+9wFPAZMAyeB/w34C84b4JolnuerwI/Fv78OOAH8CjAa3+s7gLcB+4FJ4NcuoN03AfuAGezA/tpcW/H58fj5p4AvYgnyLkADN8af+Svgv5/Rv18FhoF/BCrx54vxTy9QBtoWtHN7/G68RZ7/zHdigJ8CDgAF4DeBbcCj8Xv85NwzAi3Av8X3nop/37DgXluAh+P7/Dvwx2e0dU9832ng+fiZ3rBIH5dsB/gtIAKq8fP/7/j4dcCD8Tvbx4LxGsv0j4HPxX17HNgWn3s4lkEpvt/3LtKffwN+4Sxz5CiWQHfH/f2/QPI8ZdaKnTNz7/TTC859G/BcLK8B4N/OIsvXLTj3w8Ce+FkPAz++4NzrsGPqlzg15n94wfkE8D+x824E+FMgteD8++JrhoAfYe3OtR+JZTA/187JdRdBjm8BQsBd5NxfA3+3YNIF8QMrIMXphLczfvn3AX78AgLOTo4fje9zC1ADro/P3xEPDjf+7B4WDN4LfGEh8AHAA/4TdhB/Aqsh3IAloy3nahdox5LJd8Xnfz5+vrm23hH//SPx+d8AHo3PHQd+cglyDLFaeyKWxeuAE2c80wNz18d//wHwv5Z4/nk5L5DVZ7BfgjfEcn4I2IpdJewGfjD+bBvw3UA6ls8/cvpkfix+r378nmcXvNM+7Jfi27Dj441YkvvuRfp4rnbm32H8dwZLHj8cy/Y27BfRzgUyncBOOBf4W+Dvz2e8xOd/I35HPwXcBMgi5PgSsBFLdt9Y8A7P9Syfw07sEEgCr42P34YlkbsBB/gX7PxJLCHLCaAjvvZbsV9wArwW++V5+xlj6v/Fjvm3xedbFoydz8bPkQP+FfjtBVwwAtwYy/wTZ5MdqzvXDgLXc8ZcW25y/A/A8BLnPgQ8uGDSPbzURIyF8ncLzqWBOmcnx4XfsE8A37dEP34B+JeLJMcK4MR/5+Jr717w+aeB7zhXu1it+LEF5wQ7Yefa+jx2ws49r8IOyk3AN4k1Y15OjnViLWTBsTPJ8XuBb8S/O1iN7K4LIMdXnfG8v7rg798D/nCJe90KTMW/92MHf3rB+b9Z8E5/Ffj4GddXgN85jzE4386Z73DB8z9yxjV/BvzXBTL98wXn3gbsPZ/xskCmP40lvRpWa/rBBeePAj9xxv0PnYfMerAa43/ijDkG/Anwm2e8txks2S0myy8u7NMZ5z4N/PwZY95dcH4US0SC1aC3LTh3L3Ak/v0vgQ8tOLfjbLJjdefajy44Pz/XzjbOLsZmNQ60i4hrjAnPONcTn5/DwFnu07vwvDGmLCIT52h7eMHvZexSHhHZAfw+1g6Uxn47PH2Oey2FCWNMFP9eif8fWXC+cp7tnvl85oyNk03Yb+NPi8icHAWrBfRhlxWLYcwYUz3HM3wG+FMR2QJcC8wYY544xzULcebznvl3N4CIpLGaxVuwy0WAnIg42OefNMaUF1w7gNWmwD7/94jIty84n8BqVqfhbO0seFcLsQm4W0SmFxxzgY8v+HvRsXQ+iNv8Y+CPRSSF1f7/UkSeMMbsiT+2cOwfw8rjXDLbiH3vA7x8jm0CflBEfjb+Oxk/Uy+Ly9IDvhK3+Vbgv2LJS2HH6osLPjtxxlyek0dH/NmnRWTunGC/HIjbXjjPji0qsKVxOefah0Xk9xYcm5trS/b5YjZkHsN+W37XwoMikgXeil2CzffzLPc5CWxYcH2KRSbGeeJPgL3AdmNMHvg17MOvNM7W7pnPJwv/xr7MCew3Y3P8k8IuB/qAry/R5pkyfZmMY/L8JFbLfw+nk8Jy4pew5Ht3/PyviY8L9vlbYzKYw8YFvw9gtZ25Z2/GLlX//gLbgZfLYAD42sJ7G2OyxpifvLjHXBrGmIox5o+xtqydC04tfNZ+rHYJZ3+WAewX5m7sHPuOM57ptxbI6kNYU8DfsYgsjTEZY8yHRCQB/DPWvNEVX/sA5zc/xrEEdcOC+zYZY+a+SE4u8pwrhUudaz9+hnxSxphHz9bgBZOjMWYG+G/A/xKRt4iIJyKbsZPxBOc/Ef8J+HYReWW8w/1BLp7QclibQ1FErgOWfRJcRLufA24Ske+Id5V/mljjivGnWBveJgAR2SAiv40lh78xxiz8Zj8bRoA2EWk64/jHgB8C3s7KkWMOO3mmRaQVq50AYIw5BjwFfDB2fbkXWKjZ/A32/b9ZRBwRSWK1oR4RSS74cc/WTowRrE10Dv8G7BCR98Tj0xORV4jI9ef5XGfe7zSIyC/ELlQpEXFF5AfjPj674GM/Hb/TVuDXgX+Ij59NZiexS8APAb+N1Ux/Lf6C+UvgF0Tk4/Hk94BeEcktJsu4fxuw9t4E1p4Xxlrkm85HCMYYjbXz/4GIdMbP3icib44/8kngh0RkZ9zHM9/LcuJS59p/FpEb4mdoEpHvOVeDF+XKY4z5XSxz/8+4w49j2fl+Y0ztPO+xC/hZLBmcxBqXR7HfmBeKXwbejd2N+yinBuJKY8l2jTHjwPcAv4vVEHdiyaIWn/8XrM3ooyJisFrTj2KXDj98vh0wxuwF/g44HPtK9sbHv4G1Xz0TE9VK4A+xm0LjWDvpF844/wNYG9UE8N+x8pl7/gGsofzXsBN3ALsJ9DEsecz9fPA82vkw8E4RmRKRPzLGFLAE8H1YjW2YU5tY54MPAn8dy/Ndi5wvY22vw3Gffhq7kXR4wWc+AXwJuzt8KH5+zuNZ3oNdPfwsdkn5Pqx8PgMcwS4rp4Cfw26yLCXL9wEqlsXPYYlsCjteP3uecgBrzzwIfFNEZrFeB9fG7X4+fp4vx5/58gXc90JxqXPtd4C/j5/hJewq96yQ2EC56oiX5dNYtfnIKndn2SHWsfsE8APGmK9cpja/DHzCGLMskUaXChH5B+zGx0pqGKsOETmK3Qz499Xuy9WI5ZprqxpbLSLfLiJpEclgtdAXsTt9VwTiZU5zbPeZs5F88zK1/Qqsf+Pl0qIX7YOIbBMRJSJvwWo3n16t/jRw5WIl5tpqJ554B3bZMwRsx7rmrA1VdnlwL3ZJNY61t32HMaZy9ksuHSLy19jlzy/Ey6rVQjfWfaMI/BHW9/LZs17RQAMXh2Wfa5e0rI61gQ9jt/b/3BjzoUvpzJWIhowaWA40xtHlx0WTY+yXtR/rjX8CeBL4fmPM7uXr3vpGQ0YNLAca42h1cCnL6ruAg8aYw8aYOnbX+R3L060rBg0ZnQdil7B9InJQRN6/2v1Zg2iMo1XApWR16eP0KIAT2LjPJeFLwiTJXEKT6wdVSmDdCy5MRm7apPxmiDV64yqMiHUANQa0QSKNcRTGW/DdZkCM/YxE8WrAGDBgHAEl9lptMI5C+2dcq018j0VWEiIYwZq4DadcruO/JdL2No4COXWvOa9VowTjCBIZJNTz96zWpgnCsouNNpnXikTks0tpRWcbQ2H74sed1mDR4wCyv77kuaVgcuklz0mhvOS5zhsXD2wafSm56PEqJeqmNhfJcd7j6GqbZ7GMlh0rnvJKRN4LvBcgSZq75f6VbnJN4HHzEAHnN/FOk5GX554dP0qUS6I9hYQaMSBBhAR6/hqdcgnyNjuckVPECKBCS4JOKUDVI6QeQhAStWWptSUwIhgHJIo/G2rcUohEti3jCOXeFLWcIjdQJ3FylrA5Tb3VRwUGp2wjzYynwICqRYgxmDjEzCnXkXpIlEsSZTy0IxhXnSJuJRglPPONPyKYLc9rRbEs5rSiRckxSWbJMTTxXfcuejz3rqFFjwP4b7xwF9Dw7juWPOd+5bklz/30p/csevyPt+9Y9Pjj5qFFjy+Gq3merRQuZVk9yOmhQxviY6fBGPMRY8ydxpg7vfP2wb1icMEy8t0MKKvZRQkFIpa0Io3oWEPzFEZJrKFZIoRYQ1NC5CuihIP2HYzn2M/UA4wIQVqhfUEikMig6hon0KjQtjGnnYYJIUxjNcFqHRWeImaJNVAJtNUEBavdRhoVREgQQRBaohVBNDi1CIkM2ldo15JzrFkuphX1LedLuAJwznF0lc+zFcGlaI5PAtvFJjcYxEYjvHtZenXl4IJlpD1FtSttiSs0oEC7CnHs95gRwLEkiDYowzxx6fgzKrAkp32HKO3i+g4qbbXM9GgdowTtnFqJGCVESTsUwoyLccAra7wKaFeobWoDAaeq55flTiXAGZ4C1yHobUEnHFQgGG0g5SFeTM4K3EqEUzpdizYip2nCZ8OZWtFViCtrromAKDDx+1+j3nsXTY7GmFBEfgabGskB/jIOCVw/mMs0IgpR8cTWiyV5uThcjIyMI4QZB7cUIUG8VHVjmx+WVOZseRLbCudIRsVjTQWR1f4yLlFSAS6OEiTUOLN1uxxOe/Man23DkmSYtpqdPxvh1CLClEOtxcOpadxKNN9HIoOenEJ8D3pbMI5gImsbNZ4DSmFca+uUSCOVOmg9b5+EeVvleWlFwEcA8tK6NmfSCmLdz7WYDEWdmm9zNnATRXY8L+O8Wy5cks3RGPMANsPHuoLT1oqkUpRu7mV2k0ulU6j2hGQPu/Q9OIMzXSQaGMSEZ2Zku3BcqIxUaEhMBlb7A8KUg/YVTlWj6hE66RClHCQ0uNXIbrgou9nhzlqDf5hPon1lN0E0EC+7dcJqkvNLYm3mtUxE0K7CSShIKKKk1SZnN7pUugz1dkO+u0JhIE/Hk4rEjEsm6McAUdK1hGnsMl8nHLvEF9sv7Sokn5rXECSIkPJ8CP2VpRWtENblXFMO4rmU33oLYze7hBlD2BQhgaCqiuS40P1EFW+yAgeOoctLb2atBq6+GiQiSC6Lbs4yfrNHeHuBN23dywe6vsp/OPAuioc2kB5yUUPDsAzkeMHdCzXedDXeYVbovEeYUqi6RiJjNcuk4FY5tbssdttYSpYcdVuaMOWcnuMoXmaHaYVTNXjVCBVEqHLdkpZSiKtQGddqkCkh8oVyn0FtLfKu7S/yO13P8XMbXsFXjr2CyHNwSxlEY22jxEn+DESetZnazR6D8RSRI/Nar6pFuNUg7tbyaUXaWfz4zKd6l7ym44JTEIL70MWlCm1ziovfb8PiJlYZ9i6qnbUCcRzEdRm9zeUNb3uaO3NH+Jb0YcYin121Xv7+5F0Mz24iO+SSPZGESmVNLbGvHnIUQWWzqEyakfv7mL0GUtdP8db+vdyTPYQnCiUG0Uu4s1wmGLHuO9pzQIm119XspkeY8zBKcKt2I0XVTi1FxBh0c8a63biCGIMEdnfYLYU4lQDjKbTjoBxLssYou4ssQpT2MY4QJR3ClDC506HaFdLcN8v17SM0ORW+WlEcL7WifdDeqXaJ3XyipINo23+wGi0uEIJg7GcjrJaaS1rXH9apVtTA0hBBXA/ZuY1aV4ZaV0izZ7XCoTDFc9V+vjB2I3sHutkwFJEaqWKqtTVFjHBVkaNCNTeh2/LM3F/h129/gFckj3Gdl0BjCIxVO0TH7iZ6lV6UCNpz0Amr+bmFOlINqXdlqOcdnKrBiQlTVU9ptsZT1FuTpzZaNLjVCKlr3NkqUqqgMj7aFbQnligB8a2mGDTZc2FKCFMK99Zp/tO2p9ngT9DpFjhU7+Rfp29lsNBEmDK4iTkjKNZ2qYQodUqGAEbZ40rHpKhjO6MIYc6fJ8cGrjCIQnyP6RuamNmmaO0bp8ubJTKK42Erj89u5fmDG0kd9ckeGEcmZ4hqF5OpcGVx1ZCj8j3qmzso9Sboax9muz9Mq7Ka1/6gzpPVTRw42cnWkSpqqog257eTuuwwBlUP5+122ncQJejYfcc6NM49lHW8jjLevBvPQmhHofx4g8RdQP4hqLq2BnElsYYaEnmKSrtPrUnwXUu8gXGpGo/jtTaem9rA5FSGVElQAUQpB60NUUJhFNa+acAraZxahHbi47FdVIUaVQnBta5GDVx5ENfF6d9A1JJheoci3FHm7o6TdHnTjATNHKp28txIH9m9PpkhjRTKmGrVboauMVw15CipFGO3pShs1fxE74vckwBit5AHijfyf/feS+L5NOrF54nK5VVT8SUyqEqAZH0iV2Gydv0aphTawTpvz3VNKaK0R6nHuun4BX0qOgZrC4xQqFqEU/di30i76aOqgdVSEy5ogztRwUm6VG9OUOky9CXqlLXPTGRl9OJ0L4cPdeGPuyTHDCqCavMpghNj5p3K3UKAO11GZxJ2s8ZTaE+hqhHOTAmTSkDevzyFLBq4rJBUisLNnRT6XDa95hjv2/QFmlWFtITsr/bw5ZM7KL/UwrZPD8NskWhi0u5Yr7ElNVwN5KgcnHwW2lsobTCkN82y1R/DEcV4VGJSwzcmriHcn6N1UGPqweq+KCUY34XIoAJrzzOOoEKDE4CExCF88c5vZHBq5rSwPRXEkS4LyMcohWiDW9Wx1gg4p/wmo3yCMOtR7TREPTU60wXSqk5Ve5R1MyPFLN6UizcreBU9T4S2E7GtNNZeja8wCW/enjm3Ky7GYDwXI1aLlLU3Hxq4WIigEglUPsfMFpfCZs23NJ2k2ylSMi5jOs0Ls32MHG2l+aQghRK6XFmzxAhXATmqVBK9vZ/ipjT3vnoXv9zzJTa5BkjxaLWDRwrXsvvRrWz/6BCmUCQKLjzWdjlhXEXQnMSphji1iCjhWL9EbVB1QQUx0cTLEKcakh7S85spAP5MHQkijOdYN5rIYDwHVQtJTCzQLkUsMSYcyh0u1VbFplcM8Kau3bQ6JZIq4JniJg4VO5g80Uz7PvBLmuREYCNrilZWxlMYz6HcnSDyhXreI0w6NpY6jo5xqnWrqeZTtt+lAKILN12YfJrafa9Y9FzHnz626PHx9y4eVgjwf44tVccMvvc337fo8bY/X7ydc+H/3Xr7osfH/3XxOOjgF9aPTVZcD9XVQX1jG01vOckHtjzETYmTdCjh0VqO58ubePKFbWz7xxB/dIZoYgoTrrIicg5c8eQonku1LUmlVbElPcEm1xAYzcmwyCOF23joxA7SJwU9Pml3zFYZhtjJGk6FBgYaZRRGx9qhAvSpzziVwCaocNXLlqo25hnw1HxiCLD2QRNH2mhXCNNCmIGOZJFeb5pClGQmSHOo2MGhyTa8aQevbHBqej588FQbYLSZ1wS1K4gW66S+kABjX0obCrl2J0UDFwgRVCZFdVsnhY0+t7XsY6c/TE7sbt1LlY18ZWwHyREXf3QGmSmueWKEq4Ecs1nGbvUo9YfckDpBUly+VmnipcpGPvOFe9j0QAV/aIiwWFwbL0ssuWhXoQBVC+f9G1GKKOkSpRyUstEmqhqhxmfAUWDyVlv0HUwi1tyMQadcG2vtCtoXVM3gzwYYVwiT1vex0i7UWg2dyQI5VeFz4zdzcLqdqV3t5A9BbtqQGot9E5XVUqOkY5fx9Qgcsb9Hdpc68pWNs46X3tp35xNOoKSxpL5SoBy7Otu2gRM/HnB3/wF+suOrbPU8ZnSdMW3406deQ+/nPfqPFjBHBtBBuDbm2jlw5ZKjclCZNLo5R7Vdk+yo0KzKRMbwUmUj35zaQmZQ8A4MoYultfOyhDjcSs5IVSaAjWZZaEuci0ohmnMSN5iEJSExGqPtrrWOtUTriG0wMQFHKUWQVgRNhqgpJK3qBMblZDnPxFSW1ISQHo1wK3qeBLV7Ks5bwMZ6x7ZF0aAiM5/YQrSZt2siYnfY5+2hjR2Z9Q7xXFRzE5W2FDf1HuVtrS/S64a4pBgKXY6GbbgjPrnDBZyxGcLKilcJWTZcseTo9nQx/ap+Zjcrvvv+R7k/t4tt3hRHQoc//8rr6X4MundPoienrVF4jUEimylHJ+Nd5tD+rebTi1l/TOMqdFveOnKnPGt7TDhoR1CetTdqzy6n3XKEWw6s+0/CodbiMrXDodqhecOrnufa9AgRwguVjRzb003TPofcYEhqqGK1PhGbytG1rkDuVAUURLkkuOAVonnfTFWPLBEriFIeYdY7tTFD7F7U4Mb1DRGcvh5G7u9hdgv8QPtL3J0cICEOE7rCf9r1w0ztaaPvGxHq4AB6DTp6nw3rx+J7gTDpJMVeRalP861Nz3F/ytoTB8JmMgOK5mfGkIERTFBfW0HvZ4wd44pNTDvnw6jN6enFRDAJz7rkqFjjVLGGFtsT5zRNFWhU2RIXApEn1JsMpq3O/c27eW1mLwBD1WYSkw6Z4YjERIBTshs8wHyyDtEGqdWRamw70vH9axGqGiClKqoWzCe31e7pfpjWZ3PlxNjACkMEcRx0NkmpTwh66mz2x2h1HAKjmYiE8cEmmvdB6kSJaGYWXV082e9axZWnOcahS2FHjtkb6/RtmKRDlRmNNO898G4OD3SwaXcAw2Poytp7WWLAqUbWtpi0hONUrbvD/GZGqNGeQ5RZ4GcYxoknjAGTnE9EK8bML6etDVCDhDhlhWiPsDkknalxsNrNSNDMPx67nfGJHC1DhuRkYHek6wGkfYK8h3FtvkjXUzgzPhJFOLM1u+udsVEvxnctiUbGkqojRElByganEs6nSJtLjtvA+oNKpVCtLRS25sneOc59HYN0O0VmdMTHpu/kuZkNtDzr0vnYJIyME60jjXEOVyA5KsRzCbMeHT0z3No2SEZpprXi8OEusvs9UoNTRLOzq93TxWFsZm6ddu3SOLBa4sJUZUQGfLvpMafJKdE243cYoZKeDQ2c84dUgohdmhNpUApVtxEwkopI+gFTYZqpMM34WB5nxCcxY4lM1UMkjDCCTVTr2YQUKhSM51jn77p1KJeUh3E45d9YCyCyade0Y/svQQSezfN4MZqjzJZJfP7JC7qm/SNLu9781EfuW/Jc7VcuvIOHP3Hrkue2vvu5RY8n/qZ10eNqYu1OT0kkMPkMlRaHe7uP8MrcQXIqomqEJ6Y2s/dkJ73HQvT+I3Zneh1i7Ur/IuF2tlO/pofJ63zetfEFrk2e5MHSNbxY3kDLMy7tL5SQofHV7ubZIWJ9A+M/tavQCQftKbzZOk7BaryOb3egw4yDdh2c5jQq1BhXnSJGY30hJbQEq3NJwqxPrcWj1K1obi7RnKqyZ7ab6WqKxJEEqRGDUVDuSZFyFK6xbjpuKcIocDyFCjQmYf0o0XYYSWRQOrQ75p5AwkG0IUxZMgyTinpbCqcWkRgrz6dla2AdYW45fc0GBt6Qo7w14L78fvrdSQbCNHtrvex9bAtN+yF9dJxoDdrzzxdXHDmafJbZLSmK/ZrvzD9LTmk+NHI/j49sov3FCvLo86zp1yW2GJWqRUik0QkbfhclFFFS4ZYUUgtQSqHqLka5RL51jQlzntU0g9OjT6Qe2mSzmSRhyqfe5FLuUNRaYXO2SNqtc3S6ldliiuYhQ+ZkRK1JUW1RuBUPp+TG/pThfJIJwGYOmsuqFftbqsgQxq5DJt55j5I2xlp7Qj3v4E8b/IlZCC5/SrgGLhGiwHEo96Vw757iVZ0nuSMxiCfwZLWXF8sbaH/W0PLoCfTk1Nqy518grhhylDtvZOz2HFFSCDIQ5UIOh62MhXk+9/QtpI+7dIyNrG1i5JQTuHFPbcKItiUTTD32GUwnwbXFt1Sg8UpWA5O4sBYiGBakX1MKPJfZHXkmbrB7cGKg3hrhOxHl0GfqZB53xkXVwbjWSVwFsc9i2ptfvgML4rfPsCMpS4I2+46JXXqMDQjHsTHdcc0a05SFsUbyifUGt7eboL+dqR0ur+07zLXpYarG4UDQzIf2v4XxoSauGaphiiUbiruOccWQ4+idOXa8Zx9HZ1qZOd6K31xjX7WXJ2Y2s+GLQm7/BGZweLW7eW6IrSMDcxl07I9SNosOCnTWny/RqmqhVd5iUjp1n7huqo4dyH2XqR2Ku970EscLrRw70Y6XrpN0AqarKVLHPZKTBqdurK0zIq4XI9YNJyY6CTUqrlJ4plvGXBlZiMmxFqGqIRK58zVxnGpoC321pObzPjawfhBuaGPs9gylnTXe2/E1MhIyrX2eKm+h8kg7vUc0/pEhwpnZUzVi1inWPTmqXA5Jp6i1CLflB+hOzrIrUSOIHD55/HZGRprYPlpDZoroVcjsfcGIE0eo0CaHsKnKrGO1M7dkjn0Xo4x32nWiYs0yDhNUCkwkaN9He0KYMaScgN7MDLLRUAk8nh/soz6ToGXC4Bdsth0EGyYYgVPX80t1FdstjWtjvaWm59OmGceGLxonTrQbbwTppItxlE1nRlwsbC6qZv1tYF61ENdFXJfZjSmmbw7YsXGEZhVSNcKuWi+7Cz2kxgypsTqmFucnWIc71Aux/smxvZWgp5nyxpB35p8lp4R0l8MfTd7C3338fnoGNO6+o4QTk+viZYm2daHnKgoG2SRhWpGYCnFLdeseozUmnaTc6aMigz8bxQl67T2sjU+QyGbiqba51PJC0BKRUCHXNh3jzp7D/O34vTz61dvIjxtyJ2wyiXqzi3YFr2AdxueS/s7Vv9YpjzCXsAQe1UHHzueedSyfqzao6jre3VZW8w20DVfMuDg1jT9dOT3uuoE1DUkkkHSayRscPvz6j9PvTtHjpNhVD/na9HU8O7SBDQeq+IdH0IXCutcaYb2Towi1zW1MXJ8k2zNNTgl1YxiLDAfKnaRHDKnRwH6TLUKMkkigEgkbIRNFmEhbp/DVRFwmgSCCKC6iFR+PMp7dqKloiOwSeC5z+cJkEE5VW9tfHMtcywuVbsFrqpFyAiKE4bCJsWoWt0ScUMJmDfdnmHchMvOan8RlGWzphrmiXFHG1kcWA4QGJXo+dZqJV/VzfZuLGZzbKJpPrrHK+H8O7lny3B9cc+H3W8pd52zI/cM3Fz2uTOnCO7BCUO2tRJ3N1Fo0fe40TSogMMJwlOep4Y3UhtM45eK8nVEcB5zYpqwNGG0T2hq9LpQUWPfkqDjxuiTvePujvCa3lzaV4ps1+KuxV/PVPTu4/slxGB4nKi1e1czp7CBqb7KRHJUaplgmGh9f1ZdnHCHIujjlOqoW4A/X8YFqX55ST4LEVEiiZsumpkbPyCIU2yHdcoBoTdCaJsx6FDZD563DbGsap8efZirM8PnJm9k93E3rhCYxFeIU69Y+eHQGE0bozd3UWhPUml3qWcGpg1M3JGYikicK6LRHqT+NaEidrOJUA9w4iibKJDC+mrdRzuWZBI0ou+w2cXmGBtYBlEPphm7Gb/bo3D7KVjcEFEUT8HDhWszDLXQPapzxWUytBp6HeB6STiGehwkCCENMtYap1Za9BPJKYX2TIxBmNPdmD7LZncKRFGNRlhcnenAmPKRYQVcqtl6u4+O0t0IygUkn0b5LqSdNtdXBqRm8siYxUcMxGlOro1crS4+x9sX5zZVYGxS9YJc4LoMqQRTb++JNkDNuNbdpon1DV7pAq18mreoMhK0cmO6gNpO0O8jhqfZMcw6UorQhTbVFUc8LYRpUCCqwDuDeTGK+jAPExbocFe9M27+1q6wTeSVEJ935mjhzxcvmHMUbWOOIy6tWWxwqXZod2Rk8UUzrkBNhiqPlNhLTBr8QYTwXyecgl8Z4DvXWNFHSiQMZDE45DkUtVdCj45ggXP2V2lmwrslRlBDlIl6fGsOLXaa/PHM9xa910nlMo6dnMGGIymaQ5iYG376BUq/B3z7LlrZJbs7uZ2NykuFaE4PVZh7fu5W+B64hPVxDPbXHfgte7mcKNf5YxdoVXQW+DbNzywHpeqyZJe3ur1MJ0D5EaVsmwalGGJTdzSau2xIYdFKzLTtOf2KSPm+SB4o3Mf54N/kp6yA+F2YYZXyGX5Wj0mnwdlgZKTG4EhEah1Ar9h7vpp7P4JYNyWmNCg31Zh8xBqeqwUCQd4g8Ib+vBAePo67fwuzWFG7VkJgK42QU7ql48QbWLFQmjaRTTF0vvPm+Z3lNfh8Az9fb+ejga3n+8AY2DwZ4hYD6xhbCtMPInR61zoiebWPsaB4j0A7aCAen2xkfy5Pa10b/57O2PvyJoWWpD78SWLfkOGcvlIQmK9b2FRnNdJAiOWFITEcQBDacsLmJqD1Ptd0QdtW5o/sk9zQf5qbkANd6MwxFCY4G7QwVm5jt60FMgqzrrg45zsdDx24uChuVEBmUjrN7+8qmIzvDbmfirGAmTnmm4/rROIasU8MTOwgroYdXAK8UpxRTEGV8wpRDtd0QdAZsbZnm2twICRXiqYhAO0QoxssZZrsS+NNCcsa2q725xLYqtjeecufR9brVKOeS7M5pjkoam9VrHSKobAbTnCNo1tyaPU6vN0VgNINBKwcn2nEmPZxaHQzU8y61vEO1OyTTVeK1XQe5J3sQAI3iqcwWnkr1s6/cR6UvQ9JzkNHxNbvMXp/kqBy4aTvFvjTtHVMAhEQEJmK6niYxo/Fm6xhjcNpbGXrbBqodUOsKcHzN4ek2pmspOvoK3JesklMhm90hklu/yCe/7y6+8eJ2dj6aRZcuv0Fce4pqd2Z+o8VGyph5UokSDmHGJrJVGRcVaNySNYJrN872bQw4QnGDT7VVSLXNknZqlHWCw7UuZuuJUxsjSqg3u4zclSDIG0x/heZMlRPTzQxMNXNH7wCvbDrETJRmMszw6u5DFN9ygkcHt1CbbMIv2vW4MYJS1raYGq3NpyxTW/oxxpA/Eif5MAbjKHTq5VnLG1hbUIkEU6/dzPQ1ip03HuH+9H6qxuFw6PLp4VvxH8yTm7bjNGjymdjpUms1dG+eYFvTBP2JCTKqRpsqk1MBve4Ud2UO8UTrNr7Yfz0DB1rZ8Rf9uONTROMTa06DXJfkKEqodqYo9Ln0pC2BBSaioENKgY9Xts7RaAOuS60Nam0ROAYdKKYLKSp1j7GuHIpRspIgK/CKxCjJzm9wqL8N09qEKpUvu+3RZqyxpU9xJN7tjTDEGxlxGJ44WHLRghu7/TDnVB2nLavnhWqboSlVw5OImvYoa59a4M6XUQW7O11riZPdJgKU0lQKKXTVYbY9RVIFVE1AUgW0+CW2+qNM1dMcyDSjQttXtUA7VPUIVapZLTefsiaAmSq4yu5+q9MT9orIUaCArW4dGmPuXHlJW/zBNdcv6/3czf1LnguPHl/8xFK219VUrZUDnke5U1HZFHBD00l6HJ8TUcBgmOfkbJ78QIRbjjNGeWITJudDsn6dlBNQNR4TUZakBKQJyUlAzhsnmQ1o2lzm4+FdhC0pvGoNpqahQY6XDkkkGHiTw5tf9Qzf0fI0AM/Uk3xp9iYOH+xm555RzMwsURigJybpf6Bp3hfPKCFMJYkSwkff/SpeefsBep0aPU6aJuVza2Ka39j+Of7nh9/M0aPXcf3vThAdOHz5nk0b3GJkQ++0QepxVh5XoR3rQO3UYm1NbK7HemvylJaprYN4mHSYvr3Ot+zcy47MCBu9SZ4ubeaZqY1MDefpHtZ4FY1biXDqmu7HHSLPIcjk0S7kHcE4sDvTzc58N/2JCV6V2T/fz1e3HGTsO7KcGGuh6aEUqclTRbuCvI9kPYKMS5gSkpMhieEixsThhJ4QpdSZu9WvN8as8YwgVwlEcFqaoKWJmRsC3nnHU7wp/yIazXO1Xj49djszJ5roHC0jkSZK+0hkSJ0UvBmPE0MbGVAbebR2CxJBkDcEWUPbtkl+YMsTNDtlbkke52BvJw+//jYyg0k6/61ENDK62k9+GtYnOXourddM8r96H50/NhC08czURvxxBz08ii5b9x1dLsPTu07L6utnMkgqydBrr2H45iYyMkGPA2nlk8bnLakyb9r5Kf6wZwcPNb/y8j6bjiNhQrvzO1eMysB8nRaJ5kqqWtef0ItLt1aj+d1t4wgb+8b5qa4vUzUuVWO1xtFiFmfWITET4dRs1ItUDYnRMmhtE+e6inqzT5hWzMwkmA7TbEuOss2bsmU2owxbEyP8eP/DPJi7gWcfucku++PyB1HShhHWmhRBRnArDom5cg6xFq7dRrLbNQtRSCqFzqbIdxX5npYn6HZqgMtQ0MKBqQ68aYVTrNnEIlkf0eDPGrwyuGXrg5seruMWatQ609SaXYZ1Kwe7urg2PUxf8hg3Zob40uYbQPmI76/2U78M65IcF8MzxU3s2buBlhOcs+yBeK7NR5eOuMEfpSnWYMajEsdCj09O38WnHryXzAmhb+AQl1XZ1wanWCfMJWwoXuwjKJGxeRzjWtOiDU79VBSCRAanULWbIGkfo4Spms9ElCHAITAuw9U805NZ/JICIhuCmIhD++I8knMuNl45xKkp8IRbs8dJqoAX690MB00cqHRxpNTGc0c3IuM+PaMabzY6rWQsgFtxiBIKr2DTmBnfJczYsg9eIVqQwAIDfElEDPBnxpiPXD6BN3AmxHMJe1up9KTozJ2kTdXwgMBopsIMM4UUKhTCptR8MmVV1zQdrYEBb7pqM0EVyph6nWQpSyKTZPK6ZjSCJyFNKqLJKeEkIrRn1qTnwhVDjoeKHWSPuGRGTmlPS8JxwHNxUhGb3fT84Rlt2FXr5XNHbmDHh48RDg5dXmIkTthQCTDNSaKkmrc7uZUIVdPzGzPzy+i51WwQoYpViCIUNudiLXAp6BQRgjaKqWoaZl2cKjYSx4EwpeLa0o71B43hlEMcQFyPmxMDDIYtHK51crTaxq7pHo6NtNH0eJLEjCY1XkdVwjhVmgFt48Kd4qlCYUYptO8QpmyOR7cULiTS+4wxgyLSCTwoInuNMQ/Py0TkvcB7AZKcel8NrAzEcai2JSl3OmxIFueVhwDDTJgiKHukQggzLipOZqwCjTc8g1Rq6PEJogWeHmpmFvF9/NlmIiMoMWREkVF1lBOhHdakz+u6JUcRgyOnFst5v0K9yRBkLkDIZ9zjUNDCP43cSXkoiwnHlrO75w3jCDqTsG44c3VX4kdylF1WuxVb7sCpRfPXiAHjueA6Vktz7HMFxqHZKZNTFTpSRfanNEY5uKX42vieRgRx4tIGBqK0axPZimE0yhEhtLuznFRNlOo+UcXBKxrrDhSnSlP10BKjih3T49yUxlG2T0rsUj6KKxnOOZ4bMxj/Pyoi/wLcBcyTY6xJfgQgL60ND6CVhtY4NY1Thbp2eFmUdPzFqn2FVLV19q+GSLFso2DOiJmXVArJZ6nn4frMSTrdWSa15oXKRpw9WbIDBlNae1UJr5icUV2JAvW2iHpOLlpF31fr5cV9G8kcc2zdlNWAowizHtqTuJKgEKSFMK0I09bR3S3WcYt1pBIgc0WsjMEkPUzKt0TkWhlEKFqdItu9Cv2pSbxsHeOAO1PDLdRw4g2ZuSS2c1E1Qdql1uwiYhgOmwHodmfwJKJU85GKQ3Imwp8JbemDyEDdhmHOF/6Ka23rhEuQddGejZpxyqGtx20MIpIRkRyAiGSANwEvrYLkG4hhjI219yqacuhTN+b0GjBiMMrMJzF2Z6s4MyX0zCzRzKyNellgX5ZMGt2So96seUXqML3uFGNRimenN9L1ZED7U1OYQmGVnnZpnFNzFJGNwMeALuwi7yPGmA+LSCvwD8Bm4CjwLmPM1Mp19ezo9GdJtFaodOaQ67ct7n0fp3intZmwLUsyeYoAI6M5UW8hOeSRGjMX5HNVNWV28SR17Hq1jy1xcxcvI7cUVwhMWg3SqZk4E44trqWMXVYbHJuRG1ALfCGjhINSBgdN1XhM6zoJFZLLVphqTzK7I4db1ThVPW/7s+nIBCOKIKuoZxWJVEBeVUhKgC8Rs2GK4mgGf1qhHW3diiKNRJElRM/F+C7ad2zWnVDHZWVVnIg3tplG85OnC/gXscsqF/iEMeYL5y38BXB27lj0eLR7/6LHVwJLuusAh/72tkWPq4Ek4fQUI//wd0TFIgD5u++h/kzmksbQRUMb3MkSKVc4NtnC13s3st0fodep0+KWyTRVqU54p9yxtLY/WDc7gzXRqKY8kkpRuqWXmc0e3oYCSQk5FHTw9dkd7BnsZut4FTVVJFqDGZrOZ1kdAr9kjHkm/oZ/WkQeBH4IeMgY8yEReT/wfuBXV66rp8MYIYrTIjmi2J4Y4fa+EzwRbmL4lc3khrJkJqYwC/wUxXGQRILaxhaKfT7t2ZOA9ZHUaPbMdtP+QkR6qIKpn3/MpyBs52by0kJoAp7gIWKl/P1chIxEG7yJMlIPMOmErfEcakRbt4ko5VrbXhAiSs3HLROXJQgzLkFG4bshSjQFnUQbRc6pcm3rGHuNMBq0kBh36Xg+sFnG4+sj1y5/K22KWqvQmS/GGmNIUkKGKnmyBzy8orGFtlIKCSJbhsF1MI5DlPGJEg5eoY6qxLYnZUvEGiU2+YSecx43h4FbzlvYVyqUQ/u3vZ1E3wZ0rcqJP/oD62t4kWPoUmCCOvrwcbzxPPWD1/A3bffw9q7n6cjsZ1NinJu7hnhsehtGOXalEdjCbrbyp2utQI6D2dBFrT3NiW9xuPHOQ9zbepi0hDxd2sK/Pn0r2YMezuF9hJPT6zNCxhhzEjgZ/14QkT1AH/AO4HXxx/4a+CqXixy1YaZgM/B0OBVaFeSUw87cSSa70+y/YQO1VhevsMMWpBqfBa2JWvOEWZ/xmxOUew1vbBkmMprjYYVd9U4OjrXTN1HHmamgL6AwUEJSJEgB4IpH2uQoUYCLkZGxvo24CqO8UyGCCgynMoTbY/bvufRiJq5bLcYmqqgFHmNhnrKqURCbqqwzWWA6l2K2J0XFS1Acc3ErBrcWa52+EHlCaSPU2wM60wVmdZLpKM1MlOHodCt+weCWwa0aVN0QZROohGerH8bvR0U2vFEnvNiZXVuC9BRGy6nwyAYAcPN53HweAJVI4nV2EYyMwGrNsyiCWo30SWHXwT76M1O8Ln2AnKqyNTPOvo4Opq9px59xyKc7UHWNW+qIs8fbPJ6zm3xqrYLqK7I9N4oSzTO1jTw10U/6qEd20CZ5WYvECBe4ISMim4HbgMeBrpg4AYaxy6PLAhOGyKE0v972XdzXeYh7swfoc2b46ZZneG/L0xS2GR6pbOV/3PZGyuNpWp/O4tRh8iaDbq/zI7d9me/OP0O3A5DkU4Vb+Ivdr8R9Oof3/C50sXTRoUwVU6LANB4JuAgZSahxZ6sErWm0r2zS28gg+tTO9VxIoUl6dlc4jj4JWpLzuRjdilCaTvHM7CYSToivQjq9ArdmjrM9NcIr2zLsLvTwzfxWKLqkBh1LqG2GMBtx7y0HeFPbLgpRin21Hh6b3MpLQz1wNEPPYIRbiXBLAdpVFDemMAqyQzWcUmA3ZqoQZX2ivI9TDnELNXTCJUq6KMAkGynLlkIwOUl9cBCVTsMqzTMThkTFEn1fHKPz6SxffO/1vKv1CfrcKbY1jXFb+hiP9O7geKmFF070oesOJvBADF62TiJR486e/VyXGWaDP0mfO8XnZ2/mn4/fxtTTHVzziQHMbHHejLAWcd7kKCJZ4J+BXzDGzMqCrXdjjIl91Ba7bvndMLQmNSocO9ZBqBWz7Unuzh2myzlGWjl0eilK5ji3dA9xONXG5FQHEoDXX6K3ZYa70oe43k9TMwEVU2dvsYfgRIbcmEFXqhdNjKEJeYHHuJZbOcLe086dt4y8/Lx/o82HaOvAINiNJmPmSRKlmPPlMY7MJ3yY+9+ZcnlmZAOZRJ2sX6OS9Ug7NRwM7W6BvlSKXHOZsp+gEiURDaa1TjIdsDk9Qbc7Q2QU5dBnpp4imE2QKkjsVhTHfM+FMYotz6BchdSiU8vmBQRoNdo4PdoadN1YC9C1GsN/89e0vf0dTH/5odPOXfZ5ZjQyNYunDYy185Xi9VyfHOL25Am63Wluzxyl3StSChJUQo96ZG3frakyWa/GLbkBtvqjFHSK/fVunp/qY+RYK80nBT05jS6V13Ti2/MiRxHxsMT4t8aYT8WHR0SkxxhzUkR6gEVjf1bCDUPXavR99gQ9D2eZ3dHJ1/q6+dztNzJ028PclDzBG1MVrvUcPrTxXyn1KYauzREZRbdbICkRvY4DJBkKawxEWb6851q2/1MFd6xAdAG2xtP6ZDQv8Bjd9NMpfRwxe+FiZJTfYMKWFO50Fbd+iqR1NkmY8eYza2tXWQ3MEZtbcS4TjoEooUBB78Ma8/UmZvsdxjoN+3p62Lehi/7cJK9t3s/m5DjfumkXAOkb6yRUQKtTIqkCAuMwGLQA0O4WmK0mSQ56pEcM/njZ2jazPsZVNpefSFynxsOLDMSlZVXdFuMySoHWuAUbVdHI5/hymChi+ON/Re7W28neePMcOa7aPMMYookpZLZAzzfa+OTsa8m9YoyP7PwbOpwKW9NHCdJHeXv+OarGoawT1I2Djs0/Co1G8Y/Dd/Li8V6yT6W4/sFxZKZIuFr5Ui8A57NbLcBfAHuMMb+/4NRngR8EPhT//5kV6eFiMAY9PIpMTpPzNqHCNJXOJF/buIPxphytzpM0qzpdjkOrEja51odKY11bxqKQw2GVF2ubOFjtwh3x8QZHMcXSRb0wYwy7eYoMOTbJaTumFywjQ6z5mVhjnHOLkTl/xgWJcOPPGhVrjXNcE/+fmA6QuiZMpaxLjesxmGwm0IoNyWnSTp12r4gnER3uLJ5E5JSV1e5aH6P1PCpWVGaKSZJFW1JBQj3vx4hgtVs11594N3qufyrWHl11KgpHrJ9qA6dgjGH0n/4Bv7OL5te8duGp1Ztn2M0ZE0WkRmpkm1KMbWjiG1uuoc+bYqc/goeh24mAiGldJzCK4ShLSScYCtqZidLsH+vAGUySG4zQh45hgnDNEyOAmHN0UkTuAx4BXuTUtPw1rN3xk0A/cAzrYjB5tnvlpdXcLfdfap/nOgaicLIZJJ1Ct7dQ78pQ7vSY3ayobIh4z31fp9+foM21do2BehvjYZaPP3833kCC9JCQHo3IHSkhLx3EhOFFLamnzThP8VWyNM0fi4ioUGznAmXUlO41d1//XnTKjYtk2XRlQd7GOrvFCK9ofRsliGxCiqRni1clHZuDr24jVaKEg3ZPhSAa12byrjUpSr1CpTfkHXc/Q1rVOVjqoB65JN0AbYSnj/ZjJhJ4BcEtCelhQ/5YHacWocoBOIJO2D7O+VSqui0fqwKbqaXWnqKed3ACg1M1uJUQd6Zmd96rNR47/jFmqsMXpD4u6xgCvjj03JLn3tx766LHzasWPw5w5O2pJc9tfHDxVYn3708v6xhabhkBOC0tSD5L0NdKcWOKma0K5+4p+pun+f6eJ8ioGoNBC1Nhhs8O3MTkdBZ/T4r0sCE3EJAcLKImpgmHR5aVGB83DzFrJldkCXI+u9VfZ+kUAcv7Bi4ExoCJiGZnYXYWRsfx9jm09naRGutkqpDg8es3M5zN0+FbcjxabmO8miF5IEnLPk3uSBFnYBRdKqOr1YvuSrO08wbeedqxx81DGGMmuFAZGYNEEcbxbQRCTI56zqYYa4nzNt84Lhp96hWpyG7imLRDlBD8mdMJNdmSwq34iHYZurmJjFvn6Ewr1cAl4UZEWpCTSdKjQmLSkJyJSEyF+BPlU87dc+0bY2OztQ1hXLiTbhw5lQjXjUvGAqI1sk60h8uFZR1DK4BoagqmpnDGJ2k+lMEvbGKgs4l9XQmey/eTdWqM1POMVrOMDTbjTbi07Y7IHppFhieIRkZfHmmzxrFuwwdfBh1hjEaPT5IKI5IncxRP9PGSv9HGbgJOYOul9A/M4EwWMYXiJe1MrwSMqwjzSRuOV4vmo2US4zXc6TJha4ZqVwIJbVkElMTaIbjFwMZczxW6Srso18Q2PyHMJ4hSsVN5YMgf1Rz8mx3zIYoOEMXhg+0lm1nFrdhQMgyE+SSqFuIUqpiER9h0qjzDHClaTdKmI1OhwZ/VeKUQt2C1Ju07iOcgvgsjzqrIuIGLh65UkTAk88IQ22Y6CDMuX2+725pXIpvXc9tEgFOp4Q5PY2YK8xmy1huuHHIEa4sslWwG70FI7VriY3DZE0qcL4zYDRanGrvrOBAlBKcSwMlRVLafekahQhvfaneJBac+V141nLdTylzxrFhBixKKes667KjAkJwIaX7BatVhSwrjynxOyChp61er0O6aG1dsBp9IWYdf34YDQhzrPa8xynzRLwkNbhRZ956ZMiblo7MJqwG7L8vn2MB6gI4wtYjwxCByYhAP8OZWEXN5CuLyq2t1jp0vrixyvAIgxqDqOs7XaJNCqNAQpT3czna0q0jM6Lg8Qmg1zbQDxmpleDb7DQJOJcQr2M0TE9ebdmo2jE+FVkPUaQ+UJT4Ar2zjtY2TwTgObilAFauELWmC1gQoQXTWlmSIbY3hXLmG6Zr1ccyciu82SogyHlGmmblCXoDN+d3gxisD8+YRfcbf6xsNclxrMNjM30psZIkGCUEnHKLWDCjBK4aoWoQTlyIwThIjNksKQJBxMQ6kZ2s4k0V0U4Yo48epyewS2fobGrvxE2cUF41NZFGsILkkJB1UuQ6TM6hMgighcbYfmy/SOHM+lQrtCF4QIZUaynPQyh7HhSDtEmYUKjA2j6MxDV68EnGFkOIcGuS41hDHR6tQQwiSsDvQka8w4tlltGt3seecqW1WbcHEjtcqNJjIlmw1jg1JkyDCWdDGXJozIoNg8Ap2YIfNaaQpZf0o6xqd8pCOVsKsf8quFGfxEX0qfFFCA45gUon59GQSRKiqJXqdsEv0OcxVSFxtLLUjfTYc+oml+33Nex67hN40sJbQIMe1hthvUZUjJIqQjGeLavkK7Vu/QbA2QzG2fILNpCNIaGOq58gryLmYZg9/OsAt1OISmAbj2gzgdplrNVVVrIMjVDZkCVOKxGSIWw4Isz66NRmTc7zsj/NIztknVSWwKdPibN/as1UQnXKAlKo4jkIlnVNZeZD4/wYaWLtokOMagyFOIppyEW1LsLqV2AYpYslxzovGs+nKtBf7GYbWyRoRULbMq1FzETMJm6k7LoWgvdj2WMduosQaqls6lXE8SrqWlONwRq9sULU5rdHMJ8Y1cco0o2JXIxW37zsoYzVJiW2nqmZ9M6OkcwVlE23gSkSDHNcaFIRpZ762i1cIcIt1tO9gPFuB0Lg2UkYnXXTSIUyq+bIJqh5aH0MB5SiMKMKsQ9118adD/IkqJGyeSBVYLZLIEGV9iAz+WAnCiHpPniDrzu+Iu2WNW4jzXyoBjC1/G4cRsiCLOPEGUJT2iNK2ZoyENpTQLdaJ0h7VNq+xW93AmkaDHNcgTiWftUtmra0ND818ga25sEGINcaI+ZIEc1CRhjqAmvdBm9stNk7sR6/ikMQ4Zts4gmAja7QXJ8AIicnOjf0otW3ft6UUwoyNlHErEcxlEZojSmIN1rXx3kZiLbR0ejGuBhpYa2iQ4xqDRAa3HBElHYyyO72k7S6zCk6VMzAumNjP0CtYG6BOOGjfwamGsS0wxDHgChhHWedwbV17Il+sf6RvoA5e8VTlQu0qgpxLkBYSMwavGFJvcil1+fhFTXq4hnEVtbyH9hXVFgcjkBkBt2Rs+3FbEhnCpiRhxkEihfJs1p7UkSlUdW3m8WugAWiQ45qEzNffeHkyiYW/z2fiicx8pm2BeBfYxDHVBhFBjNXo5mDizeJTqe6xmypiXYjmM4vP3V9Au/GGUNy3OXceHS+9Tey9M1c/xO6oW9chEyfPmHu+RvhgA2sd50w8sayNiYwBJWD8sjV6edDOy59pkzGm40JvdIXKaDH5wEXIKJbPsfO49+XCSrbfGEOnY9nm2fngspIjgIg8ZYy587I2usJY7me60mS0ks+z2rJa7faXwlrt16Xgcj9Tw5migQYaaGARNMixgQYaaGARrAY5fmQV2lxpLPczXWkyWsnnWW1ZrXb7S2Gt9utScFmf6bLbHBtooIEG1gMay+oGGmiggUVw2chRRN4iIvtE5KCIvP9ytbucEJGNIvIVEdktIrtE5Ofj4x8UkUEReS7+edtF3r8ho/NvZ9VlJSJHReTF+HmeWo0+LIa1IJtLweUaQ+eEMWbFf7AZ+A8BWwEfeB7YeTnaXubn6AFuj3/PAfuBncAHgV9uyGhlZbTWZAUcBdpXW+ZrUTZrfQydz88laY4X8A11F3DQGHPYGFMH/h54x6W0vRowxpw0xjwT/14A9gB9Z7umIaNzy+gicEXI6kJwNY2jyzSGzomLJkcRcYA/Bt6KZfXvF5GdS3y8DxhY8PcJVuFhlxMishm4DVuiFuBnROQFEflLEWmJP9OQ0TlkdJFYK7IywJdE5GkRee9KNXI1j6MVHEPnxKVojuv+G+piISJZ4J+BXzDGzAJ/AmwDbgVOAr8Xf7Qho3PLaD3byO4zxtyOJa2fFpHXrFA7V+U4upAxtCLtx+v6C79Q5J3AW4wxPxb//R7gbmPMzyzy2XuBD3r4b0qSuZT+rhtUKRFQ/x4uVEZu+k1Jv/nydnaVUK1PE4RlF2tTeiNWy3kS+H5jzO7FrvElYZYaQ2Hn4sdNbunsP96hi6hXnksvfa5YWfLUjptKix7f/8Li96tSom5qcqFzzcN/9GqaZ3VTW5HEoCuelSdebrwXuMnB5W5Z9frklwWPm4cIbDLFc+I0GSmPe2788RXt21rBN1/6M4KwPK8VAYjInFa0KDkmySw5hka/95WLHg/vn16yD73fuWgzZ0V05+1LnnO/8dKS577wxScWPb5UHZvHzUPn3acFY4irbZ6tFC5lWT0IbFzw94b42GkwxnzE2GDx7/RIXEJz6xIXLiP36vjGX4Aryka2QjjnOJobQ8aYO6/CebYiuBRyfBLYLiJbRMQHvg/47FIfNsY8cAltrVc0ZLQMEJH3ishTIvJUQG21u7MauKBxtGYhAspBXBfxfMR1QTlrogrlYrjoZbUxJhSRnwG+iPWt+ktjzK5l69nlwNxLEYUoiavzLV926itCRjHMgvEryxtxel5aEXFcbV5ar7p413U/jkTsHHMcxFGgFDiOTYRcDzAR2H/WFi7J5hhrOutO23HaWpFUitLNvcxucql0CtWekOxhl74HZ3Cmi0QDg5gwvOS21quMjGPLvQZ5jzDtUOxzKG40pEaFtpfqODVtS69eOlXNa0VYUvw+4N2XfNcrDOtyHCkH8VyK33YrY7cqorQhykZgBAmE5IhD3yMV3IkKHDyKrl7E5tgK4uorkyCC5LLo5izjN3uEtxd409a9fKDrq/yHA++ieGgD6SEXNTQMy0CO6xUmLrEa5ByqzYqZHRG333aIp/dvJn/MLoWcanha6YWLamcZtaLmg8GixxPfWHrZdjG9d776zEXd77+PX7focUksYSNcmU3YywZxHMT3Gb1D8f3f+jC3pY/xyuQIBW0YjLL8n5PfwsGRa8kOuqRPJKBBjqsEEVQ2i8qkGbm/j9lrIHX9FG/t38s92UN4olBiEM18hb6rEcaZK1Bjl89BSlFrFVQgvDDYizvmoYLI1sdepuqB61IramBpKAfle9Tuu4FCv4+zvciO5DDNqkxJG56r9fKZiVt56ugmNg6EJE8WMfXFv9hWE1cROSpUcxO6Lc/M/RV+/fYHeEXyGNd5CTSGwNjC9KLnCkNdnQRpVFx5S1sZBFmodBhUIMihDKlRwalqVHh1yqeBc0McB8mkGXp1gtwd4/xA/wvcmjgBQMG4PF3azCN7dpA+6JPeM4Aen0RXlvYPXS1cNeSofI/65g5KvQn62ofZ7g/TqqwReH9Q58nqJg6c7GTrSBU1VUQbvco9vvwwjhDkbLlV4uKHUVJAdFyV0H5OBQYJ9XJvzDRwBUASCcwtOyh1pgi2Vri76xjXJ4fIqYhp7TIWZXhhpo/0AZ/ccY0pV5fFtr8SuGrIUVIpxm5LUdiq+YneF7knAWAjEx4o3sj/3XsviefTqBefJyqXr8qyoUYJlQ6XelYwrmAU1PPYsquusfY0ZW2NKrj6vjwaODdULsux+3OUt9X5qdse5oebXsATRVISDEewt9bL7uM9XPu5SdRkgWhqqkGOqwbl4OSz0N5CaYMhvWmWrf4YjijGoxKTGr4xcQ3h/hytg9raPq5CYtSeQiccgowQZAW3ajVEVRecqrU5qjp4s3E97AYaWAgRVCKBZDNUujV9GybZ6o+RFg+AyBgO17v42uQO1JiPKkxgSmVMtPZceOZwxZOjSiXR2/spbkpz76t38cs9X2KTa4AUj1Y7eKRwLbsf3cr2jw5hCkWi4PxC/q4kaFcR5H2CjKLcLQRZQ/4QpMc1qq4IS0JyQpM5GaDqkbXJrhJMPk39lYtX5/S/8OSixyd/8N4l7/cPn/76kuf+wy//0qLHs//4+KLHz4VHbk4uevz4P+5Y9Hj9V75yUe2sBsT1UF0d1De2cfvtB/nAxn9jo6PxJEHZ1KkZzafHb+O5R3bQtgf06Di6Ul3TisgVT47iuVTbklRaFVvSE2xyDYHRnAyLPFK4jYdO7CB9UtDjk5jqVRl9AYBxQLuCdg3aN4QZRa2mEANuyeCVDU4lRKLGcrqBl0NlUlSv6WR2k88rsqNsdDQJcdFoDgYOB+q9vDTSQ3pISE0EdoW2jAEXK4ErnxyzWcZu9Sj1h9yQOkFSXL5WaeKlykY+84V72PRABX9oiLBYXNPfYisKAe0J2gPtgUloCteHFIDm53zaXqqiAo0KG8TYwMshrovZ1Mv4z5Z5w8ZneU/LN8mqBIGJKOuA9x/+Xo4+tYHWl6D9q8cx5TJRuPZcd87ElUuOykFl0ujmHNV2TbKjQrMqExnDS5WNfHNqC5lBwTswhC6WrlpiNIK1FwUGFYCAdXB0DOIY0CxXJEwDVyDE81HNTdTa09zTu5t3tDxDtwMKYVLXmdQux8ZayB4XcieqRMOj1s64DubbFUuObk8X06/qZ3az4rvvf5T7c7vY5k1xJHT486+8nu7HoHv3JHpyek0bhVcS2lOEWQ9V12R2jZD2XAqbutGeQ2rYw581ZAfDBjE2sCScjb0MvaWX4mbDjzfvZqdXIiEeRVPj/xt5A48NbSbzcJaeB4dhumA1xnVAjHAFk6NJJyn2Kkp9mm9teo5XJTRHQxgIm8kMKJqfGYGxSfRVuAEzDxEiX4E2mFIFcR1UHSQQElOG9FiEV1ybbhYNrAGIoHMpiv0G2VhmszdOTvlExlDWES9M9DIz0MTGgRB99MS60RjncOWRowjieoQdOWZvrNO3YZIOVWY00rz3wLs5PNDBpt0BDI/Z3bKrGGHKobDBQXsu5obtGAeCPDh18IuGxGRgwwQbaOAMSCKBam6isC3PHa/ex6tbDrDZrRMYh69Xm9hb62Hy691sebRG8sg44TqwMZ6JK5AcFeK5hFmPjp4Zbm0bJKM001px+HAX2f0eqcEpotnZ1e7pqsIIaF9RbxaCjKHeEYEYvCkXpyw260517WmNMlvG/+KFlYhu+evHljz3E39935Lnpn7DWfR49ixtHfnQ0m5DW96/eD/UM7lFj0v5spWVv2CI70MuQ6VV8e7Ob/LK5BhNKknZ1DlQ6+aZ2X6aDmn8b+4hqtfXlcY4hyuOHN3OdurX9DB5nc+7Nr7AtcmTPFi6hhfLG2h5xqX9hRIyNL7a3VxVaN8hyHnMbPbIvmYUR2lOHuzALTjkjkBiVuPPrD1ibGCNQITgju0cfqdHy6YJrvPHSIpDUdfYFyT4/a+9mfw+l97dU5h6fd3a9K84cjT5LLNbUhT7Nd+Zf5ac0nxo5H4eH9lE+4sV5NHnWZ+vavmgfUU9p6h0wX/d/gUmwiy/te878KeF/PGAxMTVbW5o4NyY2ZrgA2/4Z3YmBtnk+igU07rCoaCT7kcUrV85hJ6eWbOhgeeDK4Yc5c4bGbs9R5QUggxEuZDDYStjYZ7PPX0L6eMuHWMjVzUxhhmPMOMQpiw5uhX4lae/i7Dukj+oSE5pnOrVLKEGzgV3cz+1Le3MXAPb/WG6nRqQ4GBQ431Hv4d9Q11sHqphypV1TYxwBZHj6J05drxnH0dnWpk53orfXGNftZcnZjaz4YtCbv8EZnB4tbu5qgiyLqVuB+1BmBK8IuQ+k8atGZKjZVSoVzU0sIG1j9qWdoZelcS/boadXpWsSqHR7K53c/jBLbQf1viHBggLhXVpZ1yIdU+OKpdD0ilqLcJt+QG6k7PsStQIIodPHr+dkZEmto/WkJkiep1/k10stKswjlDPK6rtdgMmaI1wZxVeQXACO4gbxNjAkhBBHIdir090U5G7e4/PhwdORjWGghZS44b0SICpru2Y6fPF+ifH9laCnmbKG0PemX+WnBLSXQ5/NHkLf/fx++kZ0Lj7jhJOTF4RL+xioJMOYcqh3KkobQ5Jd5R4Y/9BHh/ZRHCiHae+vtPxN7DyENdDfI/pa4VP3f1ndDiatMowoyscC1O8VOql6VCd5O4TRIXiand3WbC+yVGE2uY2Jq5Pku2ZJqeEujGMRYYD5U7SI4bUaICpLe5KIIkEKpGwu2lRhIk05kp0Cjf2J0xDvruA60Q8Pb6B8bEcHSWDW7t605Bd//RZpsAdj17w/ZZy1zkbNvz24u0MmtIF32ul4HR1oNvy1Fs1HY4mG6ciK+iI56r9HC204QQaY4wtuYp19xFHYYLQ2h+jaF3ZIdc5OSpOvC7JO97+KK/J7aVNpfhmDf5q7NV8dc8Orn9yHIbHiUrlRS93OjuI2ptQtQCp1DDFMtH4+BWnYUpkUIGm0hPxP3Z+jv997PVM/WsfndOG3PEaqh6dNXntCpZlbWA9QITSLb2M3ezRe80wTcrHxSEymoNBnr86ei8jx1vZXq8hnofkrd+macmjUx6qUEWVq5hSmWhmFoxeF3NsfZMjEGY092YPstmdwpEUY1GWFyd6cCY8pFhBVyqIEnB8nPZWSCYw6STadyn1pKm2Ojg1g1fWJCZqOEZjanX0FZSlp9bqUWl1MOmA6SjNbDWBVzB4JW3zM4baEqAStOdgXEF7CqPE1tQJjc0GLqAigwQa0aaRDfxqQGxrrLS6VDZE3JKbQqHQGDSaaZ1nqpBGVRRhzkN1NROlfbSvqLa6hCmFV87iVjTebIg3WUZmS0Qnh9d8OOG6JkdRQpSLeH1qDC8ucPLlmespfq2TzmN63s9KZTNIcxODb99Aqdfgb59lS9skN2f3szE5yXCticFqM4/v3UrfA9eQHq6hntqDqa3//I5G4OS9Dre86gCpco7f330/1WM5OqsGp35qOa19B+07FPp9gqxQbYcwbfBmBL8A2gXjgluC1ITGrWhSI9XGJs4VDvF9VCrJxM3wS69/gDuSR1EIFVNnLArZXelDH82QKAqjt/lo34dbZulvneLOlkH6ExOUtU9Ne3xzcgt7h7pIPdfGxr+sYIqlNVereiHWLTnO2QslocmKrfsbGc10kCI5YUhMRxAENpywuYmoPU+13RB21bmj+yT3NB/mpuQA13ozDEUJjgbtDBWbmO3rQUyCrOteGeToKKKMZkd2lIlqhvJMCr8sp7vtKMF4Cu0rwhQEGUuMYTZC1R2ius31GCUNaLFEqQQjglxU5ecG1gVEUM1NkM8StQbckzpEl1MH0kzrkN1BOwfKnXizglODMAtBxnBz5wh3txzltZm9bPWqRMYQAT3eNF90b+Cpse2Y3g7UVApzcnjN2iHXJzkqB27aTrEvTXvHFAAhEYGJmK6nScxovNk6xhic9laG3raBagfUugIcX3N4uo3pWoqOvgL3JavkVMhmd4jk1i/yye+7i2+8uJ2dj2bRpbVjEL8YRAkH4ymSww6f3HM7UdlFFV28gpCYiXBqkc3I4zlU2j3rHJ4XoiRWY5xy8Qs2E3i1TajnwdeQGgtxarqRFfwKh/g+42/dxvR18LobXuIaL8LBJSTib2du408feT3JYZeu5wKMEqa2u2gHxitZBtPNzKaSRKZCUhSeKF6XPsj2xDCfSU3xLy23ktzfyuaP1tETk2uSINclOYoSqp0pCn0uPWlLYIGJKOiQUuDjlTWqFtray65LrQ1qbRE4Bh0opgspKnWPsa4cilGykiAr8IrEKMnOb3Covw3T2oQqlde17dF4iijh4AQQzfpITeFUBacKqq6t7dAqg2hPiHwwca4DtwpODZyqQcXjVvsG48i8xmk8B6PNJWcIF5GjQAGIgNAYs3iRmBXAnjvW3qRcExBBXJdSj+BeM8tN2UGykqBmQso6YH+pi9whl9SYITlateOs6uJUhZlKkuFqnqGwhU6nSJMKyClDkxKaVIlC024md2T4av1aJJ1CZtw1aX9cn+SYSDDwJoc3v+oZvqPlaQCeqSf50uxNHD7Yzc49o5iZWaIwQE9M0v9AE1HKw8SbDGEqSZQQPvruV/HK2w/Q69TocdI0KZ9bE9P8xvbP8T8//GaOHr2O6393gujA4VV+4guHcYSZzQmqHUL11jJv2HaAf3/2BtofU3jFCFWL5jU/FWrSwwHaE9Jj1mF8zhY5vdWl3GOImgOy7SXKnQmO9SVQdcEtWntkx3NV3OIlp6R6vTHm6s4IslYggpPLIS1NlHfU+MXrH+GV6QNoHF4KhEfLO/naoe1seaKCO1tFTRZwXId2EcKMS/FkM/szLezKXkuUhFp/je7uaV7ffYAfbX2UbmeW72x7mhNbmine2EOqOYvadwRdXtyrZLWwPsnRc2m9ZpL/1XvKP2wgaOOZqY344w56eHRe0Lpchqd3sTD5k5/JIKkkQ6+9huGbm8jIBD0OpJVPGp+3pMq8aeen+MOeHTzU/MrL/HTLAyNCvVmodGmu6R7jLS0v8u/OTjInqi8LE5TI4BVO9+/Unoo1Txd6qzRnK/TkZ6nlXEqtPqWaT3EqTTDh0brHWQ5ybGCtQBQkEphMivaOAu/I7aJJOYDDcNjEM7P9mJEE/uHjmFIJow04Dr4xeJ5LcjiJcRXac0AJo7enGd3WwdN+je9reYKcCrg9Mcr1TcM82rkBp5YieWjtUdHa69FF4pniJvbs3UDLCc6ZIkk8F0kkMOmIG/xRmpR15BuPShwLPT45fRefevBeMieEvoFDrNeFl1MxeAXF/pc28L7j34M76TJ6h0dqXNN0qHzWnea5JLfl/pCfuPnrPD61md3D3dQmU6QGXJw6tBQMXhnc0iVLyABfEhED/Jkx5iOXesMGLh4qmaB62yaKvR7bWvaRE4WDEJiIZ8ub+ebRLaRGFWhtiZQIjMYUS+A4qELJap+OAyK0prrwCz5HutrIXBOSEMiIIuUEtuqlI6DWXpTWFUOOh4odZI+4ZEbsJsNZ4TjguTipiM1uev7wjDbsqvXyuSM3sOPDxwgHh9YtMYoxOHVwy5CYcHBqikqHUNgeoX2H/OGz7DSbUy4+6c4Sv9p2gPcFWZ6d3EJqwKXzmQC3GuGUlq3w1n3GmEER6QQeFJG9xpiH559F5L3AewGSpJe6RwPLBPE9Zjd5zG6Ba7MjpJVHZKxf49FKG2YgTXLcnGYjNJGGegW0JqoH1tEbQBQpR+FP5xm/M4MnkBQhIS5JZcnROGuPGGEdk6OIwZFTi+W8X6HeZAgyFyDoM+5xKGjhn0bupDyUxYRjy9ndyw4jQpgUgqyhngfE+ijm9zskJzRyNuO3CMZVGEdRnkzyV7Od1LTLxi1jDHhtzMz4JKYd8ocjZBkcwY0xg/H/oyLyL8BdwMMLzn8E+AhAXlrXltX+SoTjUGsWgtaQFreEQhHFyf5KoY9TEZy6XUqj4uiAyIDWliRjiOOA41DZ0cnkdT7ZDVMkRSgbw1Ck2TXbQ+5ERPpE0daxXmNYu3nYLxBdiQL1toh67uJV9H21Xl7ct5HMMQfW4Mu6IIiNpQ7yhnpvgNlWAgOdT5XOuaQGm8knSjh44y5/fvQ+KpHPj2z6BnfsOMrMjojCRkuel9xNkYyI5OZ+B94EvHTJN27g4qEcaq2GbFeRbndm/nCEYbaexCuCUzMgYt3qYphIx7vOMUE6DuL7TO3wqd5X4I0b95EQRUkrXqz1cWiyncz+SThwDF2pXO6nPCfOqTmKyEbgY0AX1jb0EWPMh0WkFfgHYDNwFHiXMWZq5bp6dnT6syRaK1Q6c8j123Cmi0Qnhk73n4pDoWhtJmzLkkyeIsDIaE7UW0gOeaTGzAX5XVVNmV08SZ0qIPSxJW5udWUUZoG2Gul0nUyyTlFlcUp1jG9r7Ig2qMrLS68amXMDUqi6MFHI8I3iFr4xsIXKRIr0SYfk5LIlq+gC/kVEwI7HTxhjvnAxN3I6OhY9Ho2tjVXA8Q8svrnnliGYnWLwgU8QlosI0HzLvQS7MqszhoI6mQGh4DaxZ2svtcxJIgzaGFoTZQ63GhJTAp6LGGPDTKOI+B0imTQkfErXd1Fpd5m+MeTuvkG2p0YIjOaRynb+197XUdvbhJSO21SCa8yNB85vWR0Cv2SMeSb+hn9aRB4Efgh4yBjzIRF5P/B+4FdXrqunwxghir+hHFFsT4xwe98Jngg3MfzKZnJDWTITU5gFforiOEgiQW1jC8U+n/bsScD6SGo0e2a7aX8hIj1UwdTPPzuPIGznZvLSQmgCnuAhYqX8/aySjIwSah0RN/afJO3WSTkBj/kdqMkCUWcTlQ4fp65J1vXLKwwqIUw6hBmFU4XKSJrsYYe23XHNYQlQgUaCS88abow5DNxyyTda71AOXa9/B6muDUT1Kkc+9gegVmcM6UqVrsdmaDqa5uu3beNHWx7HAzwRNqcneHJThXIxjUn6CHaDE2MgZcB1qPe3Umv2OPFdIfdft5tXN+3jFcnj+KIpaPjEwF20/kWW1HCBaGx8zUainZMcjTEngZPx7wUR2QP0Ae8AXhd/7K+Br3K5yFEbZgo2A0+HU6FVQU457MydZLI7zf4bNlBrdfEKO/Bm6zjjs9ZQ3JonzPqM35yg3Gt4Y8swkdEcDyvsqndycKydvok6zkwFfQFFgRKSIkEKAFc80iZHiQKspowAQqFQT1AJPRQG4xqCjW2Ue5NM7VC4FUXeEZyawS1HiLZO3sYRSj0u9bzYeOqCJUkJrdO4aI2EppGhZxnhZfN42TwAjp/Eb+ukNj4CqzGGoghVKOMnXY6ON/Ng3zXclBxgq1unLzHFho4pjm70mbyjzQYIGEBs/L12hUq7EGZgS98wt+aO0+dN4Yvm6VofTxa3cuxYBztGKziTRaI1XHzrgjZkRGQzcBvwONAVEyfAMHZ5dFlgwhA5lObX276L+zoPcW/2AH3ODD/d8gzvbXmawjbDI5Wt/I/b3kh5PE3r01mcOkzeZNDtdX7kti/z3fln6HYAknyqcAt/sfuVuE/n8J7fhS6WLjqcqWJKFJjGIwGrKCMx4M0Kg+PNhHUHEyicpOHE6zNUttX5oTse4cXZXp574hq8GYfsgINTN0QJGykzdXtIe+8M5d1t5A6DVzIEORe3ovGna42EEyuI+swk1ZFBnGQaVmEMmTDEnDiJOz2L/+y1/LZ+Cz9ww5P8bOsTfEt6HzdtG2B3Xx8P37QDAFdFZN06N2QGyakKnW6BtKrR7ZTIiaFghIL2+INDb6D8xS42HglRuw4T1WprMmxwDudNjiKSBf4Z+AVjzOycfQHAGGNiH7XFrlt+NwytSY0Kx451EGrFbHuSu3OH6XKOkVYOnV6KkjnOLd1DHE61MTnVgQTg9ZfobZnhrvQhrvfT1ExAxdTZW+whOJEhN2bQlepFv7DQhLzAY1zLrRxh72nnzltGftNFtf0yGINXFMoTSSQURFtbYq1N46UCZsMkoXaIMhoJBO2D6NhmZIBQqNQ9nIrgFzUqsO5BGNMgxhWErtc48Zm/ovtbvoPxb/77aecu5zzT9QBVq5MaM9QGUuzp72asSXDE0O2U0ImTBM2WPhIqIKNq3OAPkVMBOSUoIDCGAHiy2s8L5Y0MD7TSNxCRGqmiK1XQa1drhPMkRxHxsMT4t8aYT8WHR0SkxxhzUkR6gNHFrl0JNwxdq9H32RP0PJxldkcnX+vr5nO338jQbQ9zU/IEb0xVuNZz+NDGf6XUpxi6NkdkFN1ugaRE9DoOkGQorDEQZfnynmvZ/k8V3LGCLUB+MX0ymhd4jG766ZQ+jpi9cDEyyvQti4wk1HQ8HxDuV9RzQpCG2e2Gjp1jTExn+cyX78Z4BmmpEwJh0kUFhuS0RgUGp+YQpJtoGY5IjtZsxIMrqLBBjCsFE0UMfOavaLr+dvI7bp4jx9WZZzpCl8p0fmWIthdyPJW9hs8338jO5CB3JiZp9gtc6+3CiZUkBSTFAVwCowkwPF9v42i9nd/56rfS87Bi+/EK7r4BTLWGXuPECOe3Wy3AXwB7jDG/v+DUZ4EfBD4U//+ZFenhYjAGPTyKTE6T8zahwjSVziRf27iD8aYcrc6TNKs6XY5DqxI2udZNQAMRirEo5HBY5cXaJg5Wu3BHfLzBUevhfxG7ZsYYdvMUGXJskh0LT62ajOyyuo5bUoj2UKFNOhFGDkHFIztm/SCrSRcJxUYqeHHiCQNeSePUBK8Y4VRDtO+AOC/fvGlgWWCMYegL/0CirZO2V7xu4anVm2c6wkxM4VSqJEbyPDyxnUJzkqQEtDplep0IB+vQDVAzIQGGo6HPdJTm68UdHCx1kB5wado7jRqbtrWc1gnEnIMMROQ+4BHgRSy/APwa1u74SaAfOIZ1MTjrk+el1dwt919qn+c6BqJwshkknUK3t1DvylDu9JjdrKhsiHjPfV+n35+gzbUFfwbqbYyHWT7+/N14AwnSQ0J6NCJ3pIS8dNDaWi5iST1txnmKr5Ll1JI4IqJCsZ0LlVGmz9xz449fcB8Ww3x2b1dhXEWQdak1KURzquKghjApzG5SaN+6lagQ/GmDVzEkJ0P8qdr8vdDLtxHzzZf+jNnS4AU5pS7rGAL+z7GvL3nupzbdt+jx0jvvXvKamc3Okuf6vlZY9Lh58sXlHUPLKSPlII6D2rGFak+WQr9PsV+obany7lueZIM/yU3JAQCOBh0cqXXwF994DalBl6bDmtR4SPLYNGZoBFOvL/vO9OPmIWbN5IqE2JzPbvXXgaUaX75ReqEwBkxENDsLs7MwOo63z6G1t4vUWCdThQSPX7+Z4WyeDt+S49FyG+PVDMkDSVr2aXJHijgDo+hS+ZIyEjdLO2/gnacde9w8hDFmglWUkRggMjhRBLUIt1gnNQw64RJmXFSgcQt1gnyC2U0JtGcIU4IKwIs1yLlQzLl7NbAyWKtjCB1hdES05yD+QZf27VtIzDQxGSZ5amM/I5n8/EcPVLo4VOwgv9+l+WBI9qURohMnicJgTfoxngvrNnzwZdARxmj0+CSpMCJ5MkfxRB8v+RvR8Ze5ExhUaOgfmMGZLGIKxUvamV6vkCDCLTFPfE4lpG23g/YEieK47IrGqWtUbe3bhhq4DDAaU6+jTpykqVgmezRHadcGdrsbeCF5M2Dnl1M39B6cRE0V0ZNTmHVKjHAlkSNYW2SpZDN4D0Jq1xIfg3WbUOKSIKd2o6UezR9ToSY9tPbCtxpYQ4gJLpqegekZOArppxf/qOaU/W0944qJrW6ggQYaWE40yLGBBhpoYBFcWcvqBhq4QCy1I302jHzX0juuW9/93JLn1qfl7epFQ3NsoIEGGlgEDXJsoIEGGlgEDXJsoIEGGlgEDXJsoIEGGlgEDXJsoIEGGlgEDXJsoIEGGlgE50w8sayNiYwBJWD8sjV6edDOy59pkzFm8aImZ8EVKqPF5AMXIaNYPsfO496XCyvZfmMMnY5lm2fng8tKjgAi8pQx5s7L2ugKY7mf6UqT0Uo+z2rLarXbXwprtV+Xgsv9TI1ldQMNNNDAImiQYwMNNNDAIlgNcvzIKrS50ljuZ7rSZLSSz7Paslrt9pfCWu3XpeCyPtNltzk20EADDawHNJbVDTTQQAOL4LKRo4i8RUT2ichBEXn/5Wp3OSEiG0XkKyKyW0R2icjPx8c/KCKDIvJc/PO2i7x/Q0bn386qy0pEjorIi/HzPLUafVgMa0E2l4LLNYbOCWPMiv8ADnAI2Ar4wPPAzsvR9jI/Rw9we/x7DtgP7AQ+CPxyQ0YrK6O1JivgKNC+2jJfi7JZ62PofH4uSXO8gG+ou4CDxpjDxpg68PfAOy6l7dWAMeakMeaZ+PcCsAfoO9s1DRmdW0YXgStCVheCq2kcXaYxdE5cNDmKiAP8MfBWLKt/v4jsXOLjfcDAgr9PsAoPu5wQkc3AbdgStQA/IyIviMhfikhL/JmGjM4ho4vEWpGVAb4kIk+LyHtXqpGreRyt4Bg6Jy5Fc1z331AXCxHJAv8M/IIxZhb4E2AbcCtwEvi9+KMNGZ1bRuvZRnafMeZ2LGn9tIi8ZoXauSrH0YWMoRVpP17XX/iFIu8E3mKM+bH47/cAdxtjfmaRz94LfNDDf1OSzKX0d92gSomA+vdwETJKJVrwtoT0ejMcHO7GHSstS5+C7gwb28c5VmojeayK0XquccRz56sT2vKMIUZrxHXAcSCKMOHylmmNZeRibUpvxGo5TwLfb4zZvdg1viTMUmMo7FhibJ2l5Ls7euGyFd9f8pyp15c8l79hcfnN7nIWPV6lRN3U5ELnmof/6NU0z+qmdpY3fPFY8Roy8XLjvcBNDi53y+rVJ7+ceNw8RMDSE2UhzpTRKze8h+6/Hue/9X6Bd/zW/0P7nz22LH1ymrZR2trG5uEK5vhuEDtZnRuuZeC/O9zVcxyAqXqKsT/cSvrTTzHwn+/m3m97gW9+5mY2fOixZa1BHMtoXisCEJE5rWhRckySWXIMjb7rlYs3dJb1Uef/fvRCugyAu2HTkufCI8eWPPeGTxYWPf7vN+YWPf64eei8+7RgDHG1zbOVwqWQ4yCwccHfG+Jjp8EY8xHgIyLyNo/E5y6hvfWIi5ORMUzVU5wIU8gSBbbF81GZFCYI0eXyeZFWtP8Qyf2HXlboKcr4fNfWZ/hPLdascyJM8TMtP0MaqGwI+W+9X+A1vTeAKDBLaI8iqHQa8Vx0sYQJz7sy+GI2srvP9+KrBOccR3NjCCAvrY3IjmXApZDjk8B2EdmCfVHfB7x7qQ8bYx7IS+slNLcucVEy0qPjjP3hjfxMy8/Q+fUxFqOjyptvZfJHi1QO5dnxO4eIxsYuupPO4SG+9KFX8295azKTENuu0VzzdwHvePZ9bNtVAb30strp7GDf+7eS2lSg/aNpEp9/8qL7cyYWakVJ0st233WECxpHDSwPLpocjTGhiPwM8EWsb9VfGmN2LVvPLgfmbGyiECUYbc5KABeKi5WRLpVIf+px0rAoMQLM9rt89vaP8Ksd76CUycDFcyPR+AT5v5s4/Vj8v3r4OTq+4WCis8hFOZDP8pp7d/EbPZ/nXV94HwmwtkwnvnZpzbahFZ0D63aunTG/ADvHjF5W88xK4ZJsjsaYB4AHlqkvlw1OWyuSSlG6uZfZTS6VTqHaE5I97NL34AzOdJFoYPBCloZLYqVk1PXELN/6kV8hPWLonFyheSLC5A/dw/h9AR0Pe7R87Js4TXno7UIqNaKBQZyNfRz48V6C1pCDX+ni24s30f/kDGaRa5eYEA2t6Dyw3uaaeD7Bq2+iuMGn0C9UeyLcGUViSsgd17Q8egJTLhNNTq1ZolzxDZk1BxEkl0U3Zxm/2SO8vcCbtu7lA11f5T8ceBfFQxtID7mooWFYBnJcKZinXmJjHLC2vHvIpyCOw/h9AUfe+udsCd5Ly8cVks1S7m/Cm6mjhoYJupv5xbd/lusSJ/nAL/4Yqc88gQHEdV927WL2yuXUitLjetHjuSNL70hfzLQ826bL2bDJXzwxtyTaF79gZTZhVx4iiO8xuTPB9I0h33Lrbn6x+0EeKN7Il0Z2cuTZPvL7m3CmFEzNLG3HXmVcPeQogspmUZk0I/f3MXsNpK6f4q39e7knewhPFEoMokHWyDeZJBJMvet2ZrbDhq/UcL7yzMs+41x7Dce+q5MwbfvsloVN/zyCPnaCqXfdzvSOU5/teioi9dkn57+p5651K7DhHw5jKhWGv28n5V5wKoIK4Y4d+wF41c37eeqDd5EcF5oPBfMy8k5O8fuffjs6Ydh+ZJrF6ensWG9aUQNLIJ5jpW+5nlK3Q+HeCq/YdJxX5I8AMB7kODmTxysoVLGCqVRXucNnx1VEjgrV3IRuyzNzf4Vfv/0BXpE8xnVeAo0hMNbXTLRBIgN69QlSpZLo753gqVs/xiuiX6T/Ky//TOGGNv74x/6UVyUDAL5SSfJbL/0wmdFx9PdO8NJtfzf/2R0dP8mOfz2lwc1d+2RlCw9945U447Pc+IO7+NON/85jtRRH6x3ckzoCpPiLTQ9S/ZHP873730n5w33zMgqPHmfLb1gToV5Ge20D6xCiUE15Bt4M119/jP+y4WHuS45Q0IaycRit5SiNp2maAmaLmGLJ2h/XKK4aclS+R31zB6XeBH3tw2z3h2lVdjLvD+o8Wd3EgZOdbB2poqaK6DXw0kw9oPhEO68Kf5jmA6f3x9m5g5H72qh0CT/17LtJ+pYcZ2bTbB+uzF97j/l+fvyar/PepqGX3T91ssqPffMHETEkX59GOzm+vekpNJrfO/5m9hzp5T/e8RgfaH+Rg0HIk9VNJJ2QA69T5A7n6D2QIpquL7qJZbSh6Xmf2zu+l+YXXTB6vs+pCU3uCy9BcWXk1sDlh0qn4Zp+Sn058r0F7m49Sq87hSeKghGGwxx7pzpJH/HIDGuo1axNf42s0hbDVUOOkkoxdluKwlbNT/S+yD0JIHYLeaB4I/93770knk+jXnye6Dz9Blcaulxm8+8+g/g+unK6f+Lwa9r46K9+mN88/u3Uf7IJTgwD0GUMulTG6Mhem0nzoT94C+99w1++7P7y+EtsfylNcOd2vuXDD/FjLc/QopKMRCFDn9rM9R/fxcc/fDcfeMOL8zK6tWeQr333/+SnjryT6LN5mJ5ZovMR3X/2NOqvEujaUYwx833+r8fegXmqtUGOVwpEUC3NDL26leJGw89tf5Tvz+8mKQ4gjEUZdtf6GDnUzvaHCjiTResLezYPiDWAK58clYOTz0J7C6UNhvSmWbb6YziiGI9KTGr4xsQ1hPtztA5qTD1YVWLUzRlqr3oF6SePEo2NoatVqL7cNmMcodepk3brBOUq4ezsy+9VrUI9ILkvyX/c/hoyR93TljFORxvlOzYxu8nl0cmtOKJ5Z/5Z0gKFrZrZN1xHtmmWQ2GFRya2E+3N8dj0Nn6Zt/Pi/o3srB0/67OYWo2oVntZn/NelRlZPCqkgXUG5aBSSUxTlmK/QfrLbPQnSIpD1URUjeHh4nU8dPJaUkMOznQZKVWsS88axxVPjiqVRG/vp7gpzb2v3sUv93yJTa4BUjxa7eCRwrXsfnQr2z86hCkUiYLzC/lbKWzYOMpbf+erfOF9r8P/wiU4L85BR2z+071M/G0z/TN7iBYQf+kVm3nHh/6dmSjFv/z1a/n76hbKP+7zs61P8Nnv/AOm35HgxepGPjpxH/se2cK2Dx9EHEUhkWFn7Tjh6CqURU6nkBtvWvRU9pPfXPT4wH9eIqwQqL/z3iXP9T6yuGaT/LcnztLBpfEXO7Ysenz28xsWPR797NIx3GsFKplAejopbm/mda97ge9pe4Kb/CkUPkMRDIVNfOzpe+n8qkffoTLmxEl0EC6rP/FK4YonR/Fcqm1JKq2KLekJNrmGwGhOhkUeKdzGQyd2kD4p6PFJTLV27huuMEo6wa5iD6p+dptnYkbzx5P38szgBrYFE2f9bDQxCROTLzuuAs2uYi+lyMepgQpPEeehoI3D9U5q2iPr1AjymnB7L+5YgejgkfPSrt0tmwi6m/FOThEePT7f5wNTHWR2NsFo6pz3aGANI3aLq25to7DB5frMSbZ5UyRFERBxNGhjX60HZ8IjMxzgTpXRQbjml9NzuPLJMZtl7FaPUn/IDakTJMXla5UmXqps5DNfuIdND1Twh4YIi8U1YWecOZJj7Cc34B/af1a3mNYvHOCpvbewtVQlGhm9qLZSj+1n8Cc3Ue9IUbsbKj0RN6ROEBjDr3zih+j/Qoljv2B45JV/whu+7SVefMNGfufhb+W6XxpBl86RzUY5HPjxXn7x7Z/lDz71djZ/YHC+z/r2HLf+5pMce8/LTQENrBOIIK5HsKOPwR+tc0PPMd6c3UWX4xJhKOuIjw2/kucHNtD6EqReGMCUK3G01Opvdp4PrlxyVA4qk0Y356i2a5IdFZpVmcgYXqps5JtTW8gMCt6BIXSxtCaIEYByBf3coglpToOpVHEmClCtnW6/UQ5uTxf4Hnp0/DQSc5qbkJZmTLlCNDpGVCyhDh4nEfRRb2qel1EApE8a1DN7CYZvY3fd2gevS5xE0iGo80sDGiUN1yVOEiVt/6LxCRifINf1Cnr8GZISnL9cGlhTEMdBfI8g73JDzwle03aAVhXhSYKqrjOtFUemWzEnk6QmInShGO9Orw9ihCuYHN2eLqZf1c/sZsV33/8o9+d2sc2b4kjo8OdfeT3dj0H37kn05PS6UfMXYvZtN9L1s4d59sAmdv66IRweAexz7/mtHm7depyxP7yR9Kcen79m+Pt3cuN/3MWj39jJ9g8UUS3Ni8poLPIJM4LT08U1/1DhA1/+sfl77BiqoEvlc3dQR+z4y2k+8JUfY/uh6dN8INNPHeML73sdgydeWD6BNHBZobIZ6O2i0OfyI53Pck/qGE3Kt8pHPceuWh+1r7ez7SsF3MEJwkp13cRUz+GKJUeTTlLsVZT6NN/a9ByvSmiOhjAQNpMZUDQ/MwJjk+hV3oC5WFRbFe/f+AAfjN4BiQWGe9/j1q3H+ZUNX5hPOzaHSqfw33of4K39m8BxlpTRWJTDCBjfw91znNSjU0giYXcl6wFmoTE9jooQEaJi6TRDu35hL6kXeJl5IBoZxf/CKMqcB8k2sCYhyST1tgz1ZmGbP8oGx8MTh7Kpc6jeya5SH9lBjdpzlKhaWxcbMGfiyiPH2BYSduSYvbFO34ZJOlSZ0Ujz3gPv5vBAB5t2BzA8hl7j4UtnQ9fD4/xU+HOkJjXZsRfnj58t3dmmz83yzpPvo+dYgKlUMM2Z85bR1Pfejn7XBKXH29n0P56xbkKAs30re36lBScdsu0PI3jiRRq4wiFC+ZaNHHu3ZvuG42xyy3iSIjARBwOH3/rSd9C8R+h6bsqOs3W4MoMrkhwV4rmEWY+OnhlubRskozTTWnH4cBfZ/R6pwSmiRfwC1xSUM5/mCTiV9itOAxbtO0zbngPA6ZrZounO5lKHPb2L9qfsPYwooguQ0fR2ePrWj/HK8IdtmYCYHKPWDD9/77+zMzHIf+/9YVLKWXr5JHJa+iouJq9HuYJ58sIIeMNvX3i2b7Cx54vhbFNdbrthyXPm2cXzaTT9l8V37Z3BtZt4otLh8j03f5M7MkdoVT4KISBiLGqm9QWh8+ERGBlHr+HkLefCFUeObmc79Wt6mLzO510bX+Da5EkeLF3Di+UNtDzj0v5CCRlaBf+8C4DT3sbRn7iWypZ4ya+FjZ8TUp9+gvJ33sWJt0U0Pe/T/ZGnMbVzuB8tkjoset1tHPpel3x3gZ/b+gjNTvmcMtrwlTqvCH+R5v0aXTk0f9w9Nsr//cjbqLYb6m+O4C13cM3fBaivPfuyrsy1i2fpvPbfHrk0QTVw2SGJBCqdptasuDd7kO3eGI64TOgKn5i9ga9PXkNmJILJ6XW9MoMrkBxNPsvslhTFfs135p8lpzQfGrmfx0c20f5iBXn0+RVL8bVckHyOe7/tBf6i/+sA1EzArYM/T/+nYfQOxf63/h/u6vgB1F8nTotAWfRei6Qdm9iZ5NG3/S49bhaAE2HxnDJyv/w0/V+2vy/UCcOTw3R/eBh362a6PxHXvXn2fbR/7eV9ObPdu/5wbX9JNfByqEQCyWYIsnCTP0yP46NQTETCl8evY89gN1vHq2s6T+P54oohR7nzRsZuzxElhSADUS7kcNjKWJjnc0/fQvq4S8fYyJonxoUo6irfve+d7D/QS//TdnnS+ZRmR/tPIDVF+VdayB6Hrr/ftaSZwEQRHQ97/P/tvXecJFd59/t9KnTumZ6enHZmw+xqk1Za5WAQyAgkgsxrTPBrDBgQ2GBjG2NzwfbFvi/3xdjwgn2vbYQBY67Blo1Ill4FBMpotUFhdzaHmZ2cezqHqjr3j+4Z7Wpndmcn9uzW9/OZT/ecqq469atTT53wnOestT+MZ0Rn5J7ria93+PzQ7azzj/Da4GH259ZdUCPr9mvoe62HyBFF5L59qNJAltHcRM+72slVKw7trefne7ey/uDMNYbqziy3/OSTqFLNcXDybxcuksuyYm1dy9D1QTLbMgQEHBwmnAIv5Vo4uLudULeGMdw/rx6TcuOSMY7D14bZ+N4jdE1GmTwdxRPJcSTbxPOT7bQ8LISPjqH6Blc6mxdFzLEY+Y9WNt77/LR/WOCHz7PxRxrDv3MDP/rjL/JHp+8m9UgEZutDVYqqf3mOqu9ojHzkeja+9wjd8Soe2LsDX3UGNjMnjXpv8/DCB77KjXveR/QnvulpllZrDR/+4ANs8vbzP/7oA/h/vHfWkUn98X10PPnKMqQTtjtavaoQYXxbgMa7u7m15gRhzaCgHAZtneeS62l91CJwoL/oz7rKa41wCRhHLRxGAn5yVcLVFT00+OJ0enMUbJ37Tu9kaKiSjuEcMplcNZ3DKpXmiWe2cUdbO/VdZ89DlWu3MXxtiHSD4i37PkzmaISO1PHzHk8LhYoaRc7QyJOnMTDJJl8/xzN1DKXtczUSwb7tasY2+7B9ilv2/ibW7ipU/tT0Lvp4ii8/cwdawKKjL3O2m8+rcEOWrV7E9CCmQSEkbK0cYK23OO8/5jg8l9nAoVgDRtou9oGvgqASc2H1G8eaKIXGCOlWi3dUvEBYEwL1On87voPvfed2GnscjCNdWGPjq+ZtZg+P0PFnyaIvYiZzVh9f95vDPPxbX+TNe++h9WOTOBPdxRBr52E2jTQ0vGJwJDvMiYkcVl//2RqJxol3GTx71xe5+cE/pPH9Q6hM17QbD4B97CRX/MEgaNoFncPdkGWrF83vQ4IBsjWKX6vaTa2eQcNDjx3i+/07OdrdwBWJNCqXL7ZyRFbN8zYbq9s4ipBrr2Zss49QY4ywJuSVYsRWHEvXERhS+IcLpRt27o0SrxfN6y26ydg2ynam+9JWFKWKa1HPgGMqGnU/huagEkkkHCJ321a0vIPv+WPn9j2eR6OA5FljGGjiIArUDBr5ewz+pO8uxBLir9+IlPyGfON59OcOonI5nFQKzefDfs0OCmGD0Iv9WD29515WGYYs8z7RMOu23GvPXyOfidncdc77mz0HZtlQPqO9Eg7hVFdgBRRhLY9XoIBNzA4wkAgjyVIkfY8Jtg0FC0ouWzK1CmFp2qmybVS+9JyVsQFd5cZRo/c2H3e/7VleEz5MtebnuRz888gv8fihjWzePQqDo9iz1Gj0ulrsmkq0XAHJ5FDJNPboaFnfsFczFXasM9lE32+3wasfzvNotNY/yu9FX5r94GeEOzM+ovE/vvg1TCk2u//46DuIfLh22ghq9bXYnx3jY22P8zef/3Wqvn2ucXRZpYhgNVcT3xBEq89SqztoCGnH5mS+jlRXJcF+DWVoaOEQGAZiWYhpgq4XjaImxU8RyJRGs217UVb4XCpWt3EErKDDTaHjtBsT6OJnxA6xf6wYJkmSGZxMpuh0rHvQa6Lg86ICPhyPQaoxQDaqo+cUZtrBO5ZDVw4ql8cpkyg9F2Iq7NjJRDW+gv1KE1wEvWMdVk0Ix6vYH2tirXcEPZDlRL6Gp0+v46VAEw7CY0Ob8GUKKE3HqK+d1kiZOo6hoTShELHZ5kkw7sCxQjWZvElEneFGZDuMJCp4MdWGkZtZt4sJs+ZSXuSrvKQaNSrCaUykGHlHQdL2oeUFHMhV+zA9OlLqc7QCJo4pKE2gFKtEieCJ5fEYBiqTwR6Ple3UwlVtHEUT7LDN6/wjmBSr9T+b3EzyiTrquh2c2CTKstBCQSRSSd/bWkg1KTwdcdZWj3Nl6CitvnEGc5X0ZSPsOryO5gc3EBjMoe05dGEH6zJgKuyYr2DD8a7pdC0U4tAfV/GJm37KP/7nXahPVPBXH30zH7z7H/jm6Vtp+4KDltV42n8tvqwFx7vQK0L0v30dyTWvaNToj1PvjfMWM87T2Xru7X0NXT9tp6LbwZl8ZV0ae2iENZ8NsC94JZFTR2d0B1qMMGsuy0xpOu7YNg+ROwZ4c9OB4rowjsWJQhX9uQhaAWwfDNzswTFNCvUFzECB1toRmgNxvJqFV7fI2QYZ2+S5E2up/nkroQEL31MHi11IZVgRWbXGcaq/ULwOIfECYCuHWMGPb0zhjdlQKBSnq0UqsWsqyNYorPo81zQMcGPkJNt9PWwyJ+m3vXQVauhPVhJvbkSUl5BhrJxxPE/YMSMp/DzjY3IyQINSOIkEvND5So2x9FunuoKqugS3BY7w9+adaMksWj6Cg4PlaEjBRjI59EwOHAcVDiOhAFYAbL8iEszQHIhxe+QgN/v6pjUaTISpPOkQ6s+90m9EsR9J4in0bB5nlqDBUyHLyrOe4DITouuIaZCvgKuqe1nrHUZDo6Ag5gTI2GYxSIkB+YiD8tnUNkxSF0xyc/QkG3yDVGhZfFIgpTwkbD8j2RD9Da3oBR2/z4tMLbZVZqxO46jpsL2DZHOAmtoJACxsCsomlg/gnXQw43mUUug1UfrvaiFbC7n6ArrH4WSsmljOT21zglt9WcKaRbvRj2/dw9z37ut5Zn8HW54NXTig6xJxvrBjbd8f4vMHPsDGwZlDh0399uaNJzhydD2/9h+/j2/zJA3fHeVdkafJKov/0fFD7vvG9eTs4u0/nari9HMb8I0K9XuzmI9msMIVHA1Gee6323n+un+Z1uh/KqFq9xBMTGKfYRzPl2eXVYoIWlUVEg6Sa87zW9VPE9ULmOIn5nh4Ob2GsVwQq8LBckCiebxei4ZQgnpfghozQbWeJKJlCGsFCkojq8f51cZ9/PANDkeONlO1vx7dNLFHx8rOQK5K4yiakK3zk2g2aAwUDVhB2SQci1TBg5l20HJW0d/KMMhVQ67aBl3hFDRiCT+ZvMlIfRiNYULiJSRwnXcYX90znFhTjYpWoqXSK9P3eJ6wY/bRE/iOvrISoRgGWiCAUqqY16nfNj3E3Qd+l1CX0HhdjHtbn8TCJqtgmyfBhvqf4hOhSvOzN2/znoF7yOLDM5TEPngUIxDADPhJTLahoU1rZOgOkiugbBu9smI6X051Bddu6OIPmx45J88XQkS6gATFmA6WUurahUo4V3KvXdyJAfMJPCHmLGvFFFY+8ISEAtjREJ5wng2mQqOY16wyGC8ESRU8KE0hImiaQteL7gyW0kg7HhKOH1NsTOWgowiIxTrPMK+rPUp/vIJClR9POggTMXCN48IRr5eeO3TeeMs+fqVqLwD78j4eiW/n5PEGthwaRk3Gsa0Cztg4ax6sxPabKLM4uGD5fdhe4eu/fgs37zxGk56jUQ9QqXm4yhvjTzse4G+++ka6uq5g8xfHsI+dXNbrO1/YsXP2vW4rJ38PCkkPm784htM/xMhXtvG+pj/E99oEN31g/7RGBjoB0fidvtew+193EF/v8NCvfIlj+TVU/9RH1cEk9A+hBQJ0/fFVVF4/zPuan+OFvDOt0Wc3PcjffP0O8nbdWflI53TUg5v4+NDGC+Z5Fl6nlHInW5cR4vEwdHsTE1sUd657AVOKvrFQbFKfiNdwejhK+LiBngfbG8Ax4GigEsdUPK1tAw2saAFvRY4rm/p5R90ePGKzw3+avpYID775WoK9DbTcl8YaKK8ZbKvTOJoG0Q3j/F3TK6GoegrV7JtoxTOq4wwOT/sJOuk07O3kzMD+nmAQ8fvof+0GBq+sJChjNOoQ0DwE8PAmf5o7ttzPVxo38lhk9pXrlooZw469mlL4r3Szj3uv/zq7M2t5LHIz6ljxt+FIJSNvqp/WSBcNWxVdMHYNrKHlnw8QesNmRt7qZ8QKE+1Monbvx6a4nELgmlGe2PE9jhRsugpRfDJOVLN4c2CSX7nyfmzl4JTqr6boPJ7R+PNvfwj/j553+xQvEcQwSLRD+5X93FRxHAN9+p6nHC8TWT9W0iQw7GBkFUoozqoyQWmCnleIo0g1eMhVezigNfJLVRGazAmazEl2BHt4auN6Jr2V4Pet6LXOxKo0jjOxL9nGocMtVPVyweCaYhqI14sK2Gz1DFNZclYdtVN0Wyb3xa7n/kdvItgrNPecKMtJ9NPhvxzFR777Efwj5+ZVRKHLK6+Fr0+28s1TN2PtOXsK4KtxMlm0H1Sz9cjvcv1NR/i/Wn7CJ079GsefWIuzKck/XPevPBK/ivsfvQkrbPO9N/4DMLd1ZWZBAY+IiAK+ppS6dyEHc1kcRNfJ11q8qaGTKzwD6OIB5WBhE7ODTEwGMccNQn05jEQesV4Vx9NWiFL4R4Pkqkx6GwLUGnFqjThRzSKip/F5CsRMVXT3KTMuGeN4IllL6JRRjCV3obmdug6mge63aTde6R2bdBSduSYeOLWVjV/txuor3+giU+G/PtnzVib/exir6/QF8/rQyDYyT9RSfaw4G2g2VC5H7Y+OUPezEM83ttPeHqDzcCsb/2IXsd+4nl1bNkxrVFhTy4uvXcMV3oGFXM6tSqk+EakDHhWRw0qpJ6c2isg9wD0AvovqzXRZEJrgrcryxlAnTboNvNI3mrR9xVrjpOAZTCAT8enVBVXulUXfRBO8Y9V4KkKY19cR1ZNEtCxhTSesZfDqxbEAxDWOi8ara0UVngz5SkUheBEiv+oYJwpV/OfQtaT7QyhrZDGzWxZUedNnaRQ+keA3f/g7GGlhw3DvzMa1pNEv7TjMrr+8HtmY5ObgMZJrvdz3hzej5YW/euLN6GmNjlOx8y4nK9dtp/vOMIFBRf2/dcJkMV0p1Vf6HBaRHwDXA9PGsVSTvBegQqLl5xB3qSIahuEQ0Sx8crapGMhX4h008I8oJJlBZbOofL44BddRpfnVxWfLqaki2xKmELGLtUWxKSgYtCo53V+Nd8BE8uW3EuWqNY6vpt6bIF9tkw/r03M6L5YjuSb2H2kl1K1DGd6shVLjSZ6lkfPiQTa8XHSety4wS+Fbax7H+cDP0RB00bjN/zJ/8e4X+LuJDh7+0K3wfOdZKwzOxNB1YR7+0Blh1iZBRIKAppRKlL7fAfzlolywy/wp1eQ8hkVUM/CKOb3JVoq+TIRQN4T6LdRkHCedfmUpj2kcQCdfFyS23iRQO0mtlsMUKCg4na/Be8pLqEeh0uUzj3yKCxpHEWkF/gWop9g3dK9S6qsiEgX+HWgHuoB3KqUmli6r56fOE8cbzZCpCyOb16PHkti9/Wf7TpXWUiEawaoO4fO9YgBt5dCbr8LXb+IfURflc5VVaTrZTZ4sIDSztnS6pdOosqvA7c9/lMLJ8AVDlk0xpVFsSwDnnmsI9duEHzpwtj+nCJrXy+TrO4ht0Lm27TBQHNBBOTyVNfjHwduI5fyMpYOM9kbYPDqC8vtI3LmNTFSj/qlR7NL6NlCsMQ5fGyLdNGOYtXrgB6XgBAbwXaXUQ/PRRNt2xYzpzoHD8zncvDhf4Iljf3fDjOlVBzTyyQlO/+x7FDJJBKjefCPWscCSlqHzUjJyectg3LGIasWBt6kBmaxtYGYURsYuNqXP7MoqPWd6azN2JMTolV7iWwvc1NCPTyChhEE7yMvxZsLdilBvHspwNtpcao4W8Eml1D4RCQN7ReRR4P3AY0qpL4jIp4FPA3+ydFk9G6UEuxQAVheNDu8QO5t7ed5qY/DmCOH+EMGxCdQZfoqi64jXS661imSzh5pQsZ+soGwcHA7FG6h52SbQnzlr9seFEIQOrqRCqrBUged5jNIAxadZIo18D79A25N+sO1ZQ5bNptGOzb285+4X+J2Tv4baV4PTlT5bo3CY5H+P8/Nr/omQmIBnWqOv9N7J8N+vJTCUp7azh5p0H3Y6jdG+hrrfO8mnWx/kd+zfm178C84fZk0pdRLYsRiarGZEdJpuehuB2hbsfJaj3/9fxckOS1iGLohtk8ua9FgBTCNNqNQD5eCQKnjxxmyMyVwxCs8rF4IYJuLzEr+qgXibjv+OYb686Qc06EkCmk533sOTySt4saeFjif6sfsHz5pQUC5c0DgqpQaAgdL3hIgcApqBu4HbSrt9G3ic5bppjmIyUYwuU6tniGoQ1nS2hAcYbwhwdGsLuaiBmdiIGc+jj8bBcbCjFVghD6NXekk3Kd5QNYitHE5bGTrzdRwfqaF5LI8+mcG5iOUkveLHS3EFOUNMAipMigQsoUbKslCJxOw7lDR6JqfxdHITB5ONRD0ptoQH2OQboFkPEPFkmMCDGCZ6dRV4PdjRCrLVPtZW9VKnBwGmXYBAI1HwEhjK4xlK4ExMvFLDzuZ44Xgbf+m8Df940SBrV20huTaM5Vd8uuetZI9V4kx0zRqO7XLGDFZgBotO9brHh7eqnuzEEKzgc6ZsG077+avmu3hf47P8SjA2va0lGGNPxxpCoTCRWD1avgBeD8o0yDdWUAgZjG3TyTRbXF89QJOewCMO4zY8m+7gu0evRU4EUOmBYkVktc+tFpF24GpgF1BfMpwAgxSbR8uCsizkRIDPVv83bq07wU2hYzTrk3ysah/3VO0lsV7xVGYdf331G0iPBojuDaHnYXy7wqnJ81tX/4xfrdhHgw7g4/7EDr5x8GaMvWHMlzpxkql5T2XKqBQJYph4oQw0+kzVfyP14waaHuzlud+9gufe+SXCmgddTBxVDEiqhYIkr20jU6MXNarN89m6s0OZ6aKhAxNpPw2dPWcbRsAaGmHLZxTK6yE0sh9H0znygQq+89a/5zce/iiT762kI3H8goF5XSAXHycz2ofuDcAKliEnk2X9v8eJP9nK5z96J2+55v8Dis3rX6/9BYV3azzXtRYljeh5RapBI18pmDeNs7V2kHuq97PV00+NXiCiGXRbwrFCLV/rvJW1f+2gj/Zhl3EQ6jkbRxEJAd8Hfl8pFZczht6VUqrkozbT7xbfDcNx8A8L3d21WI5GvMbHDeGT1OvdBDSdOtNPSp1mR0M/J/3VjE/UIgUw16Roqprk+sAJNnsC5FSBjMpzONlIoTdIeEThZLLzNoyWsniZX7CJqzjF2f1c89KoFHbMjgYxuoexBgYxmpuwWmvQx5LYx0/NXrBEUAaEPDkytkJNJtDyQlYpfMrGKyaNvkl6d3RgZOqY2GSQi6hpjVrNYkixnCpQUDYH8zr7s61MDFRQn+6d1kgLBGBjO0oX1LEe7MGh4vk1HSMt7M6swzOqY3X1lG1oqnLCLuToeuTbNN98N0MvPHbWtmV/zpSDPjqJ37bpHgvxUh5qtRxNhpdaPcXOitOMNoToXt+OZlEM7FJh8fr6Xm6oPMlV3l7aDCGrhLSy2Z1dy3+NXIl9Oog+0I0TT1zQJ3klmZNxFBGTomH8V6XU/aXkIRFpVEoNiEgjMGMMqqVww3ByOZp/3EvjkyHiG+t4ormBB3Zuo//qJ9nu6+UN/gybTJ0vtP6EVLNG/6YwttJoMBL4xKZJ1wEf/VaOHjvEzw5touM/MxgjiXn3fTjK4WV+QQNrqJNmTqnDsECNzgw79q1776Lhq4P0vLudD//WA3z5qTdyxSeHZg2OIbqO2RHnf637D+665hOE+jqw/YrvxXdMa/RHtU/y8F/1YiuNWiOOTwqzavTB595P47972NSbOns94o3tqC9P0hyYpOuzmzAe21sSxKbjH3t56P5fKroJuYbxgijbpuvhf6aqYyeRdVdOGccVe85QCntwGBmfoOLFHXyo6jd5S1snf1q7hzZD8a7wAd4QPETn+xtwlEZYz+CTAu3GZHEpDtExRedIQeNYvp6/eOJuOr6dZ+PoMPbwKMoqlG2tEeY2Wi3AN4BDSqkvn7Hpx8D7gC+UPn+0JDmcCaVwBoeR8Rhhsw3NCpCp8/FE60ZGK8NE9d1EtDz1uk5UE9qMDFB0LLDRGLEtTlpZ9ufaOJ6txxjyYPYNo5Kped0spRQH2UOQMG2y8cxN89NoKuxYTSUb1g7x25FjfK2quCkXVXw0cpJvNsaLI+/nIZcz6bfD6EGLeJsfZdg8NdbBaMWURsLbQ93oyPSc2VdrlHb8FJSOPeEl/GI/KpnCPsPQKV1oDkyyPjDCSXPzWee3unuguwcVqcRY24ZKZ7CHR9C8XrT6WmRgloALlyFKKU4/8e94q+qp2/HaMzet3HMGqEIeZdv4Rx2GT1ewO9zGC5UvUqsXaNINwhq0GMU50a+Uo+J9HXfyJByH3ZkOXkiuwd9rou8/jJPNlcdyJBdgLjXHW4D3AvtF5MVS2mco3qz7ROSDQDfwziXJ4Sw4uRzkC+hHuqno8RM6WkXmp008WdfGf7XfTKbF5r23Ps0azxjVRnElp558NaNWiO+8dANmj5dAvxAYtll/KoEzNDLv5vQkYwxymhCVPKceBcAuzjCel0ZT4b/etLWTD9Y8CVy836adTLH+Kzafa/4Q9tss3vvbD/F3z9xO8vMtPFndPieNjD4vN97WyVdbHkLpCmdk7JxRfO1YD12f3cRJczP+vV0zzqsefM8Wtv1mJ88+s4WOP09SuOEK7M+MYX58cecfzcdl5+H+F2fd9samq2ZMH/6d2efbJ9tmf7lu+tQLM6Y72SwxNcoEewlRyfH9L5e2zL8MLSqOTfUTPVR1VhLb3MwHN38M2Zzkn675NrV6hlpN0KQYHbygLBLKIeYYfO702znQ34h3T4jal/O094wUlyxR55sqUD7MZbT6aWZ/Om9f3OxcBEqBsosLSsXjMDyKeUQn2lSPf6SOiYSXXZvbGQxVUOspPvhd6WpGs0F8x3xUHXEIn0qi9wzjpNJnrah3sUSkhl/mHWel7VKPoZQa4yI1El2fDv/1mfqfAtBrgZRcMrW80GtlyOTMGRfEmsax4fn9BDQd3ngN76x4mf/HegPep/fjr62ek0aVxx0ObW8g1ewgBSkGsX1V89iOx4tNaRFUIIAeqTxnQCtTJ/xF04PcuaYNdJ1s1OSv1v+AP/C4yw9OsZhlaCmwevugt4+q/Eb0QhVD3hCd21poNsfJGjH0kv9jsdURZswO0TnQCCeD1L6Yw/zZi0W3sjJuRr+aS2aGDI6NUg7O6Dh+y8Y3ECbZ28wBTytOqfWpFxSapVjTM4k+nkQlkgsamV4KrLUGPZ8rhv+6e+xTxUQFa3ZPooC2B+K8Y+BTNHYXUJnMhQ+oHDZ8r8DdL3yK9QezRQM3V40mUqTitdzd8inWd2bOO6Ci19Vy5NPr8LclqPl6AO//3j297aLz7FK+9A9Rmc4S6KviG513Y5tgewUElAaiQM8pxIKm/gKeiSRG39iq7HO+dIwjFPsiU6niIEUf+GeZrKCgbANKbAqM839feR+f/9YH8P3k+en0qfet2nOAmj0Ua2qiFR2FX13wtJKlK72ptSdfpPYZfXp613k10vTigmQUG3XeU9145/C2l4CfW248yP/Z9CDvfOhTRUemqTzv7aT2RR3lKJRjIwqyypyebeGyerBjkxCbRLpOE3lOpidWoGmIXuq3ThUDUEyVy3J91i7EpWUcLwEOjtbxyXs/TOvhwfPGRZwKWRY4bdD2tcNFfzFAr6mm66ObyLRYbPheAe3JFxl//42M3lqg9kmTqn95btamzfRv15b6FR2h9QHB/8PnZ9z/TNREjM5vbeWttduma7lTpN9+Pb132VS+5KHh3r2EO8f4xL0f4eTol2c9nssqQKmiEczlQLTpsGPFl/Dq6Fc8HwsKwuey+Hj6UzR98dkLRh8vhiz7MjvefAgJh6bTpSLMTW95mafu+jLjV/gQXWf01gKn7vwnRm6ypyOlzMTUb0/d+U+cuvOfOHzX3zNy1dzen3Zskpp7f0Hr5589Z37x8DUaR+/8GvLL42heL/aR4zT/1bN4+ldmjR6XRUQV4xCoQr4YqixX6pdeRX2Ls+HWHMsQPVLJ4Lu3kKkT2h6YRO09t3+gujPLLT/5JP5enbbJQ9PpajLOcz++ktc0b2X9wYsbZJr67dr2kkuOI6zZW2wUWbdfQ99rPUSOKCL37Zt2xTCam+h5Vzu2t7j4l330xDnHrdvjsLHmo0ReNnFyswfZXQlmG5E+H+abZw9nt+7Nx2bdtvrrUpcXrnEsQ6Qqwrb3dfIXTQ/yjsFPUbP33H30x/fR8aQOysE+4y1tj43T8j9/UawhOjYYc7/FZ/12ilLzqPc2Dy984KvcuOd9RH/iwy4ZR6u1hg9/8AE2efv5/IEP4JvBOAZ++Dwbf1SM6nPeEXYXlzLCNY5liEpnePbZLby5bQ31p8/uzp4K/6VK0zeDQzOEHVMKMXSyd+5kst1E0jY797yLyH7jwn1BJRepVxM5Crfs/U0SQyH637dtOtyZjKf48jN3oAUsOgYzr/Q1imDfdjVjm33UdGbQnpjZx8/FpVxxjWMZYg+P0PFnSdB1VCZz1uDGVPivqdCjHz75a6g90XOmEWpBP2MfSvHjnfdy5z//MQ2fHcDJdc275lb1b3vRfuRDvX8b//yH/4s/7f4V1J4o1rGTXPEHg6BpZ6+jLRon3mXw7F1f5JYff5KOp2YYVXdxKWNc41iOKDVrWC//YDH8l6EVDU3nsRa25E6fe4iCReZkBf9H3dsI9aiis/xCslTIYxfyiA31eoEKM8ukhKddg6bRdNQN20g3+cBR/EnfXQR69Uti9NLl8sI1jquMhu92MvlQZPr/LdnTWMPnLvfspNNs/MIJEsEQdeOdy7Zcqh4Kcvz34N7rv85HvvsRxt4TYc3kobP6RV1cVgOucVxlTE+XvBBKYY+MwHKvE6YJkYo0N/lyaLZgdZ1bq3VxWQ3Ico4eisgIkALOreqsbmo495ralFK1F3ugS1SjmfSBeWhU0qd7DsdeLpby/G4ZOptFe87mwrIaRwAR2aOUunZZT7rELPY1XWoaLeX1rLRWK33+2SjXfC2E5b4md4aMi4uLywy4xtHFxcVlBlbCON67Audcahb7mi41jZbyelZaq5U+/2yUa74WwrJe07L3Obq4uLisBtxmtYuLi8sMLJtxFJE3icgRETkuIp9ervMuJiLSKiI/F5GDItIpIp8opX9ORPpE5MXS313zPL6r0dzPs+JaiUiXiOwvXc+elcjDTJSDNgthucrQBVFKLfkfoAMngHUUlyZ7CdiyHOde5OtoBHaWvoeBo8AW4HPAH7kaLa1G5aYV0AXUrLTm5ahNuZehufwtqOZ4EW+o64HjSqmTSqk88G/A3Qs590qglBpQSu0rfU8Ah4Dm8/3G1ejCGs2DS0Kri+FyKkfLVIYuyLyNo4jowP8L3EnRqr9HRLbMsnsz0HPG/72swMUuJiLSDlwN7ColfVxEXhaRb4pIVWkfV6MLaDRPykUrBTwiIntF5J6lOsnlXI6WsAxdkIXUHFf9G2q+iEgI+D7w+0qpOPAPwHrgKmAA+FJpV1ejC2u0mvvIblVK7aRotD4mIq9ZovNcluXoYsrQkpy/1K6/+B+KvAN4k1LqQ6X/3wvcoJT6+Az73gR8zsRzh4/gQvK7asiSokD+13A1mpWSRgbFPqU3UKzl7Abeo5Q6ONNvPOJVs+lTaJg5XUKzr39nHM9dXKYBJxKYdZsWmznUHEDr9pnX6e7ZH5oxPUuKvMrJxT5rJp5nL6cylFc5WYpjL3lUnlJz4x5gu47BDbLi65MvC7vUYxTIz2nfy1yj6VoRgIhM1YpmNI4+grPq0/eBm2dM994ye/yFmrcevbhMA5nbrp91m/9Hs6/U+JX/enbG9N9vnznfu9Rjc87TGWWIy60MLRULaVb3Aa1n/N9SSjsLpdS9qjhZ/O3mWasZXxa4Gl2YS6qPbIm4YDmaKkNKqWsvwzK0JCzEOO4GOkRkrYh4gHcDP55tZ6XUgws412rF1WgREJF7RGSPiOwpcPHN4EuAiypHLovDvJvVSilLRD4OPEzRt+qbSqlz1xAtZ0qLVCEaognKUYu6zomr0ZyYU62I0rzaColedvNdV305EkF0/awk5ZRuYxmvK7SgPsdSTWfV1Xb06iji95O6sol4m0GmTsg2WoROGjQ/OokeS2L39KGs2Tvy54qr0QWZrhVRNIrvBn59oQe91FiN5UgLBBCPyeQdmxndLjgesH0KMyn4RgT/qEN01zDEkzhj44vyvC0ml98yCSJIOIQTCTF6pYm1M8Ed6w7z5/WP8xvH3knyRAuBfgOtfxDK7GYtG8uo0WLWiozZBor/q3q+2ZuR8w26nI+EMmdMl+u2z/yDAzMP4KwKRBCvFwkFGb5WeNcdT7PWO8IV3n6eTm3i+6evYvhUlHB3JaahI5Nx1ziuGCJooRBaMMDQ7c3EN4B/8wR3rjnMjaETmKKhiUIckHm6N616Vkij1Vgrcpkd8XrRvF6y160n0WyiWjKE9SwFpdNnVXE8XcfoSAWeMR09nUcyOZwyfOYuI+OooUUqcaormLw9w2d3Psh1vm6uML04KAqq2CcijkJsBU753awlx9XIZaGIoHm9SEWYoWs85LZluKq1l0o9TUEZ9OarOR6vwej34B8CbTKNSmXALr++x8vGOGoek3x7LakmL801g3R4BomW1n4+WsizO9vGsYE61g1l0SaSOJfhOsuuRi4LQgQtEKCwYz2Zeg/p9Xm2twywtWKAWiPBkWwjh1P19AxHiZyCwLCFpDKoXO6VAZoy4rIxjuL3M3K1n8Q6h4827edGL0BxpsODyW186/BNeF8KoO1/CTudhjKs5i81rkYu80YEMUy0ijC9t/vJb8jw/u27eHvlPgAcJTyb2MDzPW14Dvmpe3wQ4knssXGUbZdlWbr0jaOmo1eEoKaKVIsi0BZnnWcEXTRG7RTjDjwztgHraJhon4PKF8ryRi0prkYuC0QME72uBruuimyDxYbGUTb4hgiLxZDtZ9gO83KsGas7RGRIIck0KpMt1hjLtCxd8sZR8/twOtaQbAtw0y918keNj9BmKMDPs9lankps4uCz6+j4ej8qkcQuzG3K36XEatLIiQRJv/6GGbfV/+3Mo7sDn5x5eh7Arx4annXb1/965tgO0W/+4jw5nJ0/W3vdjOmDP5x5lLbwh+VpNM5BBC0UJHVlM8kWg1+++mU+VvczonqBgAiPplv5xeR6Tu1rYd0P0hijSezRUo3xUvVzXA2IaZCt9pGJaqwNjNFmKArKYcBK8lTiah7r3UhgQHBGx1HZy3L2hauRy/yZHoAJkVhjkGyBjcFB6vUCAFmlOJBqZs9AK/5hwRhNIvFk2RtGuByMYyjEyFUmqTUWW/29+MTgiUwlBzKt/OihG2l7MIOnvx8rmSzb6v1S42rkMl80vx+tvpbU5jpq33Wa99cf4C2hTqK6l24rz6Ad5Cd7rqb1f0Pg9CSqdwCnYJW9YYRL2ThqOlowgBMJk61x8NVmiGhpbKU4kGnluYm1BPsE81g/TjJ1eT70rkYuC0EE8fsoNERI1xm8rvoUrw8eplYvmpWuQoQjuSa8wzrBUxNoY3GsbA5WiZfDJWscjcZ6YresId6u8au3P8vt4U7WmxOcsnT+6eevo+EX0HBwHGc8VqziX4a4GrnMG01H85hYG1s59j4vVU3jvDG8nxYDbBTjdo5PvPBbsD9M4648cnoAJ5tbFTXGKS5Z46gCPpJNGqlmhzdXvsgtXocuC3qsCMEejci+IRgZx7kMB2CmcDVymS+i64jPS77KQ+vaEW6o7aLFyBAQP6N2hhHbQ743SMNhB39vAjueXDU1xikuPeNY8reyasPEt+VpbhmnVkszbDvcc+zXOdlTS9vBAgyO4GSyK53blcHVyGUhiKA3N5Dc3sDoNoPfbDrA1f4ufCKM2hn+5/DreHGsheqXhMoXhmB0omgYV1m3zCVoHDXENLBCJrWNk1xV3UdQc4g5GidP1hM6auLvm8COx1c6pyvHKtZIi6UI/GDXhXc8g8YvzR7A4ftfqpt1W/4PLj76/rFv75x1W8f79s2Yrj8UmTFd4vqM6SuKCIiGUxEgvsYg02Rztb+LKzwTmKIz7jg8P9zGUE8V63ryOF29ZevkfSEuOeNo1NWQ39DI+BUe3tn6Mpt8Azya2sD+dAtV+wxqXk4h/bOHzb8ccDVymS9imGh+H4kNlWRvS7CzYYB2M4YGvJT381KmjdjuOhoOO3hPj2Hb9qprTk9xyRlHVREivtZPco3D2yteIKw5fGHodnYNtVGzP4M8+xKrp0t4aXA1cpkv4jHB7yPZoPORLU+x3ddDk66TcCyO5RrYl1hDzcs2lc/14EzEVmVzeopLxjjKtdsY2RnG9gmFINhhi5NWlBGrggf27iBw2qB2ZOiyfuhdjVwWhAh0tDF2ZSWTW222ePuo1VOM2BYHCzV8qfOXyfaF2DCQQaUzqIK1ag0jXELGcfjaMBvfe4SuySiTp6N4IjmOZJt4frKdloeF8NExVN/gSmdzRXE1cpk3pb7GyU0VjN6R5dr20+z0xnCALsvLM4mNeH9WQf3JAubJQazJ+KptTk+x6o2jFg4jAT+5KuHqih4afHE6vTkKts59p3cyNFRJx3AOmUzilFmk4eXC1chloWiBAOL3ka7X2N7az3WRLnyiM+5Y7M+2cjhRjy/m4InlUIXCSmd3UVj9xrEmSqExQrrV4h0VLxDWhEC9zt+O7+B737mdxh4H40gX1tj4qq7iLwRXI5eFolVFcGoqia93+FL794lqGiEtwPFCjsfGN3Ogv5G2nhxG79gl4/61uo2jCLn2asY2+wg1xghrQl4pRmzFsXQdgSGFf7iAyuVnfOinwrkr2wbbRtkO6lJzeHY1Oi+b957nEbjm4tdwmc1d53zU/uPMUX5OqtRFH2tJEMFuqCKxLoRWk6NSE7xiUFA2Y06Aw2N1FMZ9aIUsKIUYBpoPxDBAE5TtlMqOXeqHXB2DNKvcOGr03ubj7rc9y2vCh6nW/DyXg38e+SUeP7SRzbtHYXAUOzXzykt6XS12TSVaroBkcqhkGnt0dFXcuDnjauSyEErLqo5cE2byNVnecsV+qjQ/FjZJJ8ee9BWkX4xS1Q9aMj+9OJuI4ETCKL+Jls5DLo+WTOPEE0UjmSv/6E6r2zgCVtDhptBx2o0JdPEzYofYP9aIPmYiyQxOJoNoAroHvSYKPi8q4MPxGKQaA2SjOnpOYaYdvGM5dOWgcnmcSygCjauRy3wRw0Q8JvkKoakmxhrvOABZZdFja/TlIphJwcgonIAJWhg77MPxaGSrTQoBDSOr0PMORtLGjOfRE1kYHEXl8zhlHFF+VRtH0QQ7bPM6/wgmxdkEP5vcTPKJOuq6HZzYJMqy0EJBJFJJ39taSDUpPB1x1laPc2XoKK2+cQZzlfRlI+w6vI7mBzcQGMyh7Tm0Kt5uF8LVyGXeiKBFKpFwkFSbzafanmKrtx8wOFIw+O74TTzeuwH/sMLIKia2hCgEhNjVBUI1Ka5uOM7G4DBZx6SgdLrTUbrjVQwdrWXNIxF8w1m0/cdwcrmyNJCr1jhO9YWJ1yEkXgBs5RAr+PGNKbwxGwqF4lS5SCV2TQXZGoVVn+eahgFujJxku6+HTeYk/baXrkIN/clK4s2NiPISMoxV/+C7GrksCNGgMoRVE4aKAus9w0S0PBbCoFXJ4cl6kpN+gnmFKMhXCPkwVNXH2VIzxF3R/Wz39mMjOEo4EazlULiJf8/uJNFciRI/wWNepEz7sVencdR02N5BsjlATe0EABY2BWUTywfwTjqY8TxKKfSaKP13tZCthVx9Ad3jcDJWTSznp7Y5wa2+LGHNot3ox7fuYe579/U8s7+DLc+GcFJl0iE+H1yNXBaCCJrPy/BtDcQ2K27ftJ9NZoasgl4rx4/GdtL1VBvhGGgFG8unkWpRWFUWGytjNPomMcUmq3QiWp6wLoS1ftabIzReEeMn0R28dKyVjaNtGIMx7L7BsjOQq9I4iiZk6/wkmg0aA8WHs6BsEo5FquDBTDtoOau4rrJhkKuGXLUNusIpaMQSfjJ5k5H6MBrDhMRLSOA67zC+umc4saYaFa1ES6VXbb/aatJIRLqABGADllLq2sXQYC4cumZx/Tr12tpZt9kjI4t6riVFNMQwSNcLvrVxtob6qNR8FOwMMcdDbypCsF9hphSaDUoD2+eg+Yp6FpTOmB3Cp+WBOBp5vAIBvcA1vm6CDTnGswFyVTVo6QAyqKHKzD1ydRpHr5eeO3TeeMs+fqVqLwD78j4eiW/n5PEGthwaRk3Gsa0Cztg4ax6sxPabKFNDaYLl92F7ha//+i3cvPMYTXqORj1ApebhKm+MP+14gL/56hvp6rqCzV8cwz52coWv+OJZhRq9TinlRrsoBzQdvToK0UqyG7N8fOMvuDlwDNA4ZoV4LLGV4wO1tPZY6DkHxxDEUVQcM7B9fo4eXs9RbT2POCAOZGsdnIjF1nV9/HbLzwlKng7PEDfUdvHjmxsI9VRRPzQO2fLyj1ydxtE0iG4Y5++aXvFD6ylUs2+iFc+ojjM4XBwFg+Ln3k60M37vCQYRv4/+125g8MpKgjJGow4BzUMAD2/yp7ljy/18pXEjj0VmX7munHE1cpkvogkS9GNX+KmpSXBn6ADVusLBw4hVxbFkHU7cxDORQ7McrKCJKAgMOygNjKxCKyg8sTx61iLZHiRV5+Gg3khffZRmc5x1epwO/xCF1jwpx4v4vCt92eewKo3jTOxLtnHocAtVvVwwpL+YBuL1ogI2Wz3DVGrFuH2jdopuy+S+2PXc/+hNBHuF5p4TXCoT6spYIwU8IiIK+JpS6t6FHc5lIYhhkF1XS6rJpCU8SFhzMNGKTt92iKFMGCloWEEDPWuj5W20nE04lkMcVfRrLFhINg+WRchWeMd9xDd68EmesJYlLBpBLYdSIIpi906ZcckYxxPJWkKnDIJD9oWF1nUwDXS/TbsRmE6edBSduSYeOLWVjV/txurrv2QMI5S1RrcqpfpEpA54VEQOK6WenNooIvcA9wD4CMx2DJfFwjRJN5gkWzSa/HHCWtEFzEaRtH3EMj7EBtuvIwrMeB7JFdBGYkXfxXgSZZU6EEVDz+fxjQYw4634tAJByRPQTHxS2qf87CLAWS2pVYWIQhdt+q/CkyFfqSgELyJ686uOcaJQxX8OXUu6P4S6BAIwrBaNlFJ9pc9h4AfA9a/afq9S6lql1LUm5df8uuRwHIyMwkhByvZQUA6OUjhKFd1yHK1Y2wPEUUimgGTyqGyuuK75VDQe0YqTC6IR8m015Kscmo0JfGIzbud4OdNK8IiXyuMOKpNZueudhVVrHF9NvTdBvtomHxbQLj68PcCRXBP7j7QS7NYhX2ZDZ4tAOWokIkERCU99B+4ADiz4wC7zRynMlI2ZVCQKXgpKYZeqd47SsJWAKo5Qi6PQUhkkmcZJp3Ey2eJL8wzvBasmTKLdh16do81IExCbIdvkpVgLdXtyRPeM4iSSK3W1s3LBZrWItAL/AtRTrADfq5T6qohEgX8H2oEu4J1KqYmly+r5qfPE8UYzZOrCyOb16LEkdm//2bWb0jxRohGs6hA+3ysPt60cevNV+PpN/CPqompFWZWmk93kyQJCM2tLp3M1mgP1wA9EBIrl8btKqYfmcyA9Ujljuh2bnHfmLpbzueuc/o/tM6bne4JYEzFGv/s97EQCEMI33UhuT3BFypCybTwjGYK6cGK8hl0NDawzR2nSbbxagbAvR9JzRltYqWLACSm9dDWj2JxubsCpCDC2PcDkJsXGxmF04GChiv+KXcWB3iY2TGSReBLKcOnfufQ5WsAnlVL7Sm/4vSLyKPB+4DGl1BdE5NPAp4E/Wbqsno1Sgl2qvuui0eEdYmdzL89bbQzeHCHcHyI4NoE6wwdPdB3xesm1VpFs9lATGgCK/n8ODofiDdS8bBPoz6Dyc3dIFYQOrqRCqrBUged5jFKl/NO4Gl0gj+oksGPBB1rtaBpVb3sr3tYWnGyW/i9/BSn29S17GVL5PNrRLoLDlfScWMN3q2/gLTUvEQ10EdHTtIZj9AeixRk0DmA7xcg7uo5A8dPjIbW1nnirQfr1ST6x9Uk6vIPYwOOJzfzXL3YSPqGjdXVjjU+UpS/xBY2jUmoAGCh9T4jIIaAZuBu4rbTbt4HHWa4H31FMJorRZWr1DFENwprOlvAA4w0Bjm5tIRc1MBMbixPdR+PgONjRCqyQh9ErvaSbFG+oGsRWDqetDJ35Oo6P1NA8lkefzOBcxJvMK368+AEwxCSgwqRIgKuRyxwxKiswKisA0Hw+zPp6CoNDsBJlSClUvoDKZgkMaOztWkOrf4Ib/d0EtByt/gkO1qSIra/CG9WpNOrQ8k5xGqAIdsDA9mmMbjfJ1DtsrhulzTNCXunsyTWwe7yNUJdOqN9B5QtlaRjhIkerRaQduBrYBdSXDCfAIMXm0bKgLAs5EeCz1f+NW+tOcFPoGM36JB+r2sc9VXtJrFc8lVnHX1/9BtKjAaJ7Q+h5GN+ucGry/NbVP+NXK/bRoAP4uD+xg28cvBljbxjzpU6cZGreTcaMSpEgRmngwNXI5aIpjI+T7+1DCwRghcqQsgo48STNP5skezDAT967jbur9tFsTNAc2ct63zA/rd5M92SUU0ejaJZg+xyURxFpjFMTSvHeusNs8/dQqyeIaHl+EL+Kn/RtZ2RvPRv+s6c4CSFZfn2NU8zZOIpICPg+8PtKqXipjwgApZQq+ajN9LvFd8NwHPzDQnd3LZajEa/xcUP4JPV6NwFNp870k1Kn2dHQz0l/NeMTtUgBzDUpmqomuT5wgs2eADlVIKPyHE42UugNEh5Rr3QozwNLWbzML9jEVZzi8FnbXI1c5oKTyzHyrW8TffvdTD762FnblrUMKYWybYzxJD4RrLEgu9LrafOMstEcpsmc4KrKXgJGnl3NPhxbw+8t4DUtdtT10+idZIf/NOvMcWKOh65ChL2Ta+jrriYyIDjjseIIdZnWGmGOxlFETIqG8V+VUveXkodEpFEpNSAijcDwTL8tOfTeC1Ah0UVRwsnlaP5xL41PhohvrOOJ5gYe2LmN/qufZLuvlzf4M2wydb7Q+hNSzRr9m8LYSqPBSOATmyZdB3z0Wzl67BA/O7SJjv/MYIwksOfZj+Yoh5f5BQ2soU6aOaUOg6uRy0WgbJvhb32b4DU7CV65fco4rlgZwrFxBobQJmLU7trCP9i/zPqt/Xx+3f20m+Nc4RkhW6EzUhfEVhq6OOgoIloGUxzM0v8/jF3Dk0MbGH+6gSt+OI42mcRKpcEp726ZuYxWC/AN4JBS6stnbPox8D7gC6XPHy1JDmdCKZzBYWQ8RthsQ7MCZOp8PNG6kdHKMFF9NxEtT72uE9WENqPoQ+UANhojtsVJK8v+XBvHs/UYQx7MvmFUMjWvN5lSioPsIUiYNtl45iZXI5c5oZRi9N/uw6yvp/K21565aeXKEMWXrNgO/lGLYK9JV001uxo20GROcIVniKBYRM2iN4AD2AoKCLYS+q0wMSfAvolW+vqj1PQrOHkau2CVvWEEEHWBgi4itwJPAfspXj/AZyj2O94HrAG6KboYjJ/vWBUSVTfI7QvN81TGiu4CoSAS8OPUVJGvD5KuM4m3a2RabN5769Os8YxRbRT7NXry1YxaIb7z0g2YPV4C/UJg2CZ8KoUcOI6yrHk1F2NqlD08TohXXElsbDIka3A1mpVd6jHiavyiHC4XVR/g4f4XZ932xqarZkxXt8ycDtB/6+xN2obnZw6soP98X/mWIQAR9LpaqAyTa40Qb/MQXwctN/axLjzGu2ueIyh58ugkHB/PJDZyOhPlmf0d+PpMqo46VJxIoQ/HsHr6F3UNmfmUobkyl9Hqp4HZTr6Id+AiUQqUjR2PQzwOw6OYR3SiTfX4R+qYSHjZtbmdwVAFtZ7ig9+VrmY0G8R3zEfVEYfwqSR6zzBOKo2zgIggEanhl3nHWWm71GMopcZwNXKZA2VbhgCUwh4ahuERvONRavujGNlqTrXWkKjxcmWohbCeIa8MkraPfROtDCXChE6YRI7bhA+NYx85ibVKFtaa4pKZW41jo5SDMzqO37LxDYRJ9jZzwNOKU5wail5QaJZiTc8k+ngSlUheXqOurkYuC0EpnEQSLV+gqmARGIpiBar4TvQulAZIMUSZJ+FQmXXw98XQYknUeGxVNKNfzaVjHKF481KpYnTqPvB3zrIbXFIBJS4KVyOXBaByOexcDuJxjOOnMETwGyZopZlVFJ3IlaNwSnOyVyuXlnF0cXFZXpQqRuARbXoK4HQ4vFVsGME1ji4uLgul1Lc9FYznUsE1ji6XNbONSJ+P05+Yvf+s7Z3PzrrNZXVxyYQsc3FxcVlMXOPo4uLiMgOucXRxcXGZAdc4uri4uMyAaxxdXFxcZsA1ji4uLi4zcMHAE4t6MpERIAWMLttJl4cazr2mNqVU7cUe6BLVaCZ9YB4alfTpnsOxl4ulPL9bhs5m0Z6zubCsxhFARPYopa5d1pMuMYt9TZeaRkt5PSut1UqffzbKNV8LYbmvyW1Wu7i4uMyAaxxdXFxcZmAljOO9K3DOpWaxr+lS02gpr2eltVrp889GueZrISzrNS17n6OLi4vLasBtVru4uLjMwLIZRxF5k4gcEZHjIvLp5TrvYiIirSLycxE5KCKdIvKJUvrnRKRPRF4s/d01z+O7Gs39PCuulYh0icj+0vXsWYk8zEQ5aLMQlqsMXRCl1JL/ATpwAlgHeICXgC3Lce5Fvo5GYGfpexg4CmwBPgf8kavR0mpUbloBXUDNSmtejtqUexmay99y1RyvB44rpU4qpfLAvwF3L9O5Fw2l1IBSal/pewI4BDQv0uFdjebOJaHVErHqtVmmMnRBlss4NgM9Z/zfywpc7GIiIu3A1RSXqAX4uIi8LCLfFJGqeRzS1WjulItWCnhERPaKyD0rcP6ZKBdtFoUlLEMXxB2QmQciEgK+D/y+UioO/AOwHrgKGAC+tHK5Kw8uE41uVUrtBO4EPiYir1npDF1KrHQZWi7j2Ae0nvF/Sylt1SEiJsUb9q9KqfsBlFJDSilbKeUAX6fYtLlYXI3mTllopZTqK30OAz9gYde0WJSFNgtlGcrQBVku47gb6BCRtSLiAd4N/HiZzr1oiIgA3wAOKaW+fEZ64xm7vR04MI/DuxrNnRXXSkSCIhKe+g7cwcKuabFYcW0WyjKVoQuyLAtsKaUsEfk48DDF0bRvKqVmWTG5rLkFeC+wX0ReLKV9BniPiFxFsQ+qC/jIxR7Y1WjulIlW9cAPis8xBvBdpdRDy5yHcygTbRbKkpehueDOkHFxcXGZAXdAxsXFxWUGXOPo4uLiMgOucXRxcXGZAdc4uri4uMyAaxxdXFxcZsA1ji4uLi4z4BpHFxcXlxlwjaOLi4vLDPz/BGcTXuoaUPEAAAAASUVORK5CYII=",
            "text/plain": [
              "<Figure size 360x360 with 16 Axes>"
            ]
          },
          "metadata": {
            "needs_background": "light"
          },
          "output_type": "display_data"
        }
      ],
      "source": [
        "f,axes= plt.subplots(4,4,figsize=(5,5))\n",
        "axes[0,0].set_title(\"Original Image\")\n",
        "axes[0,1].set_title(\"Dirty Image\")\n",
        "axes[0,2].set_title(\"Latent Space\")\n",
        "axes[0,3].set_title(\"Cleaned Image\")\n",
        "for i, noise in enumerate([\"gaussian\", \"speckle\", \"salt_pepper\", \"\"]):\n",
        "    clean = xtest_all[50]\n",
        "    dirty = add_noise(np.array(clean), noise, 0.8)\n",
        "    predicted = best_model_all(torch.tensor(dirty.flatten()).type(torch.FloatTensor))\n",
        "\n",
        "    axes[i, 0].imshow(clean)\n",
        "    axes[i, 1].imshow(dirty.reshape((28, 28)))\n",
        "    axes[i, 2].imshow(best_model_all.encode(torch.tensor(dirty.flatten()).type(torch.FloatTensor)).detach().numpy().reshape((9, 9)))\n",
        "    axes[i, 3].imshow(predicted.detach().numpy().reshape((28, 28)))"
      ]
    },
    {
      "cell_type": "code",
      "execution_count": 213,
      "metadata": {},
      "outputs": [
        {
          "data": {
            "image/png": "iVBORw0KGgoAAAANSUhEUgAAAUcAAAE/CAYAAADVOAHHAAAAOXRFWHRTb2Z0d2FyZQBNYXRwbG90bGliIHZlcnNpb24zLjUuMiwgaHR0cHM6Ly9tYXRwbG90bGliLm9yZy8qNh9FAAAACXBIWXMAAAsTAAALEwEAmpwYAADODElEQVR4nOz9eXxnyVnfi7+fqrN9N32/Uktqdbd6ndUzY894PN4nGIyxscExlx0SAgFikkCIcwk3hGy+wE2c3BAgxAmY5feDOAbsgMEY8MpijO3xzHj2rWfrnl61L9/9nFNV9486Uqt7pN67pR5/P6+XXpLOVlXPqXrOU88qzjkGGGCAAQY4HWqzOzDAAAMMsBUxYI4DDDDAAOtgwBwHGGCAAdbBgDkOMMAAA6yDAXMcYIABBlgHA+Y4wAADDLAOripzFJGfFpFfv9zXnseznIhcfzmedbUhIr8iIv9ms/sxwNaCiLxXRD642f04E9fyWjsTF80cReQHROQREemIyEkR+R8i0jjbPc65f++c++Hzef6FXHspEJG/FJEr3s4GbR8Ska6INEVkUUS+ICL/UERW34tz7h865372LM/4WhE5egl92DKLrKDHWy7ivsv6Ds+1wEUkEpGfF5GjItIq+v2Ll6v9Ne18r4jcV7RxQkT+TETuvtztXC1s5lq7GFwUcxSRnwD+I/CTQB14HbAX+LSIRBvcE1xsJ1/ieKdzroan3/uAfwH8xvncOKDppuFfAncBrwFqwNcCX7mcDYjI/wn8IvDvge3AHuC/A++6nO0McBY45y7oBxgCWsB3nnG8CswAP1j8/17gfwMfBJaBHy6OfXDNPX8POAzMAf8GOAS8Zc39Hyz+3gc44PuBF4BZ4F+tec5rgC8Ci8AJ4L8B0ZrzDrh+g/H8JfDDxd9fCxwF/i9gunjWtwDvAA4C88BPX0C7bwWeApbwE/uvVtoqzs8W418APolnkK8BLHBbcc3/H/i5M/r3L4CTwEeAbnF9q/jZCXSAbWvaubN4N+E64z/znTjgHwNPA03gZ4HrgC8U7/HDK2MEhoGPF89eKP6eXPOs/cDniud8Bnj/GW29rnjuIvBQMaa3rNPHDdsB/h/AAL1i/P+tOH4z8OninT3Fmvla0PT9wJ8UfbsHuK4497mCBu3ied+1Tn8+DrznLGvkEJ6BPl709/8HJOdJsxH8mll5p3+45tw3Aw8W9DoCfPwstPzaNef+PvBEMdbngB9Zc+5r8XPqJzg15//+mvMx8J/x624K+BWgtOb8Txb3HAd+kK271n6woMHqWjsnr7sI5viNQA4E65z7LeB31iy6rBiwAkqczvBuKV7+3UBUvICMszPHXyueczvQB15WnH9VMTmC4tonWDN5L/CF5cC/BULgH+An8YfwEsKteGa0/1ztAqN4ZvKtxfl/Woxvpa13Ff//YHH+XwNfKM69APyjDZhjjpfa44IWXwscPWNMf7pyf/H/LwC/vMH4V+m8hlZ/hP8I3lrQ+bPAAfwu4XHg+4trtwHfBpQL+nyE0xfzF4v3GhXveXnNO92F/yi+Az8/vgHP5L5tnT6eq53Vd1j8X8Ezj79f0PaV+A/RLWtoOodfcAHwv4DfPZ/5Upz/18U7+sfAywFZhzk+CuzGM7u/WfMOzzWWP8Ev7BxIgDcVx1+JZyKvBTTwUfz6iTeg5RwwVtz7TfgPnABvwn887zxjTv0Mfs6/ozg/vGbufKwYRw34Y+A/rOEFU8BtBc0/dDbasblr7RngZZyx1i43c/y7wMkNzr0P+PSaRfe5jRZiQZTfWXOuDKScnTmu/cJ+GfjuDfrxHuCjF8kcu4Au/q8V9752zfX3A99yrnbxUvEX15wT/IJdaevP8At2ZbwKPyn3Al+ikIx5MXNMKaSQNcfOZI7fBfxN8bfGS2SvuQDm+MYzxvsv1vz/88AvbvCsO4CF4u89+MlfXnP+g2ve6b8A/ucZ93eB/3gec3C1nTPf4Zrx//UZ9/wq8O/W0PTX15x7B/Dk+cyXNTT9UTzT6+Olpu9fc/4Q8A/PeP6z50GzHXiJ8R9wxhoD/gfws2e8tyU8s1uPlp9c26czzv0h8E/PmPPBmvPTeEYkeAn6ujXnXg88X/z9m8D71py78Wy0Y3PX2g+tOb+61s42zy5GZzULjIpI4JzLzzi3ozi/giNnec7Oteedcx0RmTtH2yfX/N3Bb+URkRuB/4LXA5XxX4f7z/GsjTDnnDPF393i99Sa893zbPfM8bkzDCd78V/jPxSRFToKXgrYhd9WrIcZ51zvHGP4I+BXRGQ/cBOw5Jz78jnuWYszx3vm/xMAIlLGSxbfiN8uAtREROPHP++c66y59whemgI//u8QkXeuOR/jJavTcLZ21ryrtdgLvFZEFtccC4D/ueb/defS+aBo8/3A+0WkhJf+f1NEvuyce6K4bO3cP4ynx7lothv/3o/w4jW2F/h+Efknxf9JMaadrE/LEPiLos23A/8Oz7wUfq4+subauTPW8go9xopr7xeRlXOC/zhQtL12nR1el2Ab42qutV8SkZ9fc2xlrW3Y54sxyHwR/7X81rUHRaQKvB2/BVvt51mecwKYXHN/iXUWxnnifwBPAjc454aAn8YP/krjbO2eOT5Z+z/+Zc7hv4yN4qeE3w7sAj6/QZtn0vRFNC6Y54fxUv73cTpTuJz4CTzzfW0x/q8pjgt+/CMFM1jB7jV/H8FLOytjb+C3qr97ge3Ai2lwBPirtc92zlWdc//o4oa5MZxzXefc+/G6rFvWnFo71j146RLOPpYj+A/m4/g19i1njOn/WUOr9+FVAb/DOrR0zlWcc+8TkRj4fbx6Y3tx759yfutjFs+gbl3z3LpzbuVDcmKdcV4pXOpa+5Ez6FNyzn3hbA1eMHN0zi0B/zfwyyLyjSISisg+/GI8yvkvxP8NvFNE3lBYuN/LxTO0Gl7n0BKRm4HLvgguot0/AV4uIt9SWJV/lELiKvAreB3eXgARmRSR/4BnDh90zq39sp8NU8A2Eamfcfy3gR8A/jZXjjnW8ItnUURG8NIJAM65w8B9wHsL15fXA2slmw/i3//bRESLSIKXhnaISLLmJzhbOwWm8DrRFXwcuFFEvq+Yn6GIvFpEXnae4zrzeadBRN5TuFCVRCQQke8v+vjAmst+tHinI8C/An6vOH42mp3AbwHfB/wHvGT608UH5jeB94jI/ywWfwjsFJHaerQs+jeJ1/fGeH1eXkiRbz0fIjjnLF7P/wsiMl6MfZeIvK245MPAD4jILUUfz3wvlxOXutb+pYjcWoyhLiLfca4GL8qVxzn3n/Cc+z8XHb4Hz52/3jnXP89nPAb8EzwzOIFXLk/jv5gXin8OfC/eGvdrnJqIVxobtuucmwW+A/hPeAnxFjyz6BfnP4rXGf2aiDi81PRD+K3D3z/fDjjnngR+B3iu8JXcWRz/G7z+6isFo7oS+EW8UWgWryf9xBnn/w5eRzUH/ByePivjP4JXlP80fuEewRuBfhvPPFZ+3nse7fwS8O0isiAi/9U518QzgO/GS2wnOWXEOh+8F/itgp7fuc75Dl73erLo04/iDUnPrbnmQ8Cn8NbhZ4vxcx5j+T787uGf4LeUP4mnzx8Bz+O3lQvAj+ONLBvR8icBVdDix/GMbAE/Xz92nnQAr898BviSiCzjvQ5uKtr9s2I8f15c8+cX8NwLxaWutf8I/G4xhkfxu9yzQgoF5aaj2JYv4sXm5ze5O5cd4h27jwJ/xzn3F1epzT8HPuScuyyRRpcKEfk9vOHjSkoYmw4ROYQ3Bnxms/vy1YjLtdY2NbZaRN4pImURqeCl0Efwlr6XBIptTqPQ+6zoSL50ldp+Nd6/8WpJ0ev2QUSuExElIt+Il27+cLP6M8BLF1dirW124ol34bc9x4Eb8K45W0OUvTx4PX5LNYvXt32Lc6579lsuHSLyW/jtz3uKbdVmYQLvvtEC/ive9/KBs94xwAAXh8u+1i5pW11IA7+EN+3/unPufZfSmZciBjQa4HJgMI+uPi6aORZ+WQfx3vhHgXuB73HOPX75undtY0CjAS4HBvNoc3Ap2+rXAM84555zzqV4q/O7Lk+3XjIY0Og8ULiEPSUiz4jIT212f7YgBvNoE3ApWV12cXoUwFF83OeGiCR2CZVLaPLaQY82ePeCC6NRWHFJ3AAlOEDlFqzFaQVqjRuoCE5AHEhucQJohQPEOe8WLWuuBVDglCDWIeaMHYM747f2z/f3gxh/jxNO78daWIc4/DXi28FasA6cBaVA69Vru9kSme0G+GiTValIRD62kVR0tjl04ys66x5/+uDwuscBXO/CPcdcrbzhOZWuF7DjYWO97nFZXr/fPdqkrr8SyXHe8+irbZ0VNLrsuOIpr0Tk3cC7ARLKvFa+/ko3uSVwj/ssGel5XXsajaI6r7v1R3Dav2/pG8QYbDnCxhrJHZIZbCkgrYWIcUTLGRTqEcktwdQi9FPS63fQ3xah+w6VWpwCFyhwDpU7VG5R3RynFdlQiDiIT7aQXoYrx9hIYyoheaIJOzl6OUWsRXKLjQLyuncbVH3PEGyisVo8Y19hqA50z6A6mWe4gfJM1Fi+9PgHyDrdVamooMWKVLQuc0yobDiHPvnJB9c9/o6v39jf1zzx9FnfzXrIX/uqDc/FRxY3PNc9MLLu8egT9657/B732XWPr4ev5nV2pXApzPEYp4cOTRbHToNz7gPABwCGZOSlZIk+H1w4jSo7Hc4heUEqBU5p3Iq05jzDWYWADZVnRLlFjPXSULcHIthQUFnBOB2QW/8YAbci3SmHCwrp0oJkOWQBsnIefy1avFt5liNavBTqPJMFyMMQG4q/FnwMR9GWLqRcP6biD3/dBe9Avgpxznn0Vb7OrgguhTneC9wgPrnBMXw0wvdell69dHDhNBLBhhqV5mAhr8eYRBN0c1Q3x0aabChC9wzlF5ZxoSYfij2DLCQze2AH4hx5WaPyU1tsEyls5Jml7lt/rBSCYpUZm3qCrUaYJMBpwQbiGXCkyKsRupejU5+jQKUGsQ611AFriZzDxgHpUIiNhXguI1jqYioxeSVAZxbdSj0Ddm6V8Z4LZ0pFX4UYrLVNwEUzR+dcLiI/hk+NpIHfLEICByhwUTRao9MT5zCxIi8rdE+QzEIcYGKF7uaouWVcOcHVE1wgYMBpwVQDL3GKIDmn9IAKbCCIZVW3aEO1qlMEMIkGNCZSOC2r+kunBBspVKZWJD7EeKlRun2wFhVHXrKthTgl6F6OWmjhQo1tRKhCJYBdJRAMpKJzYrDWNgeXpHN0zv0pPsPHABvggmnkgEICAwhbOWErR7dTpNP3TC8QEMFMDINS3sCSeSa2IpE5EUyi/DbXgROFyhxxN181yDgt2Ei8XrCTn5LkRLyUGQph0xC0c1ygcIF45pZmiFszdQp9p00CbBKiMkvQdl763DEMSogX+r5PlRgxFtXPV5jsQCo6DwzW2tXHoAbJFoTYgrEoIVzooTr9Qg+YowKNivyWN2sk4EBlhShWMCm1skWOlZf4AhADqmcImilOFYYR5aVDLOi+QTJzSrcoIU6DzizBcg9bCjGlEDEWyXIvlTq32iaACzUm1ohxBKnFxIqsmhAtZwQLHWwpJB+KkVx5KZjLKxW9becd6x4//pNjG96z8yIMMsFnN04VurGtGvp3rt+P6DUvX/+GR8+aUWuAK4wBc9xiEGPRyz3ExDgtqH7mmVEc+i10rIt0o14fqDKHygpr8YqrSGa9FGm9FKkyLymq1CJpjiiFxZ+PUuulzUKPaCsRNlSo3BG2LFiwpRAbaa/XjANUpQQiqF7uDTzGt++U4BSo1K4aacTipcQ0QxlLuCKxFswfBlLRAFsTA+a41ZAbZH4JlVchDJBeClmOGyp715nCPcYp8VJf7lDdzG+FS57hBH2z6pcoxkuSKrPegNLL/HO1IH2LavrwUxeHuFCTVQNMooiWc1TPeB1mKcSGfpstTmOGEiQzqGbPM25rEaVWJVKVZ6hu5q3nufZ/91Kvj1xu4apl8l2NUxb4AQbYghgwx62GMMBOrEmI7iIIA3AO3c78MRGwjjD3/oLeIVxQfVNsoxUEfkuscodKDSqzXl8YaG8gSfwW2bfhDSViVqzY/nkuUkhqUVkOhNgoKJiydx1CBBcGMDqMFfFbc1PoO8uRl3BFsKUQtaYKgQsUupeft7V6gE3EiluWnCWYztk1f7903umAOW4xmJJm+cYhSjMpqmeQxL8i3eyjlju4QEMYoJzzkSeBxpa8Q6Fu9UGEdLSMDRXxTAfV6oMx3v8xiXBRgCmFZDV/jwxFqMwSTbUgNwStFJVqTCkgLwXErQ56rgmjQ2TVwr0nLBzJC0bb3VXBiVB5eh7d6pDtGyeth+i+315ncYwbSVYjZ4JuTnhiGcnPpqEbYNNwql4MshLRpPWpv0U8E7TWF6wqIqCcdf6D6OxLgkluLeaoNCoKIQyRJFk9LIHGNWq4KCBvJJjwwkPCxflIDjGOcGoJ12xDluKyHJdmuOz8olmuONwpgwpKsMVEVYECrSAKsaVwdQvrXWw0LhBM7Le+3WGFDSHYPoROHcpQWLABEfJESGvef9EpkByiybiImnHe1QdPszAJUXGEU4Iy3jldcq/TdKFnjitO3y4MkCj07azoPDOLAoxSPpqxcDGylcSHEw6wuRBBghBVOrXe0BqpVnBxiBmtYUqBd+0KvJ57JXpr1TsiL0JWrX/nQTtHpYZgahG33MJ1u9jeuWrCbT1sKeaoqxVkuI6tV+iNV1ZfQlbVzN2qSRuWXbdOsW9o/SKFWjb+WvVNwFPzYzTbCZW/3snw0ynRQh+13EXmlzAzM1dkTBcKyR3xQuaZT+C3yE6L3/I6Rz6UkDYisoqiX1/xh4S8JCzfaHCVnFKtTxzmjA4t04i6dPKIngmY75ZZapWI44yRcpdY5wwnHRSOQBlaWcwDz+xFLQaUTyiiJQfExKFCnFt191Gp376bSuTde1Z8JOsJthyCFnRqvS9mJ8WFGilckxDBxJr2virm+fVjjc8GVyuTv2b98L3gz9e3Ik98cf3YZYDmd79uw3ONP10/6Y1ZXj5LDzdG7XfXz72avfWudY+vMqErBaWRMEDVqrhd47jAq0tcqFm8sUK/oVi8M2XnrnnGSm3GkhZjUZNd8cKpvjvNUl4mc5qWiWlmCV8+sYfWYonRv55k+Kku4dE53LETOGOuKYlySzFHGR2he/0o/bqmPaFXEyfkZejtTSnVe7x+/HleVjp+9getgSo8jnsuohF1Odmt8fCB63A6Il4IiZdLVA5HyPIyGIPLz6w2e3WxWk5Pe6nRBepUAggLWS2ktVOTl4W04Z27xYIpOcKxLtVyj7FKm2rYZ7K8yGjYomMiMqc5Fjc4EQ1RCVN2lJaJVU4j7BCKQYulaRKOjA+zVCrR1iXSumdkWUmIWpZ4MSuibYr4aVXoOlfccpRAqE83tIic+rEOyQ2qSH5x1tqUA1wxSBAgQYBq1LET28hqMa3JGKcB5wMFWnuEdMixa9c8rx07xK54kdFgmYlgiYmgiS5eXuYUyy4mc5q2jVk0Zfo24GilwYkDO3CqxFBlO0mlhMwvkU9NXzMMcksxx+k37SD+rilubMzw9pGHicTrpELJGdNNEjGMqZxQXvxF1ecoXGhwvKNykMzBkckq86bKF1vX89Tydp768+s4sLwD12xvugTp8FEraU1jA/Hb4qxIEtHqsHRghPAdM4yVOhyozRGpnLJKUeJIVEYohv3xNIlkzORDdGzMZDRPWfW5LqkyX6tS0z12hgsYhJ4N6bmIE2mDskr5yRs/SUN5Scui+OD063nw5C6yx4aYuMf7VAYdOS3DT7iceem1EmIjtZq5x4cgKm/pDoSgk6OXuuhAo3vRKf/MAa4q1PAwjI8w8+oRlt/RYry+yFsnDlLVPUIxhGKYCJaoqD47gyUaKicEQhE0gip+ezigh8EBLTI3wxtLh2i7gMf37uBkXucjR+7k+cPbGPvCNkZ+dxGX5WC3vr55SzHHtC58844neWX5EN9UbqFPs5CFrGQyMO7Fi0qfzZp2BvaHAC12BvfySLKbh3bsJZuoE2gFs7Ob+mUTTmWzkRWdzkp/RMhq8Jqxo2wL2+yJ5yirPkPa63OWTYIWx0SwRCIZPRdiUP4a1SPTAZkLqOs2Dd0mcwHWKbKCnlos+8JZduo+FVGEoni6/jytLObhRpW0pgg7EPR8CKDgwLjVNF1iglNbQetOdxJfkzgD6y3nA2v1JkAEGjU6e4Zo7RJes/swN1em+Oahh6hJTiKgRYhFrWGAAT1nyJyjg6NnhUQc5TOYpUIRiqZcaEt26qN03BFmJ2r8BdA8OIEqJTjpY3sD5nhBSOvwPY17GVGg5crno7slNOzWz/DQXQ/wx9Ht1B+YYOIDx3D9i6kOe3kgqSE+vky4FK+m9wIvTZpdw3QmDX9/9PNMmxqPdnfTUTFR8bWvKG9U6tiYTDTbdItxfaqETNvGPNsbYzxMGNI9ejbkSDaCdQotllhlzJgamdOesTqFQdhXnePIvjpTdoTq4YCJL/ZRvbxgcBYyr4oIrM/ZaAuJMVjsIsttbL1KPuwdx02jSBxRbMsHuHpQSYIkMSe+YYLxb3uBt9SneEfjYWqqS0VytEBSCBl9Z0md47iJmTdVvtLZx9OdcY6365xo1thRa/KG0eeo6R513SFRGWN6mURl7NYtKkpQQE0Ubx96iJeVjvOvb/xW8lv3E8w04ZlDW1563FLM0SloKAhF0XfZuteYM6S6DEPmLHadc+C/ggq/7a6qmFBOGQGqKqGq4A21Zzi4b5znj+9BtN5cVZi1SKuLss77EBYCsaklmHKAiy3bdZe2i+jYCIvQcyGp00RiUGJp2xgtITXVJZScngvpuZDZrMbJ3hDWCSNBi46NOdb3iWDLKsU4RdOUAM9IezbEOkU96LK92mJ5rEw2X/YhhMYgqc8jueqS088h0N7B3Djop7huF0kiVBatWtZXMeCNVxdaQxjRG4N37/4c23SLMd1GFTPeOOgVOvopE9J2IU+nE8zkNe5b3MPzC9tYWiojcxFPbysRakM17DMSdSiplF3xIlXdI0kOY+lTU0Iowu6gQ0MdJWr06Y8kqF5ytl5uGWwp5jj6iOG1n/lxRkabvG3ySUK1/pfFuFNb6M9PX8fR2QZ2JqE0pV6k5Lcx9HZmRPU+P/vKP+LNpePUVXIak9xSKLadthxjSwGq6yU01cmIUkP1YI3v2fUDNJIuu8pLZE7xlcXd5E6TGj+mcpASKMtw1KGkM+6d2cPJmTpuOSJc8LT7pIDkQtgGG0B3p4FaxjtueYzbKkfpOc8YDUJV99hVXqIzGnFkKsHGXjJ0wyUkswTTy4ix2KESNtIECx2k28dFIWwfRTo99LMnkEoJ26hiKhHdcZ9mbYCrByklUK+iUviLpZcxFHQZDVsAGIS+DTnc3cZUr8ZjD+wjnlXEixB0HFHLMdSxDPcMutfDJJrF+h4WFBwOBRMK/REhq8LIG09y5+gR3lx/ghvCGRKBmjJMbltk+uZJGkGVysMaN5Aczx+VFzo07q2xvCfi89F1hPrsxLNOeOHgdqrPa4YOGYYefbElzA6VmHtFjc5EyBM37+J1yTHKzmxd5ojzVvNYY2ON6uded5cZyAylacf006PMjvYp707pmZCTzRqZ0aSpf51RlBMoS73UIwkyjh/eRumFkGgZ4kWHzhy679CpJWzl5KWA+W5Ib0RxdF+D3ck8mdMYpyjrPol4q/ZEZZnDpXGfFUgpsmqAyhzBjBcBTdHnIDe4VgdGG5haTNDuYmZm0FkdKcVQDsnKPg77QiHNzoYuOxtBff7BjU9+18auPEd/e9e6x3d8y8auPAd/9dUbnrvxR9bP+D1/c7TucfPA5RWtJQxxcYTK4ZnmKNWwz1Q4BHircyuLeXZ+lOZSiR1fgNpzy+ipRVyziev1sWm2Gg2j8Ds8UQJae13i5A7S8QrPTW5DieNAaYYxvcyY7lLGMVZq8cI2R39aUdUKl8uWtlxvKeYYHJlhu3UMP5PQfnyC3pmLZx067pnNieZ7BPNtmJ1f1dGtQNkGYmun3GHWwbItsdgrofvia55sJoIAN1I/vdaLtX5LpIXqiQy5PyQrJxys3+AduYss20mfIsOON+jM1QUTw+gxR+VkVuRxXJMVHLCBdxy3GlwA2+I2k9E8piBYz0X0bUjfBiz2S4gR8kQT9Azhcg7OYbYVoYHFdtpFIapWwWqfoceVE4Ldk77GTZajOxnxUvziOjYDXFG4dgdRirEHqpxI93qD30puTwfKOJIOVHuW+uMLyPwSttXGpT5Y4sWRLxZnFSJudd2Jc6iuZqFTomNiQjFkTtHDkNs1C/oaCADYUswxP3ESTpwkBBoXeO9GMqYOgtOLTa2Djo1o9yNkc10cAXBaYYYSb6xYYWbWgQanFPF0h3jq1AS1cUA67Gu5BD3jt7kzTSTLyScaZNWQeLq9mhjXDpW8e00cFFE1GhOtuObgJcRgcfX5J/MGmdP0bUAni3yWnkhwqRB0+qAU6XBcJLc1vthXqLHlpCirYH14Y6nujTjtLnRTomaGbO1d1UsOtt9HnCN5JGfy2RKkGXa56T++K0yvCAk06zLDM+AcYMEJqyWeHai+0Ot631qN8y5jTpHbNQ53Ij5e223dSbClmOPlgAQBqlxGRhp0bt5Oe3vA3Ft67Bpf5PWVp6kr/aIt9efmbsDd02DkoMGZzZUcnRayakjQNUhusHGARMVrcg6rFE4rn4G7n6FSQ7TQP606oSsVySrwySdcHGKHh/xXvZdjowAiR1YJWToQkA5B78Ye9XqHm8onqakei6ZMz4VUVJ9EMn5v4S5O3j/B0Ekh6KbgIB+K/WJIi5ILsYJE+74Zg6lEmFLg/099QgvlfMIK3c4GkuNVhsvWfP1znx/UpemLdlunQc7Y+q5kgY8iVBwjQzXyyW30hmNmbw/pNxzbb5/iZcNT3F5+gZrKyJyi4wLKQUpWN2TVACklKOewnY2jlzYbLz3mGMfISIPedWMc+foANdnhd17367wyUgVTLL3onoeP7uLGP55DFpvk+fpW8qsFp4W0ERB0cqRvMEMRJtborkFlxm+DIw19g+5mSJ4TFAkpTKPspcIkXN02S2oxscZVQoJmH7XUQQG2FJBVFUu35CTbunzvDQ+yP57hjuQFGipl0ZTp2JgR3aIRdDg202DfZ1Kf3cdYbKTpD4eo3BHPeokkHUowsSJoa5RSZLWQfiMg7HjdptM+UkYy48M2zdaVGl6SsAbXN2d3VVuV6Ozpx1b/9npGVUqQRp18osH0nVW6E47bvu4gd9aP8Obq4+wMuiSFp8iUgXYRoRYO90iHqkipBMZCt7tl9Y7XHHNU5bIPf9o2jCvFq8d7k0M0J0NMDFlV6G1zjN46w/WNWcZUn1CqGz6zVunR2TdEuFwmrJaRdpf8+MlN8cPypVaL5LGhQhWFtQAo9JArkSW2HHq9pFJ+W1xIj7bQT+alABv6RBM2FEwUY+Ih8kTIK9AfdozsWmSs0mYkaJOojKZNMAgWRaIyMjSLpky50mfx+jph25EsGHAQdH2ZVlYrGfr+u8C77KjMEbUMumu9pGiLpBXW+iQa60Q6DbDJKPwcVRx7Q0utCnGEGauTNmLSekCvoTCxkFchqzrSPX2qjQ5vGH6O6+OT3gCzxkE8EUNFUq4vTXN0R4NHWhHzd09Sns6I738G2+5uncQva3BtMUelUcMNXKXE0stH6YydUuou3d3jP73mwzR0m4bqUpacnYEQoonl7BXrbtg2w6OvHCFsh8TzCeXpnNL8wqaI/Co1JEeXyYfL2FJAeHwJllswUsfUS0huUZmX3LJGDNahs/CUflKEvOyzdre3a7KqZ4R5yWEO9HjTdU8zErXZl8yisatx1WXlpYmTeR2Ahu7QUB2mTY1FU+G6kTkefmOCnoqpPx0QLTtqz7dPlXQokhbo1Fc5dBKh+4awmSL9zNe/EYFA+zyQUTBgjlsUojVSKSNJQrZ3jHQ4Yub2kM51KTfuO8Y/mvwi23SL3cEioVhq4ghFKEtY+BX73ZnFYpyjpiyhpLyt+hivLT/DZxq38ZGRVzJ7cIgbjoyiZuYxS2bLOYVfE8xRwgi9fQxXTmi+bBv9umb5gNDfdoqYN++a4pboJInYwvlUUVcv3kKvh1trJ7jvxr10OwG6qelOheya3o9e6sDisldcd3s+q8jVeIGr+fKKbahSPi2YdV4yLKJLVGZ9+q8iOYWNFSZSdMYUeVnojTnyisUmFmLDrm1L7C/PUtddtukWSmzhy6i8wzenPjaLpowqcpcNqS6T5UWOjw4xpx3LJiFaVOi0jO7bVSu4yh2k9lR96rXhg+Ldf1bq1vhUZ1eelOdC7ffWz5Tjz1348zZy1zkbtv/X9WvFHHLtC+/ApUCK7XIpwRzYSdaIWTwQ0h8ROten7J2c5VUjL3BrdJyayhjVGo0mFh/WWySlw646lTtsMatCvK9jKF1uSk5w2/YJvpJq5l47Tnl6mPLDR7HLTWy3t2WY5DXBHFW9xsLdu2nvUMRvmeF12w/xlvpj3BydShLRUDCsktUXdCGx1u/Zdj9/701fpucUSzbmIwuv5uPDryWZqTP6yAjhYg99bBbb7uC63SubuUc845CVBKJJCLrmJbPMYioheTVE9w3Bch8bB/RHYvKS0N6hSWug71pk/8g8r2wcYVe0gHWyGlO9LWhhnKLn/IQOxWCc4kQ2TOZ0kcTCspBX6NmQV5YPc3N0knKjz03lk/T2BrRennD/wh6eHN1HtKwpH3dEbUf1cBfd7GOrETbUazL4+DyULlC4ojiYjfWpeOsBtgQkilDjo5htNV54e43e7pS/detjvHn4SW6ITrI76FATRVXFKMIXrbGVnAcrEmPGSuIYVegfFVqE7ZXjvKF0hOcmhvjwda/hi8f34X51N+XnF1EvHMe2r/JHYQNcE8wRrUkrQlqD20emuHvoIHfE0+zSp7bLF8IMz0RdlagryJyh7zIOVZ/nD/feTrMao7KYaDminoQ+VvjYSczi0uUY1YZwUqQDU4Jb8RXUGheqValSihrQEmpcACYS8jLkFcdoucue8gI3Jie5Lpxm2SY0bQktlswFGKewKx7YhXRYVqnXNTq16gBunQ9NXHZxcU2fMn3GgiYL1TKPj++gVwqRXJN1hLAVE0XK17mxPpMQKz/WsiIquqIMw2BbvbUgIrhAe/ewhqW6rcPLa8e4M3mBCW0YViUUctpaM85i8RJiz+VY51i0lgyh5zSZUyRF7H9DGYYlIZGAUGlMsMzras/QGo94+PrbMPEItSxHzy16/8pN1kNeE8xRgoC0IaQjlrsbz/ANpROUVXzuGy8QoWgUwtsrxznwxg/QsTHTpsbRdBvvf+BN6GMj7P/DGL708GVvewVOgECRV0NsIKuZa0w1Ii/r1agW1clQzS4u1KQVRTok9EYtZsgwFPeIVcZ14TSviAzP5E2yXHMya3AiaxCrjJrqocQRSU5Z9flb5YMA/E33emazGjXdYyQwHE+HOdwfLehjqOkeY8Eyt1eOMHR7j+U84YX2CIv9EoefHSeaTxi/31J9rol0+j7+OjeQ50i5hAk1UGytrxgVB7hgKA1a40oRWTVAT3R53c7D3Fk6xG5tKavoNBe4FabYdxmLNqfv4FBeZ9FUeKCzl/mswnSvSiePGIk7jERt3lB7hreVjxGKIpaQMR3wxtIhboym+OQPzfLQ0i6e/YMbGH56lMrDJ8iPHN1EglwjzBHxtZdd6GjoNsP6xQaWjk1puawQ56FtFTO2vCohGYQzU0qUVb+wpOWUi4wkZRVSlohXRQLkwAInkmN8ZvJmDupxeqMJlaEhr4O8Il82n4Z+VR8n3kEbVfztWM2G49ZYfJ0ITjsIHOUgpRr0CQsv68wpejZiyZSZTmvEKqelE4xTdE1ISWdEFX/tU50Jpvs1Kjol1jmtPKJnQmpBn1rYwyKMBctUVJ/rkyl6NqSq+8xlFaZGa/R0QloNsJFGpxrSNUXBwKc6c4NEt1saIoRRzlDQJZEMJbK6Te67jJ4zNK3juCnTtjVmzFCR8WmcZp7wxOJ2Wv2YZicmzzWlUkolTunbYDV7z+6gQwiUBXYGXd4+9BB741l+bvI6dC+gdLiKnIxwebZprj7XBnMs4MS9iMGt4GPt7fz28dez1E+Yb1bonywz8Xkh6NnVmihnxvIu7w3obnekOzL2Ts5yy/BJvnvblxhTHa4PT2XwGdMx/37fR3l21xg/OfO9jI7eyrYHFnEPPXH5B1no46KltNhOCzbyCSjiTu7rTndTXDkmnRzGBj5LN0DQEtJYsb8yx+srz3DSDHEsVzzV38GR3ggvtEc41qzTTUO67Qg3HzPyqGe4Hx37WyCQzDn0mnIf6ZBPJtDbbol2tdm7bZ7xHZ45NnSHtsQYFKFYXj15mNb2mIda19EbqVE7UqZ8vFfUF3GnXHkyg+7KIJ/jVoLz9cel0ydol0j7Ict5iWP5MA11EkWOloyv9Cb5Uus6PnP4JtTnvWtXvOSNcbpXqFNSy5CFRlpUo9QRLkh4sjbCg407WLwRrrv7MDcOTfN9I1+goVL2BSkT+jkW3/4JHmlO8qB9OROdnbj5hSuuxtoI1wZzdL7+smSKmbzGtDnxokse6NzBU8e2Y9sB4UJA4zA0/uyxs9b7KN91G80DVZaaEYfdKL084BWVXeyLZtkbNFf1K7GE3BHD/nCKaEeb9lSN+rMJF6/lPMtQKTJsZwbJjDfIhArJnGeM/dzXiiYmL/lSEip1BH2H7itU3+sKAY6k21gyZZ7pjDPVq3GiOcTCUgXTCdCLAeVpYdtDTcRYehNlbCAksymqlxVFtBy9HVX6wwFiFe2kxIlwiOnRIYaDNhXVR2NX29tTWiBLNA+O7KHXjoiWFPGCn2Li/KLReeqlxzWRSCJyCGjio0Bz59z6RVWuAehGfcNzGy3y5/7j69c93v+ljS3plx3O4ZxDZTkqM5gsYClLmMoaDKkeBsE4xf3tfdw3s4feczUO3NMhWOzC9LwvVpdmXrdcxE2vxmMXOsqoUqJarRL0Jjl4YDvdPOTNQw0IFhnVhqpovqv2KK8rPcsPjr8CM1JFd7rAgDluCLvcZOJLHdKnIt5/7F38Qu3FEkflGOx5PkOnBt3to5d75/RTVM8fpzFXY+hgheyehM72UX75wLvoHEj5pTd9iBvCWfYGAbEEq0ro4VqH6dEKeSVg/VwqlwFrrLwu8FXfXOZdegCvwysSZIhxBD2D7iuGn4I8UfzJ7Ov5o8rrsCGgHGFTEXQgWnTsmLXYQDBR4aBdlHNVma8e5wmjkCyDLCee7RJ0IqLlgKHDmn69wf/a8WZ6OzK+8zX3UtddlnOfn280bHq/ych4I1EMeVn70go9z2ydCDYJSEcibHiaQebrnHOzV4qkA5wHjMF1euiFDqUnx7lv+XruLe1HAkd4LCKZFuIlHwRwYLZH8Mxx6PcL95s15VlXsBpl41U2tg2SZjTuD4maYzQnd/Keu7+H8fElfv7mD3NT2CURxc6gy9Abpnl6dJTdnyoRf2J2U8q9XhPM0XW7RM+cIEpiSsdrPjb4DIRTS5gXjq5WODsfTykzNw9z8wBoYHhiO5WjO5hul3n0NbuLGhotQvTqi67HPU5WDSa+MpbWtYH5KxZdr09UOLE+RdSaSSLOhwgGzlBODWihPK1xWug3NHksxE1D2LLEs130sVncUJV0xxCqb7xOUGtv/V6pZCCAsUiWo1p9JDMESz7w0lRjqsdiFm4KOXLbMHmiSG1AIJaySr00GRiMLqonRoKY02nltJBV9CAT+BaDsw76faTTo3zSIVYDGnGw7ZGMyqMncK02ZnERWD+59Fmfn6W4LMUeOkJ87ASl6/fRH9nGdGsbx64fZm/QoaYUNRRv2/UEX4r3M//wbhIlm5Kf4tpgjsZgl5tIp4vq9nymnTOvabcvufSjXW4SHQoY1+P81h+/mV+ffCO/dvdvcVfcoiwRiQT84OTnuX94P5966A3rRGlfOlZ6L6nXL7pQeaalBFvy41bWgVKELZ8yTGVFqdTE+w5GC33EWHQ/IS95C7dKiy9vKQElBG2/BXJJDNo7lIsTv1WvBGRDXi6Wohax5BaVeyOQyizJrONLD96IHu7zDTc8yc54EeuEto15457nObqtwaFsN5WTRSXFou62SXxIo8odayrpOuBTIuKAX3XOfeAKkHaAc8FZv4bSlPKsQawm6PsCb6XjLdzSsk9UcakSnLO4LEfmFhl9qEa4HPJnd72CbDjgb5UOM6ICvqb6JOPhMr8ysgeJIkjTq14Z9JpgjqzN3nGRNYPPB7bTwXY6hO0Oe9M9LLyszON3TXJL+BiJtsQS8p3VJd5VuZePjb3hivUDCot0P0OSCAl8Jh6n1WohdSeC7nnmiCkiZyK/7dbNHtLqIrlFl9ds/i24OPRRN90MtOBiH87ndYyCLYeYSJGXfAH3oGvRaZEct2e8jjNzJEuG+hMBne0lghsNk9E8TVPCOOEbhh8j2Zbxz57+Xrz1ndVi8CtbaTFu7SK72zl3TETGgU+LyJPOuc+t0kLk3cC7ARLOHgo6wCXC+N1EtJAiJiRcztC9HDW9QN5snvv+84Fz4AxmYZHyw4JOd/Lo7A7G4yZ3xkfYrjV3Rk1uCJ/gl2vvLHKZap9J6Cri2mCOZ0KEYHIXbqgCU7OY2bnL+3ytsInGRL4srC72m5kzPJBank4nCC/TPDkTYixBs+9zIJaLSBMRVGaQrl2NoHFSJJoAlFhfjGsFhd4n3VamPxIQtK1PgWYs9P39Ng685JZbCLyF3GnxSSK6lrB9qgCWE5+WbG19apX6WGplhHYe0zQlxgJfYOm5/jizWZVwURM2M19aNjW+70GhJlCs5nN0zh0rfk+LyEeB1wCrzLGQJD8AMCQjAxP3FYRzDtGK7vaY3ogirmqCjqXSrqEWFnF5ftkkONEa4ggbKrSy6ELp7d2GHNlK5Gnhsna1X/w1yRxFa9J9Y7R3xjScg8vOHDV5SWMSIRRTuBkqMmf4TPPlfGH+APHClXlVkhn0fIt0cmTV6Vtyh27nSKePK8eYSuT1gkW0jFWF/k44lYAC6I2GtHYqSjNCMu9rTnsGpTCVEMksOvcTcsXyHc/7yoLkFrEWM5SQl0NUalD9vNCBgipp70FgYClLaJqE20uHaagef7l8M48s7CSeF+L5vn/WSnoyEZxSuNiHSIpIBVDOuWbx91uBn7kixB3gvCBBQHu7pjvhSGuKoCPECxWCEzH0uGT1lW+k0KdHITYUAmVPqxmVOkfPFU7nWm9K5vBzMkcR2Q38NrAdrxv6gHPul0RkBPg9YB9wCPhO59zClesqoDTB+ChuqMqJV5VoHjD0G9toTLyK+Ogi5unnLumlqVoNNTpCb/8oJ94YkE322BfNEBaWaovl0eZODp4YZ6x5yhWl5zo8xr2k9ABhF/sBuGgaOa/j02khuQU+o7Z0emALhlYkb1hF4SzuRMi3VUHVWN6r6Oyy2MiXQnBaUL3MS96twjk7UNhAIWf6ZWvPxMQ4dN9PWpME2FiT1TSdUc3CKyxqpM/O0hKJyrBO0bEhRzsNji/UiQt/SXFuTWJbh4vU2tjq7cBHxUvnAfAh59wnzud9nYnDH375usf3fucjF/O4i8LZfPLsZ3eve/w9Oz7Owoke//OnnqA5lyLAG75zJ1lj6eLn0MXCOpzxqhSVCZ0dDptY0nqZ8vW3+IxVR5pIrw9LLchSn3LMmHNblEV8xp8oQsolGN/Gwh0jtCYVdzVm2BPNocXRchn39HbyRG8n0RK4NPPPv8o4H8kxB37COfcVEakB94vIp4EfAD7rnHufiPwU8FPAv7hyXQUVhfRv3kV7R8T4O4/wawf+gJ95xd/msYOTjH9+nOHDR71v1UVm9VCjIyy9aoK52zT/6ts+zB3JUQ4EEEuEQsic5SvHJgkerVA+2V29TxBu4BUMyTC5y/gyn6WoqfpTXCiNCgOu7qSoPCCveh1g1M+x8wvesqwVxDGqUvYSY/FVVcuCiwOWb6rTG1Z0X9nh1Xtf4N7n9tI/kpAnmrAdEzRT9PQiLgrJx2re6JNb37T1+kyCIvrGWnTbkFcj8mpIb0TTmlS09uf8u6/7QyaCJabzGhafzKLtIg7OjZEeqVBbdkV9G7da2xqAKCCrBr5ujXPPAbdf1At7CUFp4f/4v65n9601eu2c//fb7kMHAhczhy4WzrvjkOdELUfaEepvmOZbdz/IbFZjMSvx6cdvoXHPMMm8o3a4hm72UcdO4tIM2yuKGJ3JIIsEuhIGPlN/o46ZGGb5hhoz39RncmyBbx+9l33BAhrHjNH8zxOv57FjOxg/arHtzunJd68SzskcnXMngBPF300ReQLYBbwL+Nrist8C/pIrzByBVaV+PeqyW/d51fALLO4pMXPTdqpvvA1lrE98sPJ+rCNY7kGWe8nLGOz2EUzlxV6KC5MJCzcr+vt73BhNMaENoOm7jHmbczwv0Z8vMTLj0K10VdKKpURc2K4DCSm7Gm2acDE0cnh/QOUlOhw+FVigkVrVK8yNRVbT18tq4linFC70NWFMItQqPQ6UZ3l2eJTZbkAnD1AmRvdi4knv9J1WCyNO6h3tbeSlxazqn7Nirc7Kiqwq9BvQ22mobG8zFizTUB2WVULPhpzM6yyaMq2lEvGiIuxYr2ukKN1gHGJtUVuGtdbqr3rUx2Pq4z5fQFIJ2H5dhaln23CV15mzDpfnxAs5eRzS6sVkNmBHtMj+eIZnJsd4vrWDYFnR3lElbFeonKyj+5ZopotKc2S57Y0nBZN0tQquHJPXYrJ6SFrTdEcVnR2O6yZmuGFohobyBtdH0glOZnUeObKT8NkSyWx/U3wc4QJ1jiKyD3glcA+wvWCcACfx26MrC6WwocKEUA97jOoS7xm5l384fA8fnLydj9xxJ8YKuTm13ez2QuTZEcKmUDtsCfqO418jVPe9ePuzf/gEPzT+ELvDOW6LMkKJmDd9Fq3ik+3beKK9g/rjAWP3LqGOz6zrS9l1bZosEhLDRdHIh9rZJMCUAnTfIB2DLUewexzV7vvJt6KDKRLHukBhSiEm0aQ1H/J3++gU39K4n6ru82BjkuXrExZ7JUQcRhzGKvJc0+lF5Ier6B6E7RAcdPYY1PCpOMJyuc9Ytc2O8jJ31Q8xoltsUz61VEX1yVzAXy3cyAvtYZJnEhoHLZUjXdRCEztcI91WQuUW1c1xWnkD0SYXetyqmDvW5dgTTcr1EK72OrMG2+5Quv95SsN1nrxrjMe37+Bvjz7Am0vHeceNT9G8XtN2AfOmygvZNv5y/iZeaA7zwmPjhEuKoedHiJs+W7xYWLwuoLPDwe4ur977DLvLC7yq8jwN1WFfuLgaEjxjSvzKkTfx3PQ2Jj4W0/jiC9jFJexWj60WkSrw+8B7nHPLsibdlHPOFT5q6913+dwwrLeY6gyaeUzL9imrkCE0tycvcHh8lKyocraChbTEQ/kkaSvEhgEqg9KeJe6aOPKix99YmeJVyWHqKiOWEn2XcbiIL/3E1K0cmh1heMail9rr1uHIXc7DfJGbuIPnefK0c+dNI13zUqLzcapYLwU7wZc2DTUShYVhRUOgvfU59CnNbKhWS2528siXONBeL1gL+pSDlEgbKtonAljOEhbjEke2xZi+Iq/4+8PRLmP1FsYJxipGy232VefZHi2zM1ygUmQO77mQY9kI09kQjy9sZ3ahRnkZgp5FZWbVcu6EVWf2QR7HjdFv5/zGjz/Kt/7UDXzqA4dPO3fV1pmzuE4X0ZpkaoIHTuziluoJ3lw6Tl1ptuuAzBl6wTy7g0WyYc2OZIw/2V2hV4+BiLAdrH78WnssanuPm3ZO8TXDB9kdzXFLOEsiUFaajjU8kg7zXDrOsyfHcMdKlKb72Ll571e5STgv5igiIZ4x/i/n3B8Uh6dEZIdz7oSI7ACm17v3crphOGOJT7YQW+Hx6Qk+Pb6DO+LjXBeUeEPS5Jbtn33RPZmD+d0RPRfQtCUMwu5gkRH1YneERISailD4vHVTJucXT7yDx6YnqH+wxoHH52H6GGa59SIFsXWWh/kiE+xhXHbxvHvyomhUL+90tlZCdTNUL/fhgyvMxDpcFGBGqt7vMfRWahMXKcAC75sYNf0W+bFjO/hg9HpurExzZ+UQJ7JhjugRhoIue+I5z9j6w2RVzW0jJzBOVrMY7UwWqesuL/RHmO1XuaEyzSvLh+i5kKYpkbmAiqQcy4f54Auv5eRCjeTeKtumLMlCRtDxseEE2uste8X2Wos39gxSlr0IJrP8xj99lLveuZ3b3zq2whyv+jrDOWy3i2Q5+/5gluyvK/zGD7+BN7zhaXYGTfYGPr1fLCGJZLyr+gT9yhO8o/EQbRtzJNtGx0arEuHOcIGxYJkx3WZCG0JkNeVg5gxHTMzPPPNOjk812PHxkNozy6gjJzG9/qZmBT8fa7UAvwE84Zz7L2tOfQz4fuB9xe8/uiI9XAvnLbZBK6I9W+azi7eQ1QNMfIRELBXlq52tFPbR+OzDe4KV2OgVaS857bEruekyZ2jadDXE+FBe54mZ7bSP15h8tol54un1u+Ucj3MfFWrslRvXnrpgGnn/Re11c9YCa0quioAqJDGtsJEqEuIWiWOtd9DWfX9Nvhzx7NIoQ0GfHeEiWZF81BQpM2yR0DYUw67SAqGYVeZY1x0SldGxEbnV1HTPb59NQNMm9FxIKDlH0xFOzg+RzyUks45kzqzWz15x1XBarzvOs9US/2qDc44P/esn2X6gwpt/YM/aU1d/nfkO+ZR8x6eIliqo43v5TPNWXlY6ThYfpaYMI8qzjxEVYbHU1DLGOW6OZsiKeaRwVJQlESEWRVn82ltJjjtlLE+nuzg+3SA4HlM51kEdncY2W5teLkHcOfbzInI38NfAI5xKTfDTeL3jh4E9wGG8i8H82Z41JCPutfL1l9RhlSRIEmNu3ktvNGH+loD2HkO8vcOtEycoBymNsEtV99kRLbE9XORt5ZNnrSczbdocyUMe6U/yqblbSYtt+cG5McofqVN7oU/46CHMwvoeFItulvv4S6qcyshiMHRpjXKhNKrsdK+79UewceCz8xTbUu93qdE9Q9A1mMS71EiOT36bGoIZn2HHDpWxScDCTRW6Y0Lr+pyRXYtY65lhoA2VKCOzilYvpl7q8Y/2/xUTwSLPptvp2IixoElNdTmeDTOb11A4tFjm8wpHOsO08piZToWZhRqNvyiRLFgfEphDtJiiuxn5UExeLvwhc39ed7JCPxpw35f/G82loxfEIi/HHFqLyS9tXJXy6Ota6x5XlcqG9xz+Pzc2vMcbuOOO//cvXN45dBlpJEHg/QxvuZ7OngoLNwW0XtZn9855fmz/nzMRLHFD0CIUweIduHtFDhNTfP1CHKFAVDDIvrPMGeHe3h7+27Nfx8yJOrv/WFE+3kU9fxy71DzvPI73uM+y7OavyGf2fKzVn2fjb/zlm6XnCdvrQa+HevAglShCpzcStCNarSqP2J3EcUYt6VMOMyYri+yI69wanSTTbXQxDFXoS61zGByH8oin0wnua+7nwRO7sFZwTshmSux8sok6fBJ7ltCphozyFr79tGP3uM/inJvjYmhURJJYrVCpQazDBapI4qBwPYPTggl9Al9xvlyrtDq4LPN5cdOIylRM0NPklYD5aAjEIcoh2tEMDNYqTF+T55q2jTFO0bchHRPTUz1CyVelzCVTopknzKdlTraHaPYjFuaryFxE9VhOtJCS1aPV7OViHDZUZBXvyK57yucLLPSo3ip/wZR5yeKyz6HLBJfnPov7489QeSYi6N6EDWKOmG08OL6XXfECUXKIRHLCQsnodyeyyhxXttehWDSOpk2YNjW+0t7HzAvDlI4FVA/OwLEpbKdz1WOoN8I1GSEDYFNf0L702HGSo1XMUEJaj7BhgkmGaIXCI+VJHiwJ/3vXGzGJw9ZzVGQIoxytLZ35MnpJo3tC0BbiBcf44XxVWgs6KerQCV/P4mo5oa5EoHRztAO13EX6KSodQtW9nsbGGqsFZQAHJi4iZHaNIrn1LkAi6J4hsY5tj2qy50If46zBhvisQspvb20U858OvQsbW1wtR4WWKM4JAkOWeeZpFiOieU+rsA0qhfEli+47gq4BJcQzHSS3uCjAJt7Snsw5H1cdCDZUPmwxM0TTbW+wGeCagEtTMIbSY8fZPTdM1kj48798A3ki/GpdMBGkdYcLHTZ2Pit9ZJHA4noayRS6owhagu5DtOwIW3DdkT5Bs32KMW6Cs/dGuGaZI9Z4f9Vjx+GYPxThtwGqXIYoRCplXBLTn6yTVTXtiZC8FJGXPIMYPeqonMzRPUvQydBzLcwzz58mzm/Kq1KC9H0pBGl3ce0OqhSjI42NNCZWIKwycRsITmkg8scKP0+VGlRqCBf7p6TPwEen5GXt8zrGnhnXXgAbKFqTMVnVkUWOVFOECArVGaF6zBL0LeFyjs4swWLP18mu+nBG1ewh/RQzMoSNi/DE1EIpwAS+HRcIkoFqdVZzUg5wDcB5/0e/3o4TKE0jDHwp1+EGrpzQ3T1EXlKkVYUNIasE2AjCliPoQjJvKE11Ua0eTM95x/FWC3eeKQavNq5d5rgBnDHYbg9JU5+rMAxI+ilxGFA+WvJuL4FPIhsuFtlrshzSDNfrb1q9ilMDcJ4xmiLFfClGotDnsHSg+gbdyz2Ti3w8tPcnc+he7sP0VpjOSr0Wa/3xLCdIM2y1DOOVVQbrxFu8URA1FU5BVlGYqHi2g6BrCTvW/y5CD9c60ov1jurOBqheikrzwoAEuuv1jDbUPmwQwGyOY+8AlwlF2jFLD8UiNAPK3T4u0D57vfLz0wWFaijzJRik1cGlKa7dwW3xOfCSY44rVjaXAb3CiXnudP31Sgj7VpRbxJ0qoIVzuDjybi9FHLVKc1QvR4UamwSrJVzFOlQ38+nLWCliVfwUk1CabczcAnp8FF2Lva6ylYIWTNVv2YPZFpLlmJEqphSuEstqn5Fcd3JUK8WFmnw4KfrkHX6dUj52tpdCbpBA47Ty2YCsRVXLpGMVb323dqBzvJZRpB1zfYNZ8fk9MwGMyMq327/qLcwI18NLjzm+FKDAhp4x2SgAtSbVV8Eobei3xuKKbDu58wxUOe9HCMX22hfpAh+brsslbDnx/pPO4YbWlLhdk+JeMoNSgo2DwrHc+To21j8fXRheXJGYwlpcKcSVQnCJT8K73PUhm3GErVVwofaM1DpcowazL3bxORckjtB79q97zjzz/AU/byOL9NmQ33njhud2/+wXLvh5L1lcY8zwTAyY4xaFLQW4UGFirxsEii2uT/VlIkVWVajcES2DwmJDjQRu1SCzqpMMvZO4v/+UG4pTChMpxDqfdzE/la9RMoNynuF6PaErsomz6nwupqgo2M/AQr4t8v3VPn1auZfjZuagnGDqCVjn054pRTZaxh2+cOY4wABXCwPmuAXhtC9KtVKsSHJvgHFFuYSV3I1SOH0HLV8tUKzfRgfdrNiShz4dWW5Pq+PidPEMB2EnL3JAFicDXUiqyjujG+u30kU+R6cUFDpbG3rGqqKgSLPm0BgomLELNapaxcZRkXZNsOJVAVarwa56gC2NAXPcYnBKcKFC9TKUcUg/QAcFs9GFJFkqtsm5I+jaVedvV4r9VmZu0RdK2jGOqyWoHH98xb8z8sl8dWYJ5nzqNZcEUFQGxOIZoPZW86CVIr0+0u3jKiXybdVCql3R3kY+/2TfQM9CKVxNhOHGGthS4I1gWnBFVIXvz1Ul7QADXBAGzHGrobA8I772yopBxBWMTWVeQvShg8q7x1QSXG79tVZQpQSiosQCXuIU5JSBxiqfFMDi9Ydwyr+yqO1itTemKJshaZEYN44gDFaZmiqMP075/I8u9W6/KvdSr8oKq3uuVrf4q8aj1K4eG2CArYgBc9xi8IYP440rUlTtk4IBaSFY6qMWW9h6BTdRwWmhva+KyhzxTA8xlrQx4g0muTuVFQc8s+oblMVbjJ3ztWpgdZstaR9ygyt7/WGwaJHlFq5eIxuvrDJRjCNo5zgl5GUNFHVlHKiu3+aTesYqpuy36cV2W/cN4UzbXzPAAFsUA+a4FbGSJHRl21nU21g9lxuvRyxSma0abJTX67liC6uMObVzXREQnTvNrWJFIl2pR7P6s+YeZ6zXQ+oVMdad+r0i/J3ZR+e8C8+KL5vjlO+UZeDnOMCWxzkTT1zWxkRmgDYwe9UavToY5cVj2uucG7vQB71EabQefeAiaFTQZ22iw42efbVwJdsfzKHTcdnW2fngqjJHABG5zzl311Vt9Arjco/ppUajKzmezabVZre/EbZqvy4FV3tMV7/e4QADDDDANYABcxxggAEGWAebwRw/sAltXmlc7jG91Gh0Jcez2bTa7PY3wlbt16Xgqo7pquscBxhggAGuBQy21QMMMMAA6+CqMUcR+UYReUpEnhGRn7pa7V5OiMhuEfkLEXlcRB4TkX9aHH+viBwTkQeLn3dc5PMHNDr/djadViJySEQeKcZz32b0YT1sBdpcCq7WHDonnHNX/AfQwLPAAXzC7oeAW65G25d5HDuAO4u/a8BB4BbgvcA/H9DoytJoq9EKOASMbjbNtyJttvocOp+fS5IcL+AL9RrgGefcc865FPhd4F2X0vZmwDl3wjn3leLvJvAEsOts9wxodG4aXQReErS6EHw1zaOrNIfOiYtmjiKigfcDb8dz9e8RkVs2uHwXcGTN/0fZhMFeTojIPuCV+BK1AD8mIg+LyG+KyHBxzYBG56DRRWKr0MoBnxKR+0Xk3Veqka/meXQF59A5cSmS4zX/hbpYiEgV+H3gPc65ZeB/ANcBdwAngJ8vLh3Q6Nw0upZ1ZHc75+7EM60fFZGvuULtfFXOowuZQ1ek/WJff+E3inw78I3OuR8u/v8+4LXOuR9b59rXA+8Nid6asHFB9JcSerTJSL+DC6SRjstvjasjV7m3m4N+ax7T7wR4ndI34KWce4Hvcc49vt49kcRuozl04ys66x5/bGrj0Ntwqn1hnQbcUHnDc7K8fh8AqJTWP97urnu4R5vU9eVC11pI9IWvpnWWuv4VyQx6xbPyFNuNdwMv1wS8VjatPvlVxT3us2Sk53XtaTQKYm755n92Rfu2VfD4x3+BTr+zKhUBiMiKVLQuc0yobDiHPvnJB9c9/or//I837MOO/3LhNV/SN756w3PRJ+7d+MZXvGL94196eN3D97jPnnef1swhvtrW2ZXCpWyrjwG71/w/yWoF6VNwzn3A+WDx/yMkPvP0Sx0XTKMg+er44q/BS0pHdoVwznm0Moecc3d9Fa6zK4JLYY73AjeIyH4RiYDvBj620cXOuT+9hLauVQxodBkgIu8WkftE5L6M/mZ3ZzNwQfNogMuDi95WO+dyEfkx4JN436rfdM49dtl69hLAgEbnhfOSiijiaodk5Ksu3nUwjzYHl6RzLCSdgbRzFgxodE6sSkV4pvjdwPdubpe2Hgbz6OpjUCZhgE3F5ZSK3v6O9Xlq6wfNxXdwHZzV6HIWTN9ZXff4OBsYah6+cGPRAJcPA+Y4wKZjIBUNsBUxyMozwAADDLAOBsxxgAEGGGAdDLbVAwwwwCnIGcEmFxlB91LA1mKOSqOiEMIQSZLVwxJoXKOGiwLyRoIJL1zgFQeqbxDjCKeWcM02ZCkuy3FphsvOL5pls+GE1XrSOHAKXHD6/+mQ4ALQPVAZq7WlVe5Q+ZrnKDCRf5hYhxPBRv75Ycuh+6eeyxUJ0Bpg0yCCqlZR24ZxUYitJWBBNTtIbqCf4qxFVuqRF2m8JAwhCn0N80Cv1it3IrhYA6C6GWQ5LCzhWm1cnuOMueYY7ZZijrpaQYbr2HqF3ngFp/2KzKqauVs1acOy69Yp9g3NrX+/bEz8vgl4an6MZjuh8tc7GX46JVroo5a7yPwSZmbmiozpcmOVGToQCyaCtC4gIMb/n7+8xchQh6mjw+ilADH+4xA2hbB56jkmgd6oA3HovuCUI9uWQ2ipPBlTPulYJelWYZDVEu6OO9Y9Zf/mwXWPv+w/7tzwcb03v2rDc/FUa93j5rGnNrznbBj/7+tbn+3dd6x/wxWitwQBEgRwYJKpVzfojwit/TmSCfWDdcKWI1k0qL7DRoLTghiHGOjXFf2GwsSQV4r5qB02hGzYewUkJwLCFox/pUF8aA63uIxtNnHWgb28ngNXEluKOcroCN3rR+nXNe0JvTo58jL09qaU6j1eP/48LysdP+9nKiwAPRfRiLqc7NZ4+MB1OB0RL4TEyyUqhyNkeRmMweX5lRjaZcWK1GdDsKGsMsx8yE9Sl2uWOwmqlGO0Qzoa3VWYxIETxILKwcRg6jloh0kVCOhqhuDPhx1LVlHkif9fZb79s3yDBrgGoLePk+8epbm3zPIByOuGkclF0jygmQ4RdITucoDK/BxDAdZ/jLMqZEMWGztc2YByiHKo0DJW90k8ZqI6/bYmaMdUh7YTzw0TLnSRxSZmavqaYZJbijlOv2kH8XdNcWNjhrePPEwknoCh5IzpJokYxlROeKZeBNDn+MwaHO+oHCRzcGSyyryp8sXW9Ty1vJ2n/vw6DizvwDXbW16CFOclxKwq9IvkPSqHrOrY86pjKHGc/ORuSlMJ7ptbfPOtD/Kxp1+Oe65Cus2iGilmOaR0PKA/anjtrc8yEnUwTkhtwJML4yw0y1ROWOoPz3Hy68ZYvM0ST2sqJ7z0IFv/+zHARhBh6h17Gf/ew9xVm+FNQ09RU13GdYsUxczLa/RsRM+FGCdocWgsSiwaRyg5iWREYgglR+NWzyXFel18WUzPhTz99RNMZXU+feJmnp1q0PjiCDv+0OA6XUyzueW32VuKOaZ14Zt3PMkry4f4pnILLWt1i2HxA8bZF917+rVnx/4QoMXO4F4eSXbz0I69ZBN1Aq1gdnZLvzSrT33NxQLiJUmnHfWoixLHdOqlPmuFUAxBYOhHDlfOqQ+1WchqrLz6ks4oqRRTOC6EyqK1JU8EW0swseACh40deUlQ6Sm95QDXFiSMkCikOyp854772BfO8sq4jUZQKMCRhQsAZMUaWxE6lAgawRQKbI0QSqFjXHV60cVvh6XHLeFTdByEYvh8fB3PP78Pt63ht/StNritLT1uMeYI39O4lxEFWq58dppbQsNu/QwP3fUAfxzdTv2BCSY+cAzX37rJDfrDQne7I5mFsYdy0opi+YBC5cIDz+xFAou7Oad5vaCOlPnI82+EPV2uu+Mo9bjLeNzis70biRZjVKr5ywdfBsqh2hqnoLJnmeFKl+C72/S+G5afKVM5FNBvOJZuTwlnQupPgdra83qAdaAO7KE/WaezP+PN5ecoi6DRGByLNsUCiQjGOToOUqfIUFgnGPxPx8Ys24SG7rBLtwiF01ijFiEWhUYoK03iHN889BB3lg/xc6/7Jg6ZCRoHh6n/0Ry2b7e0ILKlmKNT0FAQiqLvsnWvMWcQM8OQOYtd5xz4l6XwX7qqile/dgBVlVBV8IbaMxzcN87zx/cgWrN1X5eXGk3F4OYDoqUcJ6E3zhhQywEudKh6ilKO4GCZZAaWdir2VBco6ZSSzhBx6L5DrBDNenqETcFpyHdqKmHKG0afY388zf89/U50L8BpKNV79FoBW8MyM8CFwlZjeiMBQbXPdh1jnKPvctrOMmUiDEKExSDMmQoZmswFpM7/zpymaUosmRLDQZtONH3a1jqRjAjLdp2RiCIURSianTpjTM3xim3H+bPJbcTzIXWtQdSWlh63FHMcfcTw2s/8OCOjTd42+SThBuKJcae20J+fvo6jsw3sTEJpSnEmZ7Mx9HZmRPU+P/vKP+LNpePUVXIak7yWEC0DRwKcguN3J6tWa90TbAAuE4LZEiqFqAkqc0TPJ3ymfSuSCSoVokWF7jtU5ihNF648OZgSRFFGPe7yoSfvIl2KUaWc3utb2G5Id7pMvCQDg8w1ChsHZBWFc8ITqeWkGeKh7h4ea+3gb569DtsOCOcDP0eWThngED+PVO7nicrBFeodp8AGgomhO+HI6zl/57Vf4utqj7MvWKKu/HZcizAStgmHUvKSV4+xjnpsK2FLMcfKCx0a99ZY3hPx+eg6Qn32r4p1wgsHt1N9XjN0yDD06PSLxHQ7VGLuFTU6EyFP3LyL1yXHKDtzzTJH3XPEFnrbhO6eDOkpSsc1knvpUQwksxB0TtEhngfdCwg6ELZd4e/ovADYxOstlbd8B9qS6IzsZJnaYUXrDsOrJo/wwPFJ8pNVdFd40RfoaqLVRTZw2dkI+bGNvRvcrRu7+Tz1L9cvh3D93924rYMf2DhL+I3vXj9hxeF3rF8+IX3uMgawieC08gzNwqF8G8/1x7lnYR9PzYxTeqREvOgYOpQRtnKCqSWk2z/lx9jrQ7+PO8OjQ4IAKSVIrUrz9u20twc8eNMkNyYn2KY61FSOxussyyolinOvM78GsKWYY3Bkhu3WMfxMQvvxCXpnzo111uSe2Zxovkcw34bZebCnX6RsA7E17/6yAZZticVeCd0XsFv7a6YMkEK8CGJClIGgcMcLun6QQc+dphMMug6VCSr31uYVn0Un3q3HRtAdFfKyo7VY4YFsEjXap1VXlCp9nlvaRq8VEeWFEWggOV57cI7o0AyjrTrJfJV/8/DfQ6Xe2b/edlSPdFC9DD3fgizHtVrYLAdVLEJjcFkOznpXHECU+KmU5zit6IxquuPCSNymolJi8Wa+nrNkDj49dTPyhTojz+TXhMvclmKO+YmTcOIkIdC4wHs3kjF1EJzTgbljI9r96JpwUREL2oLOnN9inweCHpzJ0ZwqttMrUTUNhylZ3HJIqx0wNrnIZG2RI8vDzC+XoatRuSBbV0U0wDmQHzkKR45SeVBOld9as9NywIUsAWf9snLGR9L0G0LasDTCLolKicQSiqZpDU0XcGR6hH339YimW5gs39LGGNhizPFyQIIAVS4jIw06N3sxf+4tPXaNL/L6ytPUlX7Rlvpzczfg7mkwctDgzNaWHC8HnPIuQYjXHWUVIW9kSMkggIhjYanCYrNE1oqQjiZaVgStFUY7wDWNS2FKIiAKPVRFRobJJurM3l6mt01Qdy5xfWORu4cOsjtYpCxgneORdJwHOvtw0zHh4jKyQbXFrYaXHnOMY2SkQe+6MY58fYCa7PA7r/t1Xhmpgim+WL/z8NFd3PjHc8hikzxf30r+UoIromtcoUjPqpCM9KiVe2S5JjOazokqwbIi6Qo6Bd31+sqVUMQBvgohgmgNWiPDDTo3jLJwU8Seb3uO24aO852Ne9muM2oqQKGwBGTO8uX2dXzq2M2UjyvU7BKu3dnyxhi4BpmjKpe9EnjbMK50qspab3KI5mRYLHaht80xeusM1zdmGVN9Qlk/CzNArdKjs2+IcLlMWC0j7S758ZPXRIjTuijUCCb0kuGqwSUQzxQ13rKtwUaOvASlwOCc0GyVMKlCN1LcsKPXCpGuJloSUILKQHedD0G8RskzwHlCxK+3JMbu20Fve5l+Xfvt85DQG7O4iS5vHHmW6+MpRnVGWWkUCi1C31p6zmILhX865OjdOEG41CM4FuH6KWZpecuus2uLOSqNGm7gKiWWXj5KZ+yUxWbp7h7/6TUfpqHbNFSXsuTsDIQQTSwbF2EHuGHbDI++coSwHRLPJ5Snc0rzC9jOWQq0b3U4MIlgkiIGW0NedeRDFieFpVqAwCKhJQpyjBXcVEzUFfa//gW+afujPNjczaHWCIentmGOJAQdIZkXJHdIdyBFvmRRSIlqbBu2UeXIW+u4Vy3z+slD/IPxv6KmUkaUIRFFWYUoFAq/ziwOi6XtLE2ryJxGK0s6kXPi9THlqYiRJCRY7KK6XWzKlmSQ1wRzlDBCbx/DlROaL9tGv65ZPiD0t50i6M27prglOkkilpoSQlHU1fouEmfi1toJ7rtxL91OgG5qulMhu6b3o5c6sLgMaYbt9nzapS34EqEIISy+FSvhfXnZb5lt7LCBwyYOl5xKFiDKobTDWmH+WMMnF4gcaWLp5SFPdHbw5RN7aB+vIZkg4p/Vbwi6L6jMrYYwAtfkljv81H0bnrv+Uxf+vI3cdc6G/T/9xXWPT7v2hXfgckAEXR9CkoTWbRO0d2g6BzJePXGCO4cOcyDsEYuiWggdK6G7xlksjr7LyAoLtUXYES1xXX0O54TpsE5/NCQdKhMtlxjaUSVsZehnT+DabWyvv2XW2DXBHFW9xsLdu2nvUMRvmeF12w/xlvpj3BydShLRUDCsElSxUi8k1vo92+7n773py/ScYsnGfGTh1Xx8+LUkM3VGHxkhXOyhj81i2x1ct7s13RAE8pJPXRY1HTjojTnMRJ+knFJJUnKjyIwm1IYkytDiiIOcIzPD7PoE6K7lyPfn3LH7KI+d3MHhQ2Ps+HPN7r94juYb93PytUJWt+R7U+xyiO4HqMxhg8KFqFO4ELlrj0kOUEAEiSLcvl30xssc+56M7771i9xdPcjt0RxlpalK6UXryzhLjiFzhimT03MaU7CXt1Uf4+3VR7E7BW6BntPMmQqP93fxey+8iuePD3PgQ3uIjyyijp7YMju2a4I5ojVpRUhrcPvIFHcPHeSOeJpd+tR2+UKY4ZmoqxJ1BZkz9F3Goerz/OHe22lWY1QWEy1H1IttgBw7iVlcuhyjuuxQxuEUZBVwWrCB9QlwnWAdBNoSBgZVcC4HZEZjrSoiIBzO+Ow8xgjYwt1HxOsrY4eLLeVySjvVmMj7Sq4k2zVGcMahUgYuP9cwRGtMKSSraIbry7ym8iw3hHOM6hIKOU1SzDF0bEbPWaZMSNtFzJhRejakoTskklFTPWoqoyGWmgoASxYsMaR6PDc2xv3iWLhxO5WhUapRSLDUws7NbzqTvCaYowQBaUNIRyx3N57hG0onKKv43DdeIELRKIS3V45z4I0foGNjpk2No+k23v/Am9DHRtj/hzF86eHL3valQuWOsO0wsTD9apCRHm4pQs1E9JOQXpRQG29x29hJZnpVjsw1MLnGpBraAcu7FSoDOQmPdHcTVDPKY21mbx+i1zhAay+EO1uU4ozRapuT4uiPhKhMcNqtJtsVIyQzELUGouM1CVF+vY1EdMYU++vz3BpNM6LU6q5sZfvccSmzxnBvbzeH01E+duzlNHsxxnjmeev2k+yvzLE9XGYkaHFDdJJbwh5hoae8KezzI6OfY26kxH0/eoBnuuN84p7bKR0bYfen6vCVxzfVF/KaYI5IETccOhq6zbB+sYGlY1NaLsM4Rwa0rWLGlrGFIs4gnJlSoqz6JGKoSE5ZWFUulyXiVZHgXWIXOJEc4zOTN3NQj9MbTagMDXkd5FYqreC8Y7hTgostpXJKpxUiRqH6PgFuvx+SO0U/D8hzjS0Yo+oobCggjqALiMZEllxbbORI6wobWmyuyUOzan10ulC+xw4n3kFdDNhIsLr4f8Ajr0nYwCciWdllGBw5hp7L6VjDvNUcyoc5lo1w7/J+jnXqHD86gnT1qrfE4zLBTK3KcNyhHvU4Wh5hrvQCFdVnTLdJxFFXlrpqsav2MEdKQ3xpz14WdJ3+WJlSo4HtdDYtS9a1wRwLOHEvYnAr+Fh7O799/PUs9RPmmxX6J8tMfF4IetYbDThlsFjB8t6A7nZHuiNj7+Qstwyf5Lu3fYkx1eH68FQGnzEd8+/3fZRnd43xkzPfy+jorWx7YBH30BNXcrgXBHE+OYAWR7io6agyaEfeyImmA5J5ob9c4d7567wBRTlUS1M9olCpDzHEQfk4Pgb3aIzTsU80YCCZE4IHEto7yzx3UxlyRWi9K1C8r0kSZXT7EXmm6boyNhLCZUe4NdRHA5wvnMUZQ9A2hC3N03NjfGLkZeyLZtill/h0+zY+O30zTz27k/HPBYRdS9g0qMxxU7MPufU5zEQwSYgLt7GoR1nQwrPJy/jTRNGeUDRvNJR3tPi3t32cfeEsB4KUetTkfbf8Ac9dP87/238nIztvZvQrS7gHH98UUlwbzNEVzseZYiavMW1OvOiSBzp38NSx7T6zyEJA4zA0/uwxzPLGMXblu26jeaDKUjPisBullwe8orKLfdEse4Pmqn4llpA7YtgfThHtaNOeqlF/NtmSdW3FOXRPyHsKF1vQPq46bDmsFpxobASmbNF9z8D0Gr931YG1oYYm9K5A8ZKlfDLF6YTOzmA1TRoRDJV7DCddFoISvTRkOSmRJ0LQOb8kFSJyCJ8CwwC5c+6uy0mTqwk9NLThuY3m4qGfe/26x9P3f+my9OlioDNL0HfMtROeaO+kYyMWwwr3Lu7j6ePjVJ8OGf2Lwz4Gu909PeZaa1CCPiPPgUQhEkXUbtqN2CrNfo0nrtuFxnFDcJKqinlTqcPLo6f45d1fS2uxTv35hM1KEXNNMEe73GTiSx3SpyLef+xd/ELtxQuucgz2PJ+hU4Pu9tHLvXMqdNXzx2nM1Rg6WCG7J6GzfZRfPvAuOgdSfulNH+KGcJa9QUAswaoSerjWYXq0Ql4JiK7IaC8OVgtpVeM0hMsgmQbxdXiCtvdzDDoQ9KRwCNeozBtxzgZlVgp5Cd3xCBtAPKsQB7oPWSq0ejFaHMudhCzT2MSSNiDoqPOO/wa+zjk3e4lkGOAywKUZ4bFFastl8j8b4nP3vQrd9zuTeMmxdy4jnl3Ezi/46p1nRJW53Ba5Gk+PgnHGIKl329nR2sa2xyv8/tGv5bcnLb/wzt/mTaU5EgmoqYAfuumLfGn7fp49fiOjf6X9s66y/vGaYI6u2yV65gRRElM6XsNGL+52OLWEeeHoagnI8zGWmrl5mJsHfBbj4YntVI7uYLpd5tHX7Kai+uwMWoTo1Rddj3ucrBpMvMUSvgq+pIEUJVnPyKDjlKAzb0mG89cFykpyAS1kFc9Yw7Z/rk69G0+Wafqh12OaXENgsSVwwVaUrQc4K5zza2hhCd3tM/KQwZYjgull3PwCrtfH9nqcM/hvvSS2zuCs8XWaZmaIj9bZOT/J4q01nnvbOK+Op0l0QCwhb68+yu2lw/z4tpt8AmqzwTOvIK4N5mgMdrmJdLqobs9n2jnzmnb7kmvj2uUm0aGAcT3Ob/3xm/n1yTfya3f/FnfFLcoSkUjAD05+nvuH9/Oph96wTpT25sNLdA7W1KsGVpPiXqqBRIz3Z3S6YMYK+vMl8izgTdc9zWRpgQ899mrc8eRUstRzwwGfEhEH/Kpz7gOX1ssBLhnG4Pp91FIb6fRxy01stwfm8jEo2+2hpxcob0v4s5O3oXG8q/YYu3SZCQ2RLJ2qyb4JuCaYI86d2iKfRYd4qbCdDrbTIWx32JvuYeFlZR6/a5JbwsdItCWWkO+sLvGuyr18bOwNV6wflwp9BXNnKON/TOSjbxAIFjU58M5tD/J1pRk+Wn4F/W7pQlLA3e2cOyYi48CnReRJ59znVk6KyLuBdwMknD0UdIDLAGdxWe53DMstUIJrd3Bpelm3ti5NMbNzxDN1npka5W+S63hT5Sn2BIohlRBLjg3YtCQV1wZzPBMiBJO7cEMVmJrFzM5d3udrhU28k3MoObooBZs5wwOp5el0grB5eZu8ErCBt9CLufxJIlQO8aL3qzSx4NqK97/wdfxZbZZQG9r7e2RpiWTh3M9yzh0rfk+LyEeB1wCfW3P+A8AHAIZkZOAcdKUhCgkDCAKvO1QCKzVfuIy6P1HeeAPkrZCjzQZNG2Gcpe9yOi7zOx1RbJyx9crhmlQKidak+8ZYvG0Yxrdd/ga0Ji9pTOJLmyp8+cnMGT7TvI3fOfEa4oWtv0ZtWGx9r4C5T2WO0pwlmbMEXQibikP3T/LpL95OFBi+5vpn6I+c+4svIhURqa38DbwVePTy93iAC0IQ+PR/UeizYIWBZ2SXEIl2JkSJL9PqHHopYGapStOWyDEFc/TuZajN0e+fU3IUkd3AbwPb8V39gHPul0RkBPg9YB9wCPhO59x5yAmXAKUJxkdxQ1VOvKpE84Ch39hGY+JVxEcXMU8/d0lfNVWroUZH6O0f5cQbA7LJHvuiGcJiQlgsjzZ3cvDEOGPNUwu/5zo8xr2k9ABhF/sB2BQaccqfM2w5xDryRMjKXtrTl8Fv3QmYktAdU9igkFDF+zy6yDK3VOHBdBdB+7wm9Xbgo+Kl8wD4kHPuExfTr5mP3bTu8bG//dTFPO6icDbXsYO/8pp1j3/rq++hebLDJ//tPXTm+iDw8m89wHK9vWlzCGO93nGoiktCGB5CWYt0+7hWkY/RWL8F7/VxzvnrrXvxNrhYP6I1opXPBxlFSLmEHWvQ3VXBNHKGKz0WTZnnsgU+uvxKHm3upHzSP3czttbns63OgZ9wzn2l+MLfLyKfBn4A+Kxz7n0i8lPATwH/4sp1FVQU0r95F+0dEePvPMKvHfgDfuYVf5vHDk4y/vlxhg8f9XUuLjKrhxodYelVE8zdpvlX3/Zh7kiOciCAWCIUQuYsXzk2SfBohfLJU9mMBeEGXsGQDJO7jC/zWQqh/Ke4yjRy4pkVQPW4r6+z8LIanR1C2PIW5kt9PgL9htB+RQ8chEdjHxlTMkhiMCfKdDoVkplz+zk6554Dbr+kTr0EoLTwNf/sDsZfNkzazvjQ3/k0KticOYSzXr+ohHy0Sn9bTFZR5LFQmjOUprqQW8QYpJ+jllu43OA6HcS51VozK5AgOMUQ4whKCXaoTNZIWLwuoTsubN81zfWNWU7mdRZNmV/7wpsYeiJg4qHWpiV6OSdzdM6dAE4UfzdF5AlgF/Au4GuLy34L+Euu9EujSKgQCvWoy27d51XDL7C4p8TMTdupvvE2lLFg3CmrrHUEyz3IcqTjrW12+wim8mIvxYXJhIWbFf39PW6MppjQBtD0Xca8zTmel+jPlxiZcehWurrsYykRF7brQELKrkabJmwSjXzxLMiqGifJqq+jE+gNizeqrDDJItVZXvJSXth2q1ExYiEvQZ4IKvfx2058BnEbgctPlcIVKwQLAU4HhG1BpadSpw1wblTGSlTG/ByKKiEj+4eYf24ZNmsOGQNZju5khLGmPxSR1oWsEtDecSpxtMog7IwiZqUWukP3LMpYJPOJT0w5wCQKEymvow7Fz6uK0Jlw5LWcEW1YTEv84bE7aKcRlecDakcNeqGzCdpGjwsyyIjIPuCVwD3A9oJxApzEb4+uLJTChgoTQj3sMapLvGfkXv7h8D18cPJ2PnLHnRgr5OaUkq3bC5FnRwibQu2w9/o//jVCdd+LM+vsHz7BD40/xO5wjtuijFAi5k2fRav4ZPs2nmjvoP54wNi9S6jjM+u+tK5r02SRkBg2g0asSI/C0j6NCzSlKUfj2ZzFGwKWb85QbU0y67c6ToNJHNnuHiKO6OkS0VJRwjWDzoTQ25Gjmz4buAsgT3yiCT0XrsZTSwajBx1h29JraPLS5dnCfzVi6XibmacWiYci2Iw55By234c0Qx8+QTxTYnnPXlq7HcHeFm/a9wxV3Wc47JA5zULmcxh0TUjfBjyzOEq7H9HtxNhMsX37ItfV5xiJ2kxEy2ixxCojFENF9ZnPq/zZ1K08N7uNyp/WGDqUMv78MezsvM/vuEk4b+YoIlXg94H3OOeWCx0RAM45V/iorXff5XPDsBaVWXQGzTymZfuUVcgQmtuTFzg8PkrmFLk9xRwX0hIP5ZOkrRAbBqgMSnuWuGviyIsef2Nlilclh6mrjFhK9F3G4bzEsXyYT0zdyqHZEYZnLHqpvW4wfO5yHuaL3MQdPM+Tp507XxpFleFLIpF/oP9loyILeORrUtsQCB0udNiwcBIvfkQcoh15xWcNsKGvHWNi32WVQ9D1Ljyq0DPaxCJG0D3lyybkXiL1dbFlUML1IpB2Mv7kn3+BN/3EHXz5N0+P3b9q68w3BhTbayBqW8KWJs81jbDL9nCZm5LjGKfo2BiDz/jdsyGNsMtiVmK2V6GTRbxi5DgvqxxnLFhmXDdRYtFYDIqeDWnbmKPzDfrTZcZP5sTHlnALi9hWa+tn5RGREM8Y/5dz7g+Kw1MissM5d0JEdgDT6917Od0wnLHEJ1uIrfD49ASfHt/BHfFxrgtKvCFpcsv2z77onszB/O6Ingto2hIGYXewyMg6e75EhJqKUPi8dVMm5xdPvIPHpieof7DGgcfnYfoYZrnlHc7XwDrLw3yRCfYwLrt43j15UTSqjO6+9NlQPMEGkJecl/5GNGndQeolxrzi0F2hNOW3ye04wVQsyXVNSnFKpxfTzTR2Niae1lQPw8iTHdJGSGsioLNT2H7HDN0soHvPKGELspJgA40ras0MMvJcGExm+fg//wI3v2MP13/95ApzvOrrbM1DsZ0O0u9Tv/8klReGON6p8edDN3Lb6AnuLB2ipn2uxnDNl/B1pedIC2ZpUFQkJRFDIoaVwDILzJiIx9NdfHb2Zob+uMrQcz4Szi4uYdNs00u3no+1WoDfAJ5wzv2XNac+Bnw/8L7i9x9dkR6uhbNIp0fQimjPlvns4i1k9QATHyERS0UJCtAISsT/RrEnWImNXpH2ktMeu5KfLnOGpk1XQ6MO5XWemNlO+3iNyWebmCeeXr9bzvE491Ghxl65ce2pq08jPFMS5xAriC1KKOgic09P+ZlZZOtWxmHllJQn4tDKobXFOUh14StpQfUyVBb4WtcCpTDDOKFnCn1kUcRrpQ8DnD+cc3zmZ+5lZP8Qd/7d06zumzKH1nQMl+e4xWUCaynNVJmZqfGkNjw2tIuJYImXxyfQ4oULAC0ZxkGGYJzQd5q2C8icoid2NRP48XyYe5YPcHB2nO3HUqKj89jlpt/Sb4Ga1uLO0QkRuRv4a+ARWOUbP43XO34Y2AMcxrsYzJ/tWUMy4l4rX39JHVZJgiQx5ua99EYT5m8JaO8xxNs73DpxgnKQ0gi7VHWfHdES28NF3lY+edZ6MtOmzZE85JH+JJ+au5W02JYfnBuj/JE6tRf6hI8ewiys70Gx6Ga5j7+kSn31mMHQpTXKBdKoMrrb3fLN/+xCyXIanFpxrfEJKXTf+S1y5Itu2RBMUoQCdiGtgXvVMmFgSB8YJp4/lcl76VbD6L555p/cxugD0BtRNPdZXOygkuO6msajAWHbXXB5hMc//gu0Z49ckBPb5ZhDa/HCR16+4bk93/HIusf1DQc2vOfIuyY2PJfMr0+ckd/84mWdQ5ebRuAtzhIEqO1j5DuG6ewosXCjprPb8L13f4H98Uzh9maYN1V6NuRwOsp8XuHp5hgn2kNocQTKcnS2QfBMiWhRaDybEy3lRI8dwTUvnDHe4z7Lspu/Io6Q52Ot/jyrWqwX4fK+gfOA7fWg10M9eJBKFKHTGwnaEa1WlUfsTuI4o5b0KYcZk5VFdsR1bo1Okuk2uhiGKr5w1jkMjkN5xNPpBPc19/PgiV1YKzgnZDMldj7ZRB0+iW1uHBLTkFHewrefduwe91mcc3NsAo1WkkVIHzTeihj0HSYVbN/7Pa68Uqe8VFkt9X1kywLUjhacUWDpZbBnaIGZWoO0FpDWwNaMZ4TNgKDtSyyIYeNZMsA5sdXm0JlweY7Lc+wLR5FjJxjavQvdH2ehH/Lwy3fRqsZ0bEwoOfN5lY6NeK49ymJa4tDcCN2FEigHyhEdj9j2iKU0mxE9chjX6WK63S0hLa7FtRk+CNg0Q/Kc0mPHSY5WMUMJaT3ChgkmGaIVCo+UJ3mwJPzvXW/EJA5bz1GRIYxytLZ05svoJY3uCUFbiBcc44dzpMhDF3RS1KET2Fb7RTrGawFrt9R54jP2OBHEgO65VWYWtoT5x0dBOSoKuqNqtZphtAD3P3qAZMoX04oXQKchuMLdx/homQFj/CpBkbXHTs9SyQ2lo1Xmj+xlJt7H3ySyGq66knxZGRhrW4LOqfUTNFsEM8vQ62OWmpecMOZK4ZpljliDs5AfOw7H/KEIL/6rchmiEKmUcUlMf7JOVtW0J0LyUkRe8lbc0aOOyskc3bMEnQw918I88/xpL+raY4mnQ5xPV7Y2C7qfuKz6OOq+ozQlPkxLICsXIYcCugulYwFh2zPbsOOIWps1mgG2BJzDttvYdhuOCtXHfVihJDFrvVhWwv5cmvm8jyuRLs5xLbjAXrvMcQM4Y7DdHpKmkGYQBiT9lDgMKB8t4UKNDRQuUISLPaTVRbIc0gzX2xqK4CuOQupbqfviDITuVJEsYFUS1FpAeRedtfkhBxgAOJX/URz0+qdPj5WYaGNO7byuofX1kmOOOIfLUlwG9Hr+2Nzp+usVIWpzEiFtPsThdYZrjm2c5uzamcwDbBKcW01k+1LCS485DvDSRq2MuevOdU/pv/zKBT9uI4v02WCefm7Dczv/88bnBri2cE2mLBtggAEGuNIYMMcBBhhggHUwYI4DDDDAAOtgwBwHGGCAAdbBgDkOMMAAA6yDAXMcYIABBlgH50w8cVkbE5kB2sDsVWv06mCUF49pr3Nu7EIf9BKl0Xr0gYugUUGfw+fx7KuFK9n+YA6djsu2zs4HV5U5AojIfc65u65qo1cYl3tMLzUaXcnxbDatNrv9jbBV+3UpuNpjGmyrBxhggAHWwYA5DjDAAAOsg81gjh/YhDavNC73mF5qNLqS49lsWm12+xthq/brUnBVx3TVdY4DDDDAANcCBtvqAQYYYIB1cNWYo4h8o4g8JSLPiMhPXa12LydEZLeI/IWIPC4ij4nIPy2Ov1dEjonIg8XPOy7y+QManX87m04rETkkIo8U47lvM/qwHrYCbS4FV2sOnRPOuSv+A2jgWeAAPmH3Q8AtV6PtyzyOHcCdxd814CBwC/Be4J8PaHRlabTVaAUcAkY3m+ZbkTZbfQ6dz88lSY4X8IV6DfCMc+4551wK/C7wrktpezPgnDvhnPtK8XcTeALYdbZ7BjQ6N40uAi8JWl0Ivprm0VWaQ+fERTNHEdHA+4G347n694jILRtcvgs4sub/o2zCYC8nRGQf8Ep8iVqAHxORh0XkN0VkuLhmQKNz0OgisVVo5YBPicj9IvLuK9XIV/M8uoJz6Jy4FMnxmv9CXSxEpAr8PvAe59wy8D+A64A7gBPAzxeXDmh0bhpdyzqyu51zd+KZ1o+KyNdcoXa+KufRhcyhK9J+sa+/8BtFvh34RufcDxf/fx/wWufcj61z7euB94ZEb02oXEp/rxn0aJORfgcXSiOVvLUUFoXdHZDnOLtxtRtXL1Pf1aRrQ/LDEa7r6+aIVvT2xOytzHNkdpTwZJtsosLu0Vle6IwQn3D+2VkOIkhYVMzIctbOif7uCvvqMxxaHCM+2n5RuxXVB6BlE5aPVpHlzoXSKMDrlL4BL+XcC3yPc+7x9e6JJHYbzaEbX7F+208/VtuwDxdTctds23gOB8vpxjeq9evXuv769/Rok7q+XOhaC4m+8NW0zlLXvyKFga94DZliu/Fu4OWagNfKptcnvyq4x32WjLMslDVYS6NoXPOtf/R2ABbSEjO/eIDyH9yz4b26NE53715UaomOH8T2mitnYPwWettLHEhnMVPPoevX0T6wDXV7wCve/iT3PHmAW/7VEdy2Bkd+TjNc7v5/7b13mF1XdfD92/u0W+fe6X1GGnXJRe4dG7ABG4wDAVPyBkgghARe4IM4OMn75OMlJB8hlSQkYEpopoZOwAY7YHCX3CSrtxlpep9759ZT9vfHuTMaae5II2ma7PN7nvvMnX3aPuvus87ea++1FtbHk8jfPDN9flm1kczqClYdSuH17J11Xdfy22VDQREe7sRND52pjKZ7RSVZTPWKyirHENE529D99z9btvy2LS+dsw7u2Ni86zvF2O3XzLmt9oGuObepsFW+DgePlC1/Qj047zrNaEO82J6zxeJclGMP0Drj/xamM0gfRyl1D3CPEOI2A+u/z+F65yNnLKONdc5/f6HtYQC6nUle3fqnxJMJvFweVSjMuoA7MIh53yBwUjZFz4UndxLieO5td/8hQvsPEW66hg813c9Hi3eAZeJUhHjvhgfYHOrh7qb3kEwm8CYzKMfB27GX8I7ZmRpnXne6rPRXRiII05izzidRzkZ21ekOepFx2nY01YYAKkRV4NmxAJyLzXEbsE4IsVoIYQJvBn40185KqZ+ew7XOV85JRrWaxY2/u42Br9Yz/oZLFqxS9b8e5o8//n7S/9KKNzQyXb7ZyNDxgb0c/WIL+VvO7noyEqHzT7cuaJ2FEO8WQmwXQmy3Oa2yfSFyRu0oYGE4a+WolHKA9wH340+1f1sptWuhKvZC4FxkZCu/H/Z3jY/yP5d8mYk18/ippIbQdYSug9RAlDfFuHsPUv2fTxL54Xa8bBahFHllEJcmX2j/BT+87LOkW89uUCFMg/gVQzx66b1MrJtX85pXr0gpdblS6nKD8kPTFzLBs7Y8nJPNsdTTeTH2COfN2cjokD3JLb96P9aRkF/gQfOv86c8Rl/dzoE/bMKutf0CW7L2GzbyoWdm7evedAmH3qQTOarT/tm9iK5B/vOe2/hsaWGEsKFt2wRLNDab7hXhK8U3A29dmkufPwTP2tKz6BMyAWfOMaeClu/phH/46LyPsRuSfOi1P+I9Sb/T1e1Mcsczd1Hz0Ox9RzaHePS2T/LhY7cz8fU4TudRGj7Vf8I+S2W0Uko5QoipXpEGfPFse0WveMPby5bnXzJ3bzP8wyfP+DqVX35szm3OKY5Lv/nqsuVya13Zcu+Bx8+kWgELTKAcVxg7J2p41w/ezboj47MmQU6F0TfGP/7gtfxtjf94CluyZnf53mb1rjzX/fjDhLs12if2LECtj6PyBYr317Lx2Htpe6q8qtA2rKXr9XUUv+Q//EGvKGAlEijHFYbVlWXNXdvwvDNbf+d0HmX1/zlpInyOc2i/epp1v9ZAebhnuc51Lrx8nvp/fYx6IUGVV+/pLdV8+l2f4a6fDJbdHhCwEgiU4wpEhkOkb72AXJWk/jfDuHsOzLmvvqqNwZc1oxUUVfcfwB32Z5+FYZK/9VJSbTp129Ko7c+feOAZKt8zQinAw73pEkY2hajZlTvB9hnuy/Oux99Of/ZfF68OAQHnSBDPcQUi62qoe/9h/uPP/oXBa2tOuW96awN3330vN9/1CN6qxuPniIYZeVeG7979dxx9ZcViV3k2QnLoTTo/vfuTHHqj6c+eT2164nnWvecgxhF76esVMH+EOPHzImNl9RylhjQNMAxEKDRdLHQNlYyjTB0nGcI1zlynCwWy4CJchTEwgUpnwC6ibAdVtFH2/LxZloR8gWcOtvMJbiPbIAi/7iriu4Zx9x+aJSMlBN8duoyBXBynMULk4k04yRCFmM7kmOLPul9LZMAfOuur28mtmVvZlpORSqfx8qeeKZ+L8DGdj/T4Ifcyr7uc6LEsbN8NnouXTqPmGHYHLCFCIDQNYZUmrZQ67k6q65CsAMtE6RKEQBkaniGRtofI2YhCEVKTULTxsllwXd8lc4HNNcvBilKOWiyKqEzgJaLk66IozX9b2TGNkS0axaRH85YBVlWMlD9ezP2DFFydfaO1pDMhor9povJAEXOsgEzlEKMTuEPzd3tbbJyBITb/uSJfXYX28XE++vvf4gP3/CHNf3toloykozj0mY04YchcLrBfmqB5ywDJUI6aL60m/bEYdaO7cIG+Vzax+W17MGT5IXU5GYUPDOEdmdslbk48l1Wf2cvIvUn0P5R8/JOf5Z2PvZ31fxTBS6dPf/xcRMKICy4sv+3R58qX/9aVc55u6I9O4Qr4H3PPSp8N8W+Wn33WtmwoX5471dz3OSIECInQNGQ0DLXVICXCdlBS4FXGcCM6wxeGydUpXAs8S+HFHKyKAoWUhTEYwxoTVD9vY6ZsjM5BVCaDl8mhHPu8V5ArSjmKmipya2soJDQyDRqUevJOBPLtRcKJPNfUHWFTuHfe55SlOd+8MkmaOfpzcXZ0rEFpJtaYgZUKE+0yEamU/9ZzFrFBzhfPxekfQGayTA5v5OncKvScv+lUMiq0HJdRjZHmy3Ud2I2V0OgvYEx3wEsr96KJE3tso06M/xneQM4xWJ0cxUsIX0bSJGHVE0lEkSMp3MGhM5KROzIKI6OEhlrYlluNkAr78nWYgxm8fYcgGFUvCzIaRcSiiJCFF4/ixC1yjSGUBOGCklCMS1wL0qs8vNoiuukSthwSkRyN0RT9FRX0hxNkEibSNjAyOtHKFrS8i55zkUUXOTaJyOTwUmm/V3meKcsVpRwHb2zEetMA65ND3Fq1A1P4PRxDONRqaULCpVY6GGXsHxqntom4KG6L7sdWcKwlxqgb47HJtexL1bPvf9bQkWpEpTMrqgfpTU6y6ZMjPJi8luZjh3CYv4w0Idjwrj6Ovb16+nxbrB4uNidnXefLqc2MfboNa8Il/rF9/GXjz6Zl9KvURvaMN9D1yzZWf10/Kxm1fuMwD/7mWkIvi/CyTz3I1/ZfweoP1Ple1AFLh9QQUsC6dkYvqCDTJMlsLhBPZrl91dMkdD+qkYYioWUxhEODPkGFzCOFh4bCEB4h4WIrSUbp5JXB6Cti5D2DjGeRVwbDdpwxJ8KPHrmM+CGN+m0Z5FN7/QhQizkRuMCsKOVYTAhe07iXSyKdvDoyiSZm2haN0gfcMraqE/c9NasNgEma9G3sDLXyXGM7dkMCXZMwPLysbzhhmeiNrXgDQ3j5PO6Bw8DxxcVKgworz8ZoP6+LjmIIbcbRBraS7CoKUsri6tAQr436Dd5VXklGkVnXjMs8el6h5VwSRo7VRmyGjB5jZ6SVj7c0lZWRMEy0hjqQwq9zoYBWV4uIhFFj47jjEzh9/dDXj3Hltfxe8imeb2xiwpg7jFjA4iA0DWHoFKvCTDZLss0u69v62ZgY4C3JJ0lIF1MIJBASGhKJNqMj4irw53D9ch0NPyRJanofD8WYl2fIlfx61RpSxUqyPSESx2pRk5mzioK0XKww5QhvSW6jSoImFj8e3WbDpVU7yHOXP8OPzYtJPNNAwz0984kks2gYqx3S/6JjfXzTCaHDpqj/RTfFA/V8/rZ23vnWZ6nRTpTTrqLDW7/4/5Dc79Hxgb18bdWvTnvN26IHOfSxx8l6Jn9c8xDMiAV4OhnJ9as5Oh3ubBP60/vZd3cH1129m13/uYWaexbWbhdw9shkApJxBq6wuOi1e+iIDnN9bD9JmaVW8zCQWOK4SvDwyHouHpD2FBnlb9NQxKVLjTTRhECWFr3I0ugtIU0iwuXvtvwXh9bV89kN19N3bQv1T0LiB8+iHGdlmK9Ow4pSjkpCUoIhJAVV3iB18qJlGxdbeXhltgGlH88fdsekdUJPKyZDxCRcGz/I/lV1HOltQ2jakrnOlaPJmOAPV/2az1W8HovZ4b+co91ovQNEL7qctKdISHf6nmzlMujGqNrjknjsGAffXkNB2eSVc4KMIlIjIcMUlM2oW8AFPlTzWOkcim5nklrNwhIGLgoX2BDpZ/+qOg4PtqFVVU7bkdyoyes7nmZ9qJ/PVbwew9AJt6f5f5t+yqubL6A+mUDlC3j5PNJRHHMtxothxHlmf3ohIEwDL2xSrFS8qnonzcYY64yJ0phMIoXAK9no056DDYx7OnmlMerGGHcjSOFhCpekzJLX0xgoDOH7fUakhobAEgaWkFxj5bjcOkRPWyU/k5vJHKslGbIgT6Acz5SanS5XPfB+qmrSvLJl75yzqq46PoR+eHAN3cNJvKEQ4QE5yynYsyDfZGMmCvzVJT/kZeFeEjJ00nB05XCwv4F/+es7qXnuKF4p/FfksmGMb1aRuPdxtLWryWyooVANnxq+ia3Ro9wZ6yarbL6R2sy+bAM9t3gMXNFOi9HLXw1dOktG6tIUj139Of5zYhNf+PJtSBtS6x3QFLEDBrIIN/7uNv6h8XGufeJdhH5ewfgmxdoLu2m+rJeRL8QY3r2K9X97CA738vNP3MB9hqDmuaO4kxlqPhfhjT+/i+IFLsP31lG8r5b6f3vMD5XmvJ/wqEdsaOdyi/rFh5QoTcOYEPxg8BJWR0e4oWI/EVGgWstgK41Ddh29dpIv77+azGgYY9hATwuMLGh5/+FSQuCZ4ITBM8Gu8HArXG64YB/ro4O8Ir6TJs0fWXjAReFjGK0uX+y4EWfzKvThScThrhW/5GdFKcfo0SzJbXFSbSYPm2swtFMbbz0lOLq/ntgRjYpOl4rnB2cJ26sIM3JRnGyDwZ6NzVwd6iGi3BWrHPWhDMmvPIYjNbSqJIkrB3no4m+w9akPkADcyiipNh0npHh6uBXH07gteoRxD55Ot9GXrWDDOn8231WSR4Y6ZsmoU9YxcaXLo2NraPt2NyqTw7ptLZ4J9Q/0oNKTPPnKdrzGR/F2Jqj57KOId16Dd6HgJXUH+VD1dv4w8WrS8QqczmNUfMNfojLVF7B+to06XWfsPy7hN1u/zsZj76VeSNw9B6guefuc9QrHbA617cwUa/gHcweXsN9SPhgEwIF/LR9zd93/njsye+qtc5+v4uvll/Kk1yfLlrvdi/B4StDzcGi0hqKn02yNk9Cy2GhkPItnM20cmqzBeb6Cqh6o6LSxhnNoYxlUKg1CghQI00TFwnixELmGMJl6nScT7QzXxtgU6iUqBpClnkqzPkY0UuBL1VeTr7OI2J5/Hlb25MyKUo76sSHqPUXlwRCZ3Q3kT55jKfOSaRt2MEfz6KMZGB4F78SdpJdEeHHUKSazU16Y8XwYrSDgFPlalgqtpprO92wgvz7PX3b85IRtJ8vo0UgDN9VeRr7G43dv+g23Vu0A/OU5f3ff7VQ/J2bJqPk3cV7FnxLpV9SN7oKWBsZflWV13Qh7rq9DFev4yKoT40BoNoznwnxtx5V868hL/B7D3Q7GSCPrPtON03XshP2V69L634KtPR+gbbszp591wNKhJjNoUlD7rMX4ZJLuUCVfiK0GAZ7uL+OZ6iE2HShiThTRRtL+CymfR+ULIP2HUmkaIpdDGzeIpmKEBsJAjGNVcf7yqko21A7yqtpdbLG6SXthUl4IKRTFqMSK6OiGDspb0cPrFaUcp2c1geQZHjvXO0jTdV+pnkI5Zj2TTMFErJDfSVTEueY1O5hKl1CYoe/nkpG65mIabxnnztgEAN1OD5/b99oTwmtNpzF4aJTWh46XqcRqPnTxA/xB4hgj63PklaJGmswUmnAV2YJBaHeYtn96mvSrL+Zv/+6zbMt1cN/3boCTlCNKEf7Bk7T9YAEEErAgeNksoljEzGSpPxDyR1lTnQGlUK4HjgOui1cogOvinGrom8b3phkaRpom9YM1uNVxusIJnmkN0xRO0WaMkPJCZD0LhMIJCVxLw9B1f1gdKMelQ+i6P4lRlSS7sZ5Mvc7IzXma68a5JnqAhNRmDal/PbIO9USSqv2u30CWkWJTlL3vb+B3Kx9i0svz2/vewP4DTXOG/5riTEKWTaHV1pK7tJ2xDSYNhq9UI0LDEgpDaEgETdd30/lX16AVBfLJBJUHfBnFD6V52w/+GD0rWDvYPTuOoRBkf+tKBi+V1G93Cf9oG+LyC+i6NU6kX1H/zV0wcbZSCjgb/HWGJUU3pZRK/09nnJzKxui6qKl9p5bzlFwLERIhhR9xXtMQ4RAiFiW7oY5cjU6hI09H8zBrIwNEZIERN8aoEwMl8AzwdOEfJ8SyTn6ejheecrQsRFWS/Jpajr1cR7Zk+cbVn+cSU5aUYnjWMTu6m1n/4xHEeBrHWV63jS01gzz6xk9jCI1ux2HoO62sv+fJ0w5LzyRk2RSqsZrulxmItgyt+iiaMImJ0An7/HzTD/A2KTb96l2s/5vstIzUs7tZu8N/yThlriM0je5Xu+y/9d9ZX/tHrP+xZOCKOPe/65P8ydE7yPw8GSjHpcZzUZ7rxxGYK5BESfEpT81ucyU/bLRSOg7TBNOAeBSnKsbYBpNcneL69Qe5uXI3bcYoFaJA3jMYtmN4SuCZ/gdNglZK5bFCJ2XOO+UoIxH/h6muPCHVZb6lgnSLgWuBHRPkqxU1W4ZYmxymVhYwRGzOc8ajebKrKjBSEYxYBJHJ4fT2L8tqfoGY7tlGhWTsqiKIK8uHHZuBVlvL6CvXUKgorTlzFckDRaz+437M2VUJUu06asaDEe9UZOwII1dEKefPpwmJBsRjuTOSkfIUiR0mV9W9leRO376U6LJ51ZPvwT4cZ13m4FlIJ2DBKKeQZrQLYei+33VFHEIWxfZqsnUmTkjiRMDTBEr3nRKcELghKK7OE6vIcWnFUdqMUZIyhyE8DOEghSIUsikkIT+hEY9FfUVcKKzYWevzSzlKDVmZREXDTFxYQ7b2+IzNxPV5Pnnlt0lqGZIyR0Q4NOkCAw1LzPYKmcm66iGev6QKI2NgjYaIDDqER8d8f9BlpFKL8Owt/8boy1xefc+f0rp97n3d1Q3ceteveXelPzM76mm85ufvp/Lp4+6D+ZvT/PzKzzBlVPjDI2/AeVcEuyHB4dfXQWRW1thpzlhGnkvDZ59CfsnCK3SilCJ0/zO0/zoMrou7zLINKINS02ZmGQ6BZWF3NFCosui+WXLhJUe4INHL9bH9hIRNXOanXQp9t0KFxH+pSyHIei42EJVFQtKmNj5JZ0sErWjg1CXQxg1EJgPF4oqcmDkvlKMwTLT6WlQkRHpTNYWERqpDUKg+3mvZ2DzAZrOfkPCIS4EhJAk5ewhdji3xPravbyeX1dHSGrkBg+bB1WgTWRhP+eGYcnn/DbfIvckjxRhv63rJCWWOp+HEFdnXHV9aEuk5Hv4LQGmSemOCOi3CmOe/setbxhgsHFeOVzb20qhFeLwAXxx8CQcGa6m4OkauVtBknNqt67Qy0jQKW1pxohqxZ3txjnWjCgXcGd5GynFQ5xKRZxGoODK3kq74xo4zP98cy3VOReT75ZcGSZU543OdE0JM2xJFogIVDZNaHSbbILFaUlxe2cWmUC/rjBEMAREh0BBIIdA4bsef8pjRhIetFFFZoFLPsCo+ykRDiHE7yciFMSIjYWKeh8zkcIdHV1bYQM4T5SgTccaubyXTKLFuHuLq+k5uTuxio3k8AEJSQqUMTbswnYmv9Qern+JtNz5JXkkmPIvvjF3BTyqvIjSUoGZnFcZ4Hq1nGC+TReVyi/qWcw7rjLwleWKhlNh3O3ziHz47XfS2R99ZNvyXg8sThWqGnAr+eeO3qNpyfFJmyi3zI/tfT8WHDSoui/G/7v4pN0T2s94QgDlnvU4nIyesUfuRw9xZv42//+u3UvnlIKrE+YgwTUQkTH5NHblag8FXFLl23WFeU/0cN4aPEZEaEREu+5xNxTwoKGfa0wagSZ8gIgtstHp5U43O3jWN/PrCdezsbqYq3kB0wCb0VBF3bGJFBaY4L5QjmkYxKijG4eKqAa6v2M9Wa5Bm7fhw+UyU4ckkZJiE9N3vCsqmM3aEH7RfTDpmIW0LM2WSCBno4zlETz/u+OLNJKhiEafz6ImFUsMYaWRbroMrwoe5LiSpiOcQM2xE0nbZkWnll+Yw3xq6kuF8jA+33c/Vhv9GPx54AmJmgUJ9JblawQ2R/bTrLv812UZemdwe3U+jPts+O5eMskYItVsgPIUpXSpkHjXHT6HV1uKubkDLFIOQZSsd4bvzGiGH5vA4tXqKuNSnVzGc/Ly5ysMrzT1PufRmPIWNwFMCDc8fXpeiSGWTFhPFMP0tLXi6QairCk1qeKkUqlhcETbI80I5Cl2nmBQUqzyuTx7klnAfEbnwyd2nfvhbo710XHcPWc9i0I3TXazm08/ciNZTxeofWPD4mQ+3zgnPZd1nurnvezfwqXfdwv7XfGbWLtpImgcevIT7ohfTer/CGi3wD3/9Sl6+YXZSv0+v+RYPfno9Dfo4m0zJt9LN/PvH34A14dH5scf5m/q57+9kGX1u8Ca6vr8Wo3eUJx/fwNOtLTT2ltd6I69ay21/8hDfOnBpELJshaJsBwpF9IyNmdaw8zppJ0TaC5NXKVwUIQGOcqeHzx5+orYppdjramS9EBllYisdF4GrJM36OLWaR0KOsM4Y4eJIF199zbXsGaqnL1JHtL+axPZe3P7BFRHe7LxQjgiBp4MyFEktQ6U2e4Il6xWZVHbpR4KMJxnyInilboyL4OSQEhFZICRcosIhIiAkJBFpEBEml5kC3yFujL5QDw+0bGS/Vke+JkS0osK3QS62jUSIE8J/qa5jRG6+ll/mQkxMRGiY+Xa1HcwxgZbXMNM5tEwR2ztuB9KEnJZRjabx7kQvE16OZwomD4xtpvL5FDKVZaBQgas89tt5BtzYtIwaNJc6LTrdQ5iS0bMVR9hfswVZ9PPUOLaOcMu/9T0DNoT6SERz054WASsM5YHrIvMOWt6FSYMDqVpqzXZCwkbiTccQdUtDa1dJPCR5ZVBUGgN2kqxnkvcMPASGcDGES94yCIl+IsIlIQWt+jhXJjqRKJ5qSoLQiNVUoBVtvLFxvHygHOeNEmqWgpviR5l6vtJ7DROFEKPpKIX+CA0PC/S8x1Tg65OHe6l2nVy9otho094yzObKft5c/Ti1Msta43gEn1rN4m9WfZ9DzbXcNfRWamq2UP3MOOq5hc35fDIyEpkV/qv9uwP89fO/x/r+HF5m9mRCMenh/J9R1iUHeGfNr5lpR5yS0bXVh7mreif/OHI5P/unlxA/WsQ8tN8PlQ+MeTle870P0/yQNy2j1dcc5b83/JiUl+eAYxAXNmsNi9uj++n82OOknDDvqNhPUWl8+v43lvVwqnuwm88MvIHYhI07GHQbVxxK+ZOOtoPsGSI8FmLVD+uZfLiZn1S08P3ojUgbpK2QNuh5xXRmEgXSLZ1DChDgGn6nplApsGOQbyuyfnU/m5L9vLnyCaTwuDTcSbs5TN2r0nROVrOrtYNIX4Km/xmFnfuWdXh9fihHpRCu7/Ux5MQZdPtm7fJMdiv7eurxMjrGmE6yC5I/24WbSpU5oU/k8gtId8SYSJt0qRryjs5F0WZWmcO06+lp24olDLZasNoYwGzMkBmIkzgUWpTUjULT0GIVuJMZRLnwX0d7CO0/NPsVUZKREvCm5u28Pr4fVym6nSIafui2KRnp0qMr8RTbRtup/aXvF+0BsqaKsWKYg3aIyl2C8A+fnJbRgbY6jq7JMuqZ7C000qBP0GFkqdMifLDmMVylqNHCDLg5PlVaJCBDIUTouPnDGxrB+m/fzXBm/YUQnfjOaC7gKKUuXwTRlmeBTSTauo45t00FLj6Z/g9eW7bcvvfMZ74XAuW6qGwW7CLhA5JQt4UXtXBDOlreOTGx1pQXjfKOe91YFkLXUZEQmAb55jj5Kp1x1+RgqJaip3FFrI5qbZJaLU1EFrg9+Qw90Ur2rKpn0ojgVISQQgLesinI80I5eqk0DY9nKe4z+XTPHfxTfLawoj3QdsRGK7pouQJaKn/adYrySC/JkTgV+6PYT4TI1tfwrx13kO0o8qkbv846Y5h2XccS+rQBujKeZbAmihPVTzG3e/Y4q3X2/1UHa/7ZxXt6z5zhv2ZFHzpJRv8cU1hjAj2rKCQFdkxNy2g01s5bqv+EyNCJocO8wWGG/vkC3lf5PuoeHsKdIaPQSA1v+M1dOGGBHYf8ujwP3vQv7LOr+eC970PPwh+9/cfcHiv1pqVG73suxbrl+IqCycdraf+7p+fKZvhSpdTwwks04KxwXd+lcGwcUhpSamia9FdquH7ACFU8yaxUUpQiX0BJiUj77oXhiUlCYYt4Z4z8jhDp+iY+uu5O3MYCv7/1URqNcZJaFk0ormg9yqGKanINNVTEoktjvpqD80I5qlwO82AfZsgi3BvHM2dX2xiYwD3aPb3afj7WiqkEUOAH66xsqCfa3chgJsLzV7YSlQWa9EkMtGlXqoSVpz/m4lqLk8d3Q2SUv7nyXv66/vcIOc6c4b9QM+5QamDbmIf6MS2TcG8cpUm0rgG8kVG0thbs+gT6UArV3YflOERLb/mZDmJeJkPkB9uJcHxZxpSM9CNd1DwIekM9xbWN9BcjDL3EYne+mfafTaKNTPLEb63mluhehAdCClJbbPZu/fr0+a+w3+a7nJ1lqteApUMphfA8vIyf2e1M1vieEKdaCJhIIaRA9phELYtoUx2h8SRj60LsX1eHG5EYloMmFJtjfUT1As/E6iAcQjhOoBxPhXJdvFQakc0hc3k/0s7J+2Qy5+yG5KXSmJ06dVodX/7xy/h8y3V87vovc7k1SUSYhITO77c8zFOVq/n5c9eW8dI+d3YP1/Hhe/6A1r390wr+VOG/xCVb2P+OOHpOsPbLw9AzgMzlEdEIR9++lsn1RRr+R6fqoaMMv6ydwZuqSTxn0vDZp2alg5gKlZZrcVj7DRv50Ow0DdMyshp4yw/+N17EhXcIhBtG/2U9r5u8gNbtEyfUeYrkPg8vd6jcbSvg50IIBXxWKXXPOQsy4MwRAhkOH89bDVC0/Znjs0UpwPPf5cUiynWRw2PED0ikE+eR+s08UlPg5vV7aQ+NUqVPEorY/HI9mOnVVOwZQxzoXBIHjJM5L5QjSh0fIp/ChniueNksXjaLkcnSXmxjbFOE3Ze3sNnYRUjzsITBnbEJ7ohu40e15e1E54rZm6Hpk4+e2PM9RfivyY4YX7393/3QYd+9AZVKQSqFlkwQvtFg+9avs7X7A1R8vZfxje3sf9VnubLmd5Bfsk7wXoHjodL+b9N93PHMXdQ8NPt6UzKyMlnWZH0Zve3DP6VKn+RzH3o91n9vm7YnlqvzHK+u65VSPUKIOuAXQoi9SqlfT9dLiHcD7wYIlUkQFrAwCE1DmIYfEGKqA+L6s9fnFJe21GFRjgOOgzc6jszliRXrqU7WkGkMc7ChFkN4dFiDNBgTOC0FxtIhrLE4ZqdfFxUox3kgBHpLM6oiCgPDuMMjC3t+TeKFNFzTT3k6lYHNVi7PFD0OFBswlsALTlgWY3deysQ6aPllAe2XT8/7WJUvULy/lo3H3jtnuDNtw1q6Xl+HnoOWbx1GTaR4/EcX8ZLmLacNd6baGzn0pjCh1hSXho8QFTZH73Qxr7yW0Ai+rbNKUIyr6ZBlc/XqlVI9pb+DQojvA1cCv56x/R7gHoAKUbX8q4NfaAiB0A1kOIRa1YwTM8k2WrimoOJIDn0oDaPjuKMlF9NzmSARwg9y67oI28HIKvSc/3xZ0iapZYnLHIlEllSdiRPVMOeKILTInJfKUWgaxVW1ZJoskkrBgitHDSes4Yb8NVp+MkqJrVweSF/Io6MdWGOL/4zKcAjvTSNs3/oVrnA/RNsv53+sl89T/6+PleyT5cOdpbdU8+l3fYZtudU8+Mi1qG07afn/HvND2J/mLT3ZEecLt9/DDSGnNFllse/mz5FVRf555DKeGm/jfzU+xuuio9Mhy06wk5YQQkQBqZRKl76/AvjY/O804JwR0o/CUxEntTZOrkoytkWhYg72ExESh3XCroeYSJVCmS1AD851EfkiZspFT/peNJZ0qNImqZYF1lQNsyNrUagIE5F+aoal5rTKUQjRCnwFqMcfFd2jlPqUEKIK+BawCugE7lRKLW5SWqmh19WgKmL0XRYm3eFSSFaTbLgMq3vcXypxDm81GY8ja6rIr66h7zoduyXPKnMIQxz3BHg+3cT+vjpq08cVTl5l2cU2iuQBQTOrAThXGamizeSTNVzn/B7JA6eO57jR6uM/XhsjftE11DyXRo5nSF9YR65G4mmgpCBywei0TyxAuC/Pux5/O27aYNOYPzuNUghdI3/rpaTa9OlQaeKKCxm8PEZk0KNi5zC5Kl8mBeUQESbDboY/7notB0ZqKdg6riv5q9FX8wnNnQ5ZNgf1wPdLrpA68HWl1H3zldFMeu4ub+po/sSjZ3O6s2Ku5ToAEz9dW7a8NXKE3GCaHX/9CwpjWYQQtN6+BbOyeM5taN6UIoJ7uh9vUUUcrHiBiXUG+WqLWGMj0Y5qrOEcom/YH2o7Dsr1/Flrr7RGstzvXIoRiab5vtuWiYjHsBuTjK0zyDUoLoqPUmemyCuDEQ/6MxXYExZ6vhSt3Fv6AcN8eo4O8GGl1NNCiDjwlBDiF8A7gAeVUp8QQtwN3A18ZPGqCtI0KGxsJtNoUnf7MT7X8T0+dtFr2bW/hbqH66js6j4ntyNZU8XEZQ2MXKDxF7/9bbaGuunQwRImEoGtPJ7uaUF/PkqkPzd9nECwjouoEJU4yuZJHsRPfs7dnIOMvGyWVZ98GmGaeLkyaxtncEs4xyPv+Hu2F6r40JfeSeJQjNDv9/Fva75HlZYnLhRxqaPNCGYrnniedc9HwPNOCCEmo2FG3pXhR5feMx0qrevVce7//U/yviNvYOALq5lsg4wyGfVSGEJjtx2l+1/X0fjgAUZftY5Uu6T2iQKhJw9Mhywrh1LqMHDxfGXyQkVoko3vvZ7E+jqcbJFH/uBbCP3c29C8UJ4fAV8pHEvghMFK5GmvHqO25RhRvcDjvasYHIxRsSdJ/ZMmsugis0VEoYgYT/mKMl8oncdDecpXiEIiSoFtRSSCiITwkjGyTTHSrTrZazM0VU/w0uQemo0xsp5Fr1tJ31CCcI+ONVbwbZXLkIPotMpRKdUH9JW+p4UQe4Bm4A7gptJuXwZ+xSIrRwClCTxDkDBztGoFLqs8ynhbmKEN9cSuuwDpeuDOWLnvKfRUHmwHkc37+THqq3Cjs1cpjrWEGNsoKazOs94coEFzAc3P7+w59DphCqNhqoYU2mRxWllZIoxVmrvWhUFExcmQhrOUkQyFsK/ejB3Xp8N/ya2byayOEzucwivjmTPoZvnH4RvYMdaMlgfPEFSHMnQYeWLCICL93l1XMYehu+SvXIc1mEHtOYwMh7BvuQxPF0S2dfqLf02bFj1MrtVBXbeVfLNNoxbmyspOvnThamjKUy0zmEJgKxcNQbpVEr5oFSgIDynMkXzZRfhafR3Zy9rxHlmeRc4rkVB1lFB1FAA9YhJrr2SyawyW4jlTftRvVSgQHvHbfKY/wmFHw2hySRo5WpPjDJs2A14VSkZ8T5mi7yljpeuRjkLPegjHQ8+5CNfDK9kKlSnxdIkT1rCjkmJMkK8V5Gs81tSN0BYbo0LzbdyHinUcLVQjBiwivQojVfB7pSu05ziNEGIVcAnwBFBfUpwA/fjDo8VFSjxD4hqQMPLUaGE+WLWN91Q+wddaLuY7Wy/F9QSOe9ynOJc3EIeqMNKCeJeHXlD0vkQQWzU7ss7qyj7eWfccrcYIF5g2hjAZdQuMe5L7MxewJ9NIYrdO7bYJZO9Q2Qm8nMqQZhwDC85SRrK+FvcvRnhv+6/88F9f7WPf71Xw1dv/nbd//49Zc5c2q3f848x6nvzLK4juH6Fyk0O2RiNh5KmckaP7iUI1/zV8BXXRSXr+t8bknkrW/UMCr72edR/fRUd4mPvuuonw4/v9eiD4nasf48cNF/CO1U9iCI0PVj3Lb7/xaaLSo16zAF9Gcelx7Z3PsOvmRuzv1VO7LTWnjDJXrOKOTzzA4JsH5yOOFx3ZvhSpA0MYFSFYoudMOQ7e+ATRRw4Qi0YIjTeTrQ2z56YGIquKvLJ2N1dFDmJv1MjfYkz7U6e8EL12JRNOhJ2pJiaKYQ4PVOPmTD9wrlAYYZtQKE9VJEdHbJx6K8WGSD8VMscqYxgpPGylMeLG+HH/RXQOV1H/hCL52DG8iRTeSl/nKISIAd8FPqiUSs0Ml6WUUqU1auWOW7hlGJ6HtD00G9KOxaRXICINKtC4OHSUrroabCVxZgRcGCuGec5poThp4Bk60oZw2wSXNxybdfr10QEuC3WRkDaWCFNQNl1OmB6nkvsGttA5XEXlkIc2kZm1RhDAUQ47eIwNbOUIe0/YdkYycj2G0hU8m2lHL6Ue1LOCbbkOtGx5w3TWMwkP5KB/iNx1dWSaBYfT1Xx6fA03Rfax1bJ4PtfKI0c68JRAeQIpoHBRG+lWk3ck9tJhDvL1DbdQY6+lKdaNJiQXhLvpa0iwKexHCY/JEJtmdLonvfy0jLomqxhORalMqzllBOBagqsiB/nmMs1CrmScbJFn/vKnbPrfN3Doa0+dsG2xnzPluniTGaTrEhoqIDyLiZ4QO8wm6qxJLgwdo1bLUK8dNynllWLAGGLcC5PQswzbcTThkS5aCEAKRTKUo8LI0xiaYFVomFo9xRpjCEN4RIVDXmnstas5ZldxZKgauz9CaNTGm0j56WCXiXkpRyGEga8Y71VKfa9UPCCEaFRK9QkhGoGy3YCFXIahXA+rfxLhRdk92MAv6hrZavWyRg9zbSjN5voHZx1jKxhtNckrnbQXxsWPBlIlZy9vCQlBXJpI/GCeA67DP/fdxq7BBhJfi9OxexQGe3BTk77xeQae8tjBYzTQRp1o5ojae9YycgeGaPuLCE9HLyJ5ZD/ujJBlawe7yya0mkJUJtDvHOQjq3/D33/pDfz0oSSfv+s6nr/6Xj638zrWfzzrr11TipGrQ2z52x1cGz/IKyM9WELn/77vKww6FdwS2Q/EuDXay/XhY8Rl+eRkQ67Dv/Tdys7BxtPKKODUeI7LM3/5M5pu3kDDS9ZOKcele86UQtlFXNdFe+4gUdNk3aFanESYn99+KfuuquPmur28LfEMhhBEhEGopOBcUnToz2MjeE3FsxTR0Er+V4Zw0VBEhENcemj4EbAA8gqGXJN7+69i/3AdFfdHSRwuYB3ox8lklzXf+XxmqwXwBWCPUuofZ2z6EfB24BOlvz9clBrORHmIbB590iQzHOHB8c3YCR3XOub/SFIgYUbodoFE0qZP+UZPvYVOzLA3FYbLVi5przjtUtfpJNgzVE+mN07LoTTungPlq6UUu9lOlDjtYv3MTWclI2UXp681pV6crmPQdWxWClQ97/FwZgO7JhsRtr+3IT0M4RLpU8htu8j2XcaeYhY3Y/i211L6WdeE11c+xZVWHkuE0ITkt6KTwCTgB7wddl2OORW06ykSEgrKJu35wxwP6HIq2DXUcFxGew+i1dWitTSixsbLBgaeqnPamztnzYsNpRQ7//ZBou2VrH7TJTM3Lf1z5rl4mQxks8hiET0cItqzgcN9NTyir6HdHCau5aiWGSLSo1Z6aEIQLS23iYicH8gEZiRPAEOIE9IiF5THqKdx1KniyFg1maEINf0OZs84Kj257PEcxVyziNM7CHE98BtgJ8ddcf8c3+74baAN6MJfYjB6qnNViCp1lXj5OVV4KtKLu7GdfE2I0c06mTYXqz7LloY+InqRpJEjphVoNCeoN8Z5ZaT/lPlkBt0MxxyDnYUWfj6yhWJpWL5/pJbIdxLEjxYwnu/EHSu/gmJcDbOdXxEjMV3m4pJjsoZFlpFWX0fuknZk0cPcth9sG+eKTdgVOpF9w6iBYUZefwHDV3hEmia5qqlr+ti4kWdNaGhOGdnKZcMDf0DL93R63miz/6Vf4JGC5DN9L51TRqpYZP/HLzwhzNpcdX7qsX9hcqz7jMbWC9GGZtL5rYvm3LbqTWcesUddO/fEe9/10bLlTZ98dFnb0CmRGkIKtNZmnNoK7AqTQqVOISHJNgpyTQ53XPk0bdYoG0K9hISNhkIKDxMXKbzpmKpxWSQuXTKeZNQLsbfQxHf6LqNrpArrN3Eigx6VT/bjDQyhCoV5pSN5Qj1ISo0uin1mPrPVDwNzXXzhWuk88fJ5yOeRz+4nappoxfXoGZPJyRg7vSYsyyYeKhAxbFqi4zRaCbaY/dhaBq10G7Jk6/KUwkXR6ZgcKDawPb2aZ/ua8TyBUgJ7KEzT3jSyq39WrpaZJEUNN/OGE8qeUA+ilBrhHGUkIxGEafjRScrY8NyBQcz7/JHW1JtL/uYZLECFQgjTJNZnY+8xKTbC/2m8D6P0a/a6Fg+kL8BW1QxYvdjqRBkVlIdxzCL20G60qzbT52bZmd/EjoEmlIKQaZMejtK0P4M80ouXTiNj0ekwa7fXXnBCXYVhIqNh1GQG8/7tSC/IQDjFYrahc8Jz/WhkR7rgCJiWRciyoLGOzLoqxlM6T3e0MhyPYSuNmJYvDaM9QtLGEM60cozIAhUyT8oL0e8k2THZysH+WtRgiJpjLuGBPGoi5bsKB2kSzh6vaCMch/CuXkLdMdyKEMWEiWeEcEMVTBqCnZEWng0L/qv5OtyQwks4SNPFMB00zSM7GkGb0NDyAj0jsMYUdV0OwpuaBCkiO/vwJjPLYj+TkQidf7qVyGXDGN+sInGG8f1OllHuUII33H8XSvOX+qTWuvzjrfcy7kZ45QMfQKb0WTKKXDjG8L112AM2L//yXYSHBDUHbUY2G9z59l/wTFUr4zTjpSenDfo1n4tw53130bZt4oS1mblXbmX0nZPkDlWw/m8PzWE9C1jJqGIRz3WRfYPEsnkinTEynbUcMevYH9mE0nxzjdL9nE/ejGwmsuh/tKLvXqrnFa1DDnomj9k9isrl8VKTK0IxwnmsHKffaD29UDJdmfj5ZmQkAqaBiEZQIYtCSwI7ppFpMHDCJk7YD9lf062I9jtoeQ89a6ONTOIePHLCj7PkKlHghyDzXIRpELlsmP+55Mtcve3DMwZcJyFLdpyTbTQnycjcDTUcl1H4NZtJvjpLxrNIPmUS73FOlJEFW16xmy+0/4KLHn4n7T+z0YfSuAePkAxdyeWRw0jh8SDN071aVQqzZgFK+Gk+p6Ilpdp0fnTpPXyk9g4y0fJDzIAVjlIox/HXr6ZScAzCu/zF3rIUtELGY2CZOPVJnLg5HW3ESBeR4xlEvohKp1G2g5fLg/KO29JXiGKE81k5zoFyXbxcHlEsQtEGQydUKGIZOpHuMMrQ8HSJ0iXGeB4xmUPYjh+aKV9Y9h+n0Bbh4IeuYP0Xx/H2HcH4ZhVXb/swzb8uHwhiOmRZVrDuM35U79MxJaPK58Z43z3vQdrQ9GQKOZE9UUaGZG/PJrY2b6Zmt4fRdRSVzYFSxHeN8IF7/hA9B83HDs2aKEIIRt9xNcPX29T+2qDyK49T/2SKV9/zp0QGFHWju85dWAErA+X7W3tFENLBUwo0Db1oo1sz1n0Viqh8AW8qUO6Uu+EKUogzecEpx6nlCMrmeFDVkRPt11PpDZZvkcDcXJgY5pO338Nf/vJdhHcUSNz7+Nw9Rk4KWfa9G2AeynF6ycaufTSXdJTixF7ylIyqfwnVpe8zFaC77yDNf3twVvkUQtMYvt7myK2fZ7X9biq/KlHbn6d1e+n409cy4HyjNFKZmkg5lZ3+fOCFpxzPc3ZO1PCuH7ybdUfGT6m8xRUX0nVrHHtDjlY9y7YzuMbUsZF+Rf03Z+fZKRcqzXn5ZfTcaKJKkzmxY5zy2PH1INOK1T/5A+oeOR5J/VwRpone3FZ226x83/PgbGaktS0b5tzmPvrcnNuali7+RcACECjHFYbVlWXNXdvwTrPGa+CKOPe/65M0axE0ETuja0wd+ydH7yDz8+SsAMLlQqV132TyzO99anqd2u8cecUpj31q61e44vMfou1D21b00CkgYC4C5bjCcGqjjN5+JXUPHMPtHyT/iotPCB02jQADeLwAf3bgdRw7UsumsSFUNEr61gvIVUnqfzOMu/cg7k2XMLIpRM2uHPKhZ0h02bzqyfdgH46zLnNw+pSydOxko8ZEr80N7jtwoorBP74WN6S47qm3MeW9Nj4aI/46i/BgE1X3H5gOOHxCmLX9XtmFvPqqNgZf1ozzoyDwRMDKJcisvsJY19DPh+/+JpmLGqdDh3337r/j6Csryu7/+cEbiX3IZOOHd+Ee6kTW1VD3/sP8x5/9C4PX1oCQHHqTzk/v/iSH3miC1Ajd/wztv9fF2o8+hzt0PDvg1LH3fOhTJJ81aPz9QZwqm5/e/UncuEvjOwZo+F99/uc+g//7x1/h5rsewVvVOH2OqTBrzW/rIfGd8pHL01sbuPvue1nX0L+wwgsIWECCnuMKo9tO8K9HXkpkwk9slDtcwZ/VvZbIgN9j0zasJb25mkIVvLfzdTyzbxWbR47iZjL+CfIFnjnYzse81xIe9e184WM6H+m5jUi3b/tTjkKVM5bPODbW5+KOTRA+YvKRntuIduq44+PTw+NIf5G/P/QKRtJRVmfyJ0ywTC3Unwtz3OGfDt9Mt9015z4BActNoBxXGM5hneQfFHEH9+AVi6z/xCHS0Rh1o7twga7fruPT7/wMf/T075B/TyWbR4/iDB5P9+wMDLH5zxXKMokN7cTzXFZ9Zi8j9yZpm9iDewrb35kcazy+G+sPakh4edyBM1vNPXWs0x80v4CVS9A6VxiqWMQ51j39vzs0BMdHvjhRxXUhm5BpQ3c/zsnBZD0Xp3/ghKKZ+blPyRkc6+XzeDPqeSZMHavU8sTpCwiYD6cNPLGgFxNiCMgAw6fb9zyjhtn31K6Uqj3TE71AZVROPnAWMirJZ+Z4fK5zLxWLef2gDZ3Igj1n82FJlSOAEGK7UuryJb3oIrPQ9/RCk9Fi3s9yy2q5rz8XK7Ve58JS31MwWx0QEBBQhkA5BgQEBJRhOZTjPctwzcVmoe/phSajxbyf5ZbVcl9/LlZqvc6FJb2nJbc5BgQEBJwPBMPqgICAgDIsmXIUQrxKCLFPCHFQCHH3Ul13IRFCtAohfimE2C2E2CWE+ECp/KNCiB4hxLOlz21nef5ARvO/zrLLSgjRKYTYWbqf7ctRh3KsBNmcC0vVhk6LUmrRP/hJyA4BHfgBu58DNi/FtRf4PhqBS0vf48B+YDPwUeBPAhktroxWmqyATqBmuWW+EmWz0tvQfD7n1HM8gzfUlcBBpdRh5btFfBO441yuvRwopfqUUk+XvqeBPUDzqY4JZHR6GZ0FLwhZnQkvpna0RG3otJy1chRCaMCngVvxtfpbhBCb59i9GZgZorqbZbjZhUQIsQq4BD9FLcD7hBA7hBBfFEJUlvYJZHQaGZ0lK0VWCvi5EOIpIcS7F+siL+Z2tIht6LScS8/xvH9DnS1CiBjwXeCDSqkU8B/AGmAr0Af8Q2nXQEanl9H5bCO7Xil1Kb7Seq8Q4iWLdJ0XZTs6kza0KNcvjevP/EAh3gC8Sin1rtL/vwtcpZR6X5l9rwE+amC+IsSLI+tcngw2xTcSyGhOSjLS8W1Kt+D3crYBb1FK7S53jCksNZd81l9UPg/2/kPVZcsByOTOqM4AxCNzbhLFuSO4K1MrvyFdvt55MhRVQZzps2ZgPvpiakNFVRCLce5Fj8pTGm68G7hQQ+cqsXz5yZeSJ9SD2Mwv6syLXEbTvSIAIcRUr6iscgwRnVM+99//bNnyV/z22+esg3hs7pwvc+Fefumc28zeiTm3FZvLp0rTflk+KPAT6sF512lGG+LF1oYWi3MZVvcArTP+b2E6g/RxlFL3KN9Z/HUG1smbX+gEMjo9Lygb2SJx2nY01YaUUpe/CNvQonAuynEbsE4IsVoIYQJvBn40185KqZ+ew7XOVwIZLQBCiHcLIbYLIbbbFJa7OsvBGbWjgIXhrIfVSilHCPE+4H78tVVfVEoFmdpnEMhoXsyrV0TJr7ZCVL3o/F2DdrQ8nJPNsdTTCXo7pyCQ0WmZ7hXhK8U3A29d3iqtPIJ2tPQEaRIClpWF7BW9smlr2fKeP5t75rblsTO/jvar8hMoAKfKNp695Oqy5ZGb5pjg2X4WlQtYMALlGLDsBL2igJVIEJUnICAgoAxBzzEgIGBuRGl9tTipH6W8Gd9fmHNkgXIMCAg4zknKUEgBQiI0CVKC5ytFpRS4voVVeeq4snwBKcqVpRylhjQNMAxEKDRdLHQNlYyjTB0nGcI1ztwaIBTIgotwFcbABCqdAbuIsh1U0UbZ50kO5UBGAQuJ1BCGjoxFQWq+ktM0iEfB0HEqI7hhHc+QKA2UFCgNUCA8/690FCiFdBTCU+ipAjLvwPAYajJz3radFaUctVgUUZnAS0TJ10VRmv8Ws2MaI1s0ikmP5i0DrKoYKX+8mPutVXB19o3Wks6EiP6micoDRcyxAjKVQ4xO4A4NLco9LTQvehnFwniXX1J2k3zombLlTQ/P7T+demv5GWSAxHfLn08Vzm4hevxbj5ctd+earV5khK4jTBNZmaSwrgGlCaTj4emSsXUmxaQgd0GOVQ1D1IYyVJpZkkaOeiPl1xtB1rUYKsYpeDojhQhjhQiHDtRjjmo0PJ4gemAUMTKGOzruK97zqGe5opSjqKkit7aGQkIj06BBqYfvRCDfXiScyHNN3RE2hXvnfU6J393PK5OkmaM/F2dHxxqUZmKNGVipMNEuE5FKgeuiHGcxbm3BCGQUcK4Iw0SYBrIyidtQSS5pMdFhojQQLni6YLJN4SQcNjQNcnnVUeqNFFX6JNXaJLVaevpcGWUy5FSQVwZDTpxhO85ELsREPML4SBg3VE2kL4Y+mIDxNO7w8HmjIFeUchy8sRHrTQOsTw5xa9UOTOHbNAzhUKulCQmXWulgiNlBODROHZjDRXFbdD+2gmMtMUbdGI9NrmVfqp59/7OGjlQjKp1ZGb2jUxDIKOBc0WqqcFtq6b8kRvHWCZoqBrizbh8RWcQQDoZwqdVTRGWBJi1NXHqYQiDx25BxwuRMHtfM4SmFjcJVijcktpNRBjsva6XPTvJfB7dSOFJH3bY6Ej9MoxznvHjBrijlWEwIXtO4l0sinbw6Mol2wo9glD7gzpwpK6GdPJt2ClYbAJM06dvYGWrlucZ27IYEuiZhhb/ZAhkFnBNCoJJxMq0RMs2CG5uPsCEywCtju4hLl1BJCYaEhkQypSJsXDylcFHYykUCEeG3NUMIEJT2hyrNw1UO7fo+0p6ku7mSh50OckdiJMNhKBQC5XimFBPwluQ2qiRoYvHj0W02XFq1gzx3+TP82LyYxDMNNNzTc9Y2paUgkFHA2SIME2HoDNxQQ8Ube7kxMcirK5+jQuaRKFwFUvi9w6xycZXDqKeRUTqHi0302pWMOlFG7Sgt1hjXRg8QEjYRaQNgYGMKj4jwFaYpBEnpcUf106yPDvDZ4ZdRs6UdY2gSDhwB71T+RMvPilKOSkJSgiEkBWWX3cc9qcdi42IrD6/MNgBtxnAgJi0McTzgaEyGiEm4Nn6Q/avqONLbhtA0VnKfKJBRwFkjBWga+WrB7zc/Ta2eok5LYwiXgtLwEGjKRaIY9XTySqPXqWTcjbAn18SxbCWjhQijuQj98ThxLY8lbSpkDik8orKAgUuzniIiXELCb1urjFGissDnKq+jWGmi5UMIKSgzuFlRrCjlWLPT5aoH3k9VTZpXtuzFkOXfLK46Pjx8eHAN3cNJvKEQ4QHJyU+tZ0G+ycZMFPirS37Iy8K9JGToBAVwPhHIKOBsEUIgNEl4WPHVzqtIhnK0x0anVzDYnjY943x0VyPmmMRMgZZTGFnQ8wrhKsJFxaBVxVeja1ESlA6uIShUghNXtF/RzdbKbq6IHaZNH8UQLtUyS31VirF1DSgZIbJT89dJrmDzzIpSjtGjWZLb4qTaTB4212Bop+52e0pwdH89sSMaFZ0uFc8PzhK2VxFm5KI42QaDPRubuTrUQ0S55+2D/6KX0WRuziU7cyF/M/f+8s65l/J0fnV92fL2O3fOecyBT18157Z1732ibPnA5aGy5fbuRYj+LyRGRtE/kGA0HCFdtKan6QqOzthEFDdt0PgYxI5l0AdTkM6gsjlUvgDKQ3nqxMXhhoGIhHE6GinUWBysrwOgxpgkKgvUamni0qY6nGW4SlEckESFWPGjjxWlHPVjQ9R7isqDITK7G8ifPH9QRpptww7maB59NAPDo+CduJP0kggvjjpFO0t5YcbzYbSCmPYAWKkEMgo4W5TrQaFAYk8a4cXxNAPb8O3WSviLuuvyCq2oiO8fQ0xMojJZVKHgOwK47rQnjHLxvQaU5ytXx0DaLsJRkNMYzYZxlSQq/MXfeaWRcwxkUSBd5XvbCFk60cpkRSlHp68f+voxgOQZHjuXiDVd9xXGKR78rGeSKZiIlT+BFsgo4KxRJXc/sb+TZKfpL6kplvdcce3SD32qhdvKRZXeqMJ2EI6HdBWyoJHNW3gIQsLGU5I8fs9U2iDcld5n9FlRynEhELqOjEQQVUmyG+vJ1OuM3JynuW6ca6IHSEht1nDx1yPrUE8kqdrv+m/XFziBjF6kKM/vqBUBpXxl6c6j5ybEcQVZWj8rdAMRspCxKG5LLbnqEIOXGBSqPdou6GNLsp8Lwt0kZIG0Mkh7IQzNxYkqnJBEmAbCdVGFoOe4ZAjLQlQlya+p5djLdWRLlm9c/XkuMWXpgQ/POmZHdzPrfzyCGE/jOOVngF9IBDJ6kaKU39vz3Ll9neeKwjOjXGgaMhxCVMRxGyoZuiRGtlFw8Sv2clmii5dF91CvFacXjqcdSHthDOlixxV2VIBhIuxSz3WFTsqcd8pRRiK+T2h1JSp8PMtavqWCdIuBa4EdE+SrFTVbhlibHKZWFjBEbM5zxqN5sqsqMFIRjFgEkcnh9Pav+HVYcxHIKOCsKSlFaRqgachkAiwTp66CYsKkWKFRqJC4lsCJgh2DQmuRaDLH1cnDbLT6qJJFojOUa1Q4JGWWLYk++torSNkJKq5chTWUR+46jJfLr8h2dH4pR6khK5OoaJiJC2vI1h7/ASauz/PJK79NUsuQlDkiwqFJFxhoWGLuJOwA66qHeP6SKoyMgTUaIjLoEB4dw8uWT7a+oglkFHCOCE1DxKKIUIjC2noKVQZDF2s4a3NsbunmTQ3bqNYmadXHMYRHXCgMIYgIo7Rm1h95eHi4SlEli4REijdVPcGNFXv5fsNl/CqyidiROG29SVBjeLnciutBnhfKURgmWn0tKhIivamaQkIj1SEoVB9/22xsHmCz2U9IeMSl7/+ZkLOHh+XYEu9j+/p2clkdLa2RGzBoHlyNNpGF8RQUbbxc3rfRrMA3HAQyOlti/7Vt7m3fPvP7mGu5zqlo+vtHy5YfU5kzPtc5IYQ/XA6HcNa1YCdMxtca5KvBXpNjQ9MAV1Z2ssXsJS5tajQNA2PaPi1nzOh5M5ZNGEJgoUjKIpo+zoWxHp5va2RYJpm4uoXQcD3m81146ckVNcw+L5SjTMQZu76VTKPEunmIq+s7uTmxi43m8QAISQmVMjT9A52JH/EHq5/ibTc+SV5JJjyL74xdwU8qryI0lKBmZxXGeB6tZxgvk0XlcivSLzSQUcC5IkwTWVuNW1NB16sj2G0FXrVpJy9P7GaVMUy95g+XY9JCYsxqP1P+/E5pXYSrFB4eEWEQEVBbslt26M9zx4U72LWhjq9dcA3PdjfT/h9tmIeHcAeHVoxr6nmhHNE0ilFBMQ4XVw1wfcV+tlqDNGvHh4Jn8qCfTEKGSUiwlUtB2XTGjvCD9otJxyykbWGmTBIhA308h+jpxx2fWIi7WlgCGQWcI0IIlK7hmRp20qOmOs1F0WNcaPVRKwUV0m9LJ7cjW7l4eNjKxUWR9tySqyp4gCXAFAILSUxYxKTEEi6uOcTVySNkHZP+tauosBoIA974xIp4wZ4XylHoOsWkoFjlcX3yILeE+4hI6/QHniGG0JAIbo320nHdPWQ9i0E3Tnexmk8/cyNaTxWrf2DB4zsW/NrnSiCjgHNC+H7XWCZORMeqz3JtwxEuDB2jXpOEhH6CUnSVh1eK0DPhFckrOObGyHoWh4p1TLohsp6J7Wk0mhPU6inWmQNsMhw0ITCERpPm8Zr4Ti6PHOaHf3wpO8abGfhGK1V7atAP9uIODC6jQM4T5YgQeDooQ5HUMlRqsycPsl6RSWXjKoUNZDzJkBfBK/kYuwhODpcQkQVCwiUqHCICQkISkQYRYXKZKQAHGKMv1MMDLRvZr9WRrwkRrajw7WsrKfR7IKOAhUIKDMMhoecwxPEhso0/asgrlwlP0e9GyKswQ049Gc/iaLGarGvSla0i65jkHAPXk9SEJ6m2MvRGKkmHO0nKHC263y6SEkJiktuTz9IaGuWzLa2YkyGSgzHEyGjJK2d5bJDnh3IsoYSa9fBO8aNMPV/pvYaJQojRdJRCf4SGhwV63vNzXeBHtJlJql0nV68oNtq0twyzubKfN1c/Tq3MstY4Hp2mVrP4m1Xf51BzLXcNvZWami1UPzOOem7PYt7uWRHIKOCsUArlOMhsHj0TJpu16M0nORyqw6QfKTzAY1tuFY9OrOWRo6uxHoujZxXWhB+QQs/7OWSEy3ROGd1TjJg1DGuCHYmL+WqlZGKDx+uuf5KO8BC3RPcSEbDZTNOqP0/29RY70s0c+vwG6vJFvPEJvHT6dLVfFM4P5ah8gQtbMuTEGXT7Zu3yTHYr+3rq8TI6xphOsguSP9uFm0rNedrI5ReQ7ogxkTbpUjXkHZ2Los2sModp19NIBJqQWMJgqwWrjQHMxgyZgTiJQ6GVlfT7PJaREKITSON7ODpKqcvPUgpnzgLPrGuloAvlmGuYeORvrilbXvy38jlnFg1PgeMiiy5u3mKkEOGYXXW894jgqclVPD3Qgnc4Rv0TGfSJPAyOguMcn0gpTbwoxwFPYWgSNI1oZRKvugLhJdm2sZ3JSoutoS5qtRxJqRHTJG9LPkVXbA/vbtiIVxlD5AsQKMe58VJpGh7PUtxn8umeO/in+OyeUbQH2o7YaEUXLVdAS+VPuwZPHuklORKnYn8U+4kQ2foa/rXjDrIdRT5149dZZwzTrutYM+wtlfEsgzVRnKiOuSh3e3a8AGT0UqXU8BnddMDCojxULoccM6jYEWfn4Fp2GGtQGoQGJNaYwkwrEuMutaNZ9IO9YBdLi7jViRF7OJ6yVbkSIR280TFEJkuD45EaquPx1kYevXE166qH+MvWn9CuO0SFpEnLol81xqFEJS3/E8P4RalZLPHw+rxQjiqXwzzYhxmyCPfG8czZ1TYGJnCPdk/bKObTH3BHRmFkFAANqGyoJ9rdyGAmwvNXtvo5NPRJDLTpaCQJK09/zMW1FiGc1DkQyCjgXFGegqKNyBWI9bjoWYm0BdKB5L402qEeVC4/vWB7rvYzK4itcv34FY4D2SxMpIgfMohduI5DTQl25kwGm2I06eNEhEZSwg3Nh3lMayezq5qkkGVOuvicH8rRdfFSaUQ2h8zl/SgyJ++TyZyz8dZLpTE7deq0Or7845fx+Zbr+Nz1X+Zya5KIMAkJnd9veZinKlfz8+euLeOBvHyc5zJSwM+FEAr4rFLqnrOuYMDZozy/fRRtQqMO0tUxJl20nIs+nPbXsDrOuffglIdyHLT+MeqfjDAxGOEn67eST+ziUmuQpNR5RXInraFRvl5zC9I0liUp13mhHFHq+PDvFPaxc8XLZvGyWYxMlvZiG2ObIuy+vIXNxi5CmoclDO6MTXBHdBs/qr120epxVpzfMrpeKdUjhKgDfiGE2KuU+vXURiHEu4F3A4Q4tZtjwDniumAXMSYKCFdhDGeR2TxqdAyvUFiYoW1p8scbGSWxXWKk63j2lhbqzDQbzSFqhcYNoWEuNAf5UuIWf4nRMkSCOj+U48kIgd7SjKqIwsAw7nD5BPZnjSbxQhqu6ac81UoGZlu5PFP0OFBswFgeG/H8OY9kpJTqKf0dFEJ8H7gS+PWM7fcA9wBUiKqV4Vv2QsYwyTZHKCQ0wmENMxXCcF3EZMYfei/UJJYQICVKCjwlsJWGq0Rp2ZDCLnlyCUNflgXh56VyFJpGcVUtmSaLpFKw4A++hhPWcEMCQ/hpKCUSW7k8kL6QR0c7sMZW9jN6vshICBEFpFIqXfr+CuBjC1vZgHkj/ViLk00auXqBE9KxJjQSkzHEkAm2g1oI5TilGHUNJLhKkPcMPAQeHnmlyCvdj06vacuS1O20ylEI0Qp8BajHtw3do5T6lBCiCvgWsAroBO5USo0tXlUBqaHX1aAqYvRdFibd4VJIVpNsuAyrexz3wOFz6vbLeBxZU0V+dQ191+nYLXlWmUPTScw9PJ5PN7G/r47a9PFufl5l2cU2iuQBQTOrAQhkNK+hUD3wfeH3PHXg60qp+86mbke+cXHZ8tVvee5sTndWnMqro/iL9rLlf976XUb7Cnz+Tw+QGrERAl5yZz1Ocmzp25DngVda96pgsh3SmiBbV0lkY4LIQBGrawSKtm/Dtv0lPFMz06dsW0L4EX90HRGNQE0VExdVM9misalijBZzDBfBuOfwq+wq9uaasMbwFfJ8gvIuMPPpOTrAh5VSTwsh4sBTQohfAO8AHlRKfUIIcTdwN/CRxauqH2OusLGZTKNJ3e3H+FzH9/jYRa9l1/4W6h6uo7KrG2U7Z93tlzVVTFzWwMgFGn/x299ma6ibDh0sYSIR2Mrj6Z4W9OejRPpz08cJBOu4iApRiaNsnuRB8Ff43U0go1OilDoMlNdqLyKkJnjT3ato3xIjN+nyV7/9HFITsMRtSCmF8jw/nYEHNZcN8IrGvRzK1jCYi3Pg2VYaH2nAGnew+tLIXAFvcNhf52g7QBkFKUrJuAzdj0JfEcerq2RyTQW9L1fE6se5pWo366x+AHpdiy93X8vhrjpajrp42ezKVI5KqT6gr/Q9LYTYAzQDdwA3lXb7MvArFvnBB1CawDMECTNHq1bgssqjjLeFGdpQT+y6C5CuB65CTP0+nkJP5cF2ENk8uC5efRVudPYKvLGWEGMbJYXVedabAzRoLqBRUDajnkOvE6YwGqZqSKFNFqe7+ZYIY5XmZXVhEFFxMqQhkNGKzzC3UkjWmSTrfHmHYxqNHWF6D+VgKduQUv56xaJNeNTFtTRyRQNDuKyJDNMSGqe3o4KhTBI9axEaNdFzEB6uQyt4GKN5ZNFBTGaheDxavIpFUBELN2Zhxw2KcUm+SpKtF9S0DNOeGCWpZfGU5Nl8C312JYe76ogcMgmN5Pxe6TJwRjZHIcQq4BLgCaC+pDgB+vGHR4uLlHiGxDUgYeSp0cJ8sGob76l8gq+1XMx3tl6K6wkc93j+k1zeQByqwkgL4l0eekHR+xJBbNXsqDGrK/t4Z91ztBojXGDaGMJk1C0w7knuz1zAnkwjid06tdsmkL1DZdd55VSGNOMYWBDIaF5rKQNOZLg7z9E9GaIJHZa4DSm7iJf2iG/vIVoVZ++lFYw0R7mxYi9XWIO8o+ox0hcbZJTJuBuhq1jLQ6Pr6JlMMLinFjMliR+pwkp7iJJSm1ilk2tQOE0FNrb2sDYywRUVR0hqGdYYQxjCI680htw4n+18CX39lbT8RKPiyU7ffXCZ4oPOWzkKIWLAd4EPKqVSQhxf4KuUUqU1auWOW7hlGJ6HtD00G9KOxaRXICINKtC4OHSUrroabCVxvOMP/lgxzHNOC8VJA8/ws5+F2ya4vOHYrNOvjw5wWaiLhLSxRJiCsulywvQ4ldw3sIXO4Soqhzy0iUzZmHOOctjBY2xgK0fYe8K2QEYB8yGfcfn39+/jzX++mv/+TPcJ25aqDSnXRWWySE1iDFXy6OBqOsJD3BAaJi4lhi6wVZ6sytCm+3bCw+FafjEZIZ+2AJNcRpv21880e4j6AqvrR7i++hAt5ghbQ92EhEtcKLIKdhcaOViop7evErPHJDyYwxsZxSsuX76ieSlHIYSBrxjvVUp9r1Q8IIRoVEr1CSEagbKW6IVchqFcD6t/EuFF2T3YwC/qGtlq9bJGD3NtKM3m+gdnHWMrGG01ySudtBfGRdCqj1MlZy8NCAlBXJpIwkgEA67DP/fdxq7BBhJfi9OxexQGe3BTk7NsIJ7y2MFjNNBGnWjmiNobyGgZ7ETnM47t8e/v38dVt9dy2Suqp5TjkrchlMKdSCGyWTq+lyD/SBX/9o6buOGKA1RJh1pNwxJ+BPCI4VITf55CDF5f+RQZZdJjV1HwDFwEnpLUGxMktQy1WpomrYApBBGhARp55XLMjvPxXbeR7YvR+gtF9Mg4onsAd6HWVZ4l85mtFsAXgD1KqX+cselHwNuBT5T+/nBRajgT5SGyefRJk8xwhAfHN2MndFzrGCHhEZV+tjMNgRTC/4ukTZ/y+53qyYROOO3M2HRpr8jUHGunk2DPUD2Z3jgth9K4ew6Ur5ZS7GY7UeK0i/UzNwUyCpgXSim+9BeHaOwI88rfa5q5aenbEIDnoooees8wkUycQl8VD2U20GENsNkYJioFMWEgkdRqVilXzCQ2is3GMDYCVwk8BBHhYgj/xRoRx+3Yk8qm19HZVWgm0x8l0qMR6U4hegbxJjPLni5BqNNUQAhxPfAbYCdMPxN/jm93/DbQBnThLzEYPdW5KkSVukq8/JwqLEMhRMjC3dhOvibE6GadTJuLVZ9lS0MfEb1I0sgR0wo0mhPUG+O8MtJ/ylwpg26GY47BzkILPx/ZQrE05Nw/UkvkOwniRwsYz3fijpVfQTGuhtnOr4iRmC5zcckxWUMgozl5Qj1ISo2ekQP2QshnJquenPueO68sP9sujLnDafS+f+6AQnqm/LNW+5nHVlwbmkJYFkLXcS9ay2R7mOGLBLWXDnBBVR+/U/MY1TJHk6aQQuCVdElGeXhAXvkKUitZAkJCERKCtKcYcsP8Jruezz1/HW5/hLafOYT6M4ij/XiTGZRjz0s5nk0bmi/zma1+GJjr4gvXSueJl89DPo98dj9R00QrrkfPmExOxtjpNWFZNvFQgYhh0xIdp9FKsMXsx9YyaKXbkCV7qacULopOx+RAsYHt6dU829eM5wmUEthDYZr2ppFd/aeMKZcUNdzMG04oe0I9iFJqhEBGAfNgpbWhKVShgCoU0HcdofJIGE9bTW9NNUVH56JYNw36BLYxhCXcaSVoKw0XQV5peEriInCRmLgYwmXEjXLMruapiXbojBLvFUQODOMNDOGuoDSt56WHDIBXtBGOQ3hXL6HuGG5FiGLCxDNCuKEKJg3BzkgLz4YF/9V8HW5I4SUcpOlimA6a5pEdjaBNaGh5gZ4RWGOKui5nepZNzxaRnX3+m+w8tJ8FMgpYKLxsFlEsUvXEALHeSuxYki/VvAY3BIWkwDOgWOmhDIXSSz0+TYFQiJyGzEv0HOhZgZYHI60wJxWrjmbR0gW8oRF/Am8Zou/MxXmrHPH8MEhOTy/0+EUmfi4VGYmAaSCiEVTIotCSwI5pZBoMnLCJEwbPgJpuRbTfQct76FkbbWQS9+CRE7rz5/XjHsgoYIGYjopz8AjawSPouk7ENBGRMNRV40UtJtsiuJbACUmUBq4hQII5oTAnPUKjRYzBSUQ2jzc6DraNVyhMD8dXGuevcpwD5bp4uTyiWPQXoho6oUIRy9CJdIdRhoanS5QuMcbziMkcwnZ8d6j88s6OLRWBjALOFT+0WdF3NQQ0w6AiFUMZOugSJUTpL8i8jSg4iHwBNVlyOcwXljU/zHx4wSlHlELZRZQN5PN+2ciJ9uup0P0rpwO/xAQyCjhXSmHHlOMcb0MnZ+aYsluX9j/feOEpx4AXNCJkoXWsK7vtbJYRzTUjfSrca7fMua3xHx494/O9YDkPFeJMVlSOqICAgICVQqAcAwICAsoQKMeAgICAMgTKMSAgIKAMgXIMCAgIKEOgHAMCAgLKcNrAEwt6MSGGgAwwvGQXXRpqmH1P7Uqp2jM90QtURuXkA2cho5J8uuZx7qViMa8ftKETWbDnbD4sqXIEEEJsV0rNHbrkPGSh7+mFJqPFvJ/lltVyX38uVmq9zoWlvqdgWB0QEBBQhkA5BgQEBJRhOZTjPctwzcVmoe/phSajxbyf5ZbVcl9/LlZqvc6FJb2nJbc5BgQEBJwPBMPqgICAgDIsmXIUQrxKCLFPCHFQCHH3Ul13IRFCtAohfimE2C2E2CWE+ECp/KNCiB4hxLOlz21nef5ARvO/zrLLSgjRKYTYWbqf7ctRh3KsBNmcC0vVhk6LUmrRP4AGHAI68INRPwdsXoprL/B9NAKXlr7Hgf3AZuCjwJ8EMlpcGa00WQGdQM1yy3wlymalt6H5fJaq53glcFApdVgpVQS+CdyxRNdeMJRSfUqpp0vf08AeoHmBTh/IaP68IGS1SJz3slmiNnRalko5NgPHZvzfzTLc7EIihFgFXIKfohbgfUKIHUKILwohKs/ilIGM5s9KkZUCfi6EeEoI8e5luH45VopsFoRFbEOnJZiQOQuEEDHgu8AHlVIp4D+ANcBW/GDx/7B8tVsZvEhkdL1S6lLgVuC9QoiXLHeFXkgsdxtaKuXYA7TO+L+F6Xx45xdCCAP/B7tXKfU9AKXUgFLKVUp5wOfwhzZnSiCj+bMiZKWU6in9HQS+z7nd00KxImRzrixBGzotS6UctwHrhBCrhRAm8GbgR0t07QVDCCGALwB7lFL/OKO8ccZurwOeP4vTBzKaP8suKyFEVAgRn/oOvIJzu6eFYtllc64sURs6LUuSYEsp5Qgh3gfcjz+b9kWl1K6luPYCcx3wu8BOIcSzpbI/B94ihNiKb4PqBP7wTE8cyGj+rBBZ1QPf959jdODrSqn7lrgOs1ghsjlXFr0NzYfAQyYgICCgDMGETEBAQEAZAuUYEBAQUIZAOQYEBASUIVCOAQEBAWUIlGNAQEBAGQLlGBAQEFCGQDkGBAQElCFQjgEBAQFl+P8BZOE3kh535OUAAAAASUVORK5CYII=",
            "text/plain": [
              "<Figure size 360x360 with 16 Axes>"
            ]
          },
          "metadata": {
            "needs_background": "light"
          },
          "output_type": "display_data"
        }
      ],
      "source": [
        "f,axes= plt.subplots(4,4,figsize=(5,5))\n",
        "axes[0,0].set_title(\"Original Image\")\n",
        "axes[0,1].set_title(\"Dirty Image\")\n",
        "axes[0,2].set_title(\"Latent Space\")\n",
        "axes[0,3].set_title(\"Cleaned Image\")\n",
        "for i, noise in enumerate([\"gaussian\", \"speckle\", \"salt_pepper\", \"\"]):\n",
        "    clean = xtest_all[51]\n",
        "    dirty = add_noise(np.array(clean), noise, 0.8)\n",
        "    predicted = best_model_all(torch.tensor(dirty.flatten()).type(torch.FloatTensor))\n",
        "\n",
        "    axes[i, 0].imshow(clean)\n",
        "    axes[i, 1].imshow(dirty.reshape((28, 28)))\n",
        "    axes[i, 2].imshow(predicted.detach().numpy().reshape((28, 28)))"
      ]
    },
    {
      "cell_type": "markdown",
      "metadata": {},
      "source": [
        "Nous observons que le modèle possédant toutes les classes est capable de reconstituer les images malgré un bruit important. \n",
        "Le précédent modèle n'ayant pas eu d'images autre que 1 et 7 n'était pas capable de reconstituer des images d'autres chiffres. Ici, on observe bien le principe d'apprentissage de représentation via la zone latente, où multiples classes sont apprises par l'encodeur et ainsi reconstituées par le décodeur."
      ]
    },
    {
      "cell_type": "code",
      "execution_count": 52,
      "metadata": {},
      "outputs": [
        {
          "data": {
            "text/plain": [
              "<matplotlib.image.AxesImage at 0x740c6396a5f0>"
            ]
          },
          "execution_count": 52,
          "metadata": {},
          "output_type": "execute_result"
        },
        {
          "data": {
            "image/png": "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",
            "text/plain": [
              "<Figure size 432x288 with 1 Axes>"
            ]
          },
          "metadata": {
            "needs_background": "light"
          },
          "output_type": "display_data"
        }
      ],
      "source": [
        "plt.imshow(best_model_all.encode(torch.tensor(dirty.flatten()).type(torch.FloatTensor)).detach().numpy().reshape((9, 9)))"
      ]
    },
    {
      "cell_type": "markdown",
      "metadata": {},
      "source": [
        "Il est possible d'extraire la zone latente entre l'encodeur et le decodeur. Cette zone latente est la version la plus réduite de l'image (9x9 pixels contre 28x28 à l'origine). C'est ce type de données qui va permettre au modèle de réaliser l'apprentissage de représentation. Ce type de données sera utilisé plus tard dans l'étude pour faire un Encodeur-CNN : \n",
        "\n",
        "- un classifieur ayant comme architecture encodeur -> zone latente -> input pour CNN -> multi-classification."
      ]
    },
    {
      "cell_type": "markdown",
      "metadata": {},
      "source": [
        "# <span style=\"color:red\">LA SUITE LE CODE N'EST PAS FINIT"
      ]
    },
    {
      "cell_type": "code",
      "execution_count": 382,
      "metadata": {},
      "outputs": [
        {
          "data": {
            "text/plain": [
              "<All keys matched successfully>"
            ]
          },
          "execution_count": 382,
          "metadata": {},
          "output_type": "execute_result"
        }
      ],
      "source": [
        "best_model_all.load_state_dict(torch.load(\"model_all\", map_location=device))"
      ]
    },
    {
      "cell_type": "code",
      "execution_count": 407,
      "metadata": {},
      "outputs": [],
      "source": [
        "def train_test_classifier(\n",
        "        model: torch.nn.Module, \n",
        "        optimizer: torch.optim.Optimizer, \n",
        "        criterion: torch.nn.Module, \n",
        "        epochs: int,\n",
        "        device: str,\n",
        "        trainloader: torch.utils.data.DataLoader):\n",
        "    \"\"\"\n",
        "    Fonction pour entraîner / tester un modèle.\n",
        "\n",
        "    Parameters:\n",
        "    -----------\n",
        "    model : torch.nn.Module\n",
        "        Le modèle à entraîner.\n",
        "    optimizer : torch.optim.Optimizer\n",
        "        L'optimiseur utilisé pour la mise à jour des poids du modèle.\n",
        "    criterion : torch.nn.Module\n",
        "        La fonction de perte utilisée pour évaluer la différence entre les prédictions et les vraies étiquettes.\n",
        "    epochs : int\n",
        "        Le nombre d'époques d'entraînement.\n",
        "    device : str\n",
        "        L'appareil sur lequel exécuter l'entraînement, par exemple 'cuda' pour GPU ou 'cpu' pour CPU.\n",
        "    trainloader : torch.utils.data.DataLoader\n",
        "        Le DataLoader contenant les données d'entraînement.\n",
        "    testset : torch.utils.data.Dataset\n",
        "        Le jeu de données de test utilisé pour évaluer le modèle après chaque époque.\n",
        "\n",
        "    Returns:\n",
        "    --------\n",
        "    true_error : float\n",
        "        L'erreur moyenne quadratique sur le jeu de données de test.\n",
        "    losslist : list\n",
        "        Liste des valeurs de la fonction de perte moyenne sur les données d'entraînement pour chaque époque.\n",
        "    \"\"\"\n",
        "    model.train()\n",
        "    losslist = []\n",
        "    for epoch in tqdm(range(epochs)):\n",
        "        running_loss = 0\n",
        "        for output, label in trainloader:  \n",
        "            optimizer.zero_grad()\n",
        "\n",
        "            # Forward pass\n",
        "            output = model(output)\n",
        "            label = label.clone().detach()\n",
        "            loss = criterion(output, label)\n",
        "\n",
        "            # Rétropropagation\n",
        "            loss.backward()\n",
        "            optimizer.step()\n",
        "            \n",
        "            running_loss += loss.item()\n",
        "\n",
        "        # Calcul de la perte moyenne pour cette époque\n",
        "        losslist.append(running_loss/len(trainloader))\n",
        "\n",
        "    # Calcul de l'erreur moyenne quadratique sur le jeu de données de test\n",
        "\n",
        "    return losslist"
      ]
    },
    {
      "cell_type": "code",
      "execution_count": 408,
      "metadata": {},
      "outputs": [],
      "source": [
        "class small_classifier(nn.Module):\n",
        "    def __init__(self, hidden_size, hidden_nb, input_size=81, output_size=10) -> None:\n",
        "        super().__init__()\n",
        "\n",
        "        sequence_input = [nn.Linear(input_size, hidden_size), nn.ReLU()]\n",
        "        sequence_output = [nn.Linear(hidden_size, output_size), nn.Softmax(dim=1)]\n",
        "        sequence_hidden = []\n",
        "        for i in range(hidden_nb):\n",
        "            sequence_hidden.append(nn.Linear(hidden_size, hidden_size))\n",
        "            sequence_hidden.append(nn.ReLU())\n",
        "\n",
        "        classif_sequence = sequence_input + sequence_hidden + sequence_output\n",
        "            \n",
        "        self.classifier = nn.Sequential(\n",
        "            *classif_sequence\n",
        "        )\n",
        "    \n",
        "    def forward(self, x):\n",
        "        return self.classifier(x)"
      ]
    },
    {
      "cell_type": "code",
      "execution_count": 409,
      "metadata": {},
      "outputs": [],
      "source": [
        "# # on enregistre les résultats pour ne pas devoir refaire la gridsearch\n",
        "# with open(\"output_gridsearch_classif.json\", \"w+\") as file:\n",
        "#     file.write(json.dumps(results, indent=1))\n",
        "\n",
        "# on lit les résultats de l'ancienne gridsearch\n",
        "with open(\"output_gridsearch_classif.json\") as file:\n",
        "    results = json.loads(file.read())"
      ]
    },
    {
      "cell_type": "code",
      "execution_count": 416,
      "metadata": {},
      "outputs": [
        {
          "name": "stdout",
          "output_type": "stream",
          "text": [
            "small_classifier(\n",
            "  (classifier): Sequential(\n",
            "    (0): Linear(in_features=81, out_features=50, bias=True)\n",
            "    (1): ReLU()\n",
            "    (2): Linear(in_features=50, out_features=50, bias=True)\n",
            "    (3): ReLU()\n",
            "    (4): Linear(in_features=50, out_features=50, bias=True)\n",
            "    (5): ReLU()\n",
            "    (6): Linear(in_features=50, out_features=50, bias=True)\n",
            "    (7): ReLU()\n",
            "    (8): Linear(in_features=50, out_features=50, bias=True)\n",
            "    (9): ReLU()\n",
            "    (10): Linear(in_features=50, out_features=50, bias=True)\n",
            "    (11): ReLU()\n",
            "    (12): Linear(in_features=50, out_features=10, bias=True)\n",
            "    (13): Softmax(dim=1)\n",
            "  )\n",
            ")\n"
          ]
        }
      ],
      "source": [
        "classifier_test = small_classifier(**[results[str(j)][\"params\"] for j in range(21) if results[str(j)][\"true_error\"] == min([results[str(i)][\"true_error\"] for i in range(21)])][0])\n",
        "classif_optim = optim.Adam(classifier_test.parameters(), 5e-5)\n",
        "classif_crite = nn.CrossEntropyLoss()\n",
        "batch_size=16\n",
        "print(classifier_test)"
      ]
    },
    {
      "cell_type": "code",
      "execution_count": 417,
      "metadata": {},
      "outputs": [],
      "source": [
        "# encoder_output = []\n",
        "# for img in tqdm(traindata_all):\n",
        "#     encoder_output.append(best_model_all.encode(torch.tensor(img.flatten()).type(torch.float32)).clone().detach())\n",
        "# training_data = DataLoader(list(zip(encoder_output, ytrain_all)), batch_size=batch_size, shuffle=False)"
      ]
    },
    {
      "cell_type": "code",
      "execution_count": 418,
      "metadata": {},
      "outputs": [
        {
          "name": "stderr",
          "output_type": "stream",
          "text": [
            "100%|██████████| 120/120 [12:06<00:00,  6.05s/it]\n"
          ]
        }
      ],
      "source": [
        "losslist_classif = train_test_classifier(classifier_test, classif_optim, classif_crite, 120, device, training_data)"
      ]
    },
    {
      "cell_type": "code",
      "execution_count": 419,
      "metadata": {},
      "outputs": [
        {
          "data": {
            "text/plain": [
              "[<matplotlib.lines.Line2D at 0x779539baca90>]"
            ]
          },
          "execution_count": 419,
          "metadata": {},
          "output_type": "execute_result"
        },
        {
          "data": {
            "image/png": "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",
            "text/plain": [
              "<Figure size 432x288 with 1 Axes>"
            ]
          },
          "metadata": {
            "needs_background": "light"
          },
          "output_type": "display_data"
        }
      ],
      "source": [
        "plt.plot(losslist_classif)"
      ]
    },
    {
      "cell_type": "code",
      "execution_count": 420,
      "metadata": {},
      "outputs": [],
      "source": [
        "# encode_xtest_all = []\n",
        "# for img in tqdm(xtest_all):\n",
        "#     encode_xtest_all.append(best_model_all.encode(torch.tensor(img.flatten()).type(torch.float32)).view(-1, 9, 9).clone().detach())"
      ]
    },
    {
      "cell_type": "code",
      "execution_count": 421,
      "metadata": {},
      "outputs": [
        {
          "data": {
            "text/plain": [
              "0.0507"
            ]
          },
          "execution_count": 421,
          "metadata": {},
          "output_type": "execute_result"
        }
      ],
      "source": [
        "true_error_func(classifier_test, [encode_xtest_all[i].view(1, -1).type(torch.float32) for i in range(len(encode_xtest_all))], ytest_all)"
      ]
    },
    {
      "cell_type": "code",
      "execution_count": 267,
      "metadata": {},
      "outputs": [],
      "source": [
        "class CNN(nn.Module):\n",
        "    def __init__(self):\n",
        "        super(CNN, self).__init__()\n",
        "        self.conv1 = nn.Conv2d(1, 1, kernel_size=5, stride=1, padding=2)\n",
        "        self.conv2 = nn.Conv2d(1, 1, kernel_size=2, stride=1)\n",
        "        self.fc = nn.Linear(1 * 6 * 6, 10)\n",
        "\n",
        "    def forward(self, x):\n",
        "        x = x.view(-1, 1, 28, 28)\n",
        "        x = torch.nn.functional.relu(self.conv1(x))\n",
        "        x = torch.nn.functional.max_pool2d(x, kernel_size=2, stride=2)\n",
        "        x = torch.nn.functional.relu(self.conv2(x))\n",
        "        x = torch.nn.functional.max_pool2d(x, kernel_size=2, stride=2)\n",
        "        x = x.view(-1, 1 * 6 * 6)\n",
        "        x = self.fc(x)\n",
        "        return x"
      ]
    },
    {
      "cell_type": "code",
      "execution_count": 268,
      "metadata": {},
      "outputs": [
        {
          "name": "stderr",
          "output_type": "stream",
          "text": [
            "100%|██████████| 60000/60000 [00:00<00:00, 99828.05it/s] \n"
          ]
        }
      ],
      "source": [
        "cnn_benchmark = CNN()\n",
        "bench_optim = optim.Adam(cnn_benchmark.parameters(), 1e-4)\n",
        "bench_crite = nn.CrossEntropyLoss()\n",
        "batch_size=128\n",
        "bench_data = []\n",
        "\n",
        "for img in tqdm(traindata_all):\n",
        "    bench_data.append(torch.tensor(img).type(torch.float32))\n",
        "bench_training_data = DataLoader(list(zip(bench_data, ytrain_all)), batch_size=batch_size, shuffle=False)"
      ]
    },
    {
      "cell_type": "code",
      "execution_count": 269,
      "metadata": {},
      "outputs": [
        {
          "name": "stderr",
          "output_type": "stream",
          "text": [
            "100%|██████████| 150/150 [06:15<00:00,  2.50s/it]\n"
          ]
        }
      ],
      "source": [
        "losslist_classif_benchmark = train_test_classifier(cnn_benchmark, bench_optim, bench_crite, 150, device, bench_training_data)"
      ]
    },
    {
      "cell_type": "code",
      "execution_count": 270,
      "metadata": {},
      "outputs": [
        {
          "data": {
            "text/plain": [
              "[<matplotlib.lines.Line2D at 0x779548d66590>]"
            ]
          },
          "execution_count": 270,
          "metadata": {},
          "output_type": "execute_result"
        },
        {
          "data": {
            "image/png": "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",
            "text/plain": [
              "<Figure size 432x288 with 1 Axes>"
            ]
          },
          "metadata": {
            "needs_background": "light"
          },
          "output_type": "display_data"
        }
      ],
      "source": [
        "plt.plot(losslist_classif_benchmark)"
      ]
    },
    {
      "cell_type": "code",
      "execution_count": 371,
      "metadata": {},
      "outputs": [],
      "source": [
        "def true_error_func(model, xtest, ytest):\n",
        "    assert len(xtest) == len(ytest), \"Pas la meme taille entre le x et y\"\n",
        "    true_error = 0\n",
        "    for i in range(len(xtest)):\n",
        "        true_error += 1 if ytest[i] != torch.argmax(model(xtest[i])) else 0\n",
        "    true_error /= len(xtest)\n",
        "    return true_error"
      ]
    },
    {
      "cell_type": "code",
      "execution_count": 366,
      "metadata": {},
      "outputs": [
        {
          "ename": "TypeError",
          "evalue": "view() takes from 0 to 2 positional arguments but 4 were given",
          "output_type": "error",
          "traceback": [
            "\u001b[0;31m---------------------------------------------------------------------------\u001b[0m",
            "\u001b[0;31mTypeError\u001b[0m                                 Traceback (most recent call last)",
            "Input \u001b[0;32mIn [366]\u001b[0m, in \u001b[0;36m<cell line: 1>\u001b[0;34m()\u001b[0m\n\u001b[0;32m----> 1\u001b[0m \u001b[43mtrue_error_func\u001b[49m\u001b[43m(\u001b[49m\u001b[43mcnn_benchmark\u001b[49m\u001b[43m,\u001b[49m\u001b[43m \u001b[49m\u001b[43mxtest_all\u001b[49m\u001b[43m,\u001b[49m\u001b[43m \u001b[49m\u001b[43mytest_all\u001b[49m\u001b[43m)\u001b[49m\n",
            "Input \u001b[0;32mIn [365]\u001b[0m, in \u001b[0;36mtrue_error_func\u001b[0;34m(model, xtest, ytest)\u001b[0m\n\u001b[1;32m      3\u001b[0m true_error \u001b[38;5;241m=\u001b[39m \u001b[38;5;241m0\u001b[39m\n\u001b[1;32m      4\u001b[0m \u001b[38;5;28;01mfor\u001b[39;00m i \u001b[38;5;129;01min\u001b[39;00m \u001b[38;5;28mrange\u001b[39m(\u001b[38;5;28mlen\u001b[39m(xtest)):\n\u001b[0;32m----> 5\u001b[0m     true_error \u001b[38;5;241m+\u001b[39m\u001b[38;5;241m=\u001b[39m \u001b[38;5;241m1\u001b[39m \u001b[38;5;28;01mif\u001b[39;00m ytest[i] \u001b[38;5;241m==\u001b[39m torch\u001b[38;5;241m.\u001b[39margmax(\u001b[43mmodel\u001b[49m\u001b[43m(\u001b[49m\u001b[43mxtest\u001b[49m\u001b[43m[\u001b[49m\u001b[43mi\u001b[49m\u001b[43m]\u001b[49m\u001b[43m)\u001b[49m) \u001b[38;5;28;01melse\u001b[39;00m \u001b[38;5;241m0\u001b[39m\n\u001b[1;32m      6\u001b[0m true_error \u001b[38;5;241m/\u001b[39m\u001b[38;5;241m=\u001b[39m \u001b[38;5;28mlen\u001b[39m(xtest)\n\u001b[1;32m      7\u001b[0m \u001b[38;5;28;01mreturn\u001b[39;00m true_error\n",
            "File \u001b[0;32m~/.local/lib/python3.10/site-packages/torch/nn/modules/module.py:1511\u001b[0m, in \u001b[0;36mModule._wrapped_call_impl\u001b[0;34m(self, *args, **kwargs)\u001b[0m\n\u001b[1;32m   1509\u001b[0m     \u001b[38;5;28;01mreturn\u001b[39;00m \u001b[38;5;28mself\u001b[39m\u001b[38;5;241m.\u001b[39m_compiled_call_impl(\u001b[38;5;241m*\u001b[39margs, \u001b[38;5;241m*\u001b[39m\u001b[38;5;241m*\u001b[39mkwargs)  \u001b[38;5;66;03m# type: ignore[misc]\u001b[39;00m\n\u001b[1;32m   1510\u001b[0m \u001b[38;5;28;01melse\u001b[39;00m:\n\u001b[0;32m-> 1511\u001b[0m     \u001b[38;5;28;01mreturn\u001b[39;00m \u001b[38;5;28;43mself\u001b[39;49m\u001b[38;5;241;43m.\u001b[39;49m\u001b[43m_call_impl\u001b[49m\u001b[43m(\u001b[49m\u001b[38;5;241;43m*\u001b[39;49m\u001b[43margs\u001b[49m\u001b[43m,\u001b[49m\u001b[43m \u001b[49m\u001b[38;5;241;43m*\u001b[39;49m\u001b[38;5;241;43m*\u001b[39;49m\u001b[43mkwargs\u001b[49m\u001b[43m)\u001b[49m\n",
            "File \u001b[0;32m~/.local/lib/python3.10/site-packages/torch/nn/modules/module.py:1520\u001b[0m, in \u001b[0;36mModule._call_impl\u001b[0;34m(self, *args, **kwargs)\u001b[0m\n\u001b[1;32m   1515\u001b[0m \u001b[38;5;66;03m# If we don't have any hooks, we want to skip the rest of the logic in\u001b[39;00m\n\u001b[1;32m   1516\u001b[0m \u001b[38;5;66;03m# this function, and just call forward.\u001b[39;00m\n\u001b[1;32m   1517\u001b[0m \u001b[38;5;28;01mif\u001b[39;00m \u001b[38;5;129;01mnot\u001b[39;00m (\u001b[38;5;28mself\u001b[39m\u001b[38;5;241m.\u001b[39m_backward_hooks \u001b[38;5;129;01mor\u001b[39;00m \u001b[38;5;28mself\u001b[39m\u001b[38;5;241m.\u001b[39m_backward_pre_hooks \u001b[38;5;129;01mor\u001b[39;00m \u001b[38;5;28mself\u001b[39m\u001b[38;5;241m.\u001b[39m_forward_hooks \u001b[38;5;129;01mor\u001b[39;00m \u001b[38;5;28mself\u001b[39m\u001b[38;5;241m.\u001b[39m_forward_pre_hooks\n\u001b[1;32m   1518\u001b[0m         \u001b[38;5;129;01mor\u001b[39;00m _global_backward_pre_hooks \u001b[38;5;129;01mor\u001b[39;00m _global_backward_hooks\n\u001b[1;32m   1519\u001b[0m         \u001b[38;5;129;01mor\u001b[39;00m _global_forward_hooks \u001b[38;5;129;01mor\u001b[39;00m _global_forward_pre_hooks):\n\u001b[0;32m-> 1520\u001b[0m     \u001b[38;5;28;01mreturn\u001b[39;00m \u001b[43mforward_call\u001b[49m\u001b[43m(\u001b[49m\u001b[38;5;241;43m*\u001b[39;49m\u001b[43margs\u001b[49m\u001b[43m,\u001b[49m\u001b[43m \u001b[49m\u001b[38;5;241;43m*\u001b[39;49m\u001b[38;5;241;43m*\u001b[39;49m\u001b[43mkwargs\u001b[49m\u001b[43m)\u001b[49m\n\u001b[1;32m   1522\u001b[0m \u001b[38;5;28;01mtry\u001b[39;00m:\n\u001b[1;32m   1523\u001b[0m     result \u001b[38;5;241m=\u001b[39m \u001b[38;5;28;01mNone\u001b[39;00m\n",
            "Input \u001b[0;32mIn [267]\u001b[0m, in \u001b[0;36mCNN.forward\u001b[0;34m(self, x)\u001b[0m\n\u001b[1;32m      8\u001b[0m \u001b[38;5;28;01mdef\u001b[39;00m \u001b[38;5;21mforward\u001b[39m(\u001b[38;5;28mself\u001b[39m, x):\n\u001b[0;32m----> 9\u001b[0m     x \u001b[38;5;241m=\u001b[39m \u001b[43mx\u001b[49m\u001b[38;5;241;43m.\u001b[39;49m\u001b[43mview\u001b[49m\u001b[43m(\u001b[49m\u001b[38;5;241;43m-\u001b[39;49m\u001b[38;5;241;43m1\u001b[39;49m\u001b[43m,\u001b[49m\u001b[43m \u001b[49m\u001b[38;5;241;43m1\u001b[39;49m\u001b[43m,\u001b[49m\u001b[43m \u001b[49m\u001b[38;5;241;43m28\u001b[39;49m\u001b[43m,\u001b[49m\u001b[43m \u001b[49m\u001b[38;5;241;43m28\u001b[39;49m\u001b[43m)\u001b[49m\n\u001b[1;32m     10\u001b[0m     x \u001b[38;5;241m=\u001b[39m torch\u001b[38;5;241m.\u001b[39mnn\u001b[38;5;241m.\u001b[39mfunctional\u001b[38;5;241m.\u001b[39mrelu(\u001b[38;5;28mself\u001b[39m\u001b[38;5;241m.\u001b[39mconv1(x))\n\u001b[1;32m     11\u001b[0m     x \u001b[38;5;241m=\u001b[39m torch\u001b[38;5;241m.\u001b[39mnn\u001b[38;5;241m.\u001b[39mfunctional\u001b[38;5;241m.\u001b[39mmax_pool2d(x, kernel_size\u001b[38;5;241m=\u001b[39m\u001b[38;5;241m2\u001b[39m, stride\u001b[38;5;241m=\u001b[39m\u001b[38;5;241m2\u001b[39m)\n",
            "\u001b[0;31mTypeError\u001b[0m: view() takes from 0 to 2 positional arguments but 4 were given"
          ]
        }
      ],
      "source": [
        "true_error_func(cnn_benchmark, xtest_all, ytest_all)"
      ]
    },
    {
      "cell_type": "code",
      "execution_count": 367,
      "metadata": {},
      "outputs": [
        {
          "data": {
            "text/plain": [
              "0.8913"
            ]
          },
          "execution_count": 367,
          "metadata": {},
          "output_type": "execute_result"
        }
      ],
      "source": [
        "true_error = 0\n",
        "for i in range(len(xtest_all)):\n",
        "    true_error += 1 if ytest_all[i] == torch.argmax(cnn_benchmark(torch.tensor(xtest_all[i]).type(torch.float32))) else 0\n",
        "true_error /= len(xtest_all)\n",
        "true_error"
      ]
    },
    {
      "cell_type": "code",
      "execution_count": 422,
      "metadata": {},
      "outputs": [],
      "source": [
        "torch.save(classifier_test.state_dict(), \"classifieur\")  # We save the model state dict at PATH   "
      ]
    },
    {
      "cell_type": "code",
      "execution_count": 275,
      "metadata": {},
      "outputs": [],
      "source": [
        "torch.save(cnn_benchmark.state_dict(), \"benchmark\")"
      ]
    },
    {
      "cell_type": "code",
      "execution_count": 373,
      "metadata": {},
      "outputs": [],
      "source": [
        "def gridsearch_classif(model_obj: nn.Module, \n",
        "               parameters: dict,\n",
        "               optimizer: optim.Optimizer,\n",
        "               criterion,\n",
        "               learning_rate :int,\n",
        "               epoch: int,\n",
        "               device: str,\n",
        "               trainloader: DataLoader,\n",
        "               xtestdata: Dataset,\n",
        "               ytestdata):\n",
        "    parameters = ParameterGrid(parameters)\n",
        "    results = {}\n",
        "    loss = criterion()\n",
        "\n",
        "    for i, params in enumerate(parameters):\n",
        "        tmp_model = model_obj(**params)\n",
        "        tmp_optim = optimizer(tmp_model.parameters(), lr=learning_rate)\n",
        "        tmp_result = train_test_classifier(tmp_model, tmp_optim, loss, epoch, device, trainloader)\n",
        "        error_result = true_error_func(tmp_model, xtestdata, ytestdata)\n",
        "        print(f\"\\tParams N°{i+1}/{len(parameters)} -> true error: {error_result} / {params=}\")\n",
        "        results[i] = {\n",
        "            \"params\": params,\n",
        "            \"true_error\": error_result,\n",
        "            \"training_error\": tmp_result\n",
        "        }\n",
        "\n",
        "    return results"
      ]
    },
    {
      "cell_type": "code",
      "execution_count": 374,
      "metadata": {},
      "outputs": [],
      "source": [
        "parameters = {\n",
        "    \"hidden_nb\": range(1, 6, 2),\n",
        "    \"hidden_size\": range(20, 81, 10),\n",
        "}"
      ]
    },
    {
      "cell_type": "code",
      "execution_count": 375,
      "metadata": {},
      "outputs": [
        {
          "name": "stdout",
          "output_type": "stream",
          "text": [
            "\tParams N°1/21 -> true error: 0.8991 / params={'hidden_nb': 1, 'hidden_size': 20}\n",
            "\tParams N°2/21 -> true error: 0.8731 / params={'hidden_nb': 1, 'hidden_size': 30}\n",
            "\tParams N°3/21 -> true error: 0.8782 / params={'hidden_nb': 1, 'hidden_size': 40}\n",
            "\tParams N°4/21 -> true error: 0.9016 / params={'hidden_nb': 1, 'hidden_size': 50}\n",
            "\tParams N°5/21 -> true error: 0.8734 / params={'hidden_nb': 1, 'hidden_size': 60}\n",
            "\tParams N°6/21 -> true error: 0.896 / params={'hidden_nb': 1, 'hidden_size': 70}\n",
            "\tParams N°7/21 -> true error: 0.8919 / params={'hidden_nb': 1, 'hidden_size': 80}\n",
            "\tParams N°8/21 -> true error: 0.9007 / params={'hidden_nb': 3, 'hidden_size': 20}\n",
            "\tParams N°9/21 -> true error: 0.891 / params={'hidden_nb': 3, 'hidden_size': 30}\n",
            "\tParams N°10/21 -> true error: 0.8989 / params={'hidden_nb': 3, 'hidden_size': 40}\n",
            "\tParams N°11/21 -> true error: 0.8989 / params={'hidden_nb': 3, 'hidden_size': 50}\n",
            "\tParams N°12/21 -> true error: 0.9028 / params={'hidden_nb': 3, 'hidden_size': 60}\n",
            "\tParams N°13/21 -> true error: 0.9233 / params={'hidden_nb': 3, 'hidden_size': 70}\n",
            "\tParams N°14/21 -> true error: 0.8893 / params={'hidden_nb': 3, 'hidden_size': 80}\n",
            "\tParams N°15/21 -> true error: 0.8978 / params={'hidden_nb': 5, 'hidden_size': 20}\n",
            "\tParams N°16/21 -> true error: 0.9322 / params={'hidden_nb': 5, 'hidden_size': 30}\n",
            "\tParams N°17/21 -> true error: 0.8985 / params={'hidden_nb': 5, 'hidden_size': 40}\n",
            "\tParams N°18/21 -> true error: 0.871 / params={'hidden_nb': 5, 'hidden_size': 50}\n",
            "\tParams N°19/21 -> true error: 0.9092 / params={'hidden_nb': 5, 'hidden_size': 60}\n",
            "\tParams N°20/21 -> true error: 0.8801 / params={'hidden_nb': 5, 'hidden_size': 70}\n",
            "\tParams N°21/21 -> true error: 0.9027 / params={'hidden_nb': 5, 'hidden_size': 80}\n"
          ]
        }
      ],
      "source": [
        "results = gridsearch_classif(small_classifier, parameters, optim.Adam, nn.MSELoss, 1e-4, 25, device, training_data, [encode_xtest_all[i].view(1, -1).type(torch.float32) for i in range(len(encode_xtest_all))], ytest_all)"
      ]
    },
    {
      "cell_type": "code",
      "execution_count": null,
      "metadata": {},
      "outputs": [],
      "source": []
    },
    {
      "cell_type": "markdown",
      "metadata": {},
      "source": [
        "## Discussion sur les performances de modèles Encodeur-CNN et Encodeur-MLP\n",
        "\n",
        "Après avoir testé notre Autoencodeur de débruitage, nous avons développé des architectures dérivées qui utilisent l'apprentissage de représentation de notre encodeur (nottament la zone latente) afin d'évaluer comment cette zone latente pouvait être utilisée à des fins de classification multiclasse.\n",
        "\n",
        "La première architecture que nous avons considéré est la suivante :\n",
        "\n",
        "```\n",
        " ____________________________________________________________________________________________\n",
        "|                   Classification Encoder-CNN model (simplified version)                    |\n",
        "|____________________________________________________________________________________________|\n",
        "|                                                                                            |\n",
        "|                   Encoder (Input: img_size)                                                |\n",
        "|   Input --> Hidden Layers (ReLU) ... --> Output (latent zone)                              |\n",
        "|                                                                                            |\n",
        "|                   CNN (Input: latent_size)                                                 |\n",
        "|   Input (latent zone) --> Conv2D Hidden Layers (MaxPooling2D) ... --> Output (Softmax)     |\n",
        "|                                                                                            |\n",
        "|____________________________________________________________________________________________|\n",
        "```\n",
        "\n",
        "Le but est que le decodeur CNN puisse utiliser la zone latente pour extraire des informations de cette dernière et effectuer une classification.\n",
        "Les résultats montrent que cette architecture ne permet pas de bien classifier les chiffres dans leur représentation de zone latente. Nous pouvons penser que c'est à cause du manque d'information contextuelle de l'image qui ne permet pas au CNN d'extraire des informations nécessaire à la reconnaissance du chiffre. En observant l'image de la zone latente on voit bien que l'image manque de patterns et d'informations. En effet, les CNN sont conçus pour apprendre des représentations hiérarchiques des caractéristiques spatiales, en commençant par des bords et des textures simples jusqu'à des formes complexes et des parties d'objets. Si les données ne présentent pas cette structure hiérarchique, les couches supplémentaires dans les CNN pourraient ne pas apporter d'avantages significatifs. Une architecture trop complexe comme les CNN serait alors inutile pour ce genre de classification.\n",
        "\n",
        "\n",
        "La seconde architecture que nous avons considéré est la suivante :\n",
        "\n",
        "```\n",
        " ____________________________________________________________________________________________\n",
        "|                   Classification Encoder-MLP model (simplified version)                    |\n",
        "|____________________________________________________________________________________________|\n",
        "|                                                                                            |\n",
        "|                   Encoder (Input: img_size)                                                |\n",
        "|   Input --> Hidden Layers (ReLU) ... --> Output (latent zone)                              |\n",
        "|                                                                                            |\n",
        "|                   MLP (Input: latent_size)                                                 |\n",
        "|   Input (latent zone) --> Linear Layers (ReLU) ... --> Output (Softmax)                    |\n",
        "|                                                                                            |\n",
        "|____________________________________________________________________________________________|\n",
        "```\n",
        "\n",
        "De même que pour l'architecture précédente le but est que le decodeur MLP puisse utiliser la zone latente pour extraire des informations de cette dernière et effectuer une classification. Contrairement à l'étude précédente, les résultats sont très bons. Les MLP sont des réseaux entièrement connectés et peuvent apprendre des relations non linéaires complexes entre les caractéristiques d'entrée. Ils ne sont pas contraints par les relations spatiales dans les données, contrairement aux CNN qui supposent des corrélations spatiales locales dans l'entrée. Dans un espace de petite dimension comme la zone latente, les caractéristiques pertinentes pour la classification ne sont pas facilement discernables au niveau des pixels mais émergent plutôt d'une combinaison de valeurs de pixels, les MLP, grace à leur couches cachées peuvent avoir une meilleure compréhension de l'information, sans avoir a chercher des informations contextuelles. Dans ce cas, l'architecture simpliste des MLP correspond à la nature très simple des données de la zone latente.\n",
        "\n",
        "\n"
      ]
    }
  ],
  "metadata": {
    "accelerator": "GPU",
    "colab": {
      "collapsed_sections": [],
      "name": "DenoisingAutoencoder.ipynb",
      "provenance": [],
      "version": "0.3.2"
    },
    "kernelspec": {
      "display_name": "Python 3",
      "name": "python3"
    },
    "language_info": {
      "codemirror_mode": {
        "name": "ipython",
        "version": 3
      },
      "file_extension": ".py",
      "mimetype": "text/x-python",
      "name": "python",
      "nbconvert_exporter": "python",
      "pygments_lexer": "ipython3",
      "version": "3.12.0"
    }
  },
  "nbformat": 4,
  "nbformat_minor": 0
}
